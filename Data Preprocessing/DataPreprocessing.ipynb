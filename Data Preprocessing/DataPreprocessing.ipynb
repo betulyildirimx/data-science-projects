{
 "cells": [
  {
   "cell_type": "markdown",
   "metadata": {},
   "source": [
    "# Analyzing borrowers’ risk of defaulting\n",
    "\n",
    "Your project is to prepare a report for a bank’s loan division. You’ll need to find out if a customer’s marital status and number of children has an impact on whether they will default on a loan. The bank already has some data on customers’ credit worthiness.\n",
    "\n",
    "Your report will be considered when building the **credit score** of a potential customer. The **credit score** is used to evaluate the ability of a potential borrower to repay their loan.\n"
   ]
  },
  {
   "cell_type": "markdown",
   "metadata": {},
   "source": [
    "## Open the data file and have a look at the general information. \n"
   ]
  },
  {
   "cell_type": "code",
   "execution_count": 2,
   "metadata": {},
   "outputs": [],
   "source": [
    "# Loading all the libraries\n",
    "import pandas as pd\n",
    "\n",
    "# Load the data\n",
    "try:\n",
    "    customer_info = pd.read_csv('credit_scoring_eng.csv')\n",
    "except:\n",
    "    customer_info = pd.read_csv('/datasets/credit_scoring_eng.csv') \n",
    "    \n"
   ]
  },
  {
   "cell_type": "markdown",
   "metadata": {},
   "source": [
    "## Task 1. Data exploration\n",
    "\n",
    "**Description of the data**\n",
    "- `children` - the number of children in the family\n",
    "- `days_employed` - work experience in days\n",
    "- `dob_years` - client's age in years\n",
    "- `education` - client's education\n",
    "- `education_id` - education identifier\n",
    "- `family_status` - marital status\n",
    "- `family_status_id` - marital status identifier\n",
    "- `gender` - gender of the client\n",
    "- `income_type` - type of employment\n",
    "- `debt` - was there any debt on loan repayment\n",
    "- `total_income` - monthly income\n",
    "- `purpose` - the purpose of obtaining a loan\n"
   ]
  },
  {
   "cell_type": "code",
   "execution_count": 3,
   "metadata": {},
   "outputs": [
    {
     "data": {
      "text/plain": [
       "(21525, 12)"
      ]
     },
     "execution_count": 3,
     "metadata": {},
     "output_type": "execute_result"
    }
   ],
   "source": [
    "# Let's see how many rows and columns our dataset has \n",
    "\n",
    "customer_info.shape"
   ]
  },
  {
   "cell_type": "code",
   "execution_count": 4,
   "metadata": {
    "scrolled": true
   },
   "outputs": [
    {
     "data": {
      "text/html": [
       "<div>\n",
       "<style scoped>\n",
       "    .dataframe tbody tr th:only-of-type {\n",
       "        vertical-align: middle;\n",
       "    }\n",
       "\n",
       "    .dataframe tbody tr th {\n",
       "        vertical-align: top;\n",
       "    }\n",
       "\n",
       "    .dataframe thead th {\n",
       "        text-align: right;\n",
       "    }\n",
       "</style>\n",
       "<table border=\"1\" class=\"dataframe\">\n",
       "  <thead>\n",
       "    <tr style=\"text-align: right;\">\n",
       "      <th></th>\n",
       "      <th>children</th>\n",
       "      <th>days_employed</th>\n",
       "      <th>dob_years</th>\n",
       "      <th>education</th>\n",
       "      <th>education_id</th>\n",
       "      <th>family_status</th>\n",
       "      <th>family_status_id</th>\n",
       "      <th>gender</th>\n",
       "      <th>income_type</th>\n",
       "      <th>debt</th>\n",
       "      <th>total_income</th>\n",
       "      <th>purpose</th>\n",
       "    </tr>\n",
       "  </thead>\n",
       "  <tbody>\n",
       "    <tr>\n",
       "      <th>0</th>\n",
       "      <td>1</td>\n",
       "      <td>-8437.673028</td>\n",
       "      <td>42</td>\n",
       "      <td>bachelor's degree</td>\n",
       "      <td>0</td>\n",
       "      <td>married</td>\n",
       "      <td>0</td>\n",
       "      <td>F</td>\n",
       "      <td>employee</td>\n",
       "      <td>0</td>\n",
       "      <td>40620.102</td>\n",
       "      <td>purchase of the house</td>\n",
       "    </tr>\n",
       "    <tr>\n",
       "      <th>1</th>\n",
       "      <td>1</td>\n",
       "      <td>-4024.803754</td>\n",
       "      <td>36</td>\n",
       "      <td>secondary education</td>\n",
       "      <td>1</td>\n",
       "      <td>married</td>\n",
       "      <td>0</td>\n",
       "      <td>F</td>\n",
       "      <td>employee</td>\n",
       "      <td>0</td>\n",
       "      <td>17932.802</td>\n",
       "      <td>car purchase</td>\n",
       "    </tr>\n",
       "    <tr>\n",
       "      <th>2</th>\n",
       "      <td>0</td>\n",
       "      <td>-5623.422610</td>\n",
       "      <td>33</td>\n",
       "      <td>Secondary Education</td>\n",
       "      <td>1</td>\n",
       "      <td>married</td>\n",
       "      <td>0</td>\n",
       "      <td>M</td>\n",
       "      <td>employee</td>\n",
       "      <td>0</td>\n",
       "      <td>23341.752</td>\n",
       "      <td>purchase of the house</td>\n",
       "    </tr>\n",
       "    <tr>\n",
       "      <th>3</th>\n",
       "      <td>3</td>\n",
       "      <td>-4124.747207</td>\n",
       "      <td>32</td>\n",
       "      <td>secondary education</td>\n",
       "      <td>1</td>\n",
       "      <td>married</td>\n",
       "      <td>0</td>\n",
       "      <td>M</td>\n",
       "      <td>employee</td>\n",
       "      <td>0</td>\n",
       "      <td>42820.568</td>\n",
       "      <td>supplementary education</td>\n",
       "    </tr>\n",
       "    <tr>\n",
       "      <th>4</th>\n",
       "      <td>0</td>\n",
       "      <td>340266.072047</td>\n",
       "      <td>53</td>\n",
       "      <td>secondary education</td>\n",
       "      <td>1</td>\n",
       "      <td>civil partnership</td>\n",
       "      <td>1</td>\n",
       "      <td>F</td>\n",
       "      <td>retiree</td>\n",
       "      <td>0</td>\n",
       "      <td>25378.572</td>\n",
       "      <td>to have a wedding</td>\n",
       "    </tr>\n",
       "    <tr>\n",
       "      <th>5</th>\n",
       "      <td>0</td>\n",
       "      <td>-926.185831</td>\n",
       "      <td>27</td>\n",
       "      <td>bachelor's degree</td>\n",
       "      <td>0</td>\n",
       "      <td>civil partnership</td>\n",
       "      <td>1</td>\n",
       "      <td>M</td>\n",
       "      <td>business</td>\n",
       "      <td>0</td>\n",
       "      <td>40922.170</td>\n",
       "      <td>purchase of the house</td>\n",
       "    </tr>\n",
       "    <tr>\n",
       "      <th>6</th>\n",
       "      <td>0</td>\n",
       "      <td>-2879.202052</td>\n",
       "      <td>43</td>\n",
       "      <td>bachelor's degree</td>\n",
       "      <td>0</td>\n",
       "      <td>married</td>\n",
       "      <td>0</td>\n",
       "      <td>F</td>\n",
       "      <td>business</td>\n",
       "      <td>0</td>\n",
       "      <td>38484.156</td>\n",
       "      <td>housing transactions</td>\n",
       "    </tr>\n",
       "    <tr>\n",
       "      <th>7</th>\n",
       "      <td>0</td>\n",
       "      <td>-152.779569</td>\n",
       "      <td>50</td>\n",
       "      <td>SECONDARY EDUCATION</td>\n",
       "      <td>1</td>\n",
       "      <td>married</td>\n",
       "      <td>0</td>\n",
       "      <td>M</td>\n",
       "      <td>employee</td>\n",
       "      <td>0</td>\n",
       "      <td>21731.829</td>\n",
       "      <td>education</td>\n",
       "    </tr>\n",
       "    <tr>\n",
       "      <th>8</th>\n",
       "      <td>2</td>\n",
       "      <td>-6929.865299</td>\n",
       "      <td>35</td>\n",
       "      <td>BACHELOR'S DEGREE</td>\n",
       "      <td>0</td>\n",
       "      <td>civil partnership</td>\n",
       "      <td>1</td>\n",
       "      <td>F</td>\n",
       "      <td>employee</td>\n",
       "      <td>0</td>\n",
       "      <td>15337.093</td>\n",
       "      <td>having a wedding</td>\n",
       "    </tr>\n",
       "    <tr>\n",
       "      <th>9</th>\n",
       "      <td>0</td>\n",
       "      <td>-2188.756445</td>\n",
       "      <td>41</td>\n",
       "      <td>secondary education</td>\n",
       "      <td>1</td>\n",
       "      <td>married</td>\n",
       "      <td>0</td>\n",
       "      <td>M</td>\n",
       "      <td>employee</td>\n",
       "      <td>0</td>\n",
       "      <td>23108.150</td>\n",
       "      <td>purchase of the house for my family</td>\n",
       "    </tr>\n",
       "  </tbody>\n",
       "</table>\n",
       "</div>"
      ],
      "text/plain": [
       "   children  days_employed  dob_years            education  education_id  \\\n",
       "0         1   -8437.673028         42    bachelor's degree             0   \n",
       "1         1   -4024.803754         36  secondary education             1   \n",
       "2         0   -5623.422610         33  Secondary Education             1   \n",
       "3         3   -4124.747207         32  secondary education             1   \n",
       "4         0  340266.072047         53  secondary education             1   \n",
       "5         0    -926.185831         27    bachelor's degree             0   \n",
       "6         0   -2879.202052         43    bachelor's degree             0   \n",
       "7         0    -152.779569         50  SECONDARY EDUCATION             1   \n",
       "8         2   -6929.865299         35    BACHELOR'S DEGREE             0   \n",
       "9         0   -2188.756445         41  secondary education             1   \n",
       "\n",
       "       family_status  family_status_id gender income_type  debt  total_income  \\\n",
       "0            married                 0      F    employee     0     40620.102   \n",
       "1            married                 0      F    employee     0     17932.802   \n",
       "2            married                 0      M    employee     0     23341.752   \n",
       "3            married                 0      M    employee     0     42820.568   \n",
       "4  civil partnership                 1      F     retiree     0     25378.572   \n",
       "5  civil partnership                 1      M    business     0     40922.170   \n",
       "6            married                 0      F    business     0     38484.156   \n",
       "7            married                 0      M    employee     0     21731.829   \n",
       "8  civil partnership                 1      F    employee     0     15337.093   \n",
       "9            married                 0      M    employee     0     23108.150   \n",
       "\n",
       "                               purpose  \n",
       "0                purchase of the house  \n",
       "1                         car purchase  \n",
       "2                purchase of the house  \n",
       "3              supplementary education  \n",
       "4                    to have a wedding  \n",
       "5                purchase of the house  \n",
       "6                 housing transactions  \n",
       "7                            education  \n",
       "8                     having a wedding  \n",
       "9  purchase of the house for my family  "
      ]
     },
     "execution_count": 4,
     "metadata": {},
     "output_type": "execute_result"
    }
   ],
   "source": [
    "# let's print the first N rows\n",
    "\n",
    "customer_info.head(10)"
   ]
  },
  {
   "cell_type": "markdown",
   "metadata": {},
   "source": [
    "\n",
    "There are lots of issues to be fixed before processing the data such as lower and upper case use in education column, negative values in days_employed column, or different values in purpose column that mean the same thing(ex: purchase of the house or purchase of the house for my family). "
   ]
  },
  {
   "cell_type": "code",
   "execution_count": 5,
   "metadata": {
    "scrolled": false
   },
   "outputs": [
    {
     "name": "stdout",
     "output_type": "stream",
     "text": [
      "<class 'pandas.core.frame.DataFrame'>\n",
      "RangeIndex: 21525 entries, 0 to 21524\n",
      "Data columns (total 12 columns):\n",
      " #   Column            Non-Null Count  Dtype  \n",
      "---  ------            --------------  -----  \n",
      " 0   children          21525 non-null  int64  \n",
      " 1   days_employed     19351 non-null  float64\n",
      " 2   dob_years         21525 non-null  int64  \n",
      " 3   education         21525 non-null  object \n",
      " 4   education_id      21525 non-null  int64  \n",
      " 5   family_status     21525 non-null  object \n",
      " 6   family_status_id  21525 non-null  int64  \n",
      " 7   gender            21525 non-null  object \n",
      " 8   income_type       21525 non-null  object \n",
      " 9   debt              21525 non-null  int64  \n",
      " 10  total_income      19351 non-null  float64\n",
      " 11  purpose           21525 non-null  object \n",
      "dtypes: float64(2), int64(5), object(5)\n",
      "memory usage: 2.0+ MB\n"
     ]
    },
    {
     "data": {
      "text/plain": [
       "children               0\n",
       "days_employed       2174\n",
       "dob_years              0\n",
       "education              0\n",
       "education_id           0\n",
       "family_status          0\n",
       "family_status_id       0\n",
       "gender                 0\n",
       "income_type            0\n",
       "debt                   0\n",
       "total_income        2174\n",
       "purpose                0\n",
       "dtype: int64"
      ]
     },
     "execution_count": 5,
     "metadata": {},
     "output_type": "execute_result"
    }
   ],
   "source": [
    "# Get info on data\n",
    "customer_info.info()\n",
    "customer_info.isna().sum()"
   ]
  },
  {
   "cell_type": "markdown",
   "metadata": {},
   "source": [
    "There are missing values in both days_employed and total_income column. "
   ]
  },
  {
   "cell_type": "code",
   "execution_count": 6,
   "metadata": {
    "scrolled": true
   },
   "outputs": [
    {
     "data": {
      "text/html": [
       "<div>\n",
       "<style scoped>\n",
       "    .dataframe tbody tr th:only-of-type {\n",
       "        vertical-align: middle;\n",
       "    }\n",
       "\n",
       "    .dataframe tbody tr th {\n",
       "        vertical-align: top;\n",
       "    }\n",
       "\n",
       "    .dataframe thead th {\n",
       "        text-align: right;\n",
       "    }\n",
       "</style>\n",
       "<table border=\"1\" class=\"dataframe\">\n",
       "  <thead>\n",
       "    <tr style=\"text-align: right;\">\n",
       "      <th></th>\n",
       "      <th>children</th>\n",
       "      <th>days_employed</th>\n",
       "      <th>dob_years</th>\n",
       "      <th>education</th>\n",
       "      <th>education_id</th>\n",
       "      <th>family_status</th>\n",
       "      <th>family_status_id</th>\n",
       "      <th>gender</th>\n",
       "      <th>income_type</th>\n",
       "      <th>debt</th>\n",
       "      <th>total_income</th>\n",
       "      <th>purpose</th>\n",
       "    </tr>\n",
       "  </thead>\n",
       "  <tbody>\n",
       "    <tr>\n",
       "      <th>12</th>\n",
       "      <td>0</td>\n",
       "      <td>NaN</td>\n",
       "      <td>65</td>\n",
       "      <td>secondary education</td>\n",
       "      <td>1</td>\n",
       "      <td>civil partnership</td>\n",
       "      <td>1</td>\n",
       "      <td>M</td>\n",
       "      <td>retiree</td>\n",
       "      <td>0</td>\n",
       "      <td>NaN</td>\n",
       "      <td>to have a wedding</td>\n",
       "    </tr>\n",
       "    <tr>\n",
       "      <th>26</th>\n",
       "      <td>0</td>\n",
       "      <td>NaN</td>\n",
       "      <td>41</td>\n",
       "      <td>secondary education</td>\n",
       "      <td>1</td>\n",
       "      <td>married</td>\n",
       "      <td>0</td>\n",
       "      <td>M</td>\n",
       "      <td>civil servant</td>\n",
       "      <td>0</td>\n",
       "      <td>NaN</td>\n",
       "      <td>education</td>\n",
       "    </tr>\n",
       "    <tr>\n",
       "      <th>29</th>\n",
       "      <td>0</td>\n",
       "      <td>NaN</td>\n",
       "      <td>63</td>\n",
       "      <td>secondary education</td>\n",
       "      <td>1</td>\n",
       "      <td>unmarried</td>\n",
       "      <td>4</td>\n",
       "      <td>F</td>\n",
       "      <td>retiree</td>\n",
       "      <td>0</td>\n",
       "      <td>NaN</td>\n",
       "      <td>building a real estate</td>\n",
       "    </tr>\n",
       "    <tr>\n",
       "      <th>41</th>\n",
       "      <td>0</td>\n",
       "      <td>NaN</td>\n",
       "      <td>50</td>\n",
       "      <td>secondary education</td>\n",
       "      <td>1</td>\n",
       "      <td>married</td>\n",
       "      <td>0</td>\n",
       "      <td>F</td>\n",
       "      <td>civil servant</td>\n",
       "      <td>0</td>\n",
       "      <td>NaN</td>\n",
       "      <td>second-hand car purchase</td>\n",
       "    </tr>\n",
       "    <tr>\n",
       "      <th>55</th>\n",
       "      <td>0</td>\n",
       "      <td>NaN</td>\n",
       "      <td>54</td>\n",
       "      <td>secondary education</td>\n",
       "      <td>1</td>\n",
       "      <td>civil partnership</td>\n",
       "      <td>1</td>\n",
       "      <td>F</td>\n",
       "      <td>retiree</td>\n",
       "      <td>1</td>\n",
       "      <td>NaN</td>\n",
       "      <td>to have a wedding</td>\n",
       "    </tr>\n",
       "    <tr>\n",
       "      <th>...</th>\n",
       "      <td>...</td>\n",
       "      <td>...</td>\n",
       "      <td>...</td>\n",
       "      <td>...</td>\n",
       "      <td>...</td>\n",
       "      <td>...</td>\n",
       "      <td>...</td>\n",
       "      <td>...</td>\n",
       "      <td>...</td>\n",
       "      <td>...</td>\n",
       "      <td>...</td>\n",
       "      <td>...</td>\n",
       "    </tr>\n",
       "    <tr>\n",
       "      <th>21489</th>\n",
       "      <td>2</td>\n",
       "      <td>NaN</td>\n",
       "      <td>47</td>\n",
       "      <td>Secondary Education</td>\n",
       "      <td>1</td>\n",
       "      <td>married</td>\n",
       "      <td>0</td>\n",
       "      <td>M</td>\n",
       "      <td>business</td>\n",
       "      <td>0</td>\n",
       "      <td>NaN</td>\n",
       "      <td>purchase of a car</td>\n",
       "    </tr>\n",
       "    <tr>\n",
       "      <th>21495</th>\n",
       "      <td>1</td>\n",
       "      <td>NaN</td>\n",
       "      <td>50</td>\n",
       "      <td>secondary education</td>\n",
       "      <td>1</td>\n",
       "      <td>civil partnership</td>\n",
       "      <td>1</td>\n",
       "      <td>F</td>\n",
       "      <td>employee</td>\n",
       "      <td>0</td>\n",
       "      <td>NaN</td>\n",
       "      <td>wedding ceremony</td>\n",
       "    </tr>\n",
       "    <tr>\n",
       "      <th>21497</th>\n",
       "      <td>0</td>\n",
       "      <td>NaN</td>\n",
       "      <td>48</td>\n",
       "      <td>BACHELOR'S DEGREE</td>\n",
       "      <td>0</td>\n",
       "      <td>married</td>\n",
       "      <td>0</td>\n",
       "      <td>F</td>\n",
       "      <td>business</td>\n",
       "      <td>0</td>\n",
       "      <td>NaN</td>\n",
       "      <td>building a property</td>\n",
       "    </tr>\n",
       "    <tr>\n",
       "      <th>21502</th>\n",
       "      <td>1</td>\n",
       "      <td>NaN</td>\n",
       "      <td>42</td>\n",
       "      <td>secondary education</td>\n",
       "      <td>1</td>\n",
       "      <td>married</td>\n",
       "      <td>0</td>\n",
       "      <td>F</td>\n",
       "      <td>employee</td>\n",
       "      <td>0</td>\n",
       "      <td>NaN</td>\n",
       "      <td>building a real estate</td>\n",
       "    </tr>\n",
       "    <tr>\n",
       "      <th>21510</th>\n",
       "      <td>2</td>\n",
       "      <td>NaN</td>\n",
       "      <td>28</td>\n",
       "      <td>secondary education</td>\n",
       "      <td>1</td>\n",
       "      <td>married</td>\n",
       "      <td>0</td>\n",
       "      <td>F</td>\n",
       "      <td>employee</td>\n",
       "      <td>0</td>\n",
       "      <td>NaN</td>\n",
       "      <td>car purchase</td>\n",
       "    </tr>\n",
       "  </tbody>\n",
       "</table>\n",
       "<p>2174 rows × 12 columns</p>\n",
       "</div>"
      ],
      "text/plain": [
       "       children  days_employed  dob_years            education  education_id  \\\n",
       "12            0            NaN         65  secondary education             1   \n",
       "26            0            NaN         41  secondary education             1   \n",
       "29            0            NaN         63  secondary education             1   \n",
       "41            0            NaN         50  secondary education             1   \n",
       "55            0            NaN         54  secondary education             1   \n",
       "...         ...            ...        ...                  ...           ...   \n",
       "21489         2            NaN         47  Secondary Education             1   \n",
       "21495         1            NaN         50  secondary education             1   \n",
       "21497         0            NaN         48    BACHELOR'S DEGREE             0   \n",
       "21502         1            NaN         42  secondary education             1   \n",
       "21510         2            NaN         28  secondary education             1   \n",
       "\n",
       "           family_status  family_status_id gender    income_type  debt  \\\n",
       "12     civil partnership                 1      M        retiree     0   \n",
       "26               married                 0      M  civil servant     0   \n",
       "29             unmarried                 4      F        retiree     0   \n",
       "41               married                 0      F  civil servant     0   \n",
       "55     civil partnership                 1      F        retiree     1   \n",
       "...                  ...               ...    ...            ...   ...   \n",
       "21489            married                 0      M       business     0   \n",
       "21495  civil partnership                 1      F       employee     0   \n",
       "21497            married                 0      F       business     0   \n",
       "21502            married                 0      F       employee     0   \n",
       "21510            married                 0      F       employee     0   \n",
       "\n",
       "       total_income                   purpose  \n",
       "12              NaN         to have a wedding  \n",
       "26              NaN                 education  \n",
       "29              NaN    building a real estate  \n",
       "41              NaN  second-hand car purchase  \n",
       "55              NaN         to have a wedding  \n",
       "...             ...                       ...  \n",
       "21489           NaN         purchase of a car  \n",
       "21495           NaN          wedding ceremony  \n",
       "21497           NaN       building a property  \n",
       "21502           NaN    building a real estate  \n",
       "21510           NaN              car purchase  \n",
       "\n",
       "[2174 rows x 12 columns]"
      ]
     },
     "execution_count": 6,
     "metadata": {},
     "output_type": "execute_result"
    }
   ],
   "source": [
    "# Let's look in the filtered table at the the first column with missing data\n",
    "customer_info[customer_info['days_employed'].isna() == True]\n"
   ]
  },
  {
   "cell_type": "markdown",
   "metadata": {},
   "source": [
    "There's missing values do not seem symmetric as they don't have any patterns related to other columns. But I need to work on the data to make sure. "
   ]
  },
  {
   "cell_type": "code",
   "execution_count": 7,
   "metadata": {},
   "outputs": [
    {
     "data": {
      "text/html": [
       "<div>\n",
       "<style scoped>\n",
       "    .dataframe tbody tr th:only-of-type {\n",
       "        vertical-align: middle;\n",
       "    }\n",
       "\n",
       "    .dataframe tbody tr th {\n",
       "        vertical-align: top;\n",
       "    }\n",
       "\n",
       "    .dataframe thead th {\n",
       "        text-align: right;\n",
       "    }\n",
       "</style>\n",
       "<table border=\"1\" class=\"dataframe\">\n",
       "  <thead>\n",
       "    <tr style=\"text-align: right;\">\n",
       "      <th></th>\n",
       "      <th>children</th>\n",
       "      <th>days_employed</th>\n",
       "      <th>dob_years</th>\n",
       "      <th>education</th>\n",
       "      <th>education_id</th>\n",
       "      <th>family_status</th>\n",
       "      <th>family_status_id</th>\n",
       "      <th>gender</th>\n",
       "      <th>income_type</th>\n",
       "      <th>debt</th>\n",
       "      <th>total_income</th>\n",
       "      <th>purpose</th>\n",
       "    </tr>\n",
       "  </thead>\n",
       "  <tbody>\n",
       "    <tr>\n",
       "      <th>12</th>\n",
       "      <td>0</td>\n",
       "      <td>NaN</td>\n",
       "      <td>65</td>\n",
       "      <td>secondary education</td>\n",
       "      <td>1</td>\n",
       "      <td>civil partnership</td>\n",
       "      <td>1</td>\n",
       "      <td>M</td>\n",
       "      <td>retiree</td>\n",
       "      <td>0</td>\n",
       "      <td>NaN</td>\n",
       "      <td>to have a wedding</td>\n",
       "    </tr>\n",
       "    <tr>\n",
       "      <th>26</th>\n",
       "      <td>0</td>\n",
       "      <td>NaN</td>\n",
       "      <td>41</td>\n",
       "      <td>secondary education</td>\n",
       "      <td>1</td>\n",
       "      <td>married</td>\n",
       "      <td>0</td>\n",
       "      <td>M</td>\n",
       "      <td>civil servant</td>\n",
       "      <td>0</td>\n",
       "      <td>NaN</td>\n",
       "      <td>education</td>\n",
       "    </tr>\n",
       "    <tr>\n",
       "      <th>29</th>\n",
       "      <td>0</td>\n",
       "      <td>NaN</td>\n",
       "      <td>63</td>\n",
       "      <td>secondary education</td>\n",
       "      <td>1</td>\n",
       "      <td>unmarried</td>\n",
       "      <td>4</td>\n",
       "      <td>F</td>\n",
       "      <td>retiree</td>\n",
       "      <td>0</td>\n",
       "      <td>NaN</td>\n",
       "      <td>building a real estate</td>\n",
       "    </tr>\n",
       "    <tr>\n",
       "      <th>41</th>\n",
       "      <td>0</td>\n",
       "      <td>NaN</td>\n",
       "      <td>50</td>\n",
       "      <td>secondary education</td>\n",
       "      <td>1</td>\n",
       "      <td>married</td>\n",
       "      <td>0</td>\n",
       "      <td>F</td>\n",
       "      <td>civil servant</td>\n",
       "      <td>0</td>\n",
       "      <td>NaN</td>\n",
       "      <td>second-hand car purchase</td>\n",
       "    </tr>\n",
       "    <tr>\n",
       "      <th>55</th>\n",
       "      <td>0</td>\n",
       "      <td>NaN</td>\n",
       "      <td>54</td>\n",
       "      <td>secondary education</td>\n",
       "      <td>1</td>\n",
       "      <td>civil partnership</td>\n",
       "      <td>1</td>\n",
       "      <td>F</td>\n",
       "      <td>retiree</td>\n",
       "      <td>1</td>\n",
       "      <td>NaN</td>\n",
       "      <td>to have a wedding</td>\n",
       "    </tr>\n",
       "    <tr>\n",
       "      <th>...</th>\n",
       "      <td>...</td>\n",
       "      <td>...</td>\n",
       "      <td>...</td>\n",
       "      <td>...</td>\n",
       "      <td>...</td>\n",
       "      <td>...</td>\n",
       "      <td>...</td>\n",
       "      <td>...</td>\n",
       "      <td>...</td>\n",
       "      <td>...</td>\n",
       "      <td>...</td>\n",
       "      <td>...</td>\n",
       "    </tr>\n",
       "    <tr>\n",
       "      <th>21489</th>\n",
       "      <td>2</td>\n",
       "      <td>NaN</td>\n",
       "      <td>47</td>\n",
       "      <td>Secondary Education</td>\n",
       "      <td>1</td>\n",
       "      <td>married</td>\n",
       "      <td>0</td>\n",
       "      <td>M</td>\n",
       "      <td>business</td>\n",
       "      <td>0</td>\n",
       "      <td>NaN</td>\n",
       "      <td>purchase of a car</td>\n",
       "    </tr>\n",
       "    <tr>\n",
       "      <th>21495</th>\n",
       "      <td>1</td>\n",
       "      <td>NaN</td>\n",
       "      <td>50</td>\n",
       "      <td>secondary education</td>\n",
       "      <td>1</td>\n",
       "      <td>civil partnership</td>\n",
       "      <td>1</td>\n",
       "      <td>F</td>\n",
       "      <td>employee</td>\n",
       "      <td>0</td>\n",
       "      <td>NaN</td>\n",
       "      <td>wedding ceremony</td>\n",
       "    </tr>\n",
       "    <tr>\n",
       "      <th>21497</th>\n",
       "      <td>0</td>\n",
       "      <td>NaN</td>\n",
       "      <td>48</td>\n",
       "      <td>BACHELOR'S DEGREE</td>\n",
       "      <td>0</td>\n",
       "      <td>married</td>\n",
       "      <td>0</td>\n",
       "      <td>F</td>\n",
       "      <td>business</td>\n",
       "      <td>0</td>\n",
       "      <td>NaN</td>\n",
       "      <td>building a property</td>\n",
       "    </tr>\n",
       "    <tr>\n",
       "      <th>21502</th>\n",
       "      <td>1</td>\n",
       "      <td>NaN</td>\n",
       "      <td>42</td>\n",
       "      <td>secondary education</td>\n",
       "      <td>1</td>\n",
       "      <td>married</td>\n",
       "      <td>0</td>\n",
       "      <td>F</td>\n",
       "      <td>employee</td>\n",
       "      <td>0</td>\n",
       "      <td>NaN</td>\n",
       "      <td>building a real estate</td>\n",
       "    </tr>\n",
       "    <tr>\n",
       "      <th>21510</th>\n",
       "      <td>2</td>\n",
       "      <td>NaN</td>\n",
       "      <td>28</td>\n",
       "      <td>secondary education</td>\n",
       "      <td>1</td>\n",
       "      <td>married</td>\n",
       "      <td>0</td>\n",
       "      <td>F</td>\n",
       "      <td>employee</td>\n",
       "      <td>0</td>\n",
       "      <td>NaN</td>\n",
       "      <td>car purchase</td>\n",
       "    </tr>\n",
       "  </tbody>\n",
       "</table>\n",
       "<p>2174 rows × 12 columns</p>\n",
       "</div>"
      ],
      "text/plain": [
       "       children  days_employed  dob_years            education  education_id  \\\n",
       "12            0            NaN         65  secondary education             1   \n",
       "26            0            NaN         41  secondary education             1   \n",
       "29            0            NaN         63  secondary education             1   \n",
       "41            0            NaN         50  secondary education             1   \n",
       "55            0            NaN         54  secondary education             1   \n",
       "...         ...            ...        ...                  ...           ...   \n",
       "21489         2            NaN         47  Secondary Education             1   \n",
       "21495         1            NaN         50  secondary education             1   \n",
       "21497         0            NaN         48    BACHELOR'S DEGREE             0   \n",
       "21502         1            NaN         42  secondary education             1   \n",
       "21510         2            NaN         28  secondary education             1   \n",
       "\n",
       "           family_status  family_status_id gender    income_type  debt  \\\n",
       "12     civil partnership                 1      M        retiree     0   \n",
       "26               married                 0      M  civil servant     0   \n",
       "29             unmarried                 4      F        retiree     0   \n",
       "41               married                 0      F  civil servant     0   \n",
       "55     civil partnership                 1      F        retiree     1   \n",
       "...                  ...               ...    ...            ...   ...   \n",
       "21489            married                 0      M       business     0   \n",
       "21495  civil partnership                 1      F       employee     0   \n",
       "21497            married                 0      F       business     0   \n",
       "21502            married                 0      F       employee     0   \n",
       "21510            married                 0      F       employee     0   \n",
       "\n",
       "       total_income                   purpose  \n",
       "12              NaN         to have a wedding  \n",
       "26              NaN                 education  \n",
       "29              NaN    building a real estate  \n",
       "41              NaN  second-hand car purchase  \n",
       "55              NaN         to have a wedding  \n",
       "...             ...                       ...  \n",
       "21489           NaN         purchase of a car  \n",
       "21495           NaN          wedding ceremony  \n",
       "21497           NaN       building a property  \n",
       "21502           NaN    building a real estate  \n",
       "21510           NaN              car purchase  \n",
       "\n",
       "[2174 rows x 12 columns]"
      ]
     },
     "execution_count": 7,
     "metadata": {},
     "output_type": "execute_result"
    }
   ],
   "source": [
    "# Let's apply multiple conditions for filtering data and look at the number of rows in the filtered table.\n",
    "\n",
    "customer_info.loc[(customer_info['days_employed'].isna() == True)&(customer_info['total_income'].isna() == True)]"
   ]
  },
  {
   "cell_type": "code",
   "execution_count": 11,
   "metadata": {},
   "outputs": [
    {
     "data": {
      "text/plain": [
       "children            0.000000\n",
       "days_employed       0.100999\n",
       "dob_years           0.000000\n",
       "education           0.000000\n",
       "education_id        0.000000\n",
       "family_status       0.000000\n",
       "family_status_id    0.000000\n",
       "gender              0.000000\n",
       "income_type         0.000000\n",
       "debt                0.000000\n",
       "total_income        0.100999\n",
       "purpose             0.000000\n",
       "dtype: float64"
      ]
     },
     "execution_count": 11,
     "metadata": {},
     "output_type": "execute_result"
    }
   ],
   "source": [
    "customer_info.isna().mean()"
   ]
  },
  {
   "cell_type": "markdown",
   "metadata": {},
   "source": [
    "**Intermediate conclusion**\n",
    "\n",
    "[Does the number of rows in the filtered table match the number of missing values? What conclusion can we make from this?]\n",
    "Yes, it does. We can conclude that any row missing days_employed value is also missing total_income value or vice versa.\n",
    "\n",
    "\n",
    "[Calculate the percentage of the missing values compared to the whole dataset. Is it a considerably large piece of data? If so, you may want to fill the missing values. To do that, firstly we should consider whether the missing data could be due to the specific client characteristic, such as employment type or something else. You will need to decide which characteristic *you* think might be the reason. Secondly, we should check whether there's any dependence missing values have on the value of other indicators with the columns with identified specific client characteristic.]\n",
    "\n",
    "\n",
    " 10% (percentage of the missing values compared to the whole dataset)\n",
    "\n",
    "[Explain your next steps and how they correlate with the conclusions you made so far.]\n",
    "\n",
    "\n",
    "If a client is unemployed or a student, then they would not have a record of employment days or income. So, I would like to check if these missing values are correlated with employment type. "
   ]
  },
  {
   "cell_type": "code",
   "execution_count": 7,
   "metadata": {},
   "outputs": [
    {
     "data": {
      "text/html": [
       "<div>\n",
       "<style scoped>\n",
       "    .dataframe tbody tr th:only-of-type {\n",
       "        vertical-align: middle;\n",
       "    }\n",
       "\n",
       "    .dataframe tbody tr th {\n",
       "        vertical-align: top;\n",
       "    }\n",
       "\n",
       "    .dataframe thead th {\n",
       "        text-align: right;\n",
       "    }\n",
       "</style>\n",
       "<table border=\"1\" class=\"dataframe\">\n",
       "  <thead>\n",
       "    <tr style=\"text-align: right;\">\n",
       "      <th></th>\n",
       "      <th>children</th>\n",
       "      <th>days_employed</th>\n",
       "      <th>dob_years</th>\n",
       "      <th>education</th>\n",
       "      <th>education_id</th>\n",
       "      <th>family_status</th>\n",
       "      <th>family_status_id</th>\n",
       "      <th>gender</th>\n",
       "      <th>income_type</th>\n",
       "      <th>debt</th>\n",
       "      <th>total_income</th>\n",
       "      <th>purpose</th>\n",
       "    </tr>\n",
       "  </thead>\n",
       "  <tbody>\n",
       "    <tr>\n",
       "      <th>12</th>\n",
       "      <td>0</td>\n",
       "      <td>NaN</td>\n",
       "      <td>65</td>\n",
       "      <td>secondary education</td>\n",
       "      <td>1</td>\n",
       "      <td>civil partnership</td>\n",
       "      <td>1</td>\n",
       "      <td>M</td>\n",
       "      <td>retiree</td>\n",
       "      <td>0</td>\n",
       "      <td>NaN</td>\n",
       "      <td>to have a wedding</td>\n",
       "    </tr>\n",
       "    <tr>\n",
       "      <th>26</th>\n",
       "      <td>0</td>\n",
       "      <td>NaN</td>\n",
       "      <td>41</td>\n",
       "      <td>secondary education</td>\n",
       "      <td>1</td>\n",
       "      <td>married</td>\n",
       "      <td>0</td>\n",
       "      <td>M</td>\n",
       "      <td>civil servant</td>\n",
       "      <td>0</td>\n",
       "      <td>NaN</td>\n",
       "      <td>education</td>\n",
       "    </tr>\n",
       "    <tr>\n",
       "      <th>29</th>\n",
       "      <td>0</td>\n",
       "      <td>NaN</td>\n",
       "      <td>63</td>\n",
       "      <td>secondary education</td>\n",
       "      <td>1</td>\n",
       "      <td>unmarried</td>\n",
       "      <td>4</td>\n",
       "      <td>F</td>\n",
       "      <td>retiree</td>\n",
       "      <td>0</td>\n",
       "      <td>NaN</td>\n",
       "      <td>building a real estate</td>\n",
       "    </tr>\n",
       "    <tr>\n",
       "      <th>41</th>\n",
       "      <td>0</td>\n",
       "      <td>NaN</td>\n",
       "      <td>50</td>\n",
       "      <td>secondary education</td>\n",
       "      <td>1</td>\n",
       "      <td>married</td>\n",
       "      <td>0</td>\n",
       "      <td>F</td>\n",
       "      <td>civil servant</td>\n",
       "      <td>0</td>\n",
       "      <td>NaN</td>\n",
       "      <td>second-hand car purchase</td>\n",
       "    </tr>\n",
       "    <tr>\n",
       "      <th>55</th>\n",
       "      <td>0</td>\n",
       "      <td>NaN</td>\n",
       "      <td>54</td>\n",
       "      <td>secondary education</td>\n",
       "      <td>1</td>\n",
       "      <td>civil partnership</td>\n",
       "      <td>1</td>\n",
       "      <td>F</td>\n",
       "      <td>retiree</td>\n",
       "      <td>1</td>\n",
       "      <td>NaN</td>\n",
       "      <td>to have a wedding</td>\n",
       "    </tr>\n",
       "    <tr>\n",
       "      <th>...</th>\n",
       "      <td>...</td>\n",
       "      <td>...</td>\n",
       "      <td>...</td>\n",
       "      <td>...</td>\n",
       "      <td>...</td>\n",
       "      <td>...</td>\n",
       "      <td>...</td>\n",
       "      <td>...</td>\n",
       "      <td>...</td>\n",
       "      <td>...</td>\n",
       "      <td>...</td>\n",
       "      <td>...</td>\n",
       "    </tr>\n",
       "    <tr>\n",
       "      <th>21489</th>\n",
       "      <td>2</td>\n",
       "      <td>NaN</td>\n",
       "      <td>47</td>\n",
       "      <td>Secondary Education</td>\n",
       "      <td>1</td>\n",
       "      <td>married</td>\n",
       "      <td>0</td>\n",
       "      <td>M</td>\n",
       "      <td>business</td>\n",
       "      <td>0</td>\n",
       "      <td>NaN</td>\n",
       "      <td>purchase of a car</td>\n",
       "    </tr>\n",
       "    <tr>\n",
       "      <th>21495</th>\n",
       "      <td>1</td>\n",
       "      <td>NaN</td>\n",
       "      <td>50</td>\n",
       "      <td>secondary education</td>\n",
       "      <td>1</td>\n",
       "      <td>civil partnership</td>\n",
       "      <td>1</td>\n",
       "      <td>F</td>\n",
       "      <td>employee</td>\n",
       "      <td>0</td>\n",
       "      <td>NaN</td>\n",
       "      <td>wedding ceremony</td>\n",
       "    </tr>\n",
       "    <tr>\n",
       "      <th>21497</th>\n",
       "      <td>0</td>\n",
       "      <td>NaN</td>\n",
       "      <td>48</td>\n",
       "      <td>BACHELOR'S DEGREE</td>\n",
       "      <td>0</td>\n",
       "      <td>married</td>\n",
       "      <td>0</td>\n",
       "      <td>F</td>\n",
       "      <td>business</td>\n",
       "      <td>0</td>\n",
       "      <td>NaN</td>\n",
       "      <td>building a property</td>\n",
       "    </tr>\n",
       "    <tr>\n",
       "      <th>21502</th>\n",
       "      <td>1</td>\n",
       "      <td>NaN</td>\n",
       "      <td>42</td>\n",
       "      <td>secondary education</td>\n",
       "      <td>1</td>\n",
       "      <td>married</td>\n",
       "      <td>0</td>\n",
       "      <td>F</td>\n",
       "      <td>employee</td>\n",
       "      <td>0</td>\n",
       "      <td>NaN</td>\n",
       "      <td>building a real estate</td>\n",
       "    </tr>\n",
       "    <tr>\n",
       "      <th>21510</th>\n",
       "      <td>2</td>\n",
       "      <td>NaN</td>\n",
       "      <td>28</td>\n",
       "      <td>secondary education</td>\n",
       "      <td>1</td>\n",
       "      <td>married</td>\n",
       "      <td>0</td>\n",
       "      <td>F</td>\n",
       "      <td>employee</td>\n",
       "      <td>0</td>\n",
       "      <td>NaN</td>\n",
       "      <td>car purchase</td>\n",
       "    </tr>\n",
       "  </tbody>\n",
       "</table>\n",
       "<p>2174 rows × 12 columns</p>\n",
       "</div>"
      ],
      "text/plain": [
       "       children  days_employed  dob_years            education  education_id  \\\n",
       "12            0            NaN         65  secondary education             1   \n",
       "26            0            NaN         41  secondary education             1   \n",
       "29            0            NaN         63  secondary education             1   \n",
       "41            0            NaN         50  secondary education             1   \n",
       "55            0            NaN         54  secondary education             1   \n",
       "...         ...            ...        ...                  ...           ...   \n",
       "21489         2            NaN         47  Secondary Education             1   \n",
       "21495         1            NaN         50  secondary education             1   \n",
       "21497         0            NaN         48    BACHELOR'S DEGREE             0   \n",
       "21502         1            NaN         42  secondary education             1   \n",
       "21510         2            NaN         28  secondary education             1   \n",
       "\n",
       "           family_status  family_status_id gender    income_type  debt  \\\n",
       "12     civil partnership                 1      M        retiree     0   \n",
       "26               married                 0      M  civil servant     0   \n",
       "29             unmarried                 4      F        retiree     0   \n",
       "41               married                 0      F  civil servant     0   \n",
       "55     civil partnership                 1      F        retiree     1   \n",
       "...                  ...               ...    ...            ...   ...   \n",
       "21489            married                 0      M       business     0   \n",
       "21495  civil partnership                 1      F       employee     0   \n",
       "21497            married                 0      F       business     0   \n",
       "21502            married                 0      F       employee     0   \n",
       "21510            married                 0      F       employee     0   \n",
       "\n",
       "       total_income                   purpose  \n",
       "12              NaN         to have a wedding  \n",
       "26              NaN                 education  \n",
       "29              NaN    building a real estate  \n",
       "41              NaN  second-hand car purchase  \n",
       "55              NaN         to have a wedding  \n",
       "...             ...                       ...  \n",
       "21489           NaN         purchase of a car  \n",
       "21495           NaN          wedding ceremony  \n",
       "21497           NaN       building a property  \n",
       "21502           NaN    building a real estate  \n",
       "21510           NaN              car purchase  \n",
       "\n",
       "[2174 rows x 12 columns]"
      ]
     },
     "execution_count": 7,
     "metadata": {},
     "output_type": "execute_result"
    }
   ],
   "source": [
    "# Let's investigate clients who do not have data on identified characteristic and the column with the missing values\n",
    "\n",
    "customer_info[customer_info['days_employed'].isna() == True]\n",
    "\n",
    "\n"
   ]
  },
  {
   "cell_type": "code",
   "execution_count": 8,
   "metadata": {},
   "outputs": [
    {
     "data": {
      "text/plain": [
       "employee         1105\n",
       "business          508\n",
       "retiree           413\n",
       "civil servant     147\n",
       "entrepreneur        1\n",
       "Name: income_type, dtype: int64"
      ]
     },
     "execution_count": 8,
     "metadata": {},
     "output_type": "execute_result"
    }
   ],
   "source": [
    "# Checking distribution\n",
    "\n",
    "df=customer_info[(customer_info['days_employed'].isna() == True)]\n",
    "df['income_type'].value_counts()"
   ]
  },
  {
   "cell_type": "markdown",
   "metadata": {},
   "source": [
    "[Describe your findings here.]\n",
    "The missing values seem to be from 5 income types above. I will check the distribution of income types in the whole data set to see if this gives us any pattern. \n",
    "**Possible reasons for missing values in data**\n",
    "\n",
    "[Propose your ideas on why you think the values might be missing. Do you think they are missing randomly or there are any patterns?]\n",
    "I do not think there is any pattern among missing values as they seem pretty random to me. It does not depend on any other column. It could be due to loss of information while recording or importing the data or incomplete data entry. \n",
    "\n"
   ]
  },
  {
   "cell_type": "code",
   "execution_count": 9,
   "metadata": {},
   "outputs": [
    {
     "data": {
      "text/plain": [
       "employee                       11119\n",
       "business                        5085\n",
       "retiree                         3856\n",
       "civil servant                   1459\n",
       "unemployed                         2\n",
       "entrepreneur                       2\n",
       "paternity / maternity leave        1\n",
       "student                            1\n",
       "Name: income_type, dtype: int64"
      ]
     },
     "execution_count": 9,
     "metadata": {},
     "output_type": "execute_result"
    }
   ],
   "source": [
    "# Checking the distribution in the whole dataset\n",
    "\n",
    "customer_info['income_type'].value_counts()\n",
    "\n"
   ]
  },
  {
   "cell_type": "markdown",
   "metadata": {},
   "source": [
    "**Intermediate conclusion**\n",
    "\n",
    "[Is the distribution in the original dataset similar to the distribution of the filtered table? What does that mean for us?]\n",
    "Yes, it is. It means that there is no pattern on missing values as the distribtuion is similar.\n",
    "\n"
   ]
  },
  {
   "cell_type": "code",
   "execution_count": 10,
   "metadata": {},
   "outputs": [
    {
     "data": {
      "text/plain": [
       " 0     1439\n",
       " 1      475\n",
       " 2      204\n",
       " 3       36\n",
       " 20       9\n",
       " 4        7\n",
       "-1        3\n",
       " 5        1\n",
       "Name: children, dtype: int64"
      ]
     },
     "execution_count": 10,
     "metadata": {},
     "output_type": "execute_result"
    }
   ],
   "source": [
    "# Check for other reasons and patterns that could lead to missing values\n",
    "df_children=customer_info[(customer_info['days_employed'].isna() == True)]\n",
    "df_children['children'].value_counts()"
   ]
  },
  {
   "cell_type": "code",
   "execution_count": 11,
   "metadata": {},
   "outputs": [
    {
     "data": {
      "text/plain": [
       " 0     14149\n",
       " 1      4818\n",
       " 2      2055\n",
       " 3       330\n",
       " 20       76\n",
       "-1        47\n",
       " 4        41\n",
       " 5         9\n",
       "Name: children, dtype: int64"
      ]
     },
     "execution_count": 11,
     "metadata": {},
     "output_type": "execute_result"
    }
   ],
   "source": [
    "customer_info['children'].value_counts()"
   ]
  },
  {
   "cell_type": "code",
   "execution_count": 12,
   "metadata": {},
   "outputs": [
    {
     "data": {
      "text/plain": [
       "married              1237\n",
       "civil partnership     442\n",
       "unmarried             288\n",
       "divorced              112\n",
       "widow / widower        95\n",
       "Name: family_status, dtype: int64"
      ]
     },
     "execution_count": 12,
     "metadata": {},
     "output_type": "execute_result"
    }
   ],
   "source": [
    "df_family_status=customer_info[(customer_info['days_employed'].isna() == True)]\n",
    "df_family_status['family_status'].value_counts()"
   ]
  },
  {
   "cell_type": "code",
   "execution_count": 13,
   "metadata": {},
   "outputs": [
    {
     "data": {
      "text/plain": [
       "married              12380\n",
       "civil partnership     4177\n",
       "unmarried             2813\n",
       "divorced              1195\n",
       "widow / widower        960\n",
       "Name: family_status, dtype: int64"
      ]
     },
     "execution_count": 13,
     "metadata": {},
     "output_type": "execute_result"
    }
   ],
   "source": [
    "customer_info['family_status'].value_counts()"
   ]
  },
  {
   "cell_type": "markdown",
   "metadata": {},
   "source": [
    "**Intermediate conclusion**\n",
    "\n",
    "[Can we finally confirm that missing values are accidental? Check for anything else that you think might be important here.]\n",
    "Yes, the missing values are accidental."
   ]
  },
  {
   "cell_type": "code",
   "execution_count": 14,
   "metadata": {
    "scrolled": true
   },
   "outputs": [],
   "source": [
    "# Checking for other patterns - explain which"
   ]
  },
  {
   "cell_type": "markdown",
   "metadata": {},
   "source": [
    "**Conclusions**\n",
    "\n",
    "[Did you find any patterns? How did you come to this conclusion?]\n",
    "No, I did not find any patterns on missing values. To come to this conclusion, I compared the data distribution on missing values with distribution of the whole dataset.\n",
    "\n",
    "\n",
    "[Explain how you will address the missing values. Consider the categories in which values are missing.]\n",
    "I will replace missing values with mean or median depending on a column that is more appropriate for the analysis. \n",
    "\n"
   ]
  },
  {
   "cell_type": "markdown",
   "metadata": {},
   "source": [
    "## Data transformation\n",
    "\n",
    "[Let's go through each column to see what issues we may have in them.]\n"
   ]
  },
  {
   "cell_type": "code",
   "execution_count": 15,
   "metadata": {},
   "outputs": [
    {
     "data": {
      "text/plain": [
       "array([\"bachelor's degree\", 'secondary education', 'Secondary Education',\n",
       "       'SECONDARY EDUCATION', \"BACHELOR'S DEGREE\", 'some college',\n",
       "       'primary education', \"Bachelor's Degree\", 'SOME COLLEGE',\n",
       "       'Some College', 'PRIMARY EDUCATION', 'Primary Education',\n",
       "       'Graduate Degree', 'GRADUATE DEGREE', 'graduate degree'],\n",
       "      dtype=object)"
      ]
     },
     "execution_count": 15,
     "metadata": {},
     "output_type": "execute_result"
    }
   ],
   "source": [
    "# Let's see all values in education column to check if and what spellings will need to be fixed\n",
    "customer_info['education'].unique()\n"
   ]
  },
  {
   "cell_type": "code",
   "execution_count": 16,
   "metadata": {
    "scrolled": true
   },
   "outputs": [],
   "source": [
    "# Fix the registers if required\n",
    "customer_info['education'] = customer_info['education'].str.lower()"
   ]
  },
  {
   "cell_type": "code",
   "execution_count": 17,
   "metadata": {},
   "outputs": [
    {
     "data": {
      "text/plain": [
       "array([\"bachelor's degree\", 'secondary education', 'some college',\n",
       "       'primary education', 'graduate degree'], dtype=object)"
      ]
     },
     "execution_count": 17,
     "metadata": {},
     "output_type": "execute_result"
    }
   ],
   "source": [
    "# Checking all the values in the column to make sure we fixed them\n",
    "\n",
    "customer_info['education'].unique()"
   ]
  },
  {
   "cell_type": "code",
   "execution_count": 18,
   "metadata": {},
   "outputs": [
    {
     "data": {
      "text/plain": [
       " 0     14149\n",
       " 1      4818\n",
       " 2      2055\n",
       " 3       330\n",
       " 20       76\n",
       "-1        47\n",
       " 4        41\n",
       " 5         9\n",
       "Name: children, dtype: int64"
      ]
     },
     "execution_count": 18,
     "metadata": {},
     "output_type": "execute_result"
    }
   ],
   "source": [
    "# Let's see the distribution of values in the `children` column\n",
    "customer_info['children'].value_counts()"
   ]
  },
  {
   "cell_type": "markdown",
   "metadata": {},
   "source": [
    "[Are there any strange things in the column? If yes, how high is the percentage of problematic data? How could they have occurred? Make a decision on what you will do with this data and explain you reasoning.]\n",
    "\n",
    "The number of children cannot be equal to -1 and having 20 children is pretty uncommon. The percentage of problematic data is about 0.6%. These problems might have ocurred as a typo while entering the data.  I will replace problematic data with the mean as there is no significant outliners. "
   ]
  },
  {
   "cell_type": "code",
   "execution_count": 19,
   "metadata": {},
   "outputs": [
    {
     "data": {
      "text/plain": [
       "children               20.000000\n",
       "days_employed       35779.535997\n",
       "dob_years              41.815789\n",
       "education_id            0.842105\n",
       "family_status_id        0.815789\n",
       "debt                    0.105263\n",
       "total_income        26995.284209\n",
       "dtype: float64"
      ]
     },
     "execution_count": 19,
     "metadata": {},
     "output_type": "execute_result"
    }
   ],
   "source": [
    "customer_info[customer_info['children'] == 20].mean()"
   ]
  },
  {
   "cell_type": "code",
   "execution_count": 20,
   "metadata": {},
   "outputs": [
    {
     "data": {
      "text/plain": [
       "0.5389082462253194"
      ]
     },
     "execution_count": 20,
     "metadata": {},
     "output_type": "execute_result"
    }
   ],
   "source": [
    "# [fix the data based on your decision]\n",
    "customer_info['children'].mean()"
   ]
  },
  {
   "cell_type": "markdown",
   "metadata": {},
   "source": [
    "Since the mean is really close to 0, I decided to replace problematic values with 0 (which is also the median) instead of the mean. It would not make any difference as it's ony 0.6% of the whole dataset."
   ]
  },
  {
   "cell_type": "code",
   "execution_count": 21,
   "metadata": {},
   "outputs": [],
   "source": [
    "customer_info['children'] = customer_info['children'].replace([20, -1],0)\n"
   ]
  },
  {
   "cell_type": "code",
   "execution_count": 22,
   "metadata": {},
   "outputs": [
    {
     "data": {
      "text/plain": [
       "0    14272\n",
       "1     4818\n",
       "2     2055\n",
       "3      330\n",
       "4       41\n",
       "5        9\n",
       "Name: children, dtype: int64"
      ]
     },
     "execution_count": 22,
     "metadata": {},
     "output_type": "execute_result"
    }
   ],
   "source": [
    "# Checking the `children` column again to make sure it's all fixed\n",
    "customer_info['children'].value_counts()\n",
    "\n"
   ]
  },
  {
   "cell_type": "markdown",
   "metadata": {},
   "source": [
    "[Check the data in the `days_employed` column. Firstly think about what kind of issues could there be and what you may want to check and how you will do it.]"
   ]
  },
  {
   "cell_type": "markdown",
   "metadata": {},
   "source": [
    "I saw some negative values in the days_employed column,so I would like to check that."
   ]
  },
  {
   "cell_type": "code",
   "execution_count": 23,
   "metadata": {},
   "outputs": [
    {
     "data": {
      "text/html": [
       "<div>\n",
       "<style scoped>\n",
       "    .dataframe tbody tr th:only-of-type {\n",
       "        vertical-align: middle;\n",
       "    }\n",
       "\n",
       "    .dataframe tbody tr th {\n",
       "        vertical-align: top;\n",
       "    }\n",
       "\n",
       "    .dataframe thead th {\n",
       "        text-align: right;\n",
       "    }\n",
       "</style>\n",
       "<table border=\"1\" class=\"dataframe\">\n",
       "  <thead>\n",
       "    <tr style=\"text-align: right;\">\n",
       "      <th></th>\n",
       "      <th>children</th>\n",
       "      <th>days_employed</th>\n",
       "      <th>dob_years</th>\n",
       "      <th>education</th>\n",
       "      <th>education_id</th>\n",
       "      <th>family_status</th>\n",
       "      <th>family_status_id</th>\n",
       "      <th>gender</th>\n",
       "      <th>income_type</th>\n",
       "      <th>debt</th>\n",
       "      <th>total_income</th>\n",
       "      <th>purpose</th>\n",
       "    </tr>\n",
       "  </thead>\n",
       "  <tbody>\n",
       "    <tr>\n",
       "      <th>0</th>\n",
       "      <td>1</td>\n",
       "      <td>-8437.673028</td>\n",
       "      <td>42</td>\n",
       "      <td>bachelor's degree</td>\n",
       "      <td>0</td>\n",
       "      <td>married</td>\n",
       "      <td>0</td>\n",
       "      <td>F</td>\n",
       "      <td>employee</td>\n",
       "      <td>0</td>\n",
       "      <td>40620.102</td>\n",
       "      <td>purchase of the house</td>\n",
       "    </tr>\n",
       "    <tr>\n",
       "      <th>1</th>\n",
       "      <td>1</td>\n",
       "      <td>-4024.803754</td>\n",
       "      <td>36</td>\n",
       "      <td>secondary education</td>\n",
       "      <td>1</td>\n",
       "      <td>married</td>\n",
       "      <td>0</td>\n",
       "      <td>F</td>\n",
       "      <td>employee</td>\n",
       "      <td>0</td>\n",
       "      <td>17932.802</td>\n",
       "      <td>car purchase</td>\n",
       "    </tr>\n",
       "    <tr>\n",
       "      <th>2</th>\n",
       "      <td>0</td>\n",
       "      <td>-5623.422610</td>\n",
       "      <td>33</td>\n",
       "      <td>secondary education</td>\n",
       "      <td>1</td>\n",
       "      <td>married</td>\n",
       "      <td>0</td>\n",
       "      <td>M</td>\n",
       "      <td>employee</td>\n",
       "      <td>0</td>\n",
       "      <td>23341.752</td>\n",
       "      <td>purchase of the house</td>\n",
       "    </tr>\n",
       "    <tr>\n",
       "      <th>3</th>\n",
       "      <td>3</td>\n",
       "      <td>-4124.747207</td>\n",
       "      <td>32</td>\n",
       "      <td>secondary education</td>\n",
       "      <td>1</td>\n",
       "      <td>married</td>\n",
       "      <td>0</td>\n",
       "      <td>M</td>\n",
       "      <td>employee</td>\n",
       "      <td>0</td>\n",
       "      <td>42820.568</td>\n",
       "      <td>supplementary education</td>\n",
       "    </tr>\n",
       "    <tr>\n",
       "      <th>5</th>\n",
       "      <td>0</td>\n",
       "      <td>-926.185831</td>\n",
       "      <td>27</td>\n",
       "      <td>bachelor's degree</td>\n",
       "      <td>0</td>\n",
       "      <td>civil partnership</td>\n",
       "      <td>1</td>\n",
       "      <td>M</td>\n",
       "      <td>business</td>\n",
       "      <td>0</td>\n",
       "      <td>40922.170</td>\n",
       "      <td>purchase of the house</td>\n",
       "    </tr>\n",
       "    <tr>\n",
       "      <th>...</th>\n",
       "      <td>...</td>\n",
       "      <td>...</td>\n",
       "      <td>...</td>\n",
       "      <td>...</td>\n",
       "      <td>...</td>\n",
       "      <td>...</td>\n",
       "      <td>...</td>\n",
       "      <td>...</td>\n",
       "      <td>...</td>\n",
       "      <td>...</td>\n",
       "      <td>...</td>\n",
       "      <td>...</td>\n",
       "    </tr>\n",
       "    <tr>\n",
       "      <th>21519</th>\n",
       "      <td>1</td>\n",
       "      <td>-2351.431934</td>\n",
       "      <td>37</td>\n",
       "      <td>graduate degree</td>\n",
       "      <td>4</td>\n",
       "      <td>divorced</td>\n",
       "      <td>3</td>\n",
       "      <td>M</td>\n",
       "      <td>employee</td>\n",
       "      <td>0</td>\n",
       "      <td>18551.846</td>\n",
       "      <td>buy commercial real estate</td>\n",
       "    </tr>\n",
       "    <tr>\n",
       "      <th>21520</th>\n",
       "      <td>1</td>\n",
       "      <td>-4529.316663</td>\n",
       "      <td>43</td>\n",
       "      <td>secondary education</td>\n",
       "      <td>1</td>\n",
       "      <td>civil partnership</td>\n",
       "      <td>1</td>\n",
       "      <td>F</td>\n",
       "      <td>business</td>\n",
       "      <td>0</td>\n",
       "      <td>35966.698</td>\n",
       "      <td>housing transactions</td>\n",
       "    </tr>\n",
       "    <tr>\n",
       "      <th>21522</th>\n",
       "      <td>1</td>\n",
       "      <td>-2113.346888</td>\n",
       "      <td>38</td>\n",
       "      <td>secondary education</td>\n",
       "      <td>1</td>\n",
       "      <td>civil partnership</td>\n",
       "      <td>1</td>\n",
       "      <td>M</td>\n",
       "      <td>employee</td>\n",
       "      <td>1</td>\n",
       "      <td>14347.610</td>\n",
       "      <td>property</td>\n",
       "    </tr>\n",
       "    <tr>\n",
       "      <th>21523</th>\n",
       "      <td>3</td>\n",
       "      <td>-3112.481705</td>\n",
       "      <td>38</td>\n",
       "      <td>secondary education</td>\n",
       "      <td>1</td>\n",
       "      <td>married</td>\n",
       "      <td>0</td>\n",
       "      <td>M</td>\n",
       "      <td>employee</td>\n",
       "      <td>1</td>\n",
       "      <td>39054.888</td>\n",
       "      <td>buying my own car</td>\n",
       "    </tr>\n",
       "    <tr>\n",
       "      <th>21524</th>\n",
       "      <td>2</td>\n",
       "      <td>-1984.507589</td>\n",
       "      <td>40</td>\n",
       "      <td>secondary education</td>\n",
       "      <td>1</td>\n",
       "      <td>married</td>\n",
       "      <td>0</td>\n",
       "      <td>F</td>\n",
       "      <td>employee</td>\n",
       "      <td>0</td>\n",
       "      <td>13127.587</td>\n",
       "      <td>to buy a car</td>\n",
       "    </tr>\n",
       "  </tbody>\n",
       "</table>\n",
       "<p>15906 rows × 12 columns</p>\n",
       "</div>"
      ],
      "text/plain": [
       "       children  days_employed  dob_years            education  education_id  \\\n",
       "0             1   -8437.673028         42    bachelor's degree             0   \n",
       "1             1   -4024.803754         36  secondary education             1   \n",
       "2             0   -5623.422610         33  secondary education             1   \n",
       "3             3   -4124.747207         32  secondary education             1   \n",
       "5             0    -926.185831         27    bachelor's degree             0   \n",
       "...         ...            ...        ...                  ...           ...   \n",
       "21519         1   -2351.431934         37      graduate degree             4   \n",
       "21520         1   -4529.316663         43  secondary education             1   \n",
       "21522         1   -2113.346888         38  secondary education             1   \n",
       "21523         3   -3112.481705         38  secondary education             1   \n",
       "21524         2   -1984.507589         40  secondary education             1   \n",
       "\n",
       "           family_status  family_status_id gender income_type  debt  \\\n",
       "0                married                 0      F    employee     0   \n",
       "1                married                 0      F    employee     0   \n",
       "2                married                 0      M    employee     0   \n",
       "3                married                 0      M    employee     0   \n",
       "5      civil partnership                 1      M    business     0   \n",
       "...                  ...               ...    ...         ...   ...   \n",
       "21519           divorced                 3      M    employee     0   \n",
       "21520  civil partnership                 1      F    business     0   \n",
       "21522  civil partnership                 1      M    employee     1   \n",
       "21523            married                 0      M    employee     1   \n",
       "21524            married                 0      F    employee     0   \n",
       "\n",
       "       total_income                     purpose  \n",
       "0         40620.102       purchase of the house  \n",
       "1         17932.802                car purchase  \n",
       "2         23341.752       purchase of the house  \n",
       "3         42820.568     supplementary education  \n",
       "5         40922.170       purchase of the house  \n",
       "...             ...                         ...  \n",
       "21519     18551.846  buy commercial real estate  \n",
       "21520     35966.698        housing transactions  \n",
       "21522     14347.610                    property  \n",
       "21523     39054.888           buying my own car  \n",
       "21524     13127.587                to buy a car  \n",
       "\n",
       "[15906 rows x 12 columns]"
      ]
     },
     "execution_count": 23,
     "metadata": {},
     "output_type": "execute_result"
    }
   ],
   "source": [
    "# Find problematic data in `days_employed`, if they exist, and calculate the percentage\n",
    "customer_info[customer_info['days_employed'] < 0]"
   ]
  },
  {
   "cell_type": "code",
   "execution_count": 24,
   "metadata": {},
   "outputs": [
    {
     "data": {
      "text/plain": [
       "73.89547038327527"
      ]
     },
     "execution_count": 24,
     "metadata": {},
     "output_type": "execute_result"
    }
   ],
   "source": [
    "(15906/21525) * 100 "
   ]
  },
  {
   "cell_type": "markdown",
   "metadata": {},
   "source": [
    "73% of the days_employed column is problematic data, as a person cannot work for negative days. "
   ]
  },
  {
   "cell_type": "markdown",
   "metadata": {},
   "source": [
    "[If the amount of problematic data is high, it could've been due to some technical issues. We may probably want to propose the most obvious reason why it could've happened and what the correct data might've been, as we can't drop these problematic rows.]\n",
    "The issue could be caused while the computer calculates the days worked. The values look pretty random so I don't think there is anything to do to fix them as they are not required in our analysis."
   ]
  },
  {
   "cell_type": "code",
   "execution_count": 25,
   "metadata": {},
   "outputs": [],
   "source": [
    "# Address the problematic values, if they exist\n",
    "\n"
   ]
  },
  {
   "cell_type": "code",
   "execution_count": 26,
   "metadata": {},
   "outputs": [],
   "source": [
    "# Check the result - make sure it's fixed\n"
   ]
  },
  {
   "cell_type": "markdown",
   "metadata": {},
   "source": [
    "[Let's now look at the client's age and whether there are any issues there. Again, think about what can data can be strange in this column, i.e. what cannot be someone's age.]"
   ]
  },
  {
   "cell_type": "markdown",
   "metadata": {},
   "source": [
    "A person who is younger than 18 cannot take out a loan. "
   ]
  },
  {
   "cell_type": "code",
   "execution_count": 27,
   "metadata": {
    "scrolled": true
   },
   "outputs": [
    {
     "data": {
      "text/html": [
       "<div>\n",
       "<style scoped>\n",
       "    .dataframe tbody tr th:only-of-type {\n",
       "        vertical-align: middle;\n",
       "    }\n",
       "\n",
       "    .dataframe tbody tr th {\n",
       "        vertical-align: top;\n",
       "    }\n",
       "\n",
       "    .dataframe thead th {\n",
       "        text-align: right;\n",
       "    }\n",
       "</style>\n",
       "<table border=\"1\" class=\"dataframe\">\n",
       "  <thead>\n",
       "    <tr style=\"text-align: right;\">\n",
       "      <th></th>\n",
       "      <th>children</th>\n",
       "      <th>days_employed</th>\n",
       "      <th>dob_years</th>\n",
       "      <th>education</th>\n",
       "      <th>education_id</th>\n",
       "      <th>family_status</th>\n",
       "      <th>family_status_id</th>\n",
       "      <th>gender</th>\n",
       "      <th>income_type</th>\n",
       "      <th>debt</th>\n",
       "      <th>total_income</th>\n",
       "      <th>purpose</th>\n",
       "    </tr>\n",
       "  </thead>\n",
       "  <tbody>\n",
       "    <tr>\n",
       "      <th>99</th>\n",
       "      <td>0</td>\n",
       "      <td>346541.618895</td>\n",
       "      <td>0</td>\n",
       "      <td>secondary education</td>\n",
       "      <td>1</td>\n",
       "      <td>married</td>\n",
       "      <td>0</td>\n",
       "      <td>F</td>\n",
       "      <td>retiree</td>\n",
       "      <td>0</td>\n",
       "      <td>11406.644</td>\n",
       "      <td>car</td>\n",
       "    </tr>\n",
       "    <tr>\n",
       "      <th>149</th>\n",
       "      <td>0</td>\n",
       "      <td>-2664.273168</td>\n",
       "      <td>0</td>\n",
       "      <td>secondary education</td>\n",
       "      <td>1</td>\n",
       "      <td>divorced</td>\n",
       "      <td>3</td>\n",
       "      <td>F</td>\n",
       "      <td>employee</td>\n",
       "      <td>0</td>\n",
       "      <td>11228.230</td>\n",
       "      <td>housing transactions</td>\n",
       "    </tr>\n",
       "    <tr>\n",
       "      <th>270</th>\n",
       "      <td>3</td>\n",
       "      <td>-1872.663186</td>\n",
       "      <td>0</td>\n",
       "      <td>secondary education</td>\n",
       "      <td>1</td>\n",
       "      <td>married</td>\n",
       "      <td>0</td>\n",
       "      <td>F</td>\n",
       "      <td>employee</td>\n",
       "      <td>0</td>\n",
       "      <td>16346.633</td>\n",
       "      <td>housing renovation</td>\n",
       "    </tr>\n",
       "    <tr>\n",
       "      <th>578</th>\n",
       "      <td>0</td>\n",
       "      <td>397856.565013</td>\n",
       "      <td>0</td>\n",
       "      <td>secondary education</td>\n",
       "      <td>1</td>\n",
       "      <td>married</td>\n",
       "      <td>0</td>\n",
       "      <td>F</td>\n",
       "      <td>retiree</td>\n",
       "      <td>0</td>\n",
       "      <td>15619.310</td>\n",
       "      <td>construction of own property</td>\n",
       "    </tr>\n",
       "    <tr>\n",
       "      <th>1040</th>\n",
       "      <td>0</td>\n",
       "      <td>-1158.029561</td>\n",
       "      <td>0</td>\n",
       "      <td>bachelor's degree</td>\n",
       "      <td>0</td>\n",
       "      <td>divorced</td>\n",
       "      <td>3</td>\n",
       "      <td>F</td>\n",
       "      <td>business</td>\n",
       "      <td>0</td>\n",
       "      <td>48639.062</td>\n",
       "      <td>to own a car</td>\n",
       "    </tr>\n",
       "    <tr>\n",
       "      <th>...</th>\n",
       "      <td>...</td>\n",
       "      <td>...</td>\n",
       "      <td>...</td>\n",
       "      <td>...</td>\n",
       "      <td>...</td>\n",
       "      <td>...</td>\n",
       "      <td>...</td>\n",
       "      <td>...</td>\n",
       "      <td>...</td>\n",
       "      <td>...</td>\n",
       "      <td>...</td>\n",
       "      <td>...</td>\n",
       "    </tr>\n",
       "    <tr>\n",
       "      <th>19829</th>\n",
       "      <td>0</td>\n",
       "      <td>NaN</td>\n",
       "      <td>0</td>\n",
       "      <td>secondary education</td>\n",
       "      <td>1</td>\n",
       "      <td>married</td>\n",
       "      <td>0</td>\n",
       "      <td>F</td>\n",
       "      <td>employee</td>\n",
       "      <td>0</td>\n",
       "      <td>NaN</td>\n",
       "      <td>housing</td>\n",
       "    </tr>\n",
       "    <tr>\n",
       "      <th>20462</th>\n",
       "      <td>0</td>\n",
       "      <td>338734.868540</td>\n",
       "      <td>0</td>\n",
       "      <td>secondary education</td>\n",
       "      <td>1</td>\n",
       "      <td>married</td>\n",
       "      <td>0</td>\n",
       "      <td>F</td>\n",
       "      <td>retiree</td>\n",
       "      <td>0</td>\n",
       "      <td>41471.027</td>\n",
       "      <td>purchase of my own house</td>\n",
       "    </tr>\n",
       "    <tr>\n",
       "      <th>20577</th>\n",
       "      <td>0</td>\n",
       "      <td>331741.271455</td>\n",
       "      <td>0</td>\n",
       "      <td>secondary education</td>\n",
       "      <td>1</td>\n",
       "      <td>unmarried</td>\n",
       "      <td>4</td>\n",
       "      <td>F</td>\n",
       "      <td>retiree</td>\n",
       "      <td>0</td>\n",
       "      <td>20766.202</td>\n",
       "      <td>property</td>\n",
       "    </tr>\n",
       "    <tr>\n",
       "      <th>21179</th>\n",
       "      <td>2</td>\n",
       "      <td>-108.967042</td>\n",
       "      <td>0</td>\n",
       "      <td>bachelor's degree</td>\n",
       "      <td>0</td>\n",
       "      <td>married</td>\n",
       "      <td>0</td>\n",
       "      <td>M</td>\n",
       "      <td>business</td>\n",
       "      <td>0</td>\n",
       "      <td>38512.321</td>\n",
       "      <td>building a real estate</td>\n",
       "    </tr>\n",
       "    <tr>\n",
       "      <th>21313</th>\n",
       "      <td>0</td>\n",
       "      <td>-1268.487728</td>\n",
       "      <td>0</td>\n",
       "      <td>secondary education</td>\n",
       "      <td>1</td>\n",
       "      <td>unmarried</td>\n",
       "      <td>4</td>\n",
       "      <td>M</td>\n",
       "      <td>employee</td>\n",
       "      <td>0</td>\n",
       "      <td>24387.070</td>\n",
       "      <td>housing transactions</td>\n",
       "    </tr>\n",
       "  </tbody>\n",
       "</table>\n",
       "<p>101 rows × 12 columns</p>\n",
       "</div>"
      ],
      "text/plain": [
       "       children  days_employed  dob_years            education  education_id  \\\n",
       "99            0  346541.618895          0  secondary education             1   \n",
       "149           0   -2664.273168          0  secondary education             1   \n",
       "270           3   -1872.663186          0  secondary education             1   \n",
       "578           0  397856.565013          0  secondary education             1   \n",
       "1040          0   -1158.029561          0    bachelor's degree             0   \n",
       "...         ...            ...        ...                  ...           ...   \n",
       "19829         0            NaN          0  secondary education             1   \n",
       "20462         0  338734.868540          0  secondary education             1   \n",
       "20577         0  331741.271455          0  secondary education             1   \n",
       "21179         2    -108.967042          0    bachelor's degree             0   \n",
       "21313         0   -1268.487728          0  secondary education             1   \n",
       "\n",
       "      family_status  family_status_id gender income_type  debt  total_income  \\\n",
       "99          married                 0      F     retiree     0     11406.644   \n",
       "149        divorced                 3      F    employee     0     11228.230   \n",
       "270         married                 0      F    employee     0     16346.633   \n",
       "578         married                 0      F     retiree     0     15619.310   \n",
       "1040       divorced                 3      F    business     0     48639.062   \n",
       "...             ...               ...    ...         ...   ...           ...   \n",
       "19829       married                 0      F    employee     0           NaN   \n",
       "20462       married                 0      F     retiree     0     41471.027   \n",
       "20577     unmarried                 4      F     retiree     0     20766.202   \n",
       "21179       married                 0      M    business     0     38512.321   \n",
       "21313     unmarried                 4      M    employee     0     24387.070   \n",
       "\n",
       "                            purpose  \n",
       "99                              car  \n",
       "149            housing transactions  \n",
       "270              housing renovation  \n",
       "578    construction of own property  \n",
       "1040                   to own a car  \n",
       "...                             ...  \n",
       "19829                       housing  \n",
       "20462      purchase of my own house  \n",
       "20577                      property  \n",
       "21179        building a real estate  \n",
       "21313          housing transactions  \n",
       "\n",
       "[101 rows x 12 columns]"
      ]
     },
     "execution_count": 27,
     "metadata": {},
     "output_type": "execute_result"
    }
   ],
   "source": [
    "# Check the `dob_years` for suspicious values and count the percentage\n",
    "customer_info[customer_info['dob_years'] < 18]            \n"
   ]
  },
  {
   "cell_type": "markdown",
   "metadata": {},
   "source": [
    "[Decide what you'll do with the problematic values and explain why.]"
   ]
  },
  {
   "cell_type": "markdown",
   "metadata": {},
   "source": [
    "I will replace the problematic values with the median because there are significant outliners."
   ]
  },
  {
   "cell_type": "code",
   "execution_count": 28,
   "metadata": {},
   "outputs": [
    {
     "data": {
      "text/plain": [
       "42.0"
      ]
     },
     "execution_count": 28,
     "metadata": {},
     "output_type": "execute_result"
    }
   ],
   "source": [
    "# Address the issues in the `dob_years` column, if they exist\n",
    "customer_info['dob_years'].median()"
   ]
  },
  {
   "cell_type": "code",
   "execution_count": 29,
   "metadata": {},
   "outputs": [],
   "source": [
    "customer_info['dob_years'] = customer_info['dob_years'].replace([0],43.0)"
   ]
  },
  {
   "cell_type": "code",
   "execution_count": 30,
   "metadata": {},
   "outputs": [
    {
     "data": {
      "text/html": [
       "<div>\n",
       "<style scoped>\n",
       "    .dataframe tbody tr th:only-of-type {\n",
       "        vertical-align: middle;\n",
       "    }\n",
       "\n",
       "    .dataframe tbody tr th {\n",
       "        vertical-align: top;\n",
       "    }\n",
       "\n",
       "    .dataframe thead th {\n",
       "        text-align: right;\n",
       "    }\n",
       "</style>\n",
       "<table border=\"1\" class=\"dataframe\">\n",
       "  <thead>\n",
       "    <tr style=\"text-align: right;\">\n",
       "      <th></th>\n",
       "      <th>children</th>\n",
       "      <th>days_employed</th>\n",
       "      <th>dob_years</th>\n",
       "      <th>education</th>\n",
       "      <th>education_id</th>\n",
       "      <th>family_status</th>\n",
       "      <th>family_status_id</th>\n",
       "      <th>gender</th>\n",
       "      <th>income_type</th>\n",
       "      <th>debt</th>\n",
       "      <th>total_income</th>\n",
       "      <th>purpose</th>\n",
       "    </tr>\n",
       "  </thead>\n",
       "  <tbody>\n",
       "  </tbody>\n",
       "</table>\n",
       "</div>"
      ],
      "text/plain": [
       "Empty DataFrame\n",
       "Columns: [children, days_employed, dob_years, education, education_id, family_status, family_status_id, gender, income_type, debt, total_income, purpose]\n",
       "Index: []"
      ]
     },
     "execution_count": 30,
     "metadata": {},
     "output_type": "execute_result"
    }
   ],
   "source": [
    "# Check the result - make sure it's fixed\n",
    "customer_info[customer_info['dob_years'] == 0] "
   ]
  },
  {
   "cell_type": "markdown",
   "metadata": {},
   "source": [
    "[Now let's check the `family_status` column. See what kind of values there are and what problems you may need to address.]"
   ]
  },
  {
   "cell_type": "code",
   "execution_count": 31,
   "metadata": {},
   "outputs": [
    {
     "data": {
      "text/plain": [
       "married              12380\n",
       "civil partnership     4177\n",
       "unmarried             2813\n",
       "divorced              1195\n",
       "widow / widower        960\n",
       "Name: family_status, dtype: int64"
      ]
     },
     "execution_count": 31,
     "metadata": {},
     "output_type": "execute_result"
    }
   ],
   "source": [
    "# Let's see the values for the column\n",
    "customer_info['family_status'].value_counts()\n"
   ]
  },
  {
   "cell_type": "markdown",
   "metadata": {},
   "source": [
    "There are no problematic values in this column."
   ]
  },
  {
   "cell_type": "markdown",
   "metadata": {},
   "source": [
    "[Now let's check the `gender` column. See what kind of values there are and what problems you may need to address]"
   ]
  },
  {
   "cell_type": "code",
   "execution_count": 34,
   "metadata": {},
   "outputs": [
    {
     "data": {
      "text/plain": [
       "F      14236\n",
       "M       7288\n",
       "XNA        1\n",
       "Name: gender, dtype: int64"
      ]
     },
     "execution_count": 34,
     "metadata": {},
     "output_type": "execute_result"
    }
   ],
   "source": [
    "# Let's see the values in the column\n",
    "customer_info['gender'].value_counts()"
   ]
  },
  {
   "cell_type": "markdown",
   "metadata": {},
   "source": [
    "I will drop the problematc value since it is only one value. "
   ]
  },
  {
   "cell_type": "code",
   "execution_count": 35,
   "metadata": {},
   "outputs": [],
   "source": [
    "# Address the problematic values, if they exist\n",
    "customer_info['gender'] = customer_info['gender'].replace(['XNA'],'NaN')"
   ]
  },
  {
   "cell_type": "code",
   "execution_count": 36,
   "metadata": {},
   "outputs": [
    {
     "data": {
      "text/plain": [
       "F      14236\n",
       "M       7288\n",
       "NaN        1\n",
       "Name: gender, dtype: int64"
      ]
     },
     "execution_count": 36,
     "metadata": {},
     "output_type": "execute_result"
    }
   ],
   "source": [
    "# Check the result - make sure it's fixed\n",
    "\n",
    "customer_info['gender'].value_counts()"
   ]
  },
  {
   "cell_type": "markdown",
   "metadata": {},
   "source": [
    "[Now let's check the `income_type` column. See what kind of values there are and what problems you may need to address]"
   ]
  },
  {
   "cell_type": "code",
   "execution_count": 37,
   "metadata": {},
   "outputs": [
    {
     "data": {
      "text/plain": [
       "employee                       11119\n",
       "business                        5085\n",
       "retiree                         3856\n",
       "civil servant                   1459\n",
       "unemployed                         2\n",
       "entrepreneur                       2\n",
       "paternity / maternity leave        1\n",
       "student                            1\n",
       "Name: income_type, dtype: int64"
      ]
     },
     "execution_count": 37,
     "metadata": {},
     "output_type": "execute_result"
    }
   ],
   "source": [
    "# Let's see the values in the column\n",
    "customer_info['income_type'].value_counts()"
   ]
  },
  {
   "cell_type": "markdown",
   "metadata": {},
   "source": [
    "There is no problematic value in this column."
   ]
  },
  {
   "cell_type": "markdown",
   "metadata": {},
   "source": [
    "[Now let's see if we have any duplicates in our data. If we do, you'll need to decide what you will do with them and explain why.]"
   ]
  },
  {
   "cell_type": "code",
   "execution_count": 40,
   "metadata": {},
   "outputs": [
    {
     "data": {
      "text/plain": [
       "71"
      ]
     },
     "execution_count": 40,
     "metadata": {},
     "output_type": "execute_result"
    }
   ],
   "source": [
    "# Checking duplicates\n",
    "customer_info.duplicated().sum()\n"
   ]
  },
  {
   "cell_type": "markdown",
   "metadata": {},
   "source": [
    "I will drop the duplicates because it is vey unlikely to have 2 or more people with the exact same data. "
   ]
  },
  {
   "cell_type": "code",
   "execution_count": 41,
   "metadata": {},
   "outputs": [],
   "source": [
    "# Address the duplicates, if they exist\n",
    "customer_info = customer_info.drop_duplicates().reset_index(drop=True)"
   ]
  },
  {
   "cell_type": "code",
   "execution_count": 42,
   "metadata": {},
   "outputs": [
    {
     "data": {
      "text/plain": [
       "0"
      ]
     },
     "execution_count": 42,
     "metadata": {},
     "output_type": "execute_result"
    }
   ],
   "source": [
    "# Last check whether we have any duplicates\n",
    "customer_info.duplicated().sum()"
   ]
  },
  {
   "cell_type": "code",
   "execution_count": 43,
   "metadata": {},
   "outputs": [
    {
     "data": {
      "text/plain": [
       "257448"
      ]
     },
     "execution_count": 43,
     "metadata": {},
     "output_type": "execute_result"
    }
   ],
   "source": [
    "# Check the size of the dataset that you now have after your first manipulations with it\n",
    "customer_info.size"
   ]
  },
  {
   "cell_type": "markdown",
   "metadata": {},
   "source": [
    "[Describe your new dataset: briefly say what's changed and what's the percentage of the changes, if there were any.]\n",
    "I dropped the duplicatesin the whole data set and changed all letters to lower case in education columns to make sure data has unique keys. I replaced the problematic value in dob_years and children column with appropriate data to not mess up the dataset. The percentage of the changes is (258300 - 257448)/258300 x 100= 0.3% which is the size of the data set at the beginning minus the size of the data set at the end divided by the begining size of the dataset."
   ]
  },
  {
   "cell_type": "markdown",
   "metadata": {},
   "source": []
  },
  {
   "cell_type": "markdown",
   "metadata": {},
   "source": [
    "# Working with missing values"
   ]
  },
  {
   "cell_type": "markdown",
   "metadata": {},
   "source": [
    "[To speed up working with some data, you may want to work with dictionaries for some values, where IDs are provided. Explain why and which dictionaries you will work with.]\n",
    "I will use dictionaries on the purpose column to keep the elements in key-value mapping format which will help ease the analysis."
   ]
  },
  {
   "cell_type": "code",
   "execution_count": 44,
   "metadata": {
    "scrolled": true
   },
   "outputs": [
    {
     "data": {
      "text/plain": [
       "array(['purchase of the house', 'car purchase', 'supplementary education',\n",
       "       'to have a wedding', 'housing transactions', 'education',\n",
       "       'having a wedding', 'purchase of the house for my family',\n",
       "       'buy real estate', 'buy commercial real estate',\n",
       "       'buy residential real estate', 'construction of own property',\n",
       "       'property', 'building a property', 'buying a second-hand car',\n",
       "       'buying my own car', 'transactions with commercial real estate',\n",
       "       'building a real estate', 'housing',\n",
       "       'transactions with my real estate', 'cars', 'to become educated',\n",
       "       'second-hand car purchase', 'getting an education', 'car',\n",
       "       'wedding ceremony', 'to get a supplementary education',\n",
       "       'purchase of my own house', 'real estate transactions',\n",
       "       'getting higher education', 'to own a car', 'purchase of a car',\n",
       "       'profile education', 'university education',\n",
       "       'buying property for renting out', 'to buy a car',\n",
       "       'housing renovation', 'going to university'], dtype=object)"
      ]
     },
     "execution_count": 44,
     "metadata": {},
     "output_type": "execute_result"
    }
   ],
   "source": [
    "customer_info['purpose'].unique()"
   ]
  },
  {
   "cell_type": "code",
   "execution_count": 45,
   "metadata": {},
   "outputs": [],
   "source": [
    "# Find the dictionaries\n",
    "purpose_to_category = {\n",
    "    'purchase of the house': 'house',\n",
    "    'housing transactions': 'house',\n",
    "    'purchase of the house for my family': 'house',\n",
    "    'buy residential real estate': 'house',\n",
    "    'construction of own property': 'house',\n",
    "    'property': 'house',\n",
    "    'building a property': 'house',\n",
    "    'housing': 'house',\n",
    "    'purchase of my own house': 'house',\n",
    "    'housing renovation': 'house',\n",
    "    'buying property for renting out': 'house',\n",
    "    'buy real estate': 'real estate',\n",
    "    'buy commercial real estate': 'real estate',\n",
    "    'transactions with commercial real estate': 'real estate',\n",
    "    'building a real estate': 'real estate',\n",
    "    'transactions with my real estate': 'real estate',\n",
    "    'real estate transactions': 'real estate',\n",
    "    'car purchase': 'car',\n",
    "    'buying a second-hand car': 'car',\n",
    "    'buying my own car': 'car',\n",
    "    'cars': 'car',\n",
    "    'second-hand car purchase': 'car',\n",
    "    'car': 'car',\n",
    "    'to own a car': 'car', \n",
    "    'purchase of a car': 'car',\n",
    "    'to buy a car': 'car',\n",
    "    'supplementary education': 'education',\n",
    "    'education': 'education',\n",
    "    'to become educated': 'education',\n",
    "    'getting an education': 'education',\n",
    "    'to get a supplementary education': 'education',\n",
    "    'getting higher education': 'education',\n",
    "    'university education': 'education',\n",
    "    'going to university': 'education',\n",
    "    'to have a wedding': 'wedding',\n",
    "    'having a wedding': 'wedding',\n",
    "    'wedding ceremony': 'wedding',    \n",
    "}"
   ]
  },
  {
   "cell_type": "markdown",
   "metadata": {},
   "source": [
    "### Restoring missing values in `total_income`"
   ]
  },
  {
   "cell_type": "markdown",
   "metadata": {},
   "source": [
    "[Briefly state which column(s) have values missing that you need to address. Explain how you will fix them.]\n",
    "days_employed and total_income columns have missing values. I will replace the missing values with mean or median depending on whichever is more appropriate.\n",
    "\n"
   ]
  },
  {
   "cell_type": "code",
   "execution_count": 46,
   "metadata": {},
   "outputs": [],
   "source": [
    "# Let's write a function that calculates the age category\n",
    "\n",
    "def age_group(dob_years):\n",
    "    if 18 < dob_years <= 24:\n",
    "        return 'youth'\n",
    "    if 25 <= dob_years <65:\n",
    "        return 'adult'\n",
    "    return 'senior'\n"
   ]
  },
  {
   "cell_type": "code",
   "execution_count": 47,
   "metadata": {},
   "outputs": [
    {
     "data": {
      "text/plain": [
       "'senior'"
      ]
     },
     "execution_count": 47,
     "metadata": {},
     "output_type": "execute_result"
    }
   ],
   "source": [
    "# Test if the function works\n",
    "age_group(68)"
   ]
  },
  {
   "cell_type": "code",
   "execution_count": 48,
   "metadata": {},
   "outputs": [],
   "source": [
    "\n",
    "# Creating new column based on function\n",
    "\n",
    "customer_info['age_group'] = customer_info['dob_years'].apply(age_group)"
   ]
  },
  {
   "cell_type": "code",
   "execution_count": 49,
   "metadata": {},
   "outputs": [
    {
     "data": {
      "text/plain": [
       "adult     19684\n",
       "senior      895\n",
       "youth       875\n",
       "Name: age_group, dtype: int64"
      ]
     },
     "execution_count": 49,
     "metadata": {},
     "output_type": "execute_result"
    }
   ],
   "source": [
    "# Checking how values in the new column\n",
    "\n",
    "customer_info['age_group'].value_counts()"
   ]
  },
  {
   "cell_type": "markdown",
   "metadata": {},
   "source": [
    "[Think about the factors on which income usually depends. Eventually, you will want to find out whether you should use mean or median values for replacing missing values. To make this decision you will probably want to look at the distribution of the factors you identified as impacting one's income.]\n",
    "Age, education, income type, or marriage status might affect income. "
   ]
  },
  {
   "cell_type": "code",
   "execution_count": 50,
   "metadata": {},
   "outputs": [
    {
     "data": {
      "text/html": [
       "<div>\n",
       "<style scoped>\n",
       "    .dataframe tbody tr th:only-of-type {\n",
       "        vertical-align: middle;\n",
       "    }\n",
       "\n",
       "    .dataframe tbody tr th {\n",
       "        vertical-align: top;\n",
       "    }\n",
       "\n",
       "    .dataframe thead th {\n",
       "        text-align: right;\n",
       "    }\n",
       "</style>\n",
       "<table border=\"1\" class=\"dataframe\">\n",
       "  <thead>\n",
       "    <tr style=\"text-align: right;\">\n",
       "      <th></th>\n",
       "      <th>children</th>\n",
       "      <th>days_employed</th>\n",
       "      <th>dob_years</th>\n",
       "      <th>education</th>\n",
       "      <th>education_id</th>\n",
       "      <th>family_status</th>\n",
       "      <th>family_status_id</th>\n",
       "      <th>gender</th>\n",
       "      <th>income_type</th>\n",
       "      <th>debt</th>\n",
       "      <th>total_income</th>\n",
       "      <th>purpose</th>\n",
       "      <th>age_group</th>\n",
       "    </tr>\n",
       "  </thead>\n",
       "  <tbody>\n",
       "    <tr>\n",
       "      <th>0</th>\n",
       "      <td>1</td>\n",
       "      <td>-8437.673028</td>\n",
       "      <td>42.0</td>\n",
       "      <td>bachelor's degree</td>\n",
       "      <td>0</td>\n",
       "      <td>married</td>\n",
       "      <td>0</td>\n",
       "      <td>F</td>\n",
       "      <td>employee</td>\n",
       "      <td>0</td>\n",
       "      <td>40620.102</td>\n",
       "      <td>purchase of the house</td>\n",
       "      <td>adult</td>\n",
       "    </tr>\n",
       "    <tr>\n",
       "      <th>1</th>\n",
       "      <td>1</td>\n",
       "      <td>-4024.803754</td>\n",
       "      <td>36.0</td>\n",
       "      <td>secondary education</td>\n",
       "      <td>1</td>\n",
       "      <td>married</td>\n",
       "      <td>0</td>\n",
       "      <td>F</td>\n",
       "      <td>employee</td>\n",
       "      <td>0</td>\n",
       "      <td>17932.802</td>\n",
       "      <td>car purchase</td>\n",
       "      <td>adult</td>\n",
       "    </tr>\n",
       "    <tr>\n",
       "      <th>2</th>\n",
       "      <td>0</td>\n",
       "      <td>-5623.422610</td>\n",
       "      <td>33.0</td>\n",
       "      <td>secondary education</td>\n",
       "      <td>1</td>\n",
       "      <td>married</td>\n",
       "      <td>0</td>\n",
       "      <td>M</td>\n",
       "      <td>employee</td>\n",
       "      <td>0</td>\n",
       "      <td>23341.752</td>\n",
       "      <td>purchase of the house</td>\n",
       "      <td>adult</td>\n",
       "    </tr>\n",
       "    <tr>\n",
       "      <th>3</th>\n",
       "      <td>3</td>\n",
       "      <td>-4124.747207</td>\n",
       "      <td>32.0</td>\n",
       "      <td>secondary education</td>\n",
       "      <td>1</td>\n",
       "      <td>married</td>\n",
       "      <td>0</td>\n",
       "      <td>M</td>\n",
       "      <td>employee</td>\n",
       "      <td>0</td>\n",
       "      <td>42820.568</td>\n",
       "      <td>supplementary education</td>\n",
       "      <td>adult</td>\n",
       "    </tr>\n",
       "    <tr>\n",
       "      <th>4</th>\n",
       "      <td>0</td>\n",
       "      <td>340266.072047</td>\n",
       "      <td>53.0</td>\n",
       "      <td>secondary education</td>\n",
       "      <td>1</td>\n",
       "      <td>civil partnership</td>\n",
       "      <td>1</td>\n",
       "      <td>F</td>\n",
       "      <td>retiree</td>\n",
       "      <td>0</td>\n",
       "      <td>25378.572</td>\n",
       "      <td>to have a wedding</td>\n",
       "      <td>adult</td>\n",
       "    </tr>\n",
       "    <tr>\n",
       "      <th>5</th>\n",
       "      <td>0</td>\n",
       "      <td>-926.185831</td>\n",
       "      <td>27.0</td>\n",
       "      <td>bachelor's degree</td>\n",
       "      <td>0</td>\n",
       "      <td>civil partnership</td>\n",
       "      <td>1</td>\n",
       "      <td>M</td>\n",
       "      <td>business</td>\n",
       "      <td>0</td>\n",
       "      <td>40922.170</td>\n",
       "      <td>purchase of the house</td>\n",
       "      <td>adult</td>\n",
       "    </tr>\n",
       "    <tr>\n",
       "      <th>6</th>\n",
       "      <td>0</td>\n",
       "      <td>-2879.202052</td>\n",
       "      <td>43.0</td>\n",
       "      <td>bachelor's degree</td>\n",
       "      <td>0</td>\n",
       "      <td>married</td>\n",
       "      <td>0</td>\n",
       "      <td>F</td>\n",
       "      <td>business</td>\n",
       "      <td>0</td>\n",
       "      <td>38484.156</td>\n",
       "      <td>housing transactions</td>\n",
       "      <td>adult</td>\n",
       "    </tr>\n",
       "    <tr>\n",
       "      <th>7</th>\n",
       "      <td>0</td>\n",
       "      <td>-152.779569</td>\n",
       "      <td>50.0</td>\n",
       "      <td>secondary education</td>\n",
       "      <td>1</td>\n",
       "      <td>married</td>\n",
       "      <td>0</td>\n",
       "      <td>M</td>\n",
       "      <td>employee</td>\n",
       "      <td>0</td>\n",
       "      <td>21731.829</td>\n",
       "      <td>education</td>\n",
       "      <td>adult</td>\n",
       "    </tr>\n",
       "    <tr>\n",
       "      <th>8</th>\n",
       "      <td>2</td>\n",
       "      <td>-6929.865299</td>\n",
       "      <td>35.0</td>\n",
       "      <td>bachelor's degree</td>\n",
       "      <td>0</td>\n",
       "      <td>civil partnership</td>\n",
       "      <td>1</td>\n",
       "      <td>F</td>\n",
       "      <td>employee</td>\n",
       "      <td>0</td>\n",
       "      <td>15337.093</td>\n",
       "      <td>having a wedding</td>\n",
       "      <td>adult</td>\n",
       "    </tr>\n",
       "    <tr>\n",
       "      <th>9</th>\n",
       "      <td>0</td>\n",
       "      <td>-2188.756445</td>\n",
       "      <td>41.0</td>\n",
       "      <td>secondary education</td>\n",
       "      <td>1</td>\n",
       "      <td>married</td>\n",
       "      <td>0</td>\n",
       "      <td>M</td>\n",
       "      <td>employee</td>\n",
       "      <td>0</td>\n",
       "      <td>23108.150</td>\n",
       "      <td>purchase of the house for my family</td>\n",
       "      <td>adult</td>\n",
       "    </tr>\n",
       "    <tr>\n",
       "      <th>10</th>\n",
       "      <td>2</td>\n",
       "      <td>-4171.483647</td>\n",
       "      <td>36.0</td>\n",
       "      <td>bachelor's degree</td>\n",
       "      <td>0</td>\n",
       "      <td>married</td>\n",
       "      <td>0</td>\n",
       "      <td>M</td>\n",
       "      <td>business</td>\n",
       "      <td>0</td>\n",
       "      <td>18230.959</td>\n",
       "      <td>buy real estate</td>\n",
       "      <td>adult</td>\n",
       "    </tr>\n",
       "    <tr>\n",
       "      <th>11</th>\n",
       "      <td>0</td>\n",
       "      <td>-792.701887</td>\n",
       "      <td>40.0</td>\n",
       "      <td>secondary education</td>\n",
       "      <td>1</td>\n",
       "      <td>married</td>\n",
       "      <td>0</td>\n",
       "      <td>F</td>\n",
       "      <td>employee</td>\n",
       "      <td>0</td>\n",
       "      <td>12331.077</td>\n",
       "      <td>buy commercial real estate</td>\n",
       "      <td>adult</td>\n",
       "    </tr>\n",
       "    <tr>\n",
       "      <th>13</th>\n",
       "      <td>0</td>\n",
       "      <td>-1846.641941</td>\n",
       "      <td>54.0</td>\n",
       "      <td>some college</td>\n",
       "      <td>2</td>\n",
       "      <td>married</td>\n",
       "      <td>0</td>\n",
       "      <td>F</td>\n",
       "      <td>employee</td>\n",
       "      <td>0</td>\n",
       "      <td>20873.317</td>\n",
       "      <td>car purchase</td>\n",
       "      <td>adult</td>\n",
       "    </tr>\n",
       "    <tr>\n",
       "      <th>14</th>\n",
       "      <td>0</td>\n",
       "      <td>-1844.956182</td>\n",
       "      <td>56.0</td>\n",
       "      <td>bachelor's degree</td>\n",
       "      <td>0</td>\n",
       "      <td>civil partnership</td>\n",
       "      <td>1</td>\n",
       "      <td>F</td>\n",
       "      <td>business</td>\n",
       "      <td>1</td>\n",
       "      <td>26420.466</td>\n",
       "      <td>buy residential real estate</td>\n",
       "      <td>adult</td>\n",
       "    </tr>\n",
       "    <tr>\n",
       "      <th>15</th>\n",
       "      <td>1</td>\n",
       "      <td>-972.364419</td>\n",
       "      <td>26.0</td>\n",
       "      <td>secondary education</td>\n",
       "      <td>1</td>\n",
       "      <td>married</td>\n",
       "      <td>0</td>\n",
       "      <td>F</td>\n",
       "      <td>employee</td>\n",
       "      <td>0</td>\n",
       "      <td>18691.345</td>\n",
       "      <td>construction of own property</td>\n",
       "      <td>adult</td>\n",
       "    </tr>\n",
       "    <tr>\n",
       "      <th>16</th>\n",
       "      <td>0</td>\n",
       "      <td>-1719.934226</td>\n",
       "      <td>35.0</td>\n",
       "      <td>secondary education</td>\n",
       "      <td>1</td>\n",
       "      <td>married</td>\n",
       "      <td>0</td>\n",
       "      <td>F</td>\n",
       "      <td>employee</td>\n",
       "      <td>0</td>\n",
       "      <td>46272.433</td>\n",
       "      <td>property</td>\n",
       "      <td>adult</td>\n",
       "    </tr>\n",
       "    <tr>\n",
       "      <th>17</th>\n",
       "      <td>0</td>\n",
       "      <td>-2369.999720</td>\n",
       "      <td>33.0</td>\n",
       "      <td>bachelor's degree</td>\n",
       "      <td>0</td>\n",
       "      <td>civil partnership</td>\n",
       "      <td>1</td>\n",
       "      <td>M</td>\n",
       "      <td>employee</td>\n",
       "      <td>0</td>\n",
       "      <td>14465.694</td>\n",
       "      <td>building a property</td>\n",
       "      <td>adult</td>\n",
       "    </tr>\n",
       "    <tr>\n",
       "      <th>18</th>\n",
       "      <td>0</td>\n",
       "      <td>400281.136913</td>\n",
       "      <td>53.0</td>\n",
       "      <td>secondary education</td>\n",
       "      <td>1</td>\n",
       "      <td>widow / widower</td>\n",
       "      <td>2</td>\n",
       "      <td>F</td>\n",
       "      <td>retiree</td>\n",
       "      <td>0</td>\n",
       "      <td>9091.804</td>\n",
       "      <td>buying a second-hand car</td>\n",
       "      <td>adult</td>\n",
       "    </tr>\n",
       "    <tr>\n",
       "      <th>19</th>\n",
       "      <td>0</td>\n",
       "      <td>-10038.818549</td>\n",
       "      <td>48.0</td>\n",
       "      <td>secondary education</td>\n",
       "      <td>1</td>\n",
       "      <td>divorced</td>\n",
       "      <td>3</td>\n",
       "      <td>F</td>\n",
       "      <td>employee</td>\n",
       "      <td>0</td>\n",
       "      <td>38852.977</td>\n",
       "      <td>buying my own car</td>\n",
       "      <td>adult</td>\n",
       "    </tr>\n",
       "    <tr>\n",
       "      <th>20</th>\n",
       "      <td>1</td>\n",
       "      <td>-1311.604166</td>\n",
       "      <td>36.0</td>\n",
       "      <td>secondary education</td>\n",
       "      <td>1</td>\n",
       "      <td>married</td>\n",
       "      <td>0</td>\n",
       "      <td>M</td>\n",
       "      <td>employee</td>\n",
       "      <td>0</td>\n",
       "      <td>33528.423</td>\n",
       "      <td>property</td>\n",
       "      <td>adult</td>\n",
       "    </tr>\n",
       "    <tr>\n",
       "      <th>21</th>\n",
       "      <td>1</td>\n",
       "      <td>-253.685166</td>\n",
       "      <td>33.0</td>\n",
       "      <td>secondary education</td>\n",
       "      <td>1</td>\n",
       "      <td>civil partnership</td>\n",
       "      <td>1</td>\n",
       "      <td>F</td>\n",
       "      <td>employee</td>\n",
       "      <td>0</td>\n",
       "      <td>21089.953</td>\n",
       "      <td>car purchase</td>\n",
       "      <td>adult</td>\n",
       "    </tr>\n",
       "    <tr>\n",
       "      <th>22</th>\n",
       "      <td>1</td>\n",
       "      <td>-1766.644138</td>\n",
       "      <td>24.0</td>\n",
       "      <td>secondary education</td>\n",
       "      <td>1</td>\n",
       "      <td>civil partnership</td>\n",
       "      <td>1</td>\n",
       "      <td>F</td>\n",
       "      <td>employee</td>\n",
       "      <td>0</td>\n",
       "      <td>23948.983</td>\n",
       "      <td>buying a second-hand car</td>\n",
       "      <td>youth</td>\n",
       "    </tr>\n",
       "    <tr>\n",
       "      <th>23</th>\n",
       "      <td>0</td>\n",
       "      <td>-272.981385</td>\n",
       "      <td>21.0</td>\n",
       "      <td>bachelor's degree</td>\n",
       "      <td>0</td>\n",
       "      <td>civil partnership</td>\n",
       "      <td>1</td>\n",
       "      <td>M</td>\n",
       "      <td>employee</td>\n",
       "      <td>0</td>\n",
       "      <td>20522.515</td>\n",
       "      <td>to have a wedding</td>\n",
       "      <td>youth</td>\n",
       "    </tr>\n",
       "    <tr>\n",
       "      <th>24</th>\n",
       "      <td>1</td>\n",
       "      <td>338551.952911</td>\n",
       "      <td>57.0</td>\n",
       "      <td>secondary education</td>\n",
       "      <td>1</td>\n",
       "      <td>unmarried</td>\n",
       "      <td>4</td>\n",
       "      <td>F</td>\n",
       "      <td>retiree</td>\n",
       "      <td>0</td>\n",
       "      <td>46487.558</td>\n",
       "      <td>transactions with commercial real estate</td>\n",
       "      <td>adult</td>\n",
       "    </tr>\n",
       "    <tr>\n",
       "      <th>25</th>\n",
       "      <td>0</td>\n",
       "      <td>363548.489348</td>\n",
       "      <td>67.0</td>\n",
       "      <td>secondary education</td>\n",
       "      <td>1</td>\n",
       "      <td>married</td>\n",
       "      <td>0</td>\n",
       "      <td>M</td>\n",
       "      <td>retiree</td>\n",
       "      <td>0</td>\n",
       "      <td>8818.041</td>\n",
       "      <td>buy real estate</td>\n",
       "      <td>senior</td>\n",
       "    </tr>\n",
       "    <tr>\n",
       "      <th>27</th>\n",
       "      <td>0</td>\n",
       "      <td>-529.191635</td>\n",
       "      <td>28.0</td>\n",
       "      <td>bachelor's degree</td>\n",
       "      <td>0</td>\n",
       "      <td>married</td>\n",
       "      <td>0</td>\n",
       "      <td>M</td>\n",
       "      <td>employee</td>\n",
       "      <td>0</td>\n",
       "      <td>49415.837</td>\n",
       "      <td>construction of own property</td>\n",
       "      <td>adult</td>\n",
       "    </tr>\n",
       "    <tr>\n",
       "      <th>28</th>\n",
       "      <td>1</td>\n",
       "      <td>-717.274324</td>\n",
       "      <td>26.0</td>\n",
       "      <td>bachelor's degree</td>\n",
       "      <td>0</td>\n",
       "      <td>married</td>\n",
       "      <td>0</td>\n",
       "      <td>F</td>\n",
       "      <td>employee</td>\n",
       "      <td>0</td>\n",
       "      <td>30058.118</td>\n",
       "      <td>construction of own property</td>\n",
       "      <td>adult</td>\n",
       "    </tr>\n",
       "    <tr>\n",
       "      <th>30</th>\n",
       "      <td>1</td>\n",
       "      <td>335581.668515</td>\n",
       "      <td>62.0</td>\n",
       "      <td>secondary education</td>\n",
       "      <td>1</td>\n",
       "      <td>married</td>\n",
       "      <td>0</td>\n",
       "      <td>F</td>\n",
       "      <td>retiree</td>\n",
       "      <td>0</td>\n",
       "      <td>27432.971</td>\n",
       "      <td>transactions with commercial real estate</td>\n",
       "      <td>adult</td>\n",
       "    </tr>\n",
       "    <tr>\n",
       "      <th>31</th>\n",
       "      <td>0</td>\n",
       "      <td>-1682.083438</td>\n",
       "      <td>47.0</td>\n",
       "      <td>primary education</td>\n",
       "      <td>3</td>\n",
       "      <td>married</td>\n",
       "      <td>0</td>\n",
       "      <td>F</td>\n",
       "      <td>employee</td>\n",
       "      <td>0</td>\n",
       "      <td>44077.710</td>\n",
       "      <td>housing</td>\n",
       "      <td>adult</td>\n",
       "    </tr>\n",
       "    <tr>\n",
       "      <th>32</th>\n",
       "      <td>0</td>\n",
       "      <td>-4649.910832</td>\n",
       "      <td>34.0</td>\n",
       "      <td>secondary education</td>\n",
       "      <td>1</td>\n",
       "      <td>civil partnership</td>\n",
       "      <td>1</td>\n",
       "      <td>F</td>\n",
       "      <td>employee</td>\n",
       "      <td>1</td>\n",
       "      <td>22249.194</td>\n",
       "      <td>having a wedding</td>\n",
       "      <td>adult</td>\n",
       "    </tr>\n",
       "  </tbody>\n",
       "</table>\n",
       "</div>"
      ],
      "text/plain": [
       "    children  days_employed  dob_years            education  education_id  \\\n",
       "0          1   -8437.673028       42.0    bachelor's degree             0   \n",
       "1          1   -4024.803754       36.0  secondary education             1   \n",
       "2          0   -5623.422610       33.0  secondary education             1   \n",
       "3          3   -4124.747207       32.0  secondary education             1   \n",
       "4          0  340266.072047       53.0  secondary education             1   \n",
       "5          0    -926.185831       27.0    bachelor's degree             0   \n",
       "6          0   -2879.202052       43.0    bachelor's degree             0   \n",
       "7          0    -152.779569       50.0  secondary education             1   \n",
       "8          2   -6929.865299       35.0    bachelor's degree             0   \n",
       "9          0   -2188.756445       41.0  secondary education             1   \n",
       "10         2   -4171.483647       36.0    bachelor's degree             0   \n",
       "11         0    -792.701887       40.0  secondary education             1   \n",
       "13         0   -1846.641941       54.0         some college             2   \n",
       "14         0   -1844.956182       56.0    bachelor's degree             0   \n",
       "15         1    -972.364419       26.0  secondary education             1   \n",
       "16         0   -1719.934226       35.0  secondary education             1   \n",
       "17         0   -2369.999720       33.0    bachelor's degree             0   \n",
       "18         0  400281.136913       53.0  secondary education             1   \n",
       "19         0  -10038.818549       48.0  secondary education             1   \n",
       "20         1   -1311.604166       36.0  secondary education             1   \n",
       "21         1    -253.685166       33.0  secondary education             1   \n",
       "22         1   -1766.644138       24.0  secondary education             1   \n",
       "23         0    -272.981385       21.0    bachelor's degree             0   \n",
       "24         1  338551.952911       57.0  secondary education             1   \n",
       "25         0  363548.489348       67.0  secondary education             1   \n",
       "27         0    -529.191635       28.0    bachelor's degree             0   \n",
       "28         1    -717.274324       26.0    bachelor's degree             0   \n",
       "30         1  335581.668515       62.0  secondary education             1   \n",
       "31         0   -1682.083438       47.0    primary education             3   \n",
       "32         0   -4649.910832       34.0  secondary education             1   \n",
       "\n",
       "        family_status  family_status_id gender income_type  debt  \\\n",
       "0             married                 0      F    employee     0   \n",
       "1             married                 0      F    employee     0   \n",
       "2             married                 0      M    employee     0   \n",
       "3             married                 0      M    employee     0   \n",
       "4   civil partnership                 1      F     retiree     0   \n",
       "5   civil partnership                 1      M    business     0   \n",
       "6             married                 0      F    business     0   \n",
       "7             married                 0      M    employee     0   \n",
       "8   civil partnership                 1      F    employee     0   \n",
       "9             married                 0      M    employee     0   \n",
       "10            married                 0      M    business     0   \n",
       "11            married                 0      F    employee     0   \n",
       "13            married                 0      F    employee     0   \n",
       "14  civil partnership                 1      F    business     1   \n",
       "15            married                 0      F    employee     0   \n",
       "16            married                 0      F    employee     0   \n",
       "17  civil partnership                 1      M    employee     0   \n",
       "18    widow / widower                 2      F     retiree     0   \n",
       "19           divorced                 3      F    employee     0   \n",
       "20            married                 0      M    employee     0   \n",
       "21  civil partnership                 1      F    employee     0   \n",
       "22  civil partnership                 1      F    employee     0   \n",
       "23  civil partnership                 1      M    employee     0   \n",
       "24          unmarried                 4      F     retiree     0   \n",
       "25            married                 0      M     retiree     0   \n",
       "27            married                 0      M    employee     0   \n",
       "28            married                 0      F    employee     0   \n",
       "30            married                 0      F     retiree     0   \n",
       "31            married                 0      F    employee     0   \n",
       "32  civil partnership                 1      F    employee     1   \n",
       "\n",
       "    total_income                                   purpose age_group  \n",
       "0      40620.102                     purchase of the house     adult  \n",
       "1      17932.802                              car purchase     adult  \n",
       "2      23341.752                     purchase of the house     adult  \n",
       "3      42820.568                   supplementary education     adult  \n",
       "4      25378.572                         to have a wedding     adult  \n",
       "5      40922.170                     purchase of the house     adult  \n",
       "6      38484.156                      housing transactions     adult  \n",
       "7      21731.829                                 education     adult  \n",
       "8      15337.093                          having a wedding     adult  \n",
       "9      23108.150       purchase of the house for my family     adult  \n",
       "10     18230.959                           buy real estate     adult  \n",
       "11     12331.077                buy commercial real estate     adult  \n",
       "13     20873.317                              car purchase     adult  \n",
       "14     26420.466               buy residential real estate     adult  \n",
       "15     18691.345              construction of own property     adult  \n",
       "16     46272.433                                  property     adult  \n",
       "17     14465.694                       building a property     adult  \n",
       "18      9091.804                  buying a second-hand car     adult  \n",
       "19     38852.977                         buying my own car     adult  \n",
       "20     33528.423                                  property     adult  \n",
       "21     21089.953                              car purchase     adult  \n",
       "22     23948.983                  buying a second-hand car     youth  \n",
       "23     20522.515                         to have a wedding     youth  \n",
       "24     46487.558  transactions with commercial real estate     adult  \n",
       "25      8818.041                           buy real estate    senior  \n",
       "27     49415.837              construction of own property     adult  \n",
       "28     30058.118              construction of own property     adult  \n",
       "30     27432.971  transactions with commercial real estate     adult  \n",
       "31     44077.710                                   housing     adult  \n",
       "32     22249.194                          having a wedding     adult  "
      ]
     },
     "execution_count": 50,
     "metadata": {},
     "output_type": "execute_result"
    }
   ],
   "source": [
    "# Create a table without missing values and print a few of its rows to make sure it looks fine\n",
    "customer_info_drop = customer_info[(customer_info['days_employed'].isna() == False)&(customer_info['total_income'].isna() == False)]\n",
    "customer_info_drop.head(30)"
   ]
  },
  {
   "cell_type": "code",
   "execution_count": 51,
   "metadata": {},
   "outputs": [
    {
     "name": "stdout",
     "output_type": "stream",
     "text": [
      "age_group\n",
      "adult     27208.428335\n",
      "senior    21542.650450\n",
      "youth     22703.351103\n",
      "Name: total_income, dtype: float64\n",
      "\n",
      "\n",
      "education\n",
      "bachelor's degree      33142.802434\n",
      "graduate degree        27960.024667\n",
      "primary education      21144.882211\n",
      "secondary education    24594.503037\n",
      "some college           29045.443644\n",
      "Name: total_income, dtype: float64\n",
      "\n",
      "\n",
      "family_status\n",
      "civil partnership    26694.428597\n",
      "divorced             27189.354550\n",
      "married              27041.784689\n",
      "unmarried            26934.069805\n",
      "widow / widower      22984.208556\n",
      "Name: total_income, dtype: float64\n",
      "\n",
      "\n",
      "income_type\n",
      "business                       32386.793835\n",
      "civil servant                  27343.729582\n",
      "employee                       25820.841683\n",
      "entrepreneur                   79866.103000\n",
      "paternity / maternity leave     8612.661000\n",
      "retiree                        21940.394503\n",
      "student                        15712.260000\n",
      "unemployed                     21014.360500\n",
      "Name: total_income, dtype: float64\n",
      "\n",
      "\n",
      "gender\n",
      "F      24655.604757\n",
      "M      30907.144369\n",
      "NaN    32624.825000\n",
      "Name: total_income, dtype: float64\n",
      "\n",
      "\n"
     ]
    }
   ],
   "source": [
    "# Look at the mean values for income based on your identified factors\n",
    "array = ['age_group', 'education', 'family_status', 'income_type', 'gender']\n",
    "for i in array:\n",
    "    print(customer_info_drop.groupby(i)['total_income'].mean())\n",
    "    print(\"\\n\")\n",
    "\n"
   ]
  },
  {
   "cell_type": "code",
   "execution_count": 52,
   "metadata": {
    "scrolled": true
   },
   "outputs": [
    {
     "name": "stdout",
     "output_type": "stream",
     "text": [
      "age_group\n",
      "adult     23540.1295\n",
      "senior    18471.3910\n",
      "youth     20572.2090\n",
      "Name: total_income, dtype: float64\n",
      "\n",
      "\n",
      "education\n",
      "bachelor's degree      28054.5310\n",
      "graduate degree        25161.5835\n",
      "primary education      18741.9760\n",
      "secondary education    21836.5830\n",
      "some college           25618.4640\n",
      "Name: total_income, dtype: float64\n",
      "\n",
      "\n",
      "family_status\n",
      "civil partnership    23186.534\n",
      "divorced             23515.096\n",
      "married              23389.540\n",
      "unmarried            23149.028\n",
      "widow / widower      20514.190\n",
      "Name: total_income, dtype: float64\n",
      "\n",
      "\n",
      "income_type\n",
      "business                       27577.2720\n",
      "civil servant                  24071.6695\n",
      "employee                       22815.1035\n",
      "entrepreneur                   79866.1030\n",
      "paternity / maternity leave     8612.6610\n",
      "retiree                        18962.3180\n",
      "student                        15712.2600\n",
      "unemployed                     21014.3605\n",
      "Name: total_income, dtype: float64\n",
      "\n",
      "\n",
      "gender\n",
      "F      21464.845\n",
      "M      26834.295\n",
      "NaN    32624.825\n",
      "Name: total_income, dtype: float64\n",
      "\n",
      "\n"
     ]
    }
   ],
   "source": [
    "# Look at the median values for income based on your identified factors\n",
    "array = ['age_group', 'education', 'family_status', 'income_type', 'gender']\n",
    "for i in array:\n",
    "    print(customer_info_drop.groupby(i)['total_income'].median())\n",
    "    print(\"\\n\")"
   ]
  },
  {
   "cell_type": "markdown",
   "metadata": {},
   "source": [
    "[Repeat such comparisons for multiple factors. Make sure you consider different aspects and explain your thinking process.]\n",
    "I compared multiple conditions which are age_group, education, family_status, children, and gender to get different aspects of the data. My logic was that as you get older your experience level increases which directly affects your income. So does education level. I did not think family status or number of children would affect the income but only the the amount of tax they are paying, thus I wanted to make sure. Lastly, I wanted to consider economic inequality by gender and grouped the data by gender column as well. \n"
   ]
  },
  {
   "cell_type": "markdown",
   "metadata": {},
   "source": [
    "[Make a decision on what characteristics define income most and whether you will use a median or a mean. Explain why you made this decision]\n",
    "I will use median to replace the missing values because we need to take the outliners into account in this situation. In the dataset, there are very low or high incomes which end up in a higher mean value. The characteristics that affect the income most are income types, education, and gender. But I will use education to fill in missing values as I believe it to be more accurate."
   ]
  },
  {
   "cell_type": "code",
   "execution_count": 57,
   "metadata": {},
   "outputs": [],
   "source": [
    "#  Write a function that we will use for filling in missing values\n",
    "income_groups_missing_values = [\"bachelor's degree\", 'graduate degree', 'primary education', 'secondary education', 'some college'] \n",
    "\n",
    "for group in income_groups_missing_values:\n",
    "    group_median_value = customer_info[customer_info['income_type'] == group]['total_income'].median()\n",
    "    customer_info.loc[(customer_info['income_type'] == group), 'total_income'] = customer_info.loc[(customer_info['income_type'] == group), 'total_income'].fillna(group_median_value)"
   ]
  },
  {
   "cell_type": "code",
   "execution_count": 58,
   "metadata": {},
   "outputs": [
    {
     "data": {
      "text/plain": [
       "2103"
      ]
     },
     "execution_count": 58,
     "metadata": {},
     "output_type": "execute_result"
    }
   ],
   "source": [
    "# Check if it works\n",
    "\n",
    "customer_info['total_income'].isna().sum()"
   ]
  },
  {
   "cell_type": "code",
   "execution_count": 243,
   "metadata": {},
   "outputs": [
    {
     "data": {
      "text/html": [
       "<div>\n",
       "<style scoped>\n",
       "    .dataframe tbody tr th:only-of-type {\n",
       "        vertical-align: middle;\n",
       "    }\n",
       "\n",
       "    .dataframe tbody tr th {\n",
       "        vertical-align: top;\n",
       "    }\n",
       "\n",
       "    .dataframe thead th {\n",
       "        text-align: right;\n",
       "    }\n",
       "</style>\n",
       "<table border=\"1\" class=\"dataframe\">\n",
       "  <thead>\n",
       "    <tr style=\"text-align: right;\">\n",
       "      <th></th>\n",
       "      <th>children</th>\n",
       "      <th>days_employed</th>\n",
       "      <th>dob_years</th>\n",
       "      <th>education</th>\n",
       "      <th>education_id</th>\n",
       "      <th>family_status</th>\n",
       "      <th>family_status_id</th>\n",
       "      <th>gender</th>\n",
       "      <th>income_type</th>\n",
       "      <th>debt</th>\n",
       "      <th>total_income</th>\n",
       "      <th>purpose</th>\n",
       "      <th>age_group</th>\n",
       "    </tr>\n",
       "  </thead>\n",
       "  <tbody>\n",
       "    <tr>\n",
       "      <th>0</th>\n",
       "      <td>1</td>\n",
       "      <td>-8437.673028</td>\n",
       "      <td>42.0</td>\n",
       "      <td>bachelor's degree</td>\n",
       "      <td>0</td>\n",
       "      <td>married</td>\n",
       "      <td>0</td>\n",
       "      <td>F</td>\n",
       "      <td>employee</td>\n",
       "      <td>0</td>\n",
       "      <td>40620.102</td>\n",
       "      <td>purchase of the house</td>\n",
       "      <td>adult</td>\n",
       "    </tr>\n",
       "    <tr>\n",
       "      <th>1</th>\n",
       "      <td>1</td>\n",
       "      <td>-4024.803754</td>\n",
       "      <td>36.0</td>\n",
       "      <td>secondary education</td>\n",
       "      <td>1</td>\n",
       "      <td>married</td>\n",
       "      <td>0</td>\n",
       "      <td>F</td>\n",
       "      <td>employee</td>\n",
       "      <td>0</td>\n",
       "      <td>17932.802</td>\n",
       "      <td>car purchase</td>\n",
       "      <td>adult</td>\n",
       "    </tr>\n",
       "    <tr>\n",
       "      <th>2</th>\n",
       "      <td>0</td>\n",
       "      <td>-5623.422610</td>\n",
       "      <td>33.0</td>\n",
       "      <td>secondary education</td>\n",
       "      <td>1</td>\n",
       "      <td>married</td>\n",
       "      <td>0</td>\n",
       "      <td>M</td>\n",
       "      <td>employee</td>\n",
       "      <td>0</td>\n",
       "      <td>23341.752</td>\n",
       "      <td>purchase of the house</td>\n",
       "      <td>adult</td>\n",
       "    </tr>\n",
       "    <tr>\n",
       "      <th>3</th>\n",
       "      <td>3</td>\n",
       "      <td>-4124.747207</td>\n",
       "      <td>32.0</td>\n",
       "      <td>secondary education</td>\n",
       "      <td>1</td>\n",
       "      <td>married</td>\n",
       "      <td>0</td>\n",
       "      <td>M</td>\n",
       "      <td>employee</td>\n",
       "      <td>0</td>\n",
       "      <td>42820.568</td>\n",
       "      <td>supplementary education</td>\n",
       "      <td>adult</td>\n",
       "    </tr>\n",
       "    <tr>\n",
       "      <th>4</th>\n",
       "      <td>0</td>\n",
       "      <td>340266.072047</td>\n",
       "      <td>53.0</td>\n",
       "      <td>secondary education</td>\n",
       "      <td>1</td>\n",
       "      <td>civil partnership</td>\n",
       "      <td>1</td>\n",
       "      <td>F</td>\n",
       "      <td>retiree</td>\n",
       "      <td>0</td>\n",
       "      <td>25378.572</td>\n",
       "      <td>to have a wedding</td>\n",
       "      <td>adult</td>\n",
       "    </tr>\n",
       "    <tr>\n",
       "      <th>...</th>\n",
       "      <td>...</td>\n",
       "      <td>...</td>\n",
       "      <td>...</td>\n",
       "      <td>...</td>\n",
       "      <td>...</td>\n",
       "      <td>...</td>\n",
       "      <td>...</td>\n",
       "      <td>...</td>\n",
       "      <td>...</td>\n",
       "      <td>...</td>\n",
       "      <td>...</td>\n",
       "      <td>...</td>\n",
       "      <td>...</td>\n",
       "    </tr>\n",
       "    <tr>\n",
       "      <th>21449</th>\n",
       "      <td>1</td>\n",
       "      <td>-4529.316663</td>\n",
       "      <td>43.0</td>\n",
       "      <td>secondary education</td>\n",
       "      <td>1</td>\n",
       "      <td>civil partnership</td>\n",
       "      <td>1</td>\n",
       "      <td>F</td>\n",
       "      <td>business</td>\n",
       "      <td>0</td>\n",
       "      <td>35966.698</td>\n",
       "      <td>housing transactions</td>\n",
       "      <td>adult</td>\n",
       "    </tr>\n",
       "    <tr>\n",
       "      <th>21450</th>\n",
       "      <td>0</td>\n",
       "      <td>343937.404131</td>\n",
       "      <td>67.0</td>\n",
       "      <td>secondary education</td>\n",
       "      <td>1</td>\n",
       "      <td>married</td>\n",
       "      <td>0</td>\n",
       "      <td>F</td>\n",
       "      <td>retiree</td>\n",
       "      <td>0</td>\n",
       "      <td>24959.969</td>\n",
       "      <td>purchase of a car</td>\n",
       "      <td>senior</td>\n",
       "    </tr>\n",
       "    <tr>\n",
       "      <th>21451</th>\n",
       "      <td>1</td>\n",
       "      <td>-2113.346888</td>\n",
       "      <td>38.0</td>\n",
       "      <td>secondary education</td>\n",
       "      <td>1</td>\n",
       "      <td>civil partnership</td>\n",
       "      <td>1</td>\n",
       "      <td>M</td>\n",
       "      <td>employee</td>\n",
       "      <td>1</td>\n",
       "      <td>14347.610</td>\n",
       "      <td>property</td>\n",
       "      <td>adult</td>\n",
       "    </tr>\n",
       "    <tr>\n",
       "      <th>21452</th>\n",
       "      <td>3</td>\n",
       "      <td>-3112.481705</td>\n",
       "      <td>38.0</td>\n",
       "      <td>secondary education</td>\n",
       "      <td>1</td>\n",
       "      <td>married</td>\n",
       "      <td>0</td>\n",
       "      <td>M</td>\n",
       "      <td>employee</td>\n",
       "      <td>1</td>\n",
       "      <td>39054.888</td>\n",
       "      <td>buying my own car</td>\n",
       "      <td>adult</td>\n",
       "    </tr>\n",
       "    <tr>\n",
       "      <th>21453</th>\n",
       "      <td>2</td>\n",
       "      <td>-1984.507589</td>\n",
       "      <td>40.0</td>\n",
       "      <td>secondary education</td>\n",
       "      <td>1</td>\n",
       "      <td>married</td>\n",
       "      <td>0</td>\n",
       "      <td>F</td>\n",
       "      <td>employee</td>\n",
       "      <td>0</td>\n",
       "      <td>13127.587</td>\n",
       "      <td>to buy a car</td>\n",
       "      <td>adult</td>\n",
       "    </tr>\n",
       "  </tbody>\n",
       "</table>\n",
       "<p>21454 rows × 13 columns</p>\n",
       "</div>"
      ],
      "text/plain": [
       "       children  days_employed  dob_years            education  education_id  \\\n",
       "0             1   -8437.673028       42.0    bachelor's degree             0   \n",
       "1             1   -4024.803754       36.0  secondary education             1   \n",
       "2             0   -5623.422610       33.0  secondary education             1   \n",
       "3             3   -4124.747207       32.0  secondary education             1   \n",
       "4             0  340266.072047       53.0  secondary education             1   \n",
       "...         ...            ...        ...                  ...           ...   \n",
       "21449         1   -4529.316663       43.0  secondary education             1   \n",
       "21450         0  343937.404131       67.0  secondary education             1   \n",
       "21451         1   -2113.346888       38.0  secondary education             1   \n",
       "21452         3   -3112.481705       38.0  secondary education             1   \n",
       "21453         2   -1984.507589       40.0  secondary education             1   \n",
       "\n",
       "           family_status  family_status_id gender income_type  debt  \\\n",
       "0                married                 0      F    employee     0   \n",
       "1                married                 0      F    employee     0   \n",
       "2                married                 0      M    employee     0   \n",
       "3                married                 0      M    employee     0   \n",
       "4      civil partnership                 1      F     retiree     0   \n",
       "...                  ...               ...    ...         ...   ...   \n",
       "21449  civil partnership                 1      F    business     0   \n",
       "21450            married                 0      F     retiree     0   \n",
       "21451  civil partnership                 1      M    employee     1   \n",
       "21452            married                 0      M    employee     1   \n",
       "21453            married                 0      F    employee     0   \n",
       "\n",
       "       total_income                  purpose age_group  \n",
       "0         40620.102    purchase of the house     adult  \n",
       "1         17932.802             car purchase     adult  \n",
       "2         23341.752    purchase of the house     adult  \n",
       "3         42820.568  supplementary education     adult  \n",
       "4         25378.572        to have a wedding     adult  \n",
       "...             ...                      ...       ...  \n",
       "21449     35966.698     housing transactions     adult  \n",
       "21450     24959.969        purchase of a car    senior  \n",
       "21451     14347.610                 property     adult  \n",
       "21452     39054.888        buying my own car     adult  \n",
       "21453     13127.587             to buy a car     adult  \n",
       "\n",
       "[21454 rows x 13 columns]"
      ]
     },
     "execution_count": 243,
     "metadata": {},
     "output_type": "execute_result"
    }
   ],
   "source": [
    "# Apply it to every row\n",
    "#customer_info['total_income'] = customer_info['education'].apply(missing_income, axis=1)\n",
    "customer_info"
   ]
  },
  {
   "cell_type": "markdown",
   "metadata": {},
   "source": [
    "[If you've came across errors in preparing the values for missing data, it probably means there's something special about the data for the category. Give it some thought - you may want to fix some things manually, if there's enough data to find medians/means.]\n"
   ]
  },
  {
   "cell_type": "code",
   "execution_count": 245,
   "metadata": {},
   "outputs": [
    {
     "data": {
      "text/plain": [
       "21454"
      ]
     },
     "execution_count": 245,
     "metadata": {},
     "output_type": "execute_result"
    }
   ],
   "source": [
    "# Checking the number of entries in the columns\n",
    "\n",
    "len(customer_info['total_income'])"
   ]
  },
  {
   "cell_type": "markdown",
   "metadata": {},
   "source": [
    "###  Restoring values in `days_employed`"
   ]
  },
  {
   "cell_type": "code",
   "execution_count": 246,
   "metadata": {
    "pycharm": {
     "name": "#%%\n"
    }
   },
   "outputs": [
    {
     "name": "stdout",
     "output_type": "stream",
     "text": [
      "age_group\n",
      "adult      -1329.335740\n",
      "senior    360304.232308\n",
      "youth       -744.016267\n",
      "Name: days_employed, dtype: float64\n",
      "\n",
      "\n",
      "education\n",
      "bachelor's degree     -1342.373432\n",
      "graduate degree       -1380.316041\n",
      "primary education      -551.062561\n",
      "secondary education   -1184.327177\n",
      "some college          -1046.437583\n",
      "Name: days_employed, dtype: float64\n",
      "\n",
      "\n",
      "family_status\n",
      "civil partnership     -1197.176853\n",
      "divorced              -1146.122484\n",
      "married               -1332.196271\n",
      "unmarried             -1015.245549\n",
      "widow / widower      337017.713307\n",
      "Name: days_employed, dtype: float64\n",
      "\n",
      "\n",
      "income_type\n",
      "business                        -1547.382223\n",
      "civil servant                   -2689.368353\n",
      "employee                        -1574.202821\n",
      "entrepreneur                     -520.848083\n",
      "paternity / maternity leave     -3296.759962\n",
      "retiree                        365213.306266\n",
      "student                          -578.751554\n",
      "unemployed                     366413.652744\n",
      "Name: days_employed, dtype: float64\n",
      "\n",
      "\n",
      "gender\n",
      "F     -1179.313536\n",
      "M     -1249.250759\n",
      "NaN   -2358.600502\n",
      "Name: days_employed, dtype: float64\n",
      "\n",
      "\n"
     ]
    }
   ],
   "source": [
    "# Distribution of `days_employed` medians based on your identified parameters\n",
    "\n",
    "array = ['age_group', 'education', 'family_status', 'income_type', 'gender']\n",
    "for i in array:\n",
    "    print(customer_info_drop.groupby(i)['days_employed'].median())\n",
    "    print(\"\\n\")\n"
   ]
  },
  {
   "cell_type": "code",
   "execution_count": 247,
   "metadata": {},
   "outputs": [
    {
     "name": "stdout",
     "output_type": "stream",
     "text": [
      "age_group\n",
      "adult      54318.069835\n",
      "senior    312933.276967\n",
      "youth       -423.178637\n",
      "Name: days_employed, dtype: float64\n",
      "\n",
      "\n",
      "education\n",
      "bachelor's degree       38323.055702\n",
      "graduate degree        116630.048157\n",
      "primary education      127842.088750\n",
      "secondary education     72538.686698\n",
      "some college            17692.508357\n",
      "Name: days_employed, dtype: float64\n",
      "\n",
      "\n",
      "family_status\n",
      "civil partnership     54587.019762\n",
      "divorced              64819.140232\n",
      "married               59202.282275\n",
      "unmarried             43834.346331\n",
      "widow / widower      202957.656283\n",
      "Name: days_employed, dtype: float64\n",
      "\n",
      "\n",
      "income_type\n",
      "business                        -2111.524398\n",
      "civil servant                   -3399.896902\n",
      "employee                        -2326.499216\n",
      "entrepreneur                     -520.848083\n",
      "paternity / maternity leave     -3296.759962\n",
      "retiree                        365003.491245\n",
      "student                          -578.751554\n",
      "unemployed                     366413.652744\n",
      "Name: days_employed, dtype: float64\n",
      "\n",
      "\n",
      "gender\n",
      "F      78468.461641\n",
      "M      33250.274629\n",
      "NaN    -2358.600502\n",
      "Name: days_employed, dtype: float64\n",
      "\n",
      "\n"
     ]
    }
   ],
   "source": [
    "# Distribution of `days_employed` means based on your identified parameters\n",
    "array = ['age_group', 'education', 'family_status', 'income_type', 'gender']\n",
    "for i in array:\n",
    "    print(customer_info_drop.groupby(i)['days_employed'].mean())\n",
    "    print(\"\\n\")\n"
   ]
  },
  {
   "cell_type": "markdown",
   "metadata": {},
   "source": [
    "[Decide what you will use: means or medians. Explain why.]\n",
    "I will use medians to replace missing values because the mean gives negative values as 73% of the data. "
   ]
  },
  {
   "cell_type": "code",
   "execution_count": 248,
   "metadata": {},
   "outputs": [],
   "source": [
    "# Let's write a function that calculates means or medians (depending on your decision) based on your identified parameter\n",
    "def calculate_mean(indetifier):\n",
    "    return customer_info.groupby(indetifier)['days_employed'].mean()"
   ]
  },
  {
   "cell_type": "code",
   "execution_count": 249,
   "metadata": {},
   "outputs": [
    {
     "data": {
      "text/plain": [
       "education\n",
       "bachelor's degree       38323.055702\n",
       "graduate degree        116630.048157\n",
       "primary education      127842.088750\n",
       "secondary education     72538.686698\n",
       "some college            17692.508357\n",
       "Name: days_employed, dtype: float64"
      ]
     },
     "execution_count": 249,
     "metadata": {},
     "output_type": "execute_result"
    }
   ],
   "source": [
    "# Check that the function works\n",
    "calculate_mean('education')\n"
   ]
  },
  {
   "cell_type": "code",
   "execution_count": 250,
   "metadata": {},
   "outputs": [
    {
     "data": {
      "text/plain": [
       "income_type\n",
       "business                        -2111.524398\n",
       "civil servant                   -3399.896902\n",
       "employee                        -2326.499216\n",
       "entrepreneur                     -520.848083\n",
       "paternity / maternity leave     -3296.759962\n",
       "retiree                        365003.491245\n",
       "student                          -578.751554\n",
       "unemployed                     366413.652744\n",
       "Name: days_employed, dtype: float64"
      ]
     },
     "execution_count": 250,
     "metadata": {},
     "output_type": "execute_result"
    }
   ],
   "source": [
    "# Apply function to the income_type\n",
    "#customer_info_income=float(customer_info['income_type'])\n",
    "#customer_info_income.apply(calculate_mean)\n",
    "\n",
    "calculate_mean('income_type')"
   ]
  },
  {
   "cell_type": "code",
   "execution_count": 251,
   "metadata": {},
   "outputs": [
    {
     "data": {
      "text/plain": [
       "0        employee\n",
       "1        employee\n",
       "2        employee\n",
       "3        employee\n",
       "4         retiree\n",
       "           ...   \n",
       "21449    business\n",
       "21450     retiree\n",
       "21451    employee\n",
       "21452    employee\n",
       "21453    employee\n",
       "Name: income_type, Length: 21454, dtype: object"
      ]
     },
     "execution_count": 251,
     "metadata": {},
     "output_type": "execute_result"
    }
   ],
   "source": [
    "# Check if function worked\n",
    "customer_info['income_type']"
   ]
  },
  {
   "cell_type": "code",
   "execution_count": 252,
   "metadata": {},
   "outputs": [
    {
     "data": {
      "text/plain": [
       "0         -8437.673028\n",
       "1         -4024.803754\n",
       "2         -5623.422610\n",
       "3         -4124.747207\n",
       "4        340266.072047\n",
       "             ...      \n",
       "21449     -4529.316663\n",
       "21450    343937.404131\n",
       "21451     -2113.346888\n",
       "21452     -3112.481705\n",
       "21453     -1984.507589\n",
       "Name: days_employed, Length: 21454, dtype: float64"
      ]
     },
     "execution_count": 252,
     "metadata": {},
     "output_type": "execute_result"
    }
   ],
   "source": [
    "# Replacing missing values\n",
    "customer_info['days_employed'].fillna(customer_info['days_employed'].mean())\n"
   ]
  },
  {
   "cell_type": "markdown",
   "metadata": {},
   "source": [
    "[When you think you've finished with `total_income`, check that the total number of values in this column matches the number of values in other ones.]"
   ]
  },
  {
   "cell_type": "code",
   "execution_count": 253,
   "metadata": {},
   "outputs": [
    {
     "data": {
      "text/plain": [
       "21454"
      ]
     },
     "execution_count": 253,
     "metadata": {},
     "output_type": "execute_result"
    }
   ],
   "source": [
    "# Check the entries in all columns - make sure we fixed all missing values\n",
    "len(customer_info['days_employed'])"
   ]
  },
  {
   "cell_type": "code",
   "execution_count": 254,
   "metadata": {},
   "outputs": [
    {
     "data": {
      "text/plain": [
       "(21454, 13)"
      ]
     },
     "execution_count": 254,
     "metadata": {},
     "output_type": "execute_result"
    }
   ],
   "source": [
    "customer_info.shape"
   ]
  },
  {
   "cell_type": "markdown",
   "metadata": {},
   "source": [
    "## Categorization of data\n",
    "\n",
    "[To answer the questions and test the hypotheses, you will want to work with categorized data. Look at the questions that were posed to you and that you should answer. Think about which of the data will need to be categorized to answer these questions. Below you will find a template through which you can work your way when categorizing data. The first step-by-step processing covers the text data; the second one addresses the numerical data that needs to be categorized. You can use both or none of the suggested instructions - it's up to you.]\n",
    "\n",
    "[Despite of how you decide to address the categorization, make sure to provide clear explanation of why you made your decision. Remember: this is your work and you make all decisions in it.]\n"
   ]
  },
  {
   "cell_type": "code",
   "execution_count": 255,
   "metadata": {
    "scrolled": true
   },
   "outputs": [
    {
     "data": {
      "text/plain": [
       "0        1\n",
       "1        1\n",
       "2        0\n",
       "3        3\n",
       "4        0\n",
       "        ..\n",
       "21449    1\n",
       "21450    0\n",
       "21451    1\n",
       "21452    3\n",
       "21453    2\n",
       "Name: children, Length: 21454, dtype: int64"
      ]
     },
     "execution_count": 255,
     "metadata": {},
     "output_type": "execute_result"
    }
   ],
   "source": [
    "# Print the values for your selected data for categorization\n",
    "\n",
    "customer_info['children']\n"
   ]
  },
  {
   "cell_type": "code",
   "execution_count": 256,
   "metadata": {},
   "outputs": [
    {
     "data": {
      "text/plain": [
       "array([1, 0, 3, 2, 4, 5])"
      ]
     },
     "execution_count": 256,
     "metadata": {},
     "output_type": "execute_result"
    }
   ],
   "source": [
    "# Check the unique values\n",
    "customer_info['children'].unique()"
   ]
  },
  {
   "cell_type": "code",
   "execution_count": 257,
   "metadata": {},
   "outputs": [],
   "source": [
    "# Let's write a function to categorize the data based on common topics\n",
    "def categorize(children):\n",
    "    if 0 <= children <= 2:\n",
    "        return 'small family'\n",
    "    if 2 < children <= 4:\n",
    "        return 'average family'\n",
    "    return 'large family'"
   ]
  },
  {
   "cell_type": "code",
   "execution_count": 258,
   "metadata": {},
   "outputs": [
    {
     "data": {
      "text/plain": [
       "small family      21074\n",
       "average family      371\n",
       "large family          9\n",
       "Name: family_size, dtype: int64"
      ]
     },
     "execution_count": 258,
     "metadata": {},
     "output_type": "execute_result"
    }
   ],
   "source": [
    "# Create a column with the categories and count the values for them\n",
    "customer_info['family_size'] = customer_info['children'].apply(categorize)\n",
    "customer_info['family_size'].value_counts()"
   ]
  },
  {
   "cell_type": "code",
   "execution_count": 259,
   "metadata": {},
   "outputs": [
    {
     "data": {
      "text/plain": [
       "0          small family\n",
       "1          small family\n",
       "2          small family\n",
       "3        average family\n",
       "4          small family\n",
       "              ...      \n",
       "21449      small family\n",
       "21450      small family\n",
       "21451      small family\n",
       "21452    average family\n",
       "21453      small family\n",
       "Name: family_size, Length: 21454, dtype: object"
      ]
     },
     "execution_count": 259,
     "metadata": {},
     "output_type": "execute_result"
    }
   ],
   "source": [
    "# Looking through all the numerical data in your selected column for categorization\n",
    "customer_info['family_size']"
   ]
  },
  {
   "cell_type": "code",
   "execution_count": 260,
   "metadata": {},
   "outputs": [
    {
     "data": {
      "text/plain": [
       "family_size\n",
       "average family    1154\n",
       "large family        45\n",
       "small family      8912\n",
       "Name: children, dtype: int64"
      ]
     },
     "execution_count": 260,
     "metadata": {},
     "output_type": "execute_result"
    }
   ],
   "source": [
    "# Getting summary statistics for the column\n",
    "customer_info.groupby('family_size')['children'].sum()\n"
   ]
  },
  {
   "cell_type": "markdown",
   "metadata": {},
   "source": [
    "[Decide what ranges you will use for grouping and explain why.]\n",
    "Having 0-2 children would be a small family where as having 3-4 children is average. Having more than 4 children is considered a large family. "
   ]
  },
  {
   "cell_type": "code",
   "execution_count": 264,
   "metadata": {},
   "outputs": [
    {
     "data": {
      "text/plain": [
       "employee                       11084\n",
       "business                        5078\n",
       "retiree                         3829\n",
       "civil servant                   1457\n",
       "entrepreneur                       2\n",
       "unemployed                         2\n",
       "paternity / maternity leave        1\n",
       "student                            1\n",
       "Name: income_type, dtype: int64"
      ]
     },
     "execution_count": 264,
     "metadata": {},
     "output_type": "execute_result"
    }
   ],
   "source": [
    "customer_info['income_type'].value_counts()"
   ]
  },
  {
   "cell_type": "code",
   "execution_count": 265,
   "metadata": {},
   "outputs": [],
   "source": [
    "def categorize_income(income_type):\n",
    "    if income_type == 'employee':\n",
    "        return 'employee'\n",
    "    if income_type == 'business':\n",
    "        return 'business'\n",
    "    if income_type == 'retiree':\n",
    "        return 'retiree'\n",
    "    if income_type == 'civil servant':\n",
    "        return 'civil servant'\n",
    "    return 'other'"
   ]
  },
  {
   "cell_type": "code",
   "execution_count": 266,
   "metadata": {},
   "outputs": [
    {
     "data": {
      "text/plain": [
       "employee         11084\n",
       "business          5078\n",
       "retiree           3829\n",
       "civil servant     1457\n",
       "other                6\n",
       "Name: income_groups, dtype: int64"
      ]
     },
     "execution_count": 266,
     "metadata": {},
     "output_type": "execute_result"
    }
   ],
   "source": [
    "customer_info['income_groups'] = customer_info['income_type'].apply(categorize_income)\n",
    "customer_info['income_groups'].value_counts()"
   ]
  },
  {
   "cell_type": "markdown",
   "metadata": {},
   "source": [
    "## Checking the Hypotheses\n"
   ]
  },
  {
   "cell_type": "markdown",
   "metadata": {},
   "source": [
    "**Is there a correlation between having children and paying back on time?**"
   ]
  },
  {
   "cell_type": "code",
   "execution_count": 267,
   "metadata": {},
   "outputs": [
    {
     "data": {
      "text/html": [
       "<div>\n",
       "<style scoped>\n",
       "    .dataframe tbody tr th:only-of-type {\n",
       "        vertical-align: middle;\n",
       "    }\n",
       "\n",
       "    .dataframe tbody tr th {\n",
       "        vertical-align: top;\n",
       "    }\n",
       "\n",
       "    .dataframe thead tr th {\n",
       "        text-align: left;\n",
       "    }\n",
       "\n",
       "    .dataframe thead tr:last-of-type th {\n",
       "        text-align: right;\n",
       "    }\n",
       "</style>\n",
       "<table border=\"1\" class=\"dataframe\">\n",
       "  <thead>\n",
       "    <tr>\n",
       "      <th></th>\n",
       "      <th>sum</th>\n",
       "      <th>count</th>\n",
       "      <th>mean</th>\n",
       "    </tr>\n",
       "    <tr>\n",
       "      <th></th>\n",
       "      <th>debt</th>\n",
       "      <th>debt</th>\n",
       "      <th>debt</th>\n",
       "    </tr>\n",
       "    <tr>\n",
       "      <th>children</th>\n",
       "      <th></th>\n",
       "      <th></th>\n",
       "      <th></th>\n",
       "    </tr>\n",
       "  </thead>\n",
       "  <tbody>\n",
       "    <tr>\n",
       "      <th>0</th>\n",
       "      <td>1072</td>\n",
       "      <td>14214</td>\n",
       "      <td>0.075419</td>\n",
       "    </tr>\n",
       "    <tr>\n",
       "      <th>1</th>\n",
       "      <td>444</td>\n",
       "      <td>4808</td>\n",
       "      <td>0.092346</td>\n",
       "    </tr>\n",
       "    <tr>\n",
       "      <th>2</th>\n",
       "      <td>194</td>\n",
       "      <td>2052</td>\n",
       "      <td>0.094542</td>\n",
       "    </tr>\n",
       "    <tr>\n",
       "      <th>3</th>\n",
       "      <td>27</td>\n",
       "      <td>330</td>\n",
       "      <td>0.081818</td>\n",
       "    </tr>\n",
       "    <tr>\n",
       "      <th>4</th>\n",
       "      <td>4</td>\n",
       "      <td>41</td>\n",
       "      <td>0.097561</td>\n",
       "    </tr>\n",
       "    <tr>\n",
       "      <th>5</th>\n",
       "      <td>0</td>\n",
       "      <td>9</td>\n",
       "      <td>0.000000</td>\n",
       "    </tr>\n",
       "  </tbody>\n",
       "</table>\n",
       "</div>"
      ],
      "text/plain": [
       "           sum  count      mean\n",
       "          debt   debt      debt\n",
       "children                       \n",
       "0         1072  14214  0.075419\n",
       "1          444   4808  0.092346\n",
       "2          194   2052  0.094542\n",
       "3           27    330  0.081818\n",
       "4            4     41  0.097561\n",
       "5            0      9  0.000000"
      ]
     },
     "execution_count": 267,
     "metadata": {},
     "output_type": "execute_result"
    }
   ],
   "source": [
    "customer_info.pivot_table(index='children', values='debt', aggfunc=['sum', 'count', 'mean'])"
   ]
  },
  {
   "cell_type": "markdown",
   "metadata": {},
   "source": [
    "**Conclusion**\n",
    "\n",
    "[Write your conclusions based on your manipulations and observations.]\n",
    "Around 70-90% of the people in the dataset struggle to pay back on time depending on the number of children they have."
   ]
  },
  {
   "cell_type": "markdown",
   "metadata": {},
   "source": [
    "**Is there a correlation between family status and paying back on time?**"
   ]
  },
  {
   "cell_type": "code",
   "execution_count": 268,
   "metadata": {},
   "outputs": [
    {
     "data": {
      "text/html": [
       "<div>\n",
       "<style scoped>\n",
       "    .dataframe tbody tr th:only-of-type {\n",
       "        vertical-align: middle;\n",
       "    }\n",
       "\n",
       "    .dataframe tbody tr th {\n",
       "        vertical-align: top;\n",
       "    }\n",
       "\n",
       "    .dataframe thead tr th {\n",
       "        text-align: left;\n",
       "    }\n",
       "\n",
       "    .dataframe thead tr:last-of-type th {\n",
       "        text-align: right;\n",
       "    }\n",
       "</style>\n",
       "<table border=\"1\" class=\"dataframe\">\n",
       "  <thead>\n",
       "    <tr>\n",
       "      <th></th>\n",
       "      <th>sum</th>\n",
       "      <th>count</th>\n",
       "      <th>mean</th>\n",
       "    </tr>\n",
       "    <tr>\n",
       "      <th></th>\n",
       "      <th>debt</th>\n",
       "      <th>debt</th>\n",
       "      <th>debt</th>\n",
       "    </tr>\n",
       "    <tr>\n",
       "      <th>family_status</th>\n",
       "      <th></th>\n",
       "      <th></th>\n",
       "      <th></th>\n",
       "    </tr>\n",
       "  </thead>\n",
       "  <tbody>\n",
       "    <tr>\n",
       "      <th>civil partnership</th>\n",
       "      <td>388</td>\n",
       "      <td>4151</td>\n",
       "      <td>0.093471</td>\n",
       "    </tr>\n",
       "    <tr>\n",
       "      <th>divorced</th>\n",
       "      <td>85</td>\n",
       "      <td>1195</td>\n",
       "      <td>0.071130</td>\n",
       "    </tr>\n",
       "    <tr>\n",
       "      <th>married</th>\n",
       "      <td>931</td>\n",
       "      <td>12339</td>\n",
       "      <td>0.075452</td>\n",
       "    </tr>\n",
       "    <tr>\n",
       "      <th>unmarried</th>\n",
       "      <td>274</td>\n",
       "      <td>2810</td>\n",
       "      <td>0.097509</td>\n",
       "    </tr>\n",
       "    <tr>\n",
       "      <th>widow / widower</th>\n",
       "      <td>63</td>\n",
       "      <td>959</td>\n",
       "      <td>0.065693</td>\n",
       "    </tr>\n",
       "  </tbody>\n",
       "</table>\n",
       "</div>"
      ],
      "text/plain": [
       "                   sum  count      mean\n",
       "                  debt   debt      debt\n",
       "family_status                          \n",
       "civil partnership  388   4151  0.093471\n",
       "divorced            85   1195  0.071130\n",
       "married            931  12339  0.075452\n",
       "unmarried          274   2810  0.097509\n",
       "widow / widower     63    959  0.065693"
      ]
     },
     "execution_count": 268,
     "metadata": {},
     "output_type": "execute_result"
    }
   ],
   "source": [
    "customer_info.pivot_table(index='family_status', values='debt', aggfunc=['sum', 'count', 'mean'])"
   ]
  },
  {
   "cell_type": "markdown",
   "metadata": {},
   "source": [
    "**Conclusion**\n",
    "\n",
    "[Write your conclusions based on your manipulations and observations.]\n",
    "Widowers are more likely to pay back on time whereas unmarried people more likely to have a debt."
   ]
  },
  {
   "cell_type": "markdown",
   "metadata": {},
   "source": [
    "**Is there a correlation between income level and paying back on time?**"
   ]
  },
  {
   "cell_type": "code",
   "execution_count": 269,
   "metadata": {},
   "outputs": [
    {
     "data": {
      "text/html": [
       "<div>\n",
       "<style scoped>\n",
       "    .dataframe tbody tr th:only-of-type {\n",
       "        vertical-align: middle;\n",
       "    }\n",
       "\n",
       "    .dataframe tbody tr th {\n",
       "        vertical-align: top;\n",
       "    }\n",
       "\n",
       "    .dataframe thead tr th {\n",
       "        text-align: left;\n",
       "    }\n",
       "\n",
       "    .dataframe thead tr:last-of-type th {\n",
       "        text-align: right;\n",
       "    }\n",
       "</style>\n",
       "<table border=\"1\" class=\"dataframe\">\n",
       "  <thead>\n",
       "    <tr>\n",
       "      <th></th>\n",
       "      <th>sum</th>\n",
       "      <th>count</th>\n",
       "      <th>mean</th>\n",
       "    </tr>\n",
       "    <tr>\n",
       "      <th></th>\n",
       "      <th>debt</th>\n",
       "      <th>debt</th>\n",
       "      <th>debt</th>\n",
       "    </tr>\n",
       "    <tr>\n",
       "      <th>income_groups</th>\n",
       "      <th></th>\n",
       "      <th></th>\n",
       "      <th></th>\n",
       "    </tr>\n",
       "  </thead>\n",
       "  <tbody>\n",
       "    <tr>\n",
       "      <th>business</th>\n",
       "      <td>376</td>\n",
       "      <td>5078</td>\n",
       "      <td>0.074045</td>\n",
       "    </tr>\n",
       "    <tr>\n",
       "      <th>civil servant</th>\n",
       "      <td>86</td>\n",
       "      <td>1457</td>\n",
       "      <td>0.059025</td>\n",
       "    </tr>\n",
       "    <tr>\n",
       "      <th>employee</th>\n",
       "      <td>1061</td>\n",
       "      <td>11084</td>\n",
       "      <td>0.095724</td>\n",
       "    </tr>\n",
       "    <tr>\n",
       "      <th>other</th>\n",
       "      <td>2</td>\n",
       "      <td>6</td>\n",
       "      <td>0.333333</td>\n",
       "    </tr>\n",
       "    <tr>\n",
       "      <th>retiree</th>\n",
       "      <td>216</td>\n",
       "      <td>3829</td>\n",
       "      <td>0.056412</td>\n",
       "    </tr>\n",
       "  </tbody>\n",
       "</table>\n",
       "</div>"
      ],
      "text/plain": [
       "                sum  count      mean\n",
       "               debt   debt      debt\n",
       "income_groups                       \n",
       "business        376   5078  0.074045\n",
       "civil servant    86   1457  0.059025\n",
       "employee       1061  11084  0.095724\n",
       "other             2      6  0.333333\n",
       "retiree         216   3829  0.056412"
      ]
     },
     "execution_count": 269,
     "metadata": {},
     "output_type": "execute_result"
    }
   ],
   "source": [
    "customer_info.pivot_table(index='income_groups', values='debt', aggfunc=['sum', 'count', 'mean'])\n"
   ]
  },
  {
   "cell_type": "markdown",
   "metadata": {},
   "source": [
    "**Conclusion**\n",
    "\n",
    "[Write your conclusions based on your manipulations and observations.]\n",
    "People who are employees are more likely to carry a debt, and retirees tend to carry les debt according to the dataset."
   ]
  },
  {
   "cell_type": "markdown",
   "metadata": {},
   "source": [
    "**How does credit purpose affect the default rate?**"
   ]
  },
  {
   "cell_type": "code",
   "execution_count": 270,
   "metadata": {},
   "outputs": [
    {
     "name": "stdout",
     "output_type": "stream",
     "text": [
      "ratio for car buyers : 0.1032539072508327\n",
      "ratio for house buyers : 0.0714687675858188\n",
      "ratio for education buyers : 0.10209145693016661\n",
      "ratio for wedding buyers : 0.08699719363891488\n",
      "ratio for real estate buyers : 0.08139534883720931\n"
     ]
    }
   ],
   "source": [
    "# Check the percentages for default rate for each credit purpose and analyze them\n",
    "purposes=['car','house','education','wedding','real estate']\n",
    "for i in purposes:\n",
    "    count_no_debt=len(customer_info[(customer_info['purpose'].str.contains(i)) & (customer_info['debt'] == 0)])\n",
    "    count_debt=len(customer_info[(customer_info['purpose'].str.contains(i)) & (customer_info['debt'] == 1)])\n",
    "    print(\"ratio for \"+i+\" buyers : \"+ str(count_debt/count_no_debt))\n",
    "    \n"
   ]
  },
  {
   "cell_type": "code",
   "execution_count": 271,
   "metadata": {},
   "outputs": [
    {
     "data": {
      "text/html": [
       "<div>\n",
       "<style scoped>\n",
       "    .dataframe tbody tr th:only-of-type {\n",
       "        vertical-align: middle;\n",
       "    }\n",
       "\n",
       "    .dataframe tbody tr th {\n",
       "        vertical-align: top;\n",
       "    }\n",
       "\n",
       "    .dataframe thead tr th {\n",
       "        text-align: left;\n",
       "    }\n",
       "\n",
       "    .dataframe thead tr:last-of-type th {\n",
       "        text-align: right;\n",
       "    }\n",
       "</style>\n",
       "<table border=\"1\" class=\"dataframe\">\n",
       "  <thead>\n",
       "    <tr>\n",
       "      <th></th>\n",
       "      <th>sum</th>\n",
       "      <th>count</th>\n",
       "      <th>mean</th>\n",
       "    </tr>\n",
       "    <tr>\n",
       "      <th></th>\n",
       "      <th>debt</th>\n",
       "      <th>debt</th>\n",
       "      <th>debt</th>\n",
       "    </tr>\n",
       "    <tr>\n",
       "      <th>purpose</th>\n",
       "      <th></th>\n",
       "      <th></th>\n",
       "      <th></th>\n",
       "    </tr>\n",
       "  </thead>\n",
       "  <tbody>\n",
       "    <tr>\n",
       "      <th>building a property</th>\n",
       "      <td>54</td>\n",
       "      <td>619</td>\n",
       "      <td>0.087237</td>\n",
       "    </tr>\n",
       "    <tr>\n",
       "      <th>building a real estate</th>\n",
       "      <td>48</td>\n",
       "      <td>624</td>\n",
       "      <td>0.076923</td>\n",
       "    </tr>\n",
       "    <tr>\n",
       "      <th>buy commercial real estate</th>\n",
       "      <td>47</td>\n",
       "      <td>661</td>\n",
       "      <td>0.071104</td>\n",
       "    </tr>\n",
       "    <tr>\n",
       "      <th>buy real estate</th>\n",
       "      <td>43</td>\n",
       "      <td>621</td>\n",
       "      <td>0.069243</td>\n",
       "    </tr>\n",
       "    <tr>\n",
       "      <th>buy residential real estate</th>\n",
       "      <td>41</td>\n",
       "      <td>606</td>\n",
       "      <td>0.067657</td>\n",
       "    </tr>\n",
       "    <tr>\n",
       "      <th>buying a second-hand car</th>\n",
       "      <td>36</td>\n",
       "      <td>478</td>\n",
       "      <td>0.075314</td>\n",
       "    </tr>\n",
       "    <tr>\n",
       "      <th>buying my own car</th>\n",
       "      <td>46</td>\n",
       "      <td>505</td>\n",
       "      <td>0.091089</td>\n",
       "    </tr>\n",
       "    <tr>\n",
       "      <th>buying property for renting out</th>\n",
       "      <td>52</td>\n",
       "      <td>651</td>\n",
       "      <td>0.079877</td>\n",
       "    </tr>\n",
       "    <tr>\n",
       "      <th>car</th>\n",
       "      <td>42</td>\n",
       "      <td>494</td>\n",
       "      <td>0.085020</td>\n",
       "    </tr>\n",
       "    <tr>\n",
       "      <th>car purchase</th>\n",
       "      <td>42</td>\n",
       "      <td>461</td>\n",
       "      <td>0.091106</td>\n",
       "    </tr>\n",
       "    <tr>\n",
       "      <th>cars</th>\n",
       "      <td>44</td>\n",
       "      <td>478</td>\n",
       "      <td>0.092050</td>\n",
       "    </tr>\n",
       "    <tr>\n",
       "      <th>construction of own property</th>\n",
       "      <td>42</td>\n",
       "      <td>635</td>\n",
       "      <td>0.066142</td>\n",
       "    </tr>\n",
       "    <tr>\n",
       "      <th>education</th>\n",
       "      <td>32</td>\n",
       "      <td>447</td>\n",
       "      <td>0.071588</td>\n",
       "    </tr>\n",
       "    <tr>\n",
       "      <th>getting an education</th>\n",
       "      <td>37</td>\n",
       "      <td>442</td>\n",
       "      <td>0.083710</td>\n",
       "    </tr>\n",
       "    <tr>\n",
       "      <th>getting higher education</th>\n",
       "      <td>46</td>\n",
       "      <td>426</td>\n",
       "      <td>0.107981</td>\n",
       "    </tr>\n",
       "    <tr>\n",
       "      <th>going to university</th>\n",
       "      <td>43</td>\n",
       "      <td>496</td>\n",
       "      <td>0.086694</td>\n",
       "    </tr>\n",
       "    <tr>\n",
       "      <th>having a wedding</th>\n",
       "      <td>64</td>\n",
       "      <td>768</td>\n",
       "      <td>0.083333</td>\n",
       "    </tr>\n",
       "    <tr>\n",
       "      <th>housing</th>\n",
       "      <td>46</td>\n",
       "      <td>646</td>\n",
       "      <td>0.071207</td>\n",
       "    </tr>\n",
       "    <tr>\n",
       "      <th>housing renovation</th>\n",
       "      <td>35</td>\n",
       "      <td>607</td>\n",
       "      <td>0.057661</td>\n",
       "    </tr>\n",
       "    <tr>\n",
       "      <th>housing transactions</th>\n",
       "      <td>48</td>\n",
       "      <td>652</td>\n",
       "      <td>0.073620</td>\n",
       "    </tr>\n",
       "    <tr>\n",
       "      <th>profile education</th>\n",
       "      <td>44</td>\n",
       "      <td>436</td>\n",
       "      <td>0.100917</td>\n",
       "    </tr>\n",
       "    <tr>\n",
       "      <th>property</th>\n",
       "      <td>42</td>\n",
       "      <td>633</td>\n",
       "      <td>0.066351</td>\n",
       "    </tr>\n",
       "    <tr>\n",
       "      <th>purchase of a car</th>\n",
       "      <td>50</td>\n",
       "      <td>455</td>\n",
       "      <td>0.109890</td>\n",
       "    </tr>\n",
       "    <tr>\n",
       "      <th>purchase of my own house</th>\n",
       "      <td>34</td>\n",
       "      <td>620</td>\n",
       "      <td>0.054839</td>\n",
       "    </tr>\n",
       "    <tr>\n",
       "      <th>purchase of the house</th>\n",
       "      <td>48</td>\n",
       "      <td>646</td>\n",
       "      <td>0.074303</td>\n",
       "    </tr>\n",
       "    <tr>\n",
       "      <th>purchase of the house for my family</th>\n",
       "      <td>45</td>\n",
       "      <td>638</td>\n",
       "      <td>0.070533</td>\n",
       "    </tr>\n",
       "    <tr>\n",
       "      <th>real estate transactions</th>\n",
       "      <td>55</td>\n",
       "      <td>675</td>\n",
       "      <td>0.081481</td>\n",
       "    </tr>\n",
       "    <tr>\n",
       "      <th>second-hand car purchase</th>\n",
       "      <td>51</td>\n",
       "      <td>486</td>\n",
       "      <td>0.104938</td>\n",
       "    </tr>\n",
       "    <tr>\n",
       "      <th>supplementary education</th>\n",
       "      <td>38</td>\n",
       "      <td>460</td>\n",
       "      <td>0.082609</td>\n",
       "    </tr>\n",
       "    <tr>\n",
       "      <th>to become educated</th>\n",
       "      <td>39</td>\n",
       "      <td>408</td>\n",
       "      <td>0.095588</td>\n",
       "    </tr>\n",
       "    <tr>\n",
       "      <th>to buy a car</th>\n",
       "      <td>44</td>\n",
       "      <td>471</td>\n",
       "      <td>0.093418</td>\n",
       "    </tr>\n",
       "    <tr>\n",
       "      <th>to get a supplementary education</th>\n",
       "      <td>51</td>\n",
       "      <td>446</td>\n",
       "      <td>0.114350</td>\n",
       "    </tr>\n",
       "    <tr>\n",
       "      <th>to have a wedding</th>\n",
       "      <td>58</td>\n",
       "      <td>765</td>\n",
       "      <td>0.075817</td>\n",
       "    </tr>\n",
       "    <tr>\n",
       "      <th>to own a car</th>\n",
       "      <td>48</td>\n",
       "      <td>478</td>\n",
       "      <td>0.100418</td>\n",
       "    </tr>\n",
       "    <tr>\n",
       "      <th>transactions with commercial real estate</th>\n",
       "      <td>52</td>\n",
       "      <td>650</td>\n",
       "      <td>0.080000</td>\n",
       "    </tr>\n",
       "    <tr>\n",
       "      <th>transactions with my real estate</th>\n",
       "      <td>50</td>\n",
       "      <td>627</td>\n",
       "      <td>0.079745</td>\n",
       "    </tr>\n",
       "    <tr>\n",
       "      <th>university education</th>\n",
       "      <td>40</td>\n",
       "      <td>452</td>\n",
       "      <td>0.088496</td>\n",
       "    </tr>\n",
       "    <tr>\n",
       "      <th>wedding ceremony</th>\n",
       "      <td>64</td>\n",
       "      <td>791</td>\n",
       "      <td>0.080910</td>\n",
       "    </tr>\n",
       "  </tbody>\n",
       "</table>\n",
       "</div>"
      ],
      "text/plain": [
       "                                          sum count      mean\n",
       "                                         debt  debt      debt\n",
       "purpose                                                      \n",
       "building a property                        54   619  0.087237\n",
       "building a real estate                     48   624  0.076923\n",
       "buy commercial real estate                 47   661  0.071104\n",
       "buy real estate                            43   621  0.069243\n",
       "buy residential real estate                41   606  0.067657\n",
       "buying a second-hand car                   36   478  0.075314\n",
       "buying my own car                          46   505  0.091089\n",
       "buying property for renting out            52   651  0.079877\n",
       "car                                        42   494  0.085020\n",
       "car purchase                               42   461  0.091106\n",
       "cars                                       44   478  0.092050\n",
       "construction of own property               42   635  0.066142\n",
       "education                                  32   447  0.071588\n",
       "getting an education                       37   442  0.083710\n",
       "getting higher education                   46   426  0.107981\n",
       "going to university                        43   496  0.086694\n",
       "having a wedding                           64   768  0.083333\n",
       "housing                                    46   646  0.071207\n",
       "housing renovation                         35   607  0.057661\n",
       "housing transactions                       48   652  0.073620\n",
       "profile education                          44   436  0.100917\n",
       "property                                   42   633  0.066351\n",
       "purchase of a car                          50   455  0.109890\n",
       "purchase of my own house                   34   620  0.054839\n",
       "purchase of the house                      48   646  0.074303\n",
       "purchase of the house for my family        45   638  0.070533\n",
       "real estate transactions                   55   675  0.081481\n",
       "second-hand car purchase                   51   486  0.104938\n",
       "supplementary education                    38   460  0.082609\n",
       "to become educated                         39   408  0.095588\n",
       "to buy a car                               44   471  0.093418\n",
       "to get a supplementary education           51   446  0.114350\n",
       "to have a wedding                          58   765  0.075817\n",
       "to own a car                               48   478  0.100418\n",
       "transactions with commercial real estate   52   650  0.080000\n",
       "transactions with my real estate           50   627  0.079745\n",
       "university education                       40   452  0.088496\n",
       "wedding ceremony                           64   791  0.080910"
      ]
     },
     "execution_count": 271,
     "metadata": {},
     "output_type": "execute_result"
    }
   ],
   "source": [
    "customer_info.pivot_table(index='purpose', values='debt', aggfunc=['sum', 'count', 'mean'])"
   ]
  },
  {
   "cell_type": "markdown",
   "metadata": {},
   "source": [
    "**Conclusion**\n",
    "\n",
    "[Write your conclusions based on your manipulations and observations.]\n",
    "\n",
    "\n",
    "House buyers are more likely to pay back on time with 93% followed by real estate, wedding, education, and cars buyers. "
   ]
  },
  {
   "cell_type": "markdown",
   "metadata": {},
   "source": [
    "# General Conclusion \n"
   ]
  },
  {
   "cell_type": "markdown",
   "metadata": {},
   "source": [
    "I started off with determining how to preprocess the data before analyzing it. Getting rid off the problematic data by either replacing or dropping the values was the first step. Then, I dropped all the duplicates to have a clean data. To fill in missing values, I needed to categorize the data based on paramaters I thought was necessary which helped me to decide whether to use means or medians to fill in. I couldn't find any patterns on missing values and they seem accidental. The problem might be due to incomplete data entry, or losing data while importing it. Lastly, to check the hypothesis, I determined if there is any correlation between paying back on time and conditions such as number of children, income type, or family status. Around 70-90% of the people in the dataset struggle to pay back on time depending on the number of children they have. People who are employees are more likely to carry a debt, and retirees tend to carry les debt according to the dataset. Widowers are more likely to pay back on time whereas unmarried people more likely to have a debt."
   ]
  }
 ],
 "metadata": {
  "ExecuteTimeLog": [
   {
    "duration": 2741,
    "start_time": "2021-10-21T01:08:49.480Z"
   },
   {
    "duration": 52,
    "start_time": "2021-10-21T01:08:53.315Z"
   },
   {
    "duration": 49,
    "start_time": "2021-10-21T01:08:57.432Z"
   },
   {
    "duration": 70,
    "start_time": "2021-10-21T01:09:07.706Z"
   },
   {
    "duration": 92,
    "start_time": "2022-06-03T21:25:57.847Z"
   },
   {
    "duration": 99,
    "start_time": "2022-06-03T21:28:18.257Z"
   },
   {
    "duration": 15,
    "start_time": "2022-06-03T21:28:22.297Z"
   },
   {
    "duration": 82,
    "start_time": "2022-06-03T21:28:47.651Z"
   },
   {
    "duration": 11,
    "start_time": "2022-06-03T21:29:06.594Z"
   },
   {
    "duration": 8,
    "start_time": "2022-06-03T21:34:01.378Z"
   },
   {
    "duration": 8,
    "start_time": "2022-06-03T21:34:27.759Z"
   },
   {
    "duration": 4,
    "start_time": "2022-06-03T21:34:39.747Z"
   },
   {
    "duration": 14,
    "start_time": "2022-06-03T21:34:56.494Z"
   },
   {
    "duration": 34,
    "start_time": "2022-06-03T21:39:10.721Z"
   },
   {
    "duration": 6,
    "start_time": "2022-06-03T21:39:56.773Z"
   },
   {
    "duration": 22,
    "start_time": "2022-06-03T21:41:01.867Z"
   },
   {
    "duration": 7,
    "start_time": "2022-06-03T21:42:31.981Z"
   },
   {
    "duration": 32,
    "start_time": "2022-06-03T21:44:16.832Z"
   },
   {
    "duration": 47,
    "start_time": "2022-06-03T21:44:29.803Z"
   },
   {
    "duration": 21,
    "start_time": "2022-06-03T21:44:47.106Z"
   },
   {
    "duration": 37,
    "start_time": "2022-06-03T22:07:19.223Z"
   },
   {
    "duration": 18,
    "start_time": "2022-06-03T22:08:47.955Z"
   },
   {
    "duration": 16,
    "start_time": "2022-06-03T22:09:01.423Z"
   },
   {
    "duration": 10,
    "start_time": "2022-06-03T22:10:38.897Z"
   },
   {
    "duration": 21,
    "start_time": "2022-06-03T22:13:18.189Z"
   },
   {
    "duration": 10,
    "start_time": "2022-06-03T22:13:21.763Z"
   },
   {
    "duration": 23,
    "start_time": "2022-06-03T22:18:45.094Z"
   },
   {
    "duration": 41,
    "start_time": "2022-06-03T22:19:33.113Z"
   },
   {
    "duration": 29,
    "start_time": "2022-06-03T22:19:45.507Z"
   },
   {
    "duration": 29,
    "start_time": "2022-06-03T22:20:29.249Z"
   },
   {
    "duration": 19,
    "start_time": "2022-06-03T22:20:37.061Z"
   },
   {
    "duration": 10,
    "start_time": "2022-06-03T22:22:15.967Z"
   },
   {
    "duration": 11,
    "start_time": "2022-06-03T22:22:25.858Z"
   },
   {
    "duration": 26,
    "start_time": "2022-06-03T22:22:46.549Z"
   },
   {
    "duration": 57,
    "start_time": "2022-06-04T00:58:52.661Z"
   },
   {
    "duration": 601,
    "start_time": "2022-06-04T00:58:59.377Z"
   },
   {
    "duration": 8,
    "start_time": "2022-06-04T00:58:59.991Z"
   },
   {
    "duration": 10,
    "start_time": "2022-06-04T00:59:00.299Z"
   },
   {
    "duration": 24,
    "start_time": "2022-06-04T00:59:00.906Z"
   },
   {
    "duration": 22,
    "start_time": "2022-06-04T00:59:03.111Z"
   },
   {
    "duration": 19,
    "start_time": "2022-06-04T00:59:04.921Z"
   },
   {
    "duration": 12,
    "start_time": "2022-06-04T01:01:47.031Z"
   },
   {
    "duration": 12,
    "start_time": "2022-06-04T01:02:03.511Z"
   },
   {
    "duration": 10,
    "start_time": "2022-06-04T01:02:12.087Z"
   },
   {
    "duration": 20,
    "start_time": "2022-06-04T01:03:18.179Z"
   },
   {
    "duration": 28,
    "start_time": "2022-06-04T01:26:34.074Z"
   },
   {
    "duration": 16,
    "start_time": "2022-06-04T01:26:44.357Z"
   },
   {
    "duration": 32,
    "start_time": "2022-06-04T01:26:59.500Z"
   },
   {
    "duration": 25,
    "start_time": "2022-06-04T01:27:04.277Z"
   },
   {
    "duration": 12,
    "start_time": "2022-06-04T01:27:22.695Z"
   },
   {
    "duration": 7,
    "start_time": "2022-06-04T01:27:29.457Z"
   },
   {
    "duration": 7,
    "start_time": "2022-06-04T01:31:20.845Z"
   },
   {
    "duration": 29,
    "start_time": "2022-06-04T01:31:31.461Z"
   },
   {
    "duration": 22,
    "start_time": "2022-06-04T01:32:36.081Z"
   },
   {
    "duration": 12,
    "start_time": "2022-06-04T01:32:47.527Z"
   },
   {
    "duration": 27,
    "start_time": "2022-06-04T01:32:59.315Z"
   },
   {
    "duration": 28,
    "start_time": "2022-06-04T01:39:02.837Z"
   },
   {
    "duration": 2,
    "start_time": "2022-06-04T01:39:03.339Z"
   },
   {
    "duration": 3,
    "start_time": "2022-06-04T01:39:04.742Z"
   },
   {
    "duration": 5,
    "start_time": "2022-06-04T01:41:00.202Z"
   },
   {
    "duration": 12,
    "start_time": "2022-06-04T01:42:49.675Z"
   },
   {
    "duration": 8,
    "start_time": "2022-06-04T01:43:02.660Z"
   },
   {
    "duration": 10,
    "start_time": "2022-06-04T01:43:09.689Z"
   },
   {
    "duration": 5,
    "start_time": "2022-06-04T01:43:12.043Z"
   },
   {
    "duration": 9,
    "start_time": "2022-06-04T01:43:32.907Z"
   },
   {
    "duration": 6,
    "start_time": "2022-06-04T01:43:35.380Z"
   },
   {
    "duration": 8,
    "start_time": "2022-06-04T01:43:41.540Z"
   },
   {
    "duration": 6,
    "start_time": "2022-06-04T01:43:48.297Z"
   },
   {
    "duration": 4,
    "start_time": "2022-06-04T01:45:05.883Z"
   },
   {
    "duration": 9,
    "start_time": "2022-06-04T01:45:13.455Z"
   },
   {
    "duration": 5,
    "start_time": "2022-06-04T01:45:23.005Z"
   },
   {
    "duration": 7,
    "start_time": "2022-06-04T01:45:44.914Z"
   },
   {
    "duration": 5,
    "start_time": "2022-06-04T01:45:49.054Z"
   },
   {
    "duration": 6,
    "start_time": "2022-06-04T01:46:55.347Z"
   },
   {
    "duration": 5,
    "start_time": "2022-06-04T04:36:24.257Z"
   },
   {
    "duration": 6,
    "start_time": "2022-06-04T04:39:09.195Z"
   },
   {
    "duration": 6,
    "start_time": "2022-06-04T04:39:24.684Z"
   },
   {
    "duration": 8,
    "start_time": "2022-06-04T04:41:08.924Z"
   },
   {
    "duration": 6,
    "start_time": "2022-06-04T04:41:11.376Z"
   },
   {
    "duration": 46,
    "start_time": "2022-06-04T04:41:21.653Z"
   },
   {
    "duration": 7,
    "start_time": "2022-06-04T04:41:29.204Z"
   },
   {
    "duration": 70,
    "start_time": "2022-06-04T04:41:40.077Z"
   },
   {
    "duration": 4,
    "start_time": "2022-06-04T04:41:40.641Z"
   },
   {
    "duration": 12,
    "start_time": "2022-06-04T04:41:40.895Z"
   },
   {
    "duration": 24,
    "start_time": "2022-06-04T04:41:41.421Z"
   },
   {
    "duration": 24,
    "start_time": "2022-06-04T04:41:41.920Z"
   },
   {
    "duration": 30,
    "start_time": "2022-06-04T04:41:42.459Z"
   },
   {
    "duration": 28,
    "start_time": "2022-06-04T04:41:43.108Z"
   },
   {
    "duration": 2,
    "start_time": "2022-06-04T04:41:43.484Z"
   },
   {
    "duration": 3,
    "start_time": "2022-06-04T04:41:43.730Z"
   },
   {
    "duration": 34,
    "start_time": "2022-06-04T04:41:55.496Z"
   },
   {
    "duration": 5,
    "start_time": "2022-06-04T04:41:58.024Z"
   },
   {
    "duration": 5,
    "start_time": "2022-06-04T04:42:56.836Z"
   },
   {
    "duration": 6,
    "start_time": "2022-06-04T04:42:59.095Z"
   },
   {
    "duration": 6,
    "start_time": "2022-06-04T04:43:22.394Z"
   },
   {
    "duration": 6,
    "start_time": "2022-06-04T04:43:29.358Z"
   },
   {
    "duration": 21,
    "start_time": "2022-06-04T04:45:34.095Z"
   },
   {
    "duration": 56,
    "start_time": "2022-06-04T04:46:16.652Z"
   },
   {
    "duration": 21,
    "start_time": "2022-06-04T04:46:26.589Z"
   },
   {
    "duration": 4,
    "start_time": "2022-06-04T04:46:49.717Z"
   },
   {
    "duration": 26,
    "start_time": "2022-06-04T05:08:04.714Z"
   },
   {
    "duration": 18,
    "start_time": "2022-06-04T05:08:58.184Z"
   },
   {
    "duration": 3,
    "start_time": "2022-06-04T05:10:25.910Z"
   },
   {
    "duration": 5,
    "start_time": "2022-06-04T05:10:38.040Z"
   },
   {
    "duration": 5,
    "start_time": "2022-06-04T05:10:48.221Z"
   },
   {
    "duration": 8,
    "start_time": "2022-06-04T05:20:13.218Z"
   },
   {
    "duration": 8,
    "start_time": "2022-06-04T05:20:28.834Z"
   },
   {
    "duration": 4,
    "start_time": "2022-06-04T05:21:08.373Z"
   },
   {
    "duration": 7,
    "start_time": "2022-06-04T05:21:19.076Z"
   },
   {
    "duration": 8,
    "start_time": "2022-06-04T05:22:03.913Z"
   },
   {
    "duration": 20,
    "start_time": "2022-06-04T05:22:21.282Z"
   },
   {
    "duration": 29,
    "start_time": "2022-06-04T05:22:38.522Z"
   },
   {
    "duration": 9,
    "start_time": "2022-06-04T05:22:47.715Z"
   },
   {
    "duration": 55,
    "start_time": "2022-06-04T05:23:06.121Z"
   },
   {
    "duration": 21,
    "start_time": "2022-06-04T05:23:17.397Z"
   },
   {
    "duration": 4,
    "start_time": "2022-06-04T05:26:20.571Z"
   },
   {
    "duration": 4,
    "start_time": "2022-06-04T05:27:30.118Z"
   },
   {
    "duration": 24,
    "start_time": "2022-06-04T05:27:40.024Z"
   },
   {
    "duration": 8,
    "start_time": "2022-06-04T05:27:44.140Z"
   },
   {
    "duration": 9,
    "start_time": "2022-06-04T05:27:53.886Z"
   },
   {
    "duration": 7,
    "start_time": "2022-06-04T05:28:23.428Z"
   },
   {
    "duration": 7,
    "start_time": "2022-06-04T05:30:02.690Z"
   },
   {
    "duration": 8,
    "start_time": "2022-06-04T05:31:32.085Z"
   },
   {
    "duration": 5,
    "start_time": "2022-06-04T05:31:42.039Z"
   },
   {
    "duration": 7,
    "start_time": "2022-06-04T05:31:48.620Z"
   },
   {
    "duration": 370,
    "start_time": "2022-06-04T05:32:11.553Z"
   },
   {
    "duration": 7,
    "start_time": "2022-06-04T05:32:25.590Z"
   },
   {
    "duration": 3,
    "start_time": "2022-06-04T05:33:55.150Z"
   },
   {
    "duration": 2,
    "start_time": "2022-06-04T05:33:55.782Z"
   },
   {
    "duration": 18,
    "start_time": "2022-06-04T05:34:47.805Z"
   },
   {
    "duration": 17,
    "start_time": "2022-06-04T05:34:56.372Z"
   },
   {
    "duration": 38,
    "start_time": "2022-06-04T05:35:29.511Z"
   },
   {
    "duration": 15,
    "start_time": "2022-06-04T05:35:56.031Z"
   },
   {
    "duration": 30,
    "start_time": "2022-06-04T05:36:34.623Z"
   },
   {
    "duration": 32,
    "start_time": "2022-06-04T05:37:33.976Z"
   },
   {
    "duration": 22,
    "start_time": "2022-06-04T05:37:59.559Z"
   },
   {
    "duration": 33,
    "start_time": "2022-06-04T05:38:04.681Z"
   },
   {
    "duration": 15,
    "start_time": "2022-06-04T05:38:05.672Z"
   },
   {
    "duration": 16,
    "start_time": "2022-06-04T05:38:17.782Z"
   },
   {
    "duration": 20,
    "start_time": "2022-06-04T05:38:19.427Z"
   },
   {
    "duration": 7,
    "start_time": "2022-06-04T05:38:45.700Z"
   },
   {
    "duration": 3,
    "start_time": "2022-06-04T05:38:49.516Z"
   },
   {
    "duration": 646,
    "start_time": "2022-06-04T14:58:57.449Z"
   },
   {
    "duration": 9,
    "start_time": "2022-06-04T14:58:58.097Z"
   },
   {
    "duration": 10,
    "start_time": "2022-06-04T14:58:58.213Z"
   },
   {
    "duration": 33,
    "start_time": "2022-06-04T14:58:58.721Z"
   },
   {
    "duration": 30,
    "start_time": "2022-06-04T14:58:59.209Z"
   },
   {
    "duration": 27,
    "start_time": "2022-06-04T14:58:59.747Z"
   },
   {
    "duration": 22,
    "start_time": "2022-06-04T14:59:00.257Z"
   },
   {
    "duration": 2,
    "start_time": "2022-06-04T14:59:00.634Z"
   },
   {
    "duration": 3,
    "start_time": "2022-06-04T14:59:01.046Z"
   },
   {
    "duration": 2,
    "start_time": "2022-06-04T14:59:01.568Z"
   },
   {
    "duration": 3,
    "start_time": "2022-06-04T14:59:02.130Z"
   },
   {
    "duration": 7,
    "start_time": "2022-06-04T14:59:02.906Z"
   },
   {
    "duration": 10,
    "start_time": "2022-06-04T14:59:03.169Z"
   },
   {
    "duration": 7,
    "start_time": "2022-06-04T14:59:03.440Z"
   },
   {
    "duration": 7,
    "start_time": "2022-06-04T14:59:04.005Z"
   },
   {
    "duration": 5,
    "start_time": "2022-06-04T14:59:04.509Z"
   },
   {
    "duration": 5,
    "start_time": "2022-06-04T14:59:05.035Z"
   },
   {
    "duration": 7,
    "start_time": "2022-06-04T14:59:05.305Z"
   },
   {
    "duration": 21,
    "start_time": "2022-06-04T14:59:06.113Z"
   },
   {
    "duration": 5,
    "start_time": "2022-06-04T14:59:07.005Z"
   },
   {
    "duration": 4,
    "start_time": "2022-06-04T14:59:08.170Z"
   },
   {
    "duration": 6,
    "start_time": "2022-06-04T14:59:08.432Z"
   },
   {
    "duration": 21,
    "start_time": "2022-06-04T14:59:09.213Z"
   },
   {
    "duration": 5,
    "start_time": "2022-06-04T14:59:09.947Z"
   },
   {
    "duration": 30,
    "start_time": "2022-06-04T14:59:15.505Z"
   },
   {
    "duration": 5,
    "start_time": "2022-06-04T14:59:16.771Z"
   },
   {
    "duration": 9,
    "start_time": "2022-06-04T14:59:17.132Z"
   },
   {
    "duration": 13,
    "start_time": "2022-06-04T14:59:17.601Z"
   },
   {
    "duration": 10,
    "start_time": "2022-06-04T14:59:18.314Z"
   },
   {
    "duration": 2,
    "start_time": "2022-06-04T14:59:18.933Z"
   },
   {
    "duration": 3,
    "start_time": "2022-06-04T14:59:19.217Z"
   },
   {
    "duration": 8,
    "start_time": "2022-06-04T14:59:19.735Z"
   },
   {
    "duration": 7,
    "start_time": "2022-06-04T14:59:20.017Z"
   },
   {
    "duration": 9,
    "start_time": "2022-06-04T14:59:20.241Z"
   },
   {
    "duration": 9,
    "start_time": "2022-06-04T14:59:20.737Z"
   },
   {
    "duration": 3,
    "start_time": "2022-06-04T14:59:24.136Z"
   },
   {
    "duration": 3,
    "start_time": "2022-06-04T14:59:24.537Z"
   },
   {
    "duration": 2,
    "start_time": "2022-06-04T15:02:35.770Z"
   },
   {
    "duration": 2,
    "start_time": "2022-06-04T15:02:37.661Z"
   },
   {
    "duration": 6,
    "start_time": "2022-06-04T15:04:27.438Z"
   },
   {
    "duration": 4,
    "start_time": "2022-06-04T15:04:36.591Z"
   },
   {
    "duration": 9,
    "start_time": "2022-06-04T15:04:37.539Z"
   },
   {
    "duration": 24,
    "start_time": "2022-06-04T15:04:51.136Z"
   },
   {
    "duration": 21,
    "start_time": "2022-06-04T15:05:03.691Z"
   },
   {
    "duration": 21,
    "start_time": "2022-06-04T15:05:13.551Z"
   },
   {
    "duration": 3,
    "start_time": "2022-06-04T15:05:19.152Z"
   },
   {
    "duration": 14,
    "start_time": "2022-06-04T15:05:24.455Z"
   },
   {
    "duration": 7,
    "start_time": "2022-06-04T15:10:00.720Z"
   },
   {
    "duration": 10,
    "start_time": "2022-06-04T15:10:01.218Z"
   },
   {
    "duration": 12,
    "start_time": "2022-06-04T15:10:03.287Z"
   },
   {
    "duration": 3,
    "start_time": "2022-06-04T15:10:04.150Z"
   },
   {
    "duration": 3,
    "start_time": "2022-06-04T15:10:04.507Z"
   },
   {
    "duration": 20,
    "start_time": "2022-06-04T15:10:08.247Z"
   },
   {
    "duration": 19,
    "start_time": "2022-06-04T15:10:23.348Z"
   },
   {
    "duration": 27,
    "start_time": "2022-06-04T15:10:24.443Z"
   },
   {
    "duration": 5,
    "start_time": "2022-06-04T15:10:26.048Z"
   },
   {
    "duration": 5,
    "start_time": "2022-06-04T15:11:05.690Z"
   },
   {
    "duration": 6,
    "start_time": "2022-06-04T15:14:19.223Z"
   },
   {
    "duration": 5,
    "start_time": "2022-06-04T15:14:25.843Z"
   },
   {
    "duration": 4,
    "start_time": "2022-06-04T15:31:53.681Z"
   },
   {
    "duration": 5,
    "start_time": "2022-06-04T15:32:31.439Z"
   },
   {
    "duration": 7,
    "start_time": "2022-06-04T15:33:01.541Z"
   },
   {
    "duration": 9,
    "start_time": "2022-06-04T15:33:09.804Z"
   },
   {
    "duration": 9,
    "start_time": "2022-06-04T15:33:45.241Z"
   },
   {
    "duration": 3,
    "start_time": "2022-06-04T15:33:50.177Z"
   },
   {
    "duration": 6,
    "start_time": "2022-06-04T15:34:00.736Z"
   },
   {
    "duration": 4,
    "start_time": "2022-06-04T15:34:05.477Z"
   },
   {
    "duration": 2,
    "start_time": "2022-06-04T15:34:53.996Z"
   },
   {
    "duration": 23,
    "start_time": "2022-06-04T15:34:54.432Z"
   },
   {
    "duration": 4,
    "start_time": "2022-06-04T15:34:55.197Z"
   },
   {
    "duration": 3,
    "start_time": "2022-06-04T15:35:09.402Z"
   },
   {
    "duration": 3,
    "start_time": "2022-06-04T15:35:15.685Z"
   },
   {
    "duration": 16,
    "start_time": "2022-06-04T15:35:16.173Z"
   },
   {
    "duration": 4,
    "start_time": "2022-06-04T15:35:23.485Z"
   },
   {
    "duration": 4,
    "start_time": "2022-06-04T15:35:30.046Z"
   },
   {
    "duration": 79,
    "start_time": "2022-06-04T15:35:41.993Z"
   },
   {
    "duration": 4,
    "start_time": "2022-06-04T15:35:42.477Z"
   },
   {
    "duration": 8,
    "start_time": "2022-06-04T15:35:42.707Z"
   },
   {
    "duration": 26,
    "start_time": "2022-06-04T15:35:43.114Z"
   },
   {
    "duration": 20,
    "start_time": "2022-06-04T15:35:43.493Z"
   },
   {
    "duration": 21,
    "start_time": "2022-06-04T15:35:44.047Z"
   },
   {
    "duration": 34,
    "start_time": "2022-06-04T15:35:44.505Z"
   },
   {
    "duration": 2,
    "start_time": "2022-06-04T15:35:44.923Z"
   },
   {
    "duration": 2,
    "start_time": "2022-06-04T15:35:45.125Z"
   },
   {
    "duration": 2,
    "start_time": "2022-06-04T15:35:45.423Z"
   },
   {
    "duration": 2,
    "start_time": "2022-06-04T15:35:45.879Z"
   },
   {
    "duration": 6,
    "start_time": "2022-06-04T15:35:46.502Z"
   },
   {
    "duration": 12,
    "start_time": "2022-06-04T15:35:46.723Z"
   },
   {
    "duration": 6,
    "start_time": "2022-06-04T15:35:46.943Z"
   },
   {
    "duration": 7,
    "start_time": "2022-06-04T15:35:47.373Z"
   },
   {
    "duration": 15,
    "start_time": "2022-06-04T15:35:47.799Z"
   },
   {
    "duration": 4,
    "start_time": "2022-06-04T15:35:48.346Z"
   },
   {
    "duration": 7,
    "start_time": "2022-06-04T15:35:48.511Z"
   },
   {
    "duration": 22,
    "start_time": "2022-06-04T15:35:49.275Z"
   },
   {
    "duration": 4,
    "start_time": "2022-06-04T15:35:49.506Z"
   },
   {
    "duration": 4,
    "start_time": "2022-06-04T15:35:50.226Z"
   },
   {
    "duration": 3,
    "start_time": "2022-06-04T15:35:50.470Z"
   },
   {
    "duration": 28,
    "start_time": "2022-06-04T15:35:51.678Z"
   },
   {
    "duration": 5,
    "start_time": "2022-06-04T15:35:52.406Z"
   },
   {
    "duration": 8,
    "start_time": "2022-06-04T15:35:52.646Z"
   },
   {
    "duration": 11,
    "start_time": "2022-06-04T15:35:52.867Z"
   },
   {
    "duration": 9,
    "start_time": "2022-06-04T15:35:53.394Z"
   },
   {
    "duration": 2,
    "start_time": "2022-06-04T15:35:53.781Z"
   },
   {
    "duration": 3,
    "start_time": "2022-06-04T15:35:53.997Z"
   },
   {
    "duration": 17,
    "start_time": "2022-06-04T15:35:54.621Z"
   },
   {
    "duration": 6,
    "start_time": "2022-06-04T15:35:55.105Z"
   },
   {
    "duration": 6,
    "start_time": "2022-06-04T15:35:55.381Z"
   },
   {
    "duration": 7,
    "start_time": "2022-06-04T15:35:55.912Z"
   },
   {
    "duration": 3,
    "start_time": "2022-06-04T15:35:56.589Z"
   },
   {
    "duration": 2,
    "start_time": "2022-06-04T15:35:56.869Z"
   },
   {
    "duration": 22,
    "start_time": "2022-06-04T15:35:57.417Z"
   },
   {
    "duration": 2,
    "start_time": "2022-06-04T15:35:58.512Z"
   },
   {
    "duration": 23,
    "start_time": "2022-06-04T15:35:59.214Z"
   },
   {
    "duration": 4,
    "start_time": "2022-06-04T15:36:00.689Z"
   },
   {
    "duration": 20,
    "start_time": "2022-06-04T15:36:13.089Z"
   },
   {
    "duration": 18,
    "start_time": "2022-06-04T15:36:13.893Z"
   },
   {
    "duration": 10,
    "start_time": "2022-06-04T15:36:41.241Z"
   },
   {
    "duration": 5,
    "start_time": "2022-06-04T15:40:34.297Z"
   },
   {
    "duration": 5,
    "start_time": "2022-06-04T15:40:36.569Z"
   },
   {
    "duration": 10,
    "start_time": "2022-06-04T15:40:41.506Z"
   },
   {
    "duration": 7,
    "start_time": "2022-06-04T15:58:15.680Z"
   },
   {
    "duration": 28,
    "start_time": "2022-06-04T16:12:46.880Z"
   },
   {
    "duration": 20,
    "start_time": "2022-06-04T16:13:05.676Z"
   },
   {
    "duration": 28,
    "start_time": "2022-06-04T16:14:01.884Z"
   },
   {
    "duration": 8,
    "start_time": "2022-06-04T16:14:21.936Z"
   },
   {
    "duration": 90,
    "start_time": "2022-06-04T16:22:52.780Z"
   },
   {
    "duration": 4,
    "start_time": "2022-06-04T16:22:58.948Z"
   },
   {
    "duration": 3,
    "start_time": "2022-06-04T16:22:59.721Z"
   },
   {
    "duration": 4,
    "start_time": "2022-06-04T16:23:25.828Z"
   },
   {
    "duration": 3,
    "start_time": "2022-06-04T16:23:28.200Z"
   },
   {
    "duration": 10,
    "start_time": "2022-06-04T16:24:41.895Z"
   },
   {
    "duration": 6,
    "start_time": "2022-06-04T16:24:54.712Z"
   },
   {
    "duration": 7,
    "start_time": "2022-06-04T16:25:13.122Z"
   },
   {
    "duration": 8,
    "start_time": "2022-06-04T16:29:06.691Z"
   },
   {
    "duration": 24,
    "start_time": "2022-06-04T16:29:35.199Z"
   },
   {
    "duration": 33,
    "start_time": "2022-06-04T16:29:46.501Z"
   },
   {
    "duration": 24,
    "start_time": "2022-06-04T16:30:13.219Z"
   },
   {
    "duration": 619,
    "start_time": "2022-06-04T21:41:14.623Z"
   },
   {
    "duration": 11,
    "start_time": "2022-06-04T21:41:15.244Z"
   },
   {
    "duration": 11,
    "start_time": "2022-06-04T21:41:15.434Z"
   },
   {
    "duration": 24,
    "start_time": "2022-06-04T21:41:15.943Z"
   },
   {
    "duration": 27,
    "start_time": "2022-06-04T21:41:16.405Z"
   },
   {
    "duration": 22,
    "start_time": "2022-06-04T21:41:16.976Z"
   },
   {
    "duration": 29,
    "start_time": "2022-06-04T21:41:17.451Z"
   },
   {
    "duration": 2,
    "start_time": "2022-06-04T21:41:17.638Z"
   },
   {
    "duration": 3,
    "start_time": "2022-06-04T21:41:18.060Z"
   },
   {
    "duration": 2,
    "start_time": "2022-06-04T21:41:18.492Z"
   },
   {
    "duration": 2,
    "start_time": "2022-06-04T21:41:18.981Z"
   },
   {
    "duration": 5,
    "start_time": "2022-06-04T21:41:19.875Z"
   },
   {
    "duration": 9,
    "start_time": "2022-06-04T21:41:20.117Z"
   },
   {
    "duration": 5,
    "start_time": "2022-06-04T21:41:20.399Z"
   },
   {
    "duration": 5,
    "start_time": "2022-06-04T21:41:21.038Z"
   },
   {
    "duration": 4,
    "start_time": "2022-06-04T21:41:21.678Z"
   },
   {
    "duration": 4,
    "start_time": "2022-06-04T21:41:22.202Z"
   },
   {
    "duration": 6,
    "start_time": "2022-06-04T21:41:22.480Z"
   },
   {
    "duration": 26,
    "start_time": "2022-06-04T21:41:23.411Z"
   },
   {
    "duration": 4,
    "start_time": "2022-06-04T21:41:23.785Z"
   },
   {
    "duration": 2,
    "start_time": "2022-06-04T21:41:24.699Z"
   },
   {
    "duration": 2,
    "start_time": "2022-06-04T21:41:24.984Z"
   },
   {
    "duration": 20,
    "start_time": "2022-06-04T21:41:25.874Z"
   },
   {
    "duration": 5,
    "start_time": "2022-06-04T21:41:26.718Z"
   },
   {
    "duration": 5,
    "start_time": "2022-06-04T21:41:27.016Z"
   },
   {
    "duration": 10,
    "start_time": "2022-06-04T21:41:27.350Z"
   },
   {
    "duration": 6,
    "start_time": "2022-06-04T21:41:27.982Z"
   },
   {
    "duration": 2,
    "start_time": "2022-06-04T21:41:28.633Z"
   },
   {
    "duration": 3,
    "start_time": "2022-06-04T21:41:28.972Z"
   },
   {
    "duration": 6,
    "start_time": "2022-06-04T21:41:30.576Z"
   },
   {
    "duration": 5,
    "start_time": "2022-06-04T21:41:31.201Z"
   },
   {
    "duration": 6,
    "start_time": "2022-06-04T21:41:31.495Z"
   },
   {
    "duration": 7,
    "start_time": "2022-06-04T21:41:32.047Z"
   },
   {
    "duration": 2,
    "start_time": "2022-06-04T21:41:32.597Z"
   },
   {
    "duration": 2,
    "start_time": "2022-06-04T21:41:32.837Z"
   },
   {
    "duration": 23,
    "start_time": "2022-06-04T21:41:33.432Z"
   },
   {
    "duration": 30,
    "start_time": "2022-06-04T21:41:33.986Z"
   },
   {
    "duration": 17,
    "start_time": "2022-06-04T21:41:34.276Z"
   },
   {
    "duration": 3,
    "start_time": "2022-06-04T21:41:34.535Z"
   },
   {
    "duration": 5,
    "start_time": "2022-06-04T21:41:36.117Z"
   },
   {
    "duration": 4,
    "start_time": "2022-06-04T21:41:36.989Z"
   },
   {
    "duration": 7,
    "start_time": "2022-06-04T21:42:03.772Z"
   },
   {
    "duration": 6,
    "start_time": "2022-06-04T21:42:16.020Z"
   },
   {
    "duration": 5,
    "start_time": "2022-06-04T21:42:22.672Z"
   },
   {
    "duration": 66,
    "start_time": "2022-06-04T21:42:34.222Z"
   },
   {
    "duration": 4,
    "start_time": "2022-06-04T21:42:39.698Z"
   },
   {
    "duration": 4,
    "start_time": "2022-06-04T21:42:40.378Z"
   },
   {
    "duration": 8,
    "start_time": "2022-06-04T21:42:49.192Z"
   },
   {
    "duration": 4,
    "start_time": "2022-06-04T21:43:03.683Z"
   },
   {
    "duration": 3,
    "start_time": "2022-06-04T21:43:15.092Z"
   },
   {
    "duration": 7,
    "start_time": "2022-06-04T22:30:42.689Z"
   },
   {
    "duration": 66,
    "start_time": "2022-06-04T22:30:51.111Z"
   },
   {
    "duration": 4,
    "start_time": "2022-06-04T22:30:51.521Z"
   },
   {
    "duration": 8,
    "start_time": "2022-06-04T22:30:51.746Z"
   },
   {
    "duration": 24,
    "start_time": "2022-06-04T22:30:52.144Z"
   },
   {
    "duration": 21,
    "start_time": "2022-06-04T22:30:52.548Z"
   },
   {
    "duration": 27,
    "start_time": "2022-06-04T22:30:53.107Z"
   },
   {
    "duration": 20,
    "start_time": "2022-06-04T22:30:53.619Z"
   },
   {
    "duration": 3,
    "start_time": "2022-06-04T22:30:54.049Z"
   },
   {
    "duration": 2,
    "start_time": "2022-06-04T22:30:54.286Z"
   },
   {
    "duration": 2,
    "start_time": "2022-06-04T22:30:54.614Z"
   },
   {
    "duration": 3,
    "start_time": "2022-06-04T22:30:54.799Z"
   },
   {
    "duration": 10,
    "start_time": "2022-06-04T22:30:55.065Z"
   },
   {
    "duration": 9,
    "start_time": "2022-06-04T22:30:55.201Z"
   },
   {
    "duration": 7,
    "start_time": "2022-06-04T22:30:55.323Z"
   },
   {
    "duration": 5,
    "start_time": "2022-06-04T22:30:55.550Z"
   },
   {
    "duration": 4,
    "start_time": "2022-06-04T22:30:55.740Z"
   },
   {
    "duration": 4,
    "start_time": "2022-06-04T22:30:55.940Z"
   },
   {
    "duration": 7,
    "start_time": "2022-06-04T22:30:56.090Z"
   },
   {
    "duration": 30,
    "start_time": "2022-06-04T22:30:56.307Z"
   },
   {
    "duration": 4,
    "start_time": "2022-06-04T22:30:56.590Z"
   },
   {
    "duration": 2,
    "start_time": "2022-06-04T22:30:56.941Z"
   },
   {
    "duration": 3,
    "start_time": "2022-06-04T22:30:57.048Z"
   },
   {
    "duration": 27,
    "start_time": "2022-06-04T22:30:58.089Z"
   },
   {
    "duration": 24,
    "start_time": "2022-06-04T22:30:58.118Z"
   },
   {
    "duration": 5,
    "start_time": "2022-06-04T22:30:58.207Z"
   },
   {
    "duration": 43,
    "start_time": "2022-06-04T22:30:58.215Z"
   },
   {
    "duration": 21,
    "start_time": "2022-06-04T22:30:58.260Z"
   },
   {
    "duration": 2,
    "start_time": "2022-06-04T22:30:58.397Z"
   },
   {
    "duration": 2,
    "start_time": "2022-06-04T22:30:58.709Z"
   },
   {
    "duration": 9,
    "start_time": "2022-06-04T22:30:59.014Z"
   },
   {
    "duration": 7,
    "start_time": "2022-06-04T22:30:59.206Z"
   },
   {
    "duration": 9,
    "start_time": "2022-06-04T22:30:59.345Z"
   },
   {
    "duration": 8,
    "start_time": "2022-06-04T22:30:59.587Z"
   },
   {
    "duration": 3,
    "start_time": "2022-06-04T22:30:59.760Z"
   },
   {
    "duration": 3,
    "start_time": "2022-06-04T22:30:59.905Z"
   },
   {
    "duration": 18,
    "start_time": "2022-06-04T22:31:00.094Z"
   },
   {
    "duration": 19,
    "start_time": "2022-06-04T22:31:00.289Z"
   },
   {
    "duration": 17,
    "start_time": "2022-06-04T22:31:00.420Z"
   },
   {
    "duration": 4,
    "start_time": "2022-06-04T22:31:00.556Z"
   },
   {
    "duration": 5,
    "start_time": "2022-06-04T22:31:00.983Z"
   },
   {
    "duration": 4,
    "start_time": "2022-06-04T22:31:01.141Z"
   },
   {
    "duration": 4,
    "start_time": "2022-06-04T22:31:01.428Z"
   },
   {
    "duration": 4,
    "start_time": "2022-06-04T22:31:01.549Z"
   },
   {
    "duration": 16,
    "start_time": "2022-06-04T22:31:01.695Z"
   },
   {
    "duration": 9,
    "start_time": "2022-06-04T22:31:01.850Z"
   },
   {
    "duration": 25,
    "start_time": "2022-06-04T22:31:02.089Z"
   },
   {
    "duration": 9,
    "start_time": "2022-06-04T22:31:02.210Z"
   },
   {
    "duration": 3,
    "start_time": "2022-06-04T22:31:02.389Z"
   },
   {
    "duration": 4,
    "start_time": "2022-06-04T22:31:02.787Z"
   },
   {
    "duration": 3,
    "start_time": "2022-06-04T22:31:02.898Z"
   },
   {
    "duration": 3,
    "start_time": "2022-06-04T22:31:03.014Z"
   },
   {
    "duration": 4,
    "start_time": "2022-06-04T22:31:03.142Z"
   },
   {
    "duration": 3,
    "start_time": "2022-06-04T22:31:03.321Z"
   },
   {
    "duration": 3,
    "start_time": "2022-06-04T22:31:03.525Z"
   },
   {
    "duration": 4,
    "start_time": "2022-06-04T22:31:03.726Z"
   },
   {
    "duration": 3,
    "start_time": "2022-06-04T22:31:03.848Z"
   },
   {
    "duration": 2,
    "start_time": "2022-06-04T22:31:04.035Z"
   },
   {
    "duration": 3,
    "start_time": "2022-06-04T22:31:04.189Z"
   },
   {
    "duration": 3,
    "start_time": "2022-06-04T22:31:04.391Z"
   },
   {
    "duration": 3,
    "start_time": "2022-06-04T22:31:04.544Z"
   },
   {
    "duration": 2,
    "start_time": "2022-06-04T22:31:04.689Z"
   },
   {
    "duration": 2,
    "start_time": "2022-06-04T22:31:04.836Z"
   },
   {
    "duration": 2,
    "start_time": "2022-06-04T22:31:05.025Z"
   },
   {
    "duration": 3,
    "start_time": "2022-06-04T22:31:05.220Z"
   },
   {
    "duration": 3,
    "start_time": "2022-06-04T22:31:05.388Z"
   },
   {
    "duration": 3,
    "start_time": "2022-06-04T22:31:05.499Z"
   },
   {
    "duration": 2,
    "start_time": "2022-06-04T22:31:05.689Z"
   },
   {
    "duration": 2,
    "start_time": "2022-06-04T22:31:05.819Z"
   },
   {
    "duration": 2,
    "start_time": "2022-06-04T22:31:06.046Z"
   },
   {
    "duration": 5,
    "start_time": "2022-06-04T22:31:06.310Z"
   },
   {
    "duration": 8,
    "start_time": "2022-06-04T22:53:34.552Z"
   },
   {
    "duration": 153,
    "start_time": "2022-06-04T22:54:17.425Z"
   },
   {
    "duration": 157,
    "start_time": "2022-06-04T22:55:21.247Z"
   },
   {
    "duration": 7,
    "start_time": "2022-06-04T22:56:42.756Z"
   },
   {
    "duration": 10,
    "start_time": "2022-06-04T22:57:01.631Z"
   },
   {
    "duration": 9,
    "start_time": "2022-06-04T22:58:19.132Z"
   },
   {
    "duration": 11,
    "start_time": "2022-06-04T22:58:53.853Z"
   },
   {
    "duration": 16,
    "start_time": "2022-06-04T22:59:34.238Z"
   },
   {
    "duration": 13,
    "start_time": "2022-06-04T22:59:47.295Z"
   },
   {
    "duration": 12,
    "start_time": "2022-06-04T22:59:53.731Z"
   },
   {
    "duration": 11,
    "start_time": "2022-06-04T23:00:29.100Z"
   },
   {
    "duration": 12,
    "start_time": "2022-06-04T23:00:53.491Z"
   },
   {
    "duration": 14,
    "start_time": "2022-06-04T23:01:05.488Z"
   },
   {
    "duration": 4,
    "start_time": "2022-06-04T23:02:26.051Z"
   },
   {
    "duration": 3,
    "start_time": "2022-06-04T23:02:33.362Z"
   },
   {
    "duration": 13,
    "start_time": "2022-06-04T23:02:55.531Z"
   },
   {
    "duration": 13,
    "start_time": "2022-06-04T23:03:02.452Z"
   },
   {
    "duration": 13,
    "start_time": "2022-06-04T23:03:43.599Z"
   },
   {
    "duration": 14,
    "start_time": "2022-06-04T23:04:04.636Z"
   },
   {
    "duration": 16,
    "start_time": "2022-06-04T23:04:11.029Z"
   },
   {
    "duration": 13,
    "start_time": "2022-06-04T23:04:40.190Z"
   },
   {
    "duration": 6,
    "start_time": "2022-06-04T23:17:59.807Z"
   },
   {
    "duration": 7,
    "start_time": "2022-06-04T23:22:53.590Z"
   },
   {
    "duration": 14,
    "start_time": "2022-06-04T23:23:17.458Z"
   },
   {
    "duration": 13,
    "start_time": "2022-06-04T23:24:06.956Z"
   },
   {
    "duration": 22,
    "start_time": "2022-06-04T23:24:37.495Z"
   },
   {
    "duration": 40,
    "start_time": "2022-06-04T23:25:37.180Z"
   },
   {
    "duration": 14,
    "start_time": "2022-06-04T23:26:19.575Z"
   },
   {
    "duration": 12,
    "start_time": "2022-06-04T23:26:43.777Z"
   },
   {
    "duration": 15,
    "start_time": "2022-06-04T23:26:48.621Z"
   },
   {
    "duration": 13,
    "start_time": "2022-06-04T23:26:51.090Z"
   },
   {
    "duration": 15,
    "start_time": "2022-06-04T23:27:21.314Z"
   },
   {
    "duration": 16,
    "start_time": "2022-06-04T23:27:58.751Z"
   },
   {
    "duration": 15,
    "start_time": "2022-06-04T23:28:34.283Z"
   },
   {
    "duration": 16,
    "start_time": "2022-06-04T23:28:52.104Z"
   },
   {
    "duration": 19,
    "start_time": "2022-06-04T23:29:35.221Z"
   },
   {
    "duration": 616,
    "start_time": "2022-06-05T01:33:33.611Z"
   },
   {
    "duration": 8,
    "start_time": "2022-06-05T01:33:34.229Z"
   },
   {
    "duration": 10,
    "start_time": "2022-06-05T01:33:34.246Z"
   },
   {
    "duration": 24,
    "start_time": "2022-06-05T01:33:34.588Z"
   },
   {
    "duration": 21,
    "start_time": "2022-06-05T01:33:34.930Z"
   },
   {
    "duration": 22,
    "start_time": "2022-06-05T01:33:35.444Z"
   },
   {
    "duration": 20,
    "start_time": "2022-06-05T01:33:35.872Z"
   },
   {
    "duration": 2,
    "start_time": "2022-06-05T01:33:36.055Z"
   },
   {
    "duration": 2,
    "start_time": "2022-06-05T01:33:36.454Z"
   },
   {
    "duration": 2,
    "start_time": "2022-06-05T01:33:36.794Z"
   },
   {
    "duration": 2,
    "start_time": "2022-06-05T01:33:37.251Z"
   },
   {
    "duration": 5,
    "start_time": "2022-06-05T01:33:37.937Z"
   },
   {
    "duration": 9,
    "start_time": "2022-06-05T01:33:38.169Z"
   },
   {
    "duration": 5,
    "start_time": "2022-06-05T01:33:38.439Z"
   },
   {
    "duration": 8,
    "start_time": "2022-06-05T01:33:38.952Z"
   },
   {
    "duration": 4,
    "start_time": "2022-06-05T01:33:39.395Z"
   },
   {
    "duration": 4,
    "start_time": "2022-06-05T01:33:39.856Z"
   },
   {
    "duration": 6,
    "start_time": "2022-06-05T01:33:40.112Z"
   },
   {
    "duration": 22,
    "start_time": "2022-06-05T01:33:40.751Z"
   },
   {
    "duration": 4,
    "start_time": "2022-06-05T01:33:40.981Z"
   },
   {
    "duration": 2,
    "start_time": "2022-06-05T01:33:42.083Z"
   },
   {
    "duration": 3,
    "start_time": "2022-06-05T01:33:42.533Z"
   },
   {
    "duration": 21,
    "start_time": "2022-06-05T01:33:43.202Z"
   },
   {
    "duration": 5,
    "start_time": "2022-06-05T01:33:43.897Z"
   },
   {
    "duration": 4,
    "start_time": "2022-06-05T01:33:44.169Z"
   },
   {
    "duration": 9,
    "start_time": "2022-06-05T01:33:44.391Z"
   },
   {
    "duration": 7,
    "start_time": "2022-06-05T01:33:44.922Z"
   },
   {
    "duration": 2,
    "start_time": "2022-06-05T01:33:45.401Z"
   },
   {
    "duration": 3,
    "start_time": "2022-06-05T01:33:45.669Z"
   },
   {
    "duration": 6,
    "start_time": "2022-06-05T01:33:46.158Z"
   },
   {
    "duration": 5,
    "start_time": "2022-06-05T01:33:46.630Z"
   },
   {
    "duration": 6,
    "start_time": "2022-06-05T01:33:46.890Z"
   },
   {
    "duration": 7,
    "start_time": "2022-06-05T01:33:47.370Z"
   },
   {
    "duration": 2,
    "start_time": "2022-06-05T01:33:47.869Z"
   },
   {
    "duration": 3,
    "start_time": "2022-06-05T01:33:48.105Z"
   },
   {
    "duration": 18,
    "start_time": "2022-06-05T01:33:48.587Z"
   },
   {
    "duration": 18,
    "start_time": "2022-06-05T01:33:49.125Z"
   },
   {
    "duration": 17,
    "start_time": "2022-06-05T01:33:49.370Z"
   },
   {
    "duration": 4,
    "start_time": "2022-06-05T01:33:49.629Z"
   },
   {
    "duration": 5,
    "start_time": "2022-06-05T01:33:51.176Z"
   },
   {
    "duration": 4,
    "start_time": "2022-06-05T01:33:51.742Z"
   },
   {
    "duration": 3,
    "start_time": "2022-06-05T01:35:07.813Z"
   },
   {
    "duration": 5,
    "start_time": "2022-06-05T01:35:08.255Z"
   },
   {
    "duration": 10,
    "start_time": "2022-06-05T01:35:08.709Z"
   },
   {
    "duration": 10,
    "start_time": "2022-06-05T01:35:09.042Z"
   },
   {
    "duration": 25,
    "start_time": "2022-06-05T01:35:10.207Z"
   },
   {
    "duration": 18,
    "start_time": "2022-06-05T01:35:10.721Z"
   },
   {
    "duration": 22,
    "start_time": "2022-06-05T01:55:03.651Z"
   },
   {
    "duration": 12,
    "start_time": "2022-06-05T01:55:10.721Z"
   },
   {
    "duration": 13,
    "start_time": "2022-06-05T01:55:14.668Z"
   },
   {
    "duration": 729,
    "start_time": "2022-06-05T03:33:32.314Z"
   },
   {
    "duration": 8,
    "start_time": "2022-06-05T03:33:33.045Z"
   },
   {
    "duration": 12,
    "start_time": "2022-06-05T03:33:33.082Z"
   },
   {
    "duration": 23,
    "start_time": "2022-06-05T03:33:33.285Z"
   },
   {
    "duration": 21,
    "start_time": "2022-06-05T03:33:33.527Z"
   },
   {
    "duration": 25,
    "start_time": "2022-06-05T03:33:33.803Z"
   },
   {
    "duration": 32,
    "start_time": "2022-06-05T03:33:34.292Z"
   },
   {
    "duration": 2,
    "start_time": "2022-06-05T03:33:34.480Z"
   },
   {
    "duration": 3,
    "start_time": "2022-06-05T03:33:34.823Z"
   },
   {
    "duration": 3,
    "start_time": "2022-06-05T03:33:35.021Z"
   },
   {
    "duration": 3,
    "start_time": "2022-06-05T03:33:35.213Z"
   },
   {
    "duration": 9,
    "start_time": "2022-06-05T03:33:35.482Z"
   },
   {
    "duration": 15,
    "start_time": "2022-06-05T03:33:35.624Z"
   },
   {
    "duration": 7,
    "start_time": "2022-06-05T03:33:35.752Z"
   },
   {
    "duration": 9,
    "start_time": "2022-06-05T03:33:35.974Z"
   },
   {
    "duration": 5,
    "start_time": "2022-06-05T03:33:36.145Z"
   },
   {
    "duration": 9,
    "start_time": "2022-06-05T03:33:36.375Z"
   },
   {
    "duration": 7,
    "start_time": "2022-06-05T03:33:36.514Z"
   },
   {
    "duration": 30,
    "start_time": "2022-06-05T03:33:36.778Z"
   },
   {
    "duration": 3,
    "start_time": "2022-06-05T03:33:36.926Z"
   },
   {
    "duration": 2,
    "start_time": "2022-06-05T03:33:37.378Z"
   },
   {
    "duration": 3,
    "start_time": "2022-06-05T03:33:37.496Z"
   },
   {
    "duration": 35,
    "start_time": "2022-06-05T03:33:37.783Z"
   },
   {
    "duration": 5,
    "start_time": "2022-06-05T03:33:37.996Z"
   },
   {
    "duration": 4,
    "start_time": "2022-06-05T03:33:38.141Z"
   },
   {
    "duration": 9,
    "start_time": "2022-06-05T03:33:38.422Z"
   },
   {
    "duration": 7,
    "start_time": "2022-06-05T03:33:38.624Z"
   },
   {
    "duration": 2,
    "start_time": "2022-06-05T03:33:39.006Z"
   },
   {
    "duration": 3,
    "start_time": "2022-06-05T03:33:39.150Z"
   },
   {
    "duration": 7,
    "start_time": "2022-06-05T03:33:39.347Z"
   },
   {
    "duration": 5,
    "start_time": "2022-06-05T03:33:39.522Z"
   },
   {
    "duration": 7,
    "start_time": "2022-06-05T03:33:39.693Z"
   },
   {
    "duration": 6,
    "start_time": "2022-06-05T03:33:39.919Z"
   },
   {
    "duration": 3,
    "start_time": "2022-06-05T03:33:40.120Z"
   },
   {
    "duration": 2,
    "start_time": "2022-06-05T03:33:40.281Z"
   },
   {
    "duration": 24,
    "start_time": "2022-06-05T03:33:40.494Z"
   },
   {
    "duration": 26,
    "start_time": "2022-06-05T03:33:40.682Z"
   },
   {
    "duration": 24,
    "start_time": "2022-06-05T03:33:40.807Z"
   },
   {
    "duration": 4,
    "start_time": "2022-06-05T03:33:40.935Z"
   },
   {
    "duration": 5,
    "start_time": "2022-06-05T03:33:41.337Z"
   },
   {
    "duration": 4,
    "start_time": "2022-06-05T03:33:41.522Z"
   },
   {
    "duration": 3,
    "start_time": "2022-06-05T03:33:41.835Z"
   },
   {
    "duration": 5,
    "start_time": "2022-06-05T03:33:41.975Z"
   },
   {
    "duration": 11,
    "start_time": "2022-06-05T03:33:42.109Z"
   },
   {
    "duration": 7,
    "start_time": "2022-06-05T03:33:42.256Z"
   },
   {
    "duration": 24,
    "start_time": "2022-06-05T03:33:42.522Z"
   },
   {
    "duration": 13,
    "start_time": "2022-06-05T03:33:42.675Z"
   },
   {
    "duration": 17,
    "start_time": "2022-06-05T03:33:42.803Z"
   },
   {
    "duration": 21,
    "start_time": "2022-06-05T03:33:43.092Z"
   },
   {
    "duration": 3,
    "start_time": "2022-06-05T03:33:43.301Z"
   },
   {
    "duration": 2,
    "start_time": "2022-06-05T03:33:43.480Z"
   },
   {
    "duration": 2,
    "start_time": "2022-06-05T03:33:43.623Z"
   },
   {
    "duration": 3,
    "start_time": "2022-06-05T03:33:43.804Z"
   },
   {
    "duration": 3,
    "start_time": "2022-06-05T03:33:44.007Z"
   },
   {
    "duration": 2,
    "start_time": "2022-06-05T03:33:44.218Z"
   },
   {
    "duration": 2,
    "start_time": "2022-06-05T03:33:44.506Z"
   },
   {
    "duration": 3,
    "start_time": "2022-06-05T03:33:44.679Z"
   },
   {
    "duration": 3,
    "start_time": "2022-06-05T03:33:44.881Z"
   },
   {
    "duration": 3,
    "start_time": "2022-06-05T03:33:45.003Z"
   },
   {
    "duration": 3,
    "start_time": "2022-06-05T03:33:45.132Z"
   },
   {
    "duration": 3,
    "start_time": "2022-06-05T03:33:45.278Z"
   },
   {
    "duration": 2,
    "start_time": "2022-06-05T03:33:45.427Z"
   },
   {
    "duration": 2,
    "start_time": "2022-06-05T03:33:45.643Z"
   },
   {
    "duration": 3,
    "start_time": "2022-06-05T03:33:45.836Z"
   },
   {
    "duration": 3,
    "start_time": "2022-06-05T03:33:46.017Z"
   },
   {
    "duration": 3,
    "start_time": "2022-06-05T03:33:46.229Z"
   },
   {
    "duration": 3,
    "start_time": "2022-06-05T03:33:46.394Z"
   },
   {
    "duration": 2,
    "start_time": "2022-06-05T03:33:46.805Z"
   },
   {
    "duration": 3,
    "start_time": "2022-06-05T03:33:46.936Z"
   },
   {
    "duration": 3,
    "start_time": "2022-06-05T03:33:47.116Z"
   },
   {
    "duration": 3,
    "start_time": "2022-06-05T03:33:47.278Z"
   },
   {
    "duration": 2,
    "start_time": "2022-06-05T03:33:47.424Z"
   },
   {
    "duration": 3,
    "start_time": "2022-06-05T03:33:47.655Z"
   },
   {
    "duration": 18,
    "start_time": "2022-06-05T04:58:53.403Z"
   },
   {
    "duration": 18,
    "start_time": "2022-06-05T04:59:10.705Z"
   },
   {
    "duration": 21,
    "start_time": "2022-06-05T05:01:47.650Z"
   },
   {
    "duration": 75,
    "start_time": "2022-06-05T05:15:08.716Z"
   },
   {
    "duration": 4,
    "start_time": "2022-06-05T05:15:13.218Z"
   },
   {
    "duration": 11,
    "start_time": "2022-06-05T05:15:16.306Z"
   },
   {
    "duration": 27,
    "start_time": "2022-06-05T05:15:28.484Z"
   },
   {
    "duration": 10,
    "start_time": "2022-06-05T05:15:41.994Z"
   },
   {
    "duration": 8,
    "start_time": "2022-06-05T05:16:58.730Z"
   },
   {
    "duration": 7,
    "start_time": "2022-06-05T05:19:06.132Z"
   },
   {
    "duration": 6,
    "start_time": "2022-06-05T05:19:17.597Z"
   },
   {
    "duration": 5,
    "start_time": "2022-06-05T05:19:45.768Z"
   },
   {
    "duration": 23,
    "start_time": "2022-06-05T05:20:04.721Z"
   },
   {
    "duration": 4,
    "start_time": "2022-06-05T05:20:14.313Z"
   },
   {
    "duration": 4,
    "start_time": "2022-06-05T05:20:24.216Z"
   },
   {
    "duration": 32,
    "start_time": "2022-06-05T05:20:26.643Z"
   },
   {
    "duration": 630,
    "start_time": "2022-06-05T15:47:43.553Z"
   },
   {
    "duration": 7,
    "start_time": "2022-06-05T15:47:44.230Z"
   },
   {
    "duration": 10,
    "start_time": "2022-06-05T15:47:44.417Z"
   },
   {
    "duration": 22,
    "start_time": "2022-06-05T15:47:44.747Z"
   },
   {
    "duration": 21,
    "start_time": "2022-06-05T15:47:45.057Z"
   },
   {
    "duration": 22,
    "start_time": "2022-06-05T15:47:45.329Z"
   },
   {
    "duration": 22,
    "start_time": "2022-06-05T15:47:45.897Z"
   },
   {
    "duration": 2,
    "start_time": "2022-06-05T15:47:46.046Z"
   },
   {
    "duration": 3,
    "start_time": "2022-06-05T15:47:46.484Z"
   },
   {
    "duration": 2,
    "start_time": "2022-06-05T15:47:46.737Z"
   },
   {
    "duration": 2,
    "start_time": "2022-06-05T15:47:46.941Z"
   },
   {
    "duration": 4,
    "start_time": "2022-06-05T15:47:47.252Z"
   },
   {
    "duration": 9,
    "start_time": "2022-06-05T15:47:47.427Z"
   },
   {
    "duration": 6,
    "start_time": "2022-06-05T15:47:47.588Z"
   },
   {
    "duration": 6,
    "start_time": "2022-06-05T15:47:47.831Z"
   },
   {
    "duration": 4,
    "start_time": "2022-06-05T15:47:48.050Z"
   },
   {
    "duration": 4,
    "start_time": "2022-06-05T15:47:48.287Z"
   },
   {
    "duration": 6,
    "start_time": "2022-06-05T15:47:48.484Z"
   },
   {
    "duration": 21,
    "start_time": "2022-06-05T15:47:48.757Z"
   },
   {
    "duration": 4,
    "start_time": "2022-06-05T15:47:48.936Z"
   },
   {
    "duration": 2,
    "start_time": "2022-06-05T15:47:49.442Z"
   },
   {
    "duration": 2,
    "start_time": "2022-06-05T15:47:49.598Z"
   },
   {
    "duration": 21,
    "start_time": "2022-06-05T15:47:49.850Z"
   },
   {
    "duration": 7,
    "start_time": "2022-06-05T15:47:50.128Z"
   },
   {
    "duration": 4,
    "start_time": "2022-06-05T15:47:50.482Z"
   },
   {
    "duration": 10,
    "start_time": "2022-06-05T15:47:50.690Z"
   },
   {
    "duration": 7,
    "start_time": "2022-06-05T15:47:50.934Z"
   },
   {
    "duration": 3,
    "start_time": "2022-06-05T15:47:51.347Z"
   },
   {
    "duration": 3,
    "start_time": "2022-06-05T15:47:51.529Z"
   },
   {
    "duration": 7,
    "start_time": "2022-06-05T15:47:51.783Z"
   },
   {
    "duration": 6,
    "start_time": "2022-06-05T15:47:52.026Z"
   },
   {
    "duration": 7,
    "start_time": "2022-06-05T15:47:52.222Z"
   },
   {
    "duration": 7,
    "start_time": "2022-06-05T15:47:52.444Z"
   },
   {
    "duration": 3,
    "start_time": "2022-06-05T15:47:52.655Z"
   },
   {
    "duration": 3,
    "start_time": "2022-06-05T15:47:52.815Z"
   },
   {
    "duration": 18,
    "start_time": "2022-06-05T15:47:53.089Z"
   },
   {
    "duration": 18,
    "start_time": "2022-06-05T15:47:53.291Z"
   },
   {
    "duration": 17,
    "start_time": "2022-06-05T15:47:53.446Z"
   },
   {
    "duration": 4,
    "start_time": "2022-06-05T15:47:53.605Z"
   },
   {
    "duration": 6,
    "start_time": "2022-06-05T15:47:54.044Z"
   },
   {
    "duration": 5,
    "start_time": "2022-06-05T15:47:54.235Z"
   },
   {
    "duration": 3,
    "start_time": "2022-06-05T15:47:54.590Z"
   },
   {
    "duration": 4,
    "start_time": "2022-06-05T15:47:54.733Z"
   },
   {
    "duration": 10,
    "start_time": "2022-06-05T15:47:54.901Z"
   },
   {
    "duration": 7,
    "start_time": "2022-06-05T15:47:55.092Z"
   },
   {
    "duration": 25,
    "start_time": "2022-06-05T15:47:57.081Z"
   },
   {
    "duration": 11,
    "start_time": "2022-06-05T15:47:58.616Z"
   },
   {
    "duration": 18,
    "start_time": "2022-06-05T15:47:59.282Z"
   },
   {
    "duration": 19,
    "start_time": "2022-06-05T15:47:59.988Z"
   },
   {
    "duration": 4,
    "start_time": "2022-06-05T15:48:01.853Z"
   },
   {
    "duration": 7,
    "start_time": "2022-06-05T15:48:04.014Z"
   },
   {
    "duration": 8,
    "start_time": "2022-06-05T15:48:54.293Z"
   },
   {
    "duration": 35,
    "start_time": "2022-06-05T15:49:14.757Z"
   },
   {
    "duration": 4,
    "start_time": "2022-06-05T15:49:24.942Z"
   },
   {
    "duration": 9,
    "start_time": "2022-06-05T15:49:50.096Z"
   },
   {
    "duration": 7,
    "start_time": "2022-06-05T15:49:53.690Z"
   },
   {
    "duration": 73,
    "start_time": "2022-06-05T15:51:42.219Z"
   },
   {
    "duration": 26,
    "start_time": "2022-06-05T15:52:04.353Z"
   },
   {
    "duration": 20,
    "start_time": "2022-06-05T15:52:29.894Z"
   },
   {
    "duration": 4,
    "start_time": "2022-06-05T15:54:21.425Z"
   },
   {
    "duration": 5,
    "start_time": "2022-06-05T15:54:55.592Z"
   },
   {
    "duration": 891,
    "start_time": "2022-06-05T18:07:49.818Z"
   },
   {
    "duration": 8,
    "start_time": "2022-06-05T18:07:50.711Z"
   },
   {
    "duration": 19,
    "start_time": "2022-06-05T18:07:50.721Z"
   },
   {
    "duration": 25,
    "start_time": "2022-06-05T18:07:50.845Z"
   },
   {
    "duration": 24,
    "start_time": "2022-06-05T18:07:51.130Z"
   },
   {
    "duration": 23,
    "start_time": "2022-06-05T18:07:51.396Z"
   },
   {
    "duration": 24,
    "start_time": "2022-06-05T18:07:51.996Z"
   },
   {
    "duration": 2,
    "start_time": "2022-06-05T18:07:52.216Z"
   },
   {
    "duration": 3,
    "start_time": "2022-06-05T18:07:52.615Z"
   },
   {
    "duration": 3,
    "start_time": "2022-06-05T18:07:52.785Z"
   },
   {
    "duration": 3,
    "start_time": "2022-06-05T18:07:53.012Z"
   },
   {
    "duration": 5,
    "start_time": "2022-06-05T18:07:53.275Z"
   },
   {
    "duration": 14,
    "start_time": "2022-06-05T18:07:53.425Z"
   },
   {
    "duration": 6,
    "start_time": "2022-06-05T18:07:53.597Z"
   },
   {
    "duration": 7,
    "start_time": "2022-06-05T18:07:53.843Z"
   },
   {
    "duration": 5,
    "start_time": "2022-06-05T18:07:54.056Z"
   },
   {
    "duration": 4,
    "start_time": "2022-06-05T18:07:54.290Z"
   },
   {
    "duration": 6,
    "start_time": "2022-06-05T18:07:54.450Z"
   },
   {
    "duration": 30,
    "start_time": "2022-06-05T18:07:54.694Z"
   },
   {
    "duration": 6,
    "start_time": "2022-06-05T18:07:54.861Z"
   },
   {
    "duration": 2,
    "start_time": "2022-06-05T18:07:55.343Z"
   },
   {
    "duration": 2,
    "start_time": "2022-06-05T18:07:55.465Z"
   },
   {
    "duration": 24,
    "start_time": "2022-06-05T18:07:55.722Z"
   },
   {
    "duration": 5,
    "start_time": "2022-06-05T18:07:55.972Z"
   },
   {
    "duration": 6,
    "start_time": "2022-06-05T18:07:56.122Z"
   },
   {
    "duration": 11,
    "start_time": "2022-06-05T18:07:56.426Z"
   },
   {
    "duration": 9,
    "start_time": "2022-06-05T18:07:56.616Z"
   },
   {
    "duration": 3,
    "start_time": "2022-06-05T18:07:57.056Z"
   },
   {
    "duration": 3,
    "start_time": "2022-06-05T18:07:57.183Z"
   },
   {
    "duration": 8,
    "start_time": "2022-06-05T18:07:57.363Z"
   },
   {
    "duration": 7,
    "start_time": "2022-06-05T18:07:57.546Z"
   },
   {
    "duration": 10,
    "start_time": "2022-06-05T18:07:57.712Z"
   },
   {
    "duration": 9,
    "start_time": "2022-06-05T18:07:57.974Z"
   },
   {
    "duration": 2,
    "start_time": "2022-06-05T18:07:58.171Z"
   },
   {
    "duration": 2,
    "start_time": "2022-06-05T18:07:58.322Z"
   },
   {
    "duration": 28,
    "start_time": "2022-06-05T18:07:58.498Z"
   },
   {
    "duration": 25,
    "start_time": "2022-06-05T18:07:58.756Z"
   },
   {
    "duration": 17,
    "start_time": "2022-06-05T18:07:58.948Z"
   },
   {
    "duration": 5,
    "start_time": "2022-06-05T18:07:59.143Z"
   },
   {
    "duration": 5,
    "start_time": "2022-06-05T18:07:59.555Z"
   },
   {
    "duration": 5,
    "start_time": "2022-06-05T18:07:59.753Z"
   },
   {
    "duration": 4,
    "start_time": "2022-06-05T18:08:00.043Z"
   },
   {
    "duration": 4,
    "start_time": "2022-06-05T18:08:00.185Z"
   },
   {
    "duration": 10,
    "start_time": "2022-06-05T18:08:00.357Z"
   },
   {
    "duration": 7,
    "start_time": "2022-06-05T18:08:00.531Z"
   },
   {
    "duration": 26,
    "start_time": "2022-06-05T18:08:00.794Z"
   },
   {
    "duration": 13,
    "start_time": "2022-06-05T18:08:00.959Z"
   },
   {
    "duration": 26,
    "start_time": "2022-06-05T18:08:01.127Z"
   },
   {
    "duration": 27,
    "start_time": "2022-06-05T18:08:01.292Z"
   },
   {
    "duration": 6,
    "start_time": "2022-06-05T18:08:01.712Z"
   },
   {
    "duration": 9,
    "start_time": "2022-06-05T18:08:01.874Z"
   },
   {
    "duration": 93,
    "start_time": "2022-06-05T18:08:02.062Z"
   },
   {
    "duration": 3,
    "start_time": "2022-06-05T18:08:02.216Z"
   },
   {
    "duration": 3,
    "start_time": "2022-06-05T18:08:02.430Z"
   },
   {
    "duration": 4,
    "start_time": "2022-06-05T18:08:02.657Z"
   },
   {
    "duration": 20,
    "start_time": "2022-06-05T18:08:02.931Z"
   },
   {
    "duration": 18,
    "start_time": "2022-06-05T18:08:03.083Z"
   },
   {
    "duration": 2,
    "start_time": "2022-06-05T18:08:03.297Z"
   },
   {
    "duration": 2,
    "start_time": "2022-06-05T18:08:03.460Z"
   },
   {
    "duration": 3,
    "start_time": "2022-06-05T18:08:03.601Z"
   },
   {
    "duration": 3,
    "start_time": "2022-06-05T18:08:03.760Z"
   },
   {
    "duration": 2,
    "start_time": "2022-06-05T18:08:03.903Z"
   },
   {
    "duration": 2,
    "start_time": "2022-06-05T18:08:04.080Z"
   },
   {
    "duration": 2,
    "start_time": "2022-06-05T18:08:04.286Z"
   },
   {
    "duration": 2,
    "start_time": "2022-06-05T18:08:04.467Z"
   },
   {
    "duration": 2,
    "start_time": "2022-06-05T18:08:04.658Z"
   },
   {
    "duration": 3,
    "start_time": "2022-06-05T18:08:04.763Z"
   },
   {
    "duration": 3,
    "start_time": "2022-06-05T18:08:04.989Z"
   },
   {
    "duration": 2,
    "start_time": "2022-06-05T18:08:05.155Z"
   },
   {
    "duration": 2,
    "start_time": "2022-06-05T18:08:05.355Z"
   },
   {
    "duration": 3,
    "start_time": "2022-06-05T18:08:05.477Z"
   },
   {
    "duration": 3,
    "start_time": "2022-06-05T18:08:05.608Z"
   },
   {
    "duration": 2,
    "start_time": "2022-06-05T18:08:05.916Z"
   },
   {
    "duration": 3,
    "start_time": "2022-06-05T18:08:06.110Z"
   },
   {
    "duration": 2,
    "start_time": "2022-06-05T18:08:06.372Z"
   },
   {
    "duration": 2,
    "start_time": "2022-06-05T18:08:06.588Z"
   },
   {
    "duration": 9,
    "start_time": "2022-06-05T18:10:08.658Z"
   },
   {
    "duration": 115,
    "start_time": "2022-06-05T18:10:38.460Z"
   },
   {
    "duration": 4,
    "start_time": "2022-06-05T18:10:52.092Z"
   },
   {
    "duration": 112,
    "start_time": "2022-06-05T18:10:57.106Z"
   },
   {
    "duration": 111,
    "start_time": "2022-06-05T18:11:00.777Z"
   },
   {
    "duration": 159,
    "start_time": "2022-06-05T18:11:05.958Z"
   },
   {
    "duration": 114,
    "start_time": "2022-06-05T18:11:15.760Z"
   },
   {
    "duration": 183,
    "start_time": "2022-06-05T18:12:49.310Z"
   },
   {
    "duration": 73,
    "start_time": "2022-06-05T18:13:12.651Z"
   },
   {
    "duration": 711,
    "start_time": "2022-06-05T18:13:28.408Z"
   },
   {
    "duration": 11,
    "start_time": "2022-06-05T18:13:31.933Z"
   },
   {
    "duration": 12,
    "start_time": "2022-06-05T18:13:32.565Z"
   },
   {
    "duration": 36,
    "start_time": "2022-06-05T18:13:33.717Z"
   },
   {
    "duration": 32,
    "start_time": "2022-06-05T18:13:34.506Z"
   },
   {
    "duration": 21,
    "start_time": "2022-06-05T18:13:35.446Z"
   },
   {
    "duration": 23,
    "start_time": "2022-06-05T18:13:36.324Z"
   },
   {
    "duration": 2,
    "start_time": "2022-06-05T18:13:36.882Z"
   },
   {
    "duration": 2,
    "start_time": "2022-06-05T18:13:37.577Z"
   },
   {
    "duration": 2,
    "start_time": "2022-06-05T18:13:38.270Z"
   },
   {
    "duration": 3,
    "start_time": "2022-06-05T18:13:39.208Z"
   },
   {
    "duration": 6,
    "start_time": "2022-06-05T18:13:40.965Z"
   },
   {
    "duration": 10,
    "start_time": "2022-06-05T18:13:41.312Z"
   },
   {
    "duration": 5,
    "start_time": "2022-06-05T18:13:41.785Z"
   },
   {
    "duration": 6,
    "start_time": "2022-06-05T18:13:42.674Z"
   },
   {
    "duration": 4,
    "start_time": "2022-06-05T18:13:43.691Z"
   },
   {
    "duration": 4,
    "start_time": "2022-06-05T18:13:44.478Z"
   },
   {
    "duration": 7,
    "start_time": "2022-06-05T18:13:44.848Z"
   },
   {
    "duration": 21,
    "start_time": "2022-06-05T18:13:46.099Z"
   },
   {
    "duration": 4,
    "start_time": "2022-06-05T18:13:46.557Z"
   },
   {
    "duration": 3,
    "start_time": "2022-06-05T18:13:47.715Z"
   },
   {
    "duration": 2,
    "start_time": "2022-06-05T18:13:48.038Z"
   },
   {
    "duration": 22,
    "start_time": "2022-06-05T18:13:49.585Z"
   },
   {
    "duration": 4,
    "start_time": "2022-06-05T18:13:50.370Z"
   },
   {
    "duration": 5,
    "start_time": "2022-06-05T18:13:51.754Z"
   },
   {
    "duration": 10,
    "start_time": "2022-06-05T18:13:52.216Z"
   },
   {
    "duration": 7,
    "start_time": "2022-06-05T18:13:52.963Z"
   },
   {
    "duration": 2,
    "start_time": "2022-06-05T18:13:53.547Z"
   },
   {
    "duration": 2,
    "start_time": "2022-06-05T18:13:53.825Z"
   },
   {
    "duration": 7,
    "start_time": "2022-06-05T18:13:54.453Z"
   },
   {
    "duration": 8,
    "start_time": "2022-06-05T18:13:55.009Z"
   },
   {
    "duration": 9,
    "start_time": "2022-06-05T18:13:55.402Z"
   },
   {
    "duration": 8,
    "start_time": "2022-06-05T18:13:56.142Z"
   },
   {
    "duration": 3,
    "start_time": "2022-06-05T18:13:57.031Z"
   },
   {
    "duration": 2,
    "start_time": "2022-06-05T18:13:57.548Z"
   },
   {
    "duration": 28,
    "start_time": "2022-06-05T18:13:58.246Z"
   },
   {
    "duration": 18,
    "start_time": "2022-06-05T18:13:59.147Z"
   },
   {
    "duration": 18,
    "start_time": "2022-06-05T18:13:59.567Z"
   },
   {
    "duration": 4,
    "start_time": "2022-06-05T18:13:59.860Z"
   },
   {
    "duration": 7,
    "start_time": "2022-06-05T18:14:01.896Z"
   },
   {
    "duration": 6,
    "start_time": "2022-06-05T18:14:02.510Z"
   },
   {
    "duration": 4,
    "start_time": "2022-06-05T18:14:03.847Z"
   },
   {
    "duration": 4,
    "start_time": "2022-06-05T18:14:04.336Z"
   },
   {
    "duration": 15,
    "start_time": "2022-06-05T18:14:05.167Z"
   },
   {
    "duration": 10,
    "start_time": "2022-06-05T18:14:05.648Z"
   },
   {
    "duration": 25,
    "start_time": "2022-06-05T18:14:12.581Z"
   },
   {
    "duration": 12,
    "start_time": "2022-06-05T18:14:13.747Z"
   },
   {
    "duration": 47,
    "start_time": "2022-06-05T18:15:23.723Z"
   },
   {
    "duration": 2,
    "start_time": "2022-06-05T18:15:29.700Z"
   },
   {
    "duration": 4,
    "start_time": "2022-06-05T18:15:33.406Z"
   },
   {
    "duration": 8,
    "start_time": "2022-06-05T18:15:34.159Z"
   },
   {
    "duration": 123,
    "start_time": "2022-06-05T18:15:35.047Z"
   },
   {
    "duration": 158,
    "start_time": "2022-06-05T18:15:45.730Z"
   },
   {
    "duration": 12,
    "start_time": "2022-06-05T18:31:38.726Z"
   },
   {
    "duration": 17,
    "start_time": "2022-06-05T18:32:01.800Z"
   },
   {
    "duration": 32,
    "start_time": "2022-06-05T18:32:18.522Z"
   },
   {
    "duration": 13,
    "start_time": "2022-06-05T18:38:05.843Z"
   },
   {
    "duration": 16,
    "start_time": "2022-06-05T18:38:55.015Z"
   },
   {
    "duration": 29,
    "start_time": "2022-06-05T18:39:08.066Z"
   },
   {
    "duration": 23,
    "start_time": "2022-06-05T18:39:35.162Z"
   },
   {
    "duration": 24,
    "start_time": "2022-06-05T18:39:47.157Z"
   },
   {
    "duration": 23,
    "start_time": "2022-06-05T18:39:55.595Z"
   },
   {
    "duration": 15,
    "start_time": "2022-06-05T18:42:56.782Z"
   },
   {
    "duration": 9,
    "start_time": "2022-06-05T18:44:04.366Z"
   },
   {
    "duration": 9,
    "start_time": "2022-06-05T18:44:20.845Z"
   },
   {
    "duration": 12,
    "start_time": "2022-06-05T18:44:36.046Z"
   },
   {
    "duration": 25,
    "start_time": "2022-06-05T18:44:39.750Z"
   },
   {
    "duration": 10,
    "start_time": "2022-06-05T18:45:18.277Z"
   },
   {
    "duration": 582,
    "start_time": "2022-06-05T18:45:41.457Z"
   },
   {
    "duration": 20,
    "start_time": "2022-06-05T18:47:02.839Z"
   },
   {
    "duration": 41,
    "start_time": "2022-06-05T18:47:41.121Z"
   },
   {
    "duration": 28,
    "start_time": "2022-06-05T18:47:50.407Z"
   },
   {
    "duration": 17,
    "start_time": "2022-06-05T18:48:34.951Z"
   },
   {
    "duration": 11,
    "start_time": "2022-06-05T18:48:39.794Z"
   },
   {
    "duration": 33,
    "start_time": "2022-06-05T18:49:59.043Z"
   },
   {
    "duration": 13,
    "start_time": "2022-06-05T18:50:58.649Z"
   },
   {
    "duration": 5,
    "start_time": "2022-06-05T18:51:02.946Z"
   },
   {
    "duration": 25,
    "start_time": "2022-06-05T18:51:05.947Z"
   },
   {
    "duration": 9,
    "start_time": "2022-06-05T18:51:20.685Z"
   },
   {
    "duration": 12,
    "start_time": "2022-06-05T18:54:56.083Z"
   },
   {
    "duration": 43,
    "start_time": "2022-06-05T18:55:22.644Z"
   },
   {
    "duration": 17,
    "start_time": "2022-06-05T18:55:28.880Z"
   },
   {
    "duration": 8,
    "start_time": "2022-06-05T18:55:33.301Z"
   },
   {
    "duration": 7,
    "start_time": "2022-06-05T18:55:48.660Z"
   },
   {
    "duration": 4,
    "start_time": "2022-06-05T19:02:59.579Z"
   },
   {
    "duration": 26,
    "start_time": "2022-06-05T19:03:05.355Z"
   },
   {
    "duration": 16,
    "start_time": "2022-06-05T19:03:11.293Z"
   },
   {
    "duration": 18,
    "start_time": "2022-06-05T19:03:34.963Z"
   },
   {
    "duration": 16,
    "start_time": "2022-06-05T19:03:41.546Z"
   },
   {
    "duration": 16,
    "start_time": "2022-06-05T19:03:53.280Z"
   },
   {
    "duration": 29,
    "start_time": "2022-06-05T19:04:02.678Z"
   },
   {
    "duration": 27,
    "start_time": "2022-06-05T19:04:11.154Z"
   },
   {
    "duration": 39,
    "start_time": "2022-06-05T19:05:48.390Z"
   },
   {
    "duration": 54,
    "start_time": "2022-06-05T19:06:29.904Z"
   },
   {
    "duration": 9,
    "start_time": "2022-06-05T19:07:40.160Z"
   },
   {
    "duration": 29,
    "start_time": "2022-06-05T19:10:27.770Z"
   },
   {
    "duration": 38,
    "start_time": "2022-06-05T19:10:41.555Z"
   },
   {
    "duration": 22,
    "start_time": "2022-06-05T19:10:44.442Z"
   },
   {
    "duration": 12,
    "start_time": "2022-06-05T19:10:55.583Z"
   },
   {
    "duration": 29,
    "start_time": "2022-06-05T19:11:08.642Z"
   },
   {
    "duration": 11,
    "start_time": "2022-06-05T19:11:45.105Z"
   },
   {
    "duration": 15,
    "start_time": "2022-06-05T19:12:26.203Z"
   },
   {
    "duration": 11,
    "start_time": "2022-06-05T19:12:43.853Z"
   },
   {
    "duration": 9,
    "start_time": "2022-06-05T19:12:49.889Z"
   },
   {
    "duration": 10,
    "start_time": "2022-06-05T19:12:53.182Z"
   },
   {
    "duration": 11,
    "start_time": "2022-06-05T19:13:02.412Z"
   },
   {
    "duration": 16,
    "start_time": "2022-06-05T19:13:26.623Z"
   },
   {
    "duration": 12,
    "start_time": "2022-06-05T19:13:57.979Z"
   },
   {
    "duration": 9,
    "start_time": "2022-06-05T19:14:10.182Z"
   },
   {
    "duration": 8,
    "start_time": "2022-06-05T19:14:19.397Z"
   },
   {
    "duration": 9,
    "start_time": "2022-06-05T19:14:43.301Z"
   },
   {
    "duration": 8,
    "start_time": "2022-06-05T19:14:50.800Z"
   },
   {
    "duration": 14,
    "start_time": "2022-06-05T19:15:07.351Z"
   },
   {
    "duration": 18,
    "start_time": "2022-06-05T19:16:17.651Z"
   },
   {
    "duration": 50,
    "start_time": "2022-06-05T19:19:27.523Z"
   },
   {
    "duration": 22,
    "start_time": "2022-06-05T19:21:21.314Z"
   },
   {
    "duration": 34,
    "start_time": "2022-06-05T19:21:29.346Z"
   },
   {
    "duration": 30,
    "start_time": "2022-06-05T19:22:16.305Z"
   },
   {
    "duration": 29,
    "start_time": "2022-06-05T19:22:46.973Z"
   },
   {
    "duration": 55,
    "start_time": "2022-06-05T19:22:54.820Z"
   },
   {
    "duration": 18,
    "start_time": "2022-06-05T19:22:58.921Z"
   },
   {
    "duration": 17,
    "start_time": "2022-06-05T19:23:10.350Z"
   },
   {
    "duration": 35,
    "start_time": "2022-06-05T19:23:24.286Z"
   },
   {
    "duration": 7,
    "start_time": "2022-06-05T19:26:22.700Z"
   },
   {
    "duration": 7,
    "start_time": "2022-06-05T19:33:30.643Z"
   },
   {
    "duration": 18,
    "start_time": "2022-06-05T19:33:38.443Z"
   },
   {
    "duration": 5,
    "start_time": "2022-06-05T19:39:39.540Z"
   },
   {
    "duration": 9,
    "start_time": "2022-06-05T19:39:41.392Z"
   },
   {
    "duration": 4,
    "start_time": "2022-06-05T19:40:15.361Z"
   },
   {
    "duration": 4,
    "start_time": "2022-06-05T19:40:20.142Z"
   },
   {
    "duration": 3,
    "start_time": "2022-06-05T19:42:20.778Z"
   },
   {
    "duration": 2785,
    "start_time": "2022-06-05T19:42:22.396Z"
   },
   {
    "duration": 4,
    "start_time": "2022-06-05T19:44:04.401Z"
   },
   {
    "duration": 2762,
    "start_time": "2022-06-05T19:44:06.479Z"
   },
   {
    "duration": 5,
    "start_time": "2022-06-05T19:46:28.586Z"
   },
   {
    "duration": 8,
    "start_time": "2022-06-05T19:46:30.243Z"
   },
   {
    "duration": 11,
    "start_time": "2022-06-05T19:46:36.063Z"
   },
   {
    "duration": 5,
    "start_time": "2022-06-05T19:50:09.895Z"
   },
   {
    "duration": 42,
    "start_time": "2022-06-05T19:50:11.486Z"
   },
   {
    "duration": 5,
    "start_time": "2022-06-05T19:53:23.468Z"
   },
   {
    "duration": 14,
    "start_time": "2022-06-05T19:53:25.346Z"
   },
   {
    "duration": 6,
    "start_time": "2022-06-05T19:53:46.790Z"
   },
   {
    "duration": 454,
    "start_time": "2022-06-05T19:53:48.086Z"
   },
   {
    "duration": 321,
    "start_time": "2022-06-05T19:58:10.637Z"
   },
   {
    "duration": 4,
    "start_time": "2022-06-05T19:58:11.642Z"
   },
   {
    "duration": 12,
    "start_time": "2022-06-05T19:58:11.799Z"
   },
   {
    "duration": 23,
    "start_time": "2022-06-05T19:58:12.076Z"
   },
   {
    "duration": 24,
    "start_time": "2022-06-05T19:58:12.826Z"
   },
   {
    "duration": 27,
    "start_time": "2022-06-05T19:58:13.141Z"
   },
   {
    "duration": 22,
    "start_time": "2022-06-05T19:58:13.477Z"
   },
   {
    "duration": 7,
    "start_time": "2022-06-05T19:58:13.663Z"
   },
   {
    "duration": 7,
    "start_time": "2022-06-05T19:58:14.012Z"
   },
   {
    "duration": 9,
    "start_time": "2022-06-05T19:58:14.373Z"
   },
   {
    "duration": 3,
    "start_time": "2022-06-05T19:58:14.734Z"
   },
   {
    "duration": 5,
    "start_time": "2022-06-05T19:58:15.303Z"
   },
   {
    "duration": 10,
    "start_time": "2022-06-05T19:58:15.513Z"
   },
   {
    "duration": 6,
    "start_time": "2022-06-05T19:58:15.701Z"
   },
   {
    "duration": 6,
    "start_time": "2022-06-05T19:58:16.098Z"
   },
   {
    "duration": 5,
    "start_time": "2022-06-05T19:58:16.481Z"
   },
   {
    "duration": 4,
    "start_time": "2022-06-05T19:58:16.851Z"
   },
   {
    "duration": 6,
    "start_time": "2022-06-05T19:58:17.023Z"
   },
   {
    "duration": 23,
    "start_time": "2022-06-05T19:58:17.557Z"
   },
   {
    "duration": 5,
    "start_time": "2022-06-05T19:58:17.752Z"
   },
   {
    "duration": 3,
    "start_time": "2022-06-05T19:58:18.605Z"
   },
   {
    "duration": 6,
    "start_time": "2022-06-05T19:58:18.610Z"
   },
   {
    "duration": 25,
    "start_time": "2022-06-05T19:58:19.015Z"
   },
   {
    "duration": 6,
    "start_time": "2022-06-05T19:58:19.577Z"
   },
   {
    "duration": 6,
    "start_time": "2022-06-05T19:58:19.764Z"
   },
   {
    "duration": 9,
    "start_time": "2022-06-05T19:58:19.918Z"
   },
   {
    "duration": 7,
    "start_time": "2022-06-05T19:58:20.266Z"
   },
   {
    "duration": 3,
    "start_time": "2022-06-05T19:58:20.600Z"
   },
   {
    "duration": 3,
    "start_time": "2022-06-05T19:58:20.781Z"
   },
   {
    "duration": 8,
    "start_time": "2022-06-05T19:58:21.130Z"
   },
   {
    "duration": 4,
    "start_time": "2022-06-05T19:58:21.449Z"
   },
   {
    "duration": 8,
    "start_time": "2022-06-05T19:58:21.614Z"
   },
   {
    "duration": 10,
    "start_time": "2022-06-05T19:58:21.977Z"
   },
   {
    "duration": 3,
    "start_time": "2022-06-05T19:58:22.333Z"
   },
   {
    "duration": 3,
    "start_time": "2022-06-05T19:58:22.509Z"
   },
   {
    "duration": 20,
    "start_time": "2022-06-05T19:58:22.872Z"
   },
   {
    "duration": 21,
    "start_time": "2022-06-05T19:58:23.241Z"
   },
   {
    "duration": 23,
    "start_time": "2022-06-05T19:58:23.421Z"
   },
   {
    "duration": 5,
    "start_time": "2022-06-05T19:58:23.614Z"
   },
   {
    "duration": 6,
    "start_time": "2022-06-05T19:58:24.459Z"
   },
   {
    "duration": 6,
    "start_time": "2022-06-05T19:58:24.646Z"
   },
   {
    "duration": 3,
    "start_time": "2022-06-05T19:58:25.129Z"
   },
   {
    "duration": 4,
    "start_time": "2022-06-05T19:58:25.319Z"
   },
   {
    "duration": 11,
    "start_time": "2022-06-05T19:58:25.477Z"
   },
   {
    "duration": 8,
    "start_time": "2022-06-05T19:58:25.669Z"
   },
   {
    "duration": 24,
    "start_time": "2022-06-05T19:58:26.239Z"
   },
   {
    "duration": 14,
    "start_time": "2022-06-05T19:58:26.432Z"
   },
   {
    "duration": 18,
    "start_time": "2022-06-05T19:58:26.619Z"
   },
   {
    "duration": 20,
    "start_time": "2022-06-05T19:58:26.805Z"
   },
   {
    "duration": 4,
    "start_time": "2022-06-05T19:58:27.584Z"
   },
   {
    "duration": 461,
    "start_time": "2022-06-05T19:58:27.767Z"
   },
   {
    "duration": 0,
    "start_time": "2022-06-05T19:58:28.229Z"
   },
   {
    "duration": 0,
    "start_time": "2022-06-05T19:58:28.231Z"
   },
   {
    "duration": 2,
    "start_time": "2022-06-05T19:58:28.747Z"
   },
   {
    "duration": 4,
    "start_time": "2022-06-05T19:58:29.107Z"
   },
   {
    "duration": 22,
    "start_time": "2022-06-05T19:58:30.175Z"
   },
   {
    "duration": 21,
    "start_time": "2022-06-05T19:58:30.386Z"
   },
   {
    "duration": 3,
    "start_time": "2022-06-05T19:58:37.143Z"
   },
   {
    "duration": 2,
    "start_time": "2022-06-05T19:58:37.362Z"
   },
   {
    "duration": 3,
    "start_time": "2022-06-05T19:58:37.648Z"
   },
   {
    "duration": 3,
    "start_time": "2022-06-05T19:58:38.240Z"
   },
   {
    "duration": 3,
    "start_time": "2022-06-05T19:58:38.842Z"
   },
   {
    "duration": 3,
    "start_time": "2022-06-05T19:58:39.628Z"
   },
   {
    "duration": 3,
    "start_time": "2022-06-05T19:58:40.147Z"
   },
   {
    "duration": 3,
    "start_time": "2022-06-05T19:58:40.575Z"
   },
   {
    "duration": 141,
    "start_time": "2022-06-05T20:00:05.302Z"
   },
   {
    "duration": 12,
    "start_time": "2022-06-05T20:05:47.791Z"
   },
   {
    "duration": 25,
    "start_time": "2022-06-05T20:06:14.651Z"
   },
   {
    "duration": 27,
    "start_time": "2022-06-05T20:06:34.636Z"
   },
   {
    "duration": 27,
    "start_time": "2022-06-05T20:08:33.044Z"
   },
   {
    "duration": 24,
    "start_time": "2022-06-05T20:10:12.058Z"
   },
   {
    "duration": 32,
    "start_time": "2022-06-05T20:10:43.119Z"
   },
   {
    "duration": 11,
    "start_time": "2022-06-05T20:29:28.976Z"
   },
   {
    "duration": 4,
    "start_time": "2022-06-05T20:29:32.709Z"
   },
   {
    "duration": 245,
    "start_time": "2022-06-05T20:29:34.344Z"
   },
   {
    "duration": 276,
    "start_time": "2022-06-05T20:29:43.354Z"
   },
   {
    "duration": 7,
    "start_time": "2022-06-05T20:30:33.244Z"
   },
   {
    "duration": 22,
    "start_time": "2022-06-05T20:31:03.871Z"
   },
   {
    "duration": 3,
    "start_time": "2022-06-05T20:32:13.378Z"
   },
   {
    "duration": 9,
    "start_time": "2022-06-05T20:32:15.050Z"
   },
   {
    "duration": 8,
    "start_time": "2022-06-05T20:33:03.645Z"
   },
   {
    "duration": 8,
    "start_time": "2022-06-05T20:33:21.299Z"
   },
   {
    "duration": 10,
    "start_time": "2022-06-05T20:33:23.463Z"
   },
   {
    "duration": 359,
    "start_time": "2022-06-05T20:35:37.605Z"
   },
   {
    "duration": 252,
    "start_time": "2022-06-05T20:35:50.396Z"
   },
   {
    "duration": 8,
    "start_time": "2022-06-05T20:36:07.712Z"
   },
   {
    "duration": 15,
    "start_time": "2022-06-05T20:36:14.424Z"
   },
   {
    "duration": 4,
    "start_time": "2022-06-05T20:41:18.139Z"
   },
   {
    "duration": 8,
    "start_time": "2022-06-05T20:41:19.810Z"
   },
   {
    "duration": 150,
    "start_time": "2022-06-05T20:41:55.224Z"
   },
   {
    "duration": 121,
    "start_time": "2022-06-05T20:42:06.691Z"
   },
   {
    "duration": 3,
    "start_time": "2022-06-05T20:43:02.218Z"
   },
   {
    "duration": 12,
    "start_time": "2022-06-05T20:43:03.670Z"
   },
   {
    "duration": 3,
    "start_time": "2022-06-05T20:44:05.129Z"
   },
   {
    "duration": 8,
    "start_time": "2022-06-05T20:44:07.715Z"
   },
   {
    "duration": 159,
    "start_time": "2022-06-05T20:44:36.353Z"
   },
   {
    "duration": 134,
    "start_time": "2022-06-05T20:47:01.238Z"
   },
   {
    "duration": 9,
    "start_time": "2022-06-05T20:47:40.849Z"
   },
   {
    "duration": 3,
    "start_time": "2022-06-05T20:48:00.987Z"
   },
   {
    "duration": 145,
    "start_time": "2022-06-05T20:48:03.436Z"
   },
   {
    "duration": 3,
    "start_time": "2022-06-05T20:48:37.242Z"
   },
   {
    "duration": 9,
    "start_time": "2022-06-05T20:48:39.168Z"
   },
   {
    "duration": 9,
    "start_time": "2022-06-05T20:49:03.734Z"
   },
   {
    "duration": 6,
    "start_time": "2022-06-05T20:49:12.955Z"
   },
   {
    "duration": 22,
    "start_time": "2022-06-05T20:49:47.857Z"
   },
   {
    "duration": 2,
    "start_time": "2022-06-05T20:50:09.248Z"
   },
   {
    "duration": 10,
    "start_time": "2022-06-05T20:50:10.934Z"
   },
   {
    "duration": 7,
    "start_time": "2022-06-05T20:50:14.563Z"
   },
   {
    "duration": 6,
    "start_time": "2022-06-05T20:50:16.960Z"
   },
   {
    "duration": 508,
    "start_time": "2022-06-05T20:50:33.844Z"
   },
   {
    "duration": 14,
    "start_time": "2022-06-05T20:50:36.054Z"
   },
   {
    "duration": 15,
    "start_time": "2022-06-05T20:50:36.861Z"
   },
   {
    "duration": 33,
    "start_time": "2022-06-05T20:50:37.254Z"
   },
   {
    "duration": 22,
    "start_time": "2022-06-05T20:50:37.562Z"
   },
   {
    "duration": 22,
    "start_time": "2022-06-05T20:50:37.909Z"
   },
   {
    "duration": 23,
    "start_time": "2022-06-05T20:50:38.264Z"
   },
   {
    "duration": 8,
    "start_time": "2022-06-05T20:50:38.450Z"
   },
   {
    "duration": 11,
    "start_time": "2022-06-05T20:50:38.812Z"
   },
   {
    "duration": 73,
    "start_time": "2022-06-05T20:50:39.173Z"
   },
   {
    "duration": 3,
    "start_time": "2022-06-05T20:50:39.508Z"
   },
   {
    "duration": 5,
    "start_time": "2022-06-05T20:50:40.035Z"
   },
   {
    "duration": 9,
    "start_time": "2022-06-05T20:50:40.189Z"
   },
   {
    "duration": 6,
    "start_time": "2022-06-05T20:50:40.336Z"
   },
   {
    "duration": 5,
    "start_time": "2022-06-05T20:50:40.869Z"
   },
   {
    "duration": 4,
    "start_time": "2022-06-05T20:50:40.968Z"
   },
   {
    "duration": 5,
    "start_time": "2022-06-05T20:50:41.094Z"
   },
   {
    "duration": 7,
    "start_time": "2022-06-05T20:50:41.259Z"
   },
   {
    "duration": 24,
    "start_time": "2022-06-05T20:50:41.715Z"
   },
   {
    "duration": 4,
    "start_time": "2022-06-05T20:50:41.878Z"
   },
   {
    "duration": 3,
    "start_time": "2022-06-05T20:50:42.487Z"
   },
   {
    "duration": 2,
    "start_time": "2022-06-05T20:50:42.519Z"
   },
   {
    "duration": 24,
    "start_time": "2022-06-05T20:50:42.600Z"
   },
   {
    "duration": 6,
    "start_time": "2022-06-05T20:50:42.699Z"
   },
   {
    "duration": 4,
    "start_time": "2022-06-05T20:50:42.737Z"
   },
   {
    "duration": 10,
    "start_time": "2022-06-05T20:50:42.767Z"
   },
   {
    "duration": 7,
    "start_time": "2022-06-05T20:50:42.819Z"
   },
   {
    "duration": 2,
    "start_time": "2022-06-05T20:50:42.906Z"
   },
   {
    "duration": 3,
    "start_time": "2022-06-05T20:50:42.944Z"
   },
   {
    "duration": 11,
    "start_time": "2022-06-05T20:50:43.034Z"
   },
   {
    "duration": 8,
    "start_time": "2022-06-05T20:50:43.105Z"
   },
   {
    "duration": 8,
    "start_time": "2022-06-05T20:50:43.137Z"
   },
   {
    "duration": 7,
    "start_time": "2022-06-05T20:50:43.192Z"
   },
   {
    "duration": 2,
    "start_time": "2022-06-05T20:50:43.245Z"
   },
   {
    "duration": 2,
    "start_time": "2022-06-05T20:50:43.275Z"
   },
   {
    "duration": 20,
    "start_time": "2022-06-05T20:50:43.347Z"
   },
   {
    "duration": 20,
    "start_time": "2022-06-05T20:50:43.434Z"
   },
   {
    "duration": 19,
    "start_time": "2022-06-05T20:50:43.456Z"
   },
   {
    "duration": 4,
    "start_time": "2022-06-05T20:50:43.481Z"
   },
   {
    "duration": 6,
    "start_time": "2022-06-05T20:50:43.672Z"
   },
   {
    "duration": 5,
    "start_time": "2022-06-05T20:50:43.718Z"
   },
   {
    "duration": 3,
    "start_time": "2022-06-05T20:50:43.791Z"
   },
   {
    "duration": 4,
    "start_time": "2022-06-05T20:50:43.821Z"
   },
   {
    "duration": 11,
    "start_time": "2022-06-05T20:50:43.852Z"
   },
   {
    "duration": 7,
    "start_time": "2022-06-05T20:50:43.888Z"
   },
   {
    "duration": 27,
    "start_time": "2022-06-05T20:50:43.978Z"
   },
   {
    "duration": 17,
    "start_time": "2022-06-05T20:50:44.016Z"
   },
   {
    "duration": 19,
    "start_time": "2022-06-05T20:50:44.050Z"
   },
   {
    "duration": 9,
    "start_time": "2022-06-05T20:50:44.921Z"
   },
   {
    "duration": 31,
    "start_time": "2022-06-05T20:50:45.567Z"
   },
   {
    "duration": 24,
    "start_time": "2022-06-05T20:50:45.786Z"
   },
   {
    "duration": 6,
    "start_time": "2022-06-05T20:50:45.978Z"
   },
   {
    "duration": 3,
    "start_time": "2022-06-05T20:50:46.393Z"
   },
   {
    "duration": 5,
    "start_time": "2022-06-05T20:50:47.213Z"
   },
   {
    "duration": 18,
    "start_time": "2022-06-05T20:50:48.144Z"
   },
   {
    "duration": 18,
    "start_time": "2022-06-05T20:50:48.295Z"
   },
   {
    "duration": 3,
    "start_time": "2022-06-05T20:50:48.688Z"
   },
   {
    "duration": 11,
    "start_time": "2022-06-05T20:50:53.125Z"
   },
   {
    "duration": 12,
    "start_time": "2022-06-05T20:50:54.791Z"
   },
   {
    "duration": 6,
    "start_time": "2022-06-05T20:50:55.982Z"
   },
   {
    "duration": 90,
    "start_time": "2022-06-05T20:51:36.361Z"
   },
   {
    "duration": 4,
    "start_time": "2022-06-05T20:51:36.454Z"
   },
   {
    "duration": 11,
    "start_time": "2022-06-05T20:51:36.505Z"
   },
   {
    "duration": 23,
    "start_time": "2022-06-05T20:51:36.572Z"
   },
   {
    "duration": 21,
    "start_time": "2022-06-05T20:51:36.648Z"
   },
   {
    "duration": 22,
    "start_time": "2022-06-05T20:51:36.751Z"
   },
   {
    "duration": 22,
    "start_time": "2022-06-05T20:51:36.817Z"
   },
   {
    "duration": 6,
    "start_time": "2022-06-05T20:51:36.850Z"
   },
   {
    "duration": 7,
    "start_time": "2022-06-05T20:51:36.907Z"
   },
   {
    "duration": 7,
    "start_time": "2022-06-05T20:51:36.955Z"
   },
   {
    "duration": 2,
    "start_time": "2022-06-05T20:51:37.009Z"
   },
   {
    "duration": 6,
    "start_time": "2022-06-05T20:51:37.087Z"
   },
   {
    "duration": 9,
    "start_time": "2022-06-05T20:51:37.114Z"
   },
   {
    "duration": 6,
    "start_time": "2022-06-05T20:51:37.141Z"
   },
   {
    "duration": 6,
    "start_time": "2022-06-05T20:51:37.195Z"
   },
   {
    "duration": 4,
    "start_time": "2022-06-05T20:51:37.268Z"
   },
   {
    "duration": 5,
    "start_time": "2022-06-05T20:51:37.340Z"
   },
   {
    "duration": 6,
    "start_time": "2022-06-05T20:51:37.365Z"
   },
   {
    "duration": 27,
    "start_time": "2022-06-05T20:51:37.484Z"
   },
   {
    "duration": 5,
    "start_time": "2022-06-05T20:51:37.517Z"
   },
   {
    "duration": 2,
    "start_time": "2022-06-05T20:51:37.594Z"
   },
   {
    "duration": 2,
    "start_time": "2022-06-05T20:51:37.642Z"
   },
   {
    "duration": 23,
    "start_time": "2022-06-05T20:51:37.748Z"
   },
   {
    "duration": 5,
    "start_time": "2022-06-05T20:51:37.839Z"
   },
   {
    "duration": 4,
    "start_time": "2022-06-05T20:51:37.852Z"
   },
   {
    "duration": 10,
    "start_time": "2022-06-05T20:51:37.892Z"
   },
   {
    "duration": 7,
    "start_time": "2022-06-05T20:51:37.955Z"
   },
   {
    "duration": 3,
    "start_time": "2022-06-05T20:51:38.014Z"
   },
   {
    "duration": 3,
    "start_time": "2022-06-05T20:51:38.051Z"
   },
   {
    "duration": 7,
    "start_time": "2022-06-05T20:51:38.137Z"
   },
   {
    "duration": 6,
    "start_time": "2022-06-05T20:51:38.185Z"
   },
   {
    "duration": 10,
    "start_time": "2022-06-05T20:51:38.220Z"
   },
   {
    "duration": 10,
    "start_time": "2022-06-05T20:51:38.276Z"
   },
   {
    "duration": 3,
    "start_time": "2022-06-05T20:51:38.390Z"
   },
   {
    "duration": 3,
    "start_time": "2022-06-05T20:51:38.412Z"
   },
   {
    "duration": 24,
    "start_time": "2022-06-05T20:51:38.466Z"
   },
   {
    "duration": 19,
    "start_time": "2022-06-05T20:51:38.517Z"
   },
   {
    "duration": 17,
    "start_time": "2022-06-05T20:51:38.546Z"
   },
   {
    "duration": 4,
    "start_time": "2022-06-05T20:51:38.577Z"
   },
   {
    "duration": 9,
    "start_time": "2022-06-05T20:51:38.739Z"
   },
   {
    "duration": 5,
    "start_time": "2022-06-05T20:51:38.781Z"
   },
   {
    "duration": 3,
    "start_time": "2022-06-05T20:51:38.897Z"
   },
   {
    "duration": 5,
    "start_time": "2022-06-05T20:51:38.949Z"
   },
   {
    "duration": 18,
    "start_time": "2022-06-05T20:51:38.961Z"
   },
   {
    "duration": 7,
    "start_time": "2022-06-05T20:51:38.988Z"
   },
   {
    "duration": 26,
    "start_time": "2022-06-05T20:51:39.095Z"
   },
   {
    "duration": 17,
    "start_time": "2022-06-05T20:51:39.139Z"
   },
   {
    "duration": 18,
    "start_time": "2022-06-05T20:51:39.169Z"
   },
   {
    "duration": 4,
    "start_time": "2022-06-05T20:51:39.287Z"
   },
   {
    "duration": 565,
    "start_time": "2022-06-05T20:51:40.806Z"
   },
   {
    "duration": 0,
    "start_time": "2022-06-05T20:51:41.373Z"
   },
   {
    "duration": 0,
    "start_time": "2022-06-05T20:51:41.373Z"
   },
   {
    "duration": 3,
    "start_time": "2022-06-05T20:51:42.535Z"
   },
   {
    "duration": 4,
    "start_time": "2022-06-05T20:51:43.045Z"
   },
   {
    "duration": 18,
    "start_time": "2022-06-05T20:51:44.455Z"
   },
   {
    "duration": 16,
    "start_time": "2022-06-05T20:51:52.779Z"
   },
   {
    "duration": 3,
    "start_time": "2022-06-05T20:51:56.487Z"
   },
   {
    "duration": 5,
    "start_time": "2022-06-05T20:51:59.049Z"
   },
   {
    "duration": 8,
    "start_time": "2022-06-05T20:52:07.212Z"
   },
   {
    "duration": 7,
    "start_time": "2022-06-05T20:52:11.134Z"
   },
   {
    "duration": 6,
    "start_time": "2022-06-05T20:52:13.942Z"
   },
   {
    "duration": 10,
    "start_time": "2022-06-05T20:54:39.464Z"
   },
   {
    "duration": 10,
    "start_time": "2022-06-05T20:55:09.352Z"
   },
   {
    "duration": 7,
    "start_time": "2022-06-05T20:58:24.549Z"
   },
   {
    "duration": 21,
    "start_time": "2022-06-05T20:59:01.966Z"
   },
   {
    "duration": 97,
    "start_time": "2022-06-05T21:03:26.335Z"
   },
   {
    "duration": 123,
    "start_time": "2022-06-05T21:07:49.069Z"
   },
   {
    "duration": 129,
    "start_time": "2022-06-05T21:24:11.181Z"
   },
   {
    "duration": 5,
    "start_time": "2022-06-05T21:24:28.704Z"
   },
   {
    "duration": 7,
    "start_time": "2022-06-05T21:24:39.047Z"
   },
   {
    "duration": 10,
    "start_time": "2022-06-05T21:24:57.615Z"
   },
   {
    "duration": 1439,
    "start_time": "2022-06-05T21:25:01.412Z"
   },
   {
    "duration": 12,
    "start_time": "2022-06-05T21:25:06.450Z"
   },
   {
    "duration": 122,
    "start_time": "2022-06-05T21:27:58.571Z"
   },
   {
    "duration": 128,
    "start_time": "2022-06-05T21:28:22.379Z"
   },
   {
    "duration": 15,
    "start_time": "2022-06-05T21:28:32.046Z"
   },
   {
    "duration": 12,
    "start_time": "2022-06-05T21:34:18.011Z"
   },
   {
    "duration": 5,
    "start_time": "2022-06-05T21:34:39.802Z"
   },
   {
    "duration": 7,
    "start_time": "2022-06-05T21:35:17.107Z"
   },
   {
    "duration": 4,
    "start_time": "2022-06-05T21:35:20.195Z"
   },
   {
    "duration": 6,
    "start_time": "2022-06-05T21:36:23.167Z"
   },
   {
    "duration": 5,
    "start_time": "2022-06-05T21:36:42.555Z"
   },
   {
    "duration": 5,
    "start_time": "2022-06-05T21:39:38.514Z"
   },
   {
    "duration": 4,
    "start_time": "2022-06-05T21:39:49.492Z"
   },
   {
    "duration": 3,
    "start_time": "2022-06-05T21:42:13.619Z"
   },
   {
    "duration": 5,
    "start_time": "2022-06-05T21:42:46.030Z"
   },
   {
    "duration": 7,
    "start_time": "2022-06-05T21:43:02.400Z"
   },
   {
    "duration": 205,
    "start_time": "2022-06-05T21:47:33.293Z"
   },
   {
    "duration": 3,
    "start_time": "2022-06-05T21:47:35.770Z"
   },
   {
    "duration": 127,
    "start_time": "2022-06-05T21:47:38.285Z"
   },
   {
    "duration": 8,
    "start_time": "2022-06-05T21:47:42.125Z"
   },
   {
    "duration": 11,
    "start_time": "2022-06-05T21:48:02.748Z"
   },
   {
    "duration": 5,
    "start_time": "2022-06-05T21:48:24.652Z"
   },
   {
    "duration": 100,
    "start_time": "2022-06-05T21:50:14.421Z"
   },
   {
    "duration": 8,
    "start_time": "2022-06-05T21:50:33.956Z"
   },
   {
    "duration": 6,
    "start_time": "2022-06-05T21:52:48.901Z"
   },
   {
    "duration": 30,
    "start_time": "2022-06-05T21:53:20.540Z"
   },
   {
    "duration": 25,
    "start_time": "2022-06-05T21:54:33.442Z"
   },
   {
    "duration": 10,
    "start_time": "2022-06-05T21:54:58.275Z"
   },
   {
    "duration": 30,
    "start_time": "2022-06-05T21:55:04.702Z"
   },
   {
    "duration": 23,
    "start_time": "2022-06-05T21:55:19.841Z"
   },
   {
    "duration": 26,
    "start_time": "2022-06-05T21:55:37.514Z"
   },
   {
    "duration": 23,
    "start_time": "2022-06-05T21:55:41.749Z"
   },
   {
    "duration": 10,
    "start_time": "2022-06-05T21:57:46.314Z"
   },
   {
    "duration": 9,
    "start_time": "2022-06-05T21:59:00.860Z"
   },
   {
    "duration": 3,
    "start_time": "2022-06-05T21:59:02.258Z"
   },
   {
    "duration": 3,
    "start_time": "2022-06-05T21:59:09.751Z"
   },
   {
    "duration": 4,
    "start_time": "2022-06-05T21:59:20.670Z"
   },
   {
    "duration": 8,
    "start_time": "2022-06-05T21:59:40.656Z"
   },
   {
    "duration": 3,
    "start_time": "2022-06-05T21:59:48.834Z"
   },
   {
    "duration": 83,
    "start_time": "2022-06-05T22:00:01.892Z"
   },
   {
    "duration": 5,
    "start_time": "2022-06-05T22:00:06.644Z"
   },
   {
    "duration": 8,
    "start_time": "2022-06-05T22:00:11.704Z"
   },
   {
    "duration": 3,
    "start_time": "2022-06-05T22:00:18.614Z"
   },
   {
    "duration": 3,
    "start_time": "2022-06-05T22:04:53.351Z"
   },
   {
    "duration": 4,
    "start_time": "2022-06-05T22:05:01.740Z"
   },
   {
    "duration": 3,
    "start_time": "2022-06-05T22:05:05.342Z"
   },
   {
    "duration": 4,
    "start_time": "2022-06-05T22:05:17.042Z"
   },
   {
    "duration": 8,
    "start_time": "2022-06-05T22:05:27.344Z"
   },
   {
    "duration": 4,
    "start_time": "2022-06-05T22:05:29.945Z"
   },
   {
    "duration": 3,
    "start_time": "2022-06-05T22:05:39.372Z"
   },
   {
    "duration": 308,
    "start_time": "2022-06-05T22:06:02.139Z"
   },
   {
    "duration": 208,
    "start_time": "2022-06-05T22:06:13.922Z"
   },
   {
    "duration": 294,
    "start_time": "2022-06-05T22:06:18.686Z"
   },
   {
    "duration": 27,
    "start_time": "2022-06-05T22:06:41.146Z"
   },
   {
    "duration": 25,
    "start_time": "2022-06-05T22:06:56.542Z"
   },
   {
    "duration": 23,
    "start_time": "2022-06-05T22:07:05.309Z"
   },
   {
    "duration": 16,
    "start_time": "2022-06-05T22:09:08.490Z"
   },
   {
    "duration": 3,
    "start_time": "2022-06-05T22:09:15.436Z"
   },
   {
    "duration": 4,
    "start_time": "2022-06-05T22:09:23.437Z"
   },
   {
    "duration": 27,
    "start_time": "2022-06-05T22:14:07.708Z"
   },
   {
    "duration": 16,
    "start_time": "2022-06-05T22:15:20.388Z"
   },
   {
    "duration": 4,
    "start_time": "2022-06-05T22:15:53.703Z"
   },
   {
    "duration": 3,
    "start_time": "2022-06-05T22:23:27.018Z"
   },
   {
    "duration": 4,
    "start_time": "2022-06-05T22:29:34.305Z"
   },
   {
    "duration": 46,
    "start_time": "2022-06-05T22:29:36.904Z"
   },
   {
    "duration": 8,
    "start_time": "2022-06-05T22:29:41.536Z"
   },
   {
    "duration": 7,
    "start_time": "2022-06-05T22:30:16.418Z"
   },
   {
    "duration": 7,
    "start_time": "2022-06-05T22:30:39.325Z"
   },
   {
    "duration": 7,
    "start_time": "2022-06-05T22:30:46.081Z"
   },
   {
    "duration": 7,
    "start_time": "2022-06-05T22:31:03.001Z"
   },
   {
    "duration": 9,
    "start_time": "2022-06-05T22:31:09.354Z"
   },
   {
    "duration": 8,
    "start_time": "2022-06-05T22:31:21.610Z"
   },
   {
    "duration": 117,
    "start_time": "2022-06-05T22:31:37.881Z"
   },
   {
    "duration": 121,
    "start_time": "2022-06-05T22:31:42.865Z"
   },
   {
    "duration": 419,
    "start_time": "2022-06-05T22:31:50.296Z"
   },
   {
    "duration": 112,
    "start_time": "2022-06-05T22:31:59.066Z"
   },
   {
    "duration": 7,
    "start_time": "2022-06-05T22:32:28.596Z"
   },
   {
    "duration": 6,
    "start_time": "2022-06-05T22:33:47.112Z"
   },
   {
    "duration": 10,
    "start_time": "2022-06-05T22:33:54.682Z"
   },
   {
    "duration": 113,
    "start_time": "2022-06-05T22:33:58.499Z"
   },
   {
    "duration": 75,
    "start_time": "2022-06-05T22:34:15.539Z"
   },
   {
    "duration": 34,
    "start_time": "2022-06-05T22:34:39.046Z"
   },
   {
    "duration": 111,
    "start_time": "2022-06-05T22:34:44.192Z"
   },
   {
    "duration": 114,
    "start_time": "2022-06-05T22:34:53.440Z"
   },
   {
    "duration": 71,
    "start_time": "2022-06-05T22:35:06.620Z"
   },
   {
    "duration": 82,
    "start_time": "2022-06-05T22:35:11.973Z"
   },
   {
    "duration": 71,
    "start_time": "2022-06-05T22:35:20.150Z"
   },
   {
    "duration": 89,
    "start_time": "2022-06-05T22:37:55.539Z"
   },
   {
    "duration": 402,
    "start_time": "2022-06-05T22:38:09.106Z"
   },
   {
    "duration": 127,
    "start_time": "2022-06-05T22:38:49.471Z"
   },
   {
    "duration": 151,
    "start_time": "2022-06-05T22:40:14.110Z"
   },
   {
    "duration": 36,
    "start_time": "2022-06-05T22:40:34.847Z"
   },
   {
    "duration": 13,
    "start_time": "2022-06-05T22:40:38.857Z"
   },
   {
    "duration": 167,
    "start_time": "2022-06-05T22:40:42.048Z"
   },
   {
    "duration": 153,
    "start_time": "2022-06-05T22:40:49.699Z"
   },
   {
    "duration": 138,
    "start_time": "2022-06-05T22:41:04.096Z"
   },
   {
    "duration": 157,
    "start_time": "2022-06-05T22:41:08.368Z"
   },
   {
    "duration": 163,
    "start_time": "2022-06-05T22:41:14.577Z"
   },
   {
    "duration": 13,
    "start_time": "2022-06-05T22:42:23.472Z"
   },
   {
    "duration": 132,
    "start_time": "2022-06-05T22:42:28.468Z"
   },
   {
    "duration": 140,
    "start_time": "2022-06-05T22:42:42.059Z"
   },
   {
    "duration": 36,
    "start_time": "2022-06-05T22:55:53.642Z"
   },
   {
    "duration": 56,
    "start_time": "2022-06-06T01:37:54.387Z"
   },
   {
    "duration": 6,
    "start_time": "2022-06-06T01:38:01.266Z"
   },
   {
    "duration": 613,
    "start_time": "2022-06-06T01:38:07.255Z"
   },
   {
    "duration": 9,
    "start_time": "2022-06-06T01:38:07.871Z"
   },
   {
    "duration": 9,
    "start_time": "2022-06-06T01:38:07.895Z"
   },
   {
    "duration": 22,
    "start_time": "2022-06-06T01:38:09.230Z"
   },
   {
    "duration": 21,
    "start_time": "2022-06-06T01:38:09.254Z"
   },
   {
    "duration": 21,
    "start_time": "2022-06-06T01:38:10.517Z"
   },
   {
    "duration": 18,
    "start_time": "2022-06-06T01:38:11.327Z"
   },
   {
    "duration": 8,
    "start_time": "2022-06-06T01:38:11.866Z"
   },
   {
    "duration": 6,
    "start_time": "2022-06-06T01:38:14.345Z"
   },
   {
    "duration": 7,
    "start_time": "2022-06-06T01:38:15.668Z"
   },
   {
    "duration": 5,
    "start_time": "2022-06-06T01:38:39.172Z"
   },
   {
    "duration": 7,
    "start_time": "2022-06-06T01:39:25.205Z"
   },
   {
    "duration": 8,
    "start_time": "2022-06-06T01:39:39.055Z"
   },
   {
    "duration": 5,
    "start_time": "2022-06-06T01:42:40.526Z"
   },
   {
    "duration": 10,
    "start_time": "2022-06-06T01:42:41.374Z"
   },
   {
    "duration": 5,
    "start_time": "2022-06-06T01:42:41.894Z"
   },
   {
    "duration": 5,
    "start_time": "2022-06-06T01:42:42.779Z"
   },
   {
    "duration": 4,
    "start_time": "2022-06-06T01:42:44.574Z"
   },
   {
    "duration": 3,
    "start_time": "2022-06-06T01:42:45.157Z"
   },
   {
    "duration": 6,
    "start_time": "2022-06-06T01:42:45.417Z"
   },
   {
    "duration": 22,
    "start_time": "2022-06-06T01:42:46.521Z"
   },
   {
    "duration": 4,
    "start_time": "2022-06-06T01:42:48.681Z"
   },
   {
    "duration": 2,
    "start_time": "2022-06-06T01:42:50.077Z"
   },
   {
    "duration": 3,
    "start_time": "2022-06-06T01:42:50.413Z"
   },
   {
    "duration": 22,
    "start_time": "2022-06-06T01:42:51.492Z"
   },
   {
    "duration": 4,
    "start_time": "2022-06-06T01:42:52.725Z"
   },
   {
    "duration": 5,
    "start_time": "2022-06-06T01:42:53.170Z"
   },
   {
    "duration": 9,
    "start_time": "2022-06-06T01:42:53.542Z"
   },
   {
    "duration": 7,
    "start_time": "2022-06-06T01:42:54.392Z"
   },
   {
    "duration": 2,
    "start_time": "2022-06-06T01:42:55.580Z"
   },
   {
    "duration": 3,
    "start_time": "2022-06-06T01:42:55.981Z"
   },
   {
    "duration": 7,
    "start_time": "2022-06-06T01:42:56.761Z"
   },
   {
    "duration": 5,
    "start_time": "2022-06-06T01:42:57.823Z"
   },
   {
    "duration": 5,
    "start_time": "2022-06-06T01:43:43.448Z"
   },
   {
    "duration": 7,
    "start_time": "2022-06-06T01:43:43.949Z"
   },
   {
    "duration": 7,
    "start_time": "2022-06-06T01:43:45.207Z"
   },
   {
    "duration": 2,
    "start_time": "2022-06-06T01:43:47.463Z"
   },
   {
    "duration": 3,
    "start_time": "2022-06-06T01:43:47.839Z"
   },
   {
    "duration": 16,
    "start_time": "2022-06-06T01:43:49.098Z"
   },
   {
    "duration": 18,
    "start_time": "2022-06-06T01:43:50.551Z"
   },
   {
    "duration": 18,
    "start_time": "2022-06-06T01:43:51.202Z"
   },
   {
    "duration": 5,
    "start_time": "2022-06-06T01:43:51.948Z"
   },
   {
    "duration": 6,
    "start_time": "2022-06-06T01:44:02.534Z"
   },
   {
    "duration": 5,
    "start_time": "2022-06-06T01:44:04.013Z"
   },
   {
    "duration": 3,
    "start_time": "2022-06-06T01:44:10.668Z"
   },
   {
    "duration": 4,
    "start_time": "2022-06-06T01:44:11.280Z"
   },
   {
    "duration": 10,
    "start_time": "2022-06-06T01:44:11.898Z"
   },
   {
    "duration": 25,
    "start_time": "2022-06-06T01:44:52.389Z"
   },
   {
    "duration": 19,
    "start_time": "2022-06-06T01:45:38.514Z"
   },
   {
    "duration": 19,
    "start_time": "2022-06-06T01:45:51.414Z"
   },
   {
    "duration": 17,
    "start_time": "2022-06-06T01:46:00.329Z"
   },
   {
    "duration": 4,
    "start_time": "2022-06-06T01:48:00.740Z"
   },
   {
    "duration": 427,
    "start_time": "2022-06-06T01:48:03.393Z"
   },
   {
    "duration": 350,
    "start_time": "2022-06-06T02:08:52.088Z"
   },
   {
    "duration": 320,
    "start_time": "2022-06-06T02:09:02.177Z"
   },
   {
    "duration": 14,
    "start_time": "2022-06-06T02:10:59.986Z"
   },
   {
    "duration": 18,
    "start_time": "2022-06-06T02:11:09.205Z"
   },
   {
    "duration": 17,
    "start_time": "2022-06-06T02:11:09.811Z"
   },
   {
    "duration": 3,
    "start_time": "2022-06-06T02:11:11.571Z"
   },
   {
    "duration": 6,
    "start_time": "2022-06-06T02:11:12.906Z"
   },
   {
    "duration": 12,
    "start_time": "2022-06-06T02:11:14.542Z"
   },
   {
    "duration": 12,
    "start_time": "2022-06-06T02:11:26.455Z"
   },
   {
    "duration": 12,
    "start_time": "2022-06-06T02:11:55.297Z"
   },
   {
    "duration": 8,
    "start_time": "2022-06-06T02:12:18.480Z"
   },
   {
    "duration": 10,
    "start_time": "2022-06-06T02:12:56.062Z"
   },
   {
    "duration": 8,
    "start_time": "2022-06-06T02:13:07.101Z"
   },
   {
    "duration": 8,
    "start_time": "2022-06-06T02:13:23.598Z"
   },
   {
    "duration": 3,
    "start_time": "2022-06-06T02:13:26.179Z"
   },
   {
    "duration": 4,
    "start_time": "2022-06-06T02:15:38.415Z"
   },
   {
    "duration": 45,
    "start_time": "2022-06-06T02:15:50.550Z"
   },
   {
    "duration": 3,
    "start_time": "2022-06-06T02:15:59.248Z"
   },
   {
    "duration": 4,
    "start_time": "2022-06-06T02:16:21.737Z"
   },
   {
    "duration": 17,
    "start_time": "2022-06-06T02:21:04.121Z"
   },
   {
    "duration": 4,
    "start_time": "2022-06-06T02:21:04.619Z"
   },
   {
    "duration": 14,
    "start_time": "2022-06-06T02:24:20.280Z"
   },
   {
    "duration": 4,
    "start_time": "2022-06-06T02:24:23.153Z"
   },
   {
    "duration": 10,
    "start_time": "2022-06-06T02:24:54.007Z"
   },
   {
    "duration": 9,
    "start_time": "2022-06-06T02:25:43.796Z"
   },
   {
    "duration": 4,
    "start_time": "2022-06-06T02:25:55.366Z"
   },
   {
    "duration": 4,
    "start_time": "2022-06-06T02:26:05.677Z"
   },
   {
    "duration": 8,
    "start_time": "2022-06-06T02:26:56.619Z"
   },
   {
    "duration": 10,
    "start_time": "2022-06-06T02:26:59.637Z"
   },
   {
    "duration": 4,
    "start_time": "2022-06-06T02:27:00.904Z"
   },
   {
    "duration": 8,
    "start_time": "2022-06-06T02:27:56.515Z"
   },
   {
    "duration": 4,
    "start_time": "2022-06-06T02:27:57.980Z"
   },
   {
    "duration": 8,
    "start_time": "2022-06-06T02:28:08.111Z"
   },
   {
    "duration": 5,
    "start_time": "2022-06-06T02:28:08.855Z"
   },
   {
    "duration": 6,
    "start_time": "2022-06-06T02:29:06.026Z"
   },
   {
    "duration": 14,
    "start_time": "2022-06-06T02:29:21.366Z"
   },
   {
    "duration": 8,
    "start_time": "2022-06-06T02:29:48.137Z"
   },
   {
    "duration": 10,
    "start_time": "2022-06-06T02:30:01.270Z"
   },
   {
    "duration": 4,
    "start_time": "2022-06-06T02:30:02.339Z"
   },
   {
    "duration": 8,
    "start_time": "2022-06-06T03:26:30.167Z"
   },
   {
    "duration": 8,
    "start_time": "2022-06-06T03:50:57.608Z"
   },
   {
    "duration": 20,
    "start_time": "2022-06-06T03:51:02.490Z"
   },
   {
    "duration": 93,
    "start_time": "2022-06-06T03:51:16.451Z"
   },
   {
    "duration": 105,
    "start_time": "2022-06-06T03:51:35.631Z"
   },
   {
    "duration": 83,
    "start_time": "2022-06-06T03:51:40.053Z"
   },
   {
    "duration": 7,
    "start_time": "2022-06-06T03:51:45.265Z"
   },
   {
    "duration": 8,
    "start_time": "2022-06-06T03:51:51.422Z"
   },
   {
    "duration": 101,
    "start_time": "2022-06-06T03:52:00.821Z"
   },
   {
    "duration": 8,
    "start_time": "2022-06-06T03:52:07.151Z"
   },
   {
    "duration": 9,
    "start_time": "2022-06-06T03:52:13.952Z"
   },
   {
    "duration": 212,
    "start_time": "2022-06-06T03:53:28.865Z"
   },
   {
    "duration": 172,
    "start_time": "2022-06-06T03:53:48.374Z"
   },
   {
    "duration": 8,
    "start_time": "2022-06-06T03:54:45.332Z"
   },
   {
    "duration": 4,
    "start_time": "2022-06-06T03:54:51.633Z"
   },
   {
    "duration": 31,
    "start_time": "2022-06-06T03:54:55.002Z"
   },
   {
    "duration": 42,
    "start_time": "2022-06-06T03:58:47.678Z"
   },
   {
    "duration": 41,
    "start_time": "2022-06-06T03:59:21.662Z"
   },
   {
    "duration": 76,
    "start_time": "2022-06-06T04:00:26.106Z"
   },
   {
    "duration": 894,
    "start_time": "2022-06-06T06:15:03.824Z"
   },
   {
    "duration": 9,
    "start_time": "2022-06-06T06:15:05.382Z"
   },
   {
    "duration": 10,
    "start_time": "2022-06-06T06:15:05.589Z"
   },
   {
    "duration": 22,
    "start_time": "2022-06-06T06:15:47.757Z"
   },
   {
    "duration": 22,
    "start_time": "2022-06-06T06:15:48.679Z"
   },
   {
    "duration": 22,
    "start_time": "2022-06-06T06:15:52.553Z"
   },
   {
    "duration": 28,
    "start_time": "2022-06-06T06:17:12.069Z"
   },
   {
    "duration": 10,
    "start_time": "2022-06-06T06:17:15.419Z"
   },
   {
    "duration": 10,
    "start_time": "2022-06-06T06:17:16.113Z"
   },
   {
    "duration": 8,
    "start_time": "2022-06-06T06:17:20.378Z"
   },
   {
    "duration": 6,
    "start_time": "2022-06-06T06:17:20.598Z"
   },
   {
    "duration": 9,
    "start_time": "2022-06-06T06:17:21.289Z"
   },
   {
    "duration": 9,
    "start_time": "2022-06-06T06:18:13.834Z"
   },
   {
    "duration": 3,
    "start_time": "2022-06-06T06:18:15.409Z"
   },
   {
    "duration": 5,
    "start_time": "2022-06-06T06:19:31.937Z"
   },
   {
    "duration": 10,
    "start_time": "2022-06-06T06:19:34.075Z"
   },
   {
    "duration": 5,
    "start_time": "2022-06-06T06:24:30.546Z"
   },
   {
    "duration": 7,
    "start_time": "2022-06-06T06:24:32.429Z"
   },
   {
    "duration": 4,
    "start_time": "2022-06-06T06:24:38.872Z"
   },
   {
    "duration": 5,
    "start_time": "2022-06-06T06:24:41.239Z"
   },
   {
    "duration": 6,
    "start_time": "2022-06-06T06:26:22.663Z"
   },
   {
    "duration": 21,
    "start_time": "2022-06-06T06:26:25.017Z"
   },
   {
    "duration": 4,
    "start_time": "2022-06-06T06:26:29.571Z"
   },
   {
    "duration": 3,
    "start_time": "2022-06-06T06:26:30.428Z"
   },
   {
    "duration": 3,
    "start_time": "2022-06-06T06:26:30.660Z"
   },
   {
    "duration": 30,
    "start_time": "2022-06-06T06:26:31.429Z"
   },
   {
    "duration": 5,
    "start_time": "2022-06-06T06:26:35.058Z"
   },
   {
    "duration": 5,
    "start_time": "2022-06-06T06:26:36.365Z"
   },
   {
    "duration": 9,
    "start_time": "2022-06-06T06:26:36.783Z"
   },
   {
    "duration": 6,
    "start_time": "2022-06-06T06:26:37.684Z"
   },
   {
    "duration": 2,
    "start_time": "2022-06-06T06:26:40.753Z"
   },
   {
    "duration": 3,
    "start_time": "2022-06-06T06:26:40.949Z"
   },
   {
    "duration": 8,
    "start_time": "2022-06-06T06:26:41.406Z"
   },
   {
    "duration": 5,
    "start_time": "2022-06-06T06:26:43.345Z"
   },
   {
    "duration": 5,
    "start_time": "2022-06-06T06:26:45.148Z"
   },
   {
    "duration": 8,
    "start_time": "2022-06-06T06:26:45.281Z"
   },
   {
    "duration": 7,
    "start_time": "2022-06-06T06:27:34.749Z"
   },
   {
    "duration": 3,
    "start_time": "2022-06-06T06:27:35.934Z"
   },
   {
    "duration": 2,
    "start_time": "2022-06-06T06:27:36.153Z"
   },
   {
    "duration": 15,
    "start_time": "2022-06-06T06:27:36.570Z"
   },
   {
    "duration": 17,
    "start_time": "2022-06-06T06:29:07.640Z"
   },
   {
    "duration": 18,
    "start_time": "2022-06-06T06:29:18.106Z"
   },
   {
    "duration": 4,
    "start_time": "2022-06-06T06:29:18.371Z"
   },
   {
    "duration": 6,
    "start_time": "2022-06-06T06:29:21.764Z"
   },
   {
    "duration": 6,
    "start_time": "2022-06-06T06:29:23.617Z"
   },
   {
    "duration": 5,
    "start_time": "2022-06-06T06:29:35.188Z"
   },
   {
    "duration": 4,
    "start_time": "2022-06-06T06:29:35.549Z"
   },
   {
    "duration": 15,
    "start_time": "2022-06-06T06:29:35.863Z"
   },
   {
    "duration": 9,
    "start_time": "2022-06-06T06:29:36.221Z"
   },
   {
    "duration": 24,
    "start_time": "2022-06-06T06:29:37.987Z"
   },
   {
    "duration": 18,
    "start_time": "2022-06-06T06:29:38.402Z"
   },
   {
    "duration": 32,
    "start_time": "2022-06-06T06:29:42.318Z"
   },
   {
    "duration": 4,
    "start_time": "2022-06-06T06:35:08.345Z"
   },
   {
    "duration": 498,
    "start_time": "2022-06-06T06:35:09.340Z"
   },
   {
    "duration": 28,
    "start_time": "2022-06-06T06:39:15.029Z"
   },
   {
    "duration": 568,
    "start_time": "2022-06-15T03:00:16.184Z"
   },
   {
    "duration": 7,
    "start_time": "2022-06-15T03:00:17.451Z"
   },
   {
    "duration": 13,
    "start_time": "2022-06-15T03:00:18.041Z"
   },
   {
    "duration": 19,
    "start_time": "2022-06-15T03:00:20.860Z"
   },
   {
    "duration": 19,
    "start_time": "2022-06-15T03:00:22.225Z"
   },
   {
    "duration": 19,
    "start_time": "2022-06-15T03:00:23.480Z"
   },
   {
    "duration": 3,
    "start_time": "2022-06-15T03:00:52.951Z"
   },
   {
    "duration": 12,
    "start_time": "2022-06-15T03:00:53.629Z"
   },
   {
    "duration": 18,
    "start_time": "2022-06-15T03:00:55.444Z"
   },
   {
    "duration": 19,
    "start_time": "2022-06-15T03:00:56.404Z"
   },
   {
    "duration": 19,
    "start_time": "2022-06-15T03:00:58.464Z"
   },
   {
    "duration": 22,
    "start_time": "2022-06-15T03:03:11.428Z"
   },
   {
    "duration": 7,
    "start_time": "2022-06-15T03:03:12.791Z"
   },
   {
    "duration": 7,
    "start_time": "2022-06-15T03:03:15.195Z"
   },
   {
    "duration": 7,
    "start_time": "2022-06-15T03:03:16.676Z"
   },
   {
    "duration": 5,
    "start_time": "2022-06-15T03:03:17.218Z"
   },
   {
    "duration": 7,
    "start_time": "2022-06-15T03:03:17.893Z"
   },
   {
    "duration": 6,
    "start_time": "2022-06-15T03:03:18.697Z"
   },
   {
    "duration": 2,
    "start_time": "2022-06-15T03:03:19.828Z"
   },
   {
    "duration": 5,
    "start_time": "2022-06-15T03:03:26.852Z"
   },
   {
    "duration": 10,
    "start_time": "2022-06-15T03:03:27.710Z"
   },
   {
    "duration": 5,
    "start_time": "2022-06-15T03:03:28.715Z"
   },
   {
    "duration": 6,
    "start_time": "2022-06-15T03:03:29.476Z"
   },
   {
    "duration": 3,
    "start_time": "2022-06-15T03:03:30.210Z"
   },
   {
    "duration": 8,
    "start_time": "2022-06-15T03:10:16.433Z"
   },
   {
    "duration": 8,
    "start_time": "2022-06-15T03:10:25.429Z"
   },
   {
    "duration": 9,
    "start_time": "2022-06-15T03:10:29.131Z"
   },
   {
    "duration": 5,
    "start_time": "2022-06-15T03:10:29.810Z"
   },
   {
    "duration": 5,
    "start_time": "2022-06-15T03:10:30.455Z"
   },
   {
    "duration": 8,
    "start_time": "2022-06-15T03:10:33.099Z"
   },
   {
    "duration": 10,
    "start_time": "2022-06-15T03:10:55.353Z"
   },
   {
    "duration": 4,
    "start_time": "2022-06-15T03:10:56.042Z"
   },
   {
    "duration": 4,
    "start_time": "2022-06-15T03:10:57.505Z"
   },
   {
    "duration": 7,
    "start_time": "2022-06-15T03:11:20.141Z"
   },
   {
    "duration": 9,
    "start_time": "2022-06-15T03:14:24.312Z"
   },
   {
    "duration": 6,
    "start_time": "2022-06-15T03:14:31.172Z"
   },
   {
    "duration": 70,
    "start_time": "2022-06-15T03:14:39.346Z"
   },
   {
    "duration": 3,
    "start_time": "2022-06-15T03:14:39.852Z"
   },
   {
    "duration": 11,
    "start_time": "2022-06-15T03:14:40.052Z"
   },
   {
    "duration": 18,
    "start_time": "2022-06-15T03:14:40.749Z"
   },
   {
    "duration": 17,
    "start_time": "2022-06-15T03:14:41.046Z"
   },
   {
    "duration": 19,
    "start_time": "2022-06-15T03:14:41.634Z"
   },
   {
    "duration": 19,
    "start_time": "2022-06-15T03:14:43.279Z"
   },
   {
    "duration": 9,
    "start_time": "2022-06-15T03:14:43.877Z"
   },
   {
    "duration": 6,
    "start_time": "2022-06-15T03:14:44.790Z"
   },
   {
    "duration": 7,
    "start_time": "2022-06-15T03:14:45.789Z"
   },
   {
    "duration": 5,
    "start_time": "2022-06-15T03:14:47.119Z"
   },
   {
    "duration": 8,
    "start_time": "2022-06-15T03:14:47.712Z"
   },
   {
    "duration": 6,
    "start_time": "2022-06-15T03:14:50.868Z"
   },
   {
    "duration": 2,
    "start_time": "2022-06-15T03:14:52.195Z"
   },
   {
    "duration": 4,
    "start_time": "2022-06-15T03:15:00.220Z"
   },
   {
    "duration": 9,
    "start_time": "2022-06-15T03:15:00.942Z"
   },
   {
    "duration": 6,
    "start_time": "2022-06-15T03:15:01.937Z"
   },
   {
    "duration": 6,
    "start_time": "2022-06-15T03:15:02.741Z"
   },
   {
    "duration": 8,
    "start_time": "2022-06-15T03:15:03.763Z"
   },
   {
    "duration": 5,
    "start_time": "2022-06-15T03:15:38.400Z"
   },
   {
    "duration": 4,
    "start_time": "2022-06-15T03:15:40.193Z"
   },
   {
    "duration": 4,
    "start_time": "2022-06-15T03:15:43.150Z"
   },
   {
    "duration": 22,
    "start_time": "2022-06-15T03:15:45.862Z"
   },
   {
    "duration": 4,
    "start_time": "2022-06-15T03:15:46.738Z"
   },
   {
    "duration": 2,
    "start_time": "2022-06-15T03:15:48.125Z"
   },
   {
    "duration": 2,
    "start_time": "2022-06-15T03:15:48.612Z"
   },
   {
    "duration": 23,
    "start_time": "2022-06-15T03:15:50.207Z"
   },
   {
    "duration": 4,
    "start_time": "2022-06-15T03:16:15.531Z"
   },
   {
    "duration": 4,
    "start_time": "2022-06-15T03:16:16.083Z"
   },
   {
    "duration": 8,
    "start_time": "2022-06-15T03:16:16.892Z"
   },
   {
    "duration": 7,
    "start_time": "2022-06-15T03:16:17.667Z"
   },
   {
    "duration": 2,
    "start_time": "2022-06-15T03:16:18.515Z"
   },
   {
    "duration": 2,
    "start_time": "2022-06-15T03:16:19.028Z"
   },
   {
    "duration": 5,
    "start_time": "2022-06-15T03:16:19.759Z"
   },
   {
    "duration": 5,
    "start_time": "2022-06-15T03:16:20.510Z"
   },
   {
    "duration": 6,
    "start_time": "2022-06-15T03:16:20.939Z"
   },
   {
    "duration": 22,
    "start_time": "2022-06-15T03:17:06.716Z"
   },
   {
    "duration": 5,
    "start_time": "2022-06-15T03:17:08.496Z"
   },
   {
    "duration": 22,
    "start_time": "2022-06-15T03:17:15.070Z"
   },
   {
    "duration": 6,
    "start_time": "2022-06-15T03:17:15.794Z"
   },
   {
    "duration": 16,
    "start_time": "2022-06-15T03:18:13.106Z"
   },
   {
    "duration": 6,
    "start_time": "2022-06-15T03:18:14.685Z"
   },
   {
    "duration": 15,
    "start_time": "2022-06-15T03:18:26.588Z"
   },
   {
    "duration": 6,
    "start_time": "2022-06-15T03:18:27.250Z"
   },
   {
    "duration": 6,
    "start_time": "2022-06-15T03:18:30.662Z"
   },
   {
    "duration": 5,
    "start_time": "2022-06-15T03:18:48.941Z"
   },
   {
    "duration": 5,
    "start_time": "2022-06-15T03:18:49.462Z"
   },
   {
    "duration": 9,
    "start_time": "2022-06-15T03:19:11.632Z"
   },
   {
    "duration": 5,
    "start_time": "2022-06-15T03:19:12.495Z"
   },
   {
    "duration": 13,
    "start_time": "2022-06-15T03:19:20.122Z"
   },
   {
    "duration": 7,
    "start_time": "2022-06-15T03:19:20.728Z"
   },
   {
    "duration": 9,
    "start_time": "2022-06-15T03:19:31.386Z"
   },
   {
    "duration": 5,
    "start_time": "2022-06-15T03:19:32.255Z"
   },
   {
    "duration": 71,
    "start_time": "2022-06-15T03:19:45.659Z"
   },
   {
    "duration": 3,
    "start_time": "2022-06-15T03:19:46.088Z"
   },
   {
    "duration": 12,
    "start_time": "2022-06-15T03:19:46.323Z"
   },
   {
    "duration": 19,
    "start_time": "2022-06-15T03:19:47.018Z"
   },
   {
    "duration": 19,
    "start_time": "2022-06-15T03:19:47.292Z"
   },
   {
    "duration": 18,
    "start_time": "2022-06-15T03:19:47.928Z"
   },
   {
    "duration": 17,
    "start_time": "2022-06-15T03:19:48.685Z"
   },
   {
    "duration": 6,
    "start_time": "2022-06-15T03:19:49.232Z"
   },
   {
    "duration": 6,
    "start_time": "2022-06-15T03:19:49.546Z"
   },
   {
    "duration": 7,
    "start_time": "2022-06-15T03:19:49.852Z"
   },
   {
    "duration": 5,
    "start_time": "2022-06-15T03:19:50.026Z"
   },
   {
    "duration": 7,
    "start_time": "2022-06-15T03:19:50.249Z"
   },
   {
    "duration": 6,
    "start_time": "2022-06-15T03:19:50.427Z"
   },
   {
    "duration": 2,
    "start_time": "2022-06-15T03:19:50.765Z"
   },
   {
    "duration": 5,
    "start_time": "2022-06-15T03:19:51.162Z"
   },
   {
    "duration": 9,
    "start_time": "2022-06-15T03:19:51.349Z"
   },
   {
    "duration": 5,
    "start_time": "2022-06-15T03:19:51.594Z"
   },
   {
    "duration": 5,
    "start_time": "2022-06-15T03:19:51.819Z"
   },
   {
    "duration": 7,
    "start_time": "2022-06-15T03:19:52.150Z"
   },
   {
    "duration": 3,
    "start_time": "2022-06-15T03:19:52.315Z"
   },
   {
    "duration": 4,
    "start_time": "2022-06-15T03:19:52.690Z"
   },
   {
    "duration": 5,
    "start_time": "2022-06-15T03:19:53.276Z"
   },
   {
    "duration": 19,
    "start_time": "2022-06-15T03:19:53.863Z"
   },
   {
    "duration": 4,
    "start_time": "2022-06-15T03:19:54.407Z"
   },
   {
    "duration": 2,
    "start_time": "2022-06-15T03:19:54.748Z"
   },
   {
    "duration": 2,
    "start_time": "2022-06-15T03:19:54.894Z"
   },
   {
    "duration": 18,
    "start_time": "2022-06-15T03:19:55.437Z"
   },
   {
    "duration": 6,
    "start_time": "2022-06-15T03:19:56.097Z"
   },
   {
    "duration": 3,
    "start_time": "2022-06-15T03:19:56.277Z"
   },
   {
    "duration": 8,
    "start_time": "2022-06-15T03:19:56.477Z"
   },
   {
    "duration": 6,
    "start_time": "2022-06-15T03:19:56.938Z"
   },
   {
    "duration": 2,
    "start_time": "2022-06-15T03:19:57.284Z"
   },
   {
    "duration": 1,
    "start_time": "2022-06-15T03:19:57.468Z"
   },
   {
    "duration": 7,
    "start_time": "2022-06-15T03:19:58.060Z"
   },
   {
    "duration": 5,
    "start_time": "2022-06-15T03:19:59.169Z"
   },
   {
    "duration": 7,
    "start_time": "2022-06-15T03:19:59.821Z"
   },
   {
    "duration": 16,
    "start_time": "2022-06-15T03:20:21.811Z"
   },
   {
    "duration": 7,
    "start_time": "2022-06-15T03:20:22.566Z"
   },
   {
    "duration": 83,
    "start_time": "2022-06-15T03:20:28.715Z"
   },
   {
    "duration": 3,
    "start_time": "2022-06-15T03:20:29.159Z"
   },
   {
    "duration": 11,
    "start_time": "2022-06-15T03:20:29.341Z"
   },
   {
    "duration": 19,
    "start_time": "2022-06-15T03:20:30.070Z"
   },
   {
    "duration": 18,
    "start_time": "2022-06-15T03:20:30.324Z"
   },
   {
    "duration": 20,
    "start_time": "2022-06-15T03:20:30.885Z"
   },
   {
    "duration": 19,
    "start_time": "2022-06-15T03:20:31.605Z"
   },
   {
    "duration": 7,
    "start_time": "2022-06-15T03:20:33.268Z"
   },
   {
    "duration": 6,
    "start_time": "2022-06-15T03:20:33.665Z"
   },
   {
    "duration": 6,
    "start_time": "2022-06-15T03:20:34.057Z"
   },
   {
    "duration": 5,
    "start_time": "2022-06-15T03:20:34.265Z"
   },
   {
    "duration": 7,
    "start_time": "2022-06-15T03:20:34.470Z"
   },
   {
    "duration": 6,
    "start_time": "2022-06-15T03:20:34.664Z"
   },
   {
    "duration": 2,
    "start_time": "2022-06-15T03:20:34.972Z"
   },
   {
    "duration": 4,
    "start_time": "2022-06-15T03:20:35.722Z"
   },
   {
    "duration": 8,
    "start_time": "2022-06-15T03:20:35.910Z"
   },
   {
    "duration": 5,
    "start_time": "2022-06-15T03:20:36.282Z"
   },
   {
    "duration": 6,
    "start_time": "2022-06-15T03:20:36.695Z"
   },
   {
    "duration": 8,
    "start_time": "2022-06-15T03:20:37.089Z"
   },
   {
    "duration": 4,
    "start_time": "2022-06-15T03:20:37.283Z"
   },
   {
    "duration": 4,
    "start_time": "2022-06-15T03:20:37.672Z"
   },
   {
    "duration": 5,
    "start_time": "2022-06-15T03:20:38.489Z"
   },
   {
    "duration": 20,
    "start_time": "2022-06-15T03:20:41.599Z"
   },
   {
    "duration": 3,
    "start_time": "2022-06-15T03:20:42.126Z"
   },
   {
    "duration": 2,
    "start_time": "2022-06-15T03:20:43.122Z"
   },
   {
    "duration": 3,
    "start_time": "2022-06-15T03:20:43.374Z"
   },
   {
    "duration": 20,
    "start_time": "2022-06-15T03:20:44.143Z"
   },
   {
    "duration": 5,
    "start_time": "2022-06-15T03:20:44.859Z"
   },
   {
    "duration": 5,
    "start_time": "2022-06-15T03:20:45.101Z"
   },
   {
    "duration": 9,
    "start_time": "2022-06-15T03:20:45.277Z"
   },
   {
    "duration": 6,
    "start_time": "2022-06-15T03:20:45.893Z"
   },
   {
    "duration": 1,
    "start_time": "2022-06-15T03:20:46.241Z"
   },
   {
    "duration": 2,
    "start_time": "2022-06-15T03:20:46.470Z"
   },
   {
    "duration": 5,
    "start_time": "2022-06-15T03:20:46.959Z"
   },
   {
    "duration": 21,
    "start_time": "2022-06-15T03:20:48.339Z"
   },
   {
    "duration": 7,
    "start_time": "2022-06-15T03:20:49.135Z"
   },
   {
    "duration": 16,
    "start_time": "2022-06-15T03:20:58.435Z"
   },
   {
    "duration": 6,
    "start_time": "2022-06-15T03:21:00.404Z"
   },
   {
    "duration": 63,
    "start_time": "2022-06-15T03:21:05.693Z"
   },
   {
    "duration": 4,
    "start_time": "2022-06-15T03:21:06.278Z"
   },
   {
    "duration": 12,
    "start_time": "2022-06-15T03:21:06.710Z"
   },
   {
    "duration": 18,
    "start_time": "2022-06-15T03:21:07.401Z"
   },
   {
    "duration": 17,
    "start_time": "2022-06-15T03:21:07.807Z"
   },
   {
    "duration": 18,
    "start_time": "2022-06-15T03:21:08.392Z"
   },
   {
    "duration": 19,
    "start_time": "2022-06-15T03:21:09.192Z"
   },
   {
    "duration": 6,
    "start_time": "2022-06-15T03:21:09.610Z"
   },
   {
    "duration": 6,
    "start_time": "2022-06-15T03:21:09.981Z"
   },
   {
    "duration": 8,
    "start_time": "2022-06-15T03:21:10.284Z"
   },
   {
    "duration": 5,
    "start_time": "2022-06-15T03:21:10.538Z"
   },
   {
    "duration": 7,
    "start_time": "2022-06-15T03:21:10.706Z"
   },
   {
    "duration": 6,
    "start_time": "2022-06-15T03:21:10.914Z"
   },
   {
    "duration": 3,
    "start_time": "2022-06-15T03:21:11.297Z"
   },
   {
    "duration": 4,
    "start_time": "2022-06-15T03:21:12.259Z"
   },
   {
    "duration": 7,
    "start_time": "2022-06-15T03:21:12.501Z"
   },
   {
    "duration": 5,
    "start_time": "2022-06-15T03:21:12.924Z"
   },
   {
    "duration": 5,
    "start_time": "2022-06-15T03:21:13.372Z"
   },
   {
    "duration": 8,
    "start_time": "2022-06-15T03:21:13.785Z"
   },
   {
    "duration": 4,
    "start_time": "2022-06-15T03:21:14.037Z"
   },
   {
    "duration": 3,
    "start_time": "2022-06-15T03:21:14.437Z"
   },
   {
    "duration": 4,
    "start_time": "2022-06-15T03:21:15.184Z"
   },
   {
    "duration": 19,
    "start_time": "2022-06-15T03:21:15.446Z"
   },
   {
    "duration": 3,
    "start_time": "2022-06-15T03:21:15.798Z"
   },
   {
    "duration": 2,
    "start_time": "2022-06-15T03:21:17.250Z"
   },
   {
    "duration": 2,
    "start_time": "2022-06-15T03:21:17.446Z"
   },
   {
    "duration": 22,
    "start_time": "2022-06-15T03:21:18.140Z"
   },
   {
    "duration": 5,
    "start_time": "2022-06-15T03:21:18.844Z"
   },
   {
    "duration": 4,
    "start_time": "2022-06-15T03:21:19.008Z"
   },
   {
    "duration": 9,
    "start_time": "2022-06-15T03:21:19.200Z"
   },
   {
    "duration": 5,
    "start_time": "2022-06-15T03:21:19.800Z"
   },
   {
    "duration": 2,
    "start_time": "2022-06-15T03:21:20.226Z"
   },
   {
    "duration": 2,
    "start_time": "2022-06-15T03:21:20.406Z"
   },
   {
    "duration": 5,
    "start_time": "2022-06-15T03:21:20.627Z"
   },
   {
    "duration": 20,
    "start_time": "2022-06-15T03:21:20.833Z"
   },
   {
    "duration": 7,
    "start_time": "2022-06-15T03:21:21.016Z"
   },
   {
    "duration": 6,
    "start_time": "2022-06-15T03:21:21.402Z"
   },
   {
    "duration": 2,
    "start_time": "2022-06-15T03:21:21.630Z"
   },
   {
    "duration": 2,
    "start_time": "2022-06-15T03:21:21.816Z"
   },
   {
    "duration": 16,
    "start_time": "2022-06-15T03:21:22.025Z"
   },
   {
    "duration": 18,
    "start_time": "2022-06-15T03:21:22.297Z"
   },
   {
    "duration": 16,
    "start_time": "2022-06-15T03:21:22.478Z"
   },
   {
    "duration": 4,
    "start_time": "2022-06-15T03:21:22.657Z"
   },
   {
    "duration": 5,
    "start_time": "2022-06-15T03:21:23.098Z"
   },
   {
    "duration": 4,
    "start_time": "2022-06-15T03:21:23.316Z"
   },
   {
    "duration": 3,
    "start_time": "2022-06-15T03:21:23.674Z"
   },
   {
    "duration": 4,
    "start_time": "2022-06-15T03:21:23.818Z"
   },
   {
    "duration": 8,
    "start_time": "2022-06-15T03:21:23.979Z"
   },
   {
    "duration": 7,
    "start_time": "2022-06-15T03:21:24.167Z"
   },
   {
    "duration": 22,
    "start_time": "2022-06-15T03:21:24.465Z"
   },
   {
    "duration": 17,
    "start_time": "2022-06-15T03:21:24.662Z"
   },
   {
    "duration": 17,
    "start_time": "2022-06-15T03:21:24.888Z"
   },
   {
    "duration": 16,
    "start_time": "2022-06-15T03:22:09.815Z"
   },
   {
    "duration": 8,
    "start_time": "2022-06-15T03:22:16.178Z"
   },
   {
    "duration": 5,
    "start_time": "2022-06-15T03:22:16.701Z"
   },
   {
    "duration": 5,
    "start_time": "2022-06-15T03:22:20.223Z"
   },
   {
    "duration": 8,
    "start_time": "2022-06-15T03:22:20.574Z"
   },
   {
    "duration": 5,
    "start_time": "2022-06-15T03:22:20.969Z"
   },
   {
    "duration": 7,
    "start_time": "2022-06-15T03:22:21.377Z"
   },
   {
    "duration": 6,
    "start_time": "2022-06-15T03:22:22.006Z"
   },
   {
    "duration": 5,
    "start_time": "2022-06-15T03:22:22.237Z"
   },
   {
    "duration": 4,
    "start_time": "2022-06-15T03:22:22.925Z"
   },
   {
    "duration": 5,
    "start_time": "2022-06-15T03:22:24.291Z"
   },
   {
    "duration": 18,
    "start_time": "2022-06-15T03:22:26.198Z"
   },
   {
    "duration": 3,
    "start_time": "2022-06-15T03:22:26.717Z"
   },
   {
    "duration": 2,
    "start_time": "2022-06-15T03:22:28.071Z"
   },
   {
    "duration": 2,
    "start_time": "2022-06-15T03:22:28.420Z"
   },
   {
    "duration": 8,
    "start_time": "2022-06-15T03:22:29.475Z"
   },
   {
    "duration": 5,
    "start_time": "2022-06-15T03:22:31.626Z"
   },
   {
    "duration": 4,
    "start_time": "2022-06-15T03:22:32.231Z"
   },
   {
    "duration": 8,
    "start_time": "2022-06-15T03:22:32.643Z"
   },
   {
    "duration": 7,
    "start_time": "2022-06-15T03:22:33.370Z"
   },
   {
    "duration": 3,
    "start_time": "2022-06-15T03:22:34.490Z"
   },
   {
    "duration": 2,
    "start_time": "2022-06-15T03:22:34.855Z"
   },
   {
    "duration": 5,
    "start_time": "2022-06-15T03:22:35.633Z"
   },
   {
    "duration": 63,
    "start_time": "2022-06-15T03:22:42.717Z"
   },
   {
    "duration": 3,
    "start_time": "2022-06-15T03:22:43.381Z"
   },
   {
    "duration": 11,
    "start_time": "2022-06-15T03:22:43.570Z"
   },
   {
    "duration": 18,
    "start_time": "2022-06-15T03:22:44.225Z"
   },
   {
    "duration": 20,
    "start_time": "2022-06-15T03:22:44.444Z"
   },
   {
    "duration": 17,
    "start_time": "2022-06-15T03:22:44.984Z"
   },
   {
    "duration": 17,
    "start_time": "2022-06-15T03:22:45.640Z"
   },
   {
    "duration": 6,
    "start_time": "2022-06-15T03:22:45.973Z"
   },
   {
    "duration": 6,
    "start_time": "2022-06-15T03:22:46.400Z"
   },
   {
    "duration": 7,
    "start_time": "2022-06-15T03:22:46.648Z"
   },
   {
    "duration": 5,
    "start_time": "2022-06-15T03:22:46.800Z"
   },
   {
    "duration": 8,
    "start_time": "2022-06-15T03:22:46.963Z"
   },
   {
    "duration": 6,
    "start_time": "2022-06-15T03:22:47.182Z"
   },
   {
    "duration": 2,
    "start_time": "2022-06-15T03:22:47.397Z"
   },
   {
    "duration": 6,
    "start_time": "2022-06-15T03:22:47.747Z"
   },
   {
    "duration": 9,
    "start_time": "2022-06-15T03:22:47.903Z"
   },
   {
    "duration": 7,
    "start_time": "2022-06-15T03:22:48.166Z"
   },
   {
    "duration": 5,
    "start_time": "2022-06-15T03:22:48.424Z"
   },
   {
    "duration": 7,
    "start_time": "2022-06-15T03:22:48.669Z"
   },
   {
    "duration": 4,
    "start_time": "2022-06-15T03:22:48.850Z"
   },
   {
    "duration": 3,
    "start_time": "2022-06-15T03:22:49.075Z"
   },
   {
    "duration": 4,
    "start_time": "2022-06-15T03:22:49.397Z"
   },
   {
    "duration": 19,
    "start_time": "2022-06-15T03:22:49.691Z"
   },
   {
    "duration": 3,
    "start_time": "2022-06-15T03:22:50.025Z"
   },
   {
    "duration": 2,
    "start_time": "2022-06-15T03:22:50.416Z"
   },
   {
    "duration": 2,
    "start_time": "2022-06-15T03:22:50.602Z"
   },
   {
    "duration": 19,
    "start_time": "2022-06-15T03:22:50.885Z"
   },
   {
    "duration": 5,
    "start_time": "2022-06-15T03:22:51.298Z"
   },
   {
    "duration": 4,
    "start_time": "2022-06-15T03:22:51.670Z"
   },
   {
    "duration": 9,
    "start_time": "2022-06-15T03:22:51.842Z"
   },
   {
    "duration": 7,
    "start_time": "2022-06-15T03:22:52.403Z"
   },
   {
    "duration": 2,
    "start_time": "2022-06-15T03:22:52.608Z"
   },
   {
    "duration": 2,
    "start_time": "2022-06-15T03:22:52.808Z"
   },
   {
    "duration": 7,
    "start_time": "2022-06-15T03:22:53.017Z"
   },
   {
    "duration": 5,
    "start_time": "2022-06-15T03:22:53.229Z"
   },
   {
    "duration": 6,
    "start_time": "2022-06-15T03:22:53.394Z"
   },
   {
    "duration": 6,
    "start_time": "2022-06-15T03:22:53.750Z"
   },
   {
    "duration": 2,
    "start_time": "2022-06-15T03:22:53.990Z"
   },
   {
    "duration": 2,
    "start_time": "2022-06-15T03:22:54.154Z"
   },
   {
    "duration": 16,
    "start_time": "2022-06-15T03:22:54.350Z"
   },
   {
    "duration": 19,
    "start_time": "2022-06-15T03:22:54.670Z"
   },
   {
    "duration": 16,
    "start_time": "2022-06-15T03:22:54.854Z"
   },
   {
    "duration": 4,
    "start_time": "2022-06-15T03:22:55.039Z"
   },
   {
    "duration": 6,
    "start_time": "2022-06-15T03:22:55.459Z"
   },
   {
    "duration": 4,
    "start_time": "2022-06-15T03:22:55.668Z"
   },
   {
    "duration": 2,
    "start_time": "2022-06-15T03:23:17.194Z"
   },
   {
    "duration": 3,
    "start_time": "2022-06-15T03:23:17.790Z"
   },
   {
    "duration": 9,
    "start_time": "2022-06-15T03:23:18.579Z"
   },
   {
    "duration": 6,
    "start_time": "2022-06-15T03:23:19.447Z"
   },
   {
    "duration": 24,
    "start_time": "2022-06-15T03:23:20.801Z"
   },
   {
    "duration": 17,
    "start_time": "2022-06-15T03:23:21.424Z"
   },
   {
    "duration": 19,
    "start_time": "2022-06-15T03:23:26.192Z"
   },
   {
    "duration": 4,
    "start_time": "2022-06-15T03:23:29.900Z"
   },
   {
    "duration": 3,
    "start_time": "2022-06-15T03:23:58.194Z"
   },
   {
    "duration": 451,
    "start_time": "2022-06-15T03:24:02.655Z"
   },
   {
    "duration": 4,
    "start_time": "2022-06-15T03:24:51.493Z"
   },
   {
    "duration": 389,
    "start_time": "2022-06-15T03:24:53.173Z"
   },
   {
    "duration": 3,
    "start_time": "2022-06-15T03:24:57.660Z"
   },
   {
    "duration": 21,
    "start_time": "2022-06-15T03:24:58.430Z"
   },
   {
    "duration": 2,
    "start_time": "2022-06-15T03:25:00.113Z"
   },
   {
    "duration": 5,
    "start_time": "2022-06-15T03:28:12.574Z"
   },
   {
    "duration": 4,
    "start_time": "2022-06-15T03:28:22.305Z"
   },
   {
    "duration": 3,
    "start_time": "2022-06-15T03:28:28.472Z"
   },
   {
    "duration": 4,
    "start_time": "2022-06-15T03:28:29.429Z"
   },
   {
    "duration": 2,
    "start_time": "2022-06-15T03:28:30.418Z"
   },
   {
    "duration": 14,
    "start_time": "2022-06-15T03:30:13.411Z"
   },
   {
    "duration": 4,
    "start_time": "2022-06-15T03:30:15.057Z"
   },
   {
    "duration": 2,
    "start_time": "2022-06-15T03:30:15.753Z"
   },
   {
    "duration": 19,
    "start_time": "2022-06-15T03:30:24.548Z"
   },
   {
    "duration": 83,
    "start_time": "2022-06-15T03:30:35.040Z"
   },
   {
    "duration": 3,
    "start_time": "2022-06-15T03:30:35.125Z"
   },
   {
    "duration": 14,
    "start_time": "2022-06-15T03:30:35.129Z"
   },
   {
    "duration": 24,
    "start_time": "2022-06-15T03:30:35.145Z"
   },
   {
    "duration": 19,
    "start_time": "2022-06-15T03:30:35.179Z"
   },
   {
    "duration": 18,
    "start_time": "2022-06-15T03:30:35.200Z"
   },
   {
    "duration": 18,
    "start_time": "2022-06-15T03:30:35.220Z"
   },
   {
    "duration": 39,
    "start_time": "2022-06-15T03:30:35.240Z"
   },
   {
    "duration": 6,
    "start_time": "2022-06-15T03:30:35.281Z"
   },
   {
    "duration": 11,
    "start_time": "2022-06-15T03:30:35.289Z"
   },
   {
    "duration": 5,
    "start_time": "2022-06-15T03:30:35.301Z"
   },
   {
    "duration": 7,
    "start_time": "2022-06-15T03:30:35.308Z"
   },
   {
    "duration": 5,
    "start_time": "2022-06-15T03:30:35.317Z"
   },
   {
    "duration": 2,
    "start_time": "2022-06-15T03:30:35.326Z"
   },
   {
    "duration": 10,
    "start_time": "2022-06-15T03:30:35.329Z"
   },
   {
    "duration": 49,
    "start_time": "2022-06-15T03:30:35.340Z"
   },
   {
    "duration": 16,
    "start_time": "2022-06-15T03:30:35.390Z"
   },
   {
    "duration": 6,
    "start_time": "2022-06-15T03:30:35.408Z"
   },
   {
    "duration": 8,
    "start_time": "2022-06-15T03:30:35.415Z"
   },
   {
    "duration": 7,
    "start_time": "2022-06-15T03:30:35.425Z"
   },
   {
    "duration": 6,
    "start_time": "2022-06-15T03:30:35.433Z"
   },
   {
    "duration": 6,
    "start_time": "2022-06-15T03:30:35.440Z"
   },
   {
    "duration": 19,
    "start_time": "2022-06-15T03:30:35.448Z"
   },
   {
    "duration": 10,
    "start_time": "2022-06-15T03:30:35.469Z"
   },
   {
    "duration": 7,
    "start_time": "2022-06-15T03:30:35.481Z"
   },
   {
    "duration": 6,
    "start_time": "2022-06-15T03:30:35.490Z"
   },
   {
    "duration": 54,
    "start_time": "2022-06-15T03:30:35.497Z"
   },
   {
    "duration": 5,
    "start_time": "2022-06-15T03:30:35.553Z"
   },
   {
    "duration": 19,
    "start_time": "2022-06-15T03:30:35.559Z"
   },
   {
    "duration": 9,
    "start_time": "2022-06-15T03:30:35.579Z"
   },
   {
    "duration": 6,
    "start_time": "2022-06-15T03:30:35.589Z"
   },
   {
    "duration": 5,
    "start_time": "2022-06-15T03:30:35.596Z"
   },
   {
    "duration": 12,
    "start_time": "2022-06-15T03:30:35.602Z"
   },
   {
    "duration": 20,
    "start_time": "2022-06-15T03:30:35.615Z"
   },
   {
    "duration": 10,
    "start_time": "2022-06-15T03:30:35.636Z"
   },
   {
    "duration": 12,
    "start_time": "2022-06-15T03:30:35.648Z"
   },
   {
    "duration": 13,
    "start_time": "2022-06-15T03:30:35.661Z"
   },
   {
    "duration": 5,
    "start_time": "2022-06-15T03:30:35.675Z"
   },
   {
    "duration": 5,
    "start_time": "2022-06-15T03:30:35.681Z"
   },
   {
    "duration": 22,
    "start_time": "2022-06-15T03:30:35.688Z"
   },
   {
    "duration": 15,
    "start_time": "2022-06-15T03:30:35.714Z"
   },
   {
    "duration": 14,
    "start_time": "2022-06-15T03:30:35.730Z"
   },
   {
    "duration": 3,
    "start_time": "2022-06-15T03:30:35.745Z"
   },
   {
    "duration": 8,
    "start_time": "2022-06-15T03:30:35.749Z"
   },
   {
    "duration": 20,
    "start_time": "2022-06-15T03:30:35.759Z"
   },
   {
    "duration": 5,
    "start_time": "2022-06-15T03:30:35.781Z"
   },
   {
    "duration": 8,
    "start_time": "2022-06-15T03:30:35.787Z"
   },
   {
    "duration": 11,
    "start_time": "2022-06-15T03:30:35.796Z"
   },
   {
    "duration": 8,
    "start_time": "2022-06-15T03:30:35.808Z"
   },
   {
    "duration": 25,
    "start_time": "2022-06-15T03:30:35.817Z"
   },
   {
    "duration": 38,
    "start_time": "2022-06-15T03:30:35.843Z"
   },
   {
    "duration": 18,
    "start_time": "2022-06-15T03:30:35.882Z"
   },
   {
    "duration": 13,
    "start_time": "2022-06-15T03:30:35.902Z"
   },
   {
    "duration": 8,
    "start_time": "2022-06-15T03:30:35.917Z"
   },
   {
    "duration": 5,
    "start_time": "2022-06-15T03:30:35.927Z"
   },
   {
    "duration": 26,
    "start_time": "2022-06-15T03:30:35.933Z"
   },
   {
    "duration": 3,
    "start_time": "2022-06-15T03:30:35.978Z"
   },
   {
    "duration": 7,
    "start_time": "2022-06-15T03:30:35.983Z"
   },
   {
    "duration": 25,
    "start_time": "2022-06-15T03:30:35.991Z"
   },
   {
    "duration": 16,
    "start_time": "2022-06-15T03:30:36.018Z"
   },
   {
    "duration": 3,
    "start_time": "2022-06-15T03:30:36.036Z"
   },
   {
    "duration": 16,
    "start_time": "2022-06-15T03:30:36.040Z"
   },
   {
    "duration": 21,
    "start_time": "2022-06-15T03:30:36.057Z"
   },
   {
    "duration": 4,
    "start_time": "2022-06-15T03:30:36.080Z"
   },
   {
    "duration": 9,
    "start_time": "2022-06-15T03:30:36.085Z"
   },
   {
    "duration": 3,
    "start_time": "2022-06-15T03:30:36.095Z"
   },
   {
    "duration": 5,
    "start_time": "2022-06-15T03:30:36.100Z"
   },
   {
    "duration": 7,
    "start_time": "2022-06-15T03:30:36.106Z"
   },
   {
    "duration": 7,
    "start_time": "2022-06-15T03:30:36.115Z"
   },
   {
    "duration": 5,
    "start_time": "2022-06-15T03:30:36.123Z"
   },
   {
    "duration": 12,
    "start_time": "2022-06-15T03:30:36.129Z"
   },
   {
    "duration": 6,
    "start_time": "2022-06-15T03:30:36.142Z"
   },
   {
    "duration": 32,
    "start_time": "2022-06-15T03:30:36.150Z"
   },
   {
    "duration": 2,
    "start_time": "2022-06-15T03:30:36.183Z"
   },
   {
    "duration": 7,
    "start_time": "2022-06-15T03:30:36.186Z"
   },
   {
    "duration": 7,
    "start_time": "2022-06-15T03:30:36.194Z"
   },
   {
    "duration": 14,
    "start_time": "2022-06-15T03:30:36.202Z"
   },
   {
    "duration": 4,
    "start_time": "2022-06-15T03:30:36.217Z"
   },
   {
    "duration": 16,
    "start_time": "2022-06-15T03:30:36.223Z"
   },
   {
    "duration": 4,
    "start_time": "2022-06-15T03:30:36.241Z"
   },
   {
    "duration": 41,
    "start_time": "2022-06-15T03:30:36.246Z"
   },
   {
    "duration": 4,
    "start_time": "2022-06-15T03:30:36.288Z"
   },
   {
    "duration": 10,
    "start_time": "2022-06-15T03:30:36.293Z"
   },
   {
    "duration": 6,
    "start_time": "2022-06-15T03:30:36.304Z"
   },
   {
    "duration": 80,
    "start_time": "2022-06-15T03:30:36.311Z"
   },
   {
    "duration": 211,
    "start_time": "2022-06-15T03:31:23.703Z"
   },
   {
    "duration": 7,
    "start_time": "2022-06-15T03:32:28.948Z"
   },
   {
    "duration": 472,
    "start_time": "2022-06-15T03:33:13.522Z"
   },
   {
    "duration": 24,
    "start_time": "2022-06-15T03:33:24.545Z"
   },
   {
    "duration": 4,
    "start_time": "2022-06-15T03:33:26.290Z"
   },
   {
    "duration": 29,
    "start_time": "2022-06-15T03:34:47.537Z"
   },
   {
    "duration": 4,
    "start_time": "2022-06-15T03:34:48.561Z"
   },
   {
    "duration": 2,
    "start_time": "2022-06-15T03:34:49.235Z"
   },
   {
    "duration": 71,
    "start_time": "2022-06-15T03:34:54.998Z"
   },
   {
    "duration": 4,
    "start_time": "2022-06-15T03:34:55.071Z"
   },
   {
    "duration": 25,
    "start_time": "2022-06-15T03:34:55.076Z"
   },
   {
    "duration": 22,
    "start_time": "2022-06-15T03:34:55.103Z"
   },
   {
    "duration": 20,
    "start_time": "2022-06-15T03:34:55.126Z"
   },
   {
    "duration": 33,
    "start_time": "2022-06-15T03:34:55.147Z"
   },
   {
    "duration": 19,
    "start_time": "2022-06-15T03:34:55.182Z"
   },
   {
    "duration": 7,
    "start_time": "2022-06-15T03:34:55.203Z"
   },
   {
    "duration": 5,
    "start_time": "2022-06-15T03:34:55.212Z"
   },
   {
    "duration": 8,
    "start_time": "2022-06-15T03:34:55.219Z"
   },
   {
    "duration": 6,
    "start_time": "2022-06-15T03:34:55.229Z"
   },
   {
    "duration": 43,
    "start_time": "2022-06-15T03:34:55.236Z"
   },
   {
    "duration": 8,
    "start_time": "2022-06-15T03:34:55.281Z"
   },
   {
    "duration": 9,
    "start_time": "2022-06-15T03:34:55.290Z"
   },
   {
    "duration": 7,
    "start_time": "2022-06-15T03:34:55.300Z"
   },
   {
    "duration": 9,
    "start_time": "2022-06-15T03:34:55.308Z"
   },
   {
    "duration": 14,
    "start_time": "2022-06-15T03:34:55.318Z"
   },
   {
    "duration": 8,
    "start_time": "2022-06-15T03:34:55.333Z"
   },
   {
    "duration": 10,
    "start_time": "2022-06-15T03:34:55.342Z"
   },
   {
    "duration": 25,
    "start_time": "2022-06-15T03:34:55.354Z"
   },
   {
    "duration": 3,
    "start_time": "2022-06-15T03:34:55.382Z"
   },
   {
    "duration": 11,
    "start_time": "2022-06-15T03:34:55.387Z"
   },
   {
    "duration": 20,
    "start_time": "2022-06-15T03:34:55.399Z"
   },
   {
    "duration": 3,
    "start_time": "2022-06-15T03:34:55.421Z"
   },
   {
    "duration": 4,
    "start_time": "2022-06-15T03:34:55.425Z"
   },
   {
    "duration": 8,
    "start_time": "2022-06-15T03:34:55.430Z"
   },
   {
    "duration": 19,
    "start_time": "2022-06-15T03:34:55.439Z"
   },
   {
    "duration": 4,
    "start_time": "2022-06-15T03:34:55.480Z"
   },
   {
    "duration": 6,
    "start_time": "2022-06-15T03:34:55.485Z"
   },
   {
    "duration": 10,
    "start_time": "2022-06-15T03:34:55.492Z"
   },
   {
    "duration": 5,
    "start_time": "2022-06-15T03:34:55.503Z"
   },
   {
    "duration": 3,
    "start_time": "2022-06-15T03:34:55.510Z"
   },
   {
    "duration": 4,
    "start_time": "2022-06-15T03:34:55.514Z"
   },
   {
    "duration": 9,
    "start_time": "2022-06-15T03:34:55.519Z"
   },
   {
    "duration": 5,
    "start_time": "2022-06-15T03:34:55.529Z"
   },
   {
    "duration": 7,
    "start_time": "2022-06-15T03:34:55.535Z"
   },
   {
    "duration": 7,
    "start_time": "2022-06-15T03:34:55.543Z"
   },
   {
    "duration": 26,
    "start_time": "2022-06-15T03:34:55.552Z"
   },
   {
    "duration": 5,
    "start_time": "2022-06-15T03:34:55.580Z"
   },
   {
    "duration": 22,
    "start_time": "2022-06-15T03:34:55.586Z"
   },
   {
    "duration": 15,
    "start_time": "2022-06-15T03:34:55.609Z"
   },
   {
    "duration": 14,
    "start_time": "2022-06-15T03:34:55.626Z"
   },
   {
    "duration": 3,
    "start_time": "2022-06-15T03:34:55.642Z"
   },
   {
    "duration": 8,
    "start_time": "2022-06-15T03:34:55.646Z"
   },
   {
    "duration": 4,
    "start_time": "2022-06-15T03:34:55.678Z"
   },
   {
    "duration": 6,
    "start_time": "2022-06-15T03:34:55.683Z"
   },
   {
    "duration": 6,
    "start_time": "2022-06-15T03:34:55.690Z"
   },
   {
    "duration": 10,
    "start_time": "2022-06-15T03:34:55.697Z"
   },
   {
    "duration": 6,
    "start_time": "2022-06-15T03:34:55.708Z"
   },
   {
    "duration": 23,
    "start_time": "2022-06-15T03:34:55.715Z"
   },
   {
    "duration": 39,
    "start_time": "2022-06-15T03:34:55.740Z"
   },
   {
    "duration": 16,
    "start_time": "2022-06-15T03:34:55.780Z"
   },
   {
    "duration": 22,
    "start_time": "2022-06-15T03:34:55.798Z"
   },
   {
    "duration": 4,
    "start_time": "2022-06-15T03:34:55.822Z"
   },
   {
    "duration": 8,
    "start_time": "2022-06-15T03:34:55.828Z"
   },
   {
    "duration": 549,
    "start_time": "2022-06-17T05:13:39.077Z"
   },
   {
    "duration": 8,
    "start_time": "2022-06-17T05:13:39.627Z"
   },
   {
    "duration": 30,
    "start_time": "2022-06-17T05:13:39.636Z"
   },
   {
    "duration": 19,
    "start_time": "2022-06-17T05:13:39.668Z"
   },
   {
    "duration": 19,
    "start_time": "2022-06-17T05:13:39.688Z"
   },
   {
    "duration": 28,
    "start_time": "2022-06-17T05:13:39.709Z"
   },
   {
    "duration": 19,
    "start_time": "2022-06-17T05:13:39.738Z"
   },
   {
    "duration": 6,
    "start_time": "2022-06-17T05:13:39.758Z"
   },
   {
    "duration": 11,
    "start_time": "2022-06-17T05:13:39.765Z"
   },
   {
    "duration": 16,
    "start_time": "2022-06-17T05:13:39.778Z"
   },
   {
    "duration": 21,
    "start_time": "2022-06-17T05:13:39.795Z"
   },
   {
    "duration": 21,
    "start_time": "2022-06-17T05:13:39.818Z"
   },
   {
    "duration": 44,
    "start_time": "2022-06-17T05:13:39.840Z"
   },
   {
    "duration": 13,
    "start_time": "2022-06-17T05:13:39.886Z"
   },
   {
    "duration": 22,
    "start_time": "2022-06-17T05:13:39.901Z"
   },
   {
    "duration": 22,
    "start_time": "2022-06-17T05:13:39.925Z"
   },
   {
    "duration": 14,
    "start_time": "2022-06-17T05:13:39.949Z"
   },
   {
    "duration": 35,
    "start_time": "2022-06-17T05:13:39.964Z"
   },
   {
    "duration": 48,
    "start_time": "2022-06-17T05:13:40.000Z"
   },
   {
    "duration": 28,
    "start_time": "2022-06-17T05:13:40.050Z"
   },
   {
    "duration": 35,
    "start_time": "2022-06-17T05:13:40.080Z"
   },
   {
    "duration": 25,
    "start_time": "2022-06-17T05:13:40.116Z"
   },
   {
    "duration": 37,
    "start_time": "2022-06-17T05:13:40.143Z"
   },
   {
    "duration": 29,
    "start_time": "2022-06-17T05:13:40.182Z"
   },
   {
    "duration": 23,
    "start_time": "2022-06-17T05:13:40.213Z"
   },
   {
    "duration": 11,
    "start_time": "2022-06-17T05:13:40.237Z"
   },
   {
    "duration": 37,
    "start_time": "2022-06-17T05:13:40.249Z"
   },
   {
    "duration": 5,
    "start_time": "2022-06-17T05:13:40.290Z"
   },
   {
    "duration": 12,
    "start_time": "2022-06-17T05:13:40.296Z"
   },
   {
    "duration": 23,
    "start_time": "2022-06-17T05:13:40.310Z"
   },
   {
    "duration": 5,
    "start_time": "2022-06-17T05:13:40.335Z"
   },
   {
    "duration": 17,
    "start_time": "2022-06-17T05:13:40.342Z"
   },
   {
    "duration": 16,
    "start_time": "2022-06-17T05:13:40.360Z"
   },
   {
    "duration": 18,
    "start_time": "2022-06-17T05:13:40.377Z"
   },
   {
    "duration": 13,
    "start_time": "2022-06-17T05:13:40.396Z"
   },
   {
    "duration": 22,
    "start_time": "2022-06-17T05:13:40.410Z"
   },
   {
    "duration": 22,
    "start_time": "2022-06-17T05:13:40.433Z"
   },
   {
    "duration": 8,
    "start_time": "2022-06-17T05:13:40.457Z"
   },
   {
    "duration": 14,
    "start_time": "2022-06-17T05:13:40.466Z"
   },
   {
    "duration": 28,
    "start_time": "2022-06-17T05:13:40.481Z"
   },
   {
    "duration": 21,
    "start_time": "2022-06-17T05:13:40.512Z"
   },
   {
    "duration": 21,
    "start_time": "2022-06-17T05:13:40.534Z"
   },
   {
    "duration": 5,
    "start_time": "2022-06-17T05:13:40.557Z"
   },
   {
    "duration": 16,
    "start_time": "2022-06-17T05:13:40.564Z"
   },
   {
    "duration": 8,
    "start_time": "2022-06-17T05:13:40.581Z"
   },
   {
    "duration": 16,
    "start_time": "2022-06-17T05:13:40.590Z"
   },
   {
    "duration": 9,
    "start_time": "2022-06-17T05:13:40.607Z"
   },
   {
    "duration": 16,
    "start_time": "2022-06-17T05:13:40.617Z"
   },
   {
    "duration": 11,
    "start_time": "2022-06-17T05:13:40.635Z"
   },
   {
    "duration": 29,
    "start_time": "2022-06-17T05:13:40.647Z"
   },
   {
    "duration": 17,
    "start_time": "2022-06-17T05:13:40.678Z"
   },
   {
    "duration": 31,
    "start_time": "2022-06-17T05:13:40.697Z"
   },
   {
    "duration": 31,
    "start_time": "2022-06-17T05:13:40.729Z"
   },
   {
    "duration": 5,
    "start_time": "2022-06-17T05:13:40.762Z"
   },
   {
    "duration": 15,
    "start_time": "2022-06-17T05:13:40.768Z"
   },
   {
    "duration": 30,
    "start_time": "2022-06-17T05:13:40.785Z"
   },
   {
    "duration": 9,
    "start_time": "2022-06-17T05:13:40.816Z"
   },
   {
    "duration": 12,
    "start_time": "2022-06-17T05:13:40.826Z"
   },
   {
    "duration": 22,
    "start_time": "2022-06-17T05:13:40.839Z"
   },
   {
    "duration": 16,
    "start_time": "2022-06-17T05:13:40.863Z"
   },
   {
    "duration": 5,
    "start_time": "2022-06-17T05:13:40.881Z"
   },
   {
    "duration": 14,
    "start_time": "2022-06-17T05:13:40.888Z"
   },
   {
    "duration": 19,
    "start_time": "2022-06-17T05:13:40.903Z"
   },
   {
    "duration": 14,
    "start_time": "2022-06-17T05:13:40.925Z"
   },
   {
    "duration": 18,
    "start_time": "2022-06-17T05:13:40.941Z"
   },
   {
    "duration": 10,
    "start_time": "2022-06-17T05:13:40.961Z"
   },
   {
    "duration": 17,
    "start_time": "2022-06-17T05:13:40.973Z"
   },
   {
    "duration": 7,
    "start_time": "2022-06-17T05:13:40.992Z"
   },
   {
    "duration": 11,
    "start_time": "2022-06-17T05:13:41.000Z"
   },
   {
    "duration": 12,
    "start_time": "2022-06-17T05:13:41.014Z"
   },
   {
    "duration": 23,
    "start_time": "2022-06-17T05:13:41.027Z"
   },
   {
    "duration": 5,
    "start_time": "2022-06-17T05:13:41.052Z"
   },
   {
    "duration": 12,
    "start_time": "2022-06-17T05:13:41.058Z"
   },
   {
    "duration": 6,
    "start_time": "2022-06-17T05:13:41.072Z"
   },
   {
    "duration": 18,
    "start_time": "2022-06-17T05:13:41.079Z"
   },
   {
    "duration": 6,
    "start_time": "2022-06-17T05:13:41.098Z"
   },
   {
    "duration": 523,
    "start_time": "2022-06-17T05:14:20.287Z"
   },
   {
    "duration": 6,
    "start_time": "2022-06-17T05:14:26.804Z"
   },
   {
    "duration": 3,
    "start_time": "2022-06-17T05:17:11.048Z"
   },
   {
    "duration": 10,
    "start_time": "2022-06-17T05:18:23.671Z"
   },
   {
    "duration": 28,
    "start_time": "2022-06-17T05:19:39.849Z"
   },
   {
    "duration": 27,
    "start_time": "2022-06-17T05:21:03.588Z"
   },
   {
    "duration": 33,
    "start_time": "2022-06-17T05:22:25.902Z"
   },
   {
    "duration": 14,
    "start_time": "2022-06-17T05:22:50.672Z"
   },
   {
    "duration": 29,
    "start_time": "2022-06-17T05:22:56.962Z"
   },
   {
    "duration": 70,
    "start_time": "2022-06-17T05:23:13.592Z"
   },
   {
    "duration": 27,
    "start_time": "2022-06-17T05:23:22.182Z"
   },
   {
    "duration": 26,
    "start_time": "2022-06-17T05:30:58.061Z"
   },
   {
    "duration": 25,
    "start_time": "2022-06-17T05:31:30.891Z"
   },
   {
    "duration": 29,
    "start_time": "2022-06-17T05:31:54.731Z"
   },
   {
    "duration": 25,
    "start_time": "2022-06-17T05:32:20.321Z"
   },
   {
    "duration": 24,
    "start_time": "2022-06-17T05:38:22.383Z"
   },
   {
    "duration": 5,
    "start_time": "2022-06-17T05:38:27.111Z"
   },
   {
    "duration": 5,
    "start_time": "2022-06-17T05:38:38.700Z"
   },
   {
    "duration": 4,
    "start_time": "2022-06-17T05:38:45.190Z"
   },
   {
    "duration": 5,
    "start_time": "2022-06-17T05:38:56.913Z"
   },
   {
    "duration": 7,
    "start_time": "2022-06-17T05:42:03.862Z"
   },
   {
    "duration": 6,
    "start_time": "2022-06-17T05:42:10.152Z"
   },
   {
    "duration": 26,
    "start_time": "2022-06-17T05:42:31.278Z"
   },
   {
    "duration": 23,
    "start_time": "2022-06-17T05:42:39.262Z"
   },
   {
    "duration": 74,
    "start_time": "2022-06-17T05:42:49.482Z"
   },
   {
    "duration": 4,
    "start_time": "2022-06-17T05:42:49.558Z"
   },
   {
    "duration": 18,
    "start_time": "2022-06-17T05:42:49.564Z"
   },
   {
    "duration": 20,
    "start_time": "2022-06-17T05:42:49.584Z"
   },
   {
    "duration": 34,
    "start_time": "2022-06-17T05:42:49.606Z"
   },
   {
    "duration": 19,
    "start_time": "2022-06-17T05:42:49.641Z"
   },
   {
    "duration": 18,
    "start_time": "2022-06-17T05:42:49.662Z"
   },
   {
    "duration": 9,
    "start_time": "2022-06-17T05:42:49.682Z"
   },
   {
    "duration": 5,
    "start_time": "2022-06-17T05:42:49.692Z"
   },
   {
    "duration": 6,
    "start_time": "2022-06-17T05:42:49.726Z"
   },
   {
    "duration": 6,
    "start_time": "2022-06-17T05:42:49.734Z"
   },
   {
    "duration": 8,
    "start_time": "2022-06-17T05:42:49.742Z"
   },
   {
    "duration": 5,
    "start_time": "2022-06-17T05:42:49.752Z"
   },
   {
    "duration": 4,
    "start_time": "2022-06-17T05:42:49.759Z"
   },
   {
    "duration": 8,
    "start_time": "2022-06-17T05:42:49.764Z"
   },
   {
    "duration": 9,
    "start_time": "2022-06-17T05:42:49.773Z"
   },
   {
    "duration": 44,
    "start_time": "2022-06-17T05:42:49.783Z"
   },
   {
    "duration": 5,
    "start_time": "2022-06-17T05:42:49.828Z"
   },
   {
    "duration": 8,
    "start_time": "2022-06-17T05:42:49.835Z"
   },
   {
    "duration": 5,
    "start_time": "2022-06-17T05:42:49.845Z"
   },
   {
    "duration": 5,
    "start_time": "2022-06-17T05:42:49.851Z"
   },
   {
    "duration": 6,
    "start_time": "2022-06-17T05:42:49.857Z"
   },
   {
    "duration": 22,
    "start_time": "2022-06-17T05:42:49.864Z"
   },
   {
    "duration": 3,
    "start_time": "2022-06-17T05:42:49.887Z"
   },
   {
    "duration": 34,
    "start_time": "2022-06-17T05:42:49.891Z"
   },
   {
    "duration": 3,
    "start_time": "2022-06-17T05:42:49.927Z"
   },
   {
    "duration": 23,
    "start_time": "2022-06-17T05:42:49.932Z"
   },
   {
    "duration": 4,
    "start_time": "2022-06-17T05:42:49.958Z"
   },
   {
    "duration": 4,
    "start_time": "2022-06-17T05:42:49.963Z"
   },
   {
    "duration": 11,
    "start_time": "2022-06-17T05:42:49.968Z"
   },
   {
    "duration": 5,
    "start_time": "2022-06-17T05:42:49.980Z"
   },
   {
    "duration": 2,
    "start_time": "2022-06-17T05:42:50.026Z"
   },
   {
    "duration": 7,
    "start_time": "2022-06-17T05:42:50.029Z"
   },
   {
    "duration": 10,
    "start_time": "2022-06-17T05:42:50.037Z"
   },
   {
    "duration": 7,
    "start_time": "2022-06-17T05:42:50.048Z"
   },
   {
    "duration": 8,
    "start_time": "2022-06-17T05:42:50.057Z"
   },
   {
    "duration": 12,
    "start_time": "2022-06-17T05:42:50.066Z"
   },
   {
    "duration": 9,
    "start_time": "2022-06-17T05:42:50.079Z"
   },
   {
    "duration": 4,
    "start_time": "2022-06-17T05:42:50.090Z"
   },
   {
    "duration": 19,
    "start_time": "2022-06-17T05:42:50.126Z"
   },
   {
    "duration": 17,
    "start_time": "2022-06-17T05:42:50.147Z"
   },
   {
    "duration": 18,
    "start_time": "2022-06-17T05:42:50.166Z"
   },
   {
    "duration": 3,
    "start_time": "2022-06-17T05:42:50.186Z"
   },
   {
    "duration": 37,
    "start_time": "2022-06-17T05:42:50.191Z"
   },
   {
    "duration": 4,
    "start_time": "2022-06-17T05:42:50.229Z"
   },
   {
    "duration": 12,
    "start_time": "2022-06-17T05:42:50.234Z"
   },
   {
    "duration": 3,
    "start_time": "2022-06-17T05:42:50.248Z"
   },
   {
    "duration": 14,
    "start_time": "2022-06-17T05:42:50.253Z"
   },
   {
    "duration": 12,
    "start_time": "2022-06-17T05:42:50.269Z"
   },
   {
    "duration": 15,
    "start_time": "2022-06-17T05:42:50.283Z"
   },
   {
    "duration": 33,
    "start_time": "2022-06-17T05:42:50.299Z"
   },
   {
    "duration": 17,
    "start_time": "2022-06-17T05:42:50.333Z"
   },
   {
    "duration": 17,
    "start_time": "2022-06-17T05:42:50.352Z"
   },
   {
    "duration": 81,
    "start_time": "2022-06-17T05:42:50.370Z"
   },
   {
    "duration": 4,
    "start_time": "2022-06-17T05:42:50.453Z"
   },
   {
    "duration": 5,
    "start_time": "2022-06-17T05:42:50.458Z"
   },
   {
    "duration": 23,
    "start_time": "2022-06-17T05:42:50.464Z"
   },
   {
    "duration": 3,
    "start_time": "2022-06-17T05:42:50.491Z"
   },
   {
    "duration": 3,
    "start_time": "2022-06-17T05:42:50.526Z"
   },
   {
    "duration": 21,
    "start_time": "2022-06-17T05:42:50.531Z"
   },
   {
    "duration": 17,
    "start_time": "2022-06-17T05:42:50.553Z"
   },
   {
    "duration": 3,
    "start_time": "2022-06-17T05:42:50.571Z"
   },
   {
    "duration": 11,
    "start_time": "2022-06-17T05:42:50.575Z"
   },
   {
    "duration": 40,
    "start_time": "2022-06-17T05:42:50.587Z"
   },
   {
    "duration": 5,
    "start_time": "2022-06-17T05:42:50.628Z"
   },
   {
    "duration": 8,
    "start_time": "2022-06-17T05:42:50.634Z"
   },
   {
    "duration": 5,
    "start_time": "2022-06-17T05:42:50.643Z"
   },
   {
    "duration": 7,
    "start_time": "2022-06-17T05:42:50.649Z"
   },
   {
    "duration": 7,
    "start_time": "2022-06-17T05:42:50.658Z"
   },
   {
    "duration": 5,
    "start_time": "2022-06-17T05:42:50.667Z"
   },
   {
    "duration": 5,
    "start_time": "2022-06-17T05:42:50.674Z"
   },
   {
    "duration": 59,
    "start_time": "2022-06-17T05:42:50.681Z"
   },
   {
    "duration": 6,
    "start_time": "2022-06-17T05:42:50.743Z"
   },
   {
    "duration": 29,
    "start_time": "2022-06-17T05:42:50.751Z"
   },
   {
    "duration": 2,
    "start_time": "2022-06-17T05:42:50.782Z"
   },
   {
    "duration": 19,
    "start_time": "2022-06-17T05:42:50.787Z"
   },
   {
    "duration": 6,
    "start_time": "2022-06-17T05:42:50.809Z"
   },
   {
    "duration": 12,
    "start_time": "2022-06-17T05:42:50.816Z"
   },
   {
    "duration": 5,
    "start_time": "2022-06-17T05:42:50.829Z"
   },
   {
    "duration": 14,
    "start_time": "2022-06-17T05:42:50.836Z"
   },
   {
    "duration": 33,
    "start_time": "2022-06-17T05:42:50.852Z"
   },
   {
    "duration": 46,
    "start_time": "2022-06-17T05:42:50.888Z"
   },
   {
    "duration": 39,
    "start_time": "2022-06-17T05:42:50.936Z"
   },
   {
    "duration": 93,
    "start_time": "2022-06-17T05:42:50.977Z"
   },
   {
    "duration": 22,
    "start_time": "2022-06-17T05:42:51.072Z"
   },
   {
    "duration": 23,
    "start_time": "2022-06-17T05:43:00.092Z"
   },
   {
    "duration": 31,
    "start_time": "2022-06-17T05:43:31.732Z"
   },
   {
    "duration": 82,
    "start_time": "2022-06-17T05:45:10.742Z"
   },
   {
    "duration": 5,
    "start_time": "2022-06-17T05:45:10.826Z"
   },
   {
    "duration": 25,
    "start_time": "2022-06-17T05:45:10.833Z"
   },
   {
    "duration": 27,
    "start_time": "2022-06-17T05:45:10.861Z"
   },
   {
    "duration": 37,
    "start_time": "2022-06-17T05:45:10.890Z"
   },
   {
    "duration": 21,
    "start_time": "2022-06-17T05:45:11.083Z"
   },
   {
    "duration": 20,
    "start_time": "2022-06-17T05:45:11.106Z"
   },
   {
    "duration": 7,
    "start_time": "2022-06-17T05:45:11.128Z"
   },
   {
    "duration": 8,
    "start_time": "2022-06-17T05:45:11.136Z"
   },
   {
    "duration": 8,
    "start_time": "2022-06-17T05:45:11.147Z"
   },
   {
    "duration": 5,
    "start_time": "2022-06-17T05:45:11.156Z"
   },
   {
    "duration": 8,
    "start_time": "2022-06-17T05:45:11.163Z"
   },
   {
    "duration": 9,
    "start_time": "2022-06-17T05:45:11.174Z"
   },
   {
    "duration": 4,
    "start_time": "2022-06-17T05:45:11.185Z"
   },
   {
    "duration": 40,
    "start_time": "2022-06-17T05:45:11.191Z"
   },
   {
    "duration": 13,
    "start_time": "2022-06-17T05:45:11.234Z"
   },
   {
    "duration": 10,
    "start_time": "2022-06-17T05:45:11.249Z"
   },
   {
    "duration": 6,
    "start_time": "2022-06-17T05:45:11.261Z"
   },
   {
    "duration": 9,
    "start_time": "2022-06-17T05:45:11.269Z"
   },
   {
    "duration": 3,
    "start_time": "2022-06-17T05:45:11.280Z"
   },
   {
    "duration": 42,
    "start_time": "2022-06-17T05:45:11.285Z"
   },
   {
    "duration": 8,
    "start_time": "2022-06-17T05:45:11.329Z"
   },
   {
    "duration": 24,
    "start_time": "2022-06-17T05:45:11.338Z"
   },
   {
    "duration": 4,
    "start_time": "2022-06-17T05:45:11.363Z"
   },
   {
    "duration": 2,
    "start_time": "2022-06-17T05:45:11.382Z"
   },
   {
    "duration": 6,
    "start_time": "2022-06-17T05:45:11.385Z"
   },
   {
    "duration": 21,
    "start_time": "2022-06-17T05:45:11.392Z"
   },
   {
    "duration": 6,
    "start_time": "2022-06-17T05:45:11.426Z"
   },
   {
    "duration": 5,
    "start_time": "2022-06-17T05:45:11.434Z"
   },
   {
    "duration": 9,
    "start_time": "2022-06-17T05:45:11.440Z"
   },
   {
    "duration": 6,
    "start_time": "2022-06-17T05:45:11.451Z"
   },
   {
    "duration": 6,
    "start_time": "2022-06-17T05:45:11.459Z"
   },
   {
    "duration": 5,
    "start_time": "2022-06-17T05:45:11.467Z"
   },
   {
    "duration": 9,
    "start_time": "2022-06-17T05:45:11.473Z"
   },
   {
    "duration": 9,
    "start_time": "2022-06-17T05:45:11.483Z"
   },
   {
    "duration": 39,
    "start_time": "2022-06-17T05:45:11.493Z"
   },
   {
    "duration": 11,
    "start_time": "2022-06-17T05:45:11.533Z"
   },
   {
    "duration": 4,
    "start_time": "2022-06-17T05:45:11.546Z"
   },
   {
    "duration": 6,
    "start_time": "2022-06-17T05:45:11.551Z"
   },
   {
    "duration": 20,
    "start_time": "2022-06-17T05:45:11.559Z"
   },
   {
    "duration": 16,
    "start_time": "2022-06-17T05:45:11.633Z"
   },
   {
    "duration": 15,
    "start_time": "2022-06-17T05:45:11.651Z"
   },
   {
    "duration": 5,
    "start_time": "2022-06-17T05:45:11.667Z"
   },
   {
    "duration": 31,
    "start_time": "2022-06-17T05:45:11.674Z"
   },
   {
    "duration": 14,
    "start_time": "2022-06-17T05:45:11.707Z"
   },
   {
    "duration": 17,
    "start_time": "2022-06-17T05:45:11.723Z"
   },
   {
    "duration": 20,
    "start_time": "2022-06-17T05:45:11.741Z"
   },
   {
    "duration": 30,
    "start_time": "2022-06-17T05:45:11.763Z"
   },
   {
    "duration": 11,
    "start_time": "2022-06-17T05:45:11.795Z"
   },
   {
    "duration": 27,
    "start_time": "2022-06-17T05:45:11.807Z"
   },
   {
    "duration": 22,
    "start_time": "2022-06-17T05:45:11.836Z"
   },
   {
    "duration": 38,
    "start_time": "2022-06-17T05:45:11.860Z"
   },
   {
    "duration": 32,
    "start_time": "2022-06-17T05:45:11.902Z"
   },
   {
    "duration": 4,
    "start_time": "2022-06-17T05:45:11.938Z"
   },
   {
    "duration": 8,
    "start_time": "2022-06-17T05:45:11.944Z"
   },
   {
    "duration": 33,
    "start_time": "2022-06-17T05:45:11.953Z"
   },
   {
    "duration": 9,
    "start_time": "2022-06-17T05:45:11.988Z"
   },
   {
    "duration": 9,
    "start_time": "2022-06-17T05:45:11.999Z"
   },
   {
    "duration": 40,
    "start_time": "2022-06-17T05:45:12.011Z"
   },
   {
    "duration": 21,
    "start_time": "2022-06-17T05:45:12.053Z"
   },
   {
    "duration": 3,
    "start_time": "2022-06-17T05:45:12.077Z"
   },
   {
    "duration": 16,
    "start_time": "2022-06-17T05:45:12.083Z"
   },
   {
    "duration": 28,
    "start_time": "2022-06-17T05:45:12.101Z"
   },
   {
    "duration": 5,
    "start_time": "2022-06-17T05:45:12.131Z"
   },
   {
    "duration": 10,
    "start_time": "2022-06-17T05:45:12.138Z"
   },
   {
    "duration": 6,
    "start_time": "2022-06-17T05:45:12.150Z"
   },
   {
    "duration": 8,
    "start_time": "2022-06-17T05:45:12.158Z"
   },
   {
    "duration": 9,
    "start_time": "2022-06-17T05:45:12.168Z"
   },
   {
    "duration": 10,
    "start_time": "2022-06-17T05:45:12.178Z"
   },
   {
    "duration": 4,
    "start_time": "2022-06-17T05:45:12.190Z"
   },
   {
    "duration": 39,
    "start_time": "2022-06-17T05:45:12.196Z"
   },
   {
    "duration": 5,
    "start_time": "2022-06-17T05:45:12.236Z"
   },
   {
    "duration": 10,
    "start_time": "2022-06-17T05:45:12.243Z"
   },
   {
    "duration": 3,
    "start_time": "2022-06-17T05:45:12.254Z"
   },
   {
    "duration": 6,
    "start_time": "2022-06-17T05:45:12.258Z"
   },
   {
    "duration": 5,
    "start_time": "2022-06-17T05:45:12.265Z"
   },
   {
    "duration": 10,
    "start_time": "2022-06-17T05:45:12.271Z"
   },
   {
    "duration": 6,
    "start_time": "2022-06-17T05:45:12.282Z"
   },
   {
    "duration": 41,
    "start_time": "2022-06-17T05:45:12.289Z"
   },
   {
    "duration": 28,
    "start_time": "2022-06-17T05:45:12.331Z"
   },
   {
    "duration": 25,
    "start_time": "2022-06-17T05:45:12.362Z"
   },
   {
    "duration": 50,
    "start_time": "2022-06-17T05:45:12.388Z"
   },
   {
    "duration": 89,
    "start_time": "2022-06-17T05:45:12.440Z"
   },
   {
    "duration": 28,
    "start_time": "2022-06-17T05:45:12.531Z"
   },
   {
    "duration": 13,
    "start_time": "2022-06-17T05:45:27.992Z"
   },
   {
    "duration": 605,
    "start_time": "2022-06-17T09:03:27.883Z"
   },
   {
    "duration": 8,
    "start_time": "2022-06-17T09:03:29.126Z"
   },
   {
    "duration": 15,
    "start_time": "2022-06-17T09:03:29.254Z"
   },
   {
    "duration": 19,
    "start_time": "2022-06-17T09:03:29.686Z"
   },
   {
    "duration": 18,
    "start_time": "2022-06-17T09:03:29.963Z"
   },
   {
    "duration": 20,
    "start_time": "2022-06-17T09:03:30.235Z"
   },
   {
    "duration": 17,
    "start_time": "2022-06-17T09:03:31.139Z"
   },
   {
    "duration": 6,
    "start_time": "2022-06-17T09:03:31.215Z"
   },
   {
    "duration": 5,
    "start_time": "2022-06-17T09:03:31.391Z"
   },
   {
    "duration": 6,
    "start_time": "2022-06-17T09:03:31.567Z"
   },
   {
    "duration": 5,
    "start_time": "2022-06-17T09:03:31.642Z"
   },
   {
    "duration": 7,
    "start_time": "2022-06-17T09:03:31.726Z"
   },
   {
    "duration": 7,
    "start_time": "2022-06-17T09:03:31.798Z"
   },
   {
    "duration": 2,
    "start_time": "2022-06-17T09:03:31.975Z"
   },
   {
    "duration": 5,
    "start_time": "2022-06-17T09:03:32.310Z"
   },
   {
    "duration": 8,
    "start_time": "2022-06-17T09:03:32.383Z"
   },
   {
    "duration": 5,
    "start_time": "2022-06-17T09:03:32.546Z"
   },
   {
    "duration": 6,
    "start_time": "2022-06-17T09:03:32.726Z"
   },
   {
    "duration": 7,
    "start_time": "2022-06-17T09:03:33.447Z"
   },
   {
    "duration": 4,
    "start_time": "2022-06-17T09:03:33.586Z"
   },
   {
    "duration": 4,
    "start_time": "2022-06-17T09:03:33.874Z"
   },
   {
    "duration": 4,
    "start_time": "2022-06-17T09:03:34.303Z"
   },
   {
    "duration": 19,
    "start_time": "2022-06-17T09:03:34.746Z"
   },
   {
    "duration": 3,
    "start_time": "2022-06-17T09:03:34.867Z"
   },
   {
    "duration": 2,
    "start_time": "2022-06-17T09:03:35.819Z"
   },
   {
    "duration": 2,
    "start_time": "2022-06-17T09:03:35.963Z"
   },
   {
    "duration": 19,
    "start_time": "2022-06-17T09:03:36.415Z"
   },
   {
    "duration": 5,
    "start_time": "2022-06-17T09:03:37.086Z"
   },
   {
    "duration": 5,
    "start_time": "2022-06-17T09:03:37.246Z"
   },
   {
    "duration": 9,
    "start_time": "2022-06-17T09:03:37.647Z"
   },
   {
    "duration": 5,
    "start_time": "2022-06-17T09:03:37.971Z"
   },
   {
    "duration": 2,
    "start_time": "2022-06-17T09:03:38.615Z"
   },
   {
    "duration": 2,
    "start_time": "2022-06-17T09:03:39.111Z"
   },
   {
    "duration": 6,
    "start_time": "2022-06-17T09:03:39.438Z"
   },
   {
    "duration": 4,
    "start_time": "2022-06-17T09:03:39.795Z"
   },
   {
    "duration": 6,
    "start_time": "2022-06-17T09:03:39.935Z"
   },
   {
    "duration": 6,
    "start_time": "2022-06-17T09:03:42.331Z"
   },
   {
    "duration": 2,
    "start_time": "2022-06-17T09:03:42.610Z"
   },
   {
    "duration": 3,
    "start_time": "2022-06-17T09:03:42.762Z"
   },
   {
    "duration": 16,
    "start_time": "2022-06-17T09:03:43.035Z"
   },
   {
    "duration": 17,
    "start_time": "2022-06-17T09:03:43.495Z"
   },
   {
    "duration": 14,
    "start_time": "2022-06-17T09:03:43.667Z"
   },
   {
    "duration": 3,
    "start_time": "2022-06-17T09:03:43.835Z"
   },
   {
    "duration": 4,
    "start_time": "2022-06-17T09:03:44.979Z"
   },
   {
    "duration": 4,
    "start_time": "2022-06-17T09:03:46.363Z"
   },
   {
    "duration": 3,
    "start_time": "2022-06-17T09:03:47.086Z"
   },
   {
    "duration": 4,
    "start_time": "2022-06-17T09:03:47.246Z"
   },
   {
    "duration": 8,
    "start_time": "2022-06-17T09:03:47.395Z"
   },
   {
    "duration": 8,
    "start_time": "2022-06-17T09:03:47.790Z"
   },
   {
    "duration": 22,
    "start_time": "2022-06-17T09:03:49.466Z"
   },
   {
    "duration": 17,
    "start_time": "2022-06-17T09:03:49.590Z"
   },
   {
    "duration": 16,
    "start_time": "2022-06-17T09:03:50.287Z"
   },
   {
    "duration": 23,
    "start_time": "2022-06-17T09:03:55.667Z"
   },
   {
    "duration": 5,
    "start_time": "2022-06-17T09:03:56.874Z"
   },
   {
    "duration": 5,
    "start_time": "2022-06-17T09:04:40.071Z"
   },
   {
    "duration": 3,
    "start_time": "2022-06-17T09:04:46.999Z"
   },
   {
    "duration": 26,
    "start_time": "2022-06-17T09:05:53.203Z"
   },
   {
    "duration": 5,
    "start_time": "2022-06-17T09:05:56.910Z"
   },
   {
    "duration": 55,
    "start_time": "2022-06-17T09:09:18.143Z"
   }
  ],
  "kernelspec": {
   "display_name": "Python 3 (ipykernel)",
   "language": "python",
   "name": "python3"
  },
  "language_info": {
   "codemirror_mode": {
    "name": "ipython",
    "version": 3
   },
   "file_extension": ".py",
   "mimetype": "text/x-python",
   "name": "python",
   "nbconvert_exporter": "python",
   "pygments_lexer": "ipython3",
   "version": "3.9.5"
  },
  "toc": {
   "base_numbering": 1,
   "nav_menu": {},
   "number_sections": true,
   "sideBar": true,
   "skip_h1_title": true,
   "title_cell": "Table of Contents",
   "title_sidebar": "Contents",
   "toc_cell": false,
   "toc_position": {},
   "toc_section_display": true,
   "toc_window_display": false
  }
 },
 "nbformat": 4,
 "nbformat_minor": 2
}
