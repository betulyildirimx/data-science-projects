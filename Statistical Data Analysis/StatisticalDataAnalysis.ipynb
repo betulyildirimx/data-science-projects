{
 "cells": [
  {
   "cell_type": "markdown",
   "metadata": {},
   "source": [
    "# Which one is a better plan?\n",
    "\n",
    "You work as an analyst for the telecom operator Megaline. The company offers its clients two prepaid plans, Surf and Ultimate. The commercial department wants to know which of the plans brings in more revenue in order to adjust the advertising budget.\n",
    "\n",
    "You are going to carry out a preliminary analysis of the plans based on a relatively small client selection. You'll have the data on 500 Megaline clients: who the clients are, where they're from, which plan they use, and the number of calls they made and text messages they sent in 2018. Your job is to analyze the clients' behavior and determine which prepaid plan brings in more revenue."
   ]
  },
  {
   "cell_type": "markdown",
   "metadata": {},
   "source": [
    "## Initialization"
   ]
  },
  {
   "cell_type": "markdown",
   "metadata": {},
   "source": []
  },
  {
   "cell_type": "code",
   "execution_count": 2,
   "metadata": {},
   "outputs": [],
   "source": [
    "# Loading all the libraries\n",
    "import pandas as pd\n",
    "import numpy as np\n",
    "from scipy import stats as st\n",
    "from matplotlib import pyplot as plt\n",
    "from math import factorial\n",
    "import math"
   ]
  },
  {
   "cell_type": "markdown",
   "metadata": {},
   "source": [
    "## Load data"
   ]
  },
  {
   "cell_type": "markdown",
   "metadata": {},
   "source": []
  },
  {
   "cell_type": "code",
   "execution_count": 3,
   "metadata": {},
   "outputs": [],
   "source": [
    "# Loading the data files into different DataFrames\n",
    "\n",
    "calls = pd.read_csv('/datasets/megaline_calls.csv')\n",
    "internet = pd.read_csv('/datasets/megaline_internet.csv')\n",
    "messages = pd.read_csv('/datasets/megaline_messages.csv')\n",
    "plans = pd.read_csv('/datasets/megaline_plans.csv')\n",
    "users = pd.read_csv('/datasets/megaline_users.csv')"
   ]
  },
  {
   "cell_type": "markdown",
   "metadata": {},
   "source": [
    "## Prepare the data"
   ]
  },
  {
   "cell_type": "markdown",
   "metadata": {},
   "source": [
    "## Plans"
   ]
  },
  {
   "cell_type": "code",
   "execution_count": 4,
   "metadata": {},
   "outputs": [
    {
     "name": "stdout",
     "output_type": "stream",
     "text": [
      "<class 'pandas.core.frame.DataFrame'>\n",
      "RangeIndex: 2 entries, 0 to 1\n",
      "Data columns (total 8 columns):\n",
      " #   Column                 Non-Null Count  Dtype  \n",
      "---  ------                 --------------  -----  \n",
      " 0   messages_included      2 non-null      int64  \n",
      " 1   mb_per_month_included  2 non-null      int64  \n",
      " 2   minutes_included       2 non-null      int64  \n",
      " 3   usd_monthly_pay        2 non-null      int64  \n",
      " 4   usd_per_gb             2 non-null      int64  \n",
      " 5   usd_per_message        2 non-null      float64\n",
      " 6   usd_per_minute         2 non-null      float64\n",
      " 7   plan_name              2 non-null      object \n",
      "dtypes: float64(2), int64(5), object(1)\n",
      "memory usage: 256.0+ bytes\n"
     ]
    }
   ],
   "source": [
    "plans.info()\n"
   ]
  },
  {
   "cell_type": "code",
   "execution_count": 5,
   "metadata": {},
   "outputs": [
    {
     "data": {
      "text/html": [
       "<div>\n",
       "<style scoped>\n",
       "    .dataframe tbody tr th:only-of-type {\n",
       "        vertical-align: middle;\n",
       "    }\n",
       "\n",
       "    .dataframe tbody tr th {\n",
       "        vertical-align: top;\n",
       "    }\n",
       "\n",
       "    .dataframe thead th {\n",
       "        text-align: right;\n",
       "    }\n",
       "</style>\n",
       "<table border=\"1\" class=\"dataframe\">\n",
       "  <thead>\n",
       "    <tr style=\"text-align: right;\">\n",
       "      <th></th>\n",
       "      <th>messages_included</th>\n",
       "      <th>mb_per_month_included</th>\n",
       "      <th>minutes_included</th>\n",
       "      <th>usd_monthly_pay</th>\n",
       "      <th>usd_per_gb</th>\n",
       "      <th>usd_per_message</th>\n",
       "      <th>usd_per_minute</th>\n",
       "      <th>plan_name</th>\n",
       "    </tr>\n",
       "  </thead>\n",
       "  <tbody>\n",
       "    <tr>\n",
       "      <th>0</th>\n",
       "      <td>50</td>\n",
       "      <td>15360</td>\n",
       "      <td>500</td>\n",
       "      <td>20</td>\n",
       "      <td>10</td>\n",
       "      <td>0.03</td>\n",
       "      <td>0.03</td>\n",
       "      <td>surf</td>\n",
       "    </tr>\n",
       "    <tr>\n",
       "      <th>1</th>\n",
       "      <td>1000</td>\n",
       "      <td>30720</td>\n",
       "      <td>3000</td>\n",
       "      <td>70</td>\n",
       "      <td>7</td>\n",
       "      <td>0.01</td>\n",
       "      <td>0.01</td>\n",
       "      <td>ultimate</td>\n",
       "    </tr>\n",
       "  </tbody>\n",
       "</table>\n",
       "</div>"
      ],
      "text/plain": [
       "   messages_included  mb_per_month_included  minutes_included  \\\n",
       "0                 50                  15360               500   \n",
       "1               1000                  30720              3000   \n",
       "\n",
       "   usd_monthly_pay  usd_per_gb  usd_per_message  usd_per_minute plan_name  \n",
       "0               20          10             0.03            0.03      surf  \n",
       "1               70           7             0.01            0.01  ultimate  "
      ]
     },
     "execution_count": 5,
     "metadata": {},
     "output_type": "execute_result"
    }
   ],
   "source": [
    "plans.head()\n"
   ]
  },
  {
   "cell_type": "markdown",
   "metadata": {},
   "source": [
    " "
   ]
  },
  {
   "cell_type": "markdown",
   "metadata": {},
   "source": [
    "## Fix data"
   ]
  },
  {
   "cell_type": "code",
   "execution_count": 6,
   "metadata": {},
   "outputs": [
    {
     "data": {
      "text/html": [
       "<div>\n",
       "<style scoped>\n",
       "    .dataframe tbody tr th:only-of-type {\n",
       "        vertical-align: middle;\n",
       "    }\n",
       "\n",
       "    .dataframe tbody tr th {\n",
       "        vertical-align: top;\n",
       "    }\n",
       "\n",
       "    .dataframe thead th {\n",
       "        text-align: right;\n",
       "    }\n",
       "</style>\n",
       "<table border=\"1\" class=\"dataframe\">\n",
       "  <thead>\n",
       "    <tr style=\"text-align: right;\">\n",
       "      <th></th>\n",
       "      <th>messages_included</th>\n",
       "      <th>mb_per_month_included</th>\n",
       "      <th>minutes_included</th>\n",
       "      <th>usd_monthly_pay</th>\n",
       "      <th>usd_per_gb</th>\n",
       "      <th>usd_per_message</th>\n",
       "      <th>usd_per_minute</th>\n",
       "      <th>plan_name</th>\n",
       "    </tr>\n",
       "  </thead>\n",
       "  <tbody>\n",
       "    <tr>\n",
       "      <th>0</th>\n",
       "      <td>50</td>\n",
       "      <td>15360</td>\n",
       "      <td>500</td>\n",
       "      <td>20</td>\n",
       "      <td>10</td>\n",
       "      <td>0.03</td>\n",
       "      <td>0.03</td>\n",
       "      <td>surf</td>\n",
       "    </tr>\n",
       "    <tr>\n",
       "      <th>1</th>\n",
       "      <td>1000</td>\n",
       "      <td>30720</td>\n",
       "      <td>3000</td>\n",
       "      <td>70</td>\n",
       "      <td>7</td>\n",
       "      <td>0.01</td>\n",
       "      <td>0.01</td>\n",
       "      <td>ultimate</td>\n",
       "    </tr>\n",
       "  </tbody>\n",
       "</table>\n",
       "</div>"
      ],
      "text/plain": [
       "   messages_included  mb_per_month_included  minutes_included  \\\n",
       "0                 50                  15360               500   \n",
       "1               1000                  30720              3000   \n",
       "\n",
       "   usd_monthly_pay  usd_per_gb  usd_per_message  usd_per_minute plan_name  \n",
       "0               20          10             0.03            0.03      surf  \n",
       "1               70           7             0.01            0.01  ultimate  "
      ]
     },
     "execution_count": 6,
     "metadata": {},
     "output_type": "execute_result"
    }
   ],
   "source": [
    "plans"
   ]
  },
  {
   "cell_type": "markdown",
   "metadata": {},
   "source": [
    "## Enrich data"
   ]
  },
  {
   "cell_type": "code",
   "execution_count": 7,
   "metadata": {},
   "outputs": [
    {
     "data": {
      "text/html": [
       "<div>\n",
       "<style scoped>\n",
       "    .dataframe tbody tr th:only-of-type {\n",
       "        vertical-align: middle;\n",
       "    }\n",
       "\n",
       "    .dataframe tbody tr th {\n",
       "        vertical-align: top;\n",
       "    }\n",
       "\n",
       "    .dataframe thead th {\n",
       "        text-align: right;\n",
       "    }\n",
       "</style>\n",
       "<table border=\"1\" class=\"dataframe\">\n",
       "  <thead>\n",
       "    <tr style=\"text-align: right;\">\n",
       "      <th></th>\n",
       "      <th>user_id</th>\n",
       "      <th>first_name</th>\n",
       "      <th>last_name</th>\n",
       "      <th>age</th>\n",
       "      <th>city</th>\n",
       "      <th>reg_date</th>\n",
       "      <th>plan</th>\n",
       "      <th>churn_date</th>\n",
       "    </tr>\n",
       "  </thead>\n",
       "  <tbody>\n",
       "    <tr>\n",
       "      <th>0</th>\n",
       "      <td>1000</td>\n",
       "      <td>Anamaria</td>\n",
       "      <td>Bauer</td>\n",
       "      <td>45</td>\n",
       "      <td>Atlanta-Sandy Springs-Roswell, GA MSA</td>\n",
       "      <td>2018-12-24</td>\n",
       "      <td>ultimate</td>\n",
       "      <td>NaN</td>\n",
       "    </tr>\n",
       "    <tr>\n",
       "      <th>1</th>\n",
       "      <td>1001</td>\n",
       "      <td>Mickey</td>\n",
       "      <td>Wilkerson</td>\n",
       "      <td>28</td>\n",
       "      <td>Seattle-Tacoma-Bellevue, WA MSA</td>\n",
       "      <td>2018-08-13</td>\n",
       "      <td>surf</td>\n",
       "      <td>NaN</td>\n",
       "    </tr>\n",
       "    <tr>\n",
       "      <th>2</th>\n",
       "      <td>1002</td>\n",
       "      <td>Carlee</td>\n",
       "      <td>Hoffman</td>\n",
       "      <td>36</td>\n",
       "      <td>Las Vegas-Henderson-Paradise, NV MSA</td>\n",
       "      <td>2018-10-21</td>\n",
       "      <td>surf</td>\n",
       "      <td>NaN</td>\n",
       "    </tr>\n",
       "    <tr>\n",
       "      <th>3</th>\n",
       "      <td>1003</td>\n",
       "      <td>Reynaldo</td>\n",
       "      <td>Jenkins</td>\n",
       "      <td>52</td>\n",
       "      <td>Tulsa, OK MSA</td>\n",
       "      <td>2018-01-28</td>\n",
       "      <td>surf</td>\n",
       "      <td>NaN</td>\n",
       "    </tr>\n",
       "    <tr>\n",
       "      <th>4</th>\n",
       "      <td>1004</td>\n",
       "      <td>Leonila</td>\n",
       "      <td>Thompson</td>\n",
       "      <td>40</td>\n",
       "      <td>Seattle-Tacoma-Bellevue, WA MSA</td>\n",
       "      <td>2018-05-23</td>\n",
       "      <td>surf</td>\n",
       "      <td>NaN</td>\n",
       "    </tr>\n",
       "    <tr>\n",
       "      <th>...</th>\n",
       "      <td>...</td>\n",
       "      <td>...</td>\n",
       "      <td>...</td>\n",
       "      <td>...</td>\n",
       "      <td>...</td>\n",
       "      <td>...</td>\n",
       "      <td>...</td>\n",
       "      <td>...</td>\n",
       "    </tr>\n",
       "    <tr>\n",
       "      <th>495</th>\n",
       "      <td>1495</td>\n",
       "      <td>Fidel</td>\n",
       "      <td>Sharpe</td>\n",
       "      <td>67</td>\n",
       "      <td>New York-Newark-Jersey City, NY-NJ-PA MSA</td>\n",
       "      <td>2018-09-04</td>\n",
       "      <td>surf</td>\n",
       "      <td>NaN</td>\n",
       "    </tr>\n",
       "    <tr>\n",
       "      <th>496</th>\n",
       "      <td>1496</td>\n",
       "      <td>Ariel</td>\n",
       "      <td>Shepherd</td>\n",
       "      <td>49</td>\n",
       "      <td>New Orleans-Metairie, LA MSA</td>\n",
       "      <td>2018-02-20</td>\n",
       "      <td>surf</td>\n",
       "      <td>NaN</td>\n",
       "    </tr>\n",
       "    <tr>\n",
       "      <th>497</th>\n",
       "      <td>1497</td>\n",
       "      <td>Donte</td>\n",
       "      <td>Barrera</td>\n",
       "      <td>49</td>\n",
       "      <td>Los Angeles-Long Beach-Anaheim, CA MSA</td>\n",
       "      <td>2018-12-10</td>\n",
       "      <td>ultimate</td>\n",
       "      <td>NaN</td>\n",
       "    </tr>\n",
       "    <tr>\n",
       "      <th>498</th>\n",
       "      <td>1498</td>\n",
       "      <td>Scot</td>\n",
       "      <td>Williamson</td>\n",
       "      <td>51</td>\n",
       "      <td>New York-Newark-Jersey City, NY-NJ-PA MSA</td>\n",
       "      <td>2018-02-04</td>\n",
       "      <td>surf</td>\n",
       "      <td>NaN</td>\n",
       "    </tr>\n",
       "    <tr>\n",
       "      <th>499</th>\n",
       "      <td>1499</td>\n",
       "      <td>Shena</td>\n",
       "      <td>Dickson</td>\n",
       "      <td>37</td>\n",
       "      <td>Orlando-Kissimmee-Sanford, FL MSA</td>\n",
       "      <td>2018-05-06</td>\n",
       "      <td>surf</td>\n",
       "      <td>NaN</td>\n",
       "    </tr>\n",
       "  </tbody>\n",
       "</table>\n",
       "<p>500 rows × 8 columns</p>\n",
       "</div>"
      ],
      "text/plain": [
       "     user_id first_name   last_name  age  \\\n",
       "0       1000   Anamaria       Bauer   45   \n",
       "1       1001     Mickey   Wilkerson   28   \n",
       "2       1002     Carlee     Hoffman   36   \n",
       "3       1003   Reynaldo     Jenkins   52   \n",
       "4       1004    Leonila    Thompson   40   \n",
       "..       ...        ...         ...  ...   \n",
       "495     1495      Fidel      Sharpe   67   \n",
       "496     1496      Ariel    Shepherd   49   \n",
       "497     1497      Donte     Barrera   49   \n",
       "498     1498       Scot  Williamson   51   \n",
       "499     1499      Shena     Dickson   37   \n",
       "\n",
       "                                          city    reg_date      plan  \\\n",
       "0        Atlanta-Sandy Springs-Roswell, GA MSA  2018-12-24  ultimate   \n",
       "1              Seattle-Tacoma-Bellevue, WA MSA  2018-08-13      surf   \n",
       "2         Las Vegas-Henderson-Paradise, NV MSA  2018-10-21      surf   \n",
       "3                                Tulsa, OK MSA  2018-01-28      surf   \n",
       "4              Seattle-Tacoma-Bellevue, WA MSA  2018-05-23      surf   \n",
       "..                                         ...         ...       ...   \n",
       "495  New York-Newark-Jersey City, NY-NJ-PA MSA  2018-09-04      surf   \n",
       "496               New Orleans-Metairie, LA MSA  2018-02-20      surf   \n",
       "497     Los Angeles-Long Beach-Anaheim, CA MSA  2018-12-10  ultimate   \n",
       "498  New York-Newark-Jersey City, NY-NJ-PA MSA  2018-02-04      surf   \n",
       "499          Orlando-Kissimmee-Sanford, FL MSA  2018-05-06      surf   \n",
       "\n",
       "    churn_date  \n",
       "0          NaN  \n",
       "1          NaN  \n",
       "2          NaN  \n",
       "3          NaN  \n",
       "4          NaN  \n",
       "..         ...  \n",
       "495        NaN  \n",
       "496        NaN  \n",
       "497        NaN  \n",
       "498        NaN  \n",
       "499        NaN  \n",
       "\n",
       "[500 rows x 8 columns]"
      ]
     },
     "execution_count": 7,
     "metadata": {},
     "output_type": "execute_result"
    }
   ],
   "source": [
    "users"
   ]
  },
  {
   "cell_type": "markdown",
   "metadata": {},
   "source": [
    "## Users"
   ]
  },
  {
   "cell_type": "code",
   "execution_count": 8,
   "metadata": {},
   "outputs": [
    {
     "name": "stdout",
     "output_type": "stream",
     "text": [
      "<class 'pandas.core.frame.DataFrame'>\n",
      "RangeIndex: 500 entries, 0 to 499\n",
      "Data columns (total 8 columns):\n",
      " #   Column      Non-Null Count  Dtype \n",
      "---  ------      --------------  ----- \n",
      " 0   user_id     500 non-null    int64 \n",
      " 1   first_name  500 non-null    object\n",
      " 2   last_name   500 non-null    object\n",
      " 3   age         500 non-null    int64 \n",
      " 4   city        500 non-null    object\n",
      " 5   reg_date    500 non-null    object\n",
      " 6   plan        500 non-null    object\n",
      " 7   churn_date  34 non-null     object\n",
      "dtypes: int64(2), object(6)\n",
      "memory usage: 31.4+ KB\n"
     ]
    }
   ],
   "source": [
    "users.info()\n"
   ]
  },
  {
   "cell_type": "code",
   "execution_count": 9,
   "metadata": {},
   "outputs": [
    {
     "data": {
      "text/html": [
       "<div>\n",
       "<style scoped>\n",
       "    .dataframe tbody tr th:only-of-type {\n",
       "        vertical-align: middle;\n",
       "    }\n",
       "\n",
       "    .dataframe tbody tr th {\n",
       "        vertical-align: top;\n",
       "    }\n",
       "\n",
       "    .dataframe thead th {\n",
       "        text-align: right;\n",
       "    }\n",
       "</style>\n",
       "<table border=\"1\" class=\"dataframe\">\n",
       "  <thead>\n",
       "    <tr style=\"text-align: right;\">\n",
       "      <th></th>\n",
       "      <th>user_id</th>\n",
       "      <th>first_name</th>\n",
       "      <th>last_name</th>\n",
       "      <th>age</th>\n",
       "      <th>city</th>\n",
       "      <th>reg_date</th>\n",
       "      <th>plan</th>\n",
       "      <th>churn_date</th>\n",
       "    </tr>\n",
       "  </thead>\n",
       "  <tbody>\n",
       "    <tr>\n",
       "      <th>0</th>\n",
       "      <td>1000</td>\n",
       "      <td>Anamaria</td>\n",
       "      <td>Bauer</td>\n",
       "      <td>45</td>\n",
       "      <td>Atlanta-Sandy Springs-Roswell, GA MSA</td>\n",
       "      <td>2018-12-24</td>\n",
       "      <td>ultimate</td>\n",
       "      <td>NaN</td>\n",
       "    </tr>\n",
       "    <tr>\n",
       "      <th>1</th>\n",
       "      <td>1001</td>\n",
       "      <td>Mickey</td>\n",
       "      <td>Wilkerson</td>\n",
       "      <td>28</td>\n",
       "      <td>Seattle-Tacoma-Bellevue, WA MSA</td>\n",
       "      <td>2018-08-13</td>\n",
       "      <td>surf</td>\n",
       "      <td>NaN</td>\n",
       "    </tr>\n",
       "    <tr>\n",
       "      <th>2</th>\n",
       "      <td>1002</td>\n",
       "      <td>Carlee</td>\n",
       "      <td>Hoffman</td>\n",
       "      <td>36</td>\n",
       "      <td>Las Vegas-Henderson-Paradise, NV MSA</td>\n",
       "      <td>2018-10-21</td>\n",
       "      <td>surf</td>\n",
       "      <td>NaN</td>\n",
       "    </tr>\n",
       "    <tr>\n",
       "      <th>3</th>\n",
       "      <td>1003</td>\n",
       "      <td>Reynaldo</td>\n",
       "      <td>Jenkins</td>\n",
       "      <td>52</td>\n",
       "      <td>Tulsa, OK MSA</td>\n",
       "      <td>2018-01-28</td>\n",
       "      <td>surf</td>\n",
       "      <td>NaN</td>\n",
       "    </tr>\n",
       "    <tr>\n",
       "      <th>4</th>\n",
       "      <td>1004</td>\n",
       "      <td>Leonila</td>\n",
       "      <td>Thompson</td>\n",
       "      <td>40</td>\n",
       "      <td>Seattle-Tacoma-Bellevue, WA MSA</td>\n",
       "      <td>2018-05-23</td>\n",
       "      <td>surf</td>\n",
       "      <td>NaN</td>\n",
       "    </tr>\n",
       "    <tr>\n",
       "      <th>5</th>\n",
       "      <td>1005</td>\n",
       "      <td>Livia</td>\n",
       "      <td>Shields</td>\n",
       "      <td>31</td>\n",
       "      <td>Dallas-Fort Worth-Arlington, TX MSA</td>\n",
       "      <td>2018-11-29</td>\n",
       "      <td>surf</td>\n",
       "      <td>NaN</td>\n",
       "    </tr>\n",
       "    <tr>\n",
       "      <th>6</th>\n",
       "      <td>1006</td>\n",
       "      <td>Jesusa</td>\n",
       "      <td>Bradford</td>\n",
       "      <td>73</td>\n",
       "      <td>San Francisco-Oakland-Berkeley, CA MSA</td>\n",
       "      <td>2018-11-27</td>\n",
       "      <td>ultimate</td>\n",
       "      <td>2018-12-18</td>\n",
       "    </tr>\n",
       "    <tr>\n",
       "      <th>7</th>\n",
       "      <td>1007</td>\n",
       "      <td>Eusebio</td>\n",
       "      <td>Welch</td>\n",
       "      <td>42</td>\n",
       "      <td>Grand Rapids-Kentwood, MI MSA</td>\n",
       "      <td>2018-07-11</td>\n",
       "      <td>surf</td>\n",
       "      <td>NaN</td>\n",
       "    </tr>\n",
       "    <tr>\n",
       "      <th>8</th>\n",
       "      <td>1008</td>\n",
       "      <td>Emely</td>\n",
       "      <td>Hoffman</td>\n",
       "      <td>53</td>\n",
       "      <td>Orlando-Kissimmee-Sanford, FL MSA</td>\n",
       "      <td>2018-08-03</td>\n",
       "      <td>ultimate</td>\n",
       "      <td>NaN</td>\n",
       "    </tr>\n",
       "    <tr>\n",
       "      <th>9</th>\n",
       "      <td>1009</td>\n",
       "      <td>Gerry</td>\n",
       "      <td>Little</td>\n",
       "      <td>19</td>\n",
       "      <td>San Jose-Sunnyvale-Santa Clara, CA MSA</td>\n",
       "      <td>2018-04-22</td>\n",
       "      <td>surf</td>\n",
       "      <td>NaN</td>\n",
       "    </tr>\n",
       "  </tbody>\n",
       "</table>\n",
       "</div>"
      ],
      "text/plain": [
       "   user_id first_name  last_name  age                                    city  \\\n",
       "0     1000   Anamaria      Bauer   45   Atlanta-Sandy Springs-Roswell, GA MSA   \n",
       "1     1001     Mickey  Wilkerson   28         Seattle-Tacoma-Bellevue, WA MSA   \n",
       "2     1002     Carlee    Hoffman   36    Las Vegas-Henderson-Paradise, NV MSA   \n",
       "3     1003   Reynaldo    Jenkins   52                           Tulsa, OK MSA   \n",
       "4     1004    Leonila   Thompson   40         Seattle-Tacoma-Bellevue, WA MSA   \n",
       "5     1005      Livia    Shields   31     Dallas-Fort Worth-Arlington, TX MSA   \n",
       "6     1006     Jesusa   Bradford   73  San Francisco-Oakland-Berkeley, CA MSA   \n",
       "7     1007    Eusebio      Welch   42           Grand Rapids-Kentwood, MI MSA   \n",
       "8     1008      Emely    Hoffman   53       Orlando-Kissimmee-Sanford, FL MSA   \n",
       "9     1009      Gerry     Little   19  San Jose-Sunnyvale-Santa Clara, CA MSA   \n",
       "\n",
       "     reg_date      plan  churn_date  \n",
       "0  2018-12-24  ultimate         NaN  \n",
       "1  2018-08-13      surf         NaN  \n",
       "2  2018-10-21      surf         NaN  \n",
       "3  2018-01-28      surf         NaN  \n",
       "4  2018-05-23      surf         NaN  \n",
       "5  2018-11-29      surf         NaN  \n",
       "6  2018-11-27  ultimate  2018-12-18  \n",
       "7  2018-07-11      surf         NaN  \n",
       "8  2018-08-03  ultimate         NaN  \n",
       "9  2018-04-22      surf         NaN  "
      ]
     },
     "execution_count": 9,
     "metadata": {},
     "output_type": "execute_result"
    }
   ],
   "source": [
    "users.head(10)"
   ]
  },
  {
   "cell_type": "markdown",
   "metadata": {},
   "source": [
    "The format of reg_date column should be datetime64 to be able to analyze. I will also categorize the ages into three categories such as young adult, adult, and senior. This might help me to understand the usage of different age groups in case I need to analyze it further. \n"
   ]
  },
  {
   "cell_type": "markdown",
   "metadata": {},
   "source": [
    " "
   ]
  },
  {
   "cell_type": "markdown",
   "metadata": {},
   "source": [
    "\n",
    "### Fix Data"
   ]
  },
  {
   "cell_type": "code",
   "execution_count": 10,
   "metadata": {},
   "outputs": [],
   "source": [
    "users['reg_date'] = pd.to_datetime(users['reg_date'], format='%Y-%m-%d')"
   ]
  },
  {
   "cell_type": "markdown",
   "metadata": {},
   "source": [
    "### Enrich Data"
   ]
  },
  {
   "cell_type": "code",
   "execution_count": 11,
   "metadata": {},
   "outputs": [],
   "source": [
    "def age_categories(age):\n",
    "    if  18 <= age <= 25:\n",
    "        return 'young adult'\n",
    "    if 25 < age <= 65:\n",
    "        return 'adult'\n",
    "    if age > 65:\n",
    "        return 'senior'\n",
    "\n",
    "users['age'] = users['age'].apply(age_categories)"
   ]
  },
  {
   "cell_type": "markdown",
   "metadata": {},
   "source": [
    "## Calls"
   ]
  },
  {
   "cell_type": "code",
   "execution_count": 12,
   "metadata": {},
   "outputs": [
    {
     "name": "stdout",
     "output_type": "stream",
     "text": [
      "<class 'pandas.core.frame.DataFrame'>\n",
      "RangeIndex: 137735 entries, 0 to 137734\n",
      "Data columns (total 4 columns):\n",
      " #   Column     Non-Null Count   Dtype  \n",
      "---  ------     --------------   -----  \n",
      " 0   id         137735 non-null  object \n",
      " 1   user_id    137735 non-null  int64  \n",
      " 2   call_date  137735 non-null  object \n",
      " 3   duration   137735 non-null  float64\n",
      "dtypes: float64(1), int64(1), object(2)\n",
      "memory usage: 4.2+ MB\n"
     ]
    }
   ],
   "source": [
    "calls.info()"
   ]
  },
  {
   "cell_type": "code",
   "execution_count": 13,
   "metadata": {},
   "outputs": [
    {
     "data": {
      "text/html": [
       "<div>\n",
       "<style scoped>\n",
       "    .dataframe tbody tr th:only-of-type {\n",
       "        vertical-align: middle;\n",
       "    }\n",
       "\n",
       "    .dataframe tbody tr th {\n",
       "        vertical-align: top;\n",
       "    }\n",
       "\n",
       "    .dataframe thead th {\n",
       "        text-align: right;\n",
       "    }\n",
       "</style>\n",
       "<table border=\"1\" class=\"dataframe\">\n",
       "  <thead>\n",
       "    <tr style=\"text-align: right;\">\n",
       "      <th></th>\n",
       "      <th>id</th>\n",
       "      <th>user_id</th>\n",
       "      <th>call_date</th>\n",
       "      <th>duration</th>\n",
       "    </tr>\n",
       "  </thead>\n",
       "  <tbody>\n",
       "    <tr>\n",
       "      <th>0</th>\n",
       "      <td>1000_93</td>\n",
       "      <td>1000</td>\n",
       "      <td>2018-12-27</td>\n",
       "      <td>8.52</td>\n",
       "    </tr>\n",
       "    <tr>\n",
       "      <th>1</th>\n",
       "      <td>1000_145</td>\n",
       "      <td>1000</td>\n",
       "      <td>2018-12-27</td>\n",
       "      <td>13.66</td>\n",
       "    </tr>\n",
       "    <tr>\n",
       "      <th>2</th>\n",
       "      <td>1000_247</td>\n",
       "      <td>1000</td>\n",
       "      <td>2018-12-27</td>\n",
       "      <td>14.48</td>\n",
       "    </tr>\n",
       "    <tr>\n",
       "      <th>3</th>\n",
       "      <td>1000_309</td>\n",
       "      <td>1000</td>\n",
       "      <td>2018-12-28</td>\n",
       "      <td>5.76</td>\n",
       "    </tr>\n",
       "    <tr>\n",
       "      <th>4</th>\n",
       "      <td>1000_380</td>\n",
       "      <td>1000</td>\n",
       "      <td>2018-12-30</td>\n",
       "      <td>4.22</td>\n",
       "    </tr>\n",
       "    <tr>\n",
       "      <th>5</th>\n",
       "      <td>1000_388</td>\n",
       "      <td>1000</td>\n",
       "      <td>2018-12-31</td>\n",
       "      <td>2.20</td>\n",
       "    </tr>\n",
       "    <tr>\n",
       "      <th>6</th>\n",
       "      <td>1000_510</td>\n",
       "      <td>1000</td>\n",
       "      <td>2018-12-27</td>\n",
       "      <td>5.75</td>\n",
       "    </tr>\n",
       "    <tr>\n",
       "      <th>7</th>\n",
       "      <td>1000_521</td>\n",
       "      <td>1000</td>\n",
       "      <td>2018-12-28</td>\n",
       "      <td>14.18</td>\n",
       "    </tr>\n",
       "    <tr>\n",
       "      <th>8</th>\n",
       "      <td>1000_530</td>\n",
       "      <td>1000</td>\n",
       "      <td>2018-12-28</td>\n",
       "      <td>5.77</td>\n",
       "    </tr>\n",
       "    <tr>\n",
       "      <th>9</th>\n",
       "      <td>1000_544</td>\n",
       "      <td>1000</td>\n",
       "      <td>2018-12-26</td>\n",
       "      <td>4.40</td>\n",
       "    </tr>\n",
       "    <tr>\n",
       "      <th>10</th>\n",
       "      <td>1000_693</td>\n",
       "      <td>1000</td>\n",
       "      <td>2018-12-31</td>\n",
       "      <td>4.31</td>\n",
       "    </tr>\n",
       "    <tr>\n",
       "      <th>11</th>\n",
       "      <td>1000_705</td>\n",
       "      <td>1000</td>\n",
       "      <td>2018-12-31</td>\n",
       "      <td>12.78</td>\n",
       "    </tr>\n",
       "    <tr>\n",
       "      <th>12</th>\n",
       "      <td>1000_735</td>\n",
       "      <td>1000</td>\n",
       "      <td>2018-12-29</td>\n",
       "      <td>1.70</td>\n",
       "    </tr>\n",
       "    <tr>\n",
       "      <th>13</th>\n",
       "      <td>1000_778</td>\n",
       "      <td>1000</td>\n",
       "      <td>2018-12-28</td>\n",
       "      <td>3.29</td>\n",
       "    </tr>\n",
       "    <tr>\n",
       "      <th>14</th>\n",
       "      <td>1000_826</td>\n",
       "      <td>1000</td>\n",
       "      <td>2018-12-26</td>\n",
       "      <td>9.96</td>\n",
       "    </tr>\n",
       "    <tr>\n",
       "      <th>15</th>\n",
       "      <td>1000_842</td>\n",
       "      <td>1000</td>\n",
       "      <td>2018-12-27</td>\n",
       "      <td>5.85</td>\n",
       "    </tr>\n",
       "    <tr>\n",
       "      <th>16</th>\n",
       "      <td>1001_0</td>\n",
       "      <td>1001</td>\n",
       "      <td>2018-09-06</td>\n",
       "      <td>10.06</td>\n",
       "    </tr>\n",
       "    <tr>\n",
       "      <th>17</th>\n",
       "      <td>1001_1</td>\n",
       "      <td>1001</td>\n",
       "      <td>2018-10-12</td>\n",
       "      <td>1.00</td>\n",
       "    </tr>\n",
       "    <tr>\n",
       "      <th>18</th>\n",
       "      <td>1001_2</td>\n",
       "      <td>1001</td>\n",
       "      <td>2018-10-17</td>\n",
       "      <td>15.83</td>\n",
       "    </tr>\n",
       "    <tr>\n",
       "      <th>19</th>\n",
       "      <td>1001_4</td>\n",
       "      <td>1001</td>\n",
       "      <td>2018-12-05</td>\n",
       "      <td>0.00</td>\n",
       "    </tr>\n",
       "  </tbody>\n",
       "</table>\n",
       "</div>"
      ],
      "text/plain": [
       "          id  user_id   call_date  duration\n",
       "0    1000_93     1000  2018-12-27      8.52\n",
       "1   1000_145     1000  2018-12-27     13.66\n",
       "2   1000_247     1000  2018-12-27     14.48\n",
       "3   1000_309     1000  2018-12-28      5.76\n",
       "4   1000_380     1000  2018-12-30      4.22\n",
       "5   1000_388     1000  2018-12-31      2.20\n",
       "6   1000_510     1000  2018-12-27      5.75\n",
       "7   1000_521     1000  2018-12-28     14.18\n",
       "8   1000_530     1000  2018-12-28      5.77\n",
       "9   1000_544     1000  2018-12-26      4.40\n",
       "10  1000_693     1000  2018-12-31      4.31\n",
       "11  1000_705     1000  2018-12-31     12.78\n",
       "12  1000_735     1000  2018-12-29      1.70\n",
       "13  1000_778     1000  2018-12-28      3.29\n",
       "14  1000_826     1000  2018-12-26      9.96\n",
       "15  1000_842     1000  2018-12-27      5.85\n",
       "16    1001_0     1001  2018-09-06     10.06\n",
       "17    1001_1     1001  2018-10-12      1.00\n",
       "18    1001_2     1001  2018-10-17     15.83\n",
       "19    1001_4     1001  2018-12-05      0.00"
      ]
     },
     "execution_count": 13,
     "metadata": {},
     "output_type": "execute_result"
    }
   ],
   "source": [
    "calls.head(20)"
   ]
  },
  {
   "cell_type": "markdown",
   "metadata": {},
   "source": [
    "\n",
    "\n",
    "The format of call_date column should be datetime64 to be able to analyze. I will also round up duration column and sort values by user_id and call_date. "
   ]
  },
  {
   "cell_type": "markdown",
   "metadata": {},
   "source": [
    " "
   ]
  },
  {
   "cell_type": "markdown",
   "metadata": {},
   "source": [
    "### Fix data"
   ]
  },
  {
   "cell_type": "code",
   "execution_count": 14,
   "metadata": {},
   "outputs": [],
   "source": [
    "calls['call_date'] = pd.to_datetime(calls['call_date'], format='%Y-%m-%d')"
   ]
  },
  {
   "cell_type": "markdown",
   "metadata": {},
   "source": [
    "### Enrich data"
   ]
  },
  {
   "cell_type": "code",
   "execution_count": 15,
   "metadata": {},
   "outputs": [],
   "source": [
    "calls['duration'] = calls['duration'].apply(np.ceil)"
   ]
  },
  {
   "cell_type": "code",
   "execution_count": 16,
   "metadata": {},
   "outputs": [
    {
     "data": {
      "text/html": [
       "<div>\n",
       "<style scoped>\n",
       "    .dataframe tbody tr th:only-of-type {\n",
       "        vertical-align: middle;\n",
       "    }\n",
       "\n",
       "    .dataframe tbody tr th {\n",
       "        vertical-align: top;\n",
       "    }\n",
       "\n",
       "    .dataframe thead th {\n",
       "        text-align: right;\n",
       "    }\n",
       "</style>\n",
       "<table border=\"1\" class=\"dataframe\">\n",
       "  <thead>\n",
       "    <tr style=\"text-align: right;\">\n",
       "      <th></th>\n",
       "      <th>id</th>\n",
       "      <th>user_id</th>\n",
       "      <th>call_date</th>\n",
       "      <th>duration</th>\n",
       "    </tr>\n",
       "  </thead>\n",
       "  <tbody>\n",
       "    <tr>\n",
       "      <th>0</th>\n",
       "      <td>1000_544</td>\n",
       "      <td>1000</td>\n",
       "      <td>2018-12-26</td>\n",
       "      <td>5.0</td>\n",
       "    </tr>\n",
       "    <tr>\n",
       "      <th>1</th>\n",
       "      <td>1000_826</td>\n",
       "      <td>1000</td>\n",
       "      <td>2018-12-26</td>\n",
       "      <td>10.0</td>\n",
       "    </tr>\n",
       "    <tr>\n",
       "      <th>2</th>\n",
       "      <td>1000_93</td>\n",
       "      <td>1000</td>\n",
       "      <td>2018-12-27</td>\n",
       "      <td>9.0</td>\n",
       "    </tr>\n",
       "    <tr>\n",
       "      <th>3</th>\n",
       "      <td>1000_145</td>\n",
       "      <td>1000</td>\n",
       "      <td>2018-12-27</td>\n",
       "      <td>14.0</td>\n",
       "    </tr>\n",
       "    <tr>\n",
       "      <th>4</th>\n",
       "      <td>1000_247</td>\n",
       "      <td>1000</td>\n",
       "      <td>2018-12-27</td>\n",
       "      <td>15.0</td>\n",
       "    </tr>\n",
       "    <tr>\n",
       "      <th>...</th>\n",
       "      <td>...</td>\n",
       "      <td>...</td>\n",
       "      <td>...</td>\n",
       "      <td>...</td>\n",
       "    </tr>\n",
       "    <tr>\n",
       "      <th>137730</th>\n",
       "      <td>1499_177</td>\n",
       "      <td>1499</td>\n",
       "      <td>2018-12-29</td>\n",
       "      <td>8.0</td>\n",
       "    </tr>\n",
       "    <tr>\n",
       "      <th>137731</th>\n",
       "      <td>1499_203</td>\n",
       "      <td>1499</td>\n",
       "      <td>2018-12-29</td>\n",
       "      <td>14.0</td>\n",
       "    </tr>\n",
       "    <tr>\n",
       "      <th>137732</th>\n",
       "      <td>1499_107</td>\n",
       "      <td>1499</td>\n",
       "      <td>2018-12-30</td>\n",
       "      <td>5.0</td>\n",
       "    </tr>\n",
       "    <tr>\n",
       "      <th>137733</th>\n",
       "      <td>1499_56</td>\n",
       "      <td>1499</td>\n",
       "      <td>2018-12-31</td>\n",
       "      <td>17.0</td>\n",
       "    </tr>\n",
       "    <tr>\n",
       "      <th>137734</th>\n",
       "      <td>1499_178</td>\n",
       "      <td>1499</td>\n",
       "      <td>2018-12-31</td>\n",
       "      <td>19.0</td>\n",
       "    </tr>\n",
       "  </tbody>\n",
       "</table>\n",
       "<p>137735 rows × 4 columns</p>\n",
       "</div>"
      ],
      "text/plain": [
       "              id  user_id  call_date  duration\n",
       "0       1000_544     1000 2018-12-26       5.0\n",
       "1       1000_826     1000 2018-12-26      10.0\n",
       "2        1000_93     1000 2018-12-27       9.0\n",
       "3       1000_145     1000 2018-12-27      14.0\n",
       "4       1000_247     1000 2018-12-27      15.0\n",
       "...          ...      ...        ...       ...\n",
       "137730  1499_177     1499 2018-12-29       8.0\n",
       "137731  1499_203     1499 2018-12-29      14.0\n",
       "137732  1499_107     1499 2018-12-30       5.0\n",
       "137733   1499_56     1499 2018-12-31      17.0\n",
       "137734  1499_178     1499 2018-12-31      19.0\n",
       "\n",
       "[137735 rows x 4 columns]"
      ]
     },
     "execution_count": 16,
     "metadata": {},
     "output_type": "execute_result"
    }
   ],
   "source": [
    "calls.sort_values(by=['user_id','call_date'], inplace=True)\n",
    "calls.reset_index(drop=True)"
   ]
  },
  {
   "cell_type": "markdown",
   "metadata": {},
   "source": [
    "## Messages"
   ]
  },
  {
   "cell_type": "code",
   "execution_count": 17,
   "metadata": {},
   "outputs": [
    {
     "name": "stdout",
     "output_type": "stream",
     "text": [
      "<class 'pandas.core.frame.DataFrame'>\n",
      "RangeIndex: 76051 entries, 0 to 76050\n",
      "Data columns (total 3 columns):\n",
      " #   Column        Non-Null Count  Dtype \n",
      "---  ------        --------------  ----- \n",
      " 0   id            76051 non-null  object\n",
      " 1   user_id       76051 non-null  int64 \n",
      " 2   message_date  76051 non-null  object\n",
      "dtypes: int64(1), object(2)\n",
      "memory usage: 1.7+ MB\n"
     ]
    }
   ],
   "source": [
    "messages.info()"
   ]
  },
  {
   "cell_type": "code",
   "execution_count": 18,
   "metadata": {},
   "outputs": [
    {
     "data": {
      "text/html": [
       "<div>\n",
       "<style scoped>\n",
       "    .dataframe tbody tr th:only-of-type {\n",
       "        vertical-align: middle;\n",
       "    }\n",
       "\n",
       "    .dataframe tbody tr th {\n",
       "        vertical-align: top;\n",
       "    }\n",
       "\n",
       "    .dataframe thead th {\n",
       "        text-align: right;\n",
       "    }\n",
       "</style>\n",
       "<table border=\"1\" class=\"dataframe\">\n",
       "  <thead>\n",
       "    <tr style=\"text-align: right;\">\n",
       "      <th></th>\n",
       "      <th>id</th>\n",
       "      <th>user_id</th>\n",
       "      <th>message_date</th>\n",
       "    </tr>\n",
       "  </thead>\n",
       "  <tbody>\n",
       "    <tr>\n",
       "      <th>0</th>\n",
       "      <td>1000_125</td>\n",
       "      <td>1000</td>\n",
       "      <td>2018-12-27</td>\n",
       "    </tr>\n",
       "    <tr>\n",
       "      <th>1</th>\n",
       "      <td>1000_160</td>\n",
       "      <td>1000</td>\n",
       "      <td>2018-12-31</td>\n",
       "    </tr>\n",
       "    <tr>\n",
       "      <th>2</th>\n",
       "      <td>1000_223</td>\n",
       "      <td>1000</td>\n",
       "      <td>2018-12-31</td>\n",
       "    </tr>\n",
       "    <tr>\n",
       "      <th>3</th>\n",
       "      <td>1000_251</td>\n",
       "      <td>1000</td>\n",
       "      <td>2018-12-27</td>\n",
       "    </tr>\n",
       "    <tr>\n",
       "      <th>4</th>\n",
       "      <td>1000_255</td>\n",
       "      <td>1000</td>\n",
       "      <td>2018-12-26</td>\n",
       "    </tr>\n",
       "    <tr>\n",
       "      <th>5</th>\n",
       "      <td>1000_346</td>\n",
       "      <td>1000</td>\n",
       "      <td>2018-12-29</td>\n",
       "    </tr>\n",
       "    <tr>\n",
       "      <th>6</th>\n",
       "      <td>1000_386</td>\n",
       "      <td>1000</td>\n",
       "      <td>2018-12-30</td>\n",
       "    </tr>\n",
       "    <tr>\n",
       "      <th>7</th>\n",
       "      <td>1000_413</td>\n",
       "      <td>1000</td>\n",
       "      <td>2018-12-31</td>\n",
       "    </tr>\n",
       "    <tr>\n",
       "      <th>8</th>\n",
       "      <td>1000_502</td>\n",
       "      <td>1000</td>\n",
       "      <td>2018-12-27</td>\n",
       "    </tr>\n",
       "    <tr>\n",
       "      <th>9</th>\n",
       "      <td>1000_525</td>\n",
       "      <td>1000</td>\n",
       "      <td>2018-12-28</td>\n",
       "    </tr>\n",
       "  </tbody>\n",
       "</table>\n",
       "</div>"
      ],
      "text/plain": [
       "         id  user_id message_date\n",
       "0  1000_125     1000   2018-12-27\n",
       "1  1000_160     1000   2018-12-31\n",
       "2  1000_223     1000   2018-12-31\n",
       "3  1000_251     1000   2018-12-27\n",
       "4  1000_255     1000   2018-12-26\n",
       "5  1000_346     1000   2018-12-29\n",
       "6  1000_386     1000   2018-12-30\n",
       "7  1000_413     1000   2018-12-31\n",
       "8  1000_502     1000   2018-12-27\n",
       "9  1000_525     1000   2018-12-28"
      ]
     },
     "execution_count": 18,
     "metadata": {},
     "output_type": "execute_result"
    }
   ],
   "source": [
    "messages.head(10)\n"
   ]
  },
  {
   "cell_type": "markdown",
   "metadata": {},
   "source": [
    "The format of message_date column should be datetime64 to be able to analyze. I will also sort values by user_id and message_date. "
   ]
  },
  {
   "cell_type": "markdown",
   "metadata": {},
   "source": [
    " "
   ]
  },
  {
   "cell_type": "markdown",
   "metadata": {},
   "source": [
    "### Fix data"
   ]
  },
  {
   "cell_type": "code",
   "execution_count": 19,
   "metadata": {},
   "outputs": [],
   "source": [
    "messages['message_date'] = pd.to_datetime(messages['message_date'], format='%Y-%m-%d')"
   ]
  },
  {
   "cell_type": "markdown",
   "metadata": {},
   "source": [
    "### Enrich data"
   ]
  },
  {
   "cell_type": "code",
   "execution_count": 20,
   "metadata": {},
   "outputs": [
    {
     "data": {
      "text/html": [
       "<div>\n",
       "<style scoped>\n",
       "    .dataframe tbody tr th:only-of-type {\n",
       "        vertical-align: middle;\n",
       "    }\n",
       "\n",
       "    .dataframe tbody tr th {\n",
       "        vertical-align: top;\n",
       "    }\n",
       "\n",
       "    .dataframe thead th {\n",
       "        text-align: right;\n",
       "    }\n",
       "</style>\n",
       "<table border=\"1\" class=\"dataframe\">\n",
       "  <thead>\n",
       "    <tr style=\"text-align: right;\">\n",
       "      <th></th>\n",
       "      <th>id</th>\n",
       "      <th>user_id</th>\n",
       "      <th>message_date</th>\n",
       "    </tr>\n",
       "  </thead>\n",
       "  <tbody>\n",
       "    <tr>\n",
       "      <th>0</th>\n",
       "      <td>1000_567</td>\n",
       "      <td>1000</td>\n",
       "      <td>2018-12-25</td>\n",
       "    </tr>\n",
       "    <tr>\n",
       "      <th>1</th>\n",
       "      <td>1000_255</td>\n",
       "      <td>1000</td>\n",
       "      <td>2018-12-26</td>\n",
       "    </tr>\n",
       "    <tr>\n",
       "      <th>2</th>\n",
       "      <td>1000_125</td>\n",
       "      <td>1000</td>\n",
       "      <td>2018-12-27</td>\n",
       "    </tr>\n",
       "    <tr>\n",
       "      <th>3</th>\n",
       "      <td>1000_251</td>\n",
       "      <td>1000</td>\n",
       "      <td>2018-12-27</td>\n",
       "    </tr>\n",
       "    <tr>\n",
       "      <th>4</th>\n",
       "      <td>1000_502</td>\n",
       "      <td>1000</td>\n",
       "      <td>2018-12-27</td>\n",
       "    </tr>\n",
       "    <tr>\n",
       "      <th>...</th>\n",
       "      <td>...</td>\n",
       "      <td>...</td>\n",
       "      <td>...</td>\n",
       "    </tr>\n",
       "    <tr>\n",
       "      <th>76046</th>\n",
       "      <td>1497_480</td>\n",
       "      <td>1497</td>\n",
       "      <td>2018-12-29</td>\n",
       "    </tr>\n",
       "    <tr>\n",
       "      <th>76047</th>\n",
       "      <td>1497_503</td>\n",
       "      <td>1497</td>\n",
       "      <td>2018-12-29</td>\n",
       "    </tr>\n",
       "    <tr>\n",
       "      <th>76048</th>\n",
       "      <td>1497_502</td>\n",
       "      <td>1497</td>\n",
       "      <td>2018-12-30</td>\n",
       "    </tr>\n",
       "    <tr>\n",
       "      <th>76049</th>\n",
       "      <td>1497_341</td>\n",
       "      <td>1497</td>\n",
       "      <td>2018-12-31</td>\n",
       "    </tr>\n",
       "    <tr>\n",
       "      <th>76050</th>\n",
       "      <td>1497_547</td>\n",
       "      <td>1497</td>\n",
       "      <td>2018-12-31</td>\n",
       "    </tr>\n",
       "  </tbody>\n",
       "</table>\n",
       "<p>76051 rows × 3 columns</p>\n",
       "</div>"
      ],
      "text/plain": [
       "             id  user_id message_date\n",
       "0      1000_567     1000   2018-12-25\n",
       "1      1000_255     1000   2018-12-26\n",
       "2      1000_125     1000   2018-12-27\n",
       "3      1000_251     1000   2018-12-27\n",
       "4      1000_502     1000   2018-12-27\n",
       "...         ...      ...          ...\n",
       "76046  1497_480     1497   2018-12-29\n",
       "76047  1497_503     1497   2018-12-29\n",
       "76048  1497_502     1497   2018-12-30\n",
       "76049  1497_341     1497   2018-12-31\n",
       "76050  1497_547     1497   2018-12-31\n",
       "\n",
       "[76051 rows x 3 columns]"
      ]
     },
     "execution_count": 20,
     "metadata": {},
     "output_type": "execute_result"
    }
   ],
   "source": [
    "messages.sort_values(by=['user_id','message_date'], inplace=True)\n",
    "messages.reset_index(drop=True)"
   ]
  },
  {
   "cell_type": "markdown",
   "metadata": {},
   "source": [
    "## Internet"
   ]
  },
  {
   "cell_type": "code",
   "execution_count": 21,
   "metadata": {},
   "outputs": [
    {
     "name": "stdout",
     "output_type": "stream",
     "text": [
      "<class 'pandas.core.frame.DataFrame'>\n",
      "RangeIndex: 104825 entries, 0 to 104824\n",
      "Data columns (total 4 columns):\n",
      " #   Column        Non-Null Count   Dtype  \n",
      "---  ------        --------------   -----  \n",
      " 0   id            104825 non-null  object \n",
      " 1   user_id       104825 non-null  int64  \n",
      " 2   session_date  104825 non-null  object \n",
      " 3   mb_used       104825 non-null  float64\n",
      "dtypes: float64(1), int64(1), object(2)\n",
      "memory usage: 3.2+ MB\n"
     ]
    }
   ],
   "source": [
    "internet.info()\n"
   ]
  },
  {
   "cell_type": "code",
   "execution_count": 22,
   "metadata": {},
   "outputs": [
    {
     "data": {
      "text/html": [
       "<div>\n",
       "<style scoped>\n",
       "    .dataframe tbody tr th:only-of-type {\n",
       "        vertical-align: middle;\n",
       "    }\n",
       "\n",
       "    .dataframe tbody tr th {\n",
       "        vertical-align: top;\n",
       "    }\n",
       "\n",
       "    .dataframe thead th {\n",
       "        text-align: right;\n",
       "    }\n",
       "</style>\n",
       "<table border=\"1\" class=\"dataframe\">\n",
       "  <thead>\n",
       "    <tr style=\"text-align: right;\">\n",
       "      <th></th>\n",
       "      <th>id</th>\n",
       "      <th>user_id</th>\n",
       "      <th>session_date</th>\n",
       "      <th>mb_used</th>\n",
       "    </tr>\n",
       "  </thead>\n",
       "  <tbody>\n",
       "    <tr>\n",
       "      <th>0</th>\n",
       "      <td>1000_13</td>\n",
       "      <td>1000</td>\n",
       "      <td>2018-12-29</td>\n",
       "      <td>89.86</td>\n",
       "    </tr>\n",
       "    <tr>\n",
       "      <th>1</th>\n",
       "      <td>1000_204</td>\n",
       "      <td>1000</td>\n",
       "      <td>2018-12-31</td>\n",
       "      <td>0.00</td>\n",
       "    </tr>\n",
       "    <tr>\n",
       "      <th>2</th>\n",
       "      <td>1000_379</td>\n",
       "      <td>1000</td>\n",
       "      <td>2018-12-28</td>\n",
       "      <td>660.40</td>\n",
       "    </tr>\n",
       "    <tr>\n",
       "      <th>3</th>\n",
       "      <td>1000_413</td>\n",
       "      <td>1000</td>\n",
       "      <td>2018-12-26</td>\n",
       "      <td>270.99</td>\n",
       "    </tr>\n",
       "    <tr>\n",
       "      <th>4</th>\n",
       "      <td>1000_442</td>\n",
       "      <td>1000</td>\n",
       "      <td>2018-12-27</td>\n",
       "      <td>880.22</td>\n",
       "    </tr>\n",
       "    <tr>\n",
       "      <th>5</th>\n",
       "      <td>1001_0</td>\n",
       "      <td>1001</td>\n",
       "      <td>2018-08-24</td>\n",
       "      <td>284.68</td>\n",
       "    </tr>\n",
       "    <tr>\n",
       "      <th>6</th>\n",
       "      <td>1001_3</td>\n",
       "      <td>1001</td>\n",
       "      <td>2018-12-09</td>\n",
       "      <td>656.04</td>\n",
       "    </tr>\n",
       "    <tr>\n",
       "      <th>7</th>\n",
       "      <td>1001_4</td>\n",
       "      <td>1001</td>\n",
       "      <td>2018-11-04</td>\n",
       "      <td>16.97</td>\n",
       "    </tr>\n",
       "    <tr>\n",
       "      <th>8</th>\n",
       "      <td>1001_10</td>\n",
       "      <td>1001</td>\n",
       "      <td>2018-11-27</td>\n",
       "      <td>135.18</td>\n",
       "    </tr>\n",
       "    <tr>\n",
       "      <th>9</th>\n",
       "      <td>1001_15</td>\n",
       "      <td>1001</td>\n",
       "      <td>2018-12-13</td>\n",
       "      <td>761.92</td>\n",
       "    </tr>\n",
       "  </tbody>\n",
       "</table>\n",
       "</div>"
      ],
      "text/plain": [
       "         id  user_id session_date  mb_used\n",
       "0   1000_13     1000   2018-12-29    89.86\n",
       "1  1000_204     1000   2018-12-31     0.00\n",
       "2  1000_379     1000   2018-12-28   660.40\n",
       "3  1000_413     1000   2018-12-26   270.99\n",
       "4  1000_442     1000   2018-12-27   880.22\n",
       "5    1001_0     1001   2018-08-24   284.68\n",
       "6    1001_3     1001   2018-12-09   656.04\n",
       "7    1001_4     1001   2018-11-04    16.97\n",
       "8   1001_10     1001   2018-11-27   135.18\n",
       "9   1001_15     1001   2018-12-13   761.92"
      ]
     },
     "execution_count": 22,
     "metadata": {},
     "output_type": "execute_result"
    }
   ],
   "source": [
    "internet.head(10)\n"
   ]
  },
  {
   "cell_type": "markdown",
   "metadata": {},
   "source": [
    "The format of session_date column should be datetime64 to be able to analyze. I will also sort values by user_id and session_date. "
   ]
  },
  {
   "cell_type": "markdown",
   "metadata": {},
   "source": [
    " "
   ]
  },
  {
   "cell_type": "markdown",
   "metadata": {},
   "source": [
    "### Fix data"
   ]
  },
  {
   "cell_type": "code",
   "execution_count": 23,
   "metadata": {},
   "outputs": [],
   "source": [
    "internet['session_date'] = pd.to_datetime(internet['session_date'], format='%Y-%m-%d')"
   ]
  },
  {
   "cell_type": "markdown",
   "metadata": {},
   "source": [
    "### Enrich data"
   ]
  },
  {
   "cell_type": "code",
   "execution_count": 24,
   "metadata": {},
   "outputs": [],
   "source": [
    "internet.sort_values(by=['user_id','session_date'], inplace=True)\n",
    "internet = internet.reset_index(drop=True)\n"
   ]
  },
  {
   "cell_type": "code",
   "execution_count": 25,
   "metadata": {},
   "outputs": [],
   "source": [
    "internet['gb_used'] = internet['mb_used'] / 1024"
   ]
  },
  {
   "cell_type": "markdown",
   "metadata": {},
   "source": [
    "## Study plan conditions"
   ]
  },
  {
   "cell_type": "code",
   "execution_count": 26,
   "metadata": {},
   "outputs": [
    {
     "data": {
      "text/html": [
       "<div>\n",
       "<style scoped>\n",
       "    .dataframe tbody tr th:only-of-type {\n",
       "        vertical-align: middle;\n",
       "    }\n",
       "\n",
       "    .dataframe tbody tr th {\n",
       "        vertical-align: top;\n",
       "    }\n",
       "\n",
       "    .dataframe thead th {\n",
       "        text-align: right;\n",
       "    }\n",
       "</style>\n",
       "<table border=\"1\" class=\"dataframe\">\n",
       "  <thead>\n",
       "    <tr style=\"text-align: right;\">\n",
       "      <th></th>\n",
       "      <th>messages_included</th>\n",
       "      <th>mb_per_month_included</th>\n",
       "      <th>minutes_included</th>\n",
       "      <th>usd_monthly_pay</th>\n",
       "      <th>usd_per_gb</th>\n",
       "      <th>usd_per_message</th>\n",
       "      <th>usd_per_minute</th>\n",
       "      <th>plan_name</th>\n",
       "    </tr>\n",
       "  </thead>\n",
       "  <tbody>\n",
       "    <tr>\n",
       "      <th>0</th>\n",
       "      <td>50</td>\n",
       "      <td>15360</td>\n",
       "      <td>500</td>\n",
       "      <td>20</td>\n",
       "      <td>10</td>\n",
       "      <td>0.03</td>\n",
       "      <td>0.03</td>\n",
       "      <td>surf</td>\n",
       "    </tr>\n",
       "    <tr>\n",
       "      <th>1</th>\n",
       "      <td>1000</td>\n",
       "      <td>30720</td>\n",
       "      <td>3000</td>\n",
       "      <td>70</td>\n",
       "      <td>7</td>\n",
       "      <td>0.01</td>\n",
       "      <td>0.01</td>\n",
       "      <td>ultimate</td>\n",
       "    </tr>\n",
       "  </tbody>\n",
       "</table>\n",
       "</div>"
      ],
      "text/plain": [
       "   messages_included  mb_per_month_included  minutes_included  \\\n",
       "0                 50                  15360               500   \n",
       "1               1000                  30720              3000   \n",
       "\n",
       "   usd_monthly_pay  usd_per_gb  usd_per_message  usd_per_minute plan_name  \n",
       "0               20          10             0.03            0.03      surf  \n",
       "1               70           7             0.01            0.01  ultimate  "
      ]
     },
     "execution_count": 26,
     "metadata": {},
     "output_type": "execute_result"
    }
   ],
   "source": [
    "plans"
   ]
  },
  {
   "cell_type": "code",
   "execution_count": 27,
   "metadata": {},
   "outputs": [],
   "source": [
    "# Calculating the number of calls made by each user per month. Save the result.\n",
    "number_calls = calls.groupby(['user_id', calls.call_date.dt.month]).agg('size')\n",
    "number_calls = number_calls.to_frame(name= 'number_calls')\n",
    "number_calls.index.names = ['user_id', 'month']"
   ]
  },
  {
   "cell_type": "code",
   "execution_count": 28,
   "metadata": {},
   "outputs": [],
   "source": [
    "# Calculating the amount of minutes spent by each user per month. \n",
    "minutes_spent = calls.groupby(['user_id', calls.call_date.dt.month]).agg('sum')\n",
    "minutes_spent.index.names = ['user_id', 'month']"
   ]
  },
  {
   "cell_type": "code",
   "execution_count": 29,
   "metadata": {},
   "outputs": [],
   "source": [
    "# Calculating the number of messages sent by each user per month. \n",
    "number_messages = messages.groupby(['user_id', messages.message_date.dt.month]).agg('size')\n",
    "number_messages = number_messages.to_frame(name= 'number_messages')\n",
    "number_messages.index.names = ['user_id', 'month']"
   ]
  },
  {
   "cell_type": "code",
   "execution_count": 30,
   "metadata": {},
   "outputs": [],
   "source": [
    "# Calculating the volume of internet traffic used by each user per month. \n",
    "internet_spent = internet.groupby(['user_id', internet.session_date.dt.month]).agg('sum')\n",
    "internet_spent.index.names = ['user_id', 'month']"
   ]
  },
  {
   "cell_type": "code",
   "execution_count": 31,
   "metadata": {},
   "outputs": [],
   "source": [
    "#Rounding up internet usage at the end of each month\n",
    "def roundup(x):\n",
    "    return int(math.ceil(x / 100.0)) * 100\n",
    "\n",
    "internet_spent['mb_used'] = internet_spent['mb_used'].apply(roundup)\n",
    "internet_spent['gb_used'] = internet_spent['gb_used'].apply(np.ceil)"
   ]
  },
  {
   "cell_type": "code",
   "execution_count": 32,
   "metadata": {},
   "outputs": [],
   "source": [
    "users.set_index('user_id', inplace=True)"
   ]
  },
  {
   "cell_type": "code",
   "execution_count": 33,
   "metadata": {},
   "outputs": [
    {
     "data": {
      "text/html": [
       "<div>\n",
       "<style scoped>\n",
       "    .dataframe tbody tr th:only-of-type {\n",
       "        vertical-align: middle;\n",
       "    }\n",
       "\n",
       "    .dataframe tbody tr th {\n",
       "        vertical-align: top;\n",
       "    }\n",
       "\n",
       "    .dataframe thead th {\n",
       "        text-align: right;\n",
       "    }\n",
       "</style>\n",
       "<table border=\"1\" class=\"dataframe\">\n",
       "  <thead>\n",
       "    <tr style=\"text-align: right;\">\n",
       "      <th></th>\n",
       "      <th></th>\n",
       "      <th>number_calls</th>\n",
       "      <th>duration</th>\n",
       "      <th>number_messages</th>\n",
       "      <th>mb_used</th>\n",
       "      <th>gb_used</th>\n",
       "    </tr>\n",
       "    <tr>\n",
       "      <th>user_id</th>\n",
       "      <th>month</th>\n",
       "      <th></th>\n",
       "      <th></th>\n",
       "      <th></th>\n",
       "      <th></th>\n",
       "      <th></th>\n",
       "    </tr>\n",
       "  </thead>\n",
       "  <tbody>\n",
       "    <tr>\n",
       "      <th>1000</th>\n",
       "      <th>12</th>\n",
       "      <td>16.0</td>\n",
       "      <td>124.0</td>\n",
       "      <td>11.0</td>\n",
       "      <td>2000.0</td>\n",
       "      <td>2.0</td>\n",
       "    </tr>\n",
       "    <tr>\n",
       "      <th rowspan=\"4\" valign=\"top\">1001</th>\n",
       "      <th>8</th>\n",
       "      <td>27.0</td>\n",
       "      <td>182.0</td>\n",
       "      <td>30.0</td>\n",
       "      <td>7000.0</td>\n",
       "      <td>7.0</td>\n",
       "    </tr>\n",
       "    <tr>\n",
       "      <th>9</th>\n",
       "      <td>49.0</td>\n",
       "      <td>315.0</td>\n",
       "      <td>44.0</td>\n",
       "      <td>13400.0</td>\n",
       "      <td>14.0</td>\n",
       "    </tr>\n",
       "    <tr>\n",
       "      <th>10</th>\n",
       "      <td>65.0</td>\n",
       "      <td>393.0</td>\n",
       "      <td>53.0</td>\n",
       "      <td>22400.0</td>\n",
       "      <td>22.0</td>\n",
       "    </tr>\n",
       "    <tr>\n",
       "      <th>11</th>\n",
       "      <td>64.0</td>\n",
       "      <td>426.0</td>\n",
       "      <td>36.0</td>\n",
       "      <td>18600.0</td>\n",
       "      <td>19.0</td>\n",
       "    </tr>\n",
       "    <tr>\n",
       "      <th>...</th>\n",
       "      <th>...</th>\n",
       "      <td>...</td>\n",
       "      <td>...</td>\n",
       "      <td>...</td>\n",
       "      <td>...</td>\n",
       "      <td>...</td>\n",
       "    </tr>\n",
       "    <tr>\n",
       "      <th>1349</th>\n",
       "      <th>12</th>\n",
       "      <td>NaN</td>\n",
       "      <td>NaN</td>\n",
       "      <td>61.0</td>\n",
       "      <td>13100.0</td>\n",
       "      <td>13.0</td>\n",
       "    </tr>\n",
       "    <tr>\n",
       "      <th>1361</th>\n",
       "      <th>5</th>\n",
       "      <td>NaN</td>\n",
       "      <td>NaN</td>\n",
       "      <td>2.0</td>\n",
       "      <td>1600.0</td>\n",
       "      <td>2.0</td>\n",
       "    </tr>\n",
       "    <tr>\n",
       "      <th>1482</th>\n",
       "      <th>10</th>\n",
       "      <td>NaN</td>\n",
       "      <td>NaN</td>\n",
       "      <td>2.0</td>\n",
       "      <td>NaN</td>\n",
       "      <td>NaN</td>\n",
       "    </tr>\n",
       "    <tr>\n",
       "      <th>1108</th>\n",
       "      <th>12</th>\n",
       "      <td>NaN</td>\n",
       "      <td>NaN</td>\n",
       "      <td>NaN</td>\n",
       "      <td>300.0</td>\n",
       "      <td>1.0</td>\n",
       "    </tr>\n",
       "    <tr>\n",
       "      <th>1311</th>\n",
       "      <th>6</th>\n",
       "      <td>NaN</td>\n",
       "      <td>NaN</td>\n",
       "      <td>NaN</td>\n",
       "      <td>1500.0</td>\n",
       "      <td>2.0</td>\n",
       "    </tr>\n",
       "  </tbody>\n",
       "</table>\n",
       "<p>2293 rows × 5 columns</p>\n",
       "</div>"
      ],
      "text/plain": [
       "               number_calls  duration  number_messages  mb_used  gb_used\n",
       "user_id month                                                           \n",
       "1000    12             16.0     124.0             11.0   2000.0      2.0\n",
       "1001    8              27.0     182.0             30.0   7000.0      7.0\n",
       "        9              49.0     315.0             44.0  13400.0     14.0\n",
       "        10             65.0     393.0             53.0  22400.0     22.0\n",
       "        11             64.0     426.0             36.0  18600.0     19.0\n",
       "...                     ...       ...              ...      ...      ...\n",
       "1349    12              NaN       NaN             61.0  13100.0     13.0\n",
       "1361    5               NaN       NaN              2.0   1600.0      2.0\n",
       "1482    10              NaN       NaN              2.0      NaN      NaN\n",
       "1108    12              NaN       NaN              NaN    300.0      1.0\n",
       "1311    6               NaN       NaN              NaN   1500.0      2.0\n",
       "\n",
       "[2293 rows x 5 columns]"
      ]
     },
     "execution_count": 33,
     "metadata": {},
     "output_type": "execute_result"
    }
   ],
   "source": [
    "# Merging the data for calls, minutes, messages, internet based on user_id and month\n",
    "data = number_calls\\\n",
    "    .merge(minutes_spent,how ='outer', on=['user_id', 'month'])\\\n",
    "    .merge(number_messages,how ='outer', on=['user_id', 'month'])\\\n",
    "    .merge(internet_spent, how='outer', on=['user_id', 'month'])\n",
    "\n",
    "data"
   ]
  },
  {
   "cell_type": "code",
   "execution_count": 34,
   "metadata": {},
   "outputs": [],
   "source": [
    "data.reset_index(inplace=True)"
   ]
  },
  {
   "cell_type": "code",
   "execution_count": 35,
   "metadata": {},
   "outputs": [],
   "source": [
    "data.fillna(0, inplace=True)"
   ]
  },
  {
   "cell_type": "code",
   "execution_count": 36,
   "metadata": {},
   "outputs": [],
   "source": [
    "new_data=users.merge(data, how='outer', on='user_id')"
   ]
  },
  {
   "cell_type": "code",
   "execution_count": 37,
   "metadata": {
    "scrolled": true
   },
   "outputs": [
    {
     "data": {
      "text/html": [
       "<div>\n",
       "<style scoped>\n",
       "    .dataframe tbody tr th:only-of-type {\n",
       "        vertical-align: middle;\n",
       "    }\n",
       "\n",
       "    .dataframe tbody tr th {\n",
       "        vertical-align: top;\n",
       "    }\n",
       "\n",
       "    .dataframe thead th {\n",
       "        text-align: right;\n",
       "    }\n",
       "</style>\n",
       "<table border=\"1\" class=\"dataframe\">\n",
       "  <thead>\n",
       "    <tr style=\"text-align: right;\">\n",
       "      <th></th>\n",
       "      <th>user_id</th>\n",
       "      <th>first_name</th>\n",
       "      <th>last_name</th>\n",
       "      <th>age</th>\n",
       "      <th>city</th>\n",
       "      <th>reg_date</th>\n",
       "      <th>plan</th>\n",
       "      <th>churn_date</th>\n",
       "      <th>month</th>\n",
       "      <th>number_calls</th>\n",
       "      <th>...</th>\n",
       "      <th>number_messages</th>\n",
       "      <th>mb_used</th>\n",
       "      <th>gb_used</th>\n",
       "      <th>messages_included</th>\n",
       "      <th>mb_per_month_included</th>\n",
       "      <th>minutes_included</th>\n",
       "      <th>usd_monthly_pay</th>\n",
       "      <th>usd_per_gb</th>\n",
       "      <th>usd_per_message</th>\n",
       "      <th>usd_per_minute</th>\n",
       "    </tr>\n",
       "  </thead>\n",
       "  <tbody>\n",
       "    <tr>\n",
       "      <th>0</th>\n",
       "      <td>1000</td>\n",
       "      <td>Anamaria</td>\n",
       "      <td>Bauer</td>\n",
       "      <td>adult</td>\n",
       "      <td>Atlanta-Sandy Springs-Roswell, GA MSA</td>\n",
       "      <td>2018-12-24</td>\n",
       "      <td>ultimate</td>\n",
       "      <td>NaN</td>\n",
       "      <td>12.0</td>\n",
       "      <td>16.0</td>\n",
       "      <td>...</td>\n",
       "      <td>11.0</td>\n",
       "      <td>2000.0</td>\n",
       "      <td>2.0</td>\n",
       "      <td>1000</td>\n",
       "      <td>30720</td>\n",
       "      <td>3000</td>\n",
       "      <td>70</td>\n",
       "      <td>7</td>\n",
       "      <td>0.01</td>\n",
       "      <td>0.01</td>\n",
       "    </tr>\n",
       "    <tr>\n",
       "      <th>726</th>\n",
       "      <td>1001</td>\n",
       "      <td>Mickey</td>\n",
       "      <td>Wilkerson</td>\n",
       "      <td>adult</td>\n",
       "      <td>Seattle-Tacoma-Bellevue, WA MSA</td>\n",
       "      <td>2018-08-13</td>\n",
       "      <td>surf</td>\n",
       "      <td>NaN</td>\n",
       "      <td>10.0</td>\n",
       "      <td>65.0</td>\n",
       "      <td>...</td>\n",
       "      <td>53.0</td>\n",
       "      <td>22400.0</td>\n",
       "      <td>22.0</td>\n",
       "      <td>50</td>\n",
       "      <td>15360</td>\n",
       "      <td>500</td>\n",
       "      <td>20</td>\n",
       "      <td>10</td>\n",
       "      <td>0.03</td>\n",
       "      <td>0.03</td>\n",
       "    </tr>\n",
       "    <tr>\n",
       "      <th>727</th>\n",
       "      <td>1001</td>\n",
       "      <td>Mickey</td>\n",
       "      <td>Wilkerson</td>\n",
       "      <td>adult</td>\n",
       "      <td>Seattle-Tacoma-Bellevue, WA MSA</td>\n",
       "      <td>2018-08-13</td>\n",
       "      <td>surf</td>\n",
       "      <td>NaN</td>\n",
       "      <td>11.0</td>\n",
       "      <td>64.0</td>\n",
       "      <td>...</td>\n",
       "      <td>36.0</td>\n",
       "      <td>18600.0</td>\n",
       "      <td>19.0</td>\n",
       "      <td>50</td>\n",
       "      <td>15360</td>\n",
       "      <td>500</td>\n",
       "      <td>20</td>\n",
       "      <td>10</td>\n",
       "      <td>0.03</td>\n",
       "      <td>0.03</td>\n",
       "    </tr>\n",
       "    <tr>\n",
       "      <th>728</th>\n",
       "      <td>1001</td>\n",
       "      <td>Mickey</td>\n",
       "      <td>Wilkerson</td>\n",
       "      <td>adult</td>\n",
       "      <td>Seattle-Tacoma-Bellevue, WA MSA</td>\n",
       "      <td>2018-08-13</td>\n",
       "      <td>surf</td>\n",
       "      <td>NaN</td>\n",
       "      <td>12.0</td>\n",
       "      <td>56.0</td>\n",
       "      <td>...</td>\n",
       "      <td>44.0</td>\n",
       "      <td>19400.0</td>\n",
       "      <td>19.0</td>\n",
       "      <td>50</td>\n",
       "      <td>15360</td>\n",
       "      <td>500</td>\n",
       "      <td>20</td>\n",
       "      <td>10</td>\n",
       "      <td>0.03</td>\n",
       "      <td>0.03</td>\n",
       "    </tr>\n",
       "    <tr>\n",
       "      <th>725</th>\n",
       "      <td>1001</td>\n",
       "      <td>Mickey</td>\n",
       "      <td>Wilkerson</td>\n",
       "      <td>adult</td>\n",
       "      <td>Seattle-Tacoma-Bellevue, WA MSA</td>\n",
       "      <td>2018-08-13</td>\n",
       "      <td>surf</td>\n",
       "      <td>NaN</td>\n",
       "      <td>9.0</td>\n",
       "      <td>49.0</td>\n",
       "      <td>...</td>\n",
       "      <td>44.0</td>\n",
       "      <td>13400.0</td>\n",
       "      <td>14.0</td>\n",
       "      <td>50</td>\n",
       "      <td>15360</td>\n",
       "      <td>500</td>\n",
       "      <td>20</td>\n",
       "      <td>10</td>\n",
       "      <td>0.03</td>\n",
       "      <td>0.03</td>\n",
       "    </tr>\n",
       "    <tr>\n",
       "      <th>...</th>\n",
       "      <td>...</td>\n",
       "      <td>...</td>\n",
       "      <td>...</td>\n",
       "      <td>...</td>\n",
       "      <td>...</td>\n",
       "      <td>...</td>\n",
       "      <td>...</td>\n",
       "      <td>...</td>\n",
       "      <td>...</td>\n",
       "      <td>...</td>\n",
       "      <td>...</td>\n",
       "      <td>...</td>\n",
       "      <td>...</td>\n",
       "      <td>...</td>\n",
       "      <td>...</td>\n",
       "      <td>...</td>\n",
       "      <td>...</td>\n",
       "      <td>...</td>\n",
       "      <td>...</td>\n",
       "      <td>...</td>\n",
       "      <td>...</td>\n",
       "    </tr>\n",
       "    <tr>\n",
       "      <th>2297</th>\n",
       "      <td>1498</td>\n",
       "      <td>Scot</td>\n",
       "      <td>Williamson</td>\n",
       "      <td>adult</td>\n",
       "      <td>New York-Newark-Jersey City, NY-NJ-PA MSA</td>\n",
       "      <td>2018-02-04</td>\n",
       "      <td>surf</td>\n",
       "      <td>NaN</td>\n",
       "      <td>11.0</td>\n",
       "      <td>41.0</td>\n",
       "      <td>...</td>\n",
       "      <td>0.0</td>\n",
       "      <td>19200.0</td>\n",
       "      <td>19.0</td>\n",
       "      <td>50</td>\n",
       "      <td>15360</td>\n",
       "      <td>500</td>\n",
       "      <td>20</td>\n",
       "      <td>10</td>\n",
       "      <td>0.03</td>\n",
       "      <td>0.03</td>\n",
       "    </tr>\n",
       "    <tr>\n",
       "      <th>2300</th>\n",
       "      <td>1499</td>\n",
       "      <td>Shena</td>\n",
       "      <td>Dickson</td>\n",
       "      <td>adult</td>\n",
       "      <td>Orlando-Kissimmee-Sanford, FL MSA</td>\n",
       "      <td>2018-05-06</td>\n",
       "      <td>surf</td>\n",
       "      <td>NaN</td>\n",
       "      <td>10.0</td>\n",
       "      <td>53.0</td>\n",
       "      <td>...</td>\n",
       "      <td>0.0</td>\n",
       "      <td>19500.0</td>\n",
       "      <td>20.0</td>\n",
       "      <td>50</td>\n",
       "      <td>15360</td>\n",
       "      <td>500</td>\n",
       "      <td>20</td>\n",
       "      <td>10</td>\n",
       "      <td>0.03</td>\n",
       "      <td>0.03</td>\n",
       "    </tr>\n",
       "    <tr>\n",
       "      <th>2301</th>\n",
       "      <td>1499</td>\n",
       "      <td>Shena</td>\n",
       "      <td>Dickson</td>\n",
       "      <td>adult</td>\n",
       "      <td>Orlando-Kissimmee-Sanford, FL MSA</td>\n",
       "      <td>2018-05-06</td>\n",
       "      <td>surf</td>\n",
       "      <td>NaN</td>\n",
       "      <td>11.0</td>\n",
       "      <td>45.0</td>\n",
       "      <td>...</td>\n",
       "      <td>0.0</td>\n",
       "      <td>16900.0</td>\n",
       "      <td>17.0</td>\n",
       "      <td>50</td>\n",
       "      <td>15360</td>\n",
       "      <td>500</td>\n",
       "      <td>20</td>\n",
       "      <td>10</td>\n",
       "      <td>0.03</td>\n",
       "      <td>0.03</td>\n",
       "    </tr>\n",
       "    <tr>\n",
       "      <th>2299</th>\n",
       "      <td>1499</td>\n",
       "      <td>Shena</td>\n",
       "      <td>Dickson</td>\n",
       "      <td>adult</td>\n",
       "      <td>Orlando-Kissimmee-Sanford, FL MSA</td>\n",
       "      <td>2018-05-06</td>\n",
       "      <td>surf</td>\n",
       "      <td>NaN</td>\n",
       "      <td>9.0</td>\n",
       "      <td>41.0</td>\n",
       "      <td>...</td>\n",
       "      <td>0.0</td>\n",
       "      <td>13000.0</td>\n",
       "      <td>13.0</td>\n",
       "      <td>50</td>\n",
       "      <td>15360</td>\n",
       "      <td>500</td>\n",
       "      <td>20</td>\n",
       "      <td>10</td>\n",
       "      <td>0.03</td>\n",
       "      <td>0.03</td>\n",
       "    </tr>\n",
       "    <tr>\n",
       "      <th>2302</th>\n",
       "      <td>1499</td>\n",
       "      <td>Shena</td>\n",
       "      <td>Dickson</td>\n",
       "      <td>adult</td>\n",
       "      <td>Orlando-Kissimmee-Sanford, FL MSA</td>\n",
       "      <td>2018-05-06</td>\n",
       "      <td>surf</td>\n",
       "      <td>NaN</td>\n",
       "      <td>12.0</td>\n",
       "      <td>65.0</td>\n",
       "      <td>...</td>\n",
       "      <td>0.0</td>\n",
       "      <td>22100.0</td>\n",
       "      <td>22.0</td>\n",
       "      <td>50</td>\n",
       "      <td>15360</td>\n",
       "      <td>500</td>\n",
       "      <td>20</td>\n",
       "      <td>10</td>\n",
       "      <td>0.03</td>\n",
       "      <td>0.03</td>\n",
       "    </tr>\n",
       "  </tbody>\n",
       "</table>\n",
       "<p>2303 rows × 21 columns</p>\n",
       "</div>"
      ],
      "text/plain": [
       "      user_id first_name   last_name    age  \\\n",
       "0        1000   Anamaria       Bauer  adult   \n",
       "726      1001     Mickey   Wilkerson  adult   \n",
       "727      1001     Mickey   Wilkerson  adult   \n",
       "728      1001     Mickey   Wilkerson  adult   \n",
       "725      1001     Mickey   Wilkerson  adult   \n",
       "...       ...        ...         ...    ...   \n",
       "2297     1498       Scot  Williamson  adult   \n",
       "2300     1499      Shena     Dickson  adult   \n",
       "2301     1499      Shena     Dickson  adult   \n",
       "2299     1499      Shena     Dickson  adult   \n",
       "2302     1499      Shena     Dickson  adult   \n",
       "\n",
       "                                           city   reg_date      plan  \\\n",
       "0         Atlanta-Sandy Springs-Roswell, GA MSA 2018-12-24  ultimate   \n",
       "726             Seattle-Tacoma-Bellevue, WA MSA 2018-08-13      surf   \n",
       "727             Seattle-Tacoma-Bellevue, WA MSA 2018-08-13      surf   \n",
       "728             Seattle-Tacoma-Bellevue, WA MSA 2018-08-13      surf   \n",
       "725             Seattle-Tacoma-Bellevue, WA MSA 2018-08-13      surf   \n",
       "...                                         ...        ...       ...   \n",
       "2297  New York-Newark-Jersey City, NY-NJ-PA MSA 2018-02-04      surf   \n",
       "2300          Orlando-Kissimmee-Sanford, FL MSA 2018-05-06      surf   \n",
       "2301          Orlando-Kissimmee-Sanford, FL MSA 2018-05-06      surf   \n",
       "2299          Orlando-Kissimmee-Sanford, FL MSA 2018-05-06      surf   \n",
       "2302          Orlando-Kissimmee-Sanford, FL MSA 2018-05-06      surf   \n",
       "\n",
       "     churn_date  month  number_calls  ...  number_messages  mb_used  gb_used  \\\n",
       "0           NaN   12.0          16.0  ...             11.0   2000.0      2.0   \n",
       "726         NaN   10.0          65.0  ...             53.0  22400.0     22.0   \n",
       "727         NaN   11.0          64.0  ...             36.0  18600.0     19.0   \n",
       "728         NaN   12.0          56.0  ...             44.0  19400.0     19.0   \n",
       "725         NaN    9.0          49.0  ...             44.0  13400.0     14.0   \n",
       "...         ...    ...           ...  ...              ...      ...      ...   \n",
       "2297        NaN   11.0          41.0  ...              0.0  19200.0     19.0   \n",
       "2300        NaN   10.0          53.0  ...              0.0  19500.0     20.0   \n",
       "2301        NaN   11.0          45.0  ...              0.0  16900.0     17.0   \n",
       "2299        NaN    9.0          41.0  ...              0.0  13000.0     13.0   \n",
       "2302        NaN   12.0          65.0  ...              0.0  22100.0     22.0   \n",
       "\n",
       "      messages_included  mb_per_month_included  minutes_included  \\\n",
       "0                  1000                  30720              3000   \n",
       "726                  50                  15360               500   \n",
       "727                  50                  15360               500   \n",
       "728                  50                  15360               500   \n",
       "725                  50                  15360               500   \n",
       "...                 ...                    ...               ...   \n",
       "2297                 50                  15360               500   \n",
       "2300                 50                  15360               500   \n",
       "2301                 50                  15360               500   \n",
       "2299                 50                  15360               500   \n",
       "2302                 50                  15360               500   \n",
       "\n",
       "      usd_monthly_pay  usd_per_gb  usd_per_message  usd_per_minute  \n",
       "0                  70           7             0.01            0.01  \n",
       "726                20          10             0.03            0.03  \n",
       "727                20          10             0.03            0.03  \n",
       "728                20          10             0.03            0.03  \n",
       "725                20          10             0.03            0.03  \n",
       "...               ...         ...              ...             ...  \n",
       "2297               20          10             0.03            0.03  \n",
       "2300               20          10             0.03            0.03  \n",
       "2301               20          10             0.03            0.03  \n",
       "2299               20          10             0.03            0.03  \n",
       "2302               20          10             0.03            0.03  \n",
       "\n",
       "[2303 rows x 21 columns]"
      ]
     },
     "execution_count": 37,
     "metadata": {},
     "output_type": "execute_result"
    }
   ],
   "source": [
    "# Adding the plan information\n",
    "plans = plans.rename(columns={'plan_name':'plan'})\n",
    "merged = pd.merge(new_data,plans,on='plan')\n",
    "merged.sort_values(by='user_id')"
   ]
  },
  {
   "cell_type": "code",
   "execution_count": 38,
   "metadata": {},
   "outputs": [],
   "source": [
    "list_fillna = ['number_calls','duration','number_messages','mb_used']\n",
    "for i in list_fillna:\n",
    "    merged[i].fillna(0, inplace=True)\n",
    "\n"
   ]
  },
  {
   "cell_type": "code",
   "execution_count": 39,
   "metadata": {},
   "outputs": [],
   "source": [
    "# Calculating the monthly revenue for each user\n",
    "def monthly_revenue(df):\n",
    "    revenue_per_user = []\n",
    "    for i,row in df.iterrows():\n",
    "        revenue = 0\n",
    "        if (row['duration'] > row['minutes_included']):\n",
    "            revenue += ((row['duration'] - row['minutes_included']) * row['usd_per_minute'])\n",
    "        if (row['number_messages'] > row['messages_included']):\n",
    "            revenue += ((row['number_messages'] - row['messages_included']) * row['usd_per_message'])                   \n",
    "        if (row['mb_used'] > row['mb_per_month_included']):\n",
    "            revenue += ((row['gb_used'] - row['mb_per_month_included'] / 1024) * row['usd_per_gb'])\n",
    "        revenue += row['usd_monthly_pay']  \n",
    "        revenue_per_user.append(revenue)\n",
    "    return revenue_per_user\n",
    "\n",
    "        \n",
    "        "
   ]
  },
  {
   "cell_type": "code",
   "execution_count": 40,
   "metadata": {},
   "outputs": [
    {
     "data": {
      "text/html": [
       "<div>\n",
       "<style scoped>\n",
       "    .dataframe tbody tr th:only-of-type {\n",
       "        vertical-align: middle;\n",
       "    }\n",
       "\n",
       "    .dataframe tbody tr th {\n",
       "        vertical-align: top;\n",
       "    }\n",
       "\n",
       "    .dataframe thead th {\n",
       "        text-align: right;\n",
       "    }\n",
       "</style>\n",
       "<table border=\"1\" class=\"dataframe\">\n",
       "  <thead>\n",
       "    <tr style=\"text-align: right;\">\n",
       "      <th></th>\n",
       "      <th>user_id</th>\n",
       "      <th>first_name</th>\n",
       "      <th>last_name</th>\n",
       "      <th>age</th>\n",
       "      <th>city</th>\n",
       "      <th>reg_date</th>\n",
       "      <th>plan</th>\n",
       "      <th>churn_date</th>\n",
       "      <th>month</th>\n",
       "      <th>number_calls</th>\n",
       "      <th>...</th>\n",
       "      <th>mb_used</th>\n",
       "      <th>gb_used</th>\n",
       "      <th>messages_included</th>\n",
       "      <th>mb_per_month_included</th>\n",
       "      <th>minutes_included</th>\n",
       "      <th>usd_monthly_pay</th>\n",
       "      <th>usd_per_gb</th>\n",
       "      <th>usd_per_message</th>\n",
       "      <th>usd_per_minute</th>\n",
       "      <th>monthly_revenue</th>\n",
       "    </tr>\n",
       "  </thead>\n",
       "  <tbody>\n",
       "    <tr>\n",
       "      <th>0</th>\n",
       "      <td>1000</td>\n",
       "      <td>Anamaria</td>\n",
       "      <td>Bauer</td>\n",
       "      <td>adult</td>\n",
       "      <td>Atlanta-Sandy Springs-Roswell, GA MSA</td>\n",
       "      <td>2018-12-24</td>\n",
       "      <td>ultimate</td>\n",
       "      <td>NaN</td>\n",
       "      <td>12.0</td>\n",
       "      <td>16.0</td>\n",
       "      <td>...</td>\n",
       "      <td>2000.0</td>\n",
       "      <td>2.0</td>\n",
       "      <td>1000</td>\n",
       "      <td>30720</td>\n",
       "      <td>3000</td>\n",
       "      <td>70</td>\n",
       "      <td>7</td>\n",
       "      <td>0.01</td>\n",
       "      <td>0.01</td>\n",
       "      <td>70.0</td>\n",
       "    </tr>\n",
       "    <tr>\n",
       "      <th>1</th>\n",
       "      <td>1006</td>\n",
       "      <td>Jesusa</td>\n",
       "      <td>Bradford</td>\n",
       "      <td>senior</td>\n",
       "      <td>San Francisco-Oakland-Berkeley, CA MSA</td>\n",
       "      <td>2018-11-27</td>\n",
       "      <td>ultimate</td>\n",
       "      <td>2018-12-18</td>\n",
       "      <td>11.0</td>\n",
       "      <td>2.0</td>\n",
       "      <td>...</td>\n",
       "      <td>2100.0</td>\n",
       "      <td>3.0</td>\n",
       "      <td>1000</td>\n",
       "      <td>30720</td>\n",
       "      <td>3000</td>\n",
       "      <td>70</td>\n",
       "      <td>7</td>\n",
       "      <td>0.01</td>\n",
       "      <td>0.01</td>\n",
       "      <td>70.0</td>\n",
       "    </tr>\n",
       "    <tr>\n",
       "      <th>2</th>\n",
       "      <td>1006</td>\n",
       "      <td>Jesusa</td>\n",
       "      <td>Bradford</td>\n",
       "      <td>senior</td>\n",
       "      <td>San Francisco-Oakland-Berkeley, CA MSA</td>\n",
       "      <td>2018-11-27</td>\n",
       "      <td>ultimate</td>\n",
       "      <td>2018-12-18</td>\n",
       "      <td>12.0</td>\n",
       "      <td>9.0</td>\n",
       "      <td>...</td>\n",
       "      <td>32200.0</td>\n",
       "      <td>32.0</td>\n",
       "      <td>1000</td>\n",
       "      <td>30720</td>\n",
       "      <td>3000</td>\n",
       "      <td>70</td>\n",
       "      <td>7</td>\n",
       "      <td>0.01</td>\n",
       "      <td>0.01</td>\n",
       "      <td>84.0</td>\n",
       "    </tr>\n",
       "    <tr>\n",
       "      <th>3</th>\n",
       "      <td>1008</td>\n",
       "      <td>Emely</td>\n",
       "      <td>Hoffman</td>\n",
       "      <td>adult</td>\n",
       "      <td>Orlando-Kissimmee-Sanford, FL MSA</td>\n",
       "      <td>2018-08-03</td>\n",
       "      <td>ultimate</td>\n",
       "      <td>NaN</td>\n",
       "      <td>10.0</td>\n",
       "      <td>71.0</td>\n",
       "      <td>...</td>\n",
       "      <td>17200.0</td>\n",
       "      <td>17.0</td>\n",
       "      <td>1000</td>\n",
       "      <td>30720</td>\n",
       "      <td>3000</td>\n",
       "      <td>70</td>\n",
       "      <td>7</td>\n",
       "      <td>0.01</td>\n",
       "      <td>0.01</td>\n",
       "      <td>70.0</td>\n",
       "    </tr>\n",
       "    <tr>\n",
       "      <th>4</th>\n",
       "      <td>1008</td>\n",
       "      <td>Emely</td>\n",
       "      <td>Hoffman</td>\n",
       "      <td>adult</td>\n",
       "      <td>Orlando-Kissimmee-Sanford, FL MSA</td>\n",
       "      <td>2018-08-03</td>\n",
       "      <td>ultimate</td>\n",
       "      <td>NaN</td>\n",
       "      <td>11.0</td>\n",
       "      <td>63.0</td>\n",
       "      <td>...</td>\n",
       "      <td>23700.0</td>\n",
       "      <td>24.0</td>\n",
       "      <td>1000</td>\n",
       "      <td>30720</td>\n",
       "      <td>3000</td>\n",
       "      <td>70</td>\n",
       "      <td>7</td>\n",
       "      <td>0.01</td>\n",
       "      <td>0.01</td>\n",
       "      <td>70.0</td>\n",
       "    </tr>\n",
       "    <tr>\n",
       "      <th>...</th>\n",
       "      <td>...</td>\n",
       "      <td>...</td>\n",
       "      <td>...</td>\n",
       "      <td>...</td>\n",
       "      <td>...</td>\n",
       "      <td>...</td>\n",
       "      <td>...</td>\n",
       "      <td>...</td>\n",
       "      <td>...</td>\n",
       "      <td>...</td>\n",
       "      <td>...</td>\n",
       "      <td>...</td>\n",
       "      <td>...</td>\n",
       "      <td>...</td>\n",
       "      <td>...</td>\n",
       "      <td>...</td>\n",
       "      <td>...</td>\n",
       "      <td>...</td>\n",
       "      <td>...</td>\n",
       "      <td>...</td>\n",
       "      <td>...</td>\n",
       "    </tr>\n",
       "    <tr>\n",
       "      <th>2298</th>\n",
       "      <td>1498</td>\n",
       "      <td>Scot</td>\n",
       "      <td>Williamson</td>\n",
       "      <td>adult</td>\n",
       "      <td>New York-Newark-Jersey City, NY-NJ-PA MSA</td>\n",
       "      <td>2018-02-04</td>\n",
       "      <td>surf</td>\n",
       "      <td>NaN</td>\n",
       "      <td>12.0</td>\n",
       "      <td>39.0</td>\n",
       "      <td>...</td>\n",
       "      <td>23200.0</td>\n",
       "      <td>23.0</td>\n",
       "      <td>50</td>\n",
       "      <td>15360</td>\n",
       "      <td>500</td>\n",
       "      <td>20</td>\n",
       "      <td>10</td>\n",
       "      <td>0.03</td>\n",
       "      <td>0.03</td>\n",
       "      <td>100.0</td>\n",
       "    </tr>\n",
       "    <tr>\n",
       "      <th>2299</th>\n",
       "      <td>1499</td>\n",
       "      <td>Shena</td>\n",
       "      <td>Dickson</td>\n",
       "      <td>adult</td>\n",
       "      <td>Orlando-Kissimmee-Sanford, FL MSA</td>\n",
       "      <td>2018-05-06</td>\n",
       "      <td>surf</td>\n",
       "      <td>NaN</td>\n",
       "      <td>9.0</td>\n",
       "      <td>41.0</td>\n",
       "      <td>...</td>\n",
       "      <td>13000.0</td>\n",
       "      <td>13.0</td>\n",
       "      <td>50</td>\n",
       "      <td>15360</td>\n",
       "      <td>500</td>\n",
       "      <td>20</td>\n",
       "      <td>10</td>\n",
       "      <td>0.03</td>\n",
       "      <td>0.03</td>\n",
       "      <td>20.0</td>\n",
       "    </tr>\n",
       "    <tr>\n",
       "      <th>2300</th>\n",
       "      <td>1499</td>\n",
       "      <td>Shena</td>\n",
       "      <td>Dickson</td>\n",
       "      <td>adult</td>\n",
       "      <td>Orlando-Kissimmee-Sanford, FL MSA</td>\n",
       "      <td>2018-05-06</td>\n",
       "      <td>surf</td>\n",
       "      <td>NaN</td>\n",
       "      <td>10.0</td>\n",
       "      <td>53.0</td>\n",
       "      <td>...</td>\n",
       "      <td>19500.0</td>\n",
       "      <td>20.0</td>\n",
       "      <td>50</td>\n",
       "      <td>15360</td>\n",
       "      <td>500</td>\n",
       "      <td>20</td>\n",
       "      <td>10</td>\n",
       "      <td>0.03</td>\n",
       "      <td>0.03</td>\n",
       "      <td>70.0</td>\n",
       "    </tr>\n",
       "    <tr>\n",
       "      <th>2301</th>\n",
       "      <td>1499</td>\n",
       "      <td>Shena</td>\n",
       "      <td>Dickson</td>\n",
       "      <td>adult</td>\n",
       "      <td>Orlando-Kissimmee-Sanford, FL MSA</td>\n",
       "      <td>2018-05-06</td>\n",
       "      <td>surf</td>\n",
       "      <td>NaN</td>\n",
       "      <td>11.0</td>\n",
       "      <td>45.0</td>\n",
       "      <td>...</td>\n",
       "      <td>16900.0</td>\n",
       "      <td>17.0</td>\n",
       "      <td>50</td>\n",
       "      <td>15360</td>\n",
       "      <td>500</td>\n",
       "      <td>20</td>\n",
       "      <td>10</td>\n",
       "      <td>0.03</td>\n",
       "      <td>0.03</td>\n",
       "      <td>40.0</td>\n",
       "    </tr>\n",
       "    <tr>\n",
       "      <th>2302</th>\n",
       "      <td>1499</td>\n",
       "      <td>Shena</td>\n",
       "      <td>Dickson</td>\n",
       "      <td>adult</td>\n",
       "      <td>Orlando-Kissimmee-Sanford, FL MSA</td>\n",
       "      <td>2018-05-06</td>\n",
       "      <td>surf</td>\n",
       "      <td>NaN</td>\n",
       "      <td>12.0</td>\n",
       "      <td>65.0</td>\n",
       "      <td>...</td>\n",
       "      <td>22100.0</td>\n",
       "      <td>22.0</td>\n",
       "      <td>50</td>\n",
       "      <td>15360</td>\n",
       "      <td>500</td>\n",
       "      <td>20</td>\n",
       "      <td>10</td>\n",
       "      <td>0.03</td>\n",
       "      <td>0.03</td>\n",
       "      <td>90.0</td>\n",
       "    </tr>\n",
       "  </tbody>\n",
       "</table>\n",
       "<p>2303 rows × 22 columns</p>\n",
       "</div>"
      ],
      "text/plain": [
       "      user_id first_name   last_name     age  \\\n",
       "0        1000   Anamaria       Bauer   adult   \n",
       "1        1006     Jesusa    Bradford  senior   \n",
       "2        1006     Jesusa    Bradford  senior   \n",
       "3        1008      Emely     Hoffman   adult   \n",
       "4        1008      Emely     Hoffman   adult   \n",
       "...       ...        ...         ...     ...   \n",
       "2298     1498       Scot  Williamson   adult   \n",
       "2299     1499      Shena     Dickson   adult   \n",
       "2300     1499      Shena     Dickson   adult   \n",
       "2301     1499      Shena     Dickson   adult   \n",
       "2302     1499      Shena     Dickson   adult   \n",
       "\n",
       "                                           city   reg_date      plan  \\\n",
       "0         Atlanta-Sandy Springs-Roswell, GA MSA 2018-12-24  ultimate   \n",
       "1        San Francisco-Oakland-Berkeley, CA MSA 2018-11-27  ultimate   \n",
       "2        San Francisco-Oakland-Berkeley, CA MSA 2018-11-27  ultimate   \n",
       "3             Orlando-Kissimmee-Sanford, FL MSA 2018-08-03  ultimate   \n",
       "4             Orlando-Kissimmee-Sanford, FL MSA 2018-08-03  ultimate   \n",
       "...                                         ...        ...       ...   \n",
       "2298  New York-Newark-Jersey City, NY-NJ-PA MSA 2018-02-04      surf   \n",
       "2299          Orlando-Kissimmee-Sanford, FL MSA 2018-05-06      surf   \n",
       "2300          Orlando-Kissimmee-Sanford, FL MSA 2018-05-06      surf   \n",
       "2301          Orlando-Kissimmee-Sanford, FL MSA 2018-05-06      surf   \n",
       "2302          Orlando-Kissimmee-Sanford, FL MSA 2018-05-06      surf   \n",
       "\n",
       "      churn_date  month  number_calls  ...  mb_used  gb_used  \\\n",
       "0            NaN   12.0          16.0  ...   2000.0      2.0   \n",
       "1     2018-12-18   11.0           2.0  ...   2100.0      3.0   \n",
       "2     2018-12-18   12.0           9.0  ...  32200.0     32.0   \n",
       "3            NaN   10.0          71.0  ...  17200.0     17.0   \n",
       "4            NaN   11.0          63.0  ...  23700.0     24.0   \n",
       "...          ...    ...           ...  ...      ...      ...   \n",
       "2298         NaN   12.0          39.0  ...  23200.0     23.0   \n",
       "2299         NaN    9.0          41.0  ...  13000.0     13.0   \n",
       "2300         NaN   10.0          53.0  ...  19500.0     20.0   \n",
       "2301         NaN   11.0          45.0  ...  16900.0     17.0   \n",
       "2302         NaN   12.0          65.0  ...  22100.0     22.0   \n",
       "\n",
       "      messages_included  mb_per_month_included  minutes_included  \\\n",
       "0                  1000                  30720              3000   \n",
       "1                  1000                  30720              3000   \n",
       "2                  1000                  30720              3000   \n",
       "3                  1000                  30720              3000   \n",
       "4                  1000                  30720              3000   \n",
       "...                 ...                    ...               ...   \n",
       "2298                 50                  15360               500   \n",
       "2299                 50                  15360               500   \n",
       "2300                 50                  15360               500   \n",
       "2301                 50                  15360               500   \n",
       "2302                 50                  15360               500   \n",
       "\n",
       "      usd_monthly_pay  usd_per_gb  usd_per_message  usd_per_minute  \\\n",
       "0                  70           7             0.01            0.01   \n",
       "1                  70           7             0.01            0.01   \n",
       "2                  70           7             0.01            0.01   \n",
       "3                  70           7             0.01            0.01   \n",
       "4                  70           7             0.01            0.01   \n",
       "...               ...         ...              ...             ...   \n",
       "2298               20          10             0.03            0.03   \n",
       "2299               20          10             0.03            0.03   \n",
       "2300               20          10             0.03            0.03   \n",
       "2301               20          10             0.03            0.03   \n",
       "2302               20          10             0.03            0.03   \n",
       "\n",
       "      monthly_revenue  \n",
       "0                70.0  \n",
       "1                70.0  \n",
       "2                84.0  \n",
       "3                70.0  \n",
       "4                70.0  \n",
       "...               ...  \n",
       "2298            100.0  \n",
       "2299             20.0  \n",
       "2300             70.0  \n",
       "2301             40.0  \n",
       "2302             90.0  \n",
       "\n",
       "[2303 rows x 22 columns]"
      ]
     },
     "execution_count": 40,
     "metadata": {},
     "output_type": "execute_result"
    }
   ],
   "source": [
    "merged['monthly_revenue'] = monthly_revenue(merged)\n",
    "merged"
   ]
  },
  {
   "cell_type": "markdown",
   "metadata": {},
   "source": [
    "## Study user behaviour"
   ]
  },
  {
   "cell_type": "markdown",
   "metadata": {},
   "source": [
    "### Calls"
   ]
  },
  {
   "cell_type": "code",
   "execution_count": 41,
   "metadata": {},
   "outputs": [
    {
     "data": {
      "text/plain": [
       "<AxesSubplot:title={'center':'Average Duration of Calls Each Month, Surf vs Ultimate'}, xlabel='month'>"
      ]
     },
     "execution_count": 41,
     "metadata": {},
     "output_type": "execute_result"
    },
    {
     "data": {
      "image/png": "[encoded data removed]",
      "text/plain": [
       "<Figure size 432x288 with 1 Axes>"
      ]
     },
     "metadata": {
      "needs_background": "light"
     },
     "output_type": "display_data"
    }
   ],
   "source": [
    "# Compare average duration of calls per each plan per each distinct month. Plot a bar plat to visualize it.\n",
    "ave_duration = merged.pivot_table(index='month', columns='plan',values= 'duration', aggfunc='mean')\n",
    "ave_duration.plot(kind='bar', title='Average Duration of Calls Each Month, Surf vs Ultimate')"
   ]
  },
  {
   "cell_type": "code",
   "execution_count": 42,
   "metadata": {},
   "outputs": [],
   "source": [
    "# Comparing the number of minutes users of each plan require each month. Plot a histogram.\n",
    "merged['required_minutes'] = merged['minutes_included'] - (merged['minutes_included'] - merged['duration'])\n",
    "        "
   ]
  },
  {
   "cell_type": "code",
   "execution_count": 43,
   "metadata": {},
   "outputs": [],
   "source": [
    "surf = merged.query('plan == \"surf\"')\n",
    "ultimate = merged.query('plan == \"ultimate\"')"
   ]
  },
  {
   "cell_type": "code",
   "execution_count": 44,
   "metadata": {},
   "outputs": [
    {
     "data": {
      "text/plain": [
       "<matplotlib.legend.Legend at 0x7fc95695b4c0>"
      ]
     },
     "execution_count": 44,
     "metadata": {},
     "output_type": "execute_result"
    },
    {
     "data": {
      "image/png": "[encoded data removed]",
      "text/plain": [
       "<Figure size 432x288 with 1 Axes>"
      ]
     },
     "metadata": {
      "needs_background": "light"
     },
     "output_type": "display_data"
    }
   ],
   "source": [
    "plt.hist(surf['required_minutes'], bins= 30, alpha=0.45, color= 'blue')\n",
    "plt.hist(ultimate['required_minutes'], bins= 30, alpha=0.45, color= 'purple')\n",
    "plt.title('Required Minutes')\n",
    "plt.legend(['surf', 'ultimate'])"
   ]
  },
  {
   "cell_type": "markdown",
   "metadata": {},
   "source": [
    "Surf Plan users tend to require more minutes per month compared to Ultimate Plan users."
   ]
  },
  {
   "cell_type": "code",
   "execution_count": 45,
   "metadata": {},
   "outputs": [
    {
     "data": {
      "text/plain": [
       "plan\n",
       "surf        5857.693038\n",
       "ultimate    5970.044622\n",
       "dtype: float64"
      ]
     },
     "execution_count": 45,
     "metadata": {},
     "output_type": "execute_result"
    }
   ],
   "source": [
    "# Calculating the mean and the variance of the monthly call duration\n",
    "ave_duration.var()"
   ]
  },
  {
   "cell_type": "code",
   "execution_count": 46,
   "metadata": {},
   "outputs": [
    {
     "data": {
      "text/plain": [
       "plan\n",
       "surf        384.469691\n",
       "ultimate    387.999742\n",
       "dtype: float64"
      ]
     },
     "execution_count": 46,
     "metadata": {},
     "output_type": "execute_result"
    }
   ],
   "source": [
    "ave_duration.mean()"
   ]
  },
  {
   "cell_type": "code",
   "execution_count": 47,
   "metadata": {},
   "outputs": [
    {
     "data": {
      "text/plain": [
       "<AxesSubplot:title={'center':'Distribution of Monthly Call Duration'}>"
      ]
     },
     "execution_count": 47,
     "metadata": {},
     "output_type": "execute_result"
    },
    {
     "data": {
      "image/png": "[encoded data removed]",
      "text/plain": [
       "<Figure size 432x288 with 1 Axes>"
      ]
     },
     "metadata": {
      "needs_background": "light"
     },
     "output_type": "display_data"
    }
   ],
   "source": [
    "# Plotting a boxplot to visualize the distribution of the monthly call duration\n",
    "ave_duration.plot(kind='box', title='Distribution of Monthly Call Duration')"
   ]
  },
  {
   "cell_type": "markdown",
   "metadata": {},
   "source": [
    "\n",
    "There are no significant differences between the plans in terms of minutes spent during a call. Both plans' users tend to spend same amount of minutes in average per month."
   ]
  },
  {
   "cell_type": "markdown",
   "metadata": {},
   "source": [
    " "
   ]
  },
  {
   "cell_type": "markdown",
   "metadata": {},
   "source": [
    "### Messages"
   ]
  },
  {
   "cell_type": "code",
   "execution_count": 48,
   "metadata": {
    "scrolled": true
   },
   "outputs": [
    {
     "data": {
      "text/plain": [
       "<AxesSubplot:title={'center':'Average Number of Messages Sent Each Month, Surf vs Ultimate'}, xlabel='month'>"
      ]
     },
     "execution_count": 48,
     "metadata": {},
     "output_type": "execute_result"
    },
    {
     "data": {
      "image/png": "[encoded data removed]",
      "text/plain": [
       "<Figure size 432x288 with 1 Axes>"
      ]
     },
     "metadata": {
      "needs_background": "light"
     },
     "output_type": "display_data"
    }
   ],
   "source": [
    "# Comparing the number of messages users of each plan tend to send each month\n",
    "ave_messages = merged.pivot_table(index='month', columns='plan',values= 'number_messages', aggfunc='mean')\n",
    "ave_messages.plot(kind='bar', title='Average Number of Messages Sent Each Month, Surf vs Ultimate')"
   ]
  },
  {
   "cell_type": "code",
   "execution_count": 49,
   "metadata": {},
   "outputs": [
    {
     "data": {
      "text/html": [
       "<div>\n",
       "<style scoped>\n",
       "    .dataframe tbody tr th:only-of-type {\n",
       "        vertical-align: middle;\n",
       "    }\n",
       "\n",
       "    .dataframe tbody tr th {\n",
       "        vertical-align: top;\n",
       "    }\n",
       "\n",
       "    .dataframe thead th {\n",
       "        text-align: right;\n",
       "    }\n",
       "</style>\n",
       "<table border=\"1\" class=\"dataframe\">\n",
       "  <thead>\n",
       "    <tr style=\"text-align: right;\">\n",
       "      <th></th>\n",
       "      <th>user_id</th>\n",
       "      <th>first_name</th>\n",
       "      <th>last_name</th>\n",
       "      <th>age</th>\n",
       "      <th>city</th>\n",
       "      <th>reg_date</th>\n",
       "      <th>plan</th>\n",
       "      <th>churn_date</th>\n",
       "      <th>month</th>\n",
       "      <th>number_calls</th>\n",
       "      <th>...</th>\n",
       "      <th>messages_included</th>\n",
       "      <th>mb_per_month_included</th>\n",
       "      <th>minutes_included</th>\n",
       "      <th>usd_monthly_pay</th>\n",
       "      <th>usd_per_gb</th>\n",
       "      <th>usd_per_message</th>\n",
       "      <th>usd_per_minute</th>\n",
       "      <th>monthly_revenue</th>\n",
       "      <th>required_minutes</th>\n",
       "      <th>required_messages</th>\n",
       "    </tr>\n",
       "  </thead>\n",
       "  <tbody>\n",
       "    <tr>\n",
       "      <th>0</th>\n",
       "      <td>1000</td>\n",
       "      <td>Anamaria</td>\n",
       "      <td>Bauer</td>\n",
       "      <td>adult</td>\n",
       "      <td>Atlanta-Sandy Springs-Roswell, GA MSA</td>\n",
       "      <td>2018-12-24</td>\n",
       "      <td>ultimate</td>\n",
       "      <td>NaN</td>\n",
       "      <td>12.0</td>\n",
       "      <td>16.0</td>\n",
       "      <td>...</td>\n",
       "      <td>1000</td>\n",
       "      <td>30720</td>\n",
       "      <td>3000</td>\n",
       "      <td>70</td>\n",
       "      <td>7</td>\n",
       "      <td>0.01</td>\n",
       "      <td>0.01</td>\n",
       "      <td>70.0</td>\n",
       "      <td>124.0</td>\n",
       "      <td>11.0</td>\n",
       "    </tr>\n",
       "    <tr>\n",
       "      <th>1</th>\n",
       "      <td>1006</td>\n",
       "      <td>Jesusa</td>\n",
       "      <td>Bradford</td>\n",
       "      <td>senior</td>\n",
       "      <td>San Francisco-Oakland-Berkeley, CA MSA</td>\n",
       "      <td>2018-11-27</td>\n",
       "      <td>ultimate</td>\n",
       "      <td>2018-12-18</td>\n",
       "      <td>11.0</td>\n",
       "      <td>2.0</td>\n",
       "      <td>...</td>\n",
       "      <td>1000</td>\n",
       "      <td>30720</td>\n",
       "      <td>3000</td>\n",
       "      <td>70</td>\n",
       "      <td>7</td>\n",
       "      <td>0.01</td>\n",
       "      <td>0.01</td>\n",
       "      <td>70.0</td>\n",
       "      <td>10.0</td>\n",
       "      <td>15.0</td>\n",
       "    </tr>\n",
       "    <tr>\n",
       "      <th>2</th>\n",
       "      <td>1006</td>\n",
       "      <td>Jesusa</td>\n",
       "      <td>Bradford</td>\n",
       "      <td>senior</td>\n",
       "      <td>San Francisco-Oakland-Berkeley, CA MSA</td>\n",
       "      <td>2018-11-27</td>\n",
       "      <td>ultimate</td>\n",
       "      <td>2018-12-18</td>\n",
       "      <td>12.0</td>\n",
       "      <td>9.0</td>\n",
       "      <td>...</td>\n",
       "      <td>1000</td>\n",
       "      <td>30720</td>\n",
       "      <td>3000</td>\n",
       "      <td>70</td>\n",
       "      <td>7</td>\n",
       "      <td>0.01</td>\n",
       "      <td>0.01</td>\n",
       "      <td>84.0</td>\n",
       "      <td>59.0</td>\n",
       "      <td>139.0</td>\n",
       "    </tr>\n",
       "    <tr>\n",
       "      <th>3</th>\n",
       "      <td>1008</td>\n",
       "      <td>Emely</td>\n",
       "      <td>Hoffman</td>\n",
       "      <td>adult</td>\n",
       "      <td>Orlando-Kissimmee-Sanford, FL MSA</td>\n",
       "      <td>2018-08-03</td>\n",
       "      <td>ultimate</td>\n",
       "      <td>NaN</td>\n",
       "      <td>10.0</td>\n",
       "      <td>71.0</td>\n",
       "      <td>...</td>\n",
       "      <td>1000</td>\n",
       "      <td>30720</td>\n",
       "      <td>3000</td>\n",
       "      <td>70</td>\n",
       "      <td>7</td>\n",
       "      <td>0.01</td>\n",
       "      <td>0.01</td>\n",
       "      <td>70.0</td>\n",
       "      <td>476.0</td>\n",
       "      <td>21.0</td>\n",
       "    </tr>\n",
       "    <tr>\n",
       "      <th>4</th>\n",
       "      <td>1008</td>\n",
       "      <td>Emely</td>\n",
       "      <td>Hoffman</td>\n",
       "      <td>adult</td>\n",
       "      <td>Orlando-Kissimmee-Sanford, FL MSA</td>\n",
       "      <td>2018-08-03</td>\n",
       "      <td>ultimate</td>\n",
       "      <td>NaN</td>\n",
       "      <td>11.0</td>\n",
       "      <td>63.0</td>\n",
       "      <td>...</td>\n",
       "      <td>1000</td>\n",
       "      <td>30720</td>\n",
       "      <td>3000</td>\n",
       "      <td>70</td>\n",
       "      <td>7</td>\n",
       "      <td>0.01</td>\n",
       "      <td>0.01</td>\n",
       "      <td>70.0</td>\n",
       "      <td>446.0</td>\n",
       "      <td>37.0</td>\n",
       "    </tr>\n",
       "    <tr>\n",
       "      <th>...</th>\n",
       "      <td>...</td>\n",
       "      <td>...</td>\n",
       "      <td>...</td>\n",
       "      <td>...</td>\n",
       "      <td>...</td>\n",
       "      <td>...</td>\n",
       "      <td>...</td>\n",
       "      <td>...</td>\n",
       "      <td>...</td>\n",
       "      <td>...</td>\n",
       "      <td>...</td>\n",
       "      <td>...</td>\n",
       "      <td>...</td>\n",
       "      <td>...</td>\n",
       "      <td>...</td>\n",
       "      <td>...</td>\n",
       "      <td>...</td>\n",
       "      <td>...</td>\n",
       "      <td>...</td>\n",
       "      <td>...</td>\n",
       "      <td>...</td>\n",
       "    </tr>\n",
       "    <tr>\n",
       "      <th>2298</th>\n",
       "      <td>1498</td>\n",
       "      <td>Scot</td>\n",
       "      <td>Williamson</td>\n",
       "      <td>adult</td>\n",
       "      <td>New York-Newark-Jersey City, NY-NJ-PA MSA</td>\n",
       "      <td>2018-02-04</td>\n",
       "      <td>surf</td>\n",
       "      <td>NaN</td>\n",
       "      <td>12.0</td>\n",
       "      <td>39.0</td>\n",
       "      <td>...</td>\n",
       "      <td>50</td>\n",
       "      <td>15360</td>\n",
       "      <td>500</td>\n",
       "      <td>20</td>\n",
       "      <td>10</td>\n",
       "      <td>0.03</td>\n",
       "      <td>0.03</td>\n",
       "      <td>100.0</td>\n",
       "      <td>339.0</td>\n",
       "      <td>0.0</td>\n",
       "    </tr>\n",
       "    <tr>\n",
       "      <th>2299</th>\n",
       "      <td>1499</td>\n",
       "      <td>Shena</td>\n",
       "      <td>Dickson</td>\n",
       "      <td>adult</td>\n",
       "      <td>Orlando-Kissimmee-Sanford, FL MSA</td>\n",
       "      <td>2018-05-06</td>\n",
       "      <td>surf</td>\n",
       "      <td>NaN</td>\n",
       "      <td>9.0</td>\n",
       "      <td>41.0</td>\n",
       "      <td>...</td>\n",
       "      <td>50</td>\n",
       "      <td>15360</td>\n",
       "      <td>500</td>\n",
       "      <td>20</td>\n",
       "      <td>10</td>\n",
       "      <td>0.03</td>\n",
       "      <td>0.03</td>\n",
       "      <td>20.0</td>\n",
       "      <td>346.0</td>\n",
       "      <td>0.0</td>\n",
       "    </tr>\n",
       "    <tr>\n",
       "      <th>2300</th>\n",
       "      <td>1499</td>\n",
       "      <td>Shena</td>\n",
       "      <td>Dickson</td>\n",
       "      <td>adult</td>\n",
       "      <td>Orlando-Kissimmee-Sanford, FL MSA</td>\n",
       "      <td>2018-05-06</td>\n",
       "      <td>surf</td>\n",
       "      <td>NaN</td>\n",
       "      <td>10.0</td>\n",
       "      <td>53.0</td>\n",
       "      <td>...</td>\n",
       "      <td>50</td>\n",
       "      <td>15360</td>\n",
       "      <td>500</td>\n",
       "      <td>20</td>\n",
       "      <td>10</td>\n",
       "      <td>0.03</td>\n",
       "      <td>0.03</td>\n",
       "      <td>70.0</td>\n",
       "      <td>385.0</td>\n",
       "      <td>0.0</td>\n",
       "    </tr>\n",
       "    <tr>\n",
       "      <th>2301</th>\n",
       "      <td>1499</td>\n",
       "      <td>Shena</td>\n",
       "      <td>Dickson</td>\n",
       "      <td>adult</td>\n",
       "      <td>Orlando-Kissimmee-Sanford, FL MSA</td>\n",
       "      <td>2018-05-06</td>\n",
       "      <td>surf</td>\n",
       "      <td>NaN</td>\n",
       "      <td>11.0</td>\n",
       "      <td>45.0</td>\n",
       "      <td>...</td>\n",
       "      <td>50</td>\n",
       "      <td>15360</td>\n",
       "      <td>500</td>\n",
       "      <td>20</td>\n",
       "      <td>10</td>\n",
       "      <td>0.03</td>\n",
       "      <td>0.03</td>\n",
       "      <td>40.0</td>\n",
       "      <td>308.0</td>\n",
       "      <td>0.0</td>\n",
       "    </tr>\n",
       "    <tr>\n",
       "      <th>2302</th>\n",
       "      <td>1499</td>\n",
       "      <td>Shena</td>\n",
       "      <td>Dickson</td>\n",
       "      <td>adult</td>\n",
       "      <td>Orlando-Kissimmee-Sanford, FL MSA</td>\n",
       "      <td>2018-05-06</td>\n",
       "      <td>surf</td>\n",
       "      <td>NaN</td>\n",
       "      <td>12.0</td>\n",
       "      <td>65.0</td>\n",
       "      <td>...</td>\n",
       "      <td>50</td>\n",
       "      <td>15360</td>\n",
       "      <td>500</td>\n",
       "      <td>20</td>\n",
       "      <td>10</td>\n",
       "      <td>0.03</td>\n",
       "      <td>0.03</td>\n",
       "      <td>90.0</td>\n",
       "      <td>496.0</td>\n",
       "      <td>0.0</td>\n",
       "    </tr>\n",
       "  </tbody>\n",
       "</table>\n",
       "<p>2303 rows × 24 columns</p>\n",
       "</div>"
      ],
      "text/plain": [
       "      user_id first_name   last_name     age  \\\n",
       "0        1000   Anamaria       Bauer   adult   \n",
       "1        1006     Jesusa    Bradford  senior   \n",
       "2        1006     Jesusa    Bradford  senior   \n",
       "3        1008      Emely     Hoffman   adult   \n",
       "4        1008      Emely     Hoffman   adult   \n",
       "...       ...        ...         ...     ...   \n",
       "2298     1498       Scot  Williamson   adult   \n",
       "2299     1499      Shena     Dickson   adult   \n",
       "2300     1499      Shena     Dickson   adult   \n",
       "2301     1499      Shena     Dickson   adult   \n",
       "2302     1499      Shena     Dickson   adult   \n",
       "\n",
       "                                           city   reg_date      plan  \\\n",
       "0         Atlanta-Sandy Springs-Roswell, GA MSA 2018-12-24  ultimate   \n",
       "1        San Francisco-Oakland-Berkeley, CA MSA 2018-11-27  ultimate   \n",
       "2        San Francisco-Oakland-Berkeley, CA MSA 2018-11-27  ultimate   \n",
       "3             Orlando-Kissimmee-Sanford, FL MSA 2018-08-03  ultimate   \n",
       "4             Orlando-Kissimmee-Sanford, FL MSA 2018-08-03  ultimate   \n",
       "...                                         ...        ...       ...   \n",
       "2298  New York-Newark-Jersey City, NY-NJ-PA MSA 2018-02-04      surf   \n",
       "2299          Orlando-Kissimmee-Sanford, FL MSA 2018-05-06      surf   \n",
       "2300          Orlando-Kissimmee-Sanford, FL MSA 2018-05-06      surf   \n",
       "2301          Orlando-Kissimmee-Sanford, FL MSA 2018-05-06      surf   \n",
       "2302          Orlando-Kissimmee-Sanford, FL MSA 2018-05-06      surf   \n",
       "\n",
       "      churn_date  month  number_calls  ...  messages_included  \\\n",
       "0            NaN   12.0          16.0  ...               1000   \n",
       "1     2018-12-18   11.0           2.0  ...               1000   \n",
       "2     2018-12-18   12.0           9.0  ...               1000   \n",
       "3            NaN   10.0          71.0  ...               1000   \n",
       "4            NaN   11.0          63.0  ...               1000   \n",
       "...          ...    ...           ...  ...                ...   \n",
       "2298         NaN   12.0          39.0  ...                 50   \n",
       "2299         NaN    9.0          41.0  ...                 50   \n",
       "2300         NaN   10.0          53.0  ...                 50   \n",
       "2301         NaN   11.0          45.0  ...                 50   \n",
       "2302         NaN   12.0          65.0  ...                 50   \n",
       "\n",
       "      mb_per_month_included  minutes_included  usd_monthly_pay  usd_per_gb  \\\n",
       "0                     30720              3000               70           7   \n",
       "1                     30720              3000               70           7   \n",
       "2                     30720              3000               70           7   \n",
       "3                     30720              3000               70           7   \n",
       "4                     30720              3000               70           7   \n",
       "...                     ...               ...              ...         ...   \n",
       "2298                  15360               500               20          10   \n",
       "2299                  15360               500               20          10   \n",
       "2300                  15360               500               20          10   \n",
       "2301                  15360               500               20          10   \n",
       "2302                  15360               500               20          10   \n",
       "\n",
       "      usd_per_message  usd_per_minute  monthly_revenue  required_minutes  \\\n",
       "0                0.01            0.01             70.0             124.0   \n",
       "1                0.01            0.01             70.0              10.0   \n",
       "2                0.01            0.01             84.0              59.0   \n",
       "3                0.01            0.01             70.0             476.0   \n",
       "4                0.01            0.01             70.0             446.0   \n",
       "...               ...             ...              ...               ...   \n",
       "2298             0.03            0.03            100.0             339.0   \n",
       "2299             0.03            0.03             20.0             346.0   \n",
       "2300             0.03            0.03             70.0             385.0   \n",
       "2301             0.03            0.03             40.0             308.0   \n",
       "2302             0.03            0.03             90.0             496.0   \n",
       "\n",
       "      required_messages  \n",
       "0                  11.0  \n",
       "1                  15.0  \n",
       "2                 139.0  \n",
       "3                  21.0  \n",
       "4                  37.0  \n",
       "...                 ...  \n",
       "2298                0.0  \n",
       "2299                0.0  \n",
       "2300                0.0  \n",
       "2301                0.0  \n",
       "2302                0.0  \n",
       "\n",
       "[2303 rows x 24 columns]"
      ]
     },
     "execution_count": 49,
     "metadata": {},
     "output_type": "execute_result"
    }
   ],
   "source": [
    "merged['required_messages'] = merged['messages_included'] - (merged['messages_included'] - merged['number_messages'])\n",
    "merged"
   ]
  },
  {
   "cell_type": "code",
   "execution_count": 50,
   "metadata": {},
   "outputs": [],
   "source": [
    "surf = merged.query('plan == \"surf\"')\n",
    "ultimate = merged.query('plan == \"ultimate\"')"
   ]
  },
  {
   "cell_type": "code",
   "execution_count": 51,
   "metadata": {},
   "outputs": [
    {
     "data": {
      "text/plain": [
       "<matplotlib.legend.Legend at 0x7fc956a3ad30>"
      ]
     },
     "execution_count": 51,
     "metadata": {},
     "output_type": "execute_result"
    },
    {
     "data": {
      "image/png": "[encoded data removed]",
      "text/plain": [
       "<Figure size 432x288 with 1 Axes>"
      ]
     },
     "metadata": {
      "needs_background": "light"
     },
     "output_type": "display_data"
    }
   ],
   "source": [
    "plt.hist(surf['required_messages'], bins= 30, alpha=0.45, color= 'blue')\n",
    "plt.hist(ultimate['required_messages'], bins= 30, alpha=0.45, color= 'purple')\n",
    "plt.title('Required Messages')\n",
    "plt.legend(['surf', 'ultimate'])"
   ]
  },
  {
   "cell_type": "markdown",
   "metadata": {},
   "source": [
    "Surf Plan users require more minutes per month compared to Ultimate Plan users."
   ]
  },
  {
   "cell_type": "code",
   "execution_count": 52,
   "metadata": {},
   "outputs": [
    {
     "data": {
      "text/plain": [
       "plan\n",
       "surf        81.888846\n",
       "ultimate    87.353963\n",
       "dtype: float64"
      ]
     },
     "execution_count": 52,
     "metadata": {},
     "output_type": "execute_result"
    }
   ],
   "source": [
    "ave_messages.var()"
   ]
  },
  {
   "cell_type": "code",
   "execution_count": 53,
   "metadata": {},
   "outputs": [
    {
     "data": {
      "text/plain": [
       "plan\n",
       "surf        24.656000\n",
       "ultimate    31.089497\n",
       "dtype: float64"
      ]
     },
     "execution_count": 53,
     "metadata": {},
     "output_type": "execute_result"
    }
   ],
   "source": [
    "ave_messages.mean()"
   ]
  },
  {
   "cell_type": "code",
   "execution_count": 54,
   "metadata": {},
   "outputs": [
    {
     "data": {
      "text/plain": [
       "<AxesSubplot:title={'center':'Distribution of Number of Messages Sent Per Month'}>"
      ]
     },
     "execution_count": 54,
     "metadata": {},
     "output_type": "execute_result"
    },
    {
     "data": {
      "image/png": "[encoded data removed]",
      "text/plain": [
       "<Figure size 432x288 with 1 Axes>"
      ]
     },
     "metadata": {
      "needs_background": "light"
     },
     "output_type": "display_data"
    }
   ],
   "source": [
    "ave_messages.plot(kind='box', title='Distribution of Number of Messages Sent Per Month')"
   ]
  },
  {
   "cell_type": "markdown",
   "metadata": {},
   "source": [
    "\n",
    "Ultimate Plans' users tend to send more messages compared to Surf Plans' users. Users are more likely to send more messages during December which might be due to holiday season. "
   ]
  },
  {
   "cell_type": "markdown",
   "metadata": {},
   "source": [
    " "
   ]
  },
  {
   "cell_type": "markdown",
   "metadata": {},
   "source": [
    "### Internet"
   ]
  },
  {
   "cell_type": "code",
   "execution_count": 55,
   "metadata": {},
   "outputs": [],
   "source": [
    "# Comparing the amount of internet traffic consumed by users per plan"
   ]
  },
  {
   "cell_type": "code",
   "execution_count": 56,
   "metadata": {},
   "outputs": [
    {
     "data": {
      "text/plain": [
       "<AxesSubplot:title={'center':'Average Internet Usage Each Month, Surf vs Ultimate'}, xlabel='month'>"
      ]
     },
     "execution_count": 56,
     "metadata": {},
     "output_type": "execute_result"
    },
    {
     "data": {
      "image/png": "[encoded data removed]",
      "text/plain": [
       "<Figure size 432x288 with 1 Axes>"
      ]
     },
     "metadata": {
      "needs_background": "light"
     },
     "output_type": "display_data"
    }
   ],
   "source": [
    "ave_internet = merged.pivot_table(index='month', columns='plan',values= 'gb_used', aggfunc='mean')\n",
    "ave_internet.plot(kind='bar', title='Average Internet Usage Each Month, Surf vs Ultimate')"
   ]
  },
  {
   "cell_type": "code",
   "execution_count": 57,
   "metadata": {},
   "outputs": [],
   "source": [
    "merged['required_internet'] = (merged['mb_per_month_included'] / 1024) - ((merged['mb_per_month_included'] /1024) - merged['gb_used'])"
   ]
  },
  {
   "cell_type": "code",
   "execution_count": 58,
   "metadata": {},
   "outputs": [],
   "source": [
    "surf = merged.query('plan == \"surf\"')\n",
    "ultimate = merged.query('plan == \"ultimate\"')"
   ]
  },
  {
   "cell_type": "code",
   "execution_count": 59,
   "metadata": {},
   "outputs": [
    {
     "data": {
      "text/plain": [
       "<matplotlib.legend.Legend at 0x7fc9565a3d90>"
      ]
     },
     "execution_count": 59,
     "metadata": {},
     "output_type": "execute_result"
    },
    {
     "data": {
      "image/png": "[encoded data removed]",
      "text/plain": [
       "<Figure size 432x288 with 1 Axes>"
      ]
     },
     "metadata": {
      "needs_background": "light"
     },
     "output_type": "display_data"
    }
   ],
   "source": [
    "plt.hist(surf['required_internet'], bins= 30, alpha=0.45, color= 'blue')\n",
    "plt.hist(ultimate['required_internet'], bins= 30, alpha=0.45, color= 'purple')\n",
    "plt.title('Required Internet')\n",
    "plt.legend(['surf', 'ultimate'])"
   ]
  },
  {
   "cell_type": "markdown",
   "metadata": {},
   "source": [
    "Surf Plan users are more likely to exceed the amonunt of internet their plan includes compared to Ultimate Plan users. \n"
   ]
  },
  {
   "cell_type": "code",
   "execution_count": 60,
   "metadata": {},
   "outputs": [
    {
     "data": {
      "text/plain": [
       "plan\n",
       "surf        13.164907\n",
       "ultimate     8.946993\n",
       "dtype: float64"
      ]
     },
     "execution_count": 60,
     "metadata": {},
     "output_type": "execute_result"
    }
   ],
   "source": [
    "ave_internet.var()"
   ]
  },
  {
   "cell_type": "code",
   "execution_count": 61,
   "metadata": {},
   "outputs": [
    {
     "data": {
      "text/plain": [
       "plan\n",
       "surf        14.594808\n",
       "ultimate    16.346165\n",
       "dtype: float64"
      ]
     },
     "execution_count": 61,
     "metadata": {},
     "output_type": "execute_result"
    }
   ],
   "source": [
    "ave_internet.mean()"
   ]
  },
  {
   "cell_type": "code",
   "execution_count": 62,
   "metadata": {},
   "outputs": [
    {
     "data": {
      "text/plain": [
       "<AxesSubplot:title={'center':'Distribution of Number of Messages Sent Per Month'}>"
      ]
     },
     "execution_count": 62,
     "metadata": {},
     "output_type": "execute_result"
    },
    {
     "data": {
      "image/png": "[encoded data removed]",
      "text/plain": [
       "<Figure size 432x288 with 1 Axes>"
      ]
     },
     "metadata": {
      "needs_background": "light"
     },
     "output_type": "display_data"
    }
   ],
   "source": [
    "ave_internet.plot(kind='box', title='Distribution of Number of Messages Sent Per Month')"
   ]
  },
  {
   "cell_type": "markdown",
   "metadata": {},
   "source": [
    "\n",
    "Surf Plan users are more likely to exceed their plan on internet usage which causes them to pay extra. In average, they spent 14513 mb which is almost what their plan offers. Ultimate Plan users tend to spend only half of their monthly limit and the distribution is lower. "
   ]
  },
  {
   "cell_type": "markdown",
   "metadata": {},
   "source": [
    " "
   ]
  },
  {
   "cell_type": "markdown",
   "metadata": {},
   "source": [
    "## Revenue"
   ]
  },
  {
   "cell_type": "code",
   "execution_count": 63,
   "metadata": {},
   "outputs": [
    {
     "data": {
      "text/plain": [
       "<AxesSubplot:title={'center':'Average Revenue For Each Month, Surf vs Ultimate '}, xlabel='month'>"
      ]
     },
     "execution_count": 63,
     "metadata": {},
     "output_type": "execute_result"
    },
    {
     "data": {
      "image/png": "[encoded data removed]",
      "text/plain": [
       "<Figure size 432x288 with 1 Axes>"
      ]
     },
     "metadata": {
      "needs_background": "light"
     },
     "output_type": "display_data"
    }
   ],
   "source": [
    "ave_revenue = merged.pivot_table(index='month', columns='plan',values= 'monthly_revenue', aggfunc='mean')\n",
    "ave_revenue.plot(kind='bar', title='Average Revenue For Each Month, Surf vs Ultimate ')"
   ]
  },
  {
   "cell_type": "code",
   "execution_count": 64,
   "metadata": {},
   "outputs": [
    {
     "data": {
      "text/html": [
       "<div>\n",
       "<style scoped>\n",
       "    .dataframe tbody tr th:only-of-type {\n",
       "        vertical-align: middle;\n",
       "    }\n",
       "\n",
       "    .dataframe tbody tr th {\n",
       "        vertical-align: top;\n",
       "    }\n",
       "\n",
       "    .dataframe thead th {\n",
       "        text-align: right;\n",
       "    }\n",
       "</style>\n",
       "<table border=\"1\" class=\"dataframe\">\n",
       "  <thead>\n",
       "    <tr style=\"text-align: right;\">\n",
       "      <th>plan</th>\n",
       "      <th>surf</th>\n",
       "      <th>ultimate</th>\n",
       "    </tr>\n",
       "    <tr>\n",
       "      <th>month</th>\n",
       "      <th></th>\n",
       "      <th></th>\n",
       "    </tr>\n",
       "  </thead>\n",
       "  <tbody>\n",
       "    <tr>\n",
       "      <th>1.0</th>\n",
       "      <td>40.00</td>\n",
       "      <td>280.0</td>\n",
       "    </tr>\n",
       "    <tr>\n",
       "      <th>2.0</th>\n",
       "      <td>309.57</td>\n",
       "      <td>490.0</td>\n",
       "    </tr>\n",
       "    <tr>\n",
       "      <th>3.0</th>\n",
       "      <td>1056.65</td>\n",
       "      <td>896.0</td>\n",
       "    </tr>\n",
       "    <tr>\n",
       "      <th>4.0</th>\n",
       "      <td>2035.53</td>\n",
       "      <td>1533.0</td>\n",
       "    </tr>\n",
       "    <tr>\n",
       "      <th>5.0</th>\n",
       "      <td>3667.37</td>\n",
       "      <td>2051.0</td>\n",
       "    </tr>\n",
       "    <tr>\n",
       "      <th>6.0</th>\n",
       "      <td>4779.80</td>\n",
       "      <td>3367.0</td>\n",
       "    </tr>\n",
       "    <tr>\n",
       "      <th>7.0</th>\n",
       "      <td>7583.56</td>\n",
       "      <td>4242.0</td>\n",
       "    </tr>\n",
       "    <tr>\n",
       "      <th>8.0</th>\n",
       "      <td>10356.85</td>\n",
       "      <td>5173.0</td>\n",
       "    </tr>\n",
       "    <tr>\n",
       "      <th>9.0</th>\n",
       "      <td>11304.67</td>\n",
       "      <td>6195.0</td>\n",
       "    </tr>\n",
       "    <tr>\n",
       "      <th>10.0</th>\n",
       "      <td>15504.83</td>\n",
       "      <td>7665.0</td>\n",
       "    </tr>\n",
       "    <tr>\n",
       "      <th>11.0</th>\n",
       "      <td>16415.21</td>\n",
       "      <td>9107.0</td>\n",
       "    </tr>\n",
       "    <tr>\n",
       "      <th>12.0</th>\n",
       "      <td>22437.14</td>\n",
       "      <td>11067.0</td>\n",
       "    </tr>\n",
       "  </tbody>\n",
       "</table>\n",
       "</div>"
      ],
      "text/plain": [
       "plan       surf  ultimate\n",
       "month                    \n",
       "1.0       40.00     280.0\n",
       "2.0      309.57     490.0\n",
       "3.0     1056.65     896.0\n",
       "4.0     2035.53    1533.0\n",
       "5.0     3667.37    2051.0\n",
       "6.0     4779.80    3367.0\n",
       "7.0     7583.56    4242.0\n",
       "8.0    10356.85    5173.0\n",
       "9.0    11304.67    6195.0\n",
       "10.0   15504.83    7665.0\n",
       "11.0   16415.21    9107.0\n",
       "12.0   22437.14   11067.0"
      ]
     },
     "execution_count": 64,
     "metadata": {},
     "output_type": "execute_result"
    }
   ],
   "source": [
    "merged.pivot_table(index='month', columns='plan',values= 'monthly_revenue', aggfunc='sum')"
   ]
  },
  {
   "cell_type": "code",
   "execution_count": 65,
   "metadata": {},
   "outputs": [
    {
     "data": {
      "text/plain": [
       "plan\n",
       "surf        216.038742\n",
       "ultimate      1.860681\n",
       "dtype: float64"
      ]
     },
     "execution_count": 65,
     "metadata": {},
     "output_type": "execute_result"
    }
   ],
   "source": [
    "ave_revenue.var()"
   ]
  },
  {
   "cell_type": "code",
   "execution_count": 66,
   "metadata": {},
   "outputs": [
    {
     "data": {
      "text/plain": [
       "plan\n",
       "surf        51.401025\n",
       "ultimate    72.011068\n",
       "dtype: float64"
      ]
     },
     "execution_count": 66,
     "metadata": {},
     "output_type": "execute_result"
    }
   ],
   "source": [
    "ave_revenue.mean()"
   ]
  },
  {
   "cell_type": "code",
   "execution_count": 67,
   "metadata": {},
   "outputs": [
    {
     "data": {
      "text/plain": [
       "<AxesSubplot:title={'center':'Distribution of Monthly Revenue'}>"
      ]
     },
     "execution_count": 67,
     "metadata": {},
     "output_type": "execute_result"
    },
    {
     "data": {
      "image/png": "[encoded data removed]",
      "text/plain": [
       "<Figure size 432x288 with 1 Axes>"
      ]
     },
     "metadata": {
      "needs_background": "light"
     },
     "output_type": "display_data"
    }
   ],
   "source": [
    "ave_revenue.plot(kind='box', title='Distribution of Monthly Revenue')"
   ]
  },
  {
   "cell_type": "markdown",
   "metadata": {},
   "source": [
    "Surf Plan users pay more than their monthly plan cost almost every month whereas Ultime Plan users do not exceed their plan limits. In total, Surf Plan users bring in more revenue compared to Ultimmate Plan. In terms of variance, Surf Plan users have a higher distribution of revenue. "
   ]
  },
  {
   "cell_type": "markdown",
   "metadata": {},
   "source": [
    " "
   ]
  },
  {
   "cell_type": "markdown",
   "metadata": {},
   "source": [
    "## Test statistical hypotheses"
   ]
  },
  {
   "cell_type": "markdown",
   "metadata": {},
   "source": [
    "H0: Average revenue of Surf and Ultimate plan doesn't differ. \n",
    "\n",
    "H1: Average revenue of Surf and Ultimate plan does differ."
   ]
  },
  {
   "cell_type": "code",
   "execution_count": 68,
   "metadata": {},
   "outputs": [
    {
     "name": "stdout",
     "output_type": "stream",
     "text": [
      "p_value: 7.83119144714113e-05\n",
      "We reject the null hypothesis.\n"
     ]
    }
   ],
   "source": [
    "# Testing the hypotheses\n",
    "surf = ave_revenue['surf']\n",
    "\n",
    "ultimate = ave_revenue['ultimate']\n",
    "\n",
    "alpha = 0.05\n",
    "\n",
    "results = st.ttest_ind(surf, ultimate)\n",
    "\n",
    "print('p_value:', results.pvalue)\n",
    "\n",
    "if results.pvalue < alpha:\n",
    "    print('We reject the null hypothesis.')\n",
    "else:\n",
    "    print('We cannot reject the null hypothesis.')\n"
   ]
  },
  {
   "cell_type": "code",
   "execution_count": 70,
   "metadata": {},
   "outputs": [],
   "source": [
    "ny_nj = merged.query('city == \"New York-Newark-Jersey City, NY-NJ-PA MSA\"')\n",
    "ny_nj_rev = ny_nj.pivot_table(index='month', values='monthly_revenue', aggfunc='mean')"
   ]
  },
  {
   "cell_type": "code",
   "execution_count": 71,
   "metadata": {},
   "outputs": [
    {
     "data": {
      "text/html": [
       "<div>\n",
       "<style scoped>\n",
       "    .dataframe tbody tr th:only-of-type {\n",
       "        vertical-align: middle;\n",
       "    }\n",
       "\n",
       "    .dataframe tbody tr th {\n",
       "        vertical-align: top;\n",
       "    }\n",
       "\n",
       "    .dataframe thead th {\n",
       "        text-align: right;\n",
       "    }\n",
       "</style>\n",
       "<table border=\"1\" class=\"dataframe\">\n",
       "  <thead>\n",
       "    <tr style=\"text-align: right;\">\n",
       "      <th></th>\n",
       "      <th>monthly_revenue</th>\n",
       "    </tr>\n",
       "    <tr>\n",
       "      <th>month</th>\n",
       "      <th></th>\n",
       "    </tr>\n",
       "  </thead>\n",
       "  <tbody>\n",
       "    <tr>\n",
       "      <th>1.0</th>\n",
       "      <td>53.333333</td>\n",
       "    </tr>\n",
       "    <tr>\n",
       "      <th>2.0</th>\n",
       "      <td>50.683571</td>\n",
       "    </tr>\n",
       "    <tr>\n",
       "      <th>3.0</th>\n",
       "      <td>58.821034</td>\n",
       "    </tr>\n",
       "    <tr>\n",
       "      <th>4.0</th>\n",
       "      <td>52.506316</td>\n",
       "    </tr>\n",
       "    <tr>\n",
       "      <th>5.0</th>\n",
       "      <td>55.170455</td>\n",
       "    </tr>\n",
       "    <tr>\n",
       "      <th>6.0</th>\n",
       "      <td>58.808908</td>\n",
       "    </tr>\n",
       "    <tr>\n",
       "      <th>7.0</th>\n",
       "      <td>68.380136</td>\n",
       "    </tr>\n",
       "    <tr>\n",
       "      <th>8.0</th>\n",
       "      <td>68.487865</td>\n",
       "    </tr>\n",
       "    <tr>\n",
       "      <th>9.0</th>\n",
       "      <td>62.979528</td>\n",
       "    </tr>\n",
       "    <tr>\n",
       "      <th>10.0</th>\n",
       "      <td>67.266034</td>\n",
       "    </tr>\n",
       "    <tr>\n",
       "      <th>11.0</th>\n",
       "      <td>61.509368</td>\n",
       "    </tr>\n",
       "    <tr>\n",
       "      <th>12.0</th>\n",
       "      <td>72.766260</td>\n",
       "    </tr>\n",
       "  </tbody>\n",
       "</table>\n",
       "</div>"
      ],
      "text/plain": [
       "       monthly_revenue\n",
       "month                 \n",
       "1.0          53.333333\n",
       "2.0          50.683571\n",
       "3.0          58.821034\n",
       "4.0          52.506316\n",
       "5.0          55.170455\n",
       "6.0          58.808908\n",
       "7.0          68.380136\n",
       "8.0          68.487865\n",
       "9.0          62.979528\n",
       "10.0         67.266034\n",
       "11.0         61.509368\n",
       "12.0         72.766260"
      ]
     },
     "execution_count": 71,
     "metadata": {},
     "output_type": "execute_result"
    }
   ],
   "source": [
    "other = merged.query('city != \"New York-Newark-Jersey City, NY-NJ-PA MSA\"')\n",
    "other_rev = other.pivot_table(index='month', values='monthly_revenue', aggfunc='mean')\n",
    "other_rev"
   ]
  },
  {
   "cell_type": "markdown",
   "metadata": {},
   "source": [
    "H0: Average revenue of users from NY-NJ area and users from other regions doesn't differ. \n",
    "\n",
    "H1: Average revenue of users from NY-NJ area and users from other regions does differ."
   ]
  },
  {
   "cell_type": "code",
   "execution_count": 273,
   "metadata": {},
   "outputs": [
    {
     "name": "stdout",
     "output_type": "stream",
     "text": [
      "p_value: [0.07228256]\n",
      "We cannot reject the null hypothesis.\n"
     ]
    }
   ],
   "source": [
    "# Testing the hypotheses\n",
    "\n",
    "alpha = 0.05\n",
    "\n",
    "results = st.ttest_ind(ny_nj_rev, other_rev)\n",
    "\n",
    "print('p_value:', results.pvalue)\n",
    "\n",
    "if results.pvalue < alpha:\n",
    "    print('We reject the null hypothesis.')\n",
    "else:\n",
    "    print('We cannot reject the null hypothesis.')\n",
    "\n"
   ]
  },
  {
   "cell_type": "markdown",
   "metadata": {},
   "source": [
    "## General conclusion"
   ]
  },
  {
   "cell_type": "markdown",
   "metadata": {},
   "source": [
    "To prepare the datat for analyzing, all dataframes were fixed by changing data types and sorting values by date. The duration of calls and total internet usage at the end of the month were rounded up. Number of calls, amount of minutes spent, number of messages sent, and amount of internet usage by each user per month was calculated and added as a new column. All data were merged and missing values were filled in with 0. Plan information was added to the merged dataframe based on the user's plan. Monthly revenue for each user was calculated by finding over limit usage then multiplying by its charge and adding it to monthly cost of the plan. This was added as a new column to the dataframe. Average duration of calls, number of messages sent, and amount of internet usage  per each plan per each month were compared and bar plots were plotted. For each variable, variance and mean were calculated and to understand the distribution boxplots were created. I found that duration of the calls don't vary by plan where as number of messages sent does vary. Ultimace Plan users send more messages in averarge per month compared to SUrf Plan users. The biggest difference between the two plans is internet usage. Surf Plan users tend to exceed their plan limit almost every month and be charged for extra usage. Ultimate Plan users, in average, only spend half of their Gbs included in their plan, thus pay no extra than their monthly plan cost. As in revenue, Ultime Plan users pay more each month than Surf Plan users as their plan is more expensive but in total Surf plan users bring in more revenue since they pay extra for every gb usage over their limit. It is statistically significant that the average reveune of users living in NY-NJ is different than the average revenue of users living in other regions."
   ]
  },
  {
   "cell_type": "markdown",
   "metadata": {},
   "source": [
    " "
   ]
  }
 ],
 "metadata": {
  "ExecuteTimeLog": [
   {
    "duration": 828,
    "start_time": "2021-11-16T09:21:11.304Z"
   },
   {
    "duration": 893,
    "start_time": "2021-11-16T09:21:17.728Z"
   },
   {
    "duration": 1150,
    "start_time": "2021-11-16T09:21:29.568Z"
   },
   {
    "duration": 3,
    "start_time": "2021-11-16T09:24:14.495Z"
   },
   {
    "duration": 120,
    "start_time": "2021-11-16T09:24:46.630Z"
   },
   {
    "duration": 3,
    "start_time": "2021-11-16T09:28:27.882Z"
   },
   {
    "duration": 4,
    "start_time": "2021-11-16T09:29:54.281Z"
   },
   {
    "duration": 3,
    "start_time": "2021-11-16T09:30:45.936Z"
   },
   {
    "duration": 4,
    "start_time": "2021-11-16T09:31:06.300Z"
   },
   {
    "duration": 113,
    "start_time": "2021-11-16T09:31:37.208Z"
   },
   {
    "duration": 143,
    "start_time": "2021-11-16T09:31:48.656Z"
   },
   {
    "duration": 98,
    "start_time": "2021-11-16T09:31:55.678Z"
   },
   {
    "duration": 3,
    "start_time": "2021-11-16T09:32:08.535Z"
   },
   {
    "duration": 111,
    "start_time": "2021-11-16T09:32:10.120Z"
   },
   {
    "duration": 3,
    "start_time": "2021-11-16T09:32:15.732Z"
   },
   {
    "duration": 4,
    "start_time": "2021-11-16T09:32:29.423Z"
   },
   {
    "duration": 3,
    "start_time": "2021-11-16T10:03:03.074Z"
   },
   {
    "duration": 3,
    "start_time": "2021-11-16T10:10:01.288Z"
   },
   {
    "duration": 3,
    "start_time": "2021-11-16T10:10:46.923Z"
   },
   {
    "duration": 121,
    "start_time": "2021-11-16T10:37:46.494Z"
   },
   {
    "duration": 125,
    "start_time": "2021-11-16T10:38:20.632Z"
   },
   {
    "duration": 112,
    "start_time": "2021-11-16T10:46:53.001Z"
   },
   {
    "duration": 110,
    "start_time": "2021-11-16T10:48:25.775Z"
   },
   {
    "duration": 3,
    "start_time": "2021-11-16T10:50:18.720Z"
   },
   {
    "duration": 4,
    "start_time": "2021-11-16T10:50:37.649Z"
   },
   {
    "duration": 2,
    "start_time": "2021-11-16T10:50:51.884Z"
   },
   {
    "duration": 3,
    "start_time": "2021-11-16T10:51:56.237Z"
   },
   {
    "duration": 101,
    "start_time": "2021-11-16T10:53:13.791Z"
   },
   {
    "duration": 3,
    "start_time": "2021-11-16T10:55:59.186Z"
   },
   {
    "duration": 3,
    "start_time": "2021-11-16T10:56:10.751Z"
   },
   {
    "duration": 3,
    "start_time": "2021-11-16T10:56:49.038Z"
   },
   {
    "duration": 3,
    "start_time": "2021-11-16T10:56:49.174Z"
   },
   {
    "duration": 4,
    "start_time": "2021-11-16T10:56:49.414Z"
   },
   {
    "duration": 3,
    "start_time": "2021-11-16T10:56:49.680Z"
   },
   {
    "duration": 3,
    "start_time": "2021-11-16T10:56:50.370Z"
   },
   {
    "duration": 114,
    "start_time": "2021-11-16T10:59:34.518Z"
   },
   {
    "duration": 3,
    "start_time": "2021-11-16T11:01:41.201Z"
   },
   {
    "duration": 116,
    "start_time": "2021-11-16T11:01:48.754Z"
   },
   {
    "duration": 3,
    "start_time": "2021-11-16T11:02:16.685Z"
   },
   {
    "duration": 3,
    "start_time": "2021-11-16T11:02:19.479Z"
   },
   {
    "duration": 3,
    "start_time": "2021-11-16T11:02:47.067Z"
   },
   {
    "duration": 3,
    "start_time": "2021-11-16T11:02:49.353Z"
   },
   {
    "duration": 3,
    "start_time": "2021-11-16T11:03:07.835Z"
   },
   {
    "duration": 3,
    "start_time": "2021-11-16T11:03:07.953Z"
   },
   {
    "duration": 112,
    "start_time": "2021-11-16T11:07:52.072Z"
   },
   {
    "duration": 187,
    "start_time": "2021-11-16T11:09:23.468Z"
   },
   {
    "duration": 4,
    "start_time": "2021-11-16T11:10:01.455Z"
   },
   {
    "duration": 3,
    "start_time": "2021-11-16T11:10:05.069Z"
   },
   {
    "duration": 4,
    "start_time": "2021-11-16T11:10:13.376Z"
   },
   {
    "duration": 3,
    "start_time": "2021-11-16T11:10:14.434Z"
   },
   {
    "duration": 3,
    "start_time": "2021-11-16T11:10:22.853Z"
   },
   {
    "duration": 4,
    "start_time": "2021-11-16T11:27:29.279Z"
   },
   {
    "duration": 4,
    "start_time": "2021-11-16T11:29:08.919Z"
   },
   {
    "duration": 118,
    "start_time": "2021-11-16T11:29:46.703Z"
   },
   {
    "duration": 437,
    "start_time": "2021-11-16T11:36:02.181Z"
   },
   {
    "duration": 157,
    "start_time": "2021-11-16T11:36:14.388Z"
   },
   {
    "duration": 207,
    "start_time": "2021-11-16T11:47:15.898Z"
   },
   {
    "duration": 3,
    "start_time": "2021-11-16T11:53:52.092Z"
   },
   {
    "duration": 3,
    "start_time": "2021-11-16T11:53:52.236Z"
   },
   {
    "duration": 3,
    "start_time": "2021-11-16T11:59:12.005Z"
   },
   {
    "duration": 112,
    "start_time": "2021-11-16T12:00:33.446Z"
   },
   {
    "duration": 3,
    "start_time": "2021-11-16T12:02:14.453Z"
   },
   {
    "duration": 3,
    "start_time": "2021-11-16T12:02:39.512Z"
   },
   {
    "duration": 106,
    "start_time": "2021-11-16T12:03:03.460Z"
   },
   {
    "duration": 3,
    "start_time": "2021-11-17T20:37:21.139Z"
   },
   {
    "duration": 3,
    "start_time": "2021-11-17T20:37:22.229Z"
   },
   {
    "duration": 3,
    "start_time": "2021-11-17T20:38:38.806Z"
   },
   {
    "duration": 3,
    "start_time": "2021-11-17T20:38:41.958Z"
   },
   {
    "duration": 3,
    "start_time": "2021-11-17T20:43:46.551Z"
   },
   {
    "duration": 4,
    "start_time": "2021-11-17T20:58:21.835Z"
   },
   {
    "duration": 3,
    "start_time": "2021-11-17T20:59:21.872Z"
   },
   {
    "duration": 4,
    "start_time": "2021-11-17T20:59:45.352Z"
   },
   {
    "duration": 4,
    "start_time": "2021-11-17T20:59:49.646Z"
   },
   {
    "duration": 159,
    "start_time": "2021-11-17T21:02:26.949Z"
   },
   {
    "duration": 3,
    "start_time": "2021-11-17T21:03:53.461Z"
   },
   {
    "duration": 3,
    "start_time": "2021-11-17T21:03:53.694Z"
   },
   {
    "duration": 3,
    "start_time": "2021-11-17T21:05:28.145Z"
   },
   {
    "duration": 116,
    "start_time": "2021-11-17T21:05:57.787Z"
   },
   {
    "duration": 3,
    "start_time": "2021-11-17T21:06:37.993Z"
   },
   {
    "duration": 3,
    "start_time": "2021-11-17T21:06:38.261Z"
   },
   {
    "duration": 3,
    "start_time": "2021-11-17T21:11:54.358Z"
   },
   {
    "duration": 3,
    "start_time": "2021-11-17T21:12:43.846Z"
   },
   {
    "duration": 4,
    "start_time": "2021-11-17T21:13:08.773Z"
   },
   {
    "duration": 3,
    "start_time": "2021-11-17T21:14:44.441Z"
   },
   {
    "duration": 3,
    "start_time": "2021-11-17T21:15:42.059Z"
   },
   {
    "duration": 4,
    "start_time": "2021-11-17T21:15:51.995Z"
   },
   {
    "duration": 3,
    "start_time": "2021-11-17T21:15:53.923Z"
   },
   {
    "duration": 3,
    "start_time": "2021-11-17T21:15:55.282Z"
   },
   {
    "duration": 3,
    "start_time": "2021-11-17T21:16:28.492Z"
   },
   {
    "duration": 3,
    "start_time": "2021-11-17T21:16:32.603Z"
   },
   {
    "duration": 3,
    "start_time": "2021-11-17T21:17:06.941Z"
   },
   {
    "duration": 98,
    "start_time": "2021-11-17T21:18:05.733Z"
   },
   {
    "duration": 4,
    "start_time": "2021-11-17T21:21:35.255Z"
   },
   {
    "duration": 3,
    "start_time": "2021-11-17T21:21:37.804Z"
   },
   {
    "duration": 4,
    "start_time": "2021-11-17T21:23:06.071Z"
   },
   {
    "duration": 3,
    "start_time": "2021-11-17T21:23:24.799Z"
   },
   {
    "duration": 3,
    "start_time": "2021-11-17T21:23:32.591Z"
   },
   {
    "duration": 98,
    "start_time": "2021-11-17T21:28:31.559Z"
   },
   {
    "duration": 3,
    "start_time": "2021-11-17T21:28:45.448Z"
   },
   {
    "duration": 3,
    "start_time": "2021-11-17T21:29:17.303Z"
   },
   {
    "duration": 3,
    "start_time": "2021-11-17T21:29:29.617Z"
   },
   {
    "duration": 3,
    "start_time": "2021-11-17T21:29:32.681Z"
   },
   {
    "duration": 3,
    "start_time": "2021-11-17T21:36:11.474Z"
   },
   {
    "duration": 3,
    "start_time": "2021-11-17T21:36:14.791Z"
   },
   {
    "duration": 3,
    "start_time": "2021-11-17T21:36:53.943Z"
   },
   {
    "duration": 3,
    "start_time": "2021-11-17T21:36:56.165Z"
   },
   {
    "duration": 4,
    "start_time": "2021-11-17T21:37:16.590Z"
   },
   {
    "duration": 3,
    "start_time": "2021-11-17T21:37:22.702Z"
   },
   {
    "duration": 4,
    "start_time": "2021-11-17T21:38:03.479Z"
   },
   {
    "duration": 3,
    "start_time": "2021-11-17T21:38:08.601Z"
   },
   {
    "duration": 3,
    "start_time": "2021-11-17T21:38:12.928Z"
   },
   {
    "duration": 3,
    "start_time": "2021-11-17T21:38:48.896Z"
   },
   {
    "duration": 2,
    "start_time": "2021-11-17T21:38:49.171Z"
   },
   {
    "duration": 4,
    "start_time": "2021-11-17T21:39:57.889Z"
   },
   {
    "duration": 3,
    "start_time": "2021-11-17T21:39:58.057Z"
   },
   {
    "duration": 3,
    "start_time": "2021-11-17T21:41:20.108Z"
   },
   {
    "duration": 3,
    "start_time": "2021-11-17T21:41:20.629Z"
   },
   {
    "duration": 3,
    "start_time": "2021-11-17T21:42:49.136Z"
   },
   {
    "duration": 3,
    "start_time": "2021-11-17T21:43:15.137Z"
   },
   {
    "duration": 4,
    "start_time": "2021-11-17T21:43:16.766Z"
   },
   {
    "duration": 4,
    "start_time": "2021-11-17T21:43:31.711Z"
   },
   {
    "duration": 3,
    "start_time": "2021-11-17T21:43:36.312Z"
   },
   {
    "duration": 4,
    "start_time": "2021-11-17T21:45:08.825Z"
   },
   {
    "duration": 4,
    "start_time": "2021-11-17T21:45:10.119Z"
   },
   {
    "duration": 4,
    "start_time": "2021-11-17T21:45:13.748Z"
   },
   {
    "duration": 3,
    "start_time": "2021-11-17T21:45:22.219Z"
   },
   {
    "duration": 3,
    "start_time": "2021-11-17T21:45:33.412Z"
   },
   {
    "duration": 2,
    "start_time": "2021-11-17T21:46:01.885Z"
   },
   {
    "duration": 3,
    "start_time": "2021-11-17T21:46:03.628Z"
   },
   {
    "duration": 107,
    "start_time": "2021-11-17T21:47:32.512Z"
   },
   {
    "duration": 103,
    "start_time": "2021-11-17T21:50:36.243Z"
   },
   {
    "duration": 3,
    "start_time": "2021-11-18T06:28:31.440Z"
   },
   {
    "duration": 3,
    "start_time": "2021-11-18T06:29:00.168Z"
   },
   {
    "duration": 3,
    "start_time": "2021-11-18T06:31:27.008Z"
   },
   {
    "duration": 2,
    "start_time": "2021-11-18T06:35:34.288Z"
   },
   {
    "duration": 2,
    "start_time": "2021-11-18T06:38:04.527Z"
   },
   {
    "duration": 1218,
    "start_time": "2022-08-08T01:14:02.599Z"
   },
   {
    "duration": 988,
    "start_time": "2022-08-08T01:40:07.283Z"
   },
   {
    "duration": 15,
    "start_time": "2022-08-08T01:40:58.988Z"
   },
   {
    "duration": 11,
    "start_time": "2022-08-08T01:41:15.506Z"
   },
   {
    "duration": 10,
    "start_time": "2022-08-08T01:41:36.183Z"
   },
   {
    "duration": 9,
    "start_time": "2022-08-08T01:44:22.028Z"
   },
   {
    "duration": 12,
    "start_time": "2022-08-08T01:45:53.718Z"
   },
   {
    "duration": 9,
    "start_time": "2022-08-08T01:46:13.899Z"
   },
   {
    "duration": 11,
    "start_time": "2022-08-08T01:46:20.551Z"
   },
   {
    "duration": 46,
    "start_time": "2022-08-10T00:33:14.937Z"
   },
   {
    "duration": 1208,
    "start_time": "2022-08-10T00:33:25.208Z"
   },
   {
    "duration": 944,
    "start_time": "2022-08-10T00:33:26.419Z"
   },
   {
    "duration": 13,
    "start_time": "2022-08-10T00:33:27.365Z"
   },
   {
    "duration": 21,
    "start_time": "2022-08-10T00:33:27.379Z"
   },
   {
    "duration": 9,
    "start_time": "2022-08-10T00:33:28.662Z"
   },
   {
    "duration": 11,
    "start_time": "2022-08-10T00:33:30.487Z"
   },
   {
    "duration": 10,
    "start_time": "2022-08-10T00:33:31.340Z"
   },
   {
    "duration": 57,
    "start_time": "2022-08-10T00:33:33.908Z"
   },
   {
    "duration": 4,
    "start_time": "2022-08-10T00:33:39.812Z"
   },
   {
    "duration": 7,
    "start_time": "2022-08-10T00:34:12.322Z"
   },
   {
    "duration": 6,
    "start_time": "2022-08-10T00:34:30.511Z"
   },
   {
    "duration": 5,
    "start_time": "2022-08-10T00:34:58.755Z"
   },
   {
    "duration": 18,
    "start_time": "2022-08-10T00:35:38.436Z"
   },
   {
    "duration": 18,
    "start_time": "2022-08-10T00:35:48.659Z"
   },
   {
    "duration": 15,
    "start_time": "2022-08-10T00:36:16.003Z"
   },
   {
    "duration": 9,
    "start_time": "2022-08-10T00:36:22.324Z"
   },
   {
    "duration": 9,
    "start_time": "2022-08-10T00:36:32.234Z"
   },
   {
    "duration": 13,
    "start_time": "2022-08-10T00:36:35.958Z"
   },
   {
    "duration": 9,
    "start_time": "2022-08-10T00:36:39.574Z"
   },
   {
    "duration": 8,
    "start_time": "2022-08-10T00:36:42.763Z"
   },
   {
    "duration": 10,
    "start_time": "2022-08-10T00:36:56.552Z"
   },
   {
    "duration": 28,
    "start_time": "2022-08-10T00:37:00.746Z"
   },
   {
    "duration": 13,
    "start_time": "2022-08-10T00:37:03.459Z"
   },
   {
    "duration": 5,
    "start_time": "2022-08-10T00:37:31.717Z"
   },
   {
    "duration": 9,
    "start_time": "2022-08-10T00:37:46.834Z"
   },
   {
    "duration": 8,
    "start_time": "2022-08-10T00:37:50.608Z"
   },
   {
    "duration": 9,
    "start_time": "2022-08-10T00:37:54.101Z"
   },
   {
    "duration": 8,
    "start_time": "2022-08-10T00:37:58.200Z"
   },
   {
    "duration": 14,
    "start_time": "2022-08-10T00:38:00.988Z"
   },
   {
    "duration": 9,
    "start_time": "2022-08-10T00:38:03.792Z"
   },
   {
    "duration": 8,
    "start_time": "2022-08-10T00:38:07.306Z"
   },
   {
    "duration": 8,
    "start_time": "2022-08-10T00:38:09.825Z"
   },
   {
    "duration": 14,
    "start_time": "2022-08-10T00:38:12.692Z"
   },
   {
    "duration": 13,
    "start_time": "2022-08-10T00:38:16.419Z"
   },
   {
    "duration": 6,
    "start_time": "2022-08-10T00:39:42.124Z"
   },
   {
    "duration": 60,
    "start_time": "2022-08-10T00:41:50.808Z"
   },
   {
    "duration": 3,
    "start_time": "2022-08-10T00:42:03.510Z"
   },
   {
    "duration": 8,
    "start_time": "2022-08-10T00:42:19.889Z"
   },
   {
    "duration": 10,
    "start_time": "2022-08-10T00:43:39.949Z"
   },
   {
    "duration": 2,
    "start_time": "2022-08-10T00:43:56.520Z"
   },
   {
    "duration": 11,
    "start_time": "2022-08-10T00:43:57.374Z"
   },
   {
    "duration": 3,
    "start_time": "2022-08-10T00:44:04.265Z"
   },
   {
    "duration": 3,
    "start_time": "2022-08-10T00:44:27.033Z"
   },
   {
    "duration": 10,
    "start_time": "2022-08-10T00:44:27.768Z"
   },
   {
    "duration": 5,
    "start_time": "2022-08-10T00:44:39.028Z"
   },
   {
    "duration": 2,
    "start_time": "2022-08-10T00:45:12.571Z"
   },
   {
    "duration": 339,
    "start_time": "2022-08-10T00:45:13.212Z"
   },
   {
    "duration": 13,
    "start_time": "2022-08-10T00:45:14.004Z"
   },
   {
    "duration": 9,
    "start_time": "2022-08-10T00:45:14.224Z"
   },
   {
    "duration": 10,
    "start_time": "2022-08-10T00:45:15.371Z"
   },
   {
    "duration": 15,
    "start_time": "2022-08-10T00:45:16.682Z"
   },
   {
    "duration": 11,
    "start_time": "2022-08-10T00:45:16.907Z"
   },
   {
    "duration": 4,
    "start_time": "2022-08-10T00:45:18.046Z"
   },
   {
    "duration": 3,
    "start_time": "2022-08-10T00:45:18.745Z"
   },
   {
    "duration": 18,
    "start_time": "2022-08-10T00:45:26.382Z"
   },
   {
    "duration": 3,
    "start_time": "2022-08-10T00:47:39.472Z"
   },
   {
    "duration": 11,
    "start_time": "2022-08-10T00:47:39.949Z"
   },
   {
    "duration": 3,
    "start_time": "2022-08-10T00:50:14.581Z"
   },
   {
    "duration": 15,
    "start_time": "2022-08-10T00:50:15.431Z"
   },
   {
    "duration": 13,
    "start_time": "2022-08-10T00:50:26.153Z"
   },
   {
    "duration": 57,
    "start_time": "2022-08-10T00:50:53.282Z"
   },
   {
    "duration": 3,
    "start_time": "2022-08-10T00:50:58.566Z"
   },
   {
    "duration": 10,
    "start_time": "2022-08-10T00:50:59.173Z"
   },
   {
    "duration": 20,
    "start_time": "2022-08-10T00:51:45.853Z"
   },
   {
    "duration": 9,
    "start_time": "2022-08-10T00:52:03.112Z"
   },
   {
    "duration": 6,
    "start_time": "2022-08-10T00:52:46.203Z"
   },
   {
    "duration": 813,
    "start_time": "2022-08-10T01:06:13.290Z"
   },
   {
    "duration": 22,
    "start_time": "2022-08-10T01:06:28.004Z"
   },
   {
    "duration": 383,
    "start_time": "2022-08-10T01:07:27.458Z"
   },
   {
    "duration": 5,
    "start_time": "2022-08-10T01:08:40.768Z"
   },
   {
    "duration": 12,
    "start_time": "2022-08-10T01:08:47.976Z"
   },
   {
    "duration": 5,
    "start_time": "2022-08-10T01:08:50.205Z"
   },
   {
    "duration": 6,
    "start_time": "2022-08-10T01:08:57.287Z"
   },
   {
    "duration": 12,
    "start_time": "2022-08-10T01:09:11.078Z"
   },
   {
    "duration": 5,
    "start_time": "2022-08-10T01:09:23.156Z"
   },
   {
    "duration": 12,
    "start_time": "2022-08-10T01:09:24.257Z"
   },
   {
    "duration": 4,
    "start_time": "2022-08-10T01:09:30.799Z"
   },
   {
    "duration": 13,
    "start_time": "2022-08-10T01:09:31.553Z"
   },
   {
    "duration": 2,
    "start_time": "2022-08-10T01:09:37.999Z"
   },
   {
    "duration": 329,
    "start_time": "2022-08-10T01:09:38.905Z"
   },
   {
    "duration": 10,
    "start_time": "2022-08-10T01:09:39.793Z"
   },
   {
    "duration": 9,
    "start_time": "2022-08-10T01:09:40.477Z"
   },
   {
    "duration": 8,
    "start_time": "2022-08-10T01:09:41.236Z"
   },
   {
    "duration": 10,
    "start_time": "2022-08-10T01:09:42.142Z"
   },
   {
    "duration": 10,
    "start_time": "2022-08-10T01:09:42.489Z"
   },
   {
    "duration": 4,
    "start_time": "2022-08-10T01:09:44.358Z"
   },
   {
    "duration": 3,
    "start_time": "2022-08-10T01:09:45.100Z"
   },
   {
    "duration": 19,
    "start_time": "2022-08-10T01:09:45.529Z"
   },
   {
    "duration": 9,
    "start_time": "2022-08-10T01:09:45.784Z"
   },
   {
    "duration": 21,
    "start_time": "2022-08-10T01:09:51.525Z"
   },
   {
    "duration": 4,
    "start_time": "2022-08-10T01:09:52.792Z"
   },
   {
    "duration": 11,
    "start_time": "2022-08-10T01:09:53.430Z"
   },
   {
    "duration": 16,
    "start_time": "2022-08-10T01:10:04.980Z"
   },
   {
    "duration": 7,
    "start_time": "2022-08-10T01:10:12.966Z"
   },
   {
    "duration": 13,
    "start_time": "2022-08-10T01:10:25.545Z"
   },
   {
    "duration": 10,
    "start_time": "2022-08-10T01:10:41.383Z"
   },
   {
    "duration": 32,
    "start_time": "2022-08-10T01:10:50.876Z"
   },
   {
    "duration": 32,
    "start_time": "2022-08-10T01:10:54.540Z"
   },
   {
    "duration": 13,
    "start_time": "2022-08-10T01:11:43.396Z"
   },
   {
    "duration": 17,
    "start_time": "2022-08-10T01:42:59.418Z"
   },
   {
    "duration": 8,
    "start_time": "2022-08-10T01:43:35.865Z"
   },
   {
    "duration": 16,
    "start_time": "2022-08-10T01:46:38.843Z"
   },
   {
    "duration": 30,
    "start_time": "2022-08-10T01:50:06.492Z"
   },
   {
    "duration": 30,
    "start_time": "2022-08-10T01:51:11.845Z"
   },
   {
    "duration": 11,
    "start_time": "2022-08-10T01:51:44.832Z"
   },
   {
    "duration": 22,
    "start_time": "2022-08-10T01:52:04.497Z"
   },
   {
    "duration": 14,
    "start_time": "2022-08-10T01:52:06.021Z"
   },
   {
    "duration": 15,
    "start_time": "2022-08-10T01:52:30.397Z"
   },
   {
    "duration": 30,
    "start_time": "2022-08-10T01:53:06.827Z"
   },
   {
    "duration": 5,
    "start_time": "2022-08-10T01:53:37.006Z"
   },
   {
    "duration": 4,
    "start_time": "2022-08-10T01:53:55.878Z"
   },
   {
    "duration": 4,
    "start_time": "2022-08-10T01:54:36.340Z"
   },
   {
    "duration": 313,
    "start_time": "2022-08-10T01:54:37.460Z"
   },
   {
    "duration": 10,
    "start_time": "2022-08-10T01:54:39.812Z"
   },
   {
    "duration": 10,
    "start_time": "2022-08-10T01:54:40.406Z"
   },
   {
    "duration": 8,
    "start_time": "2022-08-10T01:54:42.303Z"
   },
   {
    "duration": 10,
    "start_time": "2022-08-10T01:54:44.254Z"
   },
   {
    "duration": 9,
    "start_time": "2022-08-10T01:54:44.861Z"
   },
   {
    "duration": 4,
    "start_time": "2022-08-10T01:54:47.704Z"
   },
   {
    "duration": 3,
    "start_time": "2022-08-10T01:54:49.327Z"
   },
   {
    "duration": 20,
    "start_time": "2022-08-10T01:54:51.919Z"
   },
   {
    "duration": 8,
    "start_time": "2022-08-10T01:54:53.138Z"
   },
   {
    "duration": 21,
    "start_time": "2022-08-10T01:54:55.720Z"
   },
   {
    "duration": 4,
    "start_time": "2022-08-10T01:54:56.991Z"
   },
   {
    "duration": 13,
    "start_time": "2022-08-10T01:55:06.927Z"
   },
   {
    "duration": 10,
    "start_time": "2022-08-10T01:55:51.607Z"
   },
   {
    "duration": 18,
    "start_time": "2022-08-10T01:56:08.129Z"
   },
   {
    "duration": 9,
    "start_time": "2022-08-10T01:56:08.360Z"
   },
   {
    "duration": 16,
    "start_time": "2022-08-10T01:56:09.637Z"
   },
   {
    "duration": 19,
    "start_time": "2022-08-10T01:56:10.610Z"
   },
   {
    "duration": 12,
    "start_time": "2022-08-10T01:56:10.894Z"
   },
   {
    "duration": 8,
    "start_time": "2022-08-10T01:56:46.365Z"
   },
   {
    "duration": 3,
    "start_time": "2022-08-10T01:57:07.548Z"
   },
   {
    "duration": 12,
    "start_time": "2022-08-10T01:57:10.243Z"
   },
   {
    "duration": 11,
    "start_time": "2022-08-10T01:57:10.463Z"
   },
   {
    "duration": 3,
    "start_time": "2022-08-10T01:57:11.408Z"
   },
   {
    "duration": 3,
    "start_time": "2022-08-10T01:57:11.927Z"
   },
   {
    "duration": 16,
    "start_time": "2022-08-10T01:57:12.382Z"
   },
   {
    "duration": 9,
    "start_time": "2022-08-10T01:57:12.583Z"
   },
   {
    "duration": 22,
    "start_time": "2022-08-10T01:57:13.527Z"
   },
   {
    "duration": 4,
    "start_time": "2022-08-10T01:57:14.121Z"
   },
   {
    "duration": 23,
    "start_time": "2022-08-10T01:57:14.331Z"
   },
   {
    "duration": 16,
    "start_time": "2022-08-10T01:57:14.737Z"
   },
   {
    "duration": 7,
    "start_time": "2022-08-10T01:57:14.961Z"
   },
   {
    "duration": 14,
    "start_time": "2022-08-10T01:57:16.478Z"
   },
   {
    "duration": 15,
    "start_time": "2022-08-10T01:57:17.107Z"
   },
   {
    "duration": 19,
    "start_time": "2022-08-10T01:57:17.533Z"
   },
   {
    "duration": 9,
    "start_time": "2022-08-10T01:57:17.934Z"
   },
   {
    "duration": 12,
    "start_time": "2022-08-10T01:57:19.401Z"
   },
   {
    "duration": 18,
    "start_time": "2022-08-10T01:57:20.184Z"
   },
   {
    "duration": 11,
    "start_time": "2022-08-10T01:57:20.471Z"
   },
   {
    "duration": 8,
    "start_time": "2022-08-10T01:57:22.021Z"
   },
   {
    "duration": 1175,
    "start_time": "2022-08-10T18:05:32.094Z"
   },
   {
    "duration": 955,
    "start_time": "2022-08-10T18:05:34.399Z"
   },
   {
    "duration": 12,
    "start_time": "2022-08-10T18:05:37.004Z"
   },
   {
    "duration": 12,
    "start_time": "2022-08-10T18:05:37.551Z"
   },
   {
    "duration": 3,
    "start_time": "2022-08-10T18:05:39.841Z"
   },
   {
    "duration": 14,
    "start_time": "2022-08-10T18:05:42.584Z"
   },
   {
    "duration": 11,
    "start_time": "2022-08-10T18:05:43.015Z"
   },
   {
    "duration": 5,
    "start_time": "2022-08-10T18:05:44.578Z"
   },
   {
    "duration": 3,
    "start_time": "2022-08-10T18:05:45.509Z"
   },
   {
    "duration": 18,
    "start_time": "2022-08-10T18:05:46.760Z"
   },
   {
    "duration": 9,
    "start_time": "2022-08-10T18:05:47.080Z"
   },
   {
    "duration": 22,
    "start_time": "2022-08-10T18:05:48.628Z"
   },
   {
    "duration": 5,
    "start_time": "2022-08-10T18:05:49.707Z"
   },
   {
    "duration": 30,
    "start_time": "2022-08-10T18:05:50.158Z"
   },
   {
    "duration": 16,
    "start_time": "2022-08-10T18:05:50.946Z"
   },
   {
    "duration": 8,
    "start_time": "2022-08-10T18:05:51.463Z"
   },
   {
    "duration": 14,
    "start_time": "2022-08-10T18:05:54.908Z"
   },
   {
    "duration": 15,
    "start_time": "2022-08-10T18:05:56.191Z"
   },
   {
    "duration": 16,
    "start_time": "2022-08-10T18:05:57.646Z"
   },
   {
    "duration": 10,
    "start_time": "2022-08-10T18:05:58.266Z"
   },
   {
    "duration": 17,
    "start_time": "2022-08-10T18:06:00.285Z"
   },
   {
    "duration": 22,
    "start_time": "2022-08-10T18:06:01.713Z"
   },
   {
    "duration": 13,
    "start_time": "2022-08-10T18:06:02.534Z"
   },
   {
    "duration": 8,
    "start_time": "2022-08-10T18:06:11.270Z"
   },
   {
    "duration": 84,
    "start_time": "2022-08-10T18:10:09.841Z"
   },
   {
    "duration": 11,
    "start_time": "2022-08-10T18:10:16.827Z"
   },
   {
    "duration": 27,
    "start_time": "2022-08-10T18:11:52.484Z"
   },
   {
    "duration": 11,
    "start_time": "2022-08-10T18:12:10.126Z"
   },
   {
    "duration": 58,
    "start_time": "2022-08-10T18:14:28.916Z"
   },
   {
    "duration": 26,
    "start_time": "2022-08-10T18:14:53.291Z"
   },
   {
    "duration": 34,
    "start_time": "2022-08-10T18:15:44.962Z"
   },
   {
    "duration": 34,
    "start_time": "2022-08-10T18:15:59.029Z"
   },
   {
    "duration": 11,
    "start_time": "2022-08-10T18:16:08.807Z"
   },
   {
    "duration": 60,
    "start_time": "2022-08-10T18:16:20.747Z"
   },
   {
    "duration": 22,
    "start_time": "2022-08-10T18:16:45.313Z"
   },
   {
    "duration": 19,
    "start_time": "2022-08-10T18:17:08.264Z"
   },
   {
    "duration": 27,
    "start_time": "2022-08-10T18:17:31.486Z"
   },
   {
    "duration": 28,
    "start_time": "2022-08-10T18:17:36.883Z"
   },
   {
    "duration": 18,
    "start_time": "2022-08-10T18:21:38.259Z"
   },
   {
    "duration": 8,
    "start_time": "2022-08-10T18:31:11.167Z"
   },
   {
    "duration": 67,
    "start_time": "2022-08-10T18:31:46.293Z"
   },
   {
    "duration": 17,
    "start_time": "2022-08-10T18:36:52.202Z"
   },
   {
    "duration": 47,
    "start_time": "2022-08-10T18:36:57.485Z"
   },
   {
    "duration": 24,
    "start_time": "2022-08-10T18:43:00.384Z"
   },
   {
    "duration": 3,
    "start_time": "2022-08-10T18:43:05.804Z"
   },
   {
    "duration": 21,
    "start_time": "2022-08-10T18:43:10.516Z"
   },
   {
    "duration": 21,
    "start_time": "2022-08-10T18:53:56.651Z"
   },
   {
    "duration": 46,
    "start_time": "2022-08-10T18:54:04.849Z"
   },
   {
    "duration": 50,
    "start_time": "2022-08-10T19:51:53.155Z"
   },
   {
    "duration": 11,
    "start_time": "2022-08-10T19:52:17.956Z"
   },
   {
    "duration": 9,
    "start_time": "2022-08-10T19:52:24.572Z"
   },
   {
    "duration": 48,
    "start_time": "2022-08-10T19:52:29.959Z"
   },
   {
    "duration": 19,
    "start_time": "2022-08-10T19:52:56.038Z"
   },
   {
    "duration": 9,
    "start_time": "2022-08-10T19:53:15.640Z"
   },
   {
    "duration": 27,
    "start_time": "2022-08-10T19:53:21.004Z"
   },
   {
    "duration": 21,
    "start_time": "2022-08-10T19:55:13.008Z"
   },
   {
    "duration": 57,
    "start_time": "2022-08-10T19:55:47.853Z"
   },
   {
    "duration": 19,
    "start_time": "2022-08-10T19:55:55.748Z"
   },
   {
    "duration": 98,
    "start_time": "2022-08-10T19:56:13.840Z"
   },
   {
    "duration": 4,
    "start_time": "2022-08-10T19:56:37.548Z"
   },
   {
    "duration": 1648,
    "start_time": "2022-08-10T19:56:43.603Z"
   },
   {
    "duration": 24,
    "start_time": "2022-08-10T19:56:54.752Z"
   },
   {
    "duration": 30,
    "start_time": "2022-08-10T19:57:12.675Z"
   },
   {
    "duration": 41,
    "start_time": "2022-08-10T19:59:08.959Z"
   },
   {
    "duration": 32,
    "start_time": "2022-08-10T19:59:30.909Z"
   },
   {
    "duration": 13,
    "start_time": "2022-08-10T19:59:48.856Z"
   },
   {
    "duration": 183,
    "start_time": "2022-08-10T19:59:56.502Z"
   },
   {
    "duration": 23,
    "start_time": "2022-08-10T20:00:14.741Z"
   },
   {
    "duration": 12,
    "start_time": "2022-08-10T20:00:26.608Z"
   },
   {
    "duration": 24,
    "start_time": "2022-08-10T20:00:29.183Z"
   },
   {
    "duration": 26,
    "start_time": "2022-08-10T20:01:04.743Z"
   },
   {
    "duration": 34,
    "start_time": "2022-08-10T20:01:10.107Z"
   },
   {
    "duration": 36,
    "start_time": "2022-08-10T20:01:19.044Z"
   },
   {
    "duration": 33,
    "start_time": "2022-08-10T20:07:08.875Z"
   },
   {
    "duration": 26,
    "start_time": "2022-08-10T20:07:49.759Z"
   },
   {
    "duration": 30,
    "start_time": "2022-08-10T20:08:21.230Z"
   },
   {
    "duration": 16,
    "start_time": "2022-08-10T20:08:30.734Z"
   },
   {
    "duration": 21,
    "start_time": "2022-08-10T20:08:44.781Z"
   },
   {
    "duration": 2,
    "start_time": "2022-08-10T20:08:55.576Z"
   },
   {
    "duration": 298,
    "start_time": "2022-08-10T20:08:56.905Z"
   },
   {
    "duration": 10,
    "start_time": "2022-08-10T20:08:59.089Z"
   },
   {
    "duration": 11,
    "start_time": "2022-08-10T20:08:59.102Z"
   },
   {
    "duration": 3,
    "start_time": "2022-08-10T20:09:00.452Z"
   },
   {
    "duration": 11,
    "start_time": "2022-08-10T20:09:02.931Z"
   },
   {
    "duration": 12,
    "start_time": "2022-08-10T20:09:03.862Z"
   },
   {
    "duration": 4,
    "start_time": "2022-08-10T20:09:06.323Z"
   },
   {
    "duration": 3,
    "start_time": "2022-08-10T20:09:07.884Z"
   },
   {
    "duration": 18,
    "start_time": "2022-08-10T20:09:09.369Z"
   },
   {
    "duration": 11,
    "start_time": "2022-08-10T20:09:10.172Z"
   },
   {
    "duration": 21,
    "start_time": "2022-08-10T20:09:12.754Z"
   },
   {
    "duration": 5,
    "start_time": "2022-08-10T20:09:14.003Z"
   },
   {
    "duration": 37,
    "start_time": "2022-08-10T20:09:14.493Z"
   },
   {
    "duration": 15,
    "start_time": "2022-08-10T20:09:15.719Z"
   },
   {
    "duration": 8,
    "start_time": "2022-08-10T20:09:16.613Z"
   },
   {
    "duration": 14,
    "start_time": "2022-08-10T20:09:18.618Z"
   },
   {
    "duration": 26,
    "start_time": "2022-08-10T20:09:20.632Z"
   },
   {
    "duration": 16,
    "start_time": "2022-08-10T20:09:23.420Z"
   },
   {
    "duration": 9,
    "start_time": "2022-08-10T20:09:24.098Z"
   },
   {
    "duration": 16,
    "start_time": "2022-08-10T20:09:26.954Z"
   },
   {
    "duration": 30,
    "start_time": "2022-08-10T20:09:41.328Z"
   },
   {
    "duration": 11,
    "start_time": "2022-08-10T20:09:41.875Z"
   },
   {
    "duration": 8,
    "start_time": "2022-08-10T20:09:43.126Z"
   },
   {
    "duration": 25,
    "start_time": "2022-08-10T20:09:43.963Z"
   },
   {
    "duration": 34,
    "start_time": "2022-08-10T20:09:44.639Z"
   },
   {
    "duration": 14,
    "start_time": "2022-08-10T20:09:45.130Z"
   },
   {
    "duration": 34,
    "start_time": "2022-08-10T20:09:46.308Z"
   },
   {
    "duration": 37,
    "start_time": "2022-08-10T20:21:55.002Z"
   },
   {
    "duration": 2,
    "start_time": "2022-08-10T21:20:02.538Z"
   },
   {
    "duration": 283,
    "start_time": "2022-08-10T21:20:03.405Z"
   },
   {
    "duration": 11,
    "start_time": "2022-08-10T21:20:04.271Z"
   },
   {
    "duration": 9,
    "start_time": "2022-08-10T21:20:04.482Z"
   },
   {
    "duration": 4,
    "start_time": "2022-08-10T21:20:05.489Z"
   },
   {
    "duration": 9,
    "start_time": "2022-08-10T21:20:06.457Z"
   },
   {
    "duration": 10,
    "start_time": "2022-08-10T21:20:06.650Z"
   },
   {
    "duration": 5,
    "start_time": "2022-08-10T21:20:07.854Z"
   },
   {
    "duration": 3,
    "start_time": "2022-08-10T21:20:08.437Z"
   },
   {
    "duration": 18,
    "start_time": "2022-08-10T21:20:08.858Z"
   },
   {
    "duration": 9,
    "start_time": "2022-08-10T21:20:09.117Z"
   },
   {
    "duration": 20,
    "start_time": "2022-08-10T21:20:10.418Z"
   },
   {
    "duration": 5,
    "start_time": "2022-08-10T21:20:11.053Z"
   },
   {
    "duration": 36,
    "start_time": "2022-08-10T21:20:11.274Z"
   },
   {
    "duration": 14,
    "start_time": "2022-08-10T21:20:11.716Z"
   },
   {
    "duration": 8,
    "start_time": "2022-08-10T21:20:11.907Z"
   },
   {
    "duration": 14,
    "start_time": "2022-08-10T21:20:13.862Z"
   },
   {
    "duration": 24,
    "start_time": "2022-08-10T21:20:14.775Z"
   },
   {
    "duration": 16,
    "start_time": "2022-08-10T21:20:15.734Z"
   },
   {
    "duration": 9,
    "start_time": "2022-08-10T21:20:15.976Z"
   },
   {
    "duration": 17,
    "start_time": "2022-08-10T21:20:17.165Z"
   },
   {
    "duration": 30,
    "start_time": "2022-08-10T21:20:17.849Z"
   },
   {
    "duration": 13,
    "start_time": "2022-08-10T21:20:18.169Z"
   },
   {
    "duration": 7,
    "start_time": "2022-08-10T21:20:18.737Z"
   },
   {
    "duration": 25,
    "start_time": "2022-08-10T21:20:19.969Z"
   },
   {
    "duration": 34,
    "start_time": "2022-08-10T21:20:20.372Z"
   },
   {
    "duration": 14,
    "start_time": "2022-08-10T21:20:20.735Z"
   },
   {
    "duration": 34,
    "start_time": "2022-08-10T21:20:21.312Z"
   },
   {
    "duration": 532,
    "start_time": "2022-08-10T21:21:18.369Z"
   },
   {
    "duration": 3,
    "start_time": "2022-08-10T21:21:36.265Z"
   },
   {
    "duration": 294,
    "start_time": "2022-08-10T21:21:38.063Z"
   },
   {
    "duration": 11,
    "start_time": "2022-08-10T21:21:39.008Z"
   },
   {
    "duration": 9,
    "start_time": "2022-08-10T21:21:39.243Z"
   },
   {
    "duration": 3,
    "start_time": "2022-08-10T21:21:40.537Z"
   },
   {
    "duration": 14,
    "start_time": "2022-08-10T21:21:41.686Z"
   },
   {
    "duration": 10,
    "start_time": "2022-08-10T21:21:41.928Z"
   },
   {
    "duration": 4,
    "start_time": "2022-08-10T21:21:43.177Z"
   },
   {
    "duration": 4,
    "start_time": "2022-08-10T21:21:43.802Z"
   },
   {
    "duration": 25,
    "start_time": "2022-08-10T21:21:43.807Z"
   },
   {
    "duration": 10,
    "start_time": "2022-08-10T21:21:43.834Z"
   },
   {
    "duration": 20,
    "start_time": "2022-08-10T21:21:44.169Z"
   },
   {
    "duration": 4,
    "start_time": "2022-08-10T21:21:44.498Z"
   },
   {
    "duration": 38,
    "start_time": "2022-08-10T21:21:44.607Z"
   },
   {
    "duration": 15,
    "start_time": "2022-08-10T21:21:44.857Z"
   },
   {
    "duration": 7,
    "start_time": "2022-08-10T21:21:45.076Z"
   },
   {
    "duration": 13,
    "start_time": "2022-08-10T21:21:45.580Z"
   },
   {
    "duration": 24,
    "start_time": "2022-08-10T21:21:45.751Z"
   },
   {
    "duration": 19,
    "start_time": "2022-08-10T21:21:45.998Z"
   },
   {
    "duration": 11,
    "start_time": "2022-08-10T21:21:46.213Z"
   },
   {
    "duration": 17,
    "start_time": "2022-08-10T21:21:46.713Z"
   },
   {
    "duration": 30,
    "start_time": "2022-08-10T21:21:46.871Z"
   },
   {
    "duration": 13,
    "start_time": "2022-08-10T21:21:47.072Z"
   },
   {
    "duration": 10,
    "start_time": "2022-08-10T21:21:47.538Z"
   },
   {
    "duration": 25,
    "start_time": "2022-08-10T21:21:47.778Z"
   },
   {
    "duration": 32,
    "start_time": "2022-08-10T21:21:47.995Z"
   },
   {
    "duration": 15,
    "start_time": "2022-08-10T21:21:48.106Z"
   },
   {
    "duration": 42,
    "start_time": "2022-08-10T21:21:48.227Z"
   },
   {
    "duration": 45,
    "start_time": "2022-08-10T21:21:48.435Z"
   },
   {
    "duration": 2,
    "start_time": "2022-08-10T21:21:48.714Z"
   },
   {
    "duration": 2,
    "start_time": "2022-08-10T21:21:48.840Z"
   },
   {
    "duration": 2,
    "start_time": "2022-08-10T21:21:48.969Z"
   },
   {
    "duration": 2,
    "start_time": "2022-08-10T21:21:49.491Z"
   },
   {
    "duration": 4,
    "start_time": "2022-08-10T21:21:49.495Z"
   },
   {
    "duration": 5,
    "start_time": "2022-08-10T21:21:49.501Z"
   },
   {
    "duration": 2,
    "start_time": "2022-08-10T21:21:49.542Z"
   },
   {
    "duration": 3,
    "start_time": "2022-08-10T21:21:49.748Z"
   },
   {
    "duration": 5,
    "start_time": "2022-08-10T21:22:18.231Z"
   },
   {
    "duration": 10,
    "start_time": "2022-08-10T21:22:30.419Z"
   },
   {
    "duration": 26,
    "start_time": "2022-08-10T21:22:52.185Z"
   },
   {
    "duration": 7,
    "start_time": "2022-08-10T21:22:53.037Z"
   },
   {
    "duration": 1229,
    "start_time": "2022-08-11T01:09:23.921Z"
   },
   {
    "duration": 849,
    "start_time": "2022-08-11T01:09:25.153Z"
   },
   {
    "duration": 12,
    "start_time": "2022-08-11T01:09:26.004Z"
   },
   {
    "duration": 18,
    "start_time": "2022-08-11T01:09:26.019Z"
   },
   {
    "duration": 3,
    "start_time": "2022-08-11T01:09:26.039Z"
   },
   {
    "duration": 20,
    "start_time": "2022-08-11T01:09:26.044Z"
   },
   {
    "duration": 15,
    "start_time": "2022-08-11T01:09:26.066Z"
   },
   {
    "duration": 9,
    "start_time": "2022-08-11T01:09:26.082Z"
   },
   {
    "duration": 5,
    "start_time": "2022-08-11T01:09:26.093Z"
   },
   {
    "duration": 24,
    "start_time": "2022-08-11T01:09:26.101Z"
   },
   {
    "duration": 11,
    "start_time": "2022-08-11T01:09:26.127Z"
   },
   {
    "duration": 27,
    "start_time": "2022-08-11T01:09:26.140Z"
   },
   {
    "duration": 24,
    "start_time": "2022-08-11T01:09:26.170Z"
   },
   {
    "duration": 49,
    "start_time": "2022-08-11T01:09:26.196Z"
   },
   {
    "duration": 16,
    "start_time": "2022-08-11T01:09:26.246Z"
   },
   {
    "duration": 29,
    "start_time": "2022-08-11T01:09:26.264Z"
   },
   {
    "duration": 17,
    "start_time": "2022-08-11T01:09:26.295Z"
   },
   {
    "duration": 27,
    "start_time": "2022-08-11T01:09:26.313Z"
   },
   {
    "duration": 19,
    "start_time": "2022-08-11T01:09:26.342Z"
   },
   {
    "duration": 36,
    "start_time": "2022-08-11T01:09:26.363Z"
   },
   {
    "duration": 23,
    "start_time": "2022-08-11T01:09:26.400Z"
   },
   {
    "duration": 34,
    "start_time": "2022-08-11T01:09:26.425Z"
   },
   {
    "duration": 36,
    "start_time": "2022-08-11T01:09:26.461Z"
   },
   {
    "duration": 14,
    "start_time": "2022-08-11T01:09:26.498Z"
   },
   {
    "duration": 35,
    "start_time": "2022-08-11T01:09:26.514Z"
   },
   {
    "duration": 54,
    "start_time": "2022-08-11T01:09:26.551Z"
   },
   {
    "duration": 19,
    "start_time": "2022-08-11T01:09:26.607Z"
   },
   {
    "duration": 29,
    "start_time": "2022-08-11T01:09:26.629Z"
   },
   {
    "duration": 6,
    "start_time": "2022-08-11T01:09:26.659Z"
   },
   {
    "duration": 131,
    "start_time": "2022-08-11T01:18:01.768Z"
   },
   {
    "duration": 41,
    "start_time": "2022-08-11T01:23:22.780Z"
   },
   {
    "duration": 20,
    "start_time": "2022-08-11T01:24:12.868Z"
   },
   {
    "duration": 13,
    "start_time": "2022-08-11T01:24:23.944Z"
   },
   {
    "duration": 12,
    "start_time": "2022-08-11T01:24:27.493Z"
   },
   {
    "duration": 34,
    "start_time": "2022-08-11T01:24:31.231Z"
   },
   {
    "duration": 31,
    "start_time": "2022-08-11T01:25:25.124Z"
   },
   {
    "duration": 40,
    "start_time": "2022-08-11T01:25:25.613Z"
   },
   {
    "duration": 19,
    "start_time": "2022-08-11T01:25:26.014Z"
   },
   {
    "duration": 34,
    "start_time": "2022-08-11T01:25:26.392Z"
   },
   {
    "duration": 7,
    "start_time": "2022-08-11T01:25:26.884Z"
   },
   {
    "duration": 38,
    "start_time": "2022-08-11T01:25:28.590Z"
   },
   {
    "duration": 4,
    "start_time": "2022-08-11T01:33:33.908Z"
   },
   {
    "duration": 3,
    "start_time": "2022-08-11T01:34:00.529Z"
   },
   {
    "duration": 5,
    "start_time": "2022-08-11T01:34:10.388Z"
   },
   {
    "duration": 25,
    "start_time": "2022-08-11T01:37:44.242Z"
   },
   {
    "duration": 1233,
    "start_time": "2022-08-11T17:08:39.045Z"
   },
   {
    "duration": 935,
    "start_time": "2022-08-11T17:08:40.280Z"
   },
   {
    "duration": 17,
    "start_time": "2022-08-11T17:08:41.217Z"
   },
   {
    "duration": 20,
    "start_time": "2022-08-11T17:08:41.238Z"
   },
   {
    "duration": 5,
    "start_time": "2022-08-11T17:08:41.260Z"
   },
   {
    "duration": 19,
    "start_time": "2022-08-11T17:08:41.267Z"
   },
   {
    "duration": 30,
    "start_time": "2022-08-11T17:08:41.288Z"
   },
   {
    "duration": 7,
    "start_time": "2022-08-11T17:08:41.320Z"
   },
   {
    "duration": 14,
    "start_time": "2022-08-11T17:08:41.329Z"
   },
   {
    "duration": 23,
    "start_time": "2022-08-11T17:08:41.346Z"
   },
   {
    "duration": 10,
    "start_time": "2022-08-11T17:08:41.370Z"
   },
   {
    "duration": 54,
    "start_time": "2022-08-11T17:08:41.382Z"
   },
   {
    "duration": 4,
    "start_time": "2022-08-11T17:08:41.439Z"
   },
   {
    "duration": 40,
    "start_time": "2022-08-11T17:08:41.445Z"
   },
   {
    "duration": 43,
    "start_time": "2022-08-11T17:08:41.488Z"
   },
   {
    "duration": 8,
    "start_time": "2022-08-11T17:08:41.533Z"
   },
   {
    "duration": 23,
    "start_time": "2022-08-11T17:08:41.542Z"
   },
   {
    "duration": 24,
    "start_time": "2022-08-11T17:08:41.567Z"
   },
   {
    "duration": 44,
    "start_time": "2022-08-11T17:08:41.592Z"
   },
   {
    "duration": 8,
    "start_time": "2022-08-11T17:08:41.638Z"
   },
   {
    "duration": 20,
    "start_time": "2022-08-11T17:08:41.648Z"
   },
   {
    "duration": 62,
    "start_time": "2022-08-11T17:08:41.670Z"
   },
   {
    "duration": 13,
    "start_time": "2022-08-11T17:08:41.734Z"
   },
   {
    "duration": 12,
    "start_time": "2022-08-11T17:08:41.749Z"
   },
   {
    "duration": 31,
    "start_time": "2022-08-11T17:08:41.763Z"
   },
   {
    "duration": 34,
    "start_time": "2022-08-11T17:08:41.809Z"
   },
   {
    "duration": 18,
    "start_time": "2022-08-11T17:08:41.845Z"
   },
   {
    "duration": 46,
    "start_time": "2022-08-11T17:08:41.866Z"
   },
   {
    "duration": 6,
    "start_time": "2022-08-11T17:08:41.914Z"
   },
   {
    "duration": 49,
    "start_time": "2022-08-11T17:10:21.044Z"
   },
   {
    "duration": 41,
    "start_time": "2022-08-11T17:10:35.158Z"
   },
   {
    "duration": 44,
    "start_time": "2022-08-11T17:13:57.011Z"
   },
   {
    "duration": 40,
    "start_time": "2022-08-11T17:14:07.544Z"
   },
   {
    "duration": 35,
    "start_time": "2022-08-11T17:15:09.850Z"
   },
   {
    "duration": 25,
    "start_time": "2022-08-11T17:15:33.738Z"
   },
   {
    "duration": 51,
    "start_time": "2022-08-11T17:15:50.514Z"
   },
   {
    "duration": 52,
    "start_time": "2022-08-11T17:15:51.039Z"
   },
   {
    "duration": 24,
    "start_time": "2022-08-11T17:15:51.580Z"
   },
   {
    "duration": 26,
    "start_time": "2022-08-11T17:15:52.126Z"
   },
   {
    "duration": 6,
    "start_time": "2022-08-11T17:15:52.722Z"
   },
   {
    "duration": 107,
    "start_time": "2022-08-11T17:15:54.196Z"
   },
   {
    "duration": 60,
    "start_time": "2022-08-11T17:16:08.918Z"
   },
   {
    "duration": 37,
    "start_time": "2022-08-11T17:16:21.092Z"
   },
   {
    "duration": 17,
    "start_time": "2022-08-11T17:16:33.057Z"
   },
   {
    "duration": 28,
    "start_time": "2022-08-11T17:16:41.401Z"
   },
   {
    "duration": 36,
    "start_time": "2022-08-11T17:16:47.505Z"
   },
   {
    "duration": 18,
    "start_time": "2022-08-11T17:16:47.918Z"
   },
   {
    "duration": 26,
    "start_time": "2022-08-11T17:16:48.280Z"
   },
   {
    "duration": 6,
    "start_time": "2022-08-11T17:16:48.695Z"
   },
   {
    "duration": 14,
    "start_time": "2022-08-11T17:16:51.250Z"
   },
   {
    "duration": 78,
    "start_time": "2022-08-11T17:17:35.466Z"
   },
   {
    "duration": 21,
    "start_time": "2022-08-11T17:19:03.281Z"
   },
   {
    "duration": 14,
    "start_time": "2022-08-11T17:20:39.870Z"
   },
   {
    "duration": 12,
    "start_time": "2022-08-11T17:21:00.952Z"
   },
   {
    "duration": 12,
    "start_time": "2022-08-11T17:21:07.971Z"
   },
   {
    "duration": 63,
    "start_time": "2022-08-11T17:21:41.136Z"
   },
   {
    "duration": 25,
    "start_time": "2022-08-11T17:23:20.377Z"
   },
   {
    "duration": 14,
    "start_time": "2022-08-11T17:23:20.817Z"
   },
   {
    "duration": 20,
    "start_time": "2022-08-11T17:23:21.076Z"
   },
   {
    "duration": 6,
    "start_time": "2022-08-11T17:23:21.343Z"
   },
   {
    "duration": 27,
    "start_time": "2022-08-11T17:24:39.453Z"
   },
   {
    "duration": 18,
    "start_time": "2022-08-11T17:25:52.653Z"
   },
   {
    "duration": 17,
    "start_time": "2022-08-11T17:26:10.916Z"
   },
   {
    "duration": 35,
    "start_time": "2022-08-11T17:26:35.969Z"
   },
   {
    "duration": 16,
    "start_time": "2022-08-11T17:27:49.445Z"
   },
   {
    "duration": 13,
    "start_time": "2022-08-11T17:27:50.398Z"
   },
   {
    "duration": 8,
    "start_time": "2022-08-11T17:28:06.295Z"
   },
   {
    "duration": 28,
    "start_time": "2022-08-11T17:28:07.171Z"
   },
   {
    "duration": 26,
    "start_time": "2022-08-11T17:28:07.588Z"
   },
   {
    "duration": 13,
    "start_time": "2022-08-11T17:28:07.983Z"
   },
   {
    "duration": 21,
    "start_time": "2022-08-11T17:28:08.356Z"
   },
   {
    "duration": 5,
    "start_time": "2022-08-11T17:28:08.782Z"
   },
   {
    "duration": 28,
    "start_time": "2022-08-11T17:28:10.170Z"
   },
   {
    "duration": 29,
    "start_time": "2022-08-11T17:29:39.026Z"
   },
   {
    "duration": 36,
    "start_time": "2022-08-11T17:29:39.423Z"
   },
   {
    "duration": 14,
    "start_time": "2022-08-11T17:29:39.655Z"
   },
   {
    "duration": 28,
    "start_time": "2022-08-11T17:29:39.862Z"
   },
   {
    "duration": 5,
    "start_time": "2022-08-11T17:29:40.088Z"
   },
   {
    "duration": 41,
    "start_time": "2022-08-11T17:29:40.972Z"
   },
   {
    "duration": 1094,
    "start_time": "2022-08-11T19:56:09.755Z"
   },
   {
    "duration": 900,
    "start_time": "2022-08-11T19:56:10.851Z"
   },
   {
    "duration": 13,
    "start_time": "2022-08-11T19:56:11.752Z"
   },
   {
    "duration": 18,
    "start_time": "2022-08-11T19:56:11.767Z"
   },
   {
    "duration": 4,
    "start_time": "2022-08-11T19:56:11.786Z"
   },
   {
    "duration": 12,
    "start_time": "2022-08-11T19:56:11.791Z"
   },
   {
    "duration": 12,
    "start_time": "2022-08-11T19:56:11.805Z"
   },
   {
    "duration": 6,
    "start_time": "2022-08-11T19:56:11.818Z"
   },
   {
    "duration": 7,
    "start_time": "2022-08-11T19:56:11.826Z"
   },
   {
    "duration": 20,
    "start_time": "2022-08-11T19:56:11.835Z"
   },
   {
    "duration": 10,
    "start_time": "2022-08-11T19:56:11.857Z"
   },
   {
    "duration": 38,
    "start_time": "2022-08-11T19:56:11.869Z"
   },
   {
    "duration": 4,
    "start_time": "2022-08-11T19:56:11.908Z"
   },
   {
    "duration": 49,
    "start_time": "2022-08-11T19:56:11.913Z"
   },
   {
    "duration": 13,
    "start_time": "2022-08-11T19:56:11.963Z"
   },
   {
    "duration": 27,
    "start_time": "2022-08-11T19:56:11.978Z"
   },
   {
    "duration": 15,
    "start_time": "2022-08-11T19:56:12.006Z"
   },
   {
    "duration": 24,
    "start_time": "2022-08-11T19:56:12.022Z"
   },
   {
    "duration": 15,
    "start_time": "2022-08-11T19:56:12.047Z"
   },
   {
    "duration": 8,
    "start_time": "2022-08-11T19:56:12.063Z"
   },
   {
    "duration": 42,
    "start_time": "2022-08-11T19:56:12.072Z"
   },
   {
    "duration": 24,
    "start_time": "2022-08-11T19:56:12.116Z"
   },
   {
    "duration": 11,
    "start_time": "2022-08-11T19:56:12.142Z"
   },
   {
    "duration": 12,
    "start_time": "2022-08-11T19:56:12.154Z"
   },
   {
    "duration": 66,
    "start_time": "2022-08-11T19:56:12.168Z"
   },
   {
    "duration": 109,
    "start_time": "2022-08-11T19:56:12.236Z"
   },
   {
    "duration": 18,
    "start_time": "2022-08-11T19:56:12.347Z"
   },
   {
    "duration": 59,
    "start_time": "2022-08-11T19:56:12.368Z"
   },
   {
    "duration": 5,
    "start_time": "2022-08-11T19:56:12.429Z"
   },
   {
    "duration": 5,
    "start_time": "2022-08-11T19:57:28.537Z"
   },
   {
    "duration": 15,
    "start_time": "2022-08-11T19:57:50.367Z"
   },
   {
    "duration": 20,
    "start_time": "2022-08-11T20:27:41.502Z"
   },
   {
    "duration": 62,
    "start_time": "2022-08-11T22:09:37.314Z"
   },
   {
    "duration": 45,
    "start_time": "2022-08-11T22:09:58.032Z"
   },
   {
    "duration": 6,
    "start_time": "2022-08-11T22:10:09.130Z"
   },
   {
    "duration": 29,
    "start_time": "2022-08-11T22:10:37.635Z"
   },
   {
    "duration": 11,
    "start_time": "2022-08-11T22:10:48.661Z"
   },
   {
    "duration": 26,
    "start_time": "2022-08-11T22:12:17.088Z"
   },
   {
    "duration": 11,
    "start_time": "2022-08-11T22:12:18.387Z"
   },
   {
    "duration": 27,
    "start_time": "2022-08-11T22:12:30.663Z"
   },
   {
    "duration": 10,
    "start_time": "2022-08-11T22:12:31.290Z"
   },
   {
    "duration": 10,
    "start_time": "2022-08-11T22:21:50.900Z"
   },
   {
    "duration": 10,
    "start_time": "2022-08-11T22:22:14.155Z"
   },
   {
    "duration": 10,
    "start_time": "2022-08-11T22:22:28.384Z"
   },
   {
    "duration": 10,
    "start_time": "2022-08-11T22:22:35.296Z"
   },
   {
    "duration": 29,
    "start_time": "2022-08-11T22:22:37.485Z"
   },
   {
    "duration": 11,
    "start_time": "2022-08-11T22:22:38.156Z"
   },
   {
    "duration": 2,
    "start_time": "2022-08-11T22:24:56.128Z"
   },
   {
    "duration": 87,
    "start_time": "2022-08-11T22:24:59.480Z"
   },
   {
    "duration": 29,
    "start_time": "2022-08-11T22:25:03.221Z"
   },
   {
    "duration": 23,
    "start_time": "2022-08-11T22:26:08.094Z"
   },
   {
    "duration": 8,
    "start_time": "2022-08-11T22:27:35.313Z"
   },
   {
    "duration": 16,
    "start_time": "2022-08-11T22:27:47.568Z"
   },
   {
    "duration": 14,
    "start_time": "2022-08-11T22:28:00.713Z"
   },
   {
    "duration": 12,
    "start_time": "2022-08-11T22:28:12.319Z"
   },
   {
    "duration": 28,
    "start_time": "2022-08-11T22:28:28.140Z"
   },
   {
    "duration": 39,
    "start_time": "2022-08-11T22:29:57.667Z"
   },
   {
    "duration": 9,
    "start_time": "2022-08-11T22:31:12.297Z"
   },
   {
    "duration": 3,
    "start_time": "2022-08-11T22:31:20.334Z"
   },
   {
    "duration": 330,
    "start_time": "2022-08-11T22:31:21.382Z"
   },
   {
    "duration": 10,
    "start_time": "2022-08-11T22:31:22.277Z"
   },
   {
    "duration": 10,
    "start_time": "2022-08-11T22:31:22.979Z"
   },
   {
    "duration": 5,
    "start_time": "2022-08-11T22:31:25.313Z"
   },
   {
    "duration": 9,
    "start_time": "2022-08-11T22:31:32.389Z"
   },
   {
    "duration": 3,
    "start_time": "2022-08-11T22:31:46.178Z"
   },
   {
    "duration": 304,
    "start_time": "2022-08-11T22:31:46.183Z"
   },
   {
    "duration": 11,
    "start_time": "2022-08-11T22:31:46.489Z"
   },
   {
    "duration": 14,
    "start_time": "2022-08-11T22:31:46.501Z"
   },
   {
    "duration": 8,
    "start_time": "2022-08-11T22:31:46.517Z"
   },
   {
    "duration": 10,
    "start_time": "2022-08-11T22:31:46.526Z"
   },
   {
    "duration": 16,
    "start_time": "2022-08-11T22:31:46.537Z"
   },
   {
    "duration": 11,
    "start_time": "2022-08-11T22:31:46.555Z"
   },
   {
    "duration": 12,
    "start_time": "2022-08-11T22:31:46.568Z"
   },
   {
    "duration": 4,
    "start_time": "2022-08-11T22:31:46.600Z"
   },
   {
    "duration": 5,
    "start_time": "2022-08-11T22:31:46.607Z"
   },
   {
    "duration": 22,
    "start_time": "2022-08-11T22:31:46.613Z"
   },
   {
    "duration": 9,
    "start_time": "2022-08-11T22:31:46.636Z"
   },
   {
    "duration": 21,
    "start_time": "2022-08-11T22:31:46.647Z"
   },
   {
    "duration": 4,
    "start_time": "2022-08-11T22:31:46.670Z"
   },
   {
    "duration": 34,
    "start_time": "2022-08-11T22:31:46.700Z"
   },
   {
    "duration": 13,
    "start_time": "2022-08-11T22:31:46.736Z"
   },
   {
    "duration": 11,
    "start_time": "2022-08-11T22:31:46.751Z"
   },
   {
    "duration": 36,
    "start_time": "2022-08-11T22:31:46.764Z"
   },
   {
    "duration": 27,
    "start_time": "2022-08-11T22:31:46.802Z"
   },
   {
    "duration": 21,
    "start_time": "2022-08-11T22:31:46.831Z"
   },
   {
    "duration": 8,
    "start_time": "2022-08-11T22:31:46.854Z"
   },
   {
    "duration": 55,
    "start_time": "2022-08-11T22:31:46.864Z"
   },
   {
    "duration": 24,
    "start_time": "2022-08-11T22:31:46.922Z"
   },
   {
    "duration": 8,
    "start_time": "2022-08-11T22:31:46.947Z"
   },
   {
    "duration": 47,
    "start_time": "2022-08-11T22:31:46.957Z"
   },
   {
    "duration": 12,
    "start_time": "2022-08-11T22:31:47.006Z"
   },
   {
    "duration": 40,
    "start_time": "2022-08-11T22:31:47.020Z"
   },
   {
    "duration": 17,
    "start_time": "2022-08-11T22:31:47.063Z"
   },
   {
    "duration": 27,
    "start_time": "2022-08-11T22:31:47.100Z"
   },
   {
    "duration": 5,
    "start_time": "2022-08-11T22:31:47.129Z"
   },
   {
    "duration": 33,
    "start_time": "2022-08-11T22:31:47.135Z"
   },
   {
    "duration": 0,
    "start_time": "2022-08-11T22:31:47.169Z"
   },
   {
    "duration": 0,
    "start_time": "2022-08-11T22:31:47.170Z"
   },
   {
    "duration": 0,
    "start_time": "2022-08-11T22:31:47.171Z"
   },
   {
    "duration": 0,
    "start_time": "2022-08-11T22:31:47.172Z"
   },
   {
    "duration": 0,
    "start_time": "2022-08-11T22:31:47.173Z"
   },
   {
    "duration": 0,
    "start_time": "2022-08-11T22:31:47.174Z"
   },
   {
    "duration": 0,
    "start_time": "2022-08-11T22:31:47.175Z"
   },
   {
    "duration": 0,
    "start_time": "2022-08-11T22:31:47.175Z"
   },
   {
    "duration": 0,
    "start_time": "2022-08-11T22:31:47.176Z"
   },
   {
    "duration": 0,
    "start_time": "2022-08-11T22:31:47.177Z"
   },
   {
    "duration": 28,
    "start_time": "2022-08-11T22:33:58.115Z"
   },
   {
    "duration": 11,
    "start_time": "2022-08-11T22:36:37.743Z"
   },
   {
    "duration": 13,
    "start_time": "2022-08-11T22:38:10.249Z"
   },
   {
    "duration": 3,
    "start_time": "2022-08-11T22:38:41.938Z"
   },
   {
    "duration": 5,
    "start_time": "2022-08-11T22:38:45.570Z"
   },
   {
    "duration": 3,
    "start_time": "2022-08-11T22:38:57.661Z"
   },
   {
    "duration": 4,
    "start_time": "2022-08-11T22:39:05.423Z"
   },
   {
    "duration": 11,
    "start_time": "2022-08-11T22:39:29.225Z"
   },
   {
    "duration": 15,
    "start_time": "2022-08-11T22:40:43.966Z"
   },
   {
    "duration": 4,
    "start_time": "2022-08-11T22:41:36.297Z"
   },
   {
    "duration": 5,
    "start_time": "2022-08-11T22:41:48.755Z"
   },
   {
    "duration": 3,
    "start_time": "2022-08-11T22:42:25.719Z"
   },
   {
    "duration": 4,
    "start_time": "2022-08-11T22:42:47.155Z"
   },
   {
    "duration": 4,
    "start_time": "2022-08-11T22:42:51.072Z"
   },
   {
    "duration": 8,
    "start_time": "2022-08-11T22:45:58.800Z"
   },
   {
    "duration": 24,
    "start_time": "2022-08-11T22:47:01.425Z"
   },
   {
    "duration": 12,
    "start_time": "2022-08-11T22:47:50.291Z"
   },
   {
    "duration": 15,
    "start_time": "2022-08-11T22:48:07.022Z"
   },
   {
    "duration": 15,
    "start_time": "2022-08-11T22:48:36.677Z"
   },
   {
    "duration": 23,
    "start_time": "2022-08-11T22:48:42.879Z"
   },
   {
    "duration": 4,
    "start_time": "2022-08-11T22:49:04.008Z"
   },
   {
    "duration": 22,
    "start_time": "2022-08-11T22:49:04.927Z"
   },
   {
    "duration": 9,
    "start_time": "2022-08-11T22:49:10.723Z"
   },
   {
    "duration": 8,
    "start_time": "2022-08-11T22:49:18.522Z"
   },
   {
    "duration": 14,
    "start_time": "2022-08-11T22:49:25.572Z"
   },
   {
    "duration": 9,
    "start_time": "2022-08-11T22:49:29.361Z"
   },
   {
    "duration": 8,
    "start_time": "2022-08-11T22:49:35.983Z"
   },
   {
    "duration": 2,
    "start_time": "2022-08-11T22:49:44.785Z"
   },
   {
    "duration": 293,
    "start_time": "2022-08-11T22:49:44.793Z"
   },
   {
    "duration": 11,
    "start_time": "2022-08-11T22:49:45.088Z"
   },
   {
    "duration": 14,
    "start_time": "2022-08-11T22:49:45.100Z"
   },
   {
    "duration": 5,
    "start_time": "2022-08-11T22:49:45.115Z"
   },
   {
    "duration": 10,
    "start_time": "2022-08-11T22:49:45.122Z"
   },
   {
    "duration": 14,
    "start_time": "2022-08-11T22:49:45.134Z"
   },
   {
    "duration": 11,
    "start_time": "2022-08-11T22:49:45.149Z"
   },
   {
    "duration": 14,
    "start_time": "2022-08-11T22:49:45.161Z"
   },
   {
    "duration": 7,
    "start_time": "2022-08-11T22:49:45.176Z"
   },
   {
    "duration": 4,
    "start_time": "2022-08-11T22:49:45.199Z"
   },
   {
    "duration": 20,
    "start_time": "2022-08-11T22:49:45.204Z"
   },
   {
    "duration": 10,
    "start_time": "2022-08-11T22:49:45.225Z"
   },
   {
    "duration": 19,
    "start_time": "2022-08-11T22:49:45.236Z"
   },
   {
    "duration": 3,
    "start_time": "2022-08-11T22:49:45.257Z"
   },
   {
    "duration": 57,
    "start_time": "2022-08-11T22:49:45.261Z"
   },
   {
    "duration": 13,
    "start_time": "2022-08-11T22:49:45.319Z"
   },
   {
    "duration": 8,
    "start_time": "2022-08-11T22:49:45.333Z"
   },
   {
    "duration": 15,
    "start_time": "2022-08-11T22:49:45.342Z"
   },
   {
    "duration": 41,
    "start_time": "2022-08-11T22:49:45.359Z"
   },
   {
    "duration": 14,
    "start_time": "2022-08-11T22:49:45.402Z"
   },
   {
    "duration": 7,
    "start_time": "2022-08-11T22:49:45.417Z"
   },
   {
    "duration": 18,
    "start_time": "2022-08-11T22:49:45.425Z"
   },
   {
    "duration": 22,
    "start_time": "2022-08-11T22:49:45.444Z"
   },
   {
    "duration": 9,
    "start_time": "2022-08-11T22:49:45.467Z"
   },
   {
    "duration": 23,
    "start_time": "2022-08-11T22:49:45.500Z"
   },
   {
    "duration": 9,
    "start_time": "2022-08-11T22:49:45.524Z"
   },
   {
    "duration": 33,
    "start_time": "2022-08-11T22:49:45.535Z"
   },
   {
    "duration": 38,
    "start_time": "2022-08-11T22:49:45.570Z"
   },
   {
    "duration": 25,
    "start_time": "2022-08-11T22:49:45.610Z"
   },
   {
    "duration": 5,
    "start_time": "2022-08-11T22:49:45.637Z"
   },
   {
    "duration": 19,
    "start_time": "2022-08-11T22:49:45.643Z"
   },
   {
    "duration": 16,
    "start_time": "2022-08-11T22:49:45.664Z"
   },
   {
    "duration": 15,
    "start_time": "2022-08-11T22:49:58.515Z"
   },
   {
    "duration": 3,
    "start_time": "2022-08-11T22:50:25.233Z"
   },
   {
    "duration": 86,
    "start_time": "2022-08-11T22:50:26.508Z"
   },
   {
    "duration": 23,
    "start_time": "2022-08-11T22:50:30.698Z"
   },
   {
    "duration": 3,
    "start_time": "2022-08-11T22:51:00.500Z"
   },
   {
    "duration": 28,
    "start_time": "2022-08-11T22:51:03.734Z"
   },
   {
    "duration": 3,
    "start_time": "2022-08-11T22:51:21.078Z"
   },
   {
    "duration": 12,
    "start_time": "2022-08-11T22:51:30.491Z"
   },
   {
    "duration": 26,
    "start_time": "2022-08-11T22:51:31.779Z"
   },
   {
    "duration": 4,
    "start_time": "2022-08-11T22:51:37.553Z"
   },
   {
    "duration": 326,
    "start_time": "2022-08-11T22:51:37.574Z"
   },
   {
    "duration": 11,
    "start_time": "2022-08-11T22:51:37.902Z"
   },
   {
    "duration": 18,
    "start_time": "2022-08-11T22:51:37.915Z"
   },
   {
    "duration": 10,
    "start_time": "2022-08-11T22:51:37.936Z"
   },
   {
    "duration": 17,
    "start_time": "2022-08-11T22:51:37.948Z"
   },
   {
    "duration": 34,
    "start_time": "2022-08-11T22:51:37.967Z"
   },
   {
    "duration": 16,
    "start_time": "2022-08-11T22:51:38.003Z"
   },
   {
    "duration": 21,
    "start_time": "2022-08-11T22:51:38.021Z"
   },
   {
    "duration": 8,
    "start_time": "2022-08-11T22:51:38.044Z"
   },
   {
    "duration": 11,
    "start_time": "2022-08-11T22:51:38.056Z"
   },
   {
    "duration": 38,
    "start_time": "2022-08-11T22:51:38.069Z"
   },
   {
    "duration": 9,
    "start_time": "2022-08-11T22:51:38.109Z"
   },
   {
    "duration": 23,
    "start_time": "2022-08-11T22:51:38.120Z"
   },
   {
    "duration": 4,
    "start_time": "2022-08-11T22:51:38.144Z"
   },
   {
    "duration": 54,
    "start_time": "2022-08-11T22:51:38.150Z"
   },
   {
    "duration": 14,
    "start_time": "2022-08-11T22:51:38.205Z"
   },
   {
    "duration": 9,
    "start_time": "2022-08-11T22:51:38.221Z"
   },
   {
    "duration": 14,
    "start_time": "2022-08-11T22:51:38.232Z"
   },
   {
    "duration": 23,
    "start_time": "2022-08-11T22:51:38.248Z"
   },
   {
    "duration": 39,
    "start_time": "2022-08-11T22:51:38.272Z"
   },
   {
    "duration": 9,
    "start_time": "2022-08-11T22:51:38.312Z"
   },
   {
    "duration": 19,
    "start_time": "2022-08-11T22:51:38.322Z"
   },
   {
    "duration": 24,
    "start_time": "2022-08-11T22:51:38.342Z"
   },
   {
    "duration": 34,
    "start_time": "2022-08-11T22:51:38.368Z"
   },
   {
    "duration": 33,
    "start_time": "2022-08-11T22:51:38.403Z"
   },
   {
    "duration": 11,
    "start_time": "2022-08-11T22:51:38.438Z"
   },
   {
    "duration": 49,
    "start_time": "2022-08-11T22:51:38.451Z"
   },
   {
    "duration": 18,
    "start_time": "2022-08-11T22:51:38.503Z"
   },
   {
    "duration": 26,
    "start_time": "2022-08-11T22:51:38.522Z"
   },
   {
    "duration": 5,
    "start_time": "2022-08-11T22:51:38.550Z"
   },
   {
    "duration": 17,
    "start_time": "2022-08-11T22:51:38.556Z"
   },
   {
    "duration": 27,
    "start_time": "2022-08-11T22:51:38.575Z"
   },
   {
    "duration": 25,
    "start_time": "2022-08-11T22:51:48.047Z"
   },
   {
    "duration": 14,
    "start_time": "2022-08-11T22:51:58.928Z"
   },
   {
    "duration": 27,
    "start_time": "2022-08-11T22:54:20.371Z"
   },
   {
    "duration": 28,
    "start_time": "2022-08-11T22:54:28.374Z"
   },
   {
    "duration": 16,
    "start_time": "2022-08-11T22:54:41.231Z"
   },
   {
    "duration": 50,
    "start_time": "2022-08-11T22:55:08.289Z"
   },
   {
    "duration": 23,
    "start_time": "2022-08-11T22:55:10.560Z"
   },
   {
    "duration": 25,
    "start_time": "2022-08-11T22:55:27.601Z"
   },
   {
    "duration": 26,
    "start_time": "2022-08-11T22:55:36.503Z"
   },
   {
    "duration": 50,
    "start_time": "2022-08-11T22:56:10.235Z"
   },
   {
    "duration": 28,
    "start_time": "2022-08-11T22:57:19.979Z"
   },
   {
    "duration": 17,
    "start_time": "2022-08-11T22:58:26.975Z"
   },
   {
    "duration": 11,
    "start_time": "2022-08-11T23:01:24.172Z"
   },
   {
    "duration": 107,
    "start_time": "2022-08-11T23:02:27.643Z"
   },
   {
    "duration": 48,
    "start_time": "2022-08-11T23:04:19.863Z"
   },
   {
    "duration": 29,
    "start_time": "2022-08-11T23:04:30.466Z"
   },
   {
    "duration": 11,
    "start_time": "2022-08-11T23:04:33.198Z"
   },
   {
    "duration": 27,
    "start_time": "2022-08-11T23:05:14.326Z"
   },
   {
    "duration": 11,
    "start_time": "2022-08-11T23:05:15.797Z"
   },
   {
    "duration": 9,
    "start_time": "2022-08-11T23:05:19.858Z"
   },
   {
    "duration": 31,
    "start_time": "2022-08-11T23:05:41.548Z"
   },
   {
    "duration": 11,
    "start_time": "2022-08-11T23:05:43.501Z"
   },
   {
    "duration": 17,
    "start_time": "2022-08-11T23:07:29.980Z"
   },
   {
    "duration": 15,
    "start_time": "2022-08-11T23:07:31.964Z"
   },
   {
    "duration": 26,
    "start_time": "2022-08-11T23:12:28.277Z"
   },
   {
    "duration": 11,
    "start_time": "2022-08-11T23:12:31.021Z"
   },
   {
    "duration": 13,
    "start_time": "2022-08-11T23:12:40.269Z"
   },
   {
    "duration": 12,
    "start_time": "2022-08-11T23:14:36.783Z"
   },
   {
    "duration": 409,
    "start_time": "2022-08-11T23:15:29.610Z"
   },
   {
    "duration": 224,
    "start_time": "2022-08-11T23:15:42.663Z"
   },
   {
    "duration": 12,
    "start_time": "2022-08-11T23:16:56.322Z"
   },
   {
    "duration": 12,
    "start_time": "2022-08-11T23:17:06.445Z"
   },
   {
    "duration": 12,
    "start_time": "2022-08-11T23:18:23.168Z"
   },
   {
    "duration": 16,
    "start_time": "2022-08-11T23:18:27.373Z"
   },
   {
    "duration": 15,
    "start_time": "2022-08-11T23:18:29.454Z"
   },
   {
    "duration": 16,
    "start_time": "2022-08-11T23:20:14.579Z"
   },
   {
    "duration": 16,
    "start_time": "2022-08-11T23:20:19.389Z"
   },
   {
    "duration": 18,
    "start_time": "2022-08-11T23:21:11.676Z"
   },
   {
    "duration": 47,
    "start_time": "2022-08-11T23:21:15.215Z"
   },
   {
    "duration": 20,
    "start_time": "2022-08-11T23:21:23.963Z"
   },
   {
    "duration": 18,
    "start_time": "2022-08-11T23:21:27.391Z"
   },
   {
    "duration": 47,
    "start_time": "2022-08-11T23:21:33.228Z"
   },
   {
    "duration": 12,
    "start_time": "2022-08-11T23:22:44.095Z"
   },
   {
    "duration": 14,
    "start_time": "2022-08-11T23:22:58.594Z"
   },
   {
    "duration": 941,
    "start_time": "2022-08-11T23:23:45.155Z"
   },
   {
    "duration": 30,
    "start_time": "2022-08-11T23:24:02.216Z"
   },
   {
    "duration": 19,
    "start_time": "2022-08-11T23:27:37.935Z"
   },
   {
    "duration": 29,
    "start_time": "2022-08-11T23:27:44.729Z"
   },
   {
    "duration": 36,
    "start_time": "2022-08-11T23:27:52.545Z"
   },
   {
    "duration": 40,
    "start_time": "2022-08-11T23:27:57.248Z"
   },
   {
    "duration": 31,
    "start_time": "2022-08-11T23:29:19.229Z"
   },
   {
    "duration": 37,
    "start_time": "2022-08-11T23:29:26.586Z"
   },
   {
    "duration": 23,
    "start_time": "2022-08-11T23:30:11.608Z"
   },
   {
    "duration": 23,
    "start_time": "2022-08-11T23:30:22.549Z"
   },
   {
    "duration": 29,
    "start_time": "2022-08-11T23:30:36.608Z"
   },
   {
    "duration": 14,
    "start_time": "2022-08-11T23:30:58.779Z"
   },
   {
    "duration": 20,
    "start_time": "2022-08-11T23:31:09.611Z"
   },
   {
    "duration": 14,
    "start_time": "2022-08-11T23:31:16.928Z"
   },
   {
    "duration": 25,
    "start_time": "2022-08-11T23:31:35.450Z"
   },
   {
    "duration": 3,
    "start_time": "2022-08-11T23:31:52.832Z"
   },
   {
    "duration": 298,
    "start_time": "2022-08-11T23:31:52.838Z"
   },
   {
    "duration": 10,
    "start_time": "2022-08-11T23:31:53.138Z"
   },
   {
    "duration": 11,
    "start_time": "2022-08-11T23:31:53.149Z"
   },
   {
    "duration": 5,
    "start_time": "2022-08-11T23:31:53.161Z"
   },
   {
    "duration": 9,
    "start_time": "2022-08-11T23:31:53.167Z"
   },
   {
    "duration": 13,
    "start_time": "2022-08-11T23:31:53.178Z"
   },
   {
    "duration": 14,
    "start_time": "2022-08-11T23:31:53.192Z"
   },
   {
    "duration": 10,
    "start_time": "2022-08-11T23:31:53.207Z"
   },
   {
    "duration": 6,
    "start_time": "2022-08-11T23:31:53.218Z"
   },
   {
    "duration": 6,
    "start_time": "2022-08-11T23:31:53.225Z"
   },
   {
    "duration": 21,
    "start_time": "2022-08-11T23:31:53.233Z"
   },
   {
    "duration": 8,
    "start_time": "2022-08-11T23:31:53.256Z"
   },
   {
    "duration": 35,
    "start_time": "2022-08-11T23:31:53.265Z"
   },
   {
    "duration": 4,
    "start_time": "2022-08-11T23:31:53.302Z"
   },
   {
    "duration": 38,
    "start_time": "2022-08-11T23:31:53.308Z"
   },
   {
    "duration": 14,
    "start_time": "2022-08-11T23:31:53.347Z"
   },
   {
    "duration": 8,
    "start_time": "2022-08-11T23:31:53.362Z"
   },
   {
    "duration": 38,
    "start_time": "2022-08-11T23:31:53.372Z"
   },
   {
    "duration": 25,
    "start_time": "2022-08-11T23:31:53.412Z"
   },
   {
    "duration": 16,
    "start_time": "2022-08-11T23:31:53.439Z"
   },
   {
    "duration": 8,
    "start_time": "2022-08-11T23:31:53.457Z"
   },
   {
    "duration": 41,
    "start_time": "2022-08-11T23:31:53.466Z"
   },
   {
    "duration": 25,
    "start_time": "2022-08-11T23:31:53.508Z"
   },
   {
    "duration": 11,
    "start_time": "2022-08-11T23:31:53.535Z"
   },
   {
    "duration": 8,
    "start_time": "2022-08-11T23:31:53.548Z"
   },
   {
    "duration": 48,
    "start_time": "2022-08-11T23:31:53.558Z"
   },
   {
    "duration": 33,
    "start_time": "2022-08-11T23:31:53.608Z"
   },
   {
    "duration": 16,
    "start_time": "2022-08-11T23:31:53.643Z"
   },
   {
    "duration": 43,
    "start_time": "2022-08-11T23:31:53.660Z"
   },
   {
    "duration": 6,
    "start_time": "2022-08-11T23:31:53.704Z"
   },
   {
    "duration": 6,
    "start_time": "2022-08-11T23:31:53.711Z"
   },
   {
    "duration": 19,
    "start_time": "2022-08-11T23:31:53.718Z"
   },
   {
    "duration": 37,
    "start_time": "2022-08-11T23:32:21.211Z"
   },
   {
    "duration": 22,
    "start_time": "2022-08-11T23:32:49.160Z"
   },
   {
    "duration": 9,
    "start_time": "2022-08-11T23:34:06.609Z"
   },
   {
    "duration": 23,
    "start_time": "2022-08-11T23:34:28.479Z"
   },
   {
    "duration": 3,
    "start_time": "2022-08-11T23:35:08.189Z"
   },
   {
    "duration": 299,
    "start_time": "2022-08-11T23:35:08.194Z"
   },
   {
    "duration": 10,
    "start_time": "2022-08-11T23:35:08.494Z"
   },
   {
    "duration": 16,
    "start_time": "2022-08-11T23:35:08.506Z"
   },
   {
    "duration": 8,
    "start_time": "2022-08-11T23:35:08.524Z"
   },
   {
    "duration": 18,
    "start_time": "2022-08-11T23:35:08.533Z"
   },
   {
    "duration": 18,
    "start_time": "2022-08-11T23:35:08.552Z"
   },
   {
    "duration": 11,
    "start_time": "2022-08-11T23:35:08.572Z"
   },
   {
    "duration": 19,
    "start_time": "2022-08-11T23:35:08.585Z"
   },
   {
    "duration": 8,
    "start_time": "2022-08-11T23:35:08.605Z"
   },
   {
    "duration": 8,
    "start_time": "2022-08-11T23:35:08.614Z"
   },
   {
    "duration": 18,
    "start_time": "2022-08-11T23:35:08.624Z"
   },
   {
    "duration": 8,
    "start_time": "2022-08-11T23:35:08.644Z"
   },
   {
    "duration": 21,
    "start_time": "2022-08-11T23:35:08.654Z"
   },
   {
    "duration": 3,
    "start_time": "2022-08-11T23:35:08.677Z"
   },
   {
    "duration": 52,
    "start_time": "2022-08-11T23:35:08.682Z"
   },
   {
    "duration": 14,
    "start_time": "2022-08-11T23:35:08.736Z"
   },
   {
    "duration": 8,
    "start_time": "2022-08-11T23:35:08.751Z"
   },
   {
    "duration": 41,
    "start_time": "2022-08-11T23:35:08.761Z"
   },
   {
    "duration": 23,
    "start_time": "2022-08-11T23:35:08.803Z"
   },
   {
    "duration": 14,
    "start_time": "2022-08-11T23:35:08.828Z"
   },
   {
    "duration": 11,
    "start_time": "2022-08-11T23:35:08.844Z"
   },
   {
    "duration": 27,
    "start_time": "2022-08-11T23:35:08.857Z"
   },
   {
    "duration": 23,
    "start_time": "2022-08-11T23:35:08.901Z"
   },
   {
    "duration": 8,
    "start_time": "2022-08-11T23:35:08.925Z"
   },
   {
    "duration": 27,
    "start_time": "2022-08-11T23:35:08.934Z"
   },
   {
    "duration": 52,
    "start_time": "2022-08-11T23:35:08.963Z"
   },
   {
    "duration": 17,
    "start_time": "2022-08-11T23:35:09.017Z"
   },
   {
    "duration": 28,
    "start_time": "2022-08-11T23:35:09.035Z"
   },
   {
    "duration": 6,
    "start_time": "2022-08-11T23:35:09.064Z"
   },
   {
    "duration": 6,
    "start_time": "2022-08-11T23:35:09.071Z"
   },
   {
    "duration": 27,
    "start_time": "2022-08-11T23:35:12.047Z"
   },
   {
    "duration": 18,
    "start_time": "2022-08-11T23:35:21.358Z"
   },
   {
    "duration": 17,
    "start_time": "2022-08-11T23:35:22.447Z"
   },
   {
    "duration": 23,
    "start_time": "2022-08-11T23:35:31.298Z"
   },
   {
    "duration": 4,
    "start_time": "2022-08-11T23:36:02.621Z"
   },
   {
    "duration": 14,
    "start_time": "2022-08-11T23:36:09.149Z"
   },
   {
    "duration": 4,
    "start_time": "2022-08-11T23:36:27.740Z"
   },
   {
    "duration": 15,
    "start_time": "2022-08-11T23:36:28.115Z"
   },
   {
    "duration": 26,
    "start_time": "2022-08-11T23:36:28.753Z"
   },
   {
    "duration": 2,
    "start_time": "2022-08-11T23:37:45.068Z"
   },
   {
    "duration": 301,
    "start_time": "2022-08-11T23:37:45.073Z"
   },
   {
    "duration": 10,
    "start_time": "2022-08-11T23:37:45.376Z"
   },
   {
    "duration": 13,
    "start_time": "2022-08-11T23:37:45.387Z"
   },
   {
    "duration": 13,
    "start_time": "2022-08-11T23:37:45.401Z"
   },
   {
    "duration": 15,
    "start_time": "2022-08-11T23:37:45.415Z"
   },
   {
    "duration": 14,
    "start_time": "2022-08-11T23:37:45.431Z"
   },
   {
    "duration": 18,
    "start_time": "2022-08-11T23:37:45.446Z"
   },
   {
    "duration": 31,
    "start_time": "2022-08-11T23:37:45.466Z"
   },
   {
    "duration": 7,
    "start_time": "2022-08-11T23:37:45.498Z"
   },
   {
    "duration": 6,
    "start_time": "2022-08-11T23:37:45.507Z"
   },
   {
    "duration": 19,
    "start_time": "2022-08-11T23:37:45.514Z"
   },
   {
    "duration": 9,
    "start_time": "2022-08-11T23:37:45.535Z"
   },
   {
    "duration": 22,
    "start_time": "2022-08-11T23:37:45.545Z"
   },
   {
    "duration": 3,
    "start_time": "2022-08-11T23:37:45.568Z"
   },
   {
    "duration": 48,
    "start_time": "2022-08-11T23:37:45.573Z"
   },
   {
    "duration": 13,
    "start_time": "2022-08-11T23:37:45.622Z"
   },
   {
    "duration": 8,
    "start_time": "2022-08-11T23:37:45.636Z"
   },
   {
    "duration": 16,
    "start_time": "2022-08-11T23:37:45.646Z"
   },
   {
    "duration": 53,
    "start_time": "2022-08-11T23:37:45.664Z"
   },
   {
    "duration": 15,
    "start_time": "2022-08-11T23:37:45.718Z"
   },
   {
    "duration": 8,
    "start_time": "2022-08-11T23:37:45.734Z"
   },
   {
    "duration": 18,
    "start_time": "2022-08-11T23:37:45.744Z"
   },
   {
    "duration": 51,
    "start_time": "2022-08-11T23:37:45.763Z"
   },
   {
    "duration": 9,
    "start_time": "2022-08-11T23:37:45.815Z"
   },
   {
    "duration": 32,
    "start_time": "2022-08-11T23:37:45.825Z"
   },
   {
    "duration": 41,
    "start_time": "2022-08-11T23:37:45.859Z"
   },
   {
    "duration": 17,
    "start_time": "2022-08-11T23:37:45.901Z"
   },
   {
    "duration": 27,
    "start_time": "2022-08-11T23:37:45.920Z"
   },
   {
    "duration": 6,
    "start_time": "2022-08-11T23:37:45.948Z"
   },
   {
    "duration": 5,
    "start_time": "2022-08-11T23:37:45.955Z"
   },
   {
    "duration": 17,
    "start_time": "2022-08-11T23:37:45.962Z"
   },
   {
    "duration": 4,
    "start_time": "2022-08-11T23:37:45.999Z"
   },
   {
    "duration": 11,
    "start_time": "2022-08-11T23:38:19.463Z"
   },
   {
    "duration": 13,
    "start_time": "2022-08-11T23:38:29.309Z"
   },
   {
    "duration": 12,
    "start_time": "2022-08-11T23:38:37.509Z"
   },
   {
    "duration": 14,
    "start_time": "2022-08-11T23:39:18.716Z"
   },
   {
    "duration": 16,
    "start_time": "2022-08-11T23:39:25.732Z"
   },
   {
    "duration": 16,
    "start_time": "2022-08-11T23:39:41.211Z"
   },
   {
    "duration": 14,
    "start_time": "2022-08-11T23:39:45.923Z"
   },
   {
    "duration": 17,
    "start_time": "2022-08-11T23:40:26.784Z"
   },
   {
    "duration": 5,
    "start_time": "2022-08-11T23:40:38.448Z"
   },
   {
    "duration": 15,
    "start_time": "2022-08-11T23:40:42.994Z"
   },
   {
    "duration": 3,
    "start_time": "2022-08-11T23:41:12.137Z"
   },
   {
    "duration": 15,
    "start_time": "2022-08-11T23:41:14.247Z"
   },
   {
    "duration": 16,
    "start_time": "2022-08-11T23:41:31.997Z"
   },
   {
    "duration": 23,
    "start_time": "2022-08-11T23:41:32.711Z"
   },
   {
    "duration": 5,
    "start_time": "2022-08-11T23:42:00.814Z"
   },
   {
    "duration": 14,
    "start_time": "2022-08-11T23:42:02.881Z"
   },
   {
    "duration": 3,
    "start_time": "2022-08-11T23:42:14.090Z"
   },
   {
    "duration": 14,
    "start_time": "2022-08-11T23:42:14.611Z"
   },
   {
    "duration": 5,
    "start_time": "2022-08-11T23:42:24.181Z"
   },
   {
    "duration": 292,
    "start_time": "2022-08-11T23:42:24.211Z"
   },
   {
    "duration": 9,
    "start_time": "2022-08-11T23:42:24.505Z"
   },
   {
    "duration": 10,
    "start_time": "2022-08-11T23:42:24.516Z"
   },
   {
    "duration": 11,
    "start_time": "2022-08-11T23:42:24.527Z"
   },
   {
    "duration": 14,
    "start_time": "2022-08-11T23:42:24.540Z"
   },
   {
    "duration": 13,
    "start_time": "2022-08-11T23:42:24.555Z"
   },
   {
    "duration": 11,
    "start_time": "2022-08-11T23:42:24.570Z"
   },
   {
    "duration": 20,
    "start_time": "2022-08-11T23:42:24.582Z"
   },
   {
    "duration": 8,
    "start_time": "2022-08-11T23:42:24.604Z"
   },
   {
    "duration": 13,
    "start_time": "2022-08-11T23:42:24.614Z"
   },
   {
    "duration": 21,
    "start_time": "2022-08-11T23:42:24.628Z"
   },
   {
    "duration": 8,
    "start_time": "2022-08-11T23:42:24.650Z"
   },
   {
    "duration": 20,
    "start_time": "2022-08-11T23:42:24.660Z"
   },
   {
    "duration": 3,
    "start_time": "2022-08-11T23:42:24.682Z"
   },
   {
    "duration": 46,
    "start_time": "2022-08-11T23:42:24.687Z"
   },
   {
    "duration": 14,
    "start_time": "2022-08-11T23:42:24.735Z"
   },
   {
    "duration": 9,
    "start_time": "2022-08-11T23:42:24.751Z"
   },
   {
    "duration": 19,
    "start_time": "2022-08-11T23:42:24.761Z"
   },
   {
    "duration": 37,
    "start_time": "2022-08-11T23:42:24.781Z"
   },
   {
    "duration": 15,
    "start_time": "2022-08-11T23:42:24.820Z"
   },
   {
    "duration": 9,
    "start_time": "2022-08-11T23:42:24.836Z"
   },
   {
    "duration": 19,
    "start_time": "2022-08-11T23:42:24.846Z"
   },
   {
    "duration": 43,
    "start_time": "2022-08-11T23:42:24.866Z"
   },
   {
    "duration": 8,
    "start_time": "2022-08-11T23:42:24.910Z"
   },
   {
    "duration": 27,
    "start_time": "2022-08-11T23:42:24.919Z"
   },
   {
    "duration": 33,
    "start_time": "2022-08-11T23:42:24.948Z"
   },
   {
    "duration": 21,
    "start_time": "2022-08-11T23:42:25.005Z"
   },
   {
    "duration": 26,
    "start_time": "2022-08-11T23:42:25.028Z"
   },
   {
    "duration": 5,
    "start_time": "2022-08-11T23:42:25.055Z"
   },
   {
    "duration": 9,
    "start_time": "2022-08-11T23:42:25.061Z"
   },
   {
    "duration": 28,
    "start_time": "2022-08-11T23:42:25.072Z"
   },
   {
    "duration": 4,
    "start_time": "2022-08-11T23:42:34.820Z"
   },
   {
    "duration": 15,
    "start_time": "2022-08-11T23:42:35.917Z"
   },
   {
    "duration": 25,
    "start_time": "2022-08-11T23:42:41.271Z"
   },
   {
    "duration": 8,
    "start_time": "2022-08-11T23:43:23.532Z"
   },
   {
    "duration": 15,
    "start_time": "2022-08-11T23:48:59.066Z"
   },
   {
    "duration": 9,
    "start_time": "2022-08-11T23:49:13.625Z"
   },
   {
    "duration": 20,
    "start_time": "2022-08-11T23:49:26.414Z"
   },
   {
    "duration": 8,
    "start_time": "2022-08-11T23:51:36.701Z"
   },
   {
    "duration": 9,
    "start_time": "2022-08-11T23:52:14.551Z"
   },
   {
    "duration": 3,
    "start_time": "2022-08-11T23:52:21.376Z"
   },
   {
    "duration": 29,
    "start_time": "2022-08-11T23:52:37.469Z"
   },
   {
    "duration": 33,
    "start_time": "2022-08-11T23:54:43.585Z"
   },
   {
    "duration": 1183,
    "start_time": "2022-08-12T01:43:29.067Z"
   },
   {
    "duration": 956,
    "start_time": "2022-08-12T01:43:30.252Z"
   },
   {
    "duration": 12,
    "start_time": "2022-08-12T01:43:31.210Z"
   },
   {
    "duration": 61,
    "start_time": "2022-08-12T01:43:31.224Z"
   },
   {
    "duration": 17,
    "start_time": "2022-08-12T01:43:31.287Z"
   },
   {
    "duration": 34,
    "start_time": "2022-08-12T01:43:31.306Z"
   },
   {
    "duration": 32,
    "start_time": "2022-08-12T01:43:31.342Z"
   },
   {
    "duration": 38,
    "start_time": "2022-08-12T01:43:31.376Z"
   },
   {
    "duration": 24,
    "start_time": "2022-08-12T01:43:31.415Z"
   },
   {
    "duration": 25,
    "start_time": "2022-08-12T01:43:31.440Z"
   },
   {
    "duration": 14,
    "start_time": "2022-08-12T01:43:31.468Z"
   },
   {
    "duration": 36,
    "start_time": "2022-08-12T01:43:31.484Z"
   },
   {
    "duration": 9,
    "start_time": "2022-08-12T01:43:31.522Z"
   },
   {
    "duration": 30,
    "start_time": "2022-08-12T01:43:31.534Z"
   },
   {
    "duration": 4,
    "start_time": "2022-08-12T01:43:31.565Z"
   },
   {
    "duration": 54,
    "start_time": "2022-08-12T01:43:31.571Z"
   },
   {
    "duration": 12,
    "start_time": "2022-08-12T01:43:31.627Z"
   },
   {
    "duration": 18,
    "start_time": "2022-08-12T01:43:31.640Z"
   },
   {
    "duration": 20,
    "start_time": "2022-08-12T01:43:31.660Z"
   },
   {
    "duration": 29,
    "start_time": "2022-08-12T01:43:31.682Z"
   },
   {
    "duration": 14,
    "start_time": "2022-08-12T01:43:31.713Z"
   },
   {
    "duration": 34,
    "start_time": "2022-08-12T01:43:31.729Z"
   },
   {
    "duration": 35,
    "start_time": "2022-08-12T01:43:31.764Z"
   },
   {
    "duration": 32,
    "start_time": "2022-08-12T01:43:31.800Z"
   },
   {
    "duration": 8,
    "start_time": "2022-08-12T01:43:31.834Z"
   },
   {
    "duration": 27,
    "start_time": "2022-08-12T01:43:34.559Z"
   },
   {
    "duration": 38,
    "start_time": "2022-08-12T01:43:34.975Z"
   },
   {
    "duration": 17,
    "start_time": "2022-08-12T01:43:35.291Z"
   },
   {
    "duration": 28,
    "start_time": "2022-08-12T01:43:35.642Z"
   },
   {
    "duration": 5,
    "start_time": "2022-08-12T01:43:36.182Z"
   },
   {
    "duration": 3,
    "start_time": "2022-08-12T01:43:37.241Z"
   },
   {
    "duration": 85,
    "start_time": "2022-08-12T01:43:37.679Z"
   },
   {
    "duration": 26,
    "start_time": "2022-08-12T01:43:44.308Z"
   },
   {
    "duration": 36,
    "start_time": "2022-08-12T01:43:44.655Z"
   },
   {
    "duration": 17,
    "start_time": "2022-08-12T01:43:44.932Z"
   },
   {
    "duration": 37,
    "start_time": "2022-08-12T01:43:45.195Z"
   },
   {
    "duration": 5,
    "start_time": "2022-08-12T01:43:45.466Z"
   },
   {
    "duration": 11,
    "start_time": "2022-08-12T01:43:46.461Z"
   },
   {
    "duration": 17,
    "start_time": "2022-08-12T01:43:47.027Z"
   },
   {
    "duration": 3,
    "start_time": "2022-08-12T01:44:03.218Z"
   },
   {
    "duration": 315,
    "start_time": "2022-08-12T01:44:03.222Z"
   },
   {
    "duration": 10,
    "start_time": "2022-08-12T01:44:03.539Z"
   },
   {
    "duration": 20,
    "start_time": "2022-08-12T01:44:03.550Z"
   },
   {
    "duration": 6,
    "start_time": "2022-08-12T01:44:03.571Z"
   },
   {
    "duration": 11,
    "start_time": "2022-08-12T01:44:03.578Z"
   },
   {
    "duration": 17,
    "start_time": "2022-08-12T01:44:03.591Z"
   },
   {
    "duration": 24,
    "start_time": "2022-08-12T01:44:03.610Z"
   },
   {
    "duration": 22,
    "start_time": "2022-08-12T01:44:03.636Z"
   },
   {
    "duration": 22,
    "start_time": "2022-08-12T01:44:03.659Z"
   },
   {
    "duration": 13,
    "start_time": "2022-08-12T01:44:03.682Z"
   },
   {
    "duration": 31,
    "start_time": "2022-08-12T01:44:03.697Z"
   },
   {
    "duration": 9,
    "start_time": "2022-08-12T01:44:03.729Z"
   },
   {
    "duration": 36,
    "start_time": "2022-08-12T01:44:03.740Z"
   },
   {
    "duration": 10,
    "start_time": "2022-08-12T01:44:03.778Z"
   },
   {
    "duration": 54,
    "start_time": "2022-08-12T01:44:03.789Z"
   },
   {
    "duration": 15,
    "start_time": "2022-08-12T01:44:03.845Z"
   },
   {
    "duration": 42,
    "start_time": "2022-08-12T01:44:03.861Z"
   },
   {
    "duration": 26,
    "start_time": "2022-08-12T01:44:03.904Z"
   },
   {
    "duration": 43,
    "start_time": "2022-08-12T01:44:03.932Z"
   },
   {
    "duration": 15,
    "start_time": "2022-08-12T01:44:03.976Z"
   },
   {
    "duration": 11,
    "start_time": "2022-08-12T01:44:03.992Z"
   },
   {
    "duration": 35,
    "start_time": "2022-08-12T01:44:04.005Z"
   },
   {
    "duration": 26,
    "start_time": "2022-08-12T01:44:04.043Z"
   },
   {
    "duration": 8,
    "start_time": "2022-08-12T01:44:04.070Z"
   },
   {
    "duration": 40,
    "start_time": "2022-08-12T01:44:04.079Z"
   },
   {
    "duration": 36,
    "start_time": "2022-08-12T01:44:04.121Z"
   },
   {
    "duration": 17,
    "start_time": "2022-08-12T01:44:04.158Z"
   },
   {
    "duration": 42,
    "start_time": "2022-08-12T01:44:04.176Z"
   },
   {
    "duration": 5,
    "start_time": "2022-08-12T01:44:04.220Z"
   },
   {
    "duration": 17,
    "start_time": "2022-08-12T01:44:04.227Z"
   },
   {
    "duration": 28,
    "start_time": "2022-08-12T01:44:04.246Z"
   },
   {
    "duration": 10,
    "start_time": "2022-08-12T01:44:04.275Z"
   },
   {
    "duration": 19,
    "start_time": "2022-08-12T01:44:04.286Z"
   },
   {
    "duration": 29,
    "start_time": "2022-08-12T01:44:04.306Z"
   },
   {
    "duration": 34,
    "start_time": "2022-08-12T01:44:04.337Z"
   },
   {
    "duration": 3,
    "start_time": "2022-08-12T01:44:04.372Z"
   },
   {
    "duration": 16,
    "start_time": "2022-08-12T01:44:04.376Z"
   },
   {
    "duration": 15,
    "start_time": "2022-08-12T01:44:04.393Z"
   },
   {
    "duration": 11,
    "start_time": "2022-08-12T01:44:04.409Z"
   },
   {
    "duration": 12,
    "start_time": "2022-08-12T01:44:04.421Z"
   },
   {
    "duration": 17,
    "start_time": "2022-08-12T01:44:04.434Z"
   },
   {
    "duration": 16,
    "start_time": "2022-08-12T01:44:04.452Z"
   },
   {
    "duration": 24,
    "start_time": "2022-08-12T01:44:04.470Z"
   },
   {
    "duration": 21,
    "start_time": "2022-08-12T01:44:04.495Z"
   },
   {
    "duration": 7,
    "start_time": "2022-08-12T01:44:49.670Z"
   },
   {
    "duration": 30,
    "start_time": "2022-08-12T01:44:50.685Z"
   },
   {
    "duration": 28,
    "start_time": "2022-08-12T01:47:33.020Z"
   },
   {
    "duration": 37,
    "start_time": "2022-08-12T01:47:33.877Z"
   },
   {
    "duration": 17,
    "start_time": "2022-08-12T01:47:34.532Z"
   },
   {
    "duration": 28,
    "start_time": "2022-08-12T01:47:35.244Z"
   },
   {
    "duration": 5,
    "start_time": "2022-08-12T01:47:35.947Z"
   },
   {
    "duration": 9,
    "start_time": "2022-08-12T01:47:38.074Z"
   },
   {
    "duration": 2,
    "start_time": "2022-08-12T01:47:44.671Z"
   },
   {
    "duration": 300,
    "start_time": "2022-08-12T01:47:44.675Z"
   },
   {
    "duration": 10,
    "start_time": "2022-08-12T01:47:44.977Z"
   },
   {
    "duration": 31,
    "start_time": "2022-08-12T01:47:44.989Z"
   },
   {
    "duration": 6,
    "start_time": "2022-08-12T01:47:45.022Z"
   },
   {
    "duration": 16,
    "start_time": "2022-08-12T01:47:45.029Z"
   },
   {
    "duration": 14,
    "start_time": "2022-08-12T01:47:45.047Z"
   },
   {
    "duration": 17,
    "start_time": "2022-08-12T01:47:45.062Z"
   },
   {
    "duration": 12,
    "start_time": "2022-08-12T01:47:45.080Z"
   },
   {
    "duration": 6,
    "start_time": "2022-08-12T01:47:45.093Z"
   },
   {
    "duration": 5,
    "start_time": "2022-08-12T01:47:45.101Z"
   },
   {
    "duration": 19,
    "start_time": "2022-08-12T01:47:45.107Z"
   },
   {
    "duration": 8,
    "start_time": "2022-08-12T01:47:45.128Z"
   },
   {
    "duration": 23,
    "start_time": "2022-08-12T01:47:45.138Z"
   },
   {
    "duration": 4,
    "start_time": "2022-08-12T01:47:45.162Z"
   },
   {
    "duration": 61,
    "start_time": "2022-08-12T01:47:45.167Z"
   },
   {
    "duration": 14,
    "start_time": "2022-08-12T01:47:45.229Z"
   },
   {
    "duration": 9,
    "start_time": "2022-08-12T01:47:45.244Z"
   },
   {
    "duration": 15,
    "start_time": "2022-08-12T01:47:45.254Z"
   },
   {
    "duration": 43,
    "start_time": "2022-08-12T01:47:45.270Z"
   },
   {
    "duration": 16,
    "start_time": "2022-08-12T01:47:45.315Z"
   },
   {
    "duration": 8,
    "start_time": "2022-08-12T01:47:45.333Z"
   },
   {
    "duration": 20,
    "start_time": "2022-08-12T01:47:45.342Z"
   },
   {
    "duration": 52,
    "start_time": "2022-08-12T01:47:45.364Z"
   },
   {
    "duration": 8,
    "start_time": "2022-08-12T01:47:45.417Z"
   },
   {
    "duration": 34,
    "start_time": "2022-08-12T01:47:45.426Z"
   },
   {
    "duration": 60,
    "start_time": "2022-08-12T01:47:45.462Z"
   },
   {
    "duration": 19,
    "start_time": "2022-08-12T01:47:45.523Z"
   },
   {
    "duration": 29,
    "start_time": "2022-08-12T01:47:45.545Z"
   },
   {
    "duration": 4,
    "start_time": "2022-08-12T01:47:45.576Z"
   },
   {
    "duration": 4,
    "start_time": "2022-08-12T01:47:45.599Z"
   },
   {
    "duration": 9,
    "start_time": "2022-08-12T01:47:48.456Z"
   },
   {
    "duration": 3,
    "start_time": "2022-08-12T01:47:59.390Z"
   },
   {
    "duration": 304,
    "start_time": "2022-08-12T01:47:59.395Z"
   },
   {
    "duration": 10,
    "start_time": "2022-08-12T01:47:59.700Z"
   },
   {
    "duration": 10,
    "start_time": "2022-08-12T01:47:59.712Z"
   },
   {
    "duration": 4,
    "start_time": "2022-08-12T01:47:59.723Z"
   },
   {
    "duration": 9,
    "start_time": "2022-08-12T01:47:59.728Z"
   },
   {
    "duration": 18,
    "start_time": "2022-08-12T01:47:59.739Z"
   },
   {
    "duration": 13,
    "start_time": "2022-08-12T01:47:59.758Z"
   },
   {
    "duration": 27,
    "start_time": "2022-08-12T01:47:59.775Z"
   },
   {
    "duration": 9,
    "start_time": "2022-08-12T01:47:59.804Z"
   },
   {
    "duration": 8,
    "start_time": "2022-08-12T01:47:59.815Z"
   },
   {
    "duration": 19,
    "start_time": "2022-08-12T01:47:59.824Z"
   },
   {
    "duration": 8,
    "start_time": "2022-08-12T01:47:59.845Z"
   },
   {
    "duration": 21,
    "start_time": "2022-08-12T01:47:59.855Z"
   },
   {
    "duration": 3,
    "start_time": "2022-08-12T01:47:59.877Z"
   },
   {
    "duration": 36,
    "start_time": "2022-08-12T01:47:59.899Z"
   },
   {
    "duration": 13,
    "start_time": "2022-08-12T01:47:59.936Z"
   },
   {
    "duration": 7,
    "start_time": "2022-08-12T01:47:59.950Z"
   },
   {
    "duration": 18,
    "start_time": "2022-08-12T01:47:59.958Z"
   },
   {
    "duration": 42,
    "start_time": "2022-08-12T01:47:59.977Z"
   },
   {
    "duration": 20,
    "start_time": "2022-08-12T01:48:00.021Z"
   },
   {
    "duration": 10,
    "start_time": "2022-08-12T01:48:00.043Z"
   },
   {
    "duration": 20,
    "start_time": "2022-08-12T01:48:00.055Z"
   },
   {
    "duration": 24,
    "start_time": "2022-08-12T01:48:00.101Z"
   },
   {
    "duration": 8,
    "start_time": "2022-08-12T01:48:00.127Z"
   },
   {
    "duration": 33,
    "start_time": "2022-08-12T01:48:00.136Z"
   },
   {
    "duration": 52,
    "start_time": "2022-08-12T01:48:00.170Z"
   },
   {
    "duration": 18,
    "start_time": "2022-08-12T01:48:00.223Z"
   },
   {
    "duration": 28,
    "start_time": "2022-08-12T01:48:00.243Z"
   },
   {
    "duration": 5,
    "start_time": "2022-08-12T01:48:00.272Z"
   },
   {
    "duration": 24,
    "start_time": "2022-08-12T01:48:00.279Z"
   },
   {
    "duration": 35,
    "start_time": "2022-08-12T01:48:00.305Z"
   },
   {
    "duration": 18,
    "start_time": "2022-08-12T01:48:04.049Z"
   },
   {
    "duration": 5,
    "start_time": "2022-08-12T01:48:05.733Z"
   },
   {
    "duration": 14,
    "start_time": "2022-08-12T01:48:06.894Z"
   },
   {
    "duration": 35,
    "start_time": "2022-08-12T01:50:09.582Z"
   },
   {
    "duration": 3,
    "start_time": "2022-08-12T01:50:25.027Z"
   },
   {
    "duration": 301,
    "start_time": "2022-08-12T01:50:25.031Z"
   },
   {
    "duration": 10,
    "start_time": "2022-08-12T01:50:25.334Z"
   },
   {
    "duration": 12,
    "start_time": "2022-08-12T01:50:25.346Z"
   },
   {
    "duration": 4,
    "start_time": "2022-08-12T01:50:25.359Z"
   },
   {
    "duration": 17,
    "start_time": "2022-08-12T01:50:25.364Z"
   },
   {
    "duration": 14,
    "start_time": "2022-08-12T01:50:25.383Z"
   },
   {
    "duration": 12,
    "start_time": "2022-08-12T01:50:25.398Z"
   },
   {
    "duration": 16,
    "start_time": "2022-08-12T01:50:25.412Z"
   },
   {
    "duration": 5,
    "start_time": "2022-08-12T01:50:25.430Z"
   },
   {
    "duration": 5,
    "start_time": "2022-08-12T01:50:25.436Z"
   },
   {
    "duration": 21,
    "start_time": "2022-08-12T01:50:25.443Z"
   },
   {
    "duration": 9,
    "start_time": "2022-08-12T01:50:25.465Z"
   },
   {
    "duration": 38,
    "start_time": "2022-08-12T01:50:25.476Z"
   },
   {
    "duration": 3,
    "start_time": "2022-08-12T01:50:25.516Z"
   },
   {
    "duration": 47,
    "start_time": "2022-08-12T01:50:25.521Z"
   },
   {
    "duration": 15,
    "start_time": "2022-08-12T01:50:25.569Z"
   },
   {
    "duration": 12,
    "start_time": "2022-08-12T01:50:25.599Z"
   },
   {
    "duration": 15,
    "start_time": "2022-08-12T01:50:25.612Z"
   },
   {
    "duration": 26,
    "start_time": "2022-08-12T01:50:25.628Z"
   },
   {
    "duration": 16,
    "start_time": "2022-08-12T01:50:25.655Z"
   },
   {
    "duration": 29,
    "start_time": "2022-08-12T01:50:25.672Z"
   },
   {
    "duration": 18,
    "start_time": "2022-08-12T01:50:25.703Z"
   },
   {
    "duration": 25,
    "start_time": "2022-08-12T01:50:25.724Z"
   },
   {
    "duration": 8,
    "start_time": "2022-08-12T01:50:25.750Z"
   },
   {
    "duration": 50,
    "start_time": "2022-08-12T01:50:25.760Z"
   },
   {
    "duration": 36,
    "start_time": "2022-08-12T01:50:25.812Z"
   },
   {
    "duration": 17,
    "start_time": "2022-08-12T01:50:25.850Z"
   },
   {
    "duration": 47,
    "start_time": "2022-08-12T01:50:25.868Z"
   },
   {
    "duration": 5,
    "start_time": "2022-08-12T01:50:25.916Z"
   },
   {
    "duration": 7,
    "start_time": "2022-08-12T01:50:25.923Z"
   },
   {
    "duration": 26,
    "start_time": "2022-08-12T01:50:25.932Z"
   },
   {
    "duration": 5,
    "start_time": "2022-08-12T01:50:25.960Z"
   },
   {
    "duration": 18,
    "start_time": "2022-08-12T01:50:25.967Z"
   },
   {
    "duration": 8,
    "start_time": "2022-08-12T01:50:26.000Z"
   },
   {
    "duration": 35,
    "start_time": "2022-08-12T01:50:26.010Z"
   },
   {
    "duration": 47,
    "start_time": "2022-08-12T01:58:13.150Z"
   },
   {
    "duration": 53,
    "start_time": "2022-08-12T01:58:21.682Z"
   },
   {
    "duration": 55,
    "start_time": "2022-08-12T01:58:43.561Z"
   },
   {
    "duration": 47,
    "start_time": "2022-08-12T01:58:51.237Z"
   },
   {
    "duration": 70,
    "start_time": "2022-08-12T02:00:11.265Z"
   },
   {
    "duration": 66,
    "start_time": "2022-08-12T02:00:18.368Z"
   },
   {
    "duration": 52,
    "start_time": "2022-08-12T02:00:26.343Z"
   },
   {
    "duration": 55,
    "start_time": "2022-08-12T02:00:43.608Z"
   },
   {
    "duration": 81,
    "start_time": "2022-08-12T02:01:20.008Z"
   },
   {
    "duration": 46,
    "start_time": "2022-08-12T02:01:42.248Z"
   },
   {
    "duration": 51,
    "start_time": "2022-08-12T02:01:46.499Z"
   },
   {
    "duration": 54,
    "start_time": "2022-08-12T02:01:50.844Z"
   },
   {
    "duration": 101,
    "start_time": "2022-08-12T02:02:31.290Z"
   },
   {
    "duration": 63,
    "start_time": "2022-08-12T02:03:12.569Z"
   },
   {
    "duration": 55,
    "start_time": "2022-08-12T02:03:22.980Z"
   },
   {
    "duration": 69,
    "start_time": "2022-08-12T02:03:39.731Z"
   },
   {
    "duration": 48,
    "start_time": "2022-08-12T02:04:53.960Z"
   },
   {
    "duration": 63,
    "start_time": "2022-08-12T02:05:01.751Z"
   },
   {
    "duration": 61,
    "start_time": "2022-08-12T02:05:33.440Z"
   },
   {
    "duration": 48,
    "start_time": "2022-08-12T02:07:25.963Z"
   },
   {
    "duration": 59,
    "start_time": "2022-08-12T02:22:38.671Z"
   },
   {
    "duration": 52,
    "start_time": "2022-08-12T02:22:42.135Z"
   },
   {
    "duration": 81,
    "start_time": "2022-08-12T02:22:56.647Z"
   },
   {
    "duration": 59,
    "start_time": "2022-08-12T02:23:35.144Z"
   },
   {
    "duration": 28,
    "start_time": "2022-08-12T02:24:24.839Z"
   },
   {
    "duration": 46,
    "start_time": "2022-08-12T02:25:29.641Z"
   },
   {
    "duration": 46,
    "start_time": "2022-08-12T02:25:51.990Z"
   },
   {
    "duration": 54,
    "start_time": "2022-08-12T02:27:10.208Z"
   },
   {
    "duration": 88,
    "start_time": "2022-08-12T02:27:22.592Z"
   },
   {
    "duration": 64,
    "start_time": "2022-08-12T02:29:20.579Z"
   },
   {
    "duration": 4,
    "start_time": "2022-08-12T02:29:32.384Z"
   },
   {
    "duration": 51,
    "start_time": "2022-08-12T02:30:33.236Z"
   },
   {
    "duration": 5,
    "start_time": "2022-08-12T02:30:51.610Z"
   },
   {
    "duration": 4,
    "start_time": "2022-08-12T02:32:46.461Z"
   },
   {
    "duration": 1091,
    "start_time": "2022-08-12T16:23:45.760Z"
   },
   {
    "duration": 786,
    "start_time": "2022-08-12T16:23:46.853Z"
   },
   {
    "duration": 11,
    "start_time": "2022-08-12T16:23:47.641Z"
   },
   {
    "duration": 14,
    "start_time": "2022-08-12T16:23:47.654Z"
   },
   {
    "duration": 3,
    "start_time": "2022-08-12T16:23:47.670Z"
   },
   {
    "duration": 10,
    "start_time": "2022-08-12T16:23:47.674Z"
   },
   {
    "duration": 16,
    "start_time": "2022-08-12T16:23:47.685Z"
   },
   {
    "duration": 11,
    "start_time": "2022-08-12T16:23:47.703Z"
   },
   {
    "duration": 13,
    "start_time": "2022-08-12T16:23:47.716Z"
   },
   {
    "duration": 6,
    "start_time": "2022-08-12T16:23:47.733Z"
   },
   {
    "duration": 6,
    "start_time": "2022-08-12T16:23:47.740Z"
   },
   {
    "duration": 19,
    "start_time": "2022-08-12T16:23:47.747Z"
   },
   {
    "duration": 9,
    "start_time": "2022-08-12T16:23:47.767Z"
   },
   {
    "duration": 45,
    "start_time": "2022-08-12T16:23:47.777Z"
   },
   {
    "duration": 4,
    "start_time": "2022-08-12T16:23:47.824Z"
   },
   {
    "duration": 39,
    "start_time": "2022-08-12T16:23:47.829Z"
   },
   {
    "duration": 12,
    "start_time": "2022-08-12T16:23:47.870Z"
   },
   {
    "duration": 24,
    "start_time": "2022-08-12T16:23:47.883Z"
   },
   {
    "duration": 16,
    "start_time": "2022-08-12T16:23:47.908Z"
   },
   {
    "duration": 25,
    "start_time": "2022-08-12T16:23:47.925Z"
   },
   {
    "duration": 15,
    "start_time": "2022-08-12T16:23:47.952Z"
   },
   {
    "duration": 8,
    "start_time": "2022-08-12T16:23:47.968Z"
   },
   {
    "duration": 41,
    "start_time": "2022-08-12T16:23:47.977Z"
   },
   {
    "duration": 23,
    "start_time": "2022-08-12T16:23:48.019Z"
   },
   {
    "duration": 8,
    "start_time": "2022-08-12T16:23:48.044Z"
   },
   {
    "duration": 31,
    "start_time": "2022-08-12T16:23:48.054Z"
   },
   {
    "duration": 48,
    "start_time": "2022-08-12T16:23:48.086Z"
   },
   {
    "duration": 17,
    "start_time": "2022-08-12T16:23:48.137Z"
   },
   {
    "duration": 25,
    "start_time": "2022-08-12T16:23:48.155Z"
   },
   {
    "duration": 4,
    "start_time": "2022-08-12T16:23:48.181Z"
   },
   {
    "duration": 3,
    "start_time": "2022-08-12T16:23:48.205Z"
   },
   {
    "duration": 17,
    "start_time": "2022-08-12T16:23:48.210Z"
   },
   {
    "duration": 3,
    "start_time": "2022-08-12T16:23:48.229Z"
   },
   {
    "duration": 16,
    "start_time": "2022-08-12T16:23:48.233Z"
   },
   {
    "duration": 7,
    "start_time": "2022-08-12T16:23:48.250Z"
   },
   {
    "duration": 50,
    "start_time": "2022-08-12T16:23:48.258Z"
   },
   {
    "duration": 4,
    "start_time": "2022-08-12T16:28:11.559Z"
   },
   {
    "duration": 4,
    "start_time": "2022-08-12T16:37:27.423Z"
   },
   {
    "duration": 87,
    "start_time": "2022-08-12T16:48:38.209Z"
   },
   {
    "duration": 73,
    "start_time": "2022-08-12T16:51:24.493Z"
   },
   {
    "duration": 76,
    "start_time": "2022-08-12T16:51:34.740Z"
   },
   {
    "duration": 72,
    "start_time": "2022-08-12T16:51:38.259Z"
   },
   {
    "duration": 77,
    "start_time": "2022-08-12T16:51:54.171Z"
   },
   {
    "duration": 71,
    "start_time": "2022-08-12T16:52:08.332Z"
   },
   {
    "duration": 150,
    "start_time": "2022-08-12T16:52:53.162Z"
   },
   {
    "duration": 87,
    "start_time": "2022-08-12T16:52:59.817Z"
   },
   {
    "duration": 85,
    "start_time": "2022-08-12T16:59:06.986Z"
   },
   {
    "duration": 111,
    "start_time": "2022-08-12T16:59:16.065Z"
   },
   {
    "duration": 74,
    "start_time": "2022-08-12T16:59:33.269Z"
   },
   {
    "duration": 74,
    "start_time": "2022-08-12T16:59:38.588Z"
   },
   {
    "duration": 14,
    "start_time": "2022-08-12T16:59:49.003Z"
   },
   {
    "duration": 79,
    "start_time": "2022-08-12T16:59:53.644Z"
   },
   {
    "duration": 183,
    "start_time": "2022-08-12T17:00:11.750Z"
   },
   {
    "duration": 3,
    "start_time": "2022-08-12T17:00:50.277Z"
   },
   {
    "duration": 11,
    "start_time": "2022-08-12T17:00:52.615Z"
   },
   {
    "duration": 125,
    "start_time": "2022-08-12T17:01:18.413Z"
   },
   {
    "duration": 84,
    "start_time": "2022-08-12T17:02:01.870Z"
   },
   {
    "duration": 79,
    "start_time": "2022-08-12T17:02:08.555Z"
   },
   {
    "duration": 24,
    "start_time": "2022-08-12T17:02:45.104Z"
   },
   {
    "duration": 12,
    "start_time": "2022-08-12T17:02:49.725Z"
   },
   {
    "duration": 4,
    "start_time": "2022-08-12T17:04:35.811Z"
   },
   {
    "duration": 12,
    "start_time": "2022-08-12T17:04:40.614Z"
   },
   {
    "duration": 13,
    "start_time": "2022-08-12T17:04:57.019Z"
   },
   {
    "duration": 9,
    "start_time": "2022-08-12T17:04:57.883Z"
   },
   {
    "duration": 27,
    "start_time": "2022-08-12T17:04:59.460Z"
   },
   {
    "duration": 10,
    "start_time": "2022-08-12T17:05:01.877Z"
   },
   {
    "duration": 213,
    "start_time": "2022-08-12T17:05:03.225Z"
   },
   {
    "duration": 11,
    "start_time": "2022-08-12T17:05:04.584Z"
   },
   {
    "duration": 3,
    "start_time": "2022-08-12T17:11:18.984Z"
   },
   {
    "duration": 10,
    "start_time": "2022-08-12T17:11:20.173Z"
   },
   {
    "duration": 74,
    "start_time": "2022-08-12T17:11:46.912Z"
   },
   {
    "duration": 4,
    "start_time": "2022-08-12T17:12:37.458Z"
   },
   {
    "duration": 6,
    "start_time": "2022-08-12T17:12:51.287Z"
   },
   {
    "duration": 5,
    "start_time": "2022-08-12T17:13:21.306Z"
   },
   {
    "duration": 4,
    "start_time": "2022-08-12T17:13:42.814Z"
   },
   {
    "duration": 3,
    "start_time": "2022-08-12T17:13:51.069Z"
   },
   {
    "duration": 303,
    "start_time": "2022-08-12T17:13:51.076Z"
   },
   {
    "duration": 13,
    "start_time": "2022-08-12T17:13:51.381Z"
   },
   {
    "duration": 10,
    "start_time": "2022-08-12T17:13:51.396Z"
   },
   {
    "duration": 4,
    "start_time": "2022-08-12T17:13:51.408Z"
   },
   {
    "duration": 14,
    "start_time": "2022-08-12T17:13:51.414Z"
   },
   {
    "duration": 16,
    "start_time": "2022-08-12T17:13:51.429Z"
   },
   {
    "duration": 12,
    "start_time": "2022-08-12T17:13:51.447Z"
   },
   {
    "duration": 12,
    "start_time": "2022-08-12T17:13:51.461Z"
   },
   {
    "duration": 6,
    "start_time": "2022-08-12T17:13:51.475Z"
   },
   {
    "duration": 21,
    "start_time": "2022-08-12T17:13:51.484Z"
   },
   {
    "duration": 17,
    "start_time": "2022-08-12T17:13:51.507Z"
   },
   {
    "duration": 9,
    "start_time": "2022-08-12T17:13:51.526Z"
   },
   {
    "duration": 21,
    "start_time": "2022-08-12T17:13:51.537Z"
   },
   {
    "duration": 3,
    "start_time": "2022-08-12T17:13:51.561Z"
   },
   {
    "duration": 62,
    "start_time": "2022-08-12T17:13:51.566Z"
   },
   {
    "duration": 12,
    "start_time": "2022-08-12T17:13:51.629Z"
   },
   {
    "duration": 6,
    "start_time": "2022-08-12T17:13:51.642Z"
   },
   {
    "duration": 13,
    "start_time": "2022-08-12T17:13:51.649Z"
   },
   {
    "duration": 21,
    "start_time": "2022-08-12T17:13:51.663Z"
   },
   {
    "duration": 15,
    "start_time": "2022-08-12T17:13:51.706Z"
   },
   {
    "duration": 7,
    "start_time": "2022-08-12T17:13:51.722Z"
   },
   {
    "duration": 15,
    "start_time": "2022-08-12T17:13:51.731Z"
   },
   {
    "duration": 20,
    "start_time": "2022-08-12T17:13:51.747Z"
   },
   {
    "duration": 7,
    "start_time": "2022-08-12T17:13:51.768Z"
   },
   {
    "duration": 50,
    "start_time": "2022-08-12T17:13:51.777Z"
   },
   {
    "duration": 32,
    "start_time": "2022-08-12T17:13:51.829Z"
   },
   {
    "duration": 16,
    "start_time": "2022-08-12T17:13:51.862Z"
   },
   {
    "duration": 39,
    "start_time": "2022-08-12T17:13:51.879Z"
   },
   {
    "duration": 5,
    "start_time": "2022-08-12T17:13:51.919Z"
   },
   {
    "duration": 6,
    "start_time": "2022-08-12T17:13:51.925Z"
   },
   {
    "duration": 21,
    "start_time": "2022-08-12T17:13:51.933Z"
   },
   {
    "duration": 4,
    "start_time": "2022-08-12T17:13:51.955Z"
   },
   {
    "duration": 8,
    "start_time": "2022-08-12T17:13:51.960Z"
   },
   {
    "duration": 5,
    "start_time": "2022-08-12T17:14:14.308Z"
   },
   {
    "duration": 11,
    "start_time": "2022-08-12T17:15:09.405Z"
   },
   {
    "duration": 3,
    "start_time": "2022-08-12T17:17:39.098Z"
   },
   {
    "duration": 111,
    "start_time": "2022-08-12T17:17:59.644Z"
   },
   {
    "duration": 4,
    "start_time": "2022-08-12T17:18:12.251Z"
   },
   {
    "duration": 1192,
    "start_time": "2022-08-12T17:18:19.108Z"
   },
   {
    "duration": 4,
    "start_time": "2022-08-12T17:18:20.867Z"
   },
   {
    "duration": 4,
    "start_time": "2022-08-12T17:18:32.868Z"
   },
   {
    "duration": 5,
    "start_time": "2022-08-12T17:18:33.948Z"
   },
   {
    "duration": 4,
    "start_time": "2022-08-12T17:18:56.205Z"
   },
   {
    "duration": 4,
    "start_time": "2022-08-12T17:18:56.904Z"
   },
   {
    "duration": 4,
    "start_time": "2022-08-12T17:19:09.094Z"
   },
   {
    "duration": 4,
    "start_time": "2022-08-12T17:19:09.590Z"
   },
   {
    "duration": 10,
    "start_time": "2022-08-12T17:19:18.727Z"
   },
   {
    "duration": 5,
    "start_time": "2022-08-12T17:20:35.671Z"
   },
   {
    "duration": 4,
    "start_time": "2022-08-12T17:20:44.118Z"
   },
   {
    "duration": 4,
    "start_time": "2022-08-12T17:20:49.022Z"
   },
   {
    "duration": 4,
    "start_time": "2022-08-12T17:20:57.592Z"
   },
   {
    "duration": 4,
    "start_time": "2022-08-12T17:21:05.337Z"
   },
   {
    "duration": 8,
    "start_time": "2022-08-12T17:21:06.116Z"
   },
   {
    "duration": 97,
    "start_time": "2022-08-12T17:21:41.080Z"
   },
   {
    "duration": 76,
    "start_time": "2022-08-12T17:25:35.251Z"
   },
   {
    "duration": 93,
    "start_time": "2022-08-12T17:26:06.433Z"
   },
   {
    "duration": 4,
    "start_time": "2022-08-12T17:28:26.560Z"
   },
   {
    "duration": 11,
    "start_time": "2022-08-12T17:28:30.668Z"
   },
   {
    "duration": 3,
    "start_time": "2022-08-12T17:29:01.235Z"
   },
   {
    "duration": 3,
    "start_time": "2022-08-12T17:29:06.249Z"
   },
   {
    "duration": 11,
    "start_time": "2022-08-12T17:29:07.983Z"
   },
   {
    "duration": 25,
    "start_time": "2022-08-12T17:29:38.070Z"
   },
   {
    "duration": 3,
    "start_time": "2022-08-12T17:32:48.424Z"
   },
   {
    "duration": 16,
    "start_time": "2022-08-12T17:32:49.072Z"
   },
   {
    "duration": 3,
    "start_time": "2022-08-12T17:33:40.426Z"
   },
   {
    "duration": 11,
    "start_time": "2022-08-12T17:33:41.249Z"
   },
   {
    "duration": 3,
    "start_time": "2022-08-12T17:35:20.153Z"
   },
   {
    "duration": 10,
    "start_time": "2022-08-12T17:35:20.786Z"
   },
   {
    "duration": 4,
    "start_time": "2022-08-12T17:35:29.797Z"
   },
   {
    "duration": 10,
    "start_time": "2022-08-12T17:35:30.427Z"
   },
   {
    "duration": 3,
    "start_time": "2022-08-12T17:37:01.467Z"
   },
   {
    "duration": 3,
    "start_time": "2022-08-12T17:37:08.449Z"
   },
   {
    "duration": 146,
    "start_time": "2022-08-12T17:37:08.999Z"
   },
   {
    "duration": 147,
    "start_time": "2022-08-12T17:37:16.808Z"
   },
   {
    "duration": 3,
    "start_time": "2022-08-12T17:49:45.684Z"
   },
   {
    "duration": 144,
    "start_time": "2022-08-12T17:51:44.340Z"
   },
   {
    "duration": 165,
    "start_time": "2022-08-12T17:51:52.528Z"
   },
   {
    "duration": 88,
    "start_time": "2022-08-12T17:52:15.776Z"
   },
   {
    "duration": 74,
    "start_time": "2022-08-12T17:52:30.506Z"
   },
   {
    "duration": 73,
    "start_time": "2022-08-12T17:55:50.893Z"
   },
   {
    "duration": 73,
    "start_time": "2022-08-12T17:56:32.093Z"
   },
   {
    "duration": 76,
    "start_time": "2022-08-12T17:56:46.728Z"
   },
   {
    "duration": 77,
    "start_time": "2022-08-12T17:57:19.986Z"
   },
   {
    "duration": 77,
    "start_time": "2022-08-12T17:57:42.988Z"
   },
   {
    "duration": 101,
    "start_time": "2022-08-12T17:58:17.505Z"
   },
   {
    "duration": 74,
    "start_time": "2022-08-12T17:59:29.827Z"
   },
   {
    "duration": 94,
    "start_time": "2022-08-12T17:59:46.564Z"
   },
   {
    "duration": 75,
    "start_time": "2022-08-12T18:00:09.588Z"
   },
   {
    "duration": 4,
    "start_time": "2022-08-12T18:01:27.352Z"
   },
   {
    "duration": 303,
    "start_time": "2022-08-12T18:01:35.978Z"
   },
   {
    "duration": 23,
    "start_time": "2022-08-12T18:24:13.761Z"
   },
   {
    "duration": 216,
    "start_time": "2022-08-12T18:26:11.792Z"
   },
   {
    "duration": 1186,
    "start_time": "2022-08-12T18:29:42.166Z"
   },
   {
    "duration": 1329,
    "start_time": "2022-08-12T18:29:59.703Z"
   },
   {
    "duration": 22,
    "start_time": "2022-08-12T18:30:12.678Z"
   },
   {
    "duration": 15,
    "start_time": "2022-08-12T18:30:29.841Z"
   },
   {
    "duration": 187,
    "start_time": "2022-08-12T18:30:40.248Z"
   },
   {
    "duration": 202,
    "start_time": "2022-08-12T18:32:33.824Z"
   },
   {
    "duration": 183,
    "start_time": "2022-08-12T18:32:47.798Z"
   },
   {
    "duration": 21,
    "start_time": "2022-08-12T18:34:53.381Z"
   },
   {
    "duration": 17,
    "start_time": "2022-08-12T18:40:36.442Z"
   },
   {
    "duration": 218,
    "start_time": "2022-08-12T18:42:50.801Z"
   },
   {
    "duration": 16,
    "start_time": "2022-08-12T18:43:15.688Z"
   },
   {
    "duration": 908,
    "start_time": "2022-08-12T18:43:32.900Z"
   },
   {
    "duration": 16,
    "start_time": "2022-08-12T18:43:42.786Z"
   },
   {
    "duration": 21,
    "start_time": "2022-08-12T18:43:47.407Z"
   },
   {
    "duration": 546,
    "start_time": "2022-08-12T18:45:07.344Z"
   },
   {
    "duration": 157,
    "start_time": "2022-08-12T18:45:25.002Z"
   },
   {
    "duration": 19,
    "start_time": "2022-08-12T18:46:16.965Z"
   },
   {
    "duration": 16,
    "start_time": "2022-08-12T18:49:24.704Z"
   },
   {
    "duration": 225,
    "start_time": "2022-08-12T19:17:03.258Z"
   },
   {
    "duration": 6,
    "start_time": "2022-08-12T19:17:15.879Z"
   },
   {
    "duration": 7,
    "start_time": "2022-08-12T19:17:23.360Z"
   },
   {
    "duration": 6,
    "start_time": "2022-08-12T19:17:31.492Z"
   },
   {
    "duration": 5,
    "start_time": "2022-08-12T19:17:53.374Z"
   },
   {
    "duration": 93,
    "start_time": "2022-08-12T19:19:10.419Z"
   },
   {
    "duration": 99,
    "start_time": "2022-08-12T19:19:47.183Z"
   },
   {
    "duration": 269,
    "start_time": "2022-08-12T19:48:13.993Z"
   },
   {
    "duration": 175,
    "start_time": "2022-08-12T19:48:42.433Z"
   },
   {
    "duration": 5,
    "start_time": "2022-08-12T19:49:19.036Z"
   },
   {
    "duration": 5,
    "start_time": "2022-08-12T19:49:29.032Z"
   },
   {
    "duration": 107,
    "start_time": "2022-08-12T19:49:54.834Z"
   },
   {
    "duration": 134,
    "start_time": "2022-08-12T19:50:22.071Z"
   },
   {
    "duration": 121,
    "start_time": "2022-08-12T19:50:32.266Z"
   },
   {
    "duration": 18,
    "start_time": "2022-08-12T19:51:43.443Z"
   },
   {
    "duration": 18,
    "start_time": "2022-08-12T19:51:48.744Z"
   },
   {
    "duration": 240,
    "start_time": "2022-08-12T19:55:06.537Z"
   },
   {
    "duration": 202,
    "start_time": "2022-08-12T19:55:45.436Z"
   },
   {
    "duration": 6,
    "start_time": "2022-08-12T19:56:01.980Z"
   },
   {
    "duration": 6,
    "start_time": "2022-08-12T19:56:13.368Z"
   },
   {
    "duration": 107,
    "start_time": "2022-08-12T19:57:13.746Z"
   },
   {
    "duration": 110,
    "start_time": "2022-08-12T19:57:38.989Z"
   },
   {
    "duration": 126,
    "start_time": "2022-08-12T19:57:50.385Z"
   },
   {
    "duration": 117,
    "start_time": "2022-08-12T19:58:10.524Z"
   },
   {
    "duration": 45,
    "start_time": "2022-08-12T19:59:44.121Z"
   },
   {
    "duration": 8,
    "start_time": "2022-08-12T20:02:33.363Z"
   },
   {
    "duration": 11,
    "start_time": "2022-08-12T21:13:02.558Z"
   },
   {
    "duration": 10,
    "start_time": "2022-08-12T21:13:13.263Z"
   },
   {
    "duration": 3,
    "start_time": "2022-08-12T21:13:31.867Z"
   },
   {
    "duration": 319,
    "start_time": "2022-08-12T21:13:31.872Z"
   },
   {
    "duration": 10,
    "start_time": "2022-08-12T21:13:32.192Z"
   },
   {
    "duration": 11,
    "start_time": "2022-08-12T21:13:32.204Z"
   },
   {
    "duration": 4,
    "start_time": "2022-08-12T21:13:32.217Z"
   },
   {
    "duration": 10,
    "start_time": "2022-08-12T21:13:32.222Z"
   },
   {
    "duration": 14,
    "start_time": "2022-08-12T21:13:32.233Z"
   },
   {
    "duration": 10,
    "start_time": "2022-08-12T21:13:32.248Z"
   },
   {
    "duration": 10,
    "start_time": "2022-08-12T21:13:32.259Z"
   },
   {
    "duration": 5,
    "start_time": "2022-08-12T21:13:32.271Z"
   },
   {
    "duration": 30,
    "start_time": "2022-08-12T21:13:32.278Z"
   },
   {
    "duration": 20,
    "start_time": "2022-08-12T21:13:32.309Z"
   },
   {
    "duration": 10,
    "start_time": "2022-08-12T21:13:32.330Z"
   },
   {
    "duration": 37,
    "start_time": "2022-08-12T21:13:32.341Z"
   },
   {
    "duration": 4,
    "start_time": "2022-08-12T21:13:32.379Z"
   },
   {
    "duration": 49,
    "start_time": "2022-08-12T21:13:32.385Z"
   },
   {
    "duration": 14,
    "start_time": "2022-08-12T21:13:32.435Z"
   },
   {
    "duration": 7,
    "start_time": "2022-08-12T21:13:32.450Z"
   },
   {
    "duration": 14,
    "start_time": "2022-08-12T21:13:32.458Z"
   },
   {
    "duration": 43,
    "start_time": "2022-08-12T21:13:32.474Z"
   },
   {
    "duration": 15,
    "start_time": "2022-08-12T21:13:32.519Z"
   },
   {
    "duration": 7,
    "start_time": "2022-08-12T21:13:32.536Z"
   },
   {
    "duration": 17,
    "start_time": "2022-08-12T21:13:32.545Z"
   },
   {
    "duration": 44,
    "start_time": "2022-08-12T21:13:32.563Z"
   },
   {
    "duration": 9,
    "start_time": "2022-08-12T21:13:32.609Z"
   },
   {
    "duration": 31,
    "start_time": "2022-08-12T21:13:32.620Z"
   },
   {
    "duration": 57,
    "start_time": "2022-08-12T21:13:32.653Z"
   },
   {
    "duration": 16,
    "start_time": "2022-08-12T21:13:32.712Z"
   },
   {
    "duration": 26,
    "start_time": "2022-08-12T21:13:32.732Z"
   },
   {
    "duration": 5,
    "start_time": "2022-08-12T21:13:32.759Z"
   },
   {
    "duration": 5,
    "start_time": "2022-08-12T21:13:32.766Z"
   },
   {
    "duration": 37,
    "start_time": "2022-08-12T21:13:32.773Z"
   },
   {
    "duration": 4,
    "start_time": "2022-08-12T21:13:32.812Z"
   },
   {
    "duration": 6,
    "start_time": "2022-08-12T21:13:32.817Z"
   },
   {
    "duration": 8,
    "start_time": "2022-08-12T21:13:32.825Z"
   },
   {
    "duration": 30,
    "start_time": "2022-08-12T21:13:32.834Z"
   },
   {
    "duration": 11,
    "start_time": "2022-08-12T21:13:32.865Z"
   },
   {
    "duration": 29,
    "start_time": "2022-08-12T21:13:32.877Z"
   },
   {
    "duration": 26,
    "start_time": "2022-08-12T21:13:32.907Z"
   },
   {
    "duration": 4,
    "start_time": "2022-08-12T21:13:32.935Z"
   },
   {
    "duration": 233,
    "start_time": "2022-08-12T21:13:32.941Z"
   },
   {
    "duration": 212,
    "start_time": "2022-08-12T21:13:33.176Z"
   },
   {
    "duration": 28,
    "start_time": "2022-08-12T21:13:33.389Z"
   },
   {
    "duration": 6,
    "start_time": "2022-08-12T21:13:33.418Z"
   },
   {
    "duration": 8,
    "start_time": "2022-08-12T21:13:33.426Z"
   },
   {
    "duration": 111,
    "start_time": "2022-08-12T21:13:33.435Z"
   },
   {
    "duration": 298,
    "start_time": "2022-08-12T21:13:33.547Z"
   },
   {
    "duration": 6,
    "start_time": "2022-08-12T21:13:33.847Z"
   },
   {
    "duration": 10,
    "start_time": "2022-08-12T21:13:33.855Z"
   },
   {
    "duration": 116,
    "start_time": "2022-08-12T21:13:33.867Z"
   },
   {
    "duration": 2,
    "start_time": "2022-08-12T21:13:33.984Z"
   },
   {
    "duration": 220,
    "start_time": "2022-08-12T21:13:33.988Z"
   },
   {
    "duration": 6,
    "start_time": "2022-08-12T21:13:34.210Z"
   },
   {
    "duration": 8,
    "start_time": "2022-08-12T21:13:34.217Z"
   },
   {
    "duration": 126,
    "start_time": "2022-08-12T21:13:34.226Z"
   },
   {
    "duration": 212,
    "start_time": "2022-08-12T21:13:44.719Z"
   },
   {
    "duration": 5,
    "start_time": "2022-08-12T21:14:09.217Z"
   },
   {
    "duration": 6,
    "start_time": "2022-08-12T21:14:41.289Z"
   },
   {
    "duration": 95,
    "start_time": "2022-08-12T21:18:48.480Z"
   },
   {
    "duration": 9,
    "start_time": "2022-08-12T21:19:05.958Z"
   },
   {
    "duration": 11,
    "start_time": "2022-08-12T21:22:05.423Z"
   },
   {
    "duration": 16,
    "start_time": "2022-08-12T21:22:11.734Z"
   },
   {
    "duration": 198,
    "start_time": "2022-08-12T21:22:40.659Z"
   },
   {
    "duration": 17,
    "start_time": "2022-08-12T21:22:41.026Z"
   },
   {
    "duration": 5,
    "start_time": "2022-08-12T21:22:41.483Z"
   },
   {
    "duration": 6,
    "start_time": "2022-08-12T21:22:41.626Z"
   },
   {
    "duration": 96,
    "start_time": "2022-08-12T21:22:41.898Z"
   },
   {
    "duration": 69,
    "start_time": "2022-08-12T21:32:28.979Z"
   },
   {
    "duration": 73,
    "start_time": "2022-08-12T21:32:46.113Z"
   },
   {
    "duration": 14,
    "start_time": "2022-08-12T21:32:58.020Z"
   },
   {
    "duration": 10,
    "start_time": "2022-08-12T21:33:05.857Z"
   },
   {
    "duration": 10,
    "start_time": "2022-08-12T21:33:16.059Z"
   },
   {
    "duration": 7,
    "start_time": "2022-08-12T21:33:21.766Z"
   },
   {
    "duration": 4,
    "start_time": "2022-08-12T21:33:32.588Z"
   },
   {
    "duration": 18,
    "start_time": "2022-08-12T21:34:02.514Z"
   },
   {
    "duration": 16,
    "start_time": "2022-08-12T21:34:11.392Z"
   },
   {
    "duration": 3,
    "start_time": "2022-08-12T21:34:25.196Z"
   },
   {
    "duration": 296,
    "start_time": "2022-08-12T21:34:25.201Z"
   },
   {
    "duration": 10,
    "start_time": "2022-08-12T21:34:25.499Z"
   },
   {
    "duration": 11,
    "start_time": "2022-08-12T21:34:25.510Z"
   },
   {
    "duration": 4,
    "start_time": "2022-08-12T21:34:25.522Z"
   },
   {
    "duration": 9,
    "start_time": "2022-08-12T21:34:25.527Z"
   },
   {
    "duration": 14,
    "start_time": "2022-08-12T21:34:25.538Z"
   },
   {
    "duration": 9,
    "start_time": "2022-08-12T21:34:25.553Z"
   },
   {
    "duration": 11,
    "start_time": "2022-08-12T21:34:25.563Z"
   },
   {
    "duration": 31,
    "start_time": "2022-08-12T21:34:25.575Z"
   },
   {
    "duration": 5,
    "start_time": "2022-08-12T21:34:25.609Z"
   },
   {
    "duration": 18,
    "start_time": "2022-08-12T21:34:25.616Z"
   },
   {
    "duration": 9,
    "start_time": "2022-08-12T21:34:25.636Z"
   },
   {
    "duration": 25,
    "start_time": "2022-08-12T21:34:25.647Z"
   },
   {
    "duration": 5,
    "start_time": "2022-08-12T21:34:25.673Z"
   },
   {
    "duration": 65,
    "start_time": "2022-08-12T21:34:25.679Z"
   },
   {
    "duration": 14,
    "start_time": "2022-08-12T21:34:25.745Z"
   },
   {
    "duration": 7,
    "start_time": "2022-08-12T21:34:25.760Z"
   },
   {
    "duration": 13,
    "start_time": "2022-08-12T21:34:25.768Z"
   },
   {
    "duration": 40,
    "start_time": "2022-08-12T21:34:25.782Z"
   },
   {
    "duration": 14,
    "start_time": "2022-08-12T21:34:25.824Z"
   },
   {
    "duration": 8,
    "start_time": "2022-08-12T21:34:25.839Z"
   },
   {
    "duration": 18,
    "start_time": "2022-08-12T21:34:25.848Z"
   },
   {
    "duration": 41,
    "start_time": "2022-08-12T21:34:25.867Z"
   },
   {
    "duration": 7,
    "start_time": "2022-08-12T21:34:25.910Z"
   },
   {
    "duration": 29,
    "start_time": "2022-08-12T21:34:25.918Z"
   },
   {
    "duration": 32,
    "start_time": "2022-08-12T21:34:25.949Z"
   },
   {
    "duration": 37,
    "start_time": "2022-08-12T21:34:25.983Z"
   },
   {
    "duration": 30,
    "start_time": "2022-08-12T21:34:26.024Z"
   },
   {
    "duration": 5,
    "start_time": "2022-08-12T21:34:26.058Z"
   },
   {
    "duration": 11,
    "start_time": "2022-08-12T21:34:26.065Z"
   },
   {
    "duration": 32,
    "start_time": "2022-08-12T21:34:26.078Z"
   },
   {
    "duration": 4,
    "start_time": "2022-08-12T21:34:26.112Z"
   },
   {
    "duration": 14,
    "start_time": "2022-08-12T21:34:26.118Z"
   },
   {
    "duration": 15,
    "start_time": "2022-08-12T21:34:26.133Z"
   },
   {
    "duration": 34,
    "start_time": "2022-08-12T21:34:26.150Z"
   },
   {
    "duration": 11,
    "start_time": "2022-08-12T21:34:26.185Z"
   },
   {
    "duration": 3,
    "start_time": "2022-08-12T21:34:26.206Z"
   },
   {
    "duration": 29,
    "start_time": "2022-08-12T21:34:26.211Z"
   },
   {
    "duration": 5,
    "start_time": "2022-08-12T21:34:26.241Z"
   },
   {
    "duration": 209,
    "start_time": "2022-08-12T21:34:26.247Z"
   },
   {
    "duration": 222,
    "start_time": "2022-08-12T21:34:26.458Z"
   },
   {
    "duration": 17,
    "start_time": "2022-08-12T21:34:26.681Z"
   },
   {
    "duration": 5,
    "start_time": "2022-08-12T21:34:26.706Z"
   },
   {
    "duration": 11,
    "start_time": "2022-08-12T21:34:26.712Z"
   },
   {
    "duration": 103,
    "start_time": "2022-08-12T21:34:26.725Z"
   },
   {
    "duration": 179,
    "start_time": "2022-08-12T21:34:26.830Z"
   },
   {
    "duration": 5,
    "start_time": "2022-08-12T21:34:27.011Z"
   },
   {
    "duration": 7,
    "start_time": "2022-08-12T21:34:27.017Z"
   },
   {
    "duration": 114,
    "start_time": "2022-08-12T21:34:27.026Z"
   },
   {
    "duration": 2,
    "start_time": "2022-08-12T21:34:27.142Z"
   },
   {
    "duration": 194,
    "start_time": "2022-08-12T21:34:27.146Z"
   },
   {
    "duration": 5,
    "start_time": "2022-08-12T21:34:27.342Z"
   },
   {
    "duration": 8,
    "start_time": "2022-08-12T21:34:27.349Z"
   },
   {
    "duration": 119,
    "start_time": "2022-08-12T21:34:27.358Z"
   },
   {
    "duration": 327,
    "start_time": "2022-08-12T21:34:27.479Z"
   },
   {
    "duration": 18,
    "start_time": "2022-08-12T21:34:27.807Z"
   },
   {
    "duration": 5,
    "start_time": "2022-08-12T21:34:27.826Z"
   },
   {
    "duration": 7,
    "start_time": "2022-08-12T21:34:27.833Z"
   },
   {
    "duration": 118,
    "start_time": "2022-08-12T21:34:27.841Z"
   },
   {
    "duration": 16,
    "start_time": "2022-08-12T21:34:37.661Z"
   },
   {
    "duration": 10,
    "start_time": "2022-08-12T21:35:20.883Z"
   },
   {
    "duration": 5,
    "start_time": "2022-08-12T21:35:28.881Z"
   },
   {
    "duration": 4,
    "start_time": "2022-08-12T21:35:40.659Z"
   },
   {
    "duration": 3,
    "start_time": "2022-08-12T21:35:46.734Z"
   },
   {
    "duration": 30,
    "start_time": "2022-08-12T21:37:00.935Z"
   },
   {
    "duration": 31,
    "start_time": "2022-08-12T21:37:18.812Z"
   },
   {
    "duration": 5,
    "start_time": "2022-08-12T21:45:08.366Z"
   },
   {
    "duration": 5,
    "start_time": "2022-08-12T21:45:26.319Z"
   },
   {
    "duration": 5,
    "start_time": "2022-08-12T21:45:29.947Z"
   },
   {
    "duration": 5,
    "start_time": "2022-08-12T21:50:15.237Z"
   },
   {
    "duration": 42,
    "start_time": "2022-08-12T21:50:50.794Z"
   },
   {
    "duration": 40,
    "start_time": "2022-08-12T21:50:56.341Z"
   },
   {
    "duration": 43,
    "start_time": "2022-08-12T21:51:02.036Z"
   },
   {
    "duration": 40,
    "start_time": "2022-08-12T21:52:04.349Z"
   },
   {
    "duration": 6,
    "start_time": "2022-08-12T21:52:11.166Z"
   },
   {
    "duration": 12,
    "start_time": "2022-08-12T21:54:09.764Z"
   },
   {
    "duration": 14,
    "start_time": "2022-08-12T21:54:14.898Z"
   },
   {
    "duration": 17,
    "start_time": "2022-08-12T21:54:49.884Z"
   },
   {
    "duration": 15,
    "start_time": "2022-08-12T21:55:07.137Z"
   },
   {
    "duration": 14,
    "start_time": "2022-08-12T21:55:10.417Z"
   },
   {
    "duration": 16,
    "start_time": "2022-08-12T21:55:18.421Z"
   },
   {
    "duration": 10,
    "start_time": "2022-08-12T21:55:50.266Z"
   },
   {
    "duration": 10,
    "start_time": "2022-08-12T21:55:53.558Z"
   },
   {
    "duration": 5,
    "start_time": "2022-08-12T21:57:05.917Z"
   },
   {
    "duration": 4,
    "start_time": "2022-08-12T21:57:09.381Z"
   },
   {
    "duration": 4,
    "start_time": "2022-08-12T21:57:54.505Z"
   },
   {
    "duration": 8,
    "start_time": "2022-08-12T21:58:14.372Z"
   },
   {
    "duration": 5,
    "start_time": "2022-08-12T21:58:35.963Z"
   },
   {
    "duration": 4,
    "start_time": "2022-08-12T21:58:46.447Z"
   },
   {
    "duration": 4,
    "start_time": "2022-08-12T21:58:55.744Z"
   },
   {
    "duration": 4,
    "start_time": "2022-08-12T21:59:23.298Z"
   },
   {
    "duration": 46,
    "start_time": "2022-08-13T01:40:57.825Z"
   },
   {
    "duration": 1122,
    "start_time": "2022-08-13T01:45:37.925Z"
   },
   {
    "duration": 933,
    "start_time": "2022-08-13T01:45:39.049Z"
   },
   {
    "duration": 12,
    "start_time": "2022-08-13T01:45:39.984Z"
   },
   {
    "duration": 37,
    "start_time": "2022-08-13T01:45:39.997Z"
   },
   {
    "duration": 30,
    "start_time": "2022-08-13T01:45:40.035Z"
   },
   {
    "duration": 52,
    "start_time": "2022-08-13T01:45:40.067Z"
   },
   {
    "duration": 28,
    "start_time": "2022-08-13T01:45:40.121Z"
   },
   {
    "duration": 28,
    "start_time": "2022-08-13T01:45:40.151Z"
   },
   {
    "duration": 24,
    "start_time": "2022-08-13T01:45:40.181Z"
   },
   {
    "duration": 21,
    "start_time": "2022-08-13T01:45:40.208Z"
   },
   {
    "duration": 41,
    "start_time": "2022-08-13T01:45:40.231Z"
   },
   {
    "duration": 10,
    "start_time": "2022-08-13T01:45:40.274Z"
   },
   {
    "duration": 28,
    "start_time": "2022-08-13T01:45:40.286Z"
   },
   {
    "duration": 9,
    "start_time": "2022-08-13T01:45:40.316Z"
   },
   {
    "duration": 48,
    "start_time": "2022-08-13T01:45:40.327Z"
   },
   {
    "duration": 14,
    "start_time": "2022-08-13T01:45:40.377Z"
   },
   {
    "duration": 14,
    "start_time": "2022-08-13T01:45:40.392Z"
   },
   {
    "duration": 35,
    "start_time": "2022-08-13T01:45:40.408Z"
   },
   {
    "duration": 30,
    "start_time": "2022-08-13T01:45:40.445Z"
   },
   {
    "duration": 16,
    "start_time": "2022-08-13T01:45:40.477Z"
   },
   {
    "duration": 12,
    "start_time": "2022-08-13T01:45:40.495Z"
   },
   {
    "duration": 28,
    "start_time": "2022-08-13T01:45:40.509Z"
   },
   {
    "duration": 26,
    "start_time": "2022-08-13T01:45:40.539Z"
   },
   {
    "duration": 9,
    "start_time": "2022-08-13T01:45:40.566Z"
   },
   {
    "duration": 41,
    "start_time": "2022-08-13T01:45:40.577Z"
   },
   {
    "duration": 37,
    "start_time": "2022-08-13T01:45:40.620Z"
   },
   {
    "duration": 18,
    "start_time": "2022-08-13T01:45:40.658Z"
   },
   {
    "duration": 43,
    "start_time": "2022-08-13T01:45:40.680Z"
   },
   {
    "duration": 5,
    "start_time": "2022-08-13T01:45:40.725Z"
   },
   {
    "duration": 9,
    "start_time": "2022-08-13T01:45:40.732Z"
   },
   {
    "duration": 19,
    "start_time": "2022-08-13T01:45:40.742Z"
   },
   {
    "duration": 4,
    "start_time": "2022-08-13T01:45:40.762Z"
   },
   {
    "duration": 4,
    "start_time": "2022-08-13T01:45:40.768Z"
   },
   {
    "duration": 31,
    "start_time": "2022-08-13T01:45:40.773Z"
   },
   {
    "duration": 30,
    "start_time": "2022-08-13T01:45:40.805Z"
   },
   {
    "duration": 4,
    "start_time": "2022-08-13T01:45:40.837Z"
   },
   {
    "duration": 11,
    "start_time": "2022-08-13T01:45:40.843Z"
   },
   {
    "duration": 222,
    "start_time": "2022-08-13T01:45:40.855Z"
   },
   {
    "duration": 201,
    "start_time": "2022-08-13T01:45:41.078Z"
   },
   {
    "duration": 24,
    "start_time": "2022-08-13T01:45:41.281Z"
   },
   {
    "duration": 6,
    "start_time": "2022-08-13T01:45:41.306Z"
   },
   {
    "duration": 7,
    "start_time": "2022-08-13T01:45:41.313Z"
   },
   {
    "duration": 122,
    "start_time": "2022-08-13T01:45:41.321Z"
   },
   {
    "duration": 222,
    "start_time": "2022-08-13T01:45:41.445Z"
   },
   {
    "duration": 5,
    "start_time": "2022-08-13T01:45:41.669Z"
   },
   {
    "duration": 9,
    "start_time": "2022-08-13T01:45:41.676Z"
   },
   {
    "duration": 130,
    "start_time": "2022-08-13T01:45:41.687Z"
   },
   {
    "duration": 2,
    "start_time": "2022-08-13T01:45:41.819Z"
   },
   {
    "duration": 199,
    "start_time": "2022-08-13T01:45:41.822Z"
   },
   {
    "duration": 5,
    "start_time": "2022-08-13T01:45:42.023Z"
   },
   {
    "duration": 9,
    "start_time": "2022-08-13T01:45:42.030Z"
   },
   {
    "duration": 111,
    "start_time": "2022-08-13T01:45:42.041Z"
   },
   {
    "duration": 196,
    "start_time": "2022-08-13T01:45:42.153Z"
   },
   {
    "duration": 16,
    "start_time": "2022-08-13T01:45:42.351Z"
   },
   {
    "duration": 5,
    "start_time": "2022-08-13T01:45:42.369Z"
   },
   {
    "duration": 10,
    "start_time": "2022-08-13T01:45:42.375Z"
   },
   {
    "duration": 101,
    "start_time": "2022-08-13T01:45:42.400Z"
   },
   {
    "duration": 5,
    "start_time": "2022-08-13T01:45:42.502Z"
   },
   {
    "duration": 16,
    "start_time": "2022-08-13T01:45:42.508Z"
   },
   {
    "duration": 17,
    "start_time": "2022-08-13T01:45:42.526Z"
   },
   {
    "duration": 10,
    "start_time": "2022-08-13T01:45:42.544Z"
   },
   {
    "duration": 51,
    "start_time": "2022-08-13T15:57:57.941Z"
   },
   {
    "duration": 1249,
    "start_time": "2022-08-13T15:58:04.318Z"
   },
   {
    "duration": 907,
    "start_time": "2022-08-13T15:58:05.569Z"
   },
   {
    "duration": 13,
    "start_time": "2022-08-13T15:58:06.478Z"
   },
   {
    "duration": 24,
    "start_time": "2022-08-13T15:58:06.493Z"
   },
   {
    "duration": 11,
    "start_time": "2022-08-13T15:58:06.519Z"
   },
   {
    "duration": 19,
    "start_time": "2022-08-13T15:58:06.532Z"
   },
   {
    "duration": 12,
    "start_time": "2022-08-13T15:58:06.553Z"
   },
   {
    "duration": 19,
    "start_time": "2022-08-13T15:58:06.566Z"
   },
   {
    "duration": 7,
    "start_time": "2022-08-13T15:58:06.587Z"
   },
   {
    "duration": 6,
    "start_time": "2022-08-13T15:58:06.597Z"
   },
   {
    "duration": 26,
    "start_time": "2022-08-13T15:58:06.605Z"
   },
   {
    "duration": 10,
    "start_time": "2022-08-13T15:58:06.633Z"
   },
   {
    "duration": 26,
    "start_time": "2022-08-13T15:58:06.644Z"
   },
   {
    "duration": 4,
    "start_time": "2022-08-13T15:58:06.692Z"
   },
   {
    "duration": 45,
    "start_time": "2022-08-13T15:58:06.698Z"
   },
   {
    "duration": 16,
    "start_time": "2022-08-13T15:58:06.744Z"
   },
   {
    "duration": 31,
    "start_time": "2022-08-13T15:58:06.761Z"
   },
   {
    "duration": 18,
    "start_time": "2022-08-13T15:58:06.793Z"
   },
   {
    "duration": 43,
    "start_time": "2022-08-13T15:58:06.813Z"
   },
   {
    "duration": 20,
    "start_time": "2022-08-13T15:58:06.858Z"
   },
   {
    "duration": 13,
    "start_time": "2022-08-13T15:58:06.892Z"
   },
   {
    "duration": 39,
    "start_time": "2022-08-13T15:58:06.907Z"
   },
   {
    "duration": 40,
    "start_time": "2022-08-13T15:58:06.948Z"
   },
   {
    "duration": 13,
    "start_time": "2022-08-13T15:58:06.990Z"
   },
   {
    "duration": 62,
    "start_time": "2022-08-13T15:58:07.004Z"
   },
   {
    "duration": 40,
    "start_time": "2022-08-13T15:58:07.068Z"
   },
   {
    "duration": 18,
    "start_time": "2022-08-13T15:58:07.110Z"
   },
   {
    "duration": 33,
    "start_time": "2022-08-13T15:58:07.132Z"
   },
   {
    "duration": 6,
    "start_time": "2022-08-13T15:58:07.166Z"
   },
   {
    "duration": 21,
    "start_time": "2022-08-13T15:58:07.174Z"
   },
   {
    "duration": 24,
    "start_time": "2022-08-13T15:58:07.197Z"
   },
   {
    "duration": 8,
    "start_time": "2022-08-13T15:58:07.222Z"
   },
   {
    "duration": 12,
    "start_time": "2022-08-13T15:58:07.232Z"
   },
   {
    "duration": 14,
    "start_time": "2022-08-13T15:58:07.246Z"
   },
   {
    "duration": 33,
    "start_time": "2022-08-13T15:58:07.262Z"
   },
   {
    "duration": 5,
    "start_time": "2022-08-13T15:58:07.296Z"
   },
   {
    "duration": 17,
    "start_time": "2022-08-13T15:58:07.303Z"
   },
   {
    "duration": 225,
    "start_time": "2022-08-13T15:58:07.321Z"
   },
   {
    "duration": 225,
    "start_time": "2022-08-13T15:58:07.548Z"
   },
   {
    "duration": 77,
    "start_time": "2022-08-13T15:58:07.774Z"
   },
   {
    "duration": 0,
    "start_time": "2022-08-13T15:58:07.853Z"
   },
   {
    "duration": 0,
    "start_time": "2022-08-13T15:58:07.855Z"
   },
   {
    "duration": 0,
    "start_time": "2022-08-13T15:58:07.856Z"
   },
   {
    "duration": 0,
    "start_time": "2022-08-13T15:58:07.857Z"
   },
   {
    "duration": 0,
    "start_time": "2022-08-13T15:58:07.858Z"
   },
   {
    "duration": 0,
    "start_time": "2022-08-13T15:58:07.859Z"
   },
   {
    "duration": 0,
    "start_time": "2022-08-13T15:58:07.860Z"
   },
   {
    "duration": 0,
    "start_time": "2022-08-13T15:58:07.861Z"
   },
   {
    "duration": 0,
    "start_time": "2022-08-13T15:58:07.862Z"
   },
   {
    "duration": 0,
    "start_time": "2022-08-13T15:58:07.863Z"
   },
   {
    "duration": 0,
    "start_time": "2022-08-13T15:58:07.864Z"
   },
   {
    "duration": 1,
    "start_time": "2022-08-13T15:58:07.865Z"
   },
   {
    "duration": 0,
    "start_time": "2022-08-13T15:58:07.892Z"
   },
   {
    "duration": 0,
    "start_time": "2022-08-13T15:58:07.893Z"
   },
   {
    "duration": 0,
    "start_time": "2022-08-13T15:58:07.894Z"
   },
   {
    "duration": 0,
    "start_time": "2022-08-13T15:58:07.895Z"
   },
   {
    "duration": 0,
    "start_time": "2022-08-13T15:58:07.896Z"
   },
   {
    "duration": 0,
    "start_time": "2022-08-13T15:58:07.898Z"
   },
   {
    "duration": 0,
    "start_time": "2022-08-13T15:58:07.898Z"
   },
   {
    "duration": 0,
    "start_time": "2022-08-13T15:58:07.900Z"
   },
   {
    "duration": 1,
    "start_time": "2022-08-13T15:58:07.900Z"
   },
   {
    "duration": 36,
    "start_time": "2022-08-13T16:00:07.339Z"
   },
   {
    "duration": 3,
    "start_time": "2022-08-13T16:03:53.427Z"
   },
   {
    "duration": 149,
    "start_time": "2022-08-13T16:04:28.478Z"
   },
   {
    "duration": 156,
    "start_time": "2022-08-13T16:04:37.653Z"
   },
   {
    "duration": 168,
    "start_time": "2022-08-13T16:04:43.595Z"
   },
   {
    "duration": 153,
    "start_time": "2022-08-13T16:04:50.147Z"
   },
   {
    "duration": 147,
    "start_time": "2022-08-13T16:05:57.719Z"
   },
   {
    "duration": 175,
    "start_time": "2022-08-13T16:06:01.572Z"
   },
   {
    "duration": 5,
    "start_time": "2022-08-13T16:09:51.555Z"
   },
   {
    "duration": 44,
    "start_time": "2022-08-13T16:09:55.431Z"
   },
   {
    "duration": 3,
    "start_time": "2022-08-13T16:10:14.979Z"
   },
   {
    "duration": 37,
    "start_time": "2022-08-13T16:10:19.385Z"
   },
   {
    "duration": 4,
    "start_time": "2022-08-13T16:11:08.521Z"
   },
   {
    "duration": 5,
    "start_time": "2022-08-13T16:11:36.325Z"
   },
   {
    "duration": 31,
    "start_time": "2022-08-13T16:11:38.466Z"
   },
   {
    "duration": 4,
    "start_time": "2022-08-13T16:12:35.477Z"
   },
   {
    "duration": 28,
    "start_time": "2022-08-13T16:12:36.273Z"
   },
   {
    "duration": 3,
    "start_time": "2022-08-13T16:13:11.592Z"
   },
   {
    "duration": 371,
    "start_time": "2022-08-13T16:13:11.598Z"
   },
   {
    "duration": 14,
    "start_time": "2022-08-13T16:13:11.971Z"
   },
   {
    "duration": 18,
    "start_time": "2022-08-13T16:13:11.987Z"
   },
   {
    "duration": 22,
    "start_time": "2022-08-13T16:13:12.008Z"
   },
   {
    "duration": 25,
    "start_time": "2022-08-13T16:13:12.032Z"
   },
   {
    "duration": 27,
    "start_time": "2022-08-13T16:13:12.059Z"
   },
   {
    "duration": 15,
    "start_time": "2022-08-13T16:13:12.088Z"
   },
   {
    "duration": 9,
    "start_time": "2022-08-13T16:13:12.105Z"
   },
   {
    "duration": 9,
    "start_time": "2022-08-13T16:13:12.116Z"
   },
   {
    "duration": 27,
    "start_time": "2022-08-13T16:13:12.128Z"
   },
   {
    "duration": 9,
    "start_time": "2022-08-13T16:13:12.157Z"
   },
   {
    "duration": 35,
    "start_time": "2022-08-13T16:13:12.167Z"
   },
   {
    "duration": 4,
    "start_time": "2022-08-13T16:13:12.203Z"
   },
   {
    "duration": 45,
    "start_time": "2022-08-13T16:13:12.209Z"
   },
   {
    "duration": 15,
    "start_time": "2022-08-13T16:13:12.256Z"
   },
   {
    "duration": 25,
    "start_time": "2022-08-13T16:13:12.272Z"
   },
   {
    "duration": 19,
    "start_time": "2022-08-13T16:13:12.299Z"
   },
   {
    "duration": 25,
    "start_time": "2022-08-13T16:13:12.320Z"
   },
   {
    "duration": 17,
    "start_time": "2022-08-13T16:13:12.347Z"
   },
   {
    "duration": 30,
    "start_time": "2022-08-13T16:13:12.366Z"
   },
   {
    "duration": 29,
    "start_time": "2022-08-13T16:13:12.398Z"
   },
   {
    "duration": 24,
    "start_time": "2022-08-13T16:13:12.429Z"
   },
   {
    "duration": 9,
    "start_time": "2022-08-13T16:13:12.454Z"
   },
   {
    "duration": 43,
    "start_time": "2022-08-13T16:13:12.464Z"
   },
   {
    "duration": 39,
    "start_time": "2022-08-13T16:13:12.508Z"
   },
   {
    "duration": 19,
    "start_time": "2022-08-13T16:13:12.550Z"
   },
   {
    "duration": 45,
    "start_time": "2022-08-13T16:13:12.571Z"
   },
   {
    "duration": 5,
    "start_time": "2022-08-13T16:13:12.620Z"
   },
   {
    "duration": 15,
    "start_time": "2022-08-13T16:13:12.627Z"
   },
   {
    "duration": 30,
    "start_time": "2022-08-13T16:13:12.644Z"
   },
   {
    "duration": 4,
    "start_time": "2022-08-13T16:13:12.676Z"
   },
   {
    "duration": 10,
    "start_time": "2022-08-13T16:13:12.682Z"
   },
   {
    "duration": 11,
    "start_time": "2022-08-13T16:13:12.694Z"
   },
   {
    "duration": 33,
    "start_time": "2022-08-13T16:13:12.707Z"
   },
   {
    "duration": 4,
    "start_time": "2022-08-13T16:13:12.741Z"
   },
   {
    "duration": 7,
    "start_time": "2022-08-13T16:13:12.747Z"
   },
   {
    "duration": 240,
    "start_time": "2022-08-13T16:13:12.756Z"
   },
   {
    "duration": 223,
    "start_time": "2022-08-13T16:13:12.998Z"
   },
   {
    "duration": 5,
    "start_time": "2022-08-13T16:13:21.667Z"
   },
   {
    "duration": 34,
    "start_time": "2022-08-13T16:13:22.426Z"
   },
   {
    "duration": 4,
    "start_time": "2022-08-13T16:13:51.210Z"
   },
   {
    "duration": 27,
    "start_time": "2022-08-13T16:15:36.802Z"
   },
   {
    "duration": 19,
    "start_time": "2022-08-13T16:15:46.164Z"
   },
   {
    "duration": 14,
    "start_time": "2022-08-13T16:15:59.480Z"
   },
   {
    "duration": 17,
    "start_time": "2022-08-13T16:16:49.576Z"
   },
   {
    "duration": 30,
    "start_time": "2022-08-13T16:17:03.669Z"
   },
   {
    "duration": 19,
    "start_time": "2022-08-13T16:17:12.488Z"
   },
   {
    "duration": 19,
    "start_time": "2022-08-13T16:18:22.348Z"
   },
   {
    "duration": 5,
    "start_time": "2022-08-13T16:23:05.025Z"
   },
   {
    "duration": 8,
    "start_time": "2022-08-13T16:24:34.675Z"
   },
   {
    "duration": 6,
    "start_time": "2022-08-13T16:25:29.354Z"
   },
   {
    "duration": 4,
    "start_time": "2022-08-13T16:25:38.723Z"
   },
   {
    "duration": 50,
    "start_time": "2022-08-13T16:30:24.017Z"
   },
   {
    "duration": 1120,
    "start_time": "2022-08-13T16:30:29.363Z"
   },
   {
    "duration": 868,
    "start_time": "2022-08-13T16:30:30.485Z"
   },
   {
    "duration": 11,
    "start_time": "2022-08-13T16:30:31.355Z"
   },
   {
    "duration": 20,
    "start_time": "2022-08-13T16:30:31.368Z"
   },
   {
    "duration": 16,
    "start_time": "2022-08-13T16:30:31.391Z"
   },
   {
    "duration": 24,
    "start_time": "2022-08-13T16:30:31.409Z"
   },
   {
    "duration": 11,
    "start_time": "2022-08-13T16:30:31.435Z"
   },
   {
    "duration": 11,
    "start_time": "2022-08-13T16:30:31.448Z"
   },
   {
    "duration": 22,
    "start_time": "2022-08-13T16:30:31.461Z"
   },
   {
    "duration": 23,
    "start_time": "2022-08-13T16:30:31.485Z"
   },
   {
    "duration": 33,
    "start_time": "2022-08-13T16:30:31.509Z"
   },
   {
    "duration": 10,
    "start_time": "2022-08-13T16:30:31.543Z"
   },
   {
    "duration": 30,
    "start_time": "2022-08-13T16:30:31.554Z"
   },
   {
    "duration": 11,
    "start_time": "2022-08-13T16:30:31.589Z"
   },
   {
    "duration": 48,
    "start_time": "2022-08-13T16:30:31.608Z"
   },
   {
    "duration": 15,
    "start_time": "2022-08-13T16:30:31.657Z"
   },
   {
    "duration": 9,
    "start_time": "2022-08-13T16:30:31.673Z"
   },
   {
    "duration": 23,
    "start_time": "2022-08-13T16:30:31.684Z"
   },
   {
    "duration": 35,
    "start_time": "2022-08-13T16:30:31.709Z"
   },
   {
    "duration": 18,
    "start_time": "2022-08-13T16:30:31.745Z"
   },
   {
    "duration": 32,
    "start_time": "2022-08-13T16:30:31.765Z"
   },
   {
    "duration": 29,
    "start_time": "2022-08-13T16:30:31.799Z"
   },
   {
    "duration": 28,
    "start_time": "2022-08-13T16:30:31.830Z"
   },
   {
    "duration": 10,
    "start_time": "2022-08-13T16:30:31.860Z"
   },
   {
    "duration": 48,
    "start_time": "2022-08-13T16:30:31.872Z"
   },
   {
    "duration": 44,
    "start_time": "2022-08-13T16:30:31.922Z"
   },
   {
    "duration": 42,
    "start_time": "2022-08-13T16:30:31.968Z"
   },
   {
    "duration": 44,
    "start_time": "2022-08-13T16:30:32.013Z"
   },
   {
    "duration": 6,
    "start_time": "2022-08-13T16:30:32.059Z"
   },
   {
    "duration": 15,
    "start_time": "2022-08-13T16:30:32.067Z"
   },
   {
    "duration": 52,
    "start_time": "2022-08-13T16:30:32.083Z"
   },
   {
    "duration": 6,
    "start_time": "2022-08-13T16:30:32.137Z"
   },
   {
    "duration": 13,
    "start_time": "2022-08-13T16:30:32.145Z"
   },
   {
    "duration": 18,
    "start_time": "2022-08-13T16:30:32.160Z"
   },
   {
    "duration": 34,
    "start_time": "2022-08-13T16:30:32.180Z"
   },
   {
    "duration": 5,
    "start_time": "2022-08-13T16:30:32.215Z"
   },
   {
    "duration": 20,
    "start_time": "2022-08-13T16:30:32.221Z"
   },
   {
    "duration": 305,
    "start_time": "2022-08-13T16:30:32.242Z"
   },
   {
    "duration": 1473,
    "start_time": "2022-08-13T16:30:32.549Z"
   },
   {
    "duration": 0,
    "start_time": "2022-08-13T16:30:34.024Z"
   },
   {
    "duration": 0,
    "start_time": "2022-08-13T16:30:34.025Z"
   },
   {
    "duration": 233,
    "start_time": "2022-08-13T16:30:42.991Z"
   },
   {
    "duration": 4,
    "start_time": "2022-08-13T16:30:43.486Z"
   },
   {
    "duration": 48,
    "start_time": "2022-08-13T16:40:41.535Z"
   },
   {
    "duration": 1122,
    "start_time": "2022-08-13T16:41:40.122Z"
   },
   {
    "duration": 888,
    "start_time": "2022-08-13T16:41:41.246Z"
   },
   {
    "duration": 13,
    "start_time": "2022-08-13T16:41:42.135Z"
   },
   {
    "duration": 17,
    "start_time": "2022-08-13T16:41:42.150Z"
   },
   {
    "duration": 9,
    "start_time": "2022-08-13T16:41:42.169Z"
   },
   {
    "duration": 19,
    "start_time": "2022-08-13T16:41:42.180Z"
   },
   {
    "duration": 16,
    "start_time": "2022-08-13T16:41:42.200Z"
   },
   {
    "duration": 26,
    "start_time": "2022-08-13T16:41:42.218Z"
   },
   {
    "duration": 6,
    "start_time": "2022-08-13T16:41:42.246Z"
   },
   {
    "duration": 5,
    "start_time": "2022-08-13T16:41:42.256Z"
   },
   {
    "duration": 40,
    "start_time": "2022-08-13T16:41:42.263Z"
   },
   {
    "duration": 11,
    "start_time": "2022-08-13T16:41:42.305Z"
   },
   {
    "duration": 45,
    "start_time": "2022-08-13T16:41:42.318Z"
   },
   {
    "duration": 5,
    "start_time": "2022-08-13T16:41:42.364Z"
   },
   {
    "duration": 47,
    "start_time": "2022-08-13T16:41:42.370Z"
   },
   {
    "duration": 21,
    "start_time": "2022-08-13T16:41:42.419Z"
   },
   {
    "duration": 10,
    "start_time": "2022-08-13T16:41:42.442Z"
   },
   {
    "duration": 38,
    "start_time": "2022-08-13T16:41:42.454Z"
   },
   {
    "duration": 24,
    "start_time": "2022-08-13T16:41:42.493Z"
   },
   {
    "duration": 18,
    "start_time": "2022-08-13T16:41:42.519Z"
   },
   {
    "duration": 9,
    "start_time": "2022-08-13T16:41:42.539Z"
   },
   {
    "duration": 48,
    "start_time": "2022-08-13T16:41:42.549Z"
   },
   {
    "duration": 26,
    "start_time": "2022-08-13T16:41:42.598Z"
   },
   {
    "duration": 9,
    "start_time": "2022-08-13T16:41:42.625Z"
   },
   {
    "duration": 32,
    "start_time": "2022-08-13T16:41:42.636Z"
   },
   {
    "duration": 55,
    "start_time": "2022-08-13T16:41:42.670Z"
   },
   {
    "duration": 18,
    "start_time": "2022-08-13T16:41:42.727Z"
   },
   {
    "duration": 49,
    "start_time": "2022-08-13T16:41:42.749Z"
   },
   {
    "duration": 5,
    "start_time": "2022-08-13T16:41:42.800Z"
   },
   {
    "duration": 6,
    "start_time": "2022-08-13T16:41:42.807Z"
   },
   {
    "duration": 21,
    "start_time": "2022-08-13T16:41:42.814Z"
   },
   {
    "duration": 5,
    "start_time": "2022-08-13T16:41:42.836Z"
   },
   {
    "duration": 5,
    "start_time": "2022-08-13T16:41:42.843Z"
   },
   {
    "duration": 11,
    "start_time": "2022-08-13T16:41:42.849Z"
   },
   {
    "duration": 54,
    "start_time": "2022-08-13T16:41:42.862Z"
   },
   {
    "duration": 4,
    "start_time": "2022-08-13T16:41:42.918Z"
   },
   {
    "duration": 7,
    "start_time": "2022-08-13T16:41:42.924Z"
   },
   {
    "duration": 269,
    "start_time": "2022-08-13T16:41:42.932Z"
   },
   {
    "duration": 1230,
    "start_time": "2022-08-13T16:41:43.203Z"
   },
   {
    "duration": 0,
    "start_time": "2022-08-13T16:41:44.435Z"
   },
   {
    "duration": 0,
    "start_time": "2022-08-13T16:41:44.436Z"
   },
   {
    "duration": 0,
    "start_time": "2022-08-13T16:41:44.438Z"
   },
   {
    "duration": 0,
    "start_time": "2022-08-13T16:41:44.439Z"
   },
   {
    "duration": 0,
    "start_time": "2022-08-13T16:41:44.440Z"
   },
   {
    "duration": 1,
    "start_time": "2022-08-13T16:41:44.441Z"
   },
   {
    "duration": 0,
    "start_time": "2022-08-13T16:41:44.443Z"
   },
   {
    "duration": 0,
    "start_time": "2022-08-13T16:41:44.444Z"
   },
   {
    "duration": 0,
    "start_time": "2022-08-13T16:41:44.444Z"
   },
   {
    "duration": 0,
    "start_time": "2022-08-13T16:41:44.446Z"
   },
   {
    "duration": 0,
    "start_time": "2022-08-13T16:41:44.447Z"
   },
   {
    "duration": 0,
    "start_time": "2022-08-13T16:41:44.448Z"
   },
   {
    "duration": 0,
    "start_time": "2022-08-13T16:41:44.449Z"
   },
   {
    "duration": 0,
    "start_time": "2022-08-13T16:41:44.450Z"
   },
   {
    "duration": 0,
    "start_time": "2022-08-13T16:41:44.450Z"
   },
   {
    "duration": 0,
    "start_time": "2022-08-13T16:41:44.451Z"
   },
   {
    "duration": 0,
    "start_time": "2022-08-13T16:41:44.452Z"
   },
   {
    "duration": 0,
    "start_time": "2022-08-13T16:41:44.455Z"
   },
   {
    "duration": 0,
    "start_time": "2022-08-13T16:41:44.456Z"
   },
   {
    "duration": 0,
    "start_time": "2022-08-13T16:41:44.458Z"
   },
   {
    "duration": 0,
    "start_time": "2022-08-13T16:41:44.459Z"
   },
   {
    "duration": 0,
    "start_time": "2022-08-13T16:41:44.461Z"
   },
   {
    "duration": 0,
    "start_time": "2022-08-13T16:41:44.462Z"
   },
   {
    "duration": 0,
    "start_time": "2022-08-13T16:41:44.463Z"
   },
   {
    "duration": 426,
    "start_time": "2022-08-13T16:42:00.174Z"
   },
   {
    "duration": 195,
    "start_time": "2022-08-13T16:42:36.521Z"
   },
   {
    "duration": 25,
    "start_time": "2022-08-13T16:43:12.427Z"
   },
   {
    "duration": 5,
    "start_time": "2022-08-13T16:43:22.041Z"
   },
   {
    "duration": 225,
    "start_time": "2022-08-13T16:43:23.059Z"
   },
   {
    "duration": 153,
    "start_time": "2022-08-13T16:43:43.489Z"
   },
   {
    "duration": 1589,
    "start_time": "2022-08-13T16:45:21.453Z"
   },
   {
    "duration": 197,
    "start_time": "2022-08-13T16:45:31.829Z"
   },
   {
    "duration": 152,
    "start_time": "2022-08-13T16:46:03.514Z"
   },
   {
    "duration": 739,
    "start_time": "2022-08-13T16:47:06.439Z"
   },
   {
    "duration": 31,
    "start_time": "2022-08-13T17:03:25.532Z"
   },
   {
    "duration": 6,
    "start_time": "2022-08-13T17:08:13.219Z"
   },
   {
    "duration": 8,
    "start_time": "2022-08-13T17:08:29.124Z"
   },
   {
    "duration": 11,
    "start_time": "2022-08-13T17:09:45.693Z"
   },
   {
    "duration": 9,
    "start_time": "2022-08-13T17:09:52.356Z"
   },
   {
    "duration": 92,
    "start_time": "2022-08-13T17:09:58.992Z"
   },
   {
    "duration": 188,
    "start_time": "2022-08-13T17:10:24.945Z"
   },
   {
    "duration": 223,
    "start_time": "2022-08-13T17:10:41.781Z"
   },
   {
    "duration": 205,
    "start_time": "2022-08-13T17:11:15.963Z"
   },
   {
    "duration": 162,
    "start_time": "2022-08-13T17:12:30.629Z"
   },
   {
    "duration": 168,
    "start_time": "2022-08-13T17:12:45.648Z"
   },
   {
    "duration": 15,
    "start_time": "2022-08-13T17:13:10.949Z"
   },
   {
    "duration": 120,
    "start_time": "2022-08-13T17:13:19.571Z"
   },
   {
    "duration": 86,
    "start_time": "2022-08-13T17:13:26.110Z"
   },
   {
    "duration": 7,
    "start_time": "2022-08-13T17:15:28.919Z"
   },
   {
    "duration": 4,
    "start_time": "2022-08-13T17:15:50.615Z"
   },
   {
    "duration": 9,
    "start_time": "2022-08-13T17:15:54.044Z"
   },
   {
    "duration": 14,
    "start_time": "2022-08-13T17:16:43.194Z"
   },
   {
    "duration": 22,
    "start_time": "2022-08-13T17:16:48.082Z"
   },
   {
    "duration": 10,
    "start_time": "2022-08-13T17:17:20.474Z"
   },
   {
    "duration": 12,
    "start_time": "2022-08-13T17:17:46.412Z"
   },
   {
    "duration": 15,
    "start_time": "2022-08-13T17:17:52.192Z"
   },
   {
    "duration": 12,
    "start_time": "2022-08-13T17:18:21.947Z"
   },
   {
    "duration": 4,
    "start_time": "2022-08-13T17:18:26.610Z"
   },
   {
    "duration": 10,
    "start_time": "2022-08-13T17:18:37.214Z"
   },
   {
    "duration": 3,
    "start_time": "2022-08-13T17:18:41.148Z"
   },
   {
    "duration": 343,
    "start_time": "2022-08-13T17:18:41.153Z"
   },
   {
    "duration": 132,
    "start_time": "2022-08-13T17:18:41.498Z"
   },
   {
    "duration": 18,
    "start_time": "2022-08-13T17:18:41.632Z"
   },
   {
    "duration": 36,
    "start_time": "2022-08-13T17:18:41.652Z"
   },
   {
    "duration": 21,
    "start_time": "2022-08-13T17:18:41.689Z"
   },
   {
    "duration": 21,
    "start_time": "2022-08-13T17:18:41.712Z"
   },
   {
    "duration": 15,
    "start_time": "2022-08-13T17:18:41.735Z"
   },
   {
    "duration": 5,
    "start_time": "2022-08-13T17:18:41.752Z"
   },
   {
    "duration": 8,
    "start_time": "2022-08-13T17:18:41.759Z"
   },
   {
    "duration": 33,
    "start_time": "2022-08-13T17:18:41.770Z"
   },
   {
    "duration": 12,
    "start_time": "2022-08-13T17:18:41.806Z"
   },
   {
    "duration": 35,
    "start_time": "2022-08-13T17:18:41.820Z"
   },
   {
    "duration": 16,
    "start_time": "2022-08-13T17:18:41.857Z"
   },
   {
    "duration": 56,
    "start_time": "2022-08-13T17:18:41.875Z"
   },
   {
    "duration": 22,
    "start_time": "2022-08-13T17:18:41.932Z"
   },
   {
    "duration": 13,
    "start_time": "2022-08-13T17:18:41.956Z"
   },
   {
    "duration": 53,
    "start_time": "2022-08-13T17:18:41.991Z"
   },
   {
    "duration": 58,
    "start_time": "2022-08-13T17:18:42.046Z"
   },
   {
    "duration": 21,
    "start_time": "2022-08-13T17:18:42.106Z"
   },
   {
    "duration": 8,
    "start_time": "2022-08-13T17:18:42.129Z"
   },
   {
    "duration": 28,
    "start_time": "2022-08-13T17:18:42.139Z"
   },
   {
    "duration": 40,
    "start_time": "2022-08-13T17:18:42.169Z"
   },
   {
    "duration": 10,
    "start_time": "2022-08-13T17:18:42.210Z"
   },
   {
    "duration": 35,
    "start_time": "2022-08-13T17:18:42.221Z"
   },
   {
    "duration": 55,
    "start_time": "2022-08-13T17:18:42.258Z"
   },
   {
    "duration": 20,
    "start_time": "2022-08-13T17:18:42.315Z"
   },
   {
    "duration": 29,
    "start_time": "2022-08-13T17:18:42.336Z"
   },
   {
    "duration": 5,
    "start_time": "2022-08-13T17:18:42.368Z"
   },
   {
    "duration": 4,
    "start_time": "2022-08-13T17:18:42.392Z"
   },
   {
    "duration": 41,
    "start_time": "2022-08-13T17:18:42.398Z"
   },
   {
    "duration": 18,
    "start_time": "2022-08-13T17:18:42.441Z"
   },
   {
    "duration": 19,
    "start_time": "2022-08-13T17:18:42.461Z"
   },
   {
    "duration": 15,
    "start_time": "2022-08-13T17:18:42.482Z"
   },
   {
    "duration": 52,
    "start_time": "2022-08-13T17:18:42.499Z"
   },
   {
    "duration": 6,
    "start_time": "2022-08-13T17:18:42.553Z"
   },
   {
    "duration": 28,
    "start_time": "2022-08-13T17:18:42.561Z"
   },
   {
    "duration": 226,
    "start_time": "2022-08-13T17:18:42.591Z"
   },
   {
    "duration": 216,
    "start_time": "2022-08-13T17:18:42.819Z"
   },
   {
    "duration": 5,
    "start_time": "2022-08-13T17:18:43.037Z"
   },
   {
    "duration": 32,
    "start_time": "2022-08-13T17:18:43.043Z"
   },
   {
    "duration": 10,
    "start_time": "2022-08-13T17:18:48.982Z"
   },
   {
    "duration": 25,
    "start_time": "2022-08-13T17:18:59.213Z"
   },
   {
    "duration": 9,
    "start_time": "2022-08-13T17:19:05.173Z"
   },
   {
    "duration": 10,
    "start_time": "2022-08-13T17:19:12.238Z"
   },
   {
    "duration": 15,
    "start_time": "2022-08-13T17:19:26.115Z"
   },
   {
    "duration": 18,
    "start_time": "2022-08-13T17:19:47.034Z"
   },
   {
    "duration": 7,
    "start_time": "2022-08-13T17:20:17.608Z"
   },
   {
    "duration": 8,
    "start_time": "2022-08-13T17:20:23.601Z"
   },
   {
    "duration": 12,
    "start_time": "2022-08-13T17:21:05.840Z"
   },
   {
    "duration": 19,
    "start_time": "2022-08-13T17:21:13.377Z"
   },
   {
    "duration": 14,
    "start_time": "2022-08-13T17:59:55.411Z"
   },
   {
    "duration": 4,
    "start_time": "2022-08-13T18:00:08.688Z"
   },
   {
    "duration": 334,
    "start_time": "2022-08-13T18:00:08.693Z"
   },
   {
    "duration": 13,
    "start_time": "2022-08-13T18:00:09.029Z"
   },
   {
    "duration": 17,
    "start_time": "2022-08-13T18:00:09.043Z"
   },
   {
    "duration": 16,
    "start_time": "2022-08-13T18:00:09.063Z"
   },
   {
    "duration": 20,
    "start_time": "2022-08-13T18:00:09.080Z"
   },
   {
    "duration": 17,
    "start_time": "2022-08-13T18:00:09.102Z"
   },
   {
    "duration": 21,
    "start_time": "2022-08-13T18:00:09.120Z"
   },
   {
    "duration": 13,
    "start_time": "2022-08-13T18:00:09.143Z"
   },
   {
    "duration": 12,
    "start_time": "2022-08-13T18:00:09.158Z"
   },
   {
    "duration": 33,
    "start_time": "2022-08-13T18:00:09.172Z"
   },
   {
    "duration": 14,
    "start_time": "2022-08-13T18:00:09.207Z"
   },
   {
    "duration": 37,
    "start_time": "2022-08-13T18:00:09.223Z"
   },
   {
    "duration": 5,
    "start_time": "2022-08-13T18:00:09.264Z"
   },
   {
    "duration": 71,
    "start_time": "2022-08-13T18:00:09.271Z"
   },
   {
    "duration": 16,
    "start_time": "2022-08-13T18:00:09.344Z"
   },
   {
    "duration": 14,
    "start_time": "2022-08-13T18:00:09.362Z"
   },
   {
    "duration": 16,
    "start_time": "2022-08-13T18:00:09.392Z"
   },
   {
    "duration": 32,
    "start_time": "2022-08-13T18:00:09.411Z"
   },
   {
    "duration": 47,
    "start_time": "2022-08-13T18:00:09.445Z"
   },
   {
    "duration": 9,
    "start_time": "2022-08-13T18:00:09.495Z"
   },
   {
    "duration": 24,
    "start_time": "2022-08-13T18:00:09.506Z"
   },
   {
    "duration": 28,
    "start_time": "2022-08-13T18:00:09.532Z"
   },
   {
    "duration": 29,
    "start_time": "2022-08-13T18:00:09.562Z"
   },
   {
    "duration": 32,
    "start_time": "2022-08-13T18:00:09.593Z"
   },
   {
    "duration": 39,
    "start_time": "2022-08-13T18:00:09.626Z"
   },
   {
    "duration": 36,
    "start_time": "2022-08-13T18:00:09.667Z"
   },
   {
    "duration": 29,
    "start_time": "2022-08-13T18:00:09.704Z"
   },
   {
    "duration": 6,
    "start_time": "2022-08-13T18:00:09.735Z"
   },
   {
    "duration": 7,
    "start_time": "2022-08-13T18:00:09.742Z"
   },
   {
    "duration": 41,
    "start_time": "2022-08-13T18:00:09.751Z"
   },
   {
    "duration": 5,
    "start_time": "2022-08-13T18:00:09.794Z"
   },
   {
    "duration": 13,
    "start_time": "2022-08-13T18:00:09.800Z"
   },
   {
    "duration": 20,
    "start_time": "2022-08-13T18:00:09.815Z"
   },
   {
    "duration": 40,
    "start_time": "2022-08-13T18:00:09.836Z"
   },
   {
    "duration": 5,
    "start_time": "2022-08-13T18:00:09.877Z"
   },
   {
    "duration": 11,
    "start_time": "2022-08-13T18:00:09.883Z"
   },
   {
    "duration": 249,
    "start_time": "2022-08-13T18:00:09.895Z"
   },
   {
    "duration": 260,
    "start_time": "2022-08-13T18:00:10.146Z"
   },
   {
    "duration": 6,
    "start_time": "2022-08-13T18:00:10.407Z"
   },
   {
    "duration": 14,
    "start_time": "2022-08-13T18:00:10.416Z"
   },
   {
    "duration": 14,
    "start_time": "2022-08-13T18:00:20.025Z"
   },
   {
    "duration": 172,
    "start_time": "2022-08-13T18:00:23.772Z"
   },
   {
    "duration": 330,
    "start_time": "2022-08-13T18:00:51.046Z"
   },
   {
    "duration": 224,
    "start_time": "2022-08-13T18:01:18.774Z"
   },
   {
    "duration": 200,
    "start_time": "2022-08-13T18:02:50.516Z"
   },
   {
    "duration": 302,
    "start_time": "2022-08-13T18:02:58.482Z"
   },
   {
    "duration": 219,
    "start_time": "2022-08-13T18:04:00.993Z"
   },
   {
    "duration": 203,
    "start_time": "2022-08-13T18:04:28.858Z"
   },
   {
    "duration": 5,
    "start_time": "2022-08-13T18:06:11.654Z"
   },
   {
    "duration": 1392,
    "start_time": "2022-08-13T18:06:35.983Z"
   },
   {
    "duration": 5,
    "start_time": "2022-08-13T18:06:48.906Z"
   },
   {
    "duration": 1591,
    "start_time": "2022-08-13T18:06:51.063Z"
   },
   {
    "duration": 33,
    "start_time": "2022-08-13T18:07:03.743Z"
   },
   {
    "duration": 14,
    "start_time": "2022-08-13T18:09:47.619Z"
   },
   {
    "duration": 197,
    "start_time": "2022-08-13T18:09:48.281Z"
   },
   {
    "duration": 32,
    "start_time": "2022-08-13T18:09:59.298Z"
   },
   {
    "duration": 189,
    "start_time": "2022-08-13T18:09:59.630Z"
   },
   {
    "duration": 32,
    "start_time": "2022-08-13T18:10:57.518Z"
   },
   {
    "duration": 4,
    "start_time": "2022-08-13T18:11:08.586Z"
   },
   {
    "duration": 1273,
    "start_time": "2022-08-13T18:11:48.139Z"
   },
   {
    "duration": 1401,
    "start_time": "2022-08-13T18:13:38.093Z"
   },
   {
    "duration": 4,
    "start_time": "2022-08-13T18:13:44.873Z"
   },
   {
    "duration": 1224,
    "start_time": "2022-08-13T18:13:45.686Z"
   },
   {
    "duration": 11,
    "start_time": "2022-08-13T18:13:57.057Z"
   },
   {
    "duration": 210,
    "start_time": "2022-08-13T18:14:03.604Z"
   },
   {
    "duration": 4,
    "start_time": "2022-08-13T18:14:04.066Z"
   },
   {
    "duration": 200,
    "start_time": "2022-08-13T18:14:04.966Z"
   },
   {
    "duration": 309,
    "start_time": "2022-08-13T18:14:14.125Z"
   },
   {
    "duration": 205,
    "start_time": "2022-08-13T18:14:21.781Z"
   },
   {
    "duration": 214,
    "start_time": "2022-08-13T18:14:29.304Z"
   },
   {
    "duration": 238,
    "start_time": "2022-08-13T18:15:47.023Z"
   },
   {
    "duration": 5,
    "start_time": "2022-08-13T18:16:09.331Z"
   },
   {
    "duration": 324,
    "start_time": "2022-08-13T18:16:09.338Z"
   },
   {
    "duration": 11,
    "start_time": "2022-08-13T18:16:09.664Z"
   },
   {
    "duration": 15,
    "start_time": "2022-08-13T18:16:09.677Z"
   },
   {
    "duration": 10,
    "start_time": "2022-08-13T18:16:09.694Z"
   },
   {
    "duration": 16,
    "start_time": "2022-08-13T18:16:09.705Z"
   },
   {
    "duration": 12,
    "start_time": "2022-08-13T18:16:09.722Z"
   },
   {
    "duration": 13,
    "start_time": "2022-08-13T18:16:09.736Z"
   },
   {
    "duration": 5,
    "start_time": "2022-08-13T18:16:09.751Z"
   },
   {
    "duration": 7,
    "start_time": "2022-08-13T18:16:09.757Z"
   },
   {
    "duration": 43,
    "start_time": "2022-08-13T18:16:09.766Z"
   },
   {
    "duration": 10,
    "start_time": "2022-08-13T18:16:09.811Z"
   },
   {
    "duration": 31,
    "start_time": "2022-08-13T18:16:09.823Z"
   },
   {
    "duration": 4,
    "start_time": "2022-08-13T18:16:09.856Z"
   },
   {
    "duration": 61,
    "start_time": "2022-08-13T18:16:09.862Z"
   },
   {
    "duration": 15,
    "start_time": "2022-08-13T18:16:09.925Z"
   },
   {
    "duration": 8,
    "start_time": "2022-08-13T18:16:09.941Z"
   },
   {
    "duration": 18,
    "start_time": "2022-08-13T18:16:09.951Z"
   },
   {
    "duration": 42,
    "start_time": "2022-08-13T18:16:09.971Z"
   },
   {
    "duration": 18,
    "start_time": "2022-08-13T18:16:10.015Z"
   },
   {
    "duration": 9,
    "start_time": "2022-08-13T18:16:10.035Z"
   },
   {
    "duration": 22,
    "start_time": "2022-08-13T18:16:10.045Z"
   },
   {
    "duration": 45,
    "start_time": "2022-08-13T18:16:10.069Z"
   },
   {
    "duration": 9,
    "start_time": "2022-08-13T18:16:10.118Z"
   },
   {
    "duration": 32,
    "start_time": "2022-08-13T18:16:10.128Z"
   },
   {
    "duration": 64,
    "start_time": "2022-08-13T18:16:10.162Z"
   },
   {
    "duration": 20,
    "start_time": "2022-08-13T18:16:10.227Z"
   },
   {
    "duration": 29,
    "start_time": "2022-08-13T18:16:10.248Z"
   },
   {
    "duration": 6,
    "start_time": "2022-08-13T18:16:10.292Z"
   },
   {
    "duration": 7,
    "start_time": "2022-08-13T18:16:10.300Z"
   },
   {
    "duration": 21,
    "start_time": "2022-08-13T18:16:10.308Z"
   },
   {
    "duration": 5,
    "start_time": "2022-08-13T18:16:10.331Z"
   },
   {
    "duration": 10,
    "start_time": "2022-08-13T18:16:10.337Z"
   },
   {
    "duration": 13,
    "start_time": "2022-08-13T18:16:10.349Z"
   },
   {
    "duration": 55,
    "start_time": "2022-08-13T18:16:10.364Z"
   },
   {
    "duration": 5,
    "start_time": "2022-08-13T18:16:10.420Z"
   },
   {
    "duration": 7,
    "start_time": "2022-08-13T18:16:10.426Z"
   },
   {
    "duration": 221,
    "start_time": "2022-08-13T18:16:10.435Z"
   },
   {
    "duration": 203,
    "start_time": "2022-08-13T18:16:10.657Z"
   },
   {
    "duration": 4,
    "start_time": "2022-08-13T18:16:10.862Z"
   },
   {
    "duration": 25,
    "start_time": "2022-08-13T18:16:10.868Z"
   },
   {
    "duration": 236,
    "start_time": "2022-08-13T18:16:10.895Z"
   },
   {
    "duration": 6,
    "start_time": "2022-08-13T18:16:11.133Z"
   },
   {
    "duration": 12,
    "start_time": "2022-08-13T18:16:11.140Z"
   },
   {
    "duration": 119,
    "start_time": "2022-08-13T18:16:11.154Z"
   },
   {
    "duration": 212,
    "start_time": "2022-08-13T18:16:11.275Z"
   },
   {
    "duration": 29,
    "start_time": "2022-08-13T18:16:11.490Z"
   },
   {
    "duration": 1794,
    "start_time": "2022-08-13T18:16:11.521Z"
   },
   {
    "duration": 0,
    "start_time": "2022-08-13T18:16:13.316Z"
   },
   {
    "duration": 0,
    "start_time": "2022-08-13T18:16:13.318Z"
   },
   {
    "duration": 0,
    "start_time": "2022-08-13T18:16:13.319Z"
   },
   {
    "duration": 0,
    "start_time": "2022-08-13T18:16:13.319Z"
   },
   {
    "duration": 0,
    "start_time": "2022-08-13T18:16:13.320Z"
   },
   {
    "duration": 0,
    "start_time": "2022-08-13T18:16:13.321Z"
   },
   {
    "duration": 0,
    "start_time": "2022-08-13T18:16:13.322Z"
   },
   {
    "duration": 0,
    "start_time": "2022-08-13T18:16:13.323Z"
   },
   {
    "duration": 0,
    "start_time": "2022-08-13T18:16:13.324Z"
   },
   {
    "duration": 0,
    "start_time": "2022-08-13T18:16:13.324Z"
   },
   {
    "duration": 0,
    "start_time": "2022-08-13T18:16:13.325Z"
   },
   {
    "duration": 0,
    "start_time": "2022-08-13T18:16:13.326Z"
   },
   {
    "duration": 0,
    "start_time": "2022-08-13T18:16:13.327Z"
   },
   {
    "duration": 0,
    "start_time": "2022-08-13T18:16:13.328Z"
   },
   {
    "duration": 0,
    "start_time": "2022-08-13T18:16:13.330Z"
   },
   {
    "duration": 0,
    "start_time": "2022-08-13T18:16:13.331Z"
   },
   {
    "duration": 0,
    "start_time": "2022-08-13T18:16:13.332Z"
   },
   {
    "duration": 0,
    "start_time": "2022-08-13T18:16:13.333Z"
   },
   {
    "duration": 0,
    "start_time": "2022-08-13T18:16:13.334Z"
   },
   {
    "duration": 5,
    "start_time": "2022-08-13T18:16:29.401Z"
   },
   {
    "duration": 1239,
    "start_time": "2022-08-13T18:16:30.135Z"
   },
   {
    "duration": 3,
    "start_time": "2022-08-13T18:16:38.801Z"
   },
   {
    "duration": 352,
    "start_time": "2022-08-13T18:16:38.806Z"
   },
   {
    "duration": 12,
    "start_time": "2022-08-13T18:16:39.160Z"
   },
   {
    "duration": 15,
    "start_time": "2022-08-13T18:16:39.173Z"
   },
   {
    "duration": 13,
    "start_time": "2022-08-13T18:16:39.191Z"
   },
   {
    "duration": 17,
    "start_time": "2022-08-13T18:16:39.207Z"
   },
   {
    "duration": 14,
    "start_time": "2022-08-13T18:16:39.226Z"
   },
   {
    "duration": 13,
    "start_time": "2022-08-13T18:16:39.242Z"
   },
   {
    "duration": 6,
    "start_time": "2022-08-13T18:16:39.257Z"
   },
   {
    "duration": 27,
    "start_time": "2022-08-13T18:16:39.265Z"
   },
   {
    "duration": 25,
    "start_time": "2022-08-13T18:16:39.295Z"
   },
   {
    "duration": 11,
    "start_time": "2022-08-13T18:16:39.322Z"
   },
   {
    "duration": 28,
    "start_time": "2022-08-13T18:16:39.335Z"
   },
   {
    "duration": 5,
    "start_time": "2022-08-13T18:16:39.364Z"
   },
   {
    "duration": 51,
    "start_time": "2022-08-13T18:16:39.391Z"
   },
   {
    "duration": 19,
    "start_time": "2022-08-13T18:16:39.445Z"
   },
   {
    "duration": 27,
    "start_time": "2022-08-13T18:16:39.466Z"
   },
   {
    "duration": 18,
    "start_time": "2022-08-13T18:16:39.495Z"
   },
   {
    "duration": 29,
    "start_time": "2022-08-13T18:16:39.515Z"
   },
   {
    "duration": 46,
    "start_time": "2022-08-13T18:16:39.546Z"
   },
   {
    "duration": 10,
    "start_time": "2022-08-13T18:16:39.594Z"
   },
   {
    "duration": 23,
    "start_time": "2022-08-13T18:16:39.606Z"
   },
   {
    "duration": 27,
    "start_time": "2022-08-13T18:16:39.631Z"
   },
   {
    "duration": 34,
    "start_time": "2022-08-13T18:16:39.660Z"
   },
   {
    "duration": 35,
    "start_time": "2022-08-13T18:16:39.696Z"
   },
   {
    "duration": 43,
    "start_time": "2022-08-13T18:16:39.732Z"
   },
   {
    "duration": 33,
    "start_time": "2022-08-13T18:16:39.776Z"
   },
   {
    "duration": 30,
    "start_time": "2022-08-13T18:16:39.811Z"
   },
   {
    "duration": 5,
    "start_time": "2022-08-13T18:16:39.845Z"
   },
   {
    "duration": 6,
    "start_time": "2022-08-13T18:16:39.852Z"
   },
   {
    "duration": 46,
    "start_time": "2022-08-13T18:16:39.860Z"
   },
   {
    "duration": 4,
    "start_time": "2022-08-13T18:16:39.908Z"
   },
   {
    "duration": 9,
    "start_time": "2022-08-13T18:16:39.914Z"
   },
   {
    "duration": 10,
    "start_time": "2022-08-13T18:16:39.925Z"
   },
   {
    "duration": 34,
    "start_time": "2022-08-13T18:16:39.937Z"
   },
   {
    "duration": 24,
    "start_time": "2022-08-13T18:16:39.974Z"
   },
   {
    "duration": 7,
    "start_time": "2022-08-13T18:16:40.000Z"
   },
   {
    "duration": 278,
    "start_time": "2022-08-13T18:16:40.008Z"
   },
   {
    "duration": 230,
    "start_time": "2022-08-13T18:16:40.292Z"
   },
   {
    "duration": 5,
    "start_time": "2022-08-13T18:16:40.524Z"
   },
   {
    "duration": 12,
    "start_time": "2022-08-13T18:16:40.531Z"
   },
   {
    "duration": 406,
    "start_time": "2022-08-13T18:16:40.544Z"
   },
   {
    "duration": 7,
    "start_time": "2022-08-13T18:16:40.951Z"
   },
   {
    "duration": 9,
    "start_time": "2022-08-13T18:16:40.960Z"
   },
   {
    "duration": 148,
    "start_time": "2022-08-13T18:16:40.970Z"
   },
   {
    "duration": 235,
    "start_time": "2022-08-13T18:16:41.119Z"
   },
   {
    "duration": 4,
    "start_time": "2022-08-13T18:16:41.356Z"
   },
   {
    "duration": 4,
    "start_time": "2022-08-13T18:16:53.113Z"
   },
   {
    "duration": 1286,
    "start_time": "2022-08-13T18:16:54.056Z"
   },
   {
    "duration": 4,
    "start_time": "2022-08-13T18:17:02.722Z"
   },
   {
    "duration": 1386,
    "start_time": "2022-08-13T18:17:03.619Z"
   },
   {
    "duration": 32,
    "start_time": "2022-08-13T18:17:24.156Z"
   },
   {
    "duration": 4,
    "start_time": "2022-08-13T18:17:36.157Z"
   },
   {
    "duration": 1201,
    "start_time": "2022-08-13T18:17:37.771Z"
   },
   {
    "duration": 10,
    "start_time": "2022-08-13T18:18:04.880Z"
   },
   {
    "duration": 218,
    "start_time": "2022-08-13T18:18:05.510Z"
   },
   {
    "duration": 8,
    "start_time": "2022-08-13T18:18:14.444Z"
   },
   {
    "duration": 220,
    "start_time": "2022-08-13T18:18:15.447Z"
   },
   {
    "duration": 2,
    "start_time": "2022-08-13T18:18:21.409Z"
   },
   {
    "duration": 308,
    "start_time": "2022-08-13T18:18:21.413Z"
   },
   {
    "duration": 10,
    "start_time": "2022-08-13T18:18:21.723Z"
   },
   {
    "duration": 13,
    "start_time": "2022-08-13T18:18:21.734Z"
   },
   {
    "duration": 11,
    "start_time": "2022-08-13T18:18:21.749Z"
   },
   {
    "duration": 19,
    "start_time": "2022-08-13T18:18:21.761Z"
   },
   {
    "duration": 31,
    "start_time": "2022-08-13T18:18:21.782Z"
   },
   {
    "duration": 18,
    "start_time": "2022-08-13T18:18:21.815Z"
   },
   {
    "duration": 13,
    "start_time": "2022-08-13T18:18:21.835Z"
   },
   {
    "duration": 8,
    "start_time": "2022-08-13T18:18:21.850Z"
   },
   {
    "duration": 28,
    "start_time": "2022-08-13T18:18:21.862Z"
   },
   {
    "duration": 13,
    "start_time": "2022-08-13T18:18:21.893Z"
   },
   {
    "duration": 42,
    "start_time": "2022-08-13T18:18:21.908Z"
   },
   {
    "duration": 4,
    "start_time": "2022-08-13T18:18:21.952Z"
   },
   {
    "duration": 58,
    "start_time": "2022-08-13T18:18:21.957Z"
   },
   {
    "duration": 19,
    "start_time": "2022-08-13T18:18:22.017Z"
   },
   {
    "duration": 11,
    "start_time": "2022-08-13T18:18:22.039Z"
   },
   {
    "duration": 43,
    "start_time": "2022-08-13T18:18:22.053Z"
   },
   {
    "duration": 30,
    "start_time": "2022-08-13T18:18:22.098Z"
   },
   {
    "duration": 20,
    "start_time": "2022-08-13T18:18:22.130Z"
   },
   {
    "duration": 9,
    "start_time": "2022-08-13T18:18:22.151Z"
   },
   {
    "duration": 44,
    "start_time": "2022-08-13T18:18:22.162Z"
   },
   {
    "duration": 25,
    "start_time": "2022-08-13T18:18:22.208Z"
   },
   {
    "duration": 8,
    "start_time": "2022-08-13T18:18:22.235Z"
   },
   {
    "duration": 52,
    "start_time": "2022-08-13T18:18:22.245Z"
   },
   {
    "duration": 36,
    "start_time": "2022-08-13T18:18:22.299Z"
   },
   {
    "duration": 19,
    "start_time": "2022-08-13T18:18:22.336Z"
   },
   {
    "duration": 48,
    "start_time": "2022-08-13T18:18:22.357Z"
   },
   {
    "duration": 5,
    "start_time": "2022-08-13T18:18:22.409Z"
   },
   {
    "duration": 7,
    "start_time": "2022-08-13T18:18:22.416Z"
   },
   {
    "duration": 20,
    "start_time": "2022-08-13T18:18:22.424Z"
   },
   {
    "duration": 4,
    "start_time": "2022-08-13T18:18:22.445Z"
   },
   {
    "duration": 7,
    "start_time": "2022-08-13T18:18:22.451Z"
   },
   {
    "duration": 9,
    "start_time": "2022-08-13T18:18:22.459Z"
   },
   {
    "duration": 50,
    "start_time": "2022-08-13T18:18:22.470Z"
   },
   {
    "duration": 5,
    "start_time": "2022-08-13T18:18:22.521Z"
   },
   {
    "duration": 6,
    "start_time": "2022-08-13T18:18:22.527Z"
   },
   {
    "duration": 236,
    "start_time": "2022-08-13T18:18:22.534Z"
   },
   {
    "duration": 211,
    "start_time": "2022-08-13T18:18:22.771Z"
   },
   {
    "duration": 9,
    "start_time": "2022-08-13T18:18:22.983Z"
   },
   {
    "duration": 13,
    "start_time": "2022-08-13T18:18:22.994Z"
   },
   {
    "duration": 265,
    "start_time": "2022-08-13T18:18:23.009Z"
   },
   {
    "duration": 17,
    "start_time": "2022-08-13T18:18:23.275Z"
   },
   {
    "duration": 6,
    "start_time": "2022-08-13T18:18:23.294Z"
   },
   {
    "duration": 129,
    "start_time": "2022-08-13T18:18:23.301Z"
   },
   {
    "duration": 205,
    "start_time": "2022-08-13T18:18:23.432Z"
   },
   {
    "duration": 30,
    "start_time": "2022-08-13T18:18:23.639Z"
   },
   {
    "duration": 23,
    "start_time": "2022-08-13T18:18:23.671Z"
   },
   {
    "duration": 236,
    "start_time": "2022-08-13T18:18:23.696Z"
   },
   {
    "duration": 6,
    "start_time": "2022-08-13T18:18:23.933Z"
   },
   {
    "duration": 13,
    "start_time": "2022-08-13T18:18:23.940Z"
   },
   {
    "duration": 140,
    "start_time": "2022-08-13T18:18:23.955Z"
   },
   {
    "duration": 2,
    "start_time": "2022-08-13T18:18:24.096Z"
   },
   {
    "duration": 245,
    "start_time": "2022-08-13T18:18:24.100Z"
   },
   {
    "duration": 4,
    "start_time": "2022-08-13T18:18:24.347Z"
   },
   {
    "duration": 12,
    "start_time": "2022-08-13T18:18:24.353Z"
   },
   {
    "duration": 427,
    "start_time": "2022-08-13T18:18:24.367Z"
   },
   {
    "duration": 6,
    "start_time": "2022-08-13T18:18:24.795Z"
   },
   {
    "duration": 9,
    "start_time": "2022-08-13T18:18:24.803Z"
   },
   {
    "duration": 137,
    "start_time": "2022-08-13T18:18:24.813Z"
   },
   {
    "duration": 224,
    "start_time": "2022-08-13T18:18:24.952Z"
   },
   {
    "duration": 25,
    "start_time": "2022-08-13T18:18:25.178Z"
   },
   {
    "duration": 6,
    "start_time": "2022-08-13T18:18:25.204Z"
   },
   {
    "duration": 9,
    "start_time": "2022-08-13T18:18:25.212Z"
   },
   {
    "duration": 131,
    "start_time": "2022-08-13T18:18:25.223Z"
   },
   {
    "duration": 5,
    "start_time": "2022-08-13T18:18:25.355Z"
   },
   {
    "duration": 23,
    "start_time": "2022-08-13T18:18:25.362Z"
   },
   {
    "duration": 21,
    "start_time": "2022-08-13T18:18:25.391Z"
   },
   {
    "duration": 6,
    "start_time": "2022-08-13T18:18:25.414Z"
   },
   {
    "duration": 64,
    "start_time": "2022-08-15T12:44:16.746Z"
   },
   {
    "duration": 1327,
    "start_time": "2022-08-15T12:44:24.692Z"
   },
   {
    "duration": 1461,
    "start_time": "2022-08-15T12:44:26.022Z"
   },
   {
    "duration": 15,
    "start_time": "2022-08-15T12:44:27.486Z"
   },
   {
    "duration": 16,
    "start_time": "2022-08-15T12:44:27.503Z"
   },
   {
    "duration": 9,
    "start_time": "2022-08-15T12:44:27.521Z"
   },
   {
    "duration": 16,
    "start_time": "2022-08-15T12:44:27.531Z"
   },
   {
    "duration": 30,
    "start_time": "2022-08-15T12:44:27.549Z"
   },
   {
    "duration": 23,
    "start_time": "2022-08-15T12:44:27.583Z"
   },
   {
    "duration": 6,
    "start_time": "2022-08-15T12:44:27.607Z"
   },
   {
    "duration": 10,
    "start_time": "2022-08-15T12:44:27.615Z"
   },
   {
    "duration": 24,
    "start_time": "2022-08-15T12:44:27.627Z"
   },
   {
    "duration": 16,
    "start_time": "2022-08-15T12:44:27.654Z"
   },
   {
    "duration": 52,
    "start_time": "2022-08-15T12:44:27.671Z"
   },
   {
    "duration": 73,
    "start_time": "2022-08-15T12:44:31.541Z"
   },
   {
    "duration": 14,
    "start_time": "2022-08-15T12:44:51.399Z"
   },
   {
    "duration": 4,
    "start_time": "2022-08-15T12:45:36.130Z"
   },
   {
    "duration": 63,
    "start_time": "2022-08-15T12:45:39.746Z"
   },
   {
    "duration": 4,
    "start_time": "2022-08-15T12:45:56.314Z"
   },
   {
    "duration": 393,
    "start_time": "2022-08-15T12:45:56.322Z"
   },
   {
    "duration": 11,
    "start_time": "2022-08-15T12:45:56.717Z"
   },
   {
    "duration": 40,
    "start_time": "2022-08-15T12:45:56.730Z"
   },
   {
    "duration": 44,
    "start_time": "2022-08-15T12:45:56.772Z"
   },
   {
    "duration": 25,
    "start_time": "2022-08-15T12:45:56.818Z"
   },
   {
    "duration": 11,
    "start_time": "2022-08-15T12:45:56.845Z"
   },
   {
    "duration": 51,
    "start_time": "2022-08-15T12:45:56.858Z"
   },
   {
    "duration": 8,
    "start_time": "2022-08-15T12:45:56.912Z"
   },
   {
    "duration": 7,
    "start_time": "2022-08-15T12:45:56.922Z"
   },
   {
    "duration": 26,
    "start_time": "2022-08-15T12:45:56.931Z"
   },
   {
    "duration": 14,
    "start_time": "2022-08-15T12:45:56.960Z"
   },
   {
    "duration": 50,
    "start_time": "2022-08-15T12:45:56.976Z"
   },
   {
    "duration": 4,
    "start_time": "2022-08-15T12:45:57.028Z"
   },
   {
    "duration": 52,
    "start_time": "2022-08-15T12:45:57.035Z"
   },
   {
    "duration": 18,
    "start_time": "2022-08-15T12:45:57.089Z"
   },
   {
    "duration": 9,
    "start_time": "2022-08-15T12:45:57.109Z"
   },
   {
    "duration": 21,
    "start_time": "2022-08-15T12:45:57.120Z"
   },
   {
    "duration": 47,
    "start_time": "2022-08-15T12:45:57.143Z"
   },
   {
    "duration": 27,
    "start_time": "2022-08-15T12:45:57.192Z"
   },
   {
    "duration": 10,
    "start_time": "2022-08-15T12:45:57.221Z"
   },
   {
    "duration": 54,
    "start_time": "2022-08-15T12:45:57.233Z"
   },
   {
    "duration": 33,
    "start_time": "2022-08-15T12:45:57.290Z"
   },
   {
    "duration": 9,
    "start_time": "2022-08-15T12:45:57.324Z"
   },
   {
    "duration": 41,
    "start_time": "2022-08-15T12:45:57.334Z"
   },
   {
    "duration": 42,
    "start_time": "2022-08-15T12:45:57.377Z"
   },
   {
    "duration": 19,
    "start_time": "2022-08-15T12:45:57.421Z"
   },
   {
    "duration": 38,
    "start_time": "2022-08-15T12:45:57.457Z"
   },
   {
    "duration": 19,
    "start_time": "2022-08-15T12:45:57.497Z"
   },
   {
    "duration": 25,
    "start_time": "2022-08-15T12:45:57.518Z"
   },
   {
    "duration": 63,
    "start_time": "2022-08-15T12:45:57.545Z"
   },
   {
    "duration": 4,
    "start_time": "2022-08-15T12:45:57.610Z"
   },
   {
    "duration": 10,
    "start_time": "2022-08-15T12:45:57.616Z"
   },
   {
    "duration": 12,
    "start_time": "2022-08-15T12:45:57.628Z"
   },
   {
    "duration": 40,
    "start_time": "2022-08-15T12:45:57.643Z"
   },
   {
    "duration": 8,
    "start_time": "2022-08-15T12:45:57.685Z"
   },
   {
    "duration": 33,
    "start_time": "2022-08-15T12:45:57.694Z"
   },
   {
    "duration": 278,
    "start_time": "2022-08-15T12:45:57.729Z"
   },
   {
    "duration": 294,
    "start_time": "2022-08-15T12:45:58.009Z"
   },
   {
    "duration": 5,
    "start_time": "2022-08-15T12:45:58.305Z"
   },
   {
    "duration": 38,
    "start_time": "2022-08-15T12:45:58.312Z"
   },
   {
    "duration": 279,
    "start_time": "2022-08-15T12:45:58.354Z"
   },
   {
    "duration": 8,
    "start_time": "2022-08-15T12:45:58.634Z"
   },
   {
    "duration": 30,
    "start_time": "2022-08-15T12:45:58.643Z"
   },
   {
    "duration": 174,
    "start_time": "2022-08-15T12:45:58.675Z"
   },
   {
    "duration": 261,
    "start_time": "2022-08-15T12:45:58.851Z"
   },
   {
    "duration": 50,
    "start_time": "2022-08-15T12:45:59.115Z"
   },
   {
    "duration": 13,
    "start_time": "2022-08-15T12:45:59.172Z"
   },
   {
    "duration": 312,
    "start_time": "2022-08-15T12:45:59.190Z"
   },
   {
    "duration": 7,
    "start_time": "2022-08-15T12:45:59.504Z"
   },
   {
    "duration": 45,
    "start_time": "2022-08-15T12:45:59.513Z"
   },
   {
    "duration": 178,
    "start_time": "2022-08-15T12:45:59.560Z"
   },
   {
    "duration": 2,
    "start_time": "2022-08-15T12:45:59.741Z"
   },
   {
    "duration": 321,
    "start_time": "2022-08-15T12:45:59.745Z"
   },
   {
    "duration": 6,
    "start_time": "2022-08-15T12:46:00.075Z"
   },
   {
    "duration": 34,
    "start_time": "2022-08-15T12:46:00.084Z"
   },
   {
    "duration": 466,
    "start_time": "2022-08-15T12:46:00.120Z"
   },
   {
    "duration": 8,
    "start_time": "2022-08-15T12:46:00.589Z"
   },
   {
    "duration": 32,
    "start_time": "2022-08-15T12:46:00.599Z"
   },
   {
    "duration": 257,
    "start_time": "2022-08-15T12:46:00.633Z"
   },
   {
    "duration": 257,
    "start_time": "2022-08-15T12:46:00.894Z"
   },
   {
    "duration": 38,
    "start_time": "2022-08-15T12:46:01.153Z"
   },
   {
    "duration": 41,
    "start_time": "2022-08-15T12:46:01.193Z"
   },
   {
    "duration": 50,
    "start_time": "2022-08-15T12:46:01.236Z"
   },
   {
    "duration": 159,
    "start_time": "2022-08-15T12:46:01.288Z"
   },
   {
    "duration": 5,
    "start_time": "2022-08-15T12:46:01.449Z"
   },
   {
    "duration": 55,
    "start_time": "2022-08-15T12:46:01.458Z"
   },
   {
    "duration": 14,
    "start_time": "2022-08-15T12:46:01.515Z"
   },
   {
    "duration": 11,
    "start_time": "2022-08-15T12:46:01.531Z"
   },
   {
    "duration": 46,
    "start_time": "2022-08-15T12:46:09.084Z"
   },
   {
    "duration": 4,
    "start_time": "2022-08-15T12:48:49.991Z"
   },
   {
    "duration": 22,
    "start_time": "2022-08-15T12:48:55.334Z"
   },
   {
    "duration": 3,
    "start_time": "2022-08-15T13:03:05.144Z"
   },
   {
    "duration": 122,
    "start_time": "2022-08-15T13:10:59.283Z"
   },
   {
    "duration": 66,
    "start_time": "2022-08-15T13:12:17.542Z"
   },
   {
    "duration": 4,
    "start_time": "2022-08-15T13:16:46.550Z"
   },
   {
    "duration": 19,
    "start_time": "2022-08-15T13:16:52.112Z"
   },
   {
    "duration": 31,
    "start_time": "2022-08-15T13:16:59.525Z"
   },
   {
    "duration": 59,
    "start_time": "2022-08-15T16:29:51.736Z"
   },
   {
    "duration": 78,
    "start_time": "2022-08-15T16:30:21.249Z"
   },
   {
    "duration": 59,
    "start_time": "2022-08-15T16:30:27.988Z"
   },
   {
    "duration": 42,
    "start_time": "2022-08-15T16:31:04.740Z"
   },
   {
    "duration": 1232,
    "start_time": "2022-08-15T16:31:11.258Z"
   },
   {
    "duration": 915,
    "start_time": "2022-08-15T16:31:12.493Z"
   },
   {
    "duration": 11,
    "start_time": "2022-08-15T16:31:13.410Z"
   },
   {
    "duration": 16,
    "start_time": "2022-08-15T16:31:13.424Z"
   },
   {
    "duration": 11,
    "start_time": "2022-08-15T16:31:13.442Z"
   },
   {
    "duration": 15,
    "start_time": "2022-08-15T16:31:13.455Z"
   },
   {
    "duration": 15,
    "start_time": "2022-08-15T16:31:13.472Z"
   },
   {
    "duration": 10,
    "start_time": "2022-08-15T16:31:13.488Z"
   },
   {
    "duration": 8,
    "start_time": "2022-08-15T16:31:13.500Z"
   },
   {
    "duration": 10,
    "start_time": "2022-08-15T16:31:13.511Z"
   },
   {
    "duration": 26,
    "start_time": "2022-08-15T16:31:13.522Z"
   },
   {
    "duration": 10,
    "start_time": "2022-08-15T16:31:13.550Z"
   },
   {
    "duration": 42,
    "start_time": "2022-08-15T16:31:13.562Z"
   },
   {
    "duration": 5,
    "start_time": "2022-08-15T16:31:13.606Z"
   },
   {
    "duration": 52,
    "start_time": "2022-08-15T16:31:13.613Z"
   },
   {
    "duration": 26,
    "start_time": "2022-08-15T16:31:13.667Z"
   },
   {
    "duration": 7,
    "start_time": "2022-08-15T16:31:13.695Z"
   },
   {
    "duration": 16,
    "start_time": "2022-08-15T16:31:13.704Z"
   },
   {
    "duration": 24,
    "start_time": "2022-08-15T16:31:13.721Z"
   },
   {
    "duration": 47,
    "start_time": "2022-08-15T16:31:13.746Z"
   },
   {
    "duration": 8,
    "start_time": "2022-08-15T16:31:13.795Z"
   },
   {
    "duration": 20,
    "start_time": "2022-08-15T16:31:13.805Z"
   },
   {
    "duration": 24,
    "start_time": "2022-08-15T16:31:13.827Z"
   },
   {
    "duration": 34,
    "start_time": "2022-08-15T16:31:13.853Z"
   },
   {
    "duration": 8,
    "start_time": "2022-08-15T16:31:13.889Z"
   },
   {
    "duration": 32,
    "start_time": "2022-08-15T16:31:13.899Z"
   },
   {
    "duration": 55,
    "start_time": "2022-08-15T16:31:13.933Z"
   },
   {
    "duration": 17,
    "start_time": "2022-08-15T16:31:13.992Z"
   },
   {
    "duration": 30,
    "start_time": "2022-08-15T16:31:14.011Z"
   },
   {
    "duration": 5,
    "start_time": "2022-08-15T16:31:14.043Z"
   },
   {
    "duration": 5,
    "start_time": "2022-08-15T16:31:14.051Z"
   },
   {
    "duration": 58,
    "start_time": "2022-08-15T16:31:14.058Z"
   },
   {
    "duration": 4,
    "start_time": "2022-08-15T16:31:14.118Z"
   },
   {
    "duration": 6,
    "start_time": "2022-08-15T16:31:14.123Z"
   },
   {
    "duration": 9,
    "start_time": "2022-08-15T16:31:14.131Z"
   },
   {
    "duration": 46,
    "start_time": "2022-08-15T16:31:14.142Z"
   },
   {
    "duration": 5,
    "start_time": "2022-08-15T16:31:14.189Z"
   },
   {
    "duration": 9,
    "start_time": "2022-08-15T16:31:14.195Z"
   },
   {
    "duration": 234,
    "start_time": "2022-08-15T16:31:14.206Z"
   },
   {
    "duration": 220,
    "start_time": "2022-08-15T16:31:14.442Z"
   },
   {
    "duration": 5,
    "start_time": "2022-08-15T16:31:14.663Z"
   },
   {
    "duration": 23,
    "start_time": "2022-08-15T16:31:14.669Z"
   },
   {
    "duration": 231,
    "start_time": "2022-08-15T16:31:14.693Z"
   },
   {
    "duration": 6,
    "start_time": "2022-08-15T16:31:14.926Z"
   },
   {
    "duration": 8,
    "start_time": "2022-08-15T16:31:14.933Z"
   },
   {
    "duration": 132,
    "start_time": "2022-08-15T16:31:14.943Z"
   },
   {
    "duration": 219,
    "start_time": "2022-08-15T16:31:15.077Z"
   },
   {
    "duration": 33,
    "start_time": "2022-08-15T16:31:15.298Z"
   },
   {
    "duration": 9,
    "start_time": "2022-08-15T16:31:15.332Z"
   },
   {
    "duration": 248,
    "start_time": "2022-08-15T16:31:15.342Z"
   },
   {
    "duration": 6,
    "start_time": "2022-08-15T16:31:15.592Z"
   },
   {
    "duration": 10,
    "start_time": "2022-08-15T16:31:15.599Z"
   },
   {
    "duration": 163,
    "start_time": "2022-08-15T16:31:15.611Z"
   },
   {
    "duration": 12,
    "start_time": "2022-08-15T16:31:15.776Z"
   },
   {
    "duration": 221,
    "start_time": "2022-08-15T16:31:15.789Z"
   },
   {
    "duration": 5,
    "start_time": "2022-08-15T16:31:16.012Z"
   },
   {
    "duration": 26,
    "start_time": "2022-08-15T16:31:16.019Z"
   },
   {
    "duration": 364,
    "start_time": "2022-08-15T16:31:16.047Z"
   },
   {
    "duration": 7,
    "start_time": "2022-08-15T16:31:16.413Z"
   },
   {
    "duration": 19,
    "start_time": "2022-08-15T16:31:16.422Z"
   },
   {
    "duration": 156,
    "start_time": "2022-08-15T16:31:16.443Z"
   },
   {
    "duration": 234,
    "start_time": "2022-08-15T16:31:16.601Z"
   },
   {
    "duration": 19,
    "start_time": "2022-08-15T16:31:16.837Z"
   },
   {
    "duration": 6,
    "start_time": "2022-08-15T16:31:16.858Z"
   },
   {
    "duration": 25,
    "start_time": "2022-08-15T16:31:16.866Z"
   },
   {
    "duration": 120,
    "start_time": "2022-08-15T16:31:16.892Z"
   },
   {
    "duration": 5,
    "start_time": "2022-08-15T16:31:17.014Z"
   },
   {
    "duration": 12,
    "start_time": "2022-08-15T16:31:17.021Z"
   },
   {
    "duration": 10,
    "start_time": "2022-08-15T16:31:17.035Z"
   },
   {
    "duration": 6,
    "start_time": "2022-08-15T16:31:17.046Z"
   },
   {
    "duration": 18,
    "start_time": "2022-08-15T16:31:43.870Z"
   },
   {
    "duration": 4,
    "start_time": "2022-08-15T16:32:05.187Z"
   },
   {
    "duration": 16,
    "start_time": "2022-08-15T16:32:25.654Z"
   },
   {
    "duration": 5,
    "start_time": "2022-08-15T16:32:43.673Z"
   },
   {
    "duration": 62,
    "start_time": "2022-08-15T16:32:51.739Z"
   },
   {
    "duration": 19,
    "start_time": "2022-08-15T16:32:58.594Z"
   },
   {
    "duration": 21,
    "start_time": "2022-08-15T16:33:06.377Z"
   },
   {
    "duration": 15,
    "start_time": "2022-08-15T16:33:20.456Z"
   },
   {
    "duration": 15,
    "start_time": "2022-08-15T16:33:33.452Z"
   },
   {
    "duration": 4,
    "start_time": "2022-08-15T16:33:37.845Z"
   },
   {
    "duration": 324,
    "start_time": "2022-08-15T16:33:37.851Z"
   },
   {
    "duration": 11,
    "start_time": "2022-08-15T16:33:38.177Z"
   },
   {
    "duration": 11,
    "start_time": "2022-08-15T16:33:38.189Z"
   },
   {
    "duration": 13,
    "start_time": "2022-08-15T16:33:38.202Z"
   },
   {
    "duration": 16,
    "start_time": "2022-08-15T16:33:38.217Z"
   },
   {
    "duration": 11,
    "start_time": "2022-08-15T16:33:38.234Z"
   },
   {
    "duration": 17,
    "start_time": "2022-08-15T16:33:38.247Z"
   },
   {
    "duration": 4,
    "start_time": "2022-08-15T16:33:38.287Z"
   },
   {
    "duration": 8,
    "start_time": "2022-08-15T16:33:38.293Z"
   },
   {
    "duration": 19,
    "start_time": "2022-08-15T16:33:38.305Z"
   },
   {
    "duration": 9,
    "start_time": "2022-08-15T16:33:38.327Z"
   },
   {
    "duration": 22,
    "start_time": "2022-08-15T16:33:38.338Z"
   },
   {
    "duration": 27,
    "start_time": "2022-08-15T16:33:38.362Z"
   },
   {
    "duration": 43,
    "start_time": "2022-08-15T16:33:38.391Z"
   },
   {
    "duration": 15,
    "start_time": "2022-08-15T16:33:38.436Z"
   },
   {
    "duration": 8,
    "start_time": "2022-08-15T16:33:38.453Z"
   },
   {
    "duration": 13,
    "start_time": "2022-08-15T16:33:38.487Z"
   },
   {
    "duration": 25,
    "start_time": "2022-08-15T16:33:38.502Z"
   },
   {
    "duration": 18,
    "start_time": "2022-08-15T16:33:38.529Z"
   },
   {
    "duration": 37,
    "start_time": "2022-08-15T16:33:38.549Z"
   },
   {
    "duration": 18,
    "start_time": "2022-08-15T16:33:38.587Z"
   },
   {
    "duration": 23,
    "start_time": "2022-08-15T16:33:38.606Z"
   },
   {
    "duration": 12,
    "start_time": "2022-08-15T16:33:38.631Z"
   },
   {
    "duration": 8,
    "start_time": "2022-08-15T16:33:38.645Z"
   },
   {
    "duration": 56,
    "start_time": "2022-08-15T16:33:38.654Z"
   },
   {
    "duration": 37,
    "start_time": "2022-08-15T16:33:38.712Z"
   },
   {
    "duration": 17,
    "start_time": "2022-08-15T16:33:38.750Z"
   },
   {
    "duration": 40,
    "start_time": "2022-08-15T16:33:38.770Z"
   },
   {
    "duration": 26,
    "start_time": "2022-08-15T16:34:03.399Z"
   },
   {
    "duration": 16,
    "start_time": "2022-08-15T16:34:04.035Z"
   },
   {
    "duration": 15,
    "start_time": "2022-08-15T16:34:15.263Z"
   },
   {
    "duration": 14,
    "start_time": "2022-08-15T16:34:20.239Z"
   },
   {
    "duration": 8,
    "start_time": "2022-08-15T16:34:57.841Z"
   },
   {
    "duration": 23,
    "start_time": "2022-08-15T16:35:06.049Z"
   },
   {
    "duration": 6,
    "start_time": "2022-08-15T16:35:22.675Z"
   },
   {
    "duration": 3,
    "start_time": "2022-08-15T16:35:28.842Z"
   },
   {
    "duration": 30,
    "start_time": "2022-08-15T16:35:29.399Z"
   },
   {
    "duration": 4,
    "start_time": "2022-08-15T16:35:37.650Z"
   },
   {
    "duration": 4,
    "start_time": "2022-08-15T16:35:38.110Z"
   },
   {
    "duration": 8,
    "start_time": "2022-08-15T16:35:38.754Z"
   },
   {
    "duration": 38,
    "start_time": "2022-08-15T16:35:39.594Z"
   },
   {
    "duration": 4,
    "start_time": "2022-08-15T16:35:44.938Z"
   },
   {
    "duration": 7,
    "start_time": "2022-08-15T16:35:46.010Z"
   },
   {
    "duration": 5,
    "start_time": "2022-08-15T16:36:48.983Z"
   },
   {
    "duration": 218,
    "start_time": "2022-08-15T16:36:52.361Z"
   },
   {
    "duration": 191,
    "start_time": "2022-08-15T16:37:07.399Z"
   },
   {
    "duration": 5,
    "start_time": "2022-08-15T16:37:10.031Z"
   },
   {
    "duration": 10,
    "start_time": "2022-08-15T16:37:10.651Z"
   },
   {
    "duration": 239,
    "start_time": "2022-08-15T16:37:11.906Z"
   },
   {
    "duration": 5,
    "start_time": "2022-08-15T16:38:22.256Z"
   },
   {
    "duration": 6,
    "start_time": "2022-08-15T16:38:22.737Z"
   },
   {
    "duration": 118,
    "start_time": "2022-08-15T16:38:23.574Z"
   },
   {
    "duration": 189,
    "start_time": "2022-08-15T16:38:27.115Z"
   },
   {
    "duration": 30,
    "start_time": "2022-08-15T16:38:27.961Z"
   },
   {
    "duration": 8,
    "start_time": "2022-08-15T16:38:28.755Z"
   },
   {
    "duration": 302,
    "start_time": "2022-08-15T16:38:29.291Z"
   },
   {
    "duration": 6,
    "start_time": "2022-08-15T16:39:11.619Z"
   },
   {
    "duration": 8,
    "start_time": "2022-08-15T16:39:12.036Z"
   },
   {
    "duration": 134,
    "start_time": "2022-08-15T16:39:12.401Z"
   },
   {
    "duration": 227,
    "start_time": "2022-08-15T16:39:20.541Z"
   },
   {
    "duration": 1351,
    "start_time": "2022-08-15T16:40:05.843Z"
   },
   {
    "duration": 8,
    "start_time": "2022-08-15T16:40:07.555Z"
   },
   {
    "duration": 5,
    "start_time": "2022-08-15T16:40:12.834Z"
   },
   {
    "duration": 9,
    "start_time": "2022-08-15T16:40:13.754Z"
   },
   {
    "duration": 234,
    "start_time": "2022-08-15T16:40:14.467Z"
   },
   {
    "duration": 1145,
    "start_time": "2022-08-15T16:41:16.540Z"
   },
   {
    "duration": 1101,
    "start_time": "2022-08-15T16:41:43.757Z"
   },
   {
    "duration": 3,
    "start_time": "2022-08-15T16:41:49.638Z"
   },
   {
    "duration": 298,
    "start_time": "2022-08-15T16:41:49.643Z"
   },
   {
    "duration": 10,
    "start_time": "2022-08-15T16:41:49.942Z"
   },
   {
    "duration": 14,
    "start_time": "2022-08-15T16:41:49.954Z"
   },
   {
    "duration": 10,
    "start_time": "2022-08-15T16:41:49.969Z"
   },
   {
    "duration": 19,
    "start_time": "2022-08-15T16:41:49.981Z"
   },
   {
    "duration": 21,
    "start_time": "2022-08-15T16:41:50.001Z"
   },
   {
    "duration": 16,
    "start_time": "2022-08-15T16:41:50.024Z"
   },
   {
    "duration": 17,
    "start_time": "2022-08-15T16:41:50.043Z"
   },
   {
    "duration": 14,
    "start_time": "2022-08-15T16:41:50.062Z"
   },
   {
    "duration": 28,
    "start_time": "2022-08-15T16:41:50.078Z"
   },
   {
    "duration": 10,
    "start_time": "2022-08-15T16:41:50.107Z"
   },
   {
    "duration": 23,
    "start_time": "2022-08-15T16:41:50.119Z"
   },
   {
    "duration": 4,
    "start_time": "2022-08-15T16:41:50.144Z"
   },
   {
    "duration": 50,
    "start_time": "2022-08-15T16:41:50.149Z"
   },
   {
    "duration": 14,
    "start_time": "2022-08-15T16:41:50.200Z"
   },
   {
    "duration": 7,
    "start_time": "2022-08-15T16:41:50.215Z"
   },
   {
    "duration": 15,
    "start_time": "2022-08-15T16:41:50.224Z"
   },
   {
    "duration": 22,
    "start_time": "2022-08-15T16:41:50.241Z"
   },
   {
    "duration": 38,
    "start_time": "2022-08-15T16:41:50.264Z"
   },
   {
    "duration": 8,
    "start_time": "2022-08-15T16:41:50.303Z"
   },
   {
    "duration": 18,
    "start_time": "2022-08-15T16:41:50.313Z"
   },
   {
    "duration": 24,
    "start_time": "2022-08-15T16:41:50.333Z"
   },
   {
    "duration": 833,
    "start_time": "2022-08-15T16:41:54.445Z"
   },
   {
    "duration": 1516,
    "start_time": "2022-08-15T16:42:13.899Z"
   },
   {
    "duration": 898,
    "start_time": "2022-08-15T16:42:27.509Z"
   },
   {
    "duration": 4,
    "start_time": "2022-08-15T16:42:49.403Z"
   },
   {
    "duration": 889,
    "start_time": "2022-08-15T16:42:57.587Z"
   },
   {
    "duration": 857,
    "start_time": "2022-08-15T16:43:52.468Z"
   },
   {
    "duration": 1021,
    "start_time": "2022-08-15T16:44:39.400Z"
   },
   {
    "duration": 5,
    "start_time": "2022-08-15T16:45:26.272Z"
   },
   {
    "duration": 3,
    "start_time": "2022-08-15T16:45:38.845Z"
   },
   {
    "duration": 331,
    "start_time": "2022-08-15T16:45:38.850Z"
   },
   {
    "duration": 16,
    "start_time": "2022-08-15T16:45:39.183Z"
   },
   {
    "duration": 15,
    "start_time": "2022-08-15T16:45:39.201Z"
   },
   {
    "duration": 8,
    "start_time": "2022-08-15T16:45:39.219Z"
   },
   {
    "duration": 16,
    "start_time": "2022-08-15T16:45:39.229Z"
   },
   {
    "duration": 11,
    "start_time": "2022-08-15T16:45:39.246Z"
   },
   {
    "duration": 10,
    "start_time": "2022-08-15T16:45:39.259Z"
   },
   {
    "duration": 30,
    "start_time": "2022-08-15T16:45:39.271Z"
   },
   {
    "duration": 9,
    "start_time": "2022-08-15T16:45:39.303Z"
   },
   {
    "duration": 20,
    "start_time": "2022-08-15T16:45:39.314Z"
   },
   {
    "duration": 10,
    "start_time": "2022-08-15T16:45:39.335Z"
   },
   {
    "duration": 27,
    "start_time": "2022-08-15T16:45:39.347Z"
   },
   {
    "duration": 3,
    "start_time": "2022-08-15T16:45:39.376Z"
   },
   {
    "duration": 53,
    "start_time": "2022-08-15T16:45:39.380Z"
   },
   {
    "duration": 14,
    "start_time": "2022-08-15T16:45:39.435Z"
   },
   {
    "duration": 7,
    "start_time": "2022-08-15T16:45:39.450Z"
   },
   {
    "duration": 14,
    "start_time": "2022-08-15T16:45:39.458Z"
   },
   {
    "duration": 42,
    "start_time": "2022-08-15T16:45:39.474Z"
   },
   {
    "duration": 17,
    "start_time": "2022-08-15T16:45:39.517Z"
   },
   {
    "duration": 8,
    "start_time": "2022-08-15T16:45:39.535Z"
   },
   {
    "duration": 22,
    "start_time": "2022-08-15T16:45:39.545Z"
   },
   {
    "duration": 43,
    "start_time": "2022-08-15T16:45:39.568Z"
   },
   {
    "duration": 4,
    "start_time": "2022-08-15T16:45:39.613Z"
   },
   {
    "duration": 14,
    "start_time": "2022-08-15T16:45:39.619Z"
   },
   {
    "duration": 33,
    "start_time": "2022-08-15T16:45:39.635Z"
   },
   {
    "duration": 43,
    "start_time": "2022-08-15T16:45:39.670Z"
   },
   {
    "duration": 17,
    "start_time": "2022-08-15T16:45:39.715Z"
   },
   {
    "duration": 27,
    "start_time": "2022-08-15T16:45:39.735Z"
   },
   {
    "duration": 5,
    "start_time": "2022-08-15T16:45:39.764Z"
   },
   {
    "duration": 7,
    "start_time": "2022-08-15T16:45:39.786Z"
   },
   {
    "duration": 42,
    "start_time": "2022-08-15T16:45:39.794Z"
   },
   {
    "duration": 4,
    "start_time": "2022-08-15T16:45:39.837Z"
   },
   {
    "duration": 6,
    "start_time": "2022-08-15T16:45:39.843Z"
   },
   {
    "duration": 14,
    "start_time": "2022-08-15T16:45:39.850Z"
   },
   {
    "duration": 39,
    "start_time": "2022-08-15T16:45:39.865Z"
   },
   {
    "duration": 4,
    "start_time": "2022-08-15T16:45:39.905Z"
   },
   {
    "duration": 10,
    "start_time": "2022-08-15T16:45:39.910Z"
   },
   {
    "duration": 243,
    "start_time": "2022-08-15T16:45:39.921Z"
   },
   {
    "duration": 216,
    "start_time": "2022-08-15T16:45:40.165Z"
   },
   {
    "duration": 15,
    "start_time": "2022-08-15T16:45:40.382Z"
   },
   {
    "duration": 15,
    "start_time": "2022-08-15T16:45:40.403Z"
   },
   {
    "duration": 232,
    "start_time": "2022-08-15T16:45:40.420Z"
   },
   {
    "duration": 6,
    "start_time": "2022-08-15T16:45:40.653Z"
   },
   {
    "duration": 9,
    "start_time": "2022-08-15T16:45:40.660Z"
   },
   {
    "duration": 128,
    "start_time": "2022-08-15T16:45:40.670Z"
   },
   {
    "duration": 214,
    "start_time": "2022-08-15T16:45:40.800Z"
   },
   {
    "duration": 31,
    "start_time": "2022-08-15T16:45:41.015Z"
   },
   {
    "duration": 9,
    "start_time": "2022-08-15T16:45:41.049Z"
   },
   {
    "duration": 345,
    "start_time": "2022-08-15T16:45:41.059Z"
   },
   {
    "duration": 6,
    "start_time": "2022-08-15T16:45:41.406Z"
   },
   {
    "duration": 8,
    "start_time": "2022-08-15T16:45:41.413Z"
   },
   {
    "duration": 131,
    "start_time": "2022-08-15T16:45:41.422Z"
   },
   {
    "duration": 3,
    "start_time": "2022-08-15T16:45:41.554Z"
   },
   {
    "duration": 211,
    "start_time": "2022-08-15T16:45:41.558Z"
   },
   {
    "duration": 5,
    "start_time": "2022-08-15T16:45:41.771Z"
   },
   {
    "duration": 22,
    "start_time": "2022-08-15T16:45:41.777Z"
   },
   {
    "duration": 236,
    "start_time": "2022-08-15T16:45:41.801Z"
   },
   {
    "duration": 6,
    "start_time": "2022-08-15T16:45:42.038Z"
   },
   {
    "duration": 8,
    "start_time": "2022-08-15T16:45:42.046Z"
   },
   {
    "duration": 141,
    "start_time": "2022-08-15T16:45:42.056Z"
   },
   {
    "duration": 211,
    "start_time": "2022-08-15T16:45:42.199Z"
   },
   {
    "duration": 17,
    "start_time": "2022-08-15T16:45:42.411Z"
   },
   {
    "duration": 5,
    "start_time": "2022-08-15T16:45:42.430Z"
   },
   {
    "duration": 12,
    "start_time": "2022-08-15T16:45:42.437Z"
   },
   {
    "duration": 120,
    "start_time": "2022-08-15T16:45:42.450Z"
   },
   {
    "duration": 5,
    "start_time": "2022-08-15T16:45:42.572Z"
   },
   {
    "duration": 19,
    "start_time": "2022-08-15T16:45:42.586Z"
   },
   {
    "duration": 12,
    "start_time": "2022-08-15T16:45:42.606Z"
   },
   {
    "duration": 5,
    "start_time": "2022-08-15T16:45:42.620Z"
   },
   {
    "duration": 857,
    "start_time": "2022-08-15T16:46:26.697Z"
   },
   {
    "duration": 6,
    "start_time": "2022-08-15T16:48:51.263Z"
   },
   {
    "duration": 5,
    "start_time": "2022-08-15T16:49:05.840Z"
   },
   {
    "duration": 952,
    "start_time": "2022-08-15T16:49:46.068Z"
   },
   {
    "duration": 5,
    "start_time": "2022-08-15T16:50:02.711Z"
   },
   {
    "duration": 10,
    "start_time": "2022-08-15T16:50:03.538Z"
   },
   {
    "duration": 267,
    "start_time": "2022-08-15T16:50:03.985Z"
   },
   {
    "duration": 220,
    "start_time": "2022-08-15T16:50:52.162Z"
   },
   {
    "duration": 475,
    "start_time": "2022-08-15T16:50:56.390Z"
   },
   {
    "duration": 6,
    "start_time": "2022-08-15T16:50:57.972Z"
   },
   {
    "duration": 5,
    "start_time": "2022-08-15T16:50:58.479Z"
   },
   {
    "duration": 127,
    "start_time": "2022-08-15T16:50:59.033Z"
   },
   {
    "duration": 253,
    "start_time": "2022-08-15T16:51:01.975Z"
   },
   {
    "duration": 18,
    "start_time": "2022-08-15T16:51:03.069Z"
   },
   {
    "duration": 7,
    "start_time": "2022-08-15T16:51:04.191Z"
   },
   {
    "duration": 5,
    "start_time": "2022-08-15T16:51:05.539Z"
   },
   {
    "duration": 126,
    "start_time": "2022-08-15T16:51:06.016Z"
   },
   {
    "duration": 12,
    "start_time": "2022-08-15T16:51:10.686Z"
   },
   {
    "duration": 14,
    "start_time": "2022-08-15T16:51:14.570Z"
   },
   {
    "duration": 11,
    "start_time": "2022-08-15T16:51:15.057Z"
   },
   {
    "duration": 8,
    "start_time": "2022-08-15T16:51:16.476Z"
   },
   {
    "duration": 45,
    "start_time": "2022-08-29T23:59:14.464Z"
   },
   {
    "duration": 926,
    "start_time": "2022-08-29T23:59:19.634Z"
   },
   {
    "duration": 782,
    "start_time": "2022-08-29T23:59:20.562Z"
   },
   {
    "duration": 11,
    "start_time": "2022-08-29T23:59:21.346Z"
   },
   {
    "duration": 18,
    "start_time": "2022-08-29T23:59:21.359Z"
   },
   {
    "duration": 9,
    "start_time": "2022-08-29T23:59:21.379Z"
   },
   {
    "duration": 13,
    "start_time": "2022-08-29T23:59:21.389Z"
   },
   {
    "duration": 10,
    "start_time": "2022-08-29T23:59:21.404Z"
   },
   {
    "duration": 13,
    "start_time": "2022-08-29T23:59:21.415Z"
   },
   {
    "duration": 5,
    "start_time": "2022-08-29T23:59:21.429Z"
   },
   {
    "duration": 32,
    "start_time": "2022-08-29T23:59:21.436Z"
   },
   {
    "duration": 24,
    "start_time": "2022-08-29T23:59:21.469Z"
   },
   {
    "duration": 11,
    "start_time": "2022-08-29T23:59:21.495Z"
   },
   {
    "duration": 30,
    "start_time": "2022-08-29T23:59:21.507Z"
   },
   {
    "duration": 4,
    "start_time": "2022-08-29T23:59:21.540Z"
   },
   {
    "duration": 60,
    "start_time": "2022-08-29T23:59:21.545Z"
   },
   {
    "duration": 14,
    "start_time": "2022-08-29T23:59:21.606Z"
   },
   {
    "duration": 8,
    "start_time": "2022-08-29T23:59:21.621Z"
   },
   {
    "duration": 16,
    "start_time": "2022-08-29T23:59:21.630Z"
   },
   {
    "duration": 45,
    "start_time": "2022-08-29T23:59:21.647Z"
   },
   {
    "duration": 16,
    "start_time": "2022-08-29T23:59:21.694Z"
   },
   {
    "duration": 8,
    "start_time": "2022-08-29T23:59:21.711Z"
   },
   {
    "duration": 19,
    "start_time": "2022-08-29T23:59:21.720Z"
   },
   {
    "duration": 47,
    "start_time": "2022-08-29T23:59:21.741Z"
   },
   {
    "duration": 6,
    "start_time": "2022-08-29T23:59:21.789Z"
   },
   {
    "duration": 9,
    "start_time": "2022-08-29T23:59:21.797Z"
   },
   {
    "duration": 29,
    "start_time": "2022-08-29T23:59:21.808Z"
   },
   {
    "duration": 51,
    "start_time": "2022-08-29T23:59:21.839Z"
   },
   {
    "duration": 16,
    "start_time": "2022-08-29T23:59:21.892Z"
   },
   {
    "duration": 26,
    "start_time": "2022-08-29T23:59:21.909Z"
   },
   {
    "duration": 5,
    "start_time": "2022-08-29T23:59:21.937Z"
   },
   {
    "duration": 25,
    "start_time": "2022-08-29T23:59:21.944Z"
   },
   {
    "duration": 34,
    "start_time": "2022-08-29T23:59:21.971Z"
   },
   {
    "duration": 4,
    "start_time": "2022-08-29T23:59:22.006Z"
   },
   {
    "duration": 5,
    "start_time": "2022-08-29T23:59:22.011Z"
   },
   {
    "duration": 9,
    "start_time": "2022-08-29T23:59:22.017Z"
   },
   {
    "duration": 53,
    "start_time": "2022-08-29T23:59:22.028Z"
   },
   {
    "duration": 4,
    "start_time": "2022-08-29T23:59:22.083Z"
   },
   {
    "duration": 6,
    "start_time": "2022-08-29T23:59:22.088Z"
   },
   {
    "duration": 226,
    "start_time": "2022-08-29T23:59:22.095Z"
   },
   {
    "duration": 212,
    "start_time": "2022-08-29T23:59:22.322Z"
   },
   {
    "duration": 4,
    "start_time": "2022-08-29T23:59:22.538Z"
   },
   {
    "duration": 13,
    "start_time": "2022-08-29T23:59:22.544Z"
   },
   {
    "duration": 226,
    "start_time": "2022-08-29T23:59:22.567Z"
   },
   {
    "duration": 6,
    "start_time": "2022-08-29T23:59:22.795Z"
   },
   {
    "duration": 8,
    "start_time": "2022-08-29T23:59:22.802Z"
   },
   {
    "duration": 122,
    "start_time": "2022-08-29T23:59:22.812Z"
   },
   {
    "duration": 214,
    "start_time": "2022-08-29T23:59:22.936Z"
   },
   {
    "duration": 38,
    "start_time": "2022-08-29T23:59:23.152Z"
   },
   {
    "duration": 9,
    "start_time": "2022-08-29T23:59:23.192Z"
   },
   {
    "duration": 233,
    "start_time": "2022-08-29T23:59:23.202Z"
   },
   {
    "duration": 6,
    "start_time": "2022-08-29T23:59:23.436Z"
   },
   {
    "duration": 10,
    "start_time": "2022-08-29T23:59:23.443Z"
   },
   {
    "duration": 138,
    "start_time": "2022-08-29T23:59:23.454Z"
   },
   {
    "duration": 2,
    "start_time": "2022-08-29T23:59:23.593Z"
   },
   {
    "duration": 207,
    "start_time": "2022-08-29T23:59:23.597Z"
   },
   {
    "duration": 4,
    "start_time": "2022-08-29T23:59:23.806Z"
   },
   {
    "duration": 14,
    "start_time": "2022-08-29T23:59:23.812Z"
   },
   {
    "duration": 302,
    "start_time": "2022-08-29T23:59:23.828Z"
   },
   {
    "duration": 6,
    "start_time": "2022-08-29T23:59:24.131Z"
   },
   {
    "duration": 8,
    "start_time": "2022-08-29T23:59:24.138Z"
   },
   {
    "duration": 127,
    "start_time": "2022-08-29T23:59:24.147Z"
   },
   {
    "duration": 211,
    "start_time": "2022-08-29T23:59:24.276Z"
   },
   {
    "duration": 19,
    "start_time": "2022-08-29T23:59:24.489Z"
   },
   {
    "duration": 6,
    "start_time": "2022-08-29T23:59:24.510Z"
   },
   {
    "duration": 7,
    "start_time": "2022-08-29T23:59:24.517Z"
   },
   {
    "duration": 133,
    "start_time": "2022-08-29T23:59:24.525Z"
   },
   {
    "duration": 4,
    "start_time": "2022-08-29T23:59:24.668Z"
   },
   {
    "duration": 12,
    "start_time": "2022-08-29T23:59:24.674Z"
   },
   {
    "duration": 12,
    "start_time": "2022-08-29T23:59:37.282Z"
   },
   {
    "duration": 18,
    "start_time": "2022-08-29T23:59:37.432Z"
   }
  ],
  "kernelspec": {
   "display_name": "Python 3 (ipykernel)",
   "language": "python",
   "name": "python3"
  },
  "language_info": {
   "codemirror_mode": {
    "name": "ipython",
    "version": 3
   },
   "file_extension": ".py",
   "mimetype": "text/x-python",
   "name": "python",
   "nbconvert_exporter": "python",
   "pygments_lexer": "ipython3",
   "version": "3.9.5"
  },
  "toc": {
   "base_numbering": 1,
   "nav_menu": {},
   "number_sections": true,
   "sideBar": true,
   "skip_h1_title": false,
   "title_cell": "Table of Contents",
   "title_sidebar": "Contents",
   "toc_cell": false,
   "toc_position": {},
   "toc_section_display": true,
   "toc_window_display": true
  }
 },
 "nbformat": 4,
 "nbformat_minor": 2
}
