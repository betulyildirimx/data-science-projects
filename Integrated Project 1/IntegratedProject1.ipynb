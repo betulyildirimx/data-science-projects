{
 "cells": [
  {
   "cell_type": "markdown",
   "metadata": {},
   "source": [
    "# Project description\n",
    "\n",
    "The online store Ice sells video games all over the world. User and expert reviews, genres, platforms (e.g. Xbox or PlayStation), and historical data on game sales are available from open sources. You need to identify patterns that determine whether a game succeeds or not. This will allow you to spot potential big winners and plan advertising campaigns.\n",
    "In front of you is data going back to 2016. Let’s imagine that it’s December 2016 and you’re planning a campaign for 2017.\n",
    "The dataset contains the abbreviation ESRB. The Entertainment Software Rating Board evaluates a game's content and assigns an age rating such as Teen or Mature.\n",
    "\n",
    "# Data description\n",
    "\n",
    "- Name\n",
    "- Platform\n",
    "- Year_of_Release\n",
    "- Genre\n",
    "- NA_sales (North American sales in USD million)\n",
    "- EU_sales (sales in Europe in USD million)\n",
    "- JP_sales (sales in Japan in USD million)\n",
    "- Other_sales (sales in other countries in USD million)\n",
    "- Critic_Score (maximum of 100)"
   ]
  },
  {
   "cell_type": "code",
   "execution_count": 1,
   "metadata": {},
   "outputs": [],
   "source": [
    "import pandas as pd\n",
    "import numpy as np\n",
    "from scipy import stats as st\n",
    "from matplotlib import pyplot as plt\n",
    "import math"
   ]
  },
  {
   "cell_type": "markdown",
   "metadata": {},
   "source": [
    "## Data Preparetion"
   ]
  },
  {
   "cell_type": "code",
   "execution_count": 2,
   "metadata": {},
   "outputs": [],
   "source": [
    "try:\n",
    "    data = pd.read_csv('games.csv')\n",
    "except:\n",
    "    data = pd.read_csv('/datasets/games.csv')"
   ]
  },
  {
   "cell_type": "code",
   "execution_count": 3,
   "metadata": {},
   "outputs": [
    {
     "name": "stdout",
     "output_type": "stream",
     "text": [
      "<class 'pandas.core.frame.DataFrame'>\n",
      "RangeIndex: 16715 entries, 0 to 16714\n",
      "Data columns (total 11 columns):\n",
      " #   Column           Non-Null Count  Dtype  \n",
      "---  ------           --------------  -----  \n",
      " 0   Name             16713 non-null  object \n",
      " 1   Platform         16715 non-null  object \n",
      " 2   Year_of_Release  16446 non-null  float64\n",
      " 3   Genre            16713 non-null  object \n",
      " 4   NA_sales         16715 non-null  float64\n",
      " 5   EU_sales         16715 non-null  float64\n",
      " 6   JP_sales         16715 non-null  float64\n",
      " 7   Other_sales      16715 non-null  float64\n",
      " 8   Critic_Score     8137 non-null   float64\n",
      " 9   User_Score       10014 non-null  object \n",
      " 10  Rating           9949 non-null   object \n",
      "dtypes: float64(6), object(5)\n",
      "memory usage: 1.4+ MB\n"
     ]
    }
   ],
   "source": [
    "data.info()"
   ]
  },
  {
   "cell_type": "code",
   "execution_count": 4,
   "metadata": {},
   "outputs": [
    {
     "data": {
      "text/html": [
       "<div>\n",
       "<style scoped>\n",
       "    .dataframe tbody tr th:only-of-type {\n",
       "        vertical-align: middle;\n",
       "    }\n",
       "\n",
       "    .dataframe tbody tr th {\n",
       "        vertical-align: top;\n",
       "    }\n",
       "\n",
       "    .dataframe thead th {\n",
       "        text-align: right;\n",
       "    }\n",
       "</style>\n",
       "<table border=\"1\" class=\"dataframe\">\n",
       "  <thead>\n",
       "    <tr style=\"text-align: right;\">\n",
       "      <th></th>\n",
       "      <th>Name</th>\n",
       "      <th>Platform</th>\n",
       "      <th>Year_of_Release</th>\n",
       "      <th>Genre</th>\n",
       "      <th>NA_sales</th>\n",
       "      <th>EU_sales</th>\n",
       "      <th>JP_sales</th>\n",
       "      <th>Other_sales</th>\n",
       "      <th>Critic_Score</th>\n",
       "      <th>User_Score</th>\n",
       "      <th>Rating</th>\n",
       "    </tr>\n",
       "  </thead>\n",
       "  <tbody>\n",
       "    <tr>\n",
       "      <th>0</th>\n",
       "      <td>Wii Sports</td>\n",
       "      <td>Wii</td>\n",
       "      <td>2006.0</td>\n",
       "      <td>Sports</td>\n",
       "      <td>41.36</td>\n",
       "      <td>28.96</td>\n",
       "      <td>3.77</td>\n",
       "      <td>8.45</td>\n",
       "      <td>76.0</td>\n",
       "      <td>8</td>\n",
       "      <td>E</td>\n",
       "    </tr>\n",
       "    <tr>\n",
       "      <th>1</th>\n",
       "      <td>Super Mario Bros.</td>\n",
       "      <td>NES</td>\n",
       "      <td>1985.0</td>\n",
       "      <td>Platform</td>\n",
       "      <td>29.08</td>\n",
       "      <td>3.58</td>\n",
       "      <td>6.81</td>\n",
       "      <td>0.77</td>\n",
       "      <td>NaN</td>\n",
       "      <td>NaN</td>\n",
       "      <td>NaN</td>\n",
       "    </tr>\n",
       "    <tr>\n",
       "      <th>2</th>\n",
       "      <td>Mario Kart Wii</td>\n",
       "      <td>Wii</td>\n",
       "      <td>2008.0</td>\n",
       "      <td>Racing</td>\n",
       "      <td>15.68</td>\n",
       "      <td>12.76</td>\n",
       "      <td>3.79</td>\n",
       "      <td>3.29</td>\n",
       "      <td>82.0</td>\n",
       "      <td>8.3</td>\n",
       "      <td>E</td>\n",
       "    </tr>\n",
       "    <tr>\n",
       "      <th>3</th>\n",
       "      <td>Wii Sports Resort</td>\n",
       "      <td>Wii</td>\n",
       "      <td>2009.0</td>\n",
       "      <td>Sports</td>\n",
       "      <td>15.61</td>\n",
       "      <td>10.93</td>\n",
       "      <td>3.28</td>\n",
       "      <td>2.95</td>\n",
       "      <td>80.0</td>\n",
       "      <td>8</td>\n",
       "      <td>E</td>\n",
       "    </tr>\n",
       "    <tr>\n",
       "      <th>4</th>\n",
       "      <td>Pokemon Red/Pokemon Blue</td>\n",
       "      <td>GB</td>\n",
       "      <td>1996.0</td>\n",
       "      <td>Role-Playing</td>\n",
       "      <td>11.27</td>\n",
       "      <td>8.89</td>\n",
       "      <td>10.22</td>\n",
       "      <td>1.00</td>\n",
       "      <td>NaN</td>\n",
       "      <td>NaN</td>\n",
       "      <td>NaN</td>\n",
       "    </tr>\n",
       "    <tr>\n",
       "      <th>5</th>\n",
       "      <td>Tetris</td>\n",
       "      <td>GB</td>\n",
       "      <td>1989.0</td>\n",
       "      <td>Puzzle</td>\n",
       "      <td>23.20</td>\n",
       "      <td>2.26</td>\n",
       "      <td>4.22</td>\n",
       "      <td>0.58</td>\n",
       "      <td>NaN</td>\n",
       "      <td>NaN</td>\n",
       "      <td>NaN</td>\n",
       "    </tr>\n",
       "    <tr>\n",
       "      <th>6</th>\n",
       "      <td>New Super Mario Bros.</td>\n",
       "      <td>DS</td>\n",
       "      <td>2006.0</td>\n",
       "      <td>Platform</td>\n",
       "      <td>11.28</td>\n",
       "      <td>9.14</td>\n",
       "      <td>6.50</td>\n",
       "      <td>2.88</td>\n",
       "      <td>89.0</td>\n",
       "      <td>8.5</td>\n",
       "      <td>E</td>\n",
       "    </tr>\n",
       "    <tr>\n",
       "      <th>7</th>\n",
       "      <td>Wii Play</td>\n",
       "      <td>Wii</td>\n",
       "      <td>2006.0</td>\n",
       "      <td>Misc</td>\n",
       "      <td>13.96</td>\n",
       "      <td>9.18</td>\n",
       "      <td>2.93</td>\n",
       "      <td>2.84</td>\n",
       "      <td>58.0</td>\n",
       "      <td>6.6</td>\n",
       "      <td>E</td>\n",
       "    </tr>\n",
       "    <tr>\n",
       "      <th>8</th>\n",
       "      <td>New Super Mario Bros. Wii</td>\n",
       "      <td>Wii</td>\n",
       "      <td>2009.0</td>\n",
       "      <td>Platform</td>\n",
       "      <td>14.44</td>\n",
       "      <td>6.94</td>\n",
       "      <td>4.70</td>\n",
       "      <td>2.24</td>\n",
       "      <td>87.0</td>\n",
       "      <td>8.4</td>\n",
       "      <td>E</td>\n",
       "    </tr>\n",
       "    <tr>\n",
       "      <th>9</th>\n",
       "      <td>Duck Hunt</td>\n",
       "      <td>NES</td>\n",
       "      <td>1984.0</td>\n",
       "      <td>Shooter</td>\n",
       "      <td>26.93</td>\n",
       "      <td>0.63</td>\n",
       "      <td>0.28</td>\n",
       "      <td>0.47</td>\n",
       "      <td>NaN</td>\n",
       "      <td>NaN</td>\n",
       "      <td>NaN</td>\n",
       "    </tr>\n",
       "  </tbody>\n",
       "</table>\n",
       "</div>"
      ],
      "text/plain": [
       "                        Name Platform  Year_of_Release         Genre  \\\n",
       "0                 Wii Sports      Wii           2006.0        Sports   \n",
       "1          Super Mario Bros.      NES           1985.0      Platform   \n",
       "2             Mario Kart Wii      Wii           2008.0        Racing   \n",
       "3          Wii Sports Resort      Wii           2009.0        Sports   \n",
       "4   Pokemon Red/Pokemon Blue       GB           1996.0  Role-Playing   \n",
       "5                     Tetris       GB           1989.0        Puzzle   \n",
       "6      New Super Mario Bros.       DS           2006.0      Platform   \n",
       "7                   Wii Play      Wii           2006.0          Misc   \n",
       "8  New Super Mario Bros. Wii      Wii           2009.0      Platform   \n",
       "9                  Duck Hunt      NES           1984.0       Shooter   \n",
       "\n",
       "   NA_sales  EU_sales  JP_sales  Other_sales  Critic_Score User_Score Rating  \n",
       "0     41.36     28.96      3.77         8.45          76.0          8      E  \n",
       "1     29.08      3.58      6.81         0.77           NaN        NaN    NaN  \n",
       "2     15.68     12.76      3.79         3.29          82.0        8.3      E  \n",
       "3     15.61     10.93      3.28         2.95          80.0          8      E  \n",
       "4     11.27      8.89     10.22         1.00           NaN        NaN    NaN  \n",
       "5     23.20      2.26      4.22         0.58           NaN        NaN    NaN  \n",
       "6     11.28      9.14      6.50         2.88          89.0        8.5      E  \n",
       "7     13.96      9.18      2.93         2.84          58.0        6.6      E  \n",
       "8     14.44      6.94      4.70         2.24          87.0        8.4      E  \n",
       "9     26.93      0.63      0.28         0.47           NaN        NaN    NaN  "
      ]
     },
     "execution_count": 4,
     "metadata": {},
     "output_type": "execute_result"
    }
   ],
   "source": [
    "data.head(10)"
   ]
  },
  {
   "cell_type": "code",
   "execution_count": 5,
   "metadata": {},
   "outputs": [],
   "source": [
    "data.columns = data.columns.str.lower()"
   ]
  },
  {
   "cell_type": "code",
   "execution_count": 6,
   "metadata": {},
   "outputs": [],
   "source": [
    "data['user_score'].replace('tbd', 0.0, inplace=True)"
   ]
  },
  {
   "cell_type": "markdown",
   "metadata": {},
   "source": [
    "I replaced all tbd values in user_score column with 0.0 to be able work with the data. I checked if there is any values with 0.0 before replacing as they could have been confused with each other."
   ]
  },
  {
   "cell_type": "code",
   "execution_count": 7,
   "metadata": {},
   "outputs": [],
   "source": [
    "data['user_score'] = data['user_score'].astype('float')"
   ]
  },
  {
   "cell_type": "code",
   "execution_count": 8,
   "metadata": {
    "scrolled": true
   },
   "outputs": [
    {
     "data": {
      "text/plain": [
       "name                0.011965\n",
       "platform            0.000000\n",
       "year_of_release     1.609333\n",
       "genre               0.011965\n",
       "na_sales            0.000000\n",
       "eu_sales            0.000000\n",
       "jp_sales            0.000000\n",
       "other_sales         0.000000\n",
       "critic_score       51.319174\n",
       "user_score         40.089740\n",
       "rating             40.478612\n",
       "dtype: float64"
      ]
     },
     "execution_count": 8,
     "metadata": {},
     "output_type": "execute_result"
    }
   ],
   "source": [
    "data.isna().sum() *100 / len(data) "
   ]
  },
  {
   "cell_type": "markdown",
   "metadata": {},
   "source": [
    "I will drop the missing values in year_of_release column to be able to change the data type to integer. I will be droppping only 1.6% of the value which isn't significant. "
   ]
  },
  {
   "cell_type": "code",
   "execution_count": 9,
   "metadata": {},
   "outputs": [],
   "source": [
    "data.dropna(subset= ['year_of_release'], inplace=True)"
   ]
  },
  {
   "cell_type": "code",
   "execution_count": 10,
   "metadata": {},
   "outputs": [],
   "source": [
    "data['year_of_release'] = data['year_of_release'].astype(int)"
   ]
  },
  {
   "cell_type": "markdown",
   "metadata": {},
   "source": [
    "Most of the missing values are in either critic_score, user_score, or rating column. It could be due to having no score or rating which is why I will leave them as blank."
   ]
  },
  {
   "cell_type": "code",
   "execution_count": 11,
   "metadata": {},
   "outputs": [],
   "source": [
    "data.dropna(subset= ['name','genre'], inplace=True)"
   ]
  },
  {
   "cell_type": "code",
   "execution_count": 12,
   "metadata": {},
   "outputs": [],
   "source": [
    "data['rating'].fillna('unknown', inplace=True)"
   ]
  },
  {
   "cell_type": "code",
   "execution_count": 13,
   "metadata": {},
   "outputs": [],
   "source": [
    "data['total_sales'] = data[['na_sales','eu_sales','jp_sales','other_sales']].sum(axis=1)"
   ]
  },
  {
   "cell_type": "code",
   "execution_count": 14,
   "metadata": {},
   "outputs": [
    {
     "name": "stdout",
     "output_type": "stream",
     "text": [
      "<class 'pandas.core.frame.DataFrame'>\n",
      "Int64Index: 16444 entries, 0 to 16714\n",
      "Data columns (total 12 columns):\n",
      " #   Column           Non-Null Count  Dtype  \n",
      "---  ------           --------------  -----  \n",
      " 0   name             16444 non-null  object \n",
      " 1   platform         16444 non-null  object \n",
      " 2   year_of_release  16444 non-null  int64  \n",
      " 3   genre            16444 non-null  object \n",
      " 4   na_sales         16444 non-null  float64\n",
      " 5   eu_sales         16444 non-null  float64\n",
      " 6   jp_sales         16444 non-null  float64\n",
      " 7   other_sales      16444 non-null  float64\n",
      " 8   critic_score     7983 non-null   float64\n",
      " 9   user_score       9839 non-null   float64\n",
      " 10  rating           16444 non-null  object \n",
      " 11  total_sales      16444 non-null  float64\n",
      "dtypes: float64(7), int64(1), object(4)\n",
      "memory usage: 1.6+ MB\n"
     ]
    }
   ],
   "source": [
    "data.info()"
   ]
  },
  {
   "cell_type": "markdown",
   "metadata": {},
   "source": [
    "## Analyzing the data"
   ]
  },
  {
   "cell_type": "code",
   "execution_count": 15,
   "metadata": {},
   "outputs": [],
   "source": [
    "year_size = data.groupby('year_of_release').agg('size').div(len(data)) * 100"
   ]
  },
  {
   "cell_type": "code",
   "execution_count": 16,
   "metadata": {},
   "outputs": [
    {
     "data": {
      "text/plain": [
       "<AxesSubplot:title={'center':'Percentage of Games Released Per Year'}, xlabel='year_of_release'>"
      ]
     },
     "execution_count": 16,
     "metadata": {},
     "output_type": "execute_result"
    },
    {
     "data": {
      "image/png": "[encoded data removed]",
      "text/plain": [
       "<Figure size 1080x504 with 1 Axes>"
      ]
     },
     "metadata": {
      "needs_background": "light"
     },
     "output_type": "display_data"
    }
   ],
   "source": [
    "year_size.plot(kind='bar', figsize=(15,7), title='Percentage of Games Released Per Year')"
   ]
  },
  {
   "cell_type": "markdown",
   "metadata": {},
   "source": [
    "Most of the data from 2000 and before are not significant. "
   ]
  },
  {
   "cell_type": "code",
   "execution_count": 17,
   "metadata": {},
   "outputs": [
    {
     "data": {
      "text/html": [
       "<div>\n",
       "<style scoped>\n",
       "    .dataframe tbody tr th:only-of-type {\n",
       "        vertical-align: middle;\n",
       "    }\n",
       "\n",
       "    .dataframe tbody tr th {\n",
       "        vertical-align: top;\n",
       "    }\n",
       "\n",
       "    .dataframe thead th {\n",
       "        text-align: right;\n",
       "    }\n",
       "</style>\n",
       "<table border=\"1\" class=\"dataframe\">\n",
       "  <thead>\n",
       "    <tr style=\"text-align: right;\">\n",
       "      <th></th>\n",
       "      <th>total_sales</th>\n",
       "    </tr>\n",
       "    <tr>\n",
       "      <th>platform</th>\n",
       "      <th></th>\n",
       "    </tr>\n",
       "  </thead>\n",
       "  <tbody>\n",
       "    <tr>\n",
       "      <th>PS2</th>\n",
       "      <td>1233.56</td>\n",
       "    </tr>\n",
       "    <tr>\n",
       "      <th>X360</th>\n",
       "      <td>961.24</td>\n",
       "    </tr>\n",
       "    <tr>\n",
       "      <th>PS3</th>\n",
       "      <td>931.34</td>\n",
       "    </tr>\n",
       "    <tr>\n",
       "      <th>Wii</th>\n",
       "      <td>891.18</td>\n",
       "    </tr>\n",
       "    <tr>\n",
       "      <th>DS</th>\n",
       "      <td>802.78</td>\n",
       "    </tr>\n",
       "    <tr>\n",
       "      <th>PS</th>\n",
       "      <td>727.58</td>\n",
       "    </tr>\n",
       "    <tr>\n",
       "      <th>PS4</th>\n",
       "      <td>314.14</td>\n",
       "    </tr>\n",
       "    <tr>\n",
       "      <th>GBA</th>\n",
       "      <td>312.88</td>\n",
       "    </tr>\n",
       "    <tr>\n",
       "      <th>PSP</th>\n",
       "      <td>289.53</td>\n",
       "    </tr>\n",
       "    <tr>\n",
       "      <th>3DS</th>\n",
       "      <td>257.81</td>\n",
       "    </tr>\n",
       "    <tr>\n",
       "      <th>PC</th>\n",
       "      <td>255.76</td>\n",
       "    </tr>\n",
       "    <tr>\n",
       "      <th>GB</th>\n",
       "      <td>254.43</td>\n",
       "    </tr>\n",
       "    <tr>\n",
       "      <th>XB</th>\n",
       "      <td>251.57</td>\n",
       "    </tr>\n",
       "    <tr>\n",
       "      <th>NES</th>\n",
       "      <td>251.05</td>\n",
       "    </tr>\n",
       "    <tr>\n",
       "      <th>N64</th>\n",
       "      <td>218.01</td>\n",
       "    </tr>\n",
       "    <tr>\n",
       "      <th>SNES</th>\n",
       "      <td>200.04</td>\n",
       "    </tr>\n",
       "    <tr>\n",
       "      <th>GC</th>\n",
       "      <td>196.73</td>\n",
       "    </tr>\n",
       "    <tr>\n",
       "      <th>XOne</th>\n",
       "      <td>159.32</td>\n",
       "    </tr>\n",
       "    <tr>\n",
       "      <th>2600</th>\n",
       "      <td>86.48</td>\n",
       "    </tr>\n",
       "    <tr>\n",
       "      <th>WiiU</th>\n",
       "      <td>82.19</td>\n",
       "    </tr>\n",
       "    <tr>\n",
       "      <th>PSV</th>\n",
       "      <td>53.81</td>\n",
       "    </tr>\n",
       "    <tr>\n",
       "      <th>SAT</th>\n",
       "      <td>33.59</td>\n",
       "    </tr>\n",
       "    <tr>\n",
       "      <th>GEN</th>\n",
       "      <td>28.35</td>\n",
       "    </tr>\n",
       "    <tr>\n",
       "      <th>DC</th>\n",
       "      <td>15.95</td>\n",
       "    </tr>\n",
       "    <tr>\n",
       "      <th>SCD</th>\n",
       "      <td>1.86</td>\n",
       "    </tr>\n",
       "    <tr>\n",
       "      <th>NG</th>\n",
       "      <td>1.44</td>\n",
       "    </tr>\n",
       "    <tr>\n",
       "      <th>WS</th>\n",
       "      <td>1.42</td>\n",
       "    </tr>\n",
       "    <tr>\n",
       "      <th>TG16</th>\n",
       "      <td>0.16</td>\n",
       "    </tr>\n",
       "    <tr>\n",
       "      <th>3DO</th>\n",
       "      <td>0.10</td>\n",
       "    </tr>\n",
       "    <tr>\n",
       "      <th>GG</th>\n",
       "      <td>0.04</td>\n",
       "    </tr>\n",
       "    <tr>\n",
       "      <th>PCFX</th>\n",
       "      <td>0.03</td>\n",
       "    </tr>\n",
       "  </tbody>\n",
       "</table>\n",
       "</div>"
      ],
      "text/plain": [
       "          total_sales\n",
       "platform             \n",
       "PS2           1233.56\n",
       "X360           961.24\n",
       "PS3            931.34\n",
       "Wii            891.18\n",
       "DS             802.78\n",
       "PS             727.58\n",
       "PS4            314.14\n",
       "GBA            312.88\n",
       "PSP            289.53\n",
       "3DS            257.81\n",
       "PC             255.76\n",
       "GB             254.43\n",
       "XB             251.57\n",
       "NES            251.05\n",
       "N64            218.01\n",
       "SNES           200.04\n",
       "GC             196.73\n",
       "XOne           159.32\n",
       "2600            86.48\n",
       "WiiU            82.19\n",
       "PSV             53.81\n",
       "SAT             33.59\n",
       "GEN             28.35\n",
       "DC              15.95\n",
       "SCD              1.86\n",
       "NG               1.44\n",
       "WS               1.42\n",
       "TG16             0.16\n",
       "3DO              0.10\n",
       "GG               0.04\n",
       "PCFX             0.03"
      ]
     },
     "execution_count": 17,
     "metadata": {},
     "output_type": "execute_result"
    }
   ],
   "source": [
    "data\\\n",
    "    .pivot_table(index='platform',values='total_sales', aggfunc='sum')\\\n",
    "    .sort_values(by='total_sales', ascending=False)"
   ]
  },
  {
   "cell_type": "code",
   "execution_count": 18,
   "metadata": {},
   "outputs": [
    {
     "data": {
      "text/html": [
       "<div>\n",
       "<style scoped>\n",
       "    .dataframe tbody tr th:only-of-type {\n",
       "        vertical-align: middle;\n",
       "    }\n",
       "\n",
       "    .dataframe tbody tr th {\n",
       "        vertical-align: top;\n",
       "    }\n",
       "\n",
       "    .dataframe thead th {\n",
       "        text-align: right;\n",
       "    }\n",
       "</style>\n",
       "<table border=\"1\" class=\"dataframe\">\n",
       "  <thead>\n",
       "    <tr style=\"text-align: right;\">\n",
       "      <th>year_of_release</th>\n",
       "      <th>2000</th>\n",
       "      <th>2001</th>\n",
       "      <th>2002</th>\n",
       "      <th>2003</th>\n",
       "      <th>2004</th>\n",
       "      <th>2005</th>\n",
       "      <th>2006</th>\n",
       "      <th>2007</th>\n",
       "      <th>2008</th>\n",
       "      <th>2009</th>\n",
       "      <th>2010</th>\n",
       "      <th>2011</th>\n",
       "      <th>2012</th>\n",
       "      <th>2013</th>\n",
       "      <th>2014</th>\n",
       "      <th>2015</th>\n",
       "      <th>2016</th>\n",
       "    </tr>\n",
       "    <tr>\n",
       "      <th>platform</th>\n",
       "      <th></th>\n",
       "      <th></th>\n",
       "      <th></th>\n",
       "      <th></th>\n",
       "      <th></th>\n",
       "      <th></th>\n",
       "      <th></th>\n",
       "      <th></th>\n",
       "      <th></th>\n",
       "      <th></th>\n",
       "      <th></th>\n",
       "      <th></th>\n",
       "      <th></th>\n",
       "      <th></th>\n",
       "      <th></th>\n",
       "      <th></th>\n",
       "      <th></th>\n",
       "    </tr>\n",
       "  </thead>\n",
       "  <tbody>\n",
       "    <tr>\n",
       "      <th>PS2</th>\n",
       "      <td>82.0</td>\n",
       "      <td>185.0</td>\n",
       "      <td>280.0</td>\n",
       "      <td>256.0</td>\n",
       "      <td>259.0</td>\n",
       "      <td>260.0</td>\n",
       "      <td>259.0</td>\n",
       "      <td>214.0</td>\n",
       "      <td>191.0</td>\n",
       "      <td>96.0</td>\n",
       "      <td>38.0</td>\n",
       "      <td>7.0</td>\n",
       "      <td>NaN</td>\n",
       "      <td>NaN</td>\n",
       "      <td>NaN</td>\n",
       "      <td>NaN</td>\n",
       "      <td>NaN</td>\n",
       "    </tr>\n",
       "    <tr>\n",
       "      <th>PS3</th>\n",
       "      <td>NaN</td>\n",
       "      <td>NaN</td>\n",
       "      <td>NaN</td>\n",
       "      <td>NaN</td>\n",
       "      <td>NaN</td>\n",
       "      <td>NaN</td>\n",
       "      <td>27.0</td>\n",
       "      <td>90.0</td>\n",
       "      <td>138.0</td>\n",
       "      <td>162.0</td>\n",
       "      <td>181.0</td>\n",
       "      <td>215.0</td>\n",
       "      <td>148.0</td>\n",
       "      <td>126.0</td>\n",
       "      <td>108.0</td>\n",
       "      <td>73.0</td>\n",
       "      <td>38.0</td>\n",
       "    </tr>\n",
       "    <tr>\n",
       "      <th>Wii</th>\n",
       "      <td>NaN</td>\n",
       "      <td>NaN</td>\n",
       "      <td>NaN</td>\n",
       "      <td>NaN</td>\n",
       "      <td>NaN</td>\n",
       "      <td>NaN</td>\n",
       "      <td>44.0</td>\n",
       "      <td>185.0</td>\n",
       "      <td>282.0</td>\n",
       "      <td>325.0</td>\n",
       "      <td>253.0</td>\n",
       "      <td>143.0</td>\n",
       "      <td>31.0</td>\n",
       "      <td>12.0</td>\n",
       "      <td>6.0</td>\n",
       "      <td>4.0</td>\n",
       "      <td>1.0</td>\n",
       "    </tr>\n",
       "    <tr>\n",
       "      <th>X360</th>\n",
       "      <td>NaN</td>\n",
       "      <td>NaN</td>\n",
       "      <td>NaN</td>\n",
       "      <td>NaN</td>\n",
       "      <td>NaN</td>\n",
       "      <td>18.0</td>\n",
       "      <td>93.0</td>\n",
       "      <td>123.0</td>\n",
       "      <td>146.0</td>\n",
       "      <td>172.0</td>\n",
       "      <td>182.0</td>\n",
       "      <td>206.0</td>\n",
       "      <td>106.0</td>\n",
       "      <td>75.0</td>\n",
       "      <td>63.0</td>\n",
       "      <td>35.0</td>\n",
       "      <td>13.0</td>\n",
       "    </tr>\n",
       "  </tbody>\n",
       "</table>\n",
       "</div>"
      ],
      "text/plain": [
       "year_of_release  2000   2001   2002   2003   2004   2005   2006   2007   2008  \\\n",
       "platform                                                                        \n",
       "PS2              82.0  185.0  280.0  256.0  259.0  260.0  259.0  214.0  191.0   \n",
       "PS3               NaN    NaN    NaN    NaN    NaN    NaN   27.0   90.0  138.0   \n",
       "Wii               NaN    NaN    NaN    NaN    NaN    NaN   44.0  185.0  282.0   \n",
       "X360              NaN    NaN    NaN    NaN    NaN   18.0   93.0  123.0  146.0   \n",
       "\n",
       "year_of_release   2009   2010   2011   2012   2013   2014  2015  2016  \n",
       "platform                                                               \n",
       "PS2               96.0   38.0    7.0    NaN    NaN    NaN   NaN   NaN  \n",
       "PS3              162.0  181.0  215.0  148.0  126.0  108.0  73.0  38.0  \n",
       "Wii              325.0  253.0  143.0   31.0   12.0    6.0   4.0   1.0  \n",
       "X360             172.0  182.0  206.0  106.0   75.0   63.0  35.0  13.0  "
      ]
     },
     "execution_count": 18,
     "metadata": {},
     "output_type": "execute_result"
    }
   ],
   "source": [
    "data_platform = data.query('platform == \"PS2\" or platform == \"X360\" or platform == \"PS3\" or platform == \"Wii\"')\n",
    "\n",
    "data_platform.pivot_table(index='platform', values='total_sales', columns='year_of_release', aggfunc='size')"
   ]
  },
  {
   "cell_type": "markdown",
   "metadata": {},
   "source": [
    "PS2 was the most popular platform until PS3 came out, after that the sales has started droppping. In average, it takes about 5 years for a platform's popularity to fade away. Once the new versions come out, the older versions are not preferred anymore."
   ]
  },
  {
   "cell_type": "markdown",
   "metadata": {},
   "source": [
    "I will work with data from 2015 because the data from 2016 aren't complete and I need recent data to build a prognosis for 2017. "
   ]
  },
  {
   "cell_type": "code",
   "execution_count": 19,
   "metadata": {},
   "outputs": [],
   "source": [
    "data_2015 = data.query('year_of_release == 2015')"
   ]
  },
  {
   "cell_type": "code",
   "execution_count": 20,
   "metadata": {},
   "outputs": [
    {
     "data": {
      "text/html": [
       "<div>\n",
       "<style scoped>\n",
       "    .dataframe tbody tr th:only-of-type {\n",
       "        vertical-align: middle;\n",
       "    }\n",
       "\n",
       "    .dataframe tbody tr th {\n",
       "        vertical-align: top;\n",
       "    }\n",
       "\n",
       "    .dataframe thead th {\n",
       "        text-align: right;\n",
       "    }\n",
       "</style>\n",
       "<table border=\"1\" class=\"dataframe\">\n",
       "  <thead>\n",
       "    <tr style=\"text-align: right;\">\n",
       "      <th></th>\n",
       "      <th>total_sales</th>\n",
       "    </tr>\n",
       "    <tr>\n",
       "      <th>platform</th>\n",
       "      <th></th>\n",
       "    </tr>\n",
       "  </thead>\n",
       "  <tbody>\n",
       "    <tr>\n",
       "      <th>PS4</th>\n",
       "      <td>118.90</td>\n",
       "    </tr>\n",
       "    <tr>\n",
       "      <th>XOne</th>\n",
       "      <td>60.14</td>\n",
       "    </tr>\n",
       "    <tr>\n",
       "      <th>3DS</th>\n",
       "      <td>27.78</td>\n",
       "    </tr>\n",
       "    <tr>\n",
       "      <th>PS3</th>\n",
       "      <td>16.82</td>\n",
       "    </tr>\n",
       "    <tr>\n",
       "      <th>WiiU</th>\n",
       "      <td>16.35</td>\n",
       "    </tr>\n",
       "    <tr>\n",
       "      <th>X360</th>\n",
       "      <td>11.96</td>\n",
       "    </tr>\n",
       "    <tr>\n",
       "      <th>PC</th>\n",
       "      <td>8.52</td>\n",
       "    </tr>\n",
       "    <tr>\n",
       "      <th>PSV</th>\n",
       "      <td>6.25</td>\n",
       "    </tr>\n",
       "    <tr>\n",
       "      <th>Wii</th>\n",
       "      <td>1.14</td>\n",
       "    </tr>\n",
       "    <tr>\n",
       "      <th>PSP</th>\n",
       "      <td>0.12</td>\n",
       "    </tr>\n",
       "  </tbody>\n",
       "</table>\n",
       "</div>"
      ],
      "text/plain": [
       "          total_sales\n",
       "platform             \n",
       "PS4            118.90\n",
       "XOne            60.14\n",
       "3DS             27.78\n",
       "PS3             16.82\n",
       "WiiU            16.35\n",
       "X360            11.96\n",
       "PC               8.52\n",
       "PSV              6.25\n",
       "Wii              1.14\n",
       "PSP              0.12"
      ]
     },
     "execution_count": 20,
     "metadata": {},
     "output_type": "execute_result"
    }
   ],
   "source": [
    "data_2015\\\n",
    "    .pivot_table(index='platform', values='total_sales', aggfunc='sum')\\\n",
    "    .sort_values(by='total_sales', ascending=False)"
   ]
  },
  {
   "cell_type": "markdown",
   "metadata": {},
   "source": [
    "In 2015, the platforms leading in sales were PS4, XOne, 3DS, PS3, and WiiU. The ones shrinking in sales were Wii and PSP which were replaced by new versions. "
   ]
  },
  {
   "cell_type": "code",
   "execution_count": 21,
   "metadata": {},
   "outputs": [
    {
     "data": {
      "text/plain": [
       "<AxesSubplot:title={'center':'total_sales'}, xlabel='platform'>"
      ]
     },
     "execution_count": 21,
     "metadata": {},
     "output_type": "execute_result"
    },
    {
     "data": {
      "image/png": "[encoded data removed]",
      "text/plain": [
       "<Figure size 1080x720 with 1 Axes>"
      ]
     },
     "metadata": {
      "needs_background": "light"
     },
     "output_type": "display_data"
    },
    {
     "data": {
      "image/png": "[encoded data removed]",
      "text/plain": [
       "<Figure size 1080x720 with 1 Axes>"
      ]
     },
     "metadata": {
      "needs_background": "light"
     },
     "output_type": "display_data"
    }
   ],
   "source": [
    "data_2015.boxplot(by='platform', column=['total_sales'], figsize=(15,10))\n",
    "data_2015.boxplot(by='platform', column=['total_sales'], figsize=(15,10), showfliers=False)"
   ]
  },
  {
   "cell_type": "markdown",
   "metadata": {},
   "source": [
    "The difference in sales between leading and shrinking platforms are significant. "
   ]
  },
  {
   "cell_type": "code",
   "execution_count": 22,
   "metadata": {},
   "outputs": [
    {
     "data": {
      "text/plain": [
       "0.4123418699511164"
      ]
     },
     "execution_count": 22,
     "metadata": {},
     "output_type": "execute_result"
    },
    {
     "data": {
      "image/png": "[encoded data removed]",
      "text/plain": [
       "<Figure size 648x288 with 1 Axes>"
      ]
     },
     "metadata": {
      "needs_background": "light"
     },
     "output_type": "display_data"
    }
   ],
   "source": [
    "data_2015_ps4 = data_2015.query('platform == \"PS4\"')\n",
    "data_2015_ps4.plot(kind='scatter', \n",
    "          x='critic_score', \n",
    "          y='total_sales', \n",
    "          figsize=(9,4), \n",
    "          title='Total Sales vs Critic Score'\n",
    "         )\n",
    "\n",
    "data_2015_ps4['critic_score'].corr(data_2015_ps4['total_sales'])"
   ]
  },
  {
   "cell_type": "code",
   "execution_count": 23,
   "metadata": {},
   "outputs": [
    {
     "data": {
      "text/plain": [
       "0.024637157374715373"
      ]
     },
     "execution_count": 23,
     "metadata": {},
     "output_type": "execute_result"
    },
    {
     "data": {
      "image/png": "[encoded data removed]",
      "text/plain": [
       "<Figure size 648x288 with 1 Axes>"
      ]
     },
     "metadata": {
      "needs_background": "light"
     },
     "output_type": "display_data"
    }
   ],
   "source": [
    "data_2015_ps4.plot(kind='scatter', \n",
    "          x='user_score', \n",
    "          y='total_sales', \n",
    "          figsize=(9,4), \n",
    "          title='Total Sales vs User Score'\n",
    "         )\n",
    "\n",
    "data_2015_ps4['user_score'].corr(data_2015_ps4['total_sales'])"
   ]
  },
  {
   "cell_type": "markdown",
   "metadata": {},
   "source": [
    "There is a positive correlation between reviews and sales of PS4 platform. "
   ]
  },
  {
   "cell_type": "code",
   "execution_count": 24,
   "metadata": {},
   "outputs": [
    {
     "data": {
      "text/html": [
       "<div>\n",
       "<style scoped>\n",
       "    .dataframe tbody tr th:only-of-type {\n",
       "        vertical-align: middle;\n",
       "    }\n",
       "\n",
       "    .dataframe tbody tr th {\n",
       "        vertical-align: top;\n",
       "    }\n",
       "\n",
       "    .dataframe thead th {\n",
       "        text-align: right;\n",
       "    }\n",
       "</style>\n",
       "<table border=\"1\" class=\"dataframe\">\n",
       "  <thead>\n",
       "    <tr style=\"text-align: right;\">\n",
       "      <th>name</th>\n",
       "      <th>Fire Emblem Fates</th>\n",
       "      <th>3rd Super Robot Wars Z: Tengoku-Hen</th>\n",
       "      <th>7 Roses: A Darkness Rises</th>\n",
       "      <th>7th Dragon III Code: VFD</th>\n",
       "      <th>A Good Librarian Like a Good Shepherd: Library Party</th>\n",
       "      <th>Abunai: Koi no Sousa Shitsu</th>\n",
       "      <th>Act of Aggression</th>\n",
       "      <th>Adventure Time: Finn &amp; Jake Investigations</th>\n",
       "      <th>Aikatsu! My No.1 Stage!</th>\n",
       "      <th>Airship Q</th>\n",
       "      <th>...</th>\n",
       "      <th>Xenoblade Chronicles X</th>\n",
       "      <th>Yakuza Zero: The Place of Oath</th>\n",
       "      <th>YoKai Watch Dance: Just Dance Special Version</th>\n",
       "      <th>Yokai Watch Busters</th>\n",
       "      <th>Yomawari</th>\n",
       "      <th>Yoru no Nai Kuni</th>\n",
       "      <th>Yoshi's Woolly World</th>\n",
       "      <th>Yowamushi Pedal</th>\n",
       "      <th>Yuki Yuna is a Hero: Memory of the Forest</th>\n",
       "      <th>Zombie Army Trilogy</th>\n",
       "    </tr>\n",
       "    <tr>\n",
       "      <th>platform</th>\n",
       "      <th></th>\n",
       "      <th></th>\n",
       "      <th></th>\n",
       "      <th></th>\n",
       "      <th></th>\n",
       "      <th></th>\n",
       "      <th></th>\n",
       "      <th></th>\n",
       "      <th></th>\n",
       "      <th></th>\n",
       "      <th></th>\n",
       "      <th></th>\n",
       "      <th></th>\n",
       "      <th></th>\n",
       "      <th></th>\n",
       "      <th></th>\n",
       "      <th></th>\n",
       "      <th></th>\n",
       "      <th></th>\n",
       "      <th></th>\n",
       "      <th></th>\n",
       "    </tr>\n",
       "  </thead>\n",
       "  <tbody>\n",
       "    <tr>\n",
       "      <th>3DS</th>\n",
       "      <td>1.67</td>\n",
       "      <td>NaN</td>\n",
       "      <td>NaN</td>\n",
       "      <td>0.16</td>\n",
       "      <td>NaN</td>\n",
       "      <td>NaN</td>\n",
       "      <td>NaN</td>\n",
       "      <td>0.09</td>\n",
       "      <td>0.08</td>\n",
       "      <td>NaN</td>\n",
       "      <td>...</td>\n",
       "      <td>NaN</td>\n",
       "      <td>NaN</td>\n",
       "      <td>NaN</td>\n",
       "      <td>2.29</td>\n",
       "      <td>NaN</td>\n",
       "      <td>NaN</td>\n",
       "      <td>NaN</td>\n",
       "      <td>0.04</td>\n",
       "      <td>NaN</td>\n",
       "      <td>NaN</td>\n",
       "    </tr>\n",
       "    <tr>\n",
       "      <th>PC</th>\n",
       "      <td>NaN</td>\n",
       "      <td>NaN</td>\n",
       "      <td>0.02</td>\n",
       "      <td>NaN</td>\n",
       "      <td>NaN</td>\n",
       "      <td>NaN</td>\n",
       "      <td>0.01</td>\n",
       "      <td>NaN</td>\n",
       "      <td>NaN</td>\n",
       "      <td>NaN</td>\n",
       "      <td>...</td>\n",
       "      <td>NaN</td>\n",
       "      <td>NaN</td>\n",
       "      <td>NaN</td>\n",
       "      <td>NaN</td>\n",
       "      <td>NaN</td>\n",
       "      <td>NaN</td>\n",
       "      <td>NaN</td>\n",
       "      <td>NaN</td>\n",
       "      <td>NaN</td>\n",
       "      <td>NaN</td>\n",
       "    </tr>\n",
       "    <tr>\n",
       "      <th>PS3</th>\n",
       "      <td>NaN</td>\n",
       "      <td>0.15</td>\n",
       "      <td>NaN</td>\n",
       "      <td>NaN</td>\n",
       "      <td>NaN</td>\n",
       "      <td>NaN</td>\n",
       "      <td>NaN</td>\n",
       "      <td>0.08</td>\n",
       "      <td>NaN</td>\n",
       "      <td>NaN</td>\n",
       "      <td>...</td>\n",
       "      <td>NaN</td>\n",
       "      <td>0.25</td>\n",
       "      <td>NaN</td>\n",
       "      <td>NaN</td>\n",
       "      <td>NaN</td>\n",
       "      <td>0.05</td>\n",
       "      <td>NaN</td>\n",
       "      <td>NaN</td>\n",
       "      <td>NaN</td>\n",
       "      <td>NaN</td>\n",
       "    </tr>\n",
       "    <tr>\n",
       "      <th>PS4</th>\n",
       "      <td>NaN</td>\n",
       "      <td>NaN</td>\n",
       "      <td>NaN</td>\n",
       "      <td>NaN</td>\n",
       "      <td>NaN</td>\n",
       "      <td>NaN</td>\n",
       "      <td>NaN</td>\n",
       "      <td>0.10</td>\n",
       "      <td>NaN</td>\n",
       "      <td>NaN</td>\n",
       "      <td>...</td>\n",
       "      <td>NaN</td>\n",
       "      <td>0.17</td>\n",
       "      <td>NaN</td>\n",
       "      <td>NaN</td>\n",
       "      <td>NaN</td>\n",
       "      <td>0.08</td>\n",
       "      <td>NaN</td>\n",
       "      <td>NaN</td>\n",
       "      <td>NaN</td>\n",
       "      <td>0.20</td>\n",
       "    </tr>\n",
       "    <tr>\n",
       "      <th>PSP</th>\n",
       "      <td>NaN</td>\n",
       "      <td>NaN</td>\n",
       "      <td>NaN</td>\n",
       "      <td>NaN</td>\n",
       "      <td>NaN</td>\n",
       "      <td>NaN</td>\n",
       "      <td>NaN</td>\n",
       "      <td>NaN</td>\n",
       "      <td>NaN</td>\n",
       "      <td>NaN</td>\n",
       "      <td>...</td>\n",
       "      <td>NaN</td>\n",
       "      <td>NaN</td>\n",
       "      <td>NaN</td>\n",
       "      <td>NaN</td>\n",
       "      <td>NaN</td>\n",
       "      <td>NaN</td>\n",
       "      <td>NaN</td>\n",
       "      <td>NaN</td>\n",
       "      <td>NaN</td>\n",
       "      <td>NaN</td>\n",
       "    </tr>\n",
       "    <tr>\n",
       "      <th>PSV</th>\n",
       "      <td>NaN</td>\n",
       "      <td>0.19</td>\n",
       "      <td>NaN</td>\n",
       "      <td>NaN</td>\n",
       "      <td>0.03</td>\n",
       "      <td>0.02</td>\n",
       "      <td>NaN</td>\n",
       "      <td>NaN</td>\n",
       "      <td>NaN</td>\n",
       "      <td>0.03</td>\n",
       "      <td>...</td>\n",
       "      <td>NaN</td>\n",
       "      <td>NaN</td>\n",
       "      <td>NaN</td>\n",
       "      <td>NaN</td>\n",
       "      <td>0.11</td>\n",
       "      <td>0.08</td>\n",
       "      <td>NaN</td>\n",
       "      <td>NaN</td>\n",
       "      <td>0.04</td>\n",
       "      <td>NaN</td>\n",
       "    </tr>\n",
       "    <tr>\n",
       "      <th>Wii</th>\n",
       "      <td>NaN</td>\n",
       "      <td>NaN</td>\n",
       "      <td>NaN</td>\n",
       "      <td>NaN</td>\n",
       "      <td>NaN</td>\n",
       "      <td>NaN</td>\n",
       "      <td>NaN</td>\n",
       "      <td>NaN</td>\n",
       "      <td>NaN</td>\n",
       "      <td>NaN</td>\n",
       "      <td>...</td>\n",
       "      <td>NaN</td>\n",
       "      <td>NaN</td>\n",
       "      <td>NaN</td>\n",
       "      <td>NaN</td>\n",
       "      <td>NaN</td>\n",
       "      <td>NaN</td>\n",
       "      <td>NaN</td>\n",
       "      <td>NaN</td>\n",
       "      <td>NaN</td>\n",
       "      <td>NaN</td>\n",
       "    </tr>\n",
       "    <tr>\n",
       "      <th>WiiU</th>\n",
       "      <td>NaN</td>\n",
       "      <td>NaN</td>\n",
       "      <td>NaN</td>\n",
       "      <td>NaN</td>\n",
       "      <td>NaN</td>\n",
       "      <td>NaN</td>\n",
       "      <td>NaN</td>\n",
       "      <td>0.05</td>\n",
       "      <td>NaN</td>\n",
       "      <td>NaN</td>\n",
       "      <td>...</td>\n",
       "      <td>0.84</td>\n",
       "      <td>NaN</td>\n",
       "      <td>0.03</td>\n",
       "      <td>NaN</td>\n",
       "      <td>NaN</td>\n",
       "      <td>NaN</td>\n",
       "      <td>1.3</td>\n",
       "      <td>NaN</td>\n",
       "      <td>NaN</td>\n",
       "      <td>NaN</td>\n",
       "    </tr>\n",
       "    <tr>\n",
       "      <th>X360</th>\n",
       "      <td>NaN</td>\n",
       "      <td>NaN</td>\n",
       "      <td>NaN</td>\n",
       "      <td>NaN</td>\n",
       "      <td>NaN</td>\n",
       "      <td>NaN</td>\n",
       "      <td>NaN</td>\n",
       "      <td>0.09</td>\n",
       "      <td>NaN</td>\n",
       "      <td>NaN</td>\n",
       "      <td>...</td>\n",
       "      <td>NaN</td>\n",
       "      <td>NaN</td>\n",
       "      <td>NaN</td>\n",
       "      <td>NaN</td>\n",
       "      <td>NaN</td>\n",
       "      <td>NaN</td>\n",
       "      <td>NaN</td>\n",
       "      <td>NaN</td>\n",
       "      <td>NaN</td>\n",
       "      <td>NaN</td>\n",
       "    </tr>\n",
       "    <tr>\n",
       "      <th>XOne</th>\n",
       "      <td>NaN</td>\n",
       "      <td>NaN</td>\n",
       "      <td>NaN</td>\n",
       "      <td>NaN</td>\n",
       "      <td>NaN</td>\n",
       "      <td>NaN</td>\n",
       "      <td>NaN</td>\n",
       "      <td>0.05</td>\n",
       "      <td>NaN</td>\n",
       "      <td>NaN</td>\n",
       "      <td>...</td>\n",
       "      <td>NaN</td>\n",
       "      <td>NaN</td>\n",
       "      <td>NaN</td>\n",
       "      <td>NaN</td>\n",
       "      <td>NaN</td>\n",
       "      <td>NaN</td>\n",
       "      <td>NaN</td>\n",
       "      <td>NaN</td>\n",
       "      <td>NaN</td>\n",
       "      <td>0.11</td>\n",
       "    </tr>\n",
       "  </tbody>\n",
       "</table>\n",
       "<p>10 rows × 362 columns</p>\n",
       "</div>"
      ],
      "text/plain": [
       "name       Fire Emblem Fates  3rd Super Robot Wars Z: Tengoku-Hen  \\\n",
       "platform                                                            \n",
       "3DS                     1.67                                  NaN   \n",
       "PC                       NaN                                  NaN   \n",
       "PS3                      NaN                                 0.15   \n",
       "PS4                      NaN                                  NaN   \n",
       "PSP                      NaN                                  NaN   \n",
       "PSV                      NaN                                 0.19   \n",
       "Wii                      NaN                                  NaN   \n",
       "WiiU                     NaN                                  NaN   \n",
       "X360                     NaN                                  NaN   \n",
       "XOne                     NaN                                  NaN   \n",
       "\n",
       "name      7 Roses: A Darkness Rises  7th Dragon III Code: VFD  \\\n",
       "platform                                                        \n",
       "3DS                             NaN                      0.16   \n",
       "PC                             0.02                       NaN   \n",
       "PS3                             NaN                       NaN   \n",
       "PS4                             NaN                       NaN   \n",
       "PSP                             NaN                       NaN   \n",
       "PSV                             NaN                       NaN   \n",
       "Wii                             NaN                       NaN   \n",
       "WiiU                            NaN                       NaN   \n",
       "X360                            NaN                       NaN   \n",
       "XOne                            NaN                       NaN   \n",
       "\n",
       "name      A Good Librarian Like a Good Shepherd: Library Party  \\\n",
       "platform                                                         \n",
       "3DS                                                     NaN      \n",
       "PC                                                      NaN      \n",
       "PS3                                                     NaN      \n",
       "PS4                                                     NaN      \n",
       "PSP                                                     NaN      \n",
       "PSV                                                    0.03      \n",
       "Wii                                                     NaN      \n",
       "WiiU                                                    NaN      \n",
       "X360                                                    NaN      \n",
       "XOne                                                    NaN      \n",
       "\n",
       "name      Abunai: Koi no Sousa Shitsu  Act of Aggression  \\\n",
       "platform                                                   \n",
       "3DS                               NaN                NaN   \n",
       "PC                                NaN               0.01   \n",
       "PS3                               NaN                NaN   \n",
       "PS4                               NaN                NaN   \n",
       "PSP                               NaN                NaN   \n",
       "PSV                              0.02                NaN   \n",
       "Wii                               NaN                NaN   \n",
       "WiiU                              NaN                NaN   \n",
       "X360                              NaN                NaN   \n",
       "XOne                              NaN                NaN   \n",
       "\n",
       "name      Adventure Time: Finn & Jake Investigations  Aikatsu! My No.1 Stage!  \\\n",
       "platform                                                                        \n",
       "3DS                                             0.09                     0.08   \n",
       "PC                                               NaN                      NaN   \n",
       "PS3                                             0.08                      NaN   \n",
       "PS4                                             0.10                      NaN   \n",
       "PSP                                              NaN                      NaN   \n",
       "PSV                                              NaN                      NaN   \n",
       "Wii                                              NaN                      NaN   \n",
       "WiiU                                            0.05                      NaN   \n",
       "X360                                            0.09                      NaN   \n",
       "XOne                                            0.05                      NaN   \n",
       "\n",
       "name      Airship Q  ...  Xenoblade Chronicles X  \\\n",
       "platform             ...                           \n",
       "3DS             NaN  ...                     NaN   \n",
       "PC              NaN  ...                     NaN   \n",
       "PS3             NaN  ...                     NaN   \n",
       "PS4             NaN  ...                     NaN   \n",
       "PSP             NaN  ...                     NaN   \n",
       "PSV            0.03  ...                     NaN   \n",
       "Wii             NaN  ...                     NaN   \n",
       "WiiU            NaN  ...                    0.84   \n",
       "X360            NaN  ...                     NaN   \n",
       "XOne            NaN  ...                     NaN   \n",
       "\n",
       "name      Yakuza Zero: The Place of Oath  \\\n",
       "platform                                   \n",
       "3DS                                  NaN   \n",
       "PC                                   NaN   \n",
       "PS3                                 0.25   \n",
       "PS4                                 0.17   \n",
       "PSP                                  NaN   \n",
       "PSV                                  NaN   \n",
       "Wii                                  NaN   \n",
       "WiiU                                 NaN   \n",
       "X360                                 NaN   \n",
       "XOne                                 NaN   \n",
       "\n",
       "name      YoKai Watch Dance: Just Dance Special Version  Yokai Watch Busters  \\\n",
       "platform                                                                       \n",
       "3DS                                                 NaN                 2.29   \n",
       "PC                                                  NaN                  NaN   \n",
       "PS3                                                 NaN                  NaN   \n",
       "PS4                                                 NaN                  NaN   \n",
       "PSP                                                 NaN                  NaN   \n",
       "PSV                                                 NaN                  NaN   \n",
       "Wii                                                 NaN                  NaN   \n",
       "WiiU                                               0.03                  NaN   \n",
       "X360                                                NaN                  NaN   \n",
       "XOne                                                NaN                  NaN   \n",
       "\n",
       "name      Yomawari  Yoru no Nai Kuni  Yoshi's Woolly World  Yowamushi Pedal  \\\n",
       "platform                                                                      \n",
       "3DS            NaN               NaN                   NaN             0.04   \n",
       "PC             NaN               NaN                   NaN              NaN   \n",
       "PS3            NaN              0.05                   NaN              NaN   \n",
       "PS4            NaN              0.08                   NaN              NaN   \n",
       "PSP            NaN               NaN                   NaN              NaN   \n",
       "PSV           0.11              0.08                   NaN              NaN   \n",
       "Wii            NaN               NaN                   NaN              NaN   \n",
       "WiiU           NaN               NaN                   1.3              NaN   \n",
       "X360           NaN               NaN                   NaN              NaN   \n",
       "XOne           NaN               NaN                   NaN              NaN   \n",
       "\n",
       "name      Yuki Yuna is a Hero: Memory of the Forest  Zombie Army Trilogy  \n",
       "platform                                                                  \n",
       "3DS                                             NaN                  NaN  \n",
       "PC                                              NaN                  NaN  \n",
       "PS3                                             NaN                  NaN  \n",
       "PS4                                             NaN                 0.20  \n",
       "PSP                                             NaN                  NaN  \n",
       "PSV                                            0.04                  NaN  \n",
       "Wii                                             NaN                  NaN  \n",
       "WiiU                                            NaN                  NaN  \n",
       "X360                                            NaN                  NaN  \n",
       "XOne                                            NaN                 0.11  \n",
       "\n",
       "[10 rows x 362 columns]"
      ]
     },
     "execution_count": 24,
     "metadata": {},
     "output_type": "execute_result"
    }
   ],
   "source": [
    "data_2015.pivot_table(index='platform', columns='name', values='total_sales', aggfunc='sum')"
   ]
  },
  {
   "cell_type": "markdown",
   "metadata": {},
   "source": [
    "Mostly one game has sales in only one platform. When there's more than one platform selling the same game, the sales are close to each other. "
   ]
  },
  {
   "cell_type": "code",
   "execution_count": 25,
   "metadata": {},
   "outputs": [
    {
     "data": {
      "text/plain": [
       "genre\n",
       "Action          253\n",
       "Role-Playing     78\n",
       "Sports           59\n",
       "Adventure        54\n",
       "Misc             39\n",
       "Shooter          34\n",
       "Fighting         21\n",
       "Racing           18\n",
       "Strategy         16\n",
       "Simulation       15\n",
       "Platform         13\n",
       "Puzzle            6\n",
       "dtype: int64"
      ]
     },
     "execution_count": 25,
     "metadata": {},
     "output_type": "execute_result"
    }
   ],
   "source": [
    "data_2015.groupby('genre').agg('size')\\\n",
    "    .sort_values(ascending=False)"
   ]
  },
  {
   "cell_type": "code",
   "execution_count": 26,
   "metadata": {},
   "outputs": [
    {
     "data": {
      "text/html": [
       "<div>\n",
       "<style scoped>\n",
       "    .dataframe tbody tr th:only-of-type {\n",
       "        vertical-align: middle;\n",
       "    }\n",
       "\n",
       "    .dataframe tbody tr th {\n",
       "        vertical-align: top;\n",
       "    }\n",
       "\n",
       "    .dataframe thead th {\n",
       "        text-align: right;\n",
       "    }\n",
       "</style>\n",
       "<table border=\"1\" class=\"dataframe\">\n",
       "  <thead>\n",
       "    <tr style=\"text-align: right;\">\n",
       "      <th></th>\n",
       "      <th>total_sales</th>\n",
       "    </tr>\n",
       "    <tr>\n",
       "      <th>genre</th>\n",
       "      <th></th>\n",
       "    </tr>\n",
       "  </thead>\n",
       "  <tbody>\n",
       "    <tr>\n",
       "      <th>Shooter</th>\n",
       "      <td>1.985588</td>\n",
       "    </tr>\n",
       "    <tr>\n",
       "      <th>Sports</th>\n",
       "      <td>0.692203</td>\n",
       "    </tr>\n",
       "    <tr>\n",
       "      <th>Role-Playing</th>\n",
       "      <td>0.482564</td>\n",
       "    </tr>\n",
       "    <tr>\n",
       "      <th>Platform</th>\n",
       "      <td>0.465385</td>\n",
       "    </tr>\n",
       "    <tr>\n",
       "      <th>Racing</th>\n",
       "      <td>0.448333</td>\n",
       "    </tr>\n",
       "    <tr>\n",
       "      <th>Simulation</th>\n",
       "      <td>0.377333</td>\n",
       "    </tr>\n",
       "    <tr>\n",
       "      <th>Fighting</th>\n",
       "      <td>0.376190</td>\n",
       "    </tr>\n",
       "    <tr>\n",
       "      <th>Misc</th>\n",
       "      <td>0.296667</td>\n",
       "    </tr>\n",
       "    <tr>\n",
       "      <th>Action</th>\n",
       "      <td>0.284664</td>\n",
       "    </tr>\n",
       "    <tr>\n",
       "      <th>Adventure</th>\n",
       "      <td>0.151111</td>\n",
       "    </tr>\n",
       "    <tr>\n",
       "      <th>Puzzle</th>\n",
       "      <td>0.118333</td>\n",
       "    </tr>\n",
       "    <tr>\n",
       "      <th>Strategy</th>\n",
       "      <td>0.115625</td>\n",
       "    </tr>\n",
       "  </tbody>\n",
       "</table>\n",
       "</div>"
      ],
      "text/plain": [
       "              total_sales\n",
       "genre                    \n",
       "Shooter          1.985588\n",
       "Sports           0.692203\n",
       "Role-Playing     0.482564\n",
       "Platform         0.465385\n",
       "Racing           0.448333\n",
       "Simulation       0.377333\n",
       "Fighting         0.376190\n",
       "Misc             0.296667\n",
       "Action           0.284664\n",
       "Adventure        0.151111\n",
       "Puzzle           0.118333\n",
       "Strategy         0.115625"
      ]
     },
     "execution_count": 26,
     "metadata": {},
     "output_type": "execute_result"
    }
   ],
   "source": [
    "data_2015\\\n",
    "    .pivot_table(index='genre', values='total_sales')\\\n",
    "    .sort_values(by='total_sales', ascending=False)"
   ]
  },
  {
   "cell_type": "code",
   "execution_count": 27,
   "metadata": {},
   "outputs": [
    {
     "data": {
      "text/plain": [
       "<AxesSubplot:title={'center':'total_sales'}, xlabel='genre'>"
      ]
     },
     "execution_count": 27,
     "metadata": {},
     "output_type": "execute_result"
    },
    {
     "data": {
      "image/png": "[encoded data removed]",
      "text/plain": [
       "<Figure size 1080x504 with 1 Axes>"
      ]
     },
     "metadata": {
      "needs_background": "light"
     },
     "output_type": "display_data"
    },
    {
     "data": {
      "image/png": "[encoded data removed]",
      "text/plain": [
       "<Figure size 1080x504 with 1 Axes>"
      ]
     },
     "metadata": {
      "needs_background": "light"
     },
     "output_type": "display_data"
    }
   ],
   "source": [
    "data_2015.boxplot(by='genre', column=['total_sales'], figsize=(15,7))\n",
    "data_2015.boxplot(by='genre', column=['total_sales'], figsize=(15,7), showfliers=False)"
   ]
  },
  {
   "cell_type": "markdown",
   "metadata": {},
   "source": [
    "In 2015, shooter games had more sales with an average of $1.98M."
   ]
  },
  {
   "cell_type": "markdown",
   "metadata": {},
   "source": [
    "## Creating A User Profile For Each Region"
   ]
  },
  {
   "cell_type": "code",
   "execution_count": 28,
   "metadata": {},
   "outputs": [
    {
     "data": {
      "text/html": [
       "<div>\n",
       "<style scoped>\n",
       "    .dataframe tbody tr th:only-of-type {\n",
       "        vertical-align: middle;\n",
       "    }\n",
       "\n",
       "    .dataframe tbody tr th {\n",
       "        vertical-align: top;\n",
       "    }\n",
       "\n",
       "    .dataframe thead th {\n",
       "        text-align: right;\n",
       "    }\n",
       "</style>\n",
       "<table border=\"1\" class=\"dataframe\">\n",
       "  <thead>\n",
       "    <tr style=\"text-align: right;\">\n",
       "      <th></th>\n",
       "      <th>eu_sales</th>\n",
       "      <th>jp_sales</th>\n",
       "      <th>na_sales</th>\n",
       "    </tr>\n",
       "    <tr>\n",
       "      <th>platform</th>\n",
       "      <th></th>\n",
       "      <th></th>\n",
       "      <th></th>\n",
       "    </tr>\n",
       "  </thead>\n",
       "  <tbody>\n",
       "    <tr>\n",
       "      <th>3DS</th>\n",
       "      <td>5.06</td>\n",
       "      <td>15.52</td>\n",
       "      <td>6.17</td>\n",
       "    </tr>\n",
       "    <tr>\n",
       "      <th>PC</th>\n",
       "      <td>5.57</td>\n",
       "      <td>0.00</td>\n",
       "      <td>2.36</td>\n",
       "    </tr>\n",
       "    <tr>\n",
       "      <th>PS3</th>\n",
       "      <td>6.04</td>\n",
       "      <td>3.67</td>\n",
       "      <td>4.99</td>\n",
       "    </tr>\n",
       "    <tr>\n",
       "      <th>PS4</th>\n",
       "      <td>51.76</td>\n",
       "      <td>6.31</td>\n",
       "      <td>42.37</td>\n",
       "    </tr>\n",
       "    <tr>\n",
       "      <th>PSP</th>\n",
       "      <td>0.00</td>\n",
       "      <td>0.12</td>\n",
       "      <td>0.00</td>\n",
       "    </tr>\n",
       "    <tr>\n",
       "      <th>PSV</th>\n",
       "      <td>0.69</td>\n",
       "      <td>4.85</td>\n",
       "      <td>0.39</td>\n",
       "    </tr>\n",
       "    <tr>\n",
       "      <th>Wii</th>\n",
       "      <td>0.62</td>\n",
       "      <td>0.00</td>\n",
       "      <td>0.43</td>\n",
       "    </tr>\n",
       "    <tr>\n",
       "      <th>WiiU</th>\n",
       "      <td>5.01</td>\n",
       "      <td>3.45</td>\n",
       "      <td>6.76</td>\n",
       "    </tr>\n",
       "    <tr>\n",
       "      <th>X360</th>\n",
       "      <td>3.50</td>\n",
       "      <td>0.00</td>\n",
       "      <td>7.36</td>\n",
       "    </tr>\n",
       "    <tr>\n",
       "      <th>XOne</th>\n",
       "      <td>18.47</td>\n",
       "      <td>0.17</td>\n",
       "      <td>36.03</td>\n",
       "    </tr>\n",
       "  </tbody>\n",
       "</table>\n",
       "</div>"
      ],
      "text/plain": [
       "          eu_sales  jp_sales  na_sales\n",
       "platform                              \n",
       "3DS           5.06     15.52      6.17\n",
       "PC            5.57      0.00      2.36\n",
       "PS3           6.04      3.67      4.99\n",
       "PS4          51.76      6.31     42.37\n",
       "PSP           0.00      0.12      0.00\n",
       "PSV           0.69      4.85      0.39\n",
       "Wii           0.62      0.00      0.43\n",
       "WiiU          5.01      3.45      6.76\n",
       "X360          3.50      0.00      7.36\n",
       "XOne         18.47      0.17     36.03"
      ]
     },
     "execution_count": 28,
     "metadata": {},
     "output_type": "execute_result"
    }
   ],
   "source": [
    "data_2015.pivot_table(index='platform', values=['na_sales', 'eu_sales', 'jp_sales'], aggfunc='sum')"
   ]
  },
  {
   "cell_type": "markdown",
   "metadata": {},
   "source": [
    "The top five platforms in Europe are PS4, XOne, PS3, PC, and 3DS.\n",
    "\n",
    "The top five platforms in North America are PS4, XOne, X360, WiiU, and 3DS.\n",
    "\n",
    "The top five platforms in Japan are 3DS, PS4, PSV, PS3, and WiiU."
   ]
  },
  {
   "cell_type": "code",
   "execution_count": 29,
   "metadata": {},
   "outputs": [
    {
     "data": {
      "text/html": [
       "<div>\n",
       "<style scoped>\n",
       "    .dataframe tbody tr th:only-of-type {\n",
       "        vertical-align: middle;\n",
       "    }\n",
       "\n",
       "    .dataframe tbody tr th {\n",
       "        vertical-align: top;\n",
       "    }\n",
       "\n",
       "    .dataframe thead th {\n",
       "        text-align: right;\n",
       "    }\n",
       "</style>\n",
       "<table border=\"1\" class=\"dataframe\">\n",
       "  <thead>\n",
       "    <tr style=\"text-align: right;\">\n",
       "      <th></th>\n",
       "      <th>eu_sales</th>\n",
       "      <th>jp_sales</th>\n",
       "      <th>na_sales</th>\n",
       "    </tr>\n",
       "    <tr>\n",
       "      <th>genre</th>\n",
       "      <th></th>\n",
       "      <th></th>\n",
       "      <th></th>\n",
       "    </tr>\n",
       "  </thead>\n",
       "  <tbody>\n",
       "    <tr>\n",
       "      <th>Action</th>\n",
       "      <td>24.14</td>\n",
       "      <td>15.98</td>\n",
       "      <td>24.39</td>\n",
       "    </tr>\n",
       "    <tr>\n",
       "      <th>Adventure</th>\n",
       "      <td>3.35</td>\n",
       "      <td>1.04</td>\n",
       "      <td>2.89</td>\n",
       "    </tr>\n",
       "    <tr>\n",
       "      <th>Fighting</th>\n",
       "      <td>2.38</td>\n",
       "      <td>0.79</td>\n",
       "      <td>3.70</td>\n",
       "    </tr>\n",
       "    <tr>\n",
       "      <th>Misc</th>\n",
       "      <td>3.60</td>\n",
       "      <td>2.15</td>\n",
       "      <td>4.82</td>\n",
       "    </tr>\n",
       "    <tr>\n",
       "      <th>Platform</th>\n",
       "      <td>1.81</td>\n",
       "      <td>1.31</td>\n",
       "      <td>2.49</td>\n",
       "    </tr>\n",
       "    <tr>\n",
       "      <th>Puzzle</th>\n",
       "      <td>0.12</td>\n",
       "      <td>0.52</td>\n",
       "      <td>0.06</td>\n",
       "    </tr>\n",
       "    <tr>\n",
       "      <th>Racing</th>\n",
       "      <td>4.75</td>\n",
       "      <td>0.28</td>\n",
       "      <td>2.09</td>\n",
       "    </tr>\n",
       "    <tr>\n",
       "      <th>Role-Playing</th>\n",
       "      <td>12.93</td>\n",
       "      <td>6.80</td>\n",
       "      <td>13.93</td>\n",
       "    </tr>\n",
       "    <tr>\n",
       "      <th>Shooter</th>\n",
       "      <td>24.38</td>\n",
       "      <td>2.73</td>\n",
       "      <td>31.94</td>\n",
       "    </tr>\n",
       "    <tr>\n",
       "      <th>Simulation</th>\n",
       "      <td>2.47</td>\n",
       "      <td>1.60</td>\n",
       "      <td>1.20</td>\n",
       "    </tr>\n",
       "    <tr>\n",
       "      <th>Sports</th>\n",
       "      <td>15.81</td>\n",
       "      <td>0.73</td>\n",
       "      <td>18.77</td>\n",
       "    </tr>\n",
       "    <tr>\n",
       "      <th>Strategy</th>\n",
       "      <td>0.98</td>\n",
       "      <td>0.16</td>\n",
       "      <td>0.58</td>\n",
       "    </tr>\n",
       "  </tbody>\n",
       "</table>\n",
       "</div>"
      ],
      "text/plain": [
       "              eu_sales  jp_sales  na_sales\n",
       "genre                                     \n",
       "Action           24.14     15.98     24.39\n",
       "Adventure         3.35      1.04      2.89\n",
       "Fighting          2.38      0.79      3.70\n",
       "Misc              3.60      2.15      4.82\n",
       "Platform          1.81      1.31      2.49\n",
       "Puzzle            0.12      0.52      0.06\n",
       "Racing            4.75      0.28      2.09\n",
       "Role-Playing     12.93      6.80     13.93\n",
       "Shooter          24.38      2.73     31.94\n",
       "Simulation        2.47      1.60      1.20\n",
       "Sports           15.81      0.73     18.77\n",
       "Strategy          0.98      0.16      0.58"
      ]
     },
     "execution_count": 29,
     "metadata": {},
     "output_type": "execute_result"
    }
   ],
   "source": [
    "data_2015.pivot_table(index='genre', values=['na_sales', 'eu_sales', 'jp_sales'], aggfunc='sum')"
   ]
  },
  {
   "cell_type": "markdown",
   "metadata": {},
   "source": [
    "The top five genres in Europe are shooter, action, sports, role-playing, and racing.\n",
    "\n",
    "The top five genres in North America are shooter, action, sports, role-playing, and misc.\n",
    "\n",
    "The top five genres in Japan are action, role-playing, shooter, misc, and simulation. "
   ]
  },
  {
   "cell_type": "code",
   "execution_count": 30,
   "metadata": {},
   "outputs": [
    {
     "data": {
      "text/plain": [
       "<AxesSubplot:ylabel='na_sales'>"
      ]
     },
     "execution_count": 30,
     "metadata": {},
     "output_type": "execute_result"
    },
    {
     "data": {
      "image/png": "[encoded data removed]",
      "text/plain": [
       "<Figure size 432x288 with 1 Axes>"
      ]
     },
     "metadata": {},
     "output_type": "display_data"
    }
   ],
   "source": [
    "data_2015\\\n",
    "    .groupby('rating')['na_sales'].sum()\\\n",
    "    .plot(kind='pie')"
   ]
  },
  {
   "cell_type": "code",
   "execution_count": 31,
   "metadata": {},
   "outputs": [
    {
     "data": {
      "text/plain": [
       "<AxesSubplot:ylabel='eu_sales'>"
      ]
     },
     "execution_count": 31,
     "metadata": {},
     "output_type": "execute_result"
    },
    {
     "data": {
      "image/png": "[encoded data removed]",
      "text/plain": [
       "<Figure size 432x288 with 1 Axes>"
      ]
     },
     "metadata": {},
     "output_type": "display_data"
    }
   ],
   "source": [
    "data_2015\\\n",
    "    .groupby('rating')['eu_sales'].sum()\\\n",
    "    .plot(kind='pie')"
   ]
  },
  {
   "cell_type": "code",
   "execution_count": 32,
   "metadata": {},
   "outputs": [
    {
     "data": {
      "text/plain": [
       "<AxesSubplot:ylabel='jp_sales'>"
      ]
     },
     "execution_count": 32,
     "metadata": {},
     "output_type": "execute_result"
    },
    {
     "data": {
      "image/png": "[encoded data removed]",
      "text/plain": [
       "<Figure size 432x288 with 1 Axes>"
      ]
     },
     "metadata": {},
     "output_type": "display_data"
    }
   ],
   "source": [
    "data_2015\\\n",
    "    .groupby('rating')['jp_sales'].sum()\\\n",
    "    .plot(kind='pie')"
   ]
  },
  {
   "cell_type": "markdown",
   "metadata": {},
   "source": [
    "ESRB ratings affect sales in individual regions. Games with no rating make up a huge part of the data. Mature and E rated games have more sales in North America and Europe. In Japan, most of the sales come from games with no ESRB rating. It could be due to using another rating system in this region."
   ]
  },
  {
   "cell_type": "markdown",
   "metadata": {},
   "source": [
    "## Testing Hypotheses"
   ]
  },
  {
   "cell_type": "markdown",
   "metadata": {},
   "source": [
    "H0:Average user ratings of the Xbox One and PC platforms are the same.\n",
    "\n",
    "H1:Average user ratings of the Xbox One and PC platforms are not the same."
   ]
  },
  {
   "cell_type": "code",
   "execution_count": 33,
   "metadata": {},
   "outputs": [],
   "source": [
    "xone = data_2015.query('platform == \"XOne\"')\n",
    "xone_ave_rating = xone.pivot_table(index='name', values='user_score')"
   ]
  },
  {
   "cell_type": "code",
   "execution_count": 34,
   "metadata": {},
   "outputs": [],
   "source": [
    "pc = data_2015.query('platform == \"PC\"')\n",
    "pc_ave_rating = pc.pivot_table(index='name', values='user_score')"
   ]
  },
  {
   "cell_type": "code",
   "execution_count": 35,
   "metadata": {},
   "outputs": [
    {
     "name": "stdout",
     "output_type": "stream",
     "text": [
      "p_value: [0.72155659]\n",
      "We cannot reject the null hypothesis.\n"
     ]
    }
   ],
   "source": [
    "alpha = 0.05\n",
    "\n",
    "results = st.ttest_ind(xone_ave_rating, pc_ave_rating)\n",
    "\n",
    "print('p_value:', results.pvalue)\n",
    "\n",
    "if results.pvalue < alpha:\n",
    "    print('We reject the null hypothesis.')\n",
    "else:\n",
    "    print('We cannot reject the null hypothesis.')"
   ]
  },
  {
   "cell_type": "markdown",
   "metadata": {},
   "source": [
    "H0:Average user ratings for the Action and Sports genres are not different.\n",
    "\n",
    "H1:Average user ratings for the Action and Sports genres are different."
   ]
  },
  {
   "cell_type": "code",
   "execution_count": 36,
   "metadata": {},
   "outputs": [],
   "source": [
    "action = data_2015.query('genre == \"Action\"')\n",
    "action_ave_rating = action.pivot_table(index='name', values='user_score')"
   ]
  },
  {
   "cell_type": "code",
   "execution_count": 37,
   "metadata": {},
   "outputs": [],
   "source": [
    "sports = data_2015.query('genre == \"Sports\"')\n",
    "sports_ave_rating = sports.pivot_table(index='name', values='user_score')"
   ]
  },
  {
   "cell_type": "code",
   "execution_count": 38,
   "metadata": {},
   "outputs": [
    {
     "name": "stdout",
     "output_type": "stream",
     "text": [
      "p_value: [0.16411812]\n",
      "We cannot reject the null hypothesis.\n"
     ]
    }
   ],
   "source": [
    "alpha = 0.05\n",
    "\n",
    "results = st.ttest_ind(action_ave_rating, sports_ave_rating)\n",
    "\n",
    "print('p_value:', results.pvalue)\n",
    "\n",
    "if results.pvalue < alpha:\n",
    "    print('We reject the null hypothesis.')\n",
    "else:\n",
    "    print('We cannot reject the null hypothesis.')"
   ]
  },
  {
   "cell_type": "markdown",
   "metadata": {},
   "source": [
    "## Conclusion"
   ]
  },
  {
   "cell_type": "markdown",
   "metadata": {},
   "source": [
    "To prepare the data, columnn names were made lowercase and the data were converted to required types. Missing data were either dropped or replaced with appropriate data. TBD values were replaced with 0.0. Total sales column was created by adding all sales values from each regions. To analyze the data, the platforms with greatest sales were found and a distribution was built. Platforms that used to be popular tend to fade away overtime or when a new version comes out. To biuld a prognosis for 2017, data from 2015 was chosen as the data from 2016 aren't complete. Rest of the data was disregarded. In 2015, the platforms leading in sales were PS4, XOne, 3DS, PS3, and WiiU whereas  Wii and PSP were fading away. A box plot for the global sales of all games, broken down by platform was built and the differences in sales was found to be significant. For PS4, the correlation between critic score and total sales was found to be 0.412 and The correlation between user score and total sales was found to be 0.025. Shooter games were more profitable in 2015 with an average of $1.98M . For each region, top five platforms and top five genres were determined. ESRB ratings have an affect on sales in individual regions.In Europe and North America, M and E rated games have more sales. In Japan, games with no rating bring in more revenue which could be due to having a different raating system. Two hypotheses were tested with ttest_ind as they are independent of each other. Alpha value was was chosen to be 0.05. It was found that average user ratings of the Xbox One and PC platforms are the same and average user ratings for the Action and Sports genres are not different."
   ]
  }
 ],
 "metadata": {
  "ExecuteTimeLog": [
   {
    "duration": 1229,
    "start_time": "2022-08-19T16:35:25.958Z"
   },
   {
    "duration": 235,
    "start_time": "2022-08-19T16:36:01.367Z"
   },
   {
    "duration": 22,
    "start_time": "2022-08-19T16:36:04.050Z"
   },
   {
    "duration": 12,
    "start_time": "2022-08-19T16:36:09.461Z"
   },
   {
    "duration": 15,
    "start_time": "2022-08-19T16:36:18.177Z"
   },
   {
    "duration": 3,
    "start_time": "2022-08-19T16:38:08.083Z"
   },
   {
    "duration": 18,
    "start_time": "2022-08-19T16:38:10.566Z"
   },
   {
    "duration": 110,
    "start_time": "2022-08-19T16:40:28.869Z"
   },
   {
    "duration": 4,
    "start_time": "2022-08-19T16:41:12.526Z"
   },
   {
    "duration": 19,
    "start_time": "2022-08-19T16:41:57.450Z"
   },
   {
    "duration": 14,
    "start_time": "2022-08-19T16:42:00.290Z"
   },
   {
    "duration": 19,
    "start_time": "2022-08-19T16:42:36.867Z"
   },
   {
    "duration": 13,
    "start_time": "2022-08-19T16:42:45.841Z"
   },
   {
    "duration": 13,
    "start_time": "2022-08-19T16:42:55.316Z"
   },
   {
    "duration": 11,
    "start_time": "2022-08-19T16:43:24.340Z"
   },
   {
    "duration": 16,
    "start_time": "2022-08-19T16:43:36.250Z"
   },
   {
    "duration": 13,
    "start_time": "2022-08-19T16:45:25.067Z"
   },
   {
    "duration": 9,
    "start_time": "2022-08-19T16:45:36.258Z"
   },
   {
    "duration": 14,
    "start_time": "2022-08-19T16:45:37.166Z"
   },
   {
    "duration": 14,
    "start_time": "2022-08-19T16:45:37.935Z"
   },
   {
    "duration": 8,
    "start_time": "2022-08-19T16:46:34.917Z"
   },
   {
    "duration": 324,
    "start_time": "2022-08-19T16:46:37.804Z"
   },
   {
    "duration": 9,
    "start_time": "2022-08-19T16:46:59.819Z"
   },
   {
    "duration": 310,
    "start_time": "2022-08-19T16:47:00.318Z"
   },
   {
    "duration": 6,
    "start_time": "2022-08-19T16:48:32.509Z"
   },
   {
    "duration": 3,
    "start_time": "2022-08-19T16:48:39.309Z"
   },
   {
    "duration": 48,
    "start_time": "2022-08-19T16:48:39.600Z"
   },
   {
    "duration": 12,
    "start_time": "2022-08-19T16:48:39.857Z"
   },
   {
    "duration": 17,
    "start_time": "2022-08-19T16:48:40.137Z"
   },
   {
    "duration": 3,
    "start_time": "2022-08-19T16:48:40.927Z"
   },
   {
    "duration": 5,
    "start_time": "2022-08-19T16:48:41.469Z"
   },
   {
    "duration": 9,
    "start_time": "2022-08-19T16:50:24.877Z"
   },
   {
    "duration": 12,
    "start_time": "2022-08-19T16:50:33.153Z"
   },
   {
    "duration": 13,
    "start_time": "2022-08-19T16:50:37.863Z"
   },
   {
    "duration": 15,
    "start_time": "2022-08-19T16:53:24.469Z"
   },
   {
    "duration": 14,
    "start_time": "2022-08-19T16:53:32.652Z"
   },
   {
    "duration": 5,
    "start_time": "2022-08-19T16:54:05.447Z"
   },
   {
    "duration": 13,
    "start_time": "2022-08-19T17:02:54.934Z"
   },
   {
    "duration": 27,
    "start_time": "2022-08-19T17:04:26.338Z"
   },
   {
    "duration": 23,
    "start_time": "2022-08-19T17:04:41.317Z"
   },
   {
    "duration": 14,
    "start_time": "2022-08-19T17:04:43.887Z"
   },
   {
    "duration": 5,
    "start_time": "2022-08-19T17:05:22.513Z"
   },
   {
    "duration": 26,
    "start_time": "2022-08-19T17:05:45.097Z"
   },
   {
    "duration": 4,
    "start_time": "2022-08-19T17:08:46.891Z"
   },
   {
    "duration": 15,
    "start_time": "2022-08-19T17:09:04.748Z"
   },
   {
    "duration": 25,
    "start_time": "2022-08-19T17:09:26.041Z"
   },
   {
    "duration": 10,
    "start_time": "2022-08-19T17:09:56.476Z"
   },
   {
    "duration": 15,
    "start_time": "2022-08-19T17:12:49.341Z"
   },
   {
    "duration": 17,
    "start_time": "2022-08-19T17:13:09.574Z"
   },
   {
    "duration": 15,
    "start_time": "2022-08-19T17:13:20.541Z"
   },
   {
    "duration": 6,
    "start_time": "2022-08-19T17:13:53.520Z"
   },
   {
    "duration": 7,
    "start_time": "2022-08-19T17:15:27.247Z"
   },
   {
    "duration": 5,
    "start_time": "2022-08-19T17:15:38.133Z"
   },
   {
    "duration": 19,
    "start_time": "2022-08-19T17:15:41.305Z"
   },
   {
    "duration": 5,
    "start_time": "2022-08-19T17:16:07.281Z"
   },
   {
    "duration": 4,
    "start_time": "2022-08-19T17:16:12.680Z"
   },
   {
    "duration": 5,
    "start_time": "2022-08-19T17:16:13.133Z"
   },
   {
    "duration": 7,
    "start_time": "2022-08-19T17:16:37.239Z"
   },
   {
    "duration": 5,
    "start_time": "2022-08-19T17:16:37.760Z"
   },
   {
    "duration": 36,
    "start_time": "2022-08-19T17:18:05.978Z"
   },
   {
    "duration": 29,
    "start_time": "2022-08-19T17:18:22.659Z"
   },
   {
    "duration": 5,
    "start_time": "2022-08-19T17:18:25.643Z"
   },
   {
    "duration": 8,
    "start_time": "2022-08-19T17:18:37.226Z"
   },
   {
    "duration": 5,
    "start_time": "2022-08-19T17:18:38.377Z"
   },
   {
    "duration": 5,
    "start_time": "2022-08-19T17:18:40.334Z"
   },
   {
    "duration": 7,
    "start_time": "2022-08-19T17:28:02.052Z"
   },
   {
    "duration": 9,
    "start_time": "2022-08-19T17:28:42.182Z"
   },
   {
    "duration": 11,
    "start_time": "2022-08-19T17:28:51.091Z"
   },
   {
    "duration": 14,
    "start_time": "2022-08-19T17:28:59.243Z"
   },
   {
    "duration": 3,
    "start_time": "2022-08-19T17:29:00.889Z"
   },
   {
    "duration": 47,
    "start_time": "2022-08-19T17:29:01.122Z"
   },
   {
    "duration": 12,
    "start_time": "2022-08-19T17:29:01.362Z"
   },
   {
    "duration": 15,
    "start_time": "2022-08-19T17:29:01.579Z"
   },
   {
    "duration": 3,
    "start_time": "2022-08-19T17:29:01.797Z"
   },
   {
    "duration": 4,
    "start_time": "2022-08-19T17:29:02.000Z"
   },
   {
    "duration": 6,
    "start_time": "2022-08-19T17:29:02.438Z"
   },
   {
    "duration": 5,
    "start_time": "2022-08-19T17:29:02.676Z"
   },
   {
    "duration": 6,
    "start_time": "2022-08-19T17:29:03.128Z"
   },
   {
    "duration": 5,
    "start_time": "2022-08-19T17:29:03.352Z"
   },
   {
    "duration": 7,
    "start_time": "2022-08-19T17:29:03.582Z"
   },
   {
    "duration": 8,
    "start_time": "2022-08-19T17:29:04.528Z"
   },
   {
    "duration": 8,
    "start_time": "2022-08-19T17:29:14.529Z"
   },
   {
    "duration": 9,
    "start_time": "2022-08-19T17:29:25.135Z"
   },
   {
    "duration": 5,
    "start_time": "2022-08-19T17:31:02.994Z"
   },
   {
    "duration": 29,
    "start_time": "2022-08-19T17:31:05.646Z"
   },
   {
    "duration": 6,
    "start_time": "2022-08-19T17:31:36.427Z"
   },
   {
    "duration": 29,
    "start_time": "2022-08-19T17:31:37.260Z"
   },
   {
    "duration": 17,
    "start_time": "2022-08-19T17:31:53.663Z"
   },
   {
    "duration": 22,
    "start_time": "2022-08-19T17:31:59.499Z"
   },
   {
    "duration": 4,
    "start_time": "2022-08-19T17:32:29.140Z"
   },
   {
    "duration": 73,
    "start_time": "2022-08-19T17:32:38.174Z"
   },
   {
    "duration": 5,
    "start_time": "2022-08-19T17:32:42.763Z"
   },
   {
    "duration": 5,
    "start_time": "2022-08-19T17:32:50.842Z"
   },
   {
    "duration": 28,
    "start_time": "2022-08-19T17:32:51.750Z"
   },
   {
    "duration": 6,
    "start_time": "2022-08-19T18:19:45.529Z"
   },
   {
    "duration": 7,
    "start_time": "2022-08-19T18:20:22.721Z"
   },
   {
    "duration": 16,
    "start_time": "2022-08-19T18:50:22.858Z"
   },
   {
    "duration": 14,
    "start_time": "2022-08-19T18:50:51.521Z"
   },
   {
    "duration": 20,
    "start_time": "2022-08-19T18:51:04.572Z"
   },
   {
    "duration": 24,
    "start_time": "2022-08-19T18:54:26.323Z"
   },
   {
    "duration": 9,
    "start_time": "2022-08-19T18:58:32.651Z"
   },
   {
    "duration": 11,
    "start_time": "2022-08-19T18:59:13.383Z"
   },
   {
    "duration": 14,
    "start_time": "2022-08-19T18:59:40.460Z"
   },
   {
    "duration": 13,
    "start_time": "2022-08-19T18:59:48.213Z"
   },
   {
    "duration": 13,
    "start_time": "2022-08-19T19:00:33.935Z"
   },
   {
    "duration": 17,
    "start_time": "2022-08-19T19:00:42.679Z"
   },
   {
    "duration": 25,
    "start_time": "2022-08-19T19:00:50.124Z"
   },
   {
    "duration": 10,
    "start_time": "2022-08-19T19:01:31.939Z"
   },
   {
    "duration": 25,
    "start_time": "2022-08-19T19:01:37.512Z"
   },
   {
    "duration": 14,
    "start_time": "2022-08-19T19:01:48.719Z"
   },
   {
    "duration": 27,
    "start_time": "2022-08-19T19:02:00.869Z"
   },
   {
    "duration": 19,
    "start_time": "2022-08-19T19:03:19.734Z"
   },
   {
    "duration": 14,
    "start_time": "2022-08-19T19:03:24.207Z"
   },
   {
    "duration": 13,
    "start_time": "2022-08-19T19:03:28.465Z"
   },
   {
    "duration": 26,
    "start_time": "2022-08-19T19:03:31.116Z"
   },
   {
    "duration": 32,
    "start_time": "2022-08-19T19:05:31.320Z"
   },
   {
    "duration": 29,
    "start_time": "2022-08-19T19:05:42.936Z"
   },
   {
    "duration": 27,
    "start_time": "2022-08-19T19:06:00.913Z"
   },
   {
    "duration": 87,
    "start_time": "2022-08-19T19:10:04.897Z"
   },
   {
    "duration": 74,
    "start_time": "2022-08-19T19:10:12.648Z"
   },
   {
    "duration": 92,
    "start_time": "2022-08-19T19:17:04.128Z"
   },
   {
    "duration": 85,
    "start_time": "2022-08-19T19:19:33.481Z"
   },
   {
    "duration": 71,
    "start_time": "2022-08-19T19:19:37.217Z"
   },
   {
    "duration": 77,
    "start_time": "2022-08-19T19:21:19.441Z"
   },
   {
    "duration": 82,
    "start_time": "2022-08-19T19:21:24.436Z"
   },
   {
    "duration": 15,
    "start_time": "2022-08-19T19:21:27.725Z"
   },
   {
    "duration": 70,
    "start_time": "2022-08-19T19:22:40.531Z"
   },
   {
    "duration": 26,
    "start_time": "2022-08-19T19:22:44.818Z"
   },
   {
    "duration": 14,
    "start_time": "2022-08-19T19:26:26.242Z"
   },
   {
    "duration": 29,
    "start_time": "2022-08-19T19:26:31.094Z"
   },
   {
    "duration": 10,
    "start_time": "2022-08-19T19:26:59.404Z"
   },
   {
    "duration": 4,
    "start_time": "2022-08-19T19:27:59.979Z"
   },
   {
    "duration": 2,
    "start_time": "2022-08-19T19:28:21.761Z"
   },
   {
    "duration": 3,
    "start_time": "2022-08-19T19:28:26.133Z"
   },
   {
    "duration": 10,
    "start_time": "2022-08-19T19:28:30.752Z"
   },
   {
    "duration": 12,
    "start_time": "2022-08-19T19:28:37.218Z"
   },
   {
    "duration": 28,
    "start_time": "2022-08-19T19:28:40.391Z"
   },
   {
    "duration": 6,
    "start_time": "2022-08-19T19:29:01.129Z"
   },
   {
    "duration": 9,
    "start_time": "2022-08-19T19:29:49.321Z"
   },
   {
    "duration": 9,
    "start_time": "2022-08-19T19:30:01.638Z"
   },
   {
    "duration": 9,
    "start_time": "2022-08-19T19:30:06.123Z"
   },
   {
    "duration": 14,
    "start_time": "2022-08-19T19:30:10.468Z"
   },
   {
    "duration": 15,
    "start_time": "2022-08-19T19:30:15.021Z"
   },
   {
    "duration": 12,
    "start_time": "2022-08-19T19:31:07.460Z"
   },
   {
    "duration": 12,
    "start_time": "2022-08-19T19:31:51.074Z"
   },
   {
    "duration": 13,
    "start_time": "2022-08-19T19:32:03.497Z"
   },
   {
    "duration": 12,
    "start_time": "2022-08-19T19:32:06.306Z"
   },
   {
    "duration": 15,
    "start_time": "2022-08-19T19:32:29.087Z"
   },
   {
    "duration": 12,
    "start_time": "2022-08-19T19:32:40.072Z"
   },
   {
    "duration": 11,
    "start_time": "2022-08-19T19:33:19.257Z"
   },
   {
    "duration": 4,
    "start_time": "2022-08-19T19:33:31.346Z"
   },
   {
    "duration": 27,
    "start_time": "2022-08-19T19:34:22.262Z"
   },
   {
    "duration": 4,
    "start_time": "2022-08-19T19:35:34.923Z"
   },
   {
    "duration": 17,
    "start_time": "2022-08-19T19:37:13.991Z"
   },
   {
    "duration": 6,
    "start_time": "2022-08-19T19:37:28.470Z"
   },
   {
    "duration": 44,
    "start_time": "2022-08-24T18:36:23.685Z"
   },
   {
    "duration": 1163,
    "start_time": "2022-08-24T18:36:28.322Z"
   },
   {
    "duration": 145,
    "start_time": "2022-08-24T18:36:29.487Z"
   },
   {
    "duration": 15,
    "start_time": "2022-08-24T18:36:29.634Z"
   },
   {
    "duration": 17,
    "start_time": "2022-08-24T18:36:29.651Z"
   },
   {
    "duration": 10,
    "start_time": "2022-08-24T18:36:29.670Z"
   },
   {
    "duration": 7,
    "start_time": "2022-08-24T18:36:29.681Z"
   },
   {
    "duration": 7,
    "start_time": "2022-08-24T18:36:29.690Z"
   },
   {
    "duration": 8,
    "start_time": "2022-08-24T18:36:29.698Z"
   },
   {
    "duration": 9,
    "start_time": "2022-08-24T18:36:29.708Z"
   },
   {
    "duration": 5,
    "start_time": "2022-08-24T18:36:29.718Z"
   },
   {
    "duration": 5,
    "start_time": "2022-08-24T18:36:29.724Z"
   },
   {
    "duration": 9,
    "start_time": "2022-08-24T18:36:29.730Z"
   },
   {
    "duration": 7,
    "start_time": "2022-08-24T18:36:29.740Z"
   },
   {
    "duration": 5,
    "start_time": "2022-08-24T18:36:29.749Z"
   },
   {
    "duration": 32,
    "start_time": "2022-08-24T18:36:29.755Z"
   },
   {
    "duration": 18,
    "start_time": "2022-08-24T18:36:29.789Z"
   },
   {
    "duration": 31,
    "start_time": "2022-08-24T18:36:29.809Z"
   },
   {
    "duration": 5,
    "start_time": "2022-08-24T18:36:29.841Z"
   },
   {
    "duration": 13,
    "start_time": "2022-08-24T18:36:33.846Z"
   },
   {
    "duration": 13,
    "start_time": "2022-08-24T18:37:09.978Z"
   },
   {
    "duration": 234,
    "start_time": "2022-08-24T18:45:10.459Z"
   },
   {
    "duration": 166,
    "start_time": "2022-08-24T18:45:50.969Z"
   },
   {
    "duration": 2463,
    "start_time": "2022-08-24T18:46:01.175Z"
   },
   {
    "duration": 219,
    "start_time": "2022-08-24T18:46:27.404Z"
   },
   {
    "duration": 305,
    "start_time": "2022-08-24T18:47:48.084Z"
   },
   {
    "duration": 226,
    "start_time": "2022-08-24T18:47:55.414Z"
   },
   {
    "duration": 285,
    "start_time": "2022-08-24T18:48:06.270Z"
   },
   {
    "duration": 340,
    "start_time": "2022-08-24T18:51:33.197Z"
   },
   {
    "duration": 259,
    "start_time": "2022-08-24T18:51:45.829Z"
   },
   {
    "duration": 14,
    "start_time": "2022-08-24T18:53:07.098Z"
   },
   {
    "duration": 13,
    "start_time": "2022-08-24T18:53:32.297Z"
   },
   {
    "duration": 13,
    "start_time": "2022-08-24T19:02:05.172Z"
   },
   {
    "duration": 17,
    "start_time": "2022-08-24T19:05:06.633Z"
   },
   {
    "duration": 116,
    "start_time": "2022-08-24T19:10:43.448Z"
   },
   {
    "duration": 158,
    "start_time": "2022-08-24T19:10:56.354Z"
   },
   {
    "duration": 123,
    "start_time": "2022-08-24T19:11:30.449Z"
   },
   {
    "duration": 121,
    "start_time": "2022-08-24T19:12:09.081Z"
   },
   {
    "duration": 162,
    "start_time": "2022-08-24T19:12:16.209Z"
   },
   {
    "duration": 122,
    "start_time": "2022-08-24T19:12:27.957Z"
   },
   {
    "duration": 237,
    "start_time": "2022-08-24T19:12:50.631Z"
   },
   {
    "duration": 120,
    "start_time": "2022-08-24T19:12:55.008Z"
   },
   {
    "duration": 133,
    "start_time": "2022-08-24T19:12:59.411Z"
   },
   {
    "duration": 132,
    "start_time": "2022-08-24T19:13:05.594Z"
   },
   {
    "duration": 119,
    "start_time": "2022-08-24T19:13:20.805Z"
   },
   {
    "duration": 128,
    "start_time": "2022-08-24T19:13:33.980Z"
   },
   {
    "duration": 123,
    "start_time": "2022-08-24T19:13:39.373Z"
   },
   {
    "duration": 123,
    "start_time": "2022-08-24T19:14:05.865Z"
   },
   {
    "duration": 126,
    "start_time": "2022-08-24T19:14:18.939Z"
   },
   {
    "duration": 135,
    "start_time": "2022-08-24T19:14:45.486Z"
   },
   {
    "duration": 52,
    "start_time": "2022-08-24T19:15:55.336Z"
   },
   {
    "duration": 30,
    "start_time": "2022-08-24T19:16:00.282Z"
   },
   {
    "duration": 143,
    "start_time": "2022-08-24T19:16:07.197Z"
   },
   {
    "duration": 135,
    "start_time": "2022-08-24T19:16:43.230Z"
   },
   {
    "duration": 141,
    "start_time": "2022-08-24T19:16:53.383Z"
   },
   {
    "duration": 129,
    "start_time": "2022-08-24T19:17:19.643Z"
   },
   {
    "duration": 14,
    "start_time": "2022-08-24T19:22:35.192Z"
   },
   {
    "duration": 11,
    "start_time": "2022-08-24T19:23:11.296Z"
   },
   {
    "duration": 134,
    "start_time": "2022-08-24T19:23:30.748Z"
   },
   {
    "duration": 8,
    "start_time": "2022-08-24T19:30:50.360Z"
   },
   {
    "duration": 26,
    "start_time": "2022-08-24T19:30:54.120Z"
   },
   {
    "duration": 40,
    "start_time": "2022-08-24T19:31:23.394Z"
   },
   {
    "duration": 26,
    "start_time": "2022-08-24T19:31:55.874Z"
   },
   {
    "duration": 34,
    "start_time": "2022-08-24T19:32:34.918Z"
   },
   {
    "duration": 1093,
    "start_time": "2022-08-25T00:55:01.743Z"
   },
   {
    "duration": 160,
    "start_time": "2022-08-25T00:55:02.838Z"
   },
   {
    "duration": 17,
    "start_time": "2022-08-25T00:55:03.000Z"
   },
   {
    "duration": 23,
    "start_time": "2022-08-25T00:55:03.018Z"
   },
   {
    "duration": 3,
    "start_time": "2022-08-25T00:55:03.043Z"
   },
   {
    "duration": 23,
    "start_time": "2022-08-25T00:55:03.048Z"
   },
   {
    "duration": 9,
    "start_time": "2022-08-25T00:55:03.072Z"
   },
   {
    "duration": 7,
    "start_time": "2022-08-25T00:55:03.083Z"
   },
   {
    "duration": 12,
    "start_time": "2022-08-25T00:55:03.092Z"
   },
   {
    "duration": 4,
    "start_time": "2022-08-25T00:55:03.106Z"
   },
   {
    "duration": 7,
    "start_time": "2022-08-25T00:55:03.112Z"
   },
   {
    "duration": 10,
    "start_time": "2022-08-25T00:55:03.120Z"
   },
   {
    "duration": 8,
    "start_time": "2022-08-25T00:55:03.131Z"
   },
   {
    "duration": 6,
    "start_time": "2022-08-25T00:55:03.142Z"
   },
   {
    "duration": 7,
    "start_time": "2022-08-25T00:55:03.150Z"
   },
   {
    "duration": 42,
    "start_time": "2022-08-25T00:55:03.159Z"
   },
   {
    "duration": 30,
    "start_time": "2022-08-25T00:55:03.203Z"
   },
   {
    "duration": 6,
    "start_time": "2022-08-25T00:55:03.235Z"
   },
   {
    "duration": 17,
    "start_time": "2022-08-25T00:55:03.242Z"
   },
   {
    "duration": 289,
    "start_time": "2022-08-25T00:55:03.261Z"
   },
   {
    "duration": 142,
    "start_time": "2022-08-25T00:55:03.551Z"
   },
   {
    "duration": 126,
    "start_time": "2022-08-25T00:55:03.700Z"
   },
   {
    "duration": 38,
    "start_time": "2022-08-25T00:55:03.829Z"
   },
   {
    "duration": 233,
    "start_time": "2022-08-25T00:56:01.738Z"
   },
   {
    "duration": 244,
    "start_time": "2022-08-25T00:56:51.864Z"
   },
   {
    "duration": 7,
    "start_time": "2022-08-25T01:12:57.577Z"
   },
   {
    "duration": 6,
    "start_time": "2022-08-25T01:13:24.390Z"
   },
   {
    "duration": 6,
    "start_time": "2022-08-25T01:13:35.331Z"
   },
   {
    "duration": 14,
    "start_time": "2022-08-25T01:14:35.324Z"
   },
   {
    "duration": 17,
    "start_time": "2022-08-25T01:14:51.482Z"
   },
   {
    "duration": 16,
    "start_time": "2022-08-25T01:15:01.814Z"
   },
   {
    "duration": 14,
    "start_time": "2022-08-25T01:15:12.332Z"
   },
   {
    "duration": 26,
    "start_time": "2022-08-25T01:17:58.190Z"
   },
   {
    "duration": 21,
    "start_time": "2022-08-25T01:19:28.988Z"
   },
   {
    "duration": 36,
    "start_time": "2022-08-25T01:20:51.889Z"
   },
   {
    "duration": 14,
    "start_time": "2022-08-25T01:21:30.762Z"
   },
   {
    "duration": 1185,
    "start_time": "2022-08-26T23:08:57.867Z"
   },
   {
    "duration": 147,
    "start_time": "2022-08-26T23:08:59.054Z"
   },
   {
    "duration": 15,
    "start_time": "2022-08-26T23:08:59.202Z"
   },
   {
    "duration": 17,
    "start_time": "2022-08-26T23:08:59.220Z"
   },
   {
    "duration": 3,
    "start_time": "2022-08-26T23:08:59.239Z"
   },
   {
    "duration": 7,
    "start_time": "2022-08-26T23:08:59.243Z"
   },
   {
    "duration": 6,
    "start_time": "2022-08-26T23:08:59.251Z"
   },
   {
    "duration": 5,
    "start_time": "2022-08-26T23:08:59.259Z"
   },
   {
    "duration": 20,
    "start_time": "2022-08-26T23:08:59.265Z"
   },
   {
    "duration": 4,
    "start_time": "2022-08-26T23:08:59.287Z"
   },
   {
    "duration": 4,
    "start_time": "2022-08-26T23:08:59.292Z"
   },
   {
    "duration": 10,
    "start_time": "2022-08-26T23:08:59.297Z"
   },
   {
    "duration": 7,
    "start_time": "2022-08-26T23:08:59.308Z"
   },
   {
    "duration": 7,
    "start_time": "2022-08-26T23:08:59.316Z"
   },
   {
    "duration": 8,
    "start_time": "2022-08-26T23:08:59.324Z"
   },
   {
    "duration": 15,
    "start_time": "2022-08-26T23:08:59.333Z"
   },
   {
    "duration": 64,
    "start_time": "2022-08-26T23:08:59.349Z"
   },
   {
    "duration": 5,
    "start_time": "2022-08-26T23:08:59.414Z"
   },
   {
    "duration": 12,
    "start_time": "2022-08-26T23:08:59.421Z"
   },
   {
    "duration": 303,
    "start_time": "2022-08-26T23:08:59.434Z"
   },
   {
    "duration": 150,
    "start_time": "2022-08-26T23:08:59.738Z"
   },
   {
    "duration": 135,
    "start_time": "2022-08-26T23:08:59.889Z"
   },
   {
    "duration": 35,
    "start_time": "2022-08-26T23:09:00.026Z"
   },
   {
    "duration": 22,
    "start_time": "2022-08-26T23:09:00.063Z"
   },
   {
    "duration": 29,
    "start_time": "2022-08-26T23:09:00.088Z"
   },
   {
    "duration": 132,
    "start_time": "2022-08-26T23:10:55.892Z"
   },
   {
    "duration": 1183,
    "start_time": "2022-08-29T19:52:49.817Z"
   },
   {
    "duration": 502,
    "start_time": "2022-08-29T19:52:51.002Z"
   },
   {
    "duration": 21,
    "start_time": "2022-08-29T19:52:51.507Z"
   },
   {
    "duration": 25,
    "start_time": "2022-08-29T19:52:51.530Z"
   },
   {
    "duration": 3,
    "start_time": "2022-08-29T19:52:51.557Z"
   },
   {
    "duration": 8,
    "start_time": "2022-08-29T19:52:51.562Z"
   },
   {
    "duration": 8,
    "start_time": "2022-08-29T19:52:51.572Z"
   },
   {
    "duration": 10,
    "start_time": "2022-08-29T19:52:51.582Z"
   },
   {
    "duration": 9,
    "start_time": "2022-08-29T19:52:51.594Z"
   },
   {
    "duration": 4,
    "start_time": "2022-08-29T19:52:51.605Z"
   },
   {
    "duration": 6,
    "start_time": "2022-08-29T19:52:51.610Z"
   },
   {
    "duration": 8,
    "start_time": "2022-08-29T19:52:51.618Z"
   },
   {
    "duration": 9,
    "start_time": "2022-08-29T19:52:51.628Z"
   },
   {
    "duration": 32,
    "start_time": "2022-08-29T19:52:51.639Z"
   },
   {
    "duration": 9,
    "start_time": "2022-08-29T19:52:51.673Z"
   },
   {
    "duration": 19,
    "start_time": "2022-08-29T19:52:51.684Z"
   },
   {
    "duration": 30,
    "start_time": "2022-08-29T19:52:51.704Z"
   },
   {
    "duration": 34,
    "start_time": "2022-08-29T19:52:51.736Z"
   },
   {
    "duration": 14,
    "start_time": "2022-08-29T19:52:51.771Z"
   },
   {
    "duration": 298,
    "start_time": "2022-08-29T19:52:51.787Z"
   },
   {
    "duration": 169,
    "start_time": "2022-08-29T19:52:52.086Z"
   },
   {
    "duration": 154,
    "start_time": "2022-08-29T19:52:52.257Z"
   },
   {
    "duration": 36,
    "start_time": "2022-08-29T19:52:52.413Z"
   },
   {
    "duration": 20,
    "start_time": "2022-08-29T19:52:52.451Z"
   },
   {
    "duration": 19,
    "start_time": "2022-08-29T19:52:52.473Z"
   },
   {
    "duration": 23,
    "start_time": "2022-08-29T19:56:14.963Z"
   },
   {
    "duration": 15,
    "start_time": "2022-08-29T19:57:03.518Z"
   },
   {
    "duration": 113,
    "start_time": "2022-08-29T19:57:59.948Z"
   },
   {
    "duration": 22,
    "start_time": "2022-08-29T19:58:04.352Z"
   },
   {
    "duration": 18,
    "start_time": "2022-08-29T19:58:14.516Z"
   },
   {
    "duration": 12,
    "start_time": "2022-08-29T19:58:20.601Z"
   },
   {
    "duration": 21,
    "start_time": "2022-08-29T19:58:54.014Z"
   },
   {
    "duration": 17,
    "start_time": "2022-08-29T20:02:15.024Z"
   },
   {
    "duration": 19,
    "start_time": "2022-08-29T20:03:27.149Z"
   },
   {
    "duration": 16,
    "start_time": "2022-08-29T20:04:14.764Z"
   },
   {
    "duration": 23,
    "start_time": "2022-08-29T20:04:43.506Z"
   },
   {
    "duration": 18,
    "start_time": "2022-08-29T20:07:08.475Z"
   },
   {
    "duration": 19,
    "start_time": "2022-08-29T20:07:26.881Z"
   },
   {
    "duration": 17,
    "start_time": "2022-08-29T20:07:45.814Z"
   },
   {
    "duration": 17,
    "start_time": "2022-08-29T20:08:09.318Z"
   },
   {
    "duration": 18,
    "start_time": "2022-08-29T20:08:31.266Z"
   },
   {
    "duration": 12,
    "start_time": "2022-08-29T20:09:05.923Z"
   },
   {
    "duration": 26,
    "start_time": "2022-08-29T20:09:13.679Z"
   },
   {
    "duration": 65,
    "start_time": "2022-08-29T20:09:41.181Z"
   },
   {
    "duration": 17,
    "start_time": "2022-08-29T20:09:45.291Z"
   },
   {
    "duration": 15,
    "start_time": "2022-08-29T20:14:25.570Z"
   },
   {
    "duration": 18,
    "start_time": "2022-08-29T21:20:04.695Z"
   },
   {
    "duration": 428,
    "start_time": "2022-08-29T23:30:10.182Z"
   },
   {
    "duration": 383,
    "start_time": "2022-08-29T23:30:27.854Z"
   },
   {
    "duration": 393,
    "start_time": "2022-08-29T23:31:07.042Z"
   },
   {
    "duration": 209,
    "start_time": "2022-08-29T23:31:45.821Z"
   },
   {
    "duration": 5,
    "start_time": "2022-08-29T23:32:34.705Z"
   },
   {
    "duration": 6,
    "start_time": "2022-08-29T23:32:38.327Z"
   },
   {
    "duration": 4,
    "start_time": "2022-08-29T23:33:22.804Z"
   },
   {
    "duration": 12,
    "start_time": "2022-08-29T23:33:27.164Z"
   },
   {
    "duration": 27,
    "start_time": "2022-08-29T23:33:36.745Z"
   },
   {
    "duration": 28,
    "start_time": "2022-08-29T23:33:51.481Z"
   },
   {
    "duration": 21,
    "start_time": "2022-08-29T23:34:00.888Z"
   },
   {
    "duration": 5,
    "start_time": "2022-08-29T23:34:18.498Z"
   },
   {
    "duration": 7,
    "start_time": "2022-08-29T23:34:23.370Z"
   },
   {
    "duration": 13,
    "start_time": "2022-08-29T23:35:12.486Z"
   },
   {
    "duration": 6,
    "start_time": "2022-08-29T23:35:21.248Z"
   },
   {
    "duration": 8,
    "start_time": "2022-08-29T23:35:31.735Z"
   },
   {
    "duration": 14,
    "start_time": "2022-08-29T23:35:41.898Z"
   },
   {
    "duration": 8,
    "start_time": "2022-08-29T23:35:46.648Z"
   },
   {
    "duration": 4,
    "start_time": "2022-08-29T23:35:56.518Z"
   },
   {
    "duration": 9,
    "start_time": "2022-08-29T23:36:04.262Z"
   },
   {
    "duration": 7,
    "start_time": "2022-08-29T23:36:48.967Z"
   },
   {
    "duration": 6,
    "start_time": "2022-08-29T23:37:06.341Z"
   },
   {
    "duration": 10,
    "start_time": "2022-08-29T23:37:49.908Z"
   },
   {
    "duration": 5,
    "start_time": "2022-08-29T23:37:55.793Z"
   },
   {
    "duration": 14,
    "start_time": "2022-08-29T23:38:01.224Z"
   },
   {
    "duration": 6,
    "start_time": "2022-08-29T23:39:50.201Z"
   },
   {
    "duration": 8,
    "start_time": "2022-08-29T23:40:10.201Z"
   },
   {
    "duration": 7,
    "start_time": "2022-08-29T23:40:21.818Z"
   },
   {
    "duration": 9,
    "start_time": "2022-08-29T23:40:36.541Z"
   },
   {
    "duration": 7,
    "start_time": "2022-08-29T23:40:50.418Z"
   },
   {
    "duration": 5,
    "start_time": "2022-08-29T23:48:25.236Z"
   },
   {
    "duration": 12,
    "start_time": "2022-08-29T23:49:53.189Z"
   },
   {
    "duration": 10,
    "start_time": "2022-08-29T23:50:03.702Z"
   },
   {
    "duration": 6,
    "start_time": "2022-08-29T23:50:09.720Z"
   },
   {
    "duration": 14,
    "start_time": "2022-08-29T23:51:06.551Z"
   },
   {
    "duration": 7,
    "start_time": "2022-08-29T23:51:11.477Z"
   },
   {
    "duration": 7,
    "start_time": "2022-08-29T23:52:06.230Z"
   },
   {
    "duration": 7,
    "start_time": "2022-08-29T23:52:37.704Z"
   },
   {
    "duration": 7,
    "start_time": "2022-08-29T23:52:39.807Z"
   },
   {
    "duration": 10,
    "start_time": "2022-08-29T23:53:31.378Z"
   },
   {
    "duration": 10,
    "start_time": "2022-08-30T00:00:10.696Z"
   },
   {
    "duration": 5,
    "start_time": "2022-08-30T00:00:11.474Z"
   },
   {
    "duration": 10,
    "start_time": "2022-08-30T00:00:13.891Z"
   },
   {
    "duration": 11,
    "start_time": "2022-08-30T00:00:14.264Z"
   },
   {
    "duration": 5,
    "start_time": "2022-08-30T00:00:14.757Z"
   },
   {
    "duration": 7,
    "start_time": "2022-08-30T00:01:11.391Z"
   },
   {
    "duration": 7,
    "start_time": "2022-08-30T00:01:13.119Z"
   },
   {
    "duration": 7,
    "start_time": "2022-08-30T00:01:13.515Z"
   },
   {
    "duration": 11,
    "start_time": "2022-08-30T00:01:13.912Z"
   },
   {
    "duration": 5,
    "start_time": "2022-08-30T00:01:28.889Z"
   },
   {
    "duration": 4,
    "start_time": "2022-08-30T00:01:29.548Z"
   },
   {
    "duration": 181,
    "start_time": "2022-08-30T00:01:30.285Z"
   },
   {
    "duration": 11,
    "start_time": "2022-08-30T00:03:03.119Z"
   },
   {
    "duration": 10,
    "start_time": "2022-08-30T00:03:03.655Z"
   },
   {
    "duration": 5,
    "start_time": "2022-08-30T00:03:04.476Z"
   },
   {
    "duration": 5,
    "start_time": "2022-08-30T00:13:13.232Z"
   },
   {
    "duration": 9,
    "start_time": "2022-08-30T00:13:42.571Z"
   },
   {
    "duration": 10,
    "start_time": "2022-08-30T00:14:06.947Z"
   },
   {
    "duration": 5,
    "start_time": "2022-08-30T00:14:13.342Z"
   },
   {
    "duration": 13,
    "start_time": "2022-08-30T00:15:17.407Z"
   },
   {
    "duration": 11,
    "start_time": "2022-08-30T00:15:37.012Z"
   },
   {
    "duration": 18,
    "start_time": "2022-08-30T00:15:50.506Z"
   },
   {
    "duration": 17,
    "start_time": "2022-08-30T00:16:16.724Z"
   },
   {
    "duration": 10,
    "start_time": "2022-08-30T00:16:32.205Z"
   },
   {
    "duration": 5,
    "start_time": "2022-08-30T00:16:34.758Z"
   },
   {
    "duration": 5,
    "start_time": "2022-08-30T00:16:51.936Z"
   },
   {
    "duration": 17,
    "start_time": "2022-08-30T00:17:21.315Z"
   },
   {
    "duration": 15,
    "start_time": "2022-08-30T00:17:30.633Z"
   },
   {
    "duration": 19,
    "start_time": "2022-08-30T00:18:08.913Z"
   },
   {
    "duration": 15,
    "start_time": "2022-08-30T00:18:09.852Z"
   },
   {
    "duration": 5,
    "start_time": "2022-08-30T00:18:10.923Z"
   },
   {
    "duration": 11,
    "start_time": "2022-08-30T00:18:21.050Z"
   },
   {
    "duration": 11,
    "start_time": "2022-08-30T00:18:21.850Z"
   },
   {
    "duration": 4,
    "start_time": "2022-08-30T00:18:23.663Z"
   },
   {
    "duration": 145,
    "start_time": "2022-08-30T00:55:20.824Z"
   },
   {
    "duration": 127,
    "start_time": "2022-08-30T00:55:42.933Z"
   },
   {
    "duration": 136,
    "start_time": "2022-08-30T00:55:58.772Z"
   },
   {
    "duration": 115,
    "start_time": "2022-08-30T00:56:15.543Z"
   },
   {
    "duration": 121,
    "start_time": "2022-08-30T00:56:55.906Z"
   },
   {
    "duration": 152,
    "start_time": "2022-08-30T00:58:10.922Z"
   },
   {
    "duration": 10,
    "start_time": "2022-08-30T01:00:55.260Z"
   },
   {
    "duration": 3,
    "start_time": "2022-08-30T01:15:00.925Z"
   },
   {
    "duration": 61,
    "start_time": "2022-08-30T01:15:00.931Z"
   },
   {
    "duration": 15,
    "start_time": "2022-08-30T01:15:00.994Z"
   },
   {
    "duration": 20,
    "start_time": "2022-08-30T01:15:01.011Z"
   },
   {
    "duration": 8,
    "start_time": "2022-08-30T01:15:01.033Z"
   },
   {
    "duration": 9,
    "start_time": "2022-08-30T01:15:01.043Z"
   },
   {
    "duration": 5,
    "start_time": "2022-08-30T01:15:01.084Z"
   },
   {
    "duration": 13,
    "start_time": "2022-08-30T01:15:01.091Z"
   },
   {
    "duration": 15,
    "start_time": "2022-08-30T01:15:01.106Z"
   },
   {
    "duration": 11,
    "start_time": "2022-08-30T01:15:01.123Z"
   },
   {
    "duration": 9,
    "start_time": "2022-08-30T01:15:01.136Z"
   },
   {
    "duration": 12,
    "start_time": "2022-08-30T01:15:01.147Z"
   },
   {
    "duration": 18,
    "start_time": "2022-08-30T01:15:01.161Z"
   },
   {
    "duration": 20,
    "start_time": "2022-08-30T01:15:01.181Z"
   },
   {
    "duration": 18,
    "start_time": "2022-08-30T01:15:01.203Z"
   },
   {
    "duration": 16,
    "start_time": "2022-08-30T01:15:01.250Z"
   },
   {
    "duration": 30,
    "start_time": "2022-08-30T01:15:01.268Z"
   },
   {
    "duration": 7,
    "start_time": "2022-08-30T01:15:01.299Z"
   },
   {
    "duration": 25,
    "start_time": "2022-08-30T01:15:01.307Z"
   },
   {
    "duration": 293,
    "start_time": "2022-08-30T01:15:01.334Z"
   },
   {
    "duration": 144,
    "start_time": "2022-08-30T01:15:01.629Z"
   },
   {
    "duration": 133,
    "start_time": "2022-08-30T01:15:01.775Z"
   },
   {
    "duration": 35,
    "start_time": "2022-08-30T01:15:01.909Z"
   },
   {
    "duration": 23,
    "start_time": "2022-08-30T01:15:01.945Z"
   },
   {
    "duration": 18,
    "start_time": "2022-08-30T01:15:01.970Z"
   },
   {
    "duration": 15,
    "start_time": "2022-08-30T01:15:01.990Z"
   },
   {
    "duration": 16,
    "start_time": "2022-08-30T01:15:02.007Z"
   },
   {
    "duration": 12,
    "start_time": "2022-08-30T01:15:02.025Z"
   },
   {
    "duration": 29,
    "start_time": "2022-08-30T01:15:02.039Z"
   },
   {
    "duration": 5,
    "start_time": "2022-08-30T01:15:02.070Z"
   },
   {
    "duration": 104,
    "start_time": "2022-08-30T01:15:02.077Z"
   },
   {
    "duration": 18,
    "start_time": "2022-08-30T01:15:02.182Z"
   },
   {
    "duration": 14,
    "start_time": "2022-08-30T01:15:02.202Z"
   },
   {
    "duration": 16,
    "start_time": "2022-08-30T01:15:02.217Z"
   },
   {
    "duration": 17,
    "start_time": "2022-08-30T01:15:02.235Z"
   },
   {
    "duration": 9,
    "start_time": "2022-08-30T01:15:02.254Z"
   },
   {
    "duration": 1270,
    "start_time": "2022-08-30T21:30:47.504Z"
   },
   {
    "duration": 183,
    "start_time": "2022-08-30T21:30:48.777Z"
   },
   {
    "duration": 17,
    "start_time": "2022-08-30T21:30:48.962Z"
   },
   {
    "duration": 33,
    "start_time": "2022-08-30T21:30:48.980Z"
   },
   {
    "duration": 3,
    "start_time": "2022-08-30T21:30:49.016Z"
   },
   {
    "duration": 11,
    "start_time": "2022-08-30T21:30:49.021Z"
   },
   {
    "duration": 7,
    "start_time": "2022-08-30T21:30:49.034Z"
   },
   {
    "duration": 9,
    "start_time": "2022-08-30T21:30:49.043Z"
   },
   {
    "duration": 15,
    "start_time": "2022-08-30T21:30:49.054Z"
   },
   {
    "duration": 17,
    "start_time": "2022-08-30T21:30:49.071Z"
   },
   {
    "duration": 19,
    "start_time": "2022-08-30T21:30:49.098Z"
   },
   {
    "duration": 20,
    "start_time": "2022-08-30T21:30:49.120Z"
   },
   {
    "duration": 10,
    "start_time": "2022-08-30T21:30:49.142Z"
   },
   {
    "duration": 6,
    "start_time": "2022-08-30T21:30:49.157Z"
   },
   {
    "duration": 10,
    "start_time": "2022-08-30T21:30:49.165Z"
   },
   {
    "duration": 27,
    "start_time": "2022-08-30T21:30:49.177Z"
   },
   {
    "duration": 30,
    "start_time": "2022-08-30T21:30:49.206Z"
   },
   {
    "duration": 6,
    "start_time": "2022-08-30T21:30:49.238Z"
   },
   {
    "duration": 14,
    "start_time": "2022-08-30T21:30:49.245Z"
   },
   {
    "duration": 319,
    "start_time": "2022-08-30T21:30:49.261Z"
   },
   {
    "duration": 155,
    "start_time": "2022-08-30T21:30:49.582Z"
   },
   {
    "duration": 153,
    "start_time": "2022-08-30T21:30:49.739Z"
   },
   {
    "duration": 41,
    "start_time": "2022-08-30T21:30:49.895Z"
   },
   {
    "duration": 7,
    "start_time": "2022-08-30T21:30:49.938Z"
   },
   {
    "duration": 16,
    "start_time": "2022-08-30T21:30:49.947Z"
   },
   {
    "duration": 19,
    "start_time": "2022-08-30T21:30:49.986Z"
   },
   {
    "duration": 17,
    "start_time": "2022-08-30T21:30:50.006Z"
   },
   {
    "duration": 11,
    "start_time": "2022-08-30T21:30:50.024Z"
   },
   {
    "duration": 14,
    "start_time": "2022-08-30T21:30:50.037Z"
   },
   {
    "duration": 33,
    "start_time": "2022-08-30T21:30:50.053Z"
   },
   {
    "duration": 15,
    "start_time": "2022-08-30T21:30:50.089Z"
   },
   {
    "duration": 13,
    "start_time": "2022-08-30T21:30:50.107Z"
   },
   {
    "duration": 12,
    "start_time": "2022-08-30T21:30:50.122Z"
   },
   {
    "duration": 20,
    "start_time": "2022-08-30T21:30:50.136Z"
   },
   {
    "duration": 24,
    "start_time": "2022-08-30T21:30:50.158Z"
   },
   {
    "duration": 32,
    "start_time": "2022-08-30T21:30:50.184Z"
   },
   {
    "duration": 15,
    "start_time": "2022-08-30T21:36:07.222Z"
   },
   {
    "duration": 58,
    "start_time": "2022-08-31T14:21:44.565Z"
   },
   {
    "duration": 70,
    "start_time": "2022-08-31T14:21:50.007Z"
   },
   {
    "duration": 1193,
    "start_time": "2022-08-31T14:21:58.197Z"
   },
   {
    "duration": 41,
    "start_time": "2022-08-31T14:21:59.423Z"
   },
   {
    "duration": 225,
    "start_time": "2022-08-31T14:22:04.349Z"
   },
   {
    "duration": 13,
    "start_time": "2022-08-31T14:24:20.714Z"
   },
   {
    "duration": 88,
    "start_time": "2022-08-31T14:25:11.759Z"
   },
   {
    "duration": 14,
    "start_time": "2022-08-31T14:25:28.373Z"
   },
   {
    "duration": 4,
    "start_time": "2022-08-31T14:25:39.464Z"
   },
   {
    "duration": 87,
    "start_time": "2022-08-31T14:25:40.097Z"
   },
   {
    "duration": 16,
    "start_time": "2022-08-31T14:25:40.724Z"
   },
   {
    "duration": 17,
    "start_time": "2022-08-31T14:25:41.056Z"
   },
   {
    "duration": 3,
    "start_time": "2022-08-31T14:25:41.428Z"
   },
   {
    "duration": 4,
    "start_time": "2022-08-31T14:25:41.969Z"
   },
   {
    "duration": 5,
    "start_time": "2022-08-31T14:25:42.837Z"
   },
   {
    "duration": 10,
    "start_time": "2022-08-31T14:25:43.134Z"
   },
   {
    "duration": 8,
    "start_time": "2022-08-31T14:25:44.174Z"
   },
   {
    "duration": 6,
    "start_time": "2022-08-31T14:25:44.588Z"
   },
   {
    "duration": 5,
    "start_time": "2022-08-31T14:25:44.901Z"
   },
   {
    "duration": 10,
    "start_time": "2022-08-31T14:25:45.609Z"
   },
   {
    "duration": 8,
    "start_time": "2022-08-31T14:25:45.994Z"
   },
   {
    "duration": 5,
    "start_time": "2022-08-31T14:25:46.902Z"
   },
   {
    "duration": 5,
    "start_time": "2022-08-31T14:30:27.006Z"
   },
   {
    "duration": 4,
    "start_time": "2022-08-31T14:31:52.928Z"
   },
   {
    "duration": 6,
    "start_time": "2022-08-31T14:31:57.398Z"
   },
   {
    "duration": 14,
    "start_time": "2022-08-31T14:32:00.426Z"
   },
   {
    "duration": 6,
    "start_time": "2022-08-31T14:32:14.980Z"
   },
   {
    "duration": 11,
    "start_time": "2022-08-31T14:32:21.615Z"
   },
   {
    "duration": 8,
    "start_time": "2022-08-31T14:32:39.825Z"
   },
   {
    "duration": 5,
    "start_time": "2022-08-31T14:33:51.303Z"
   },
   {
    "duration": 11,
    "start_time": "2022-08-31T14:34:31.741Z"
   },
   {
    "duration": 13,
    "start_time": "2022-08-31T14:34:50.019Z"
   },
   {
    "duration": 11,
    "start_time": "2022-08-31T14:35:55.135Z"
   },
   {
    "duration": 94,
    "start_time": "2022-08-31T14:38:13.264Z"
   },
   {
    "duration": 7,
    "start_time": "2022-08-31T14:38:17.600Z"
   },
   {
    "duration": 7,
    "start_time": "2022-08-31T14:39:47.895Z"
   },
   {
    "duration": 10,
    "start_time": "2022-08-31T14:39:57.798Z"
   },
   {
    "duration": 5,
    "start_time": "2022-08-31T14:43:25.333Z"
   },
   {
    "duration": 12,
    "start_time": "2022-08-31T14:43:30.580Z"
   },
   {
    "duration": 109,
    "start_time": "2022-08-31T14:43:46.569Z"
   },
   {
    "duration": 274,
    "start_time": "2022-08-31T14:44:12.389Z"
   },
   {
    "duration": 12,
    "start_time": "2022-08-31T14:44:44.780Z"
   },
   {
    "duration": 5,
    "start_time": "2022-08-31T14:45:03.766Z"
   },
   {
    "duration": 256,
    "start_time": "2022-08-31T14:45:11.772Z"
   },
   {
    "duration": 268,
    "start_time": "2022-08-31T14:46:46.796Z"
   },
   {
    "duration": 334,
    "start_time": "2022-08-31T14:47:17.063Z"
   },
   {
    "duration": 361,
    "start_time": "2022-08-31T14:47:24.795Z"
   },
   {
    "duration": 302,
    "start_time": "2022-08-31T14:47:33.692Z"
   },
   {
    "duration": 16,
    "start_time": "2022-08-31T14:50:07.676Z"
   },
   {
    "duration": 28,
    "start_time": "2022-08-31T14:50:11.521Z"
   },
   {
    "duration": 6,
    "start_time": "2022-08-31T14:50:12.689Z"
   },
   {
    "duration": 15,
    "start_time": "2022-08-31T14:50:13.474Z"
   },
   {
    "duration": 274,
    "start_time": "2022-08-31T15:25:50.284Z"
   },
   {
    "duration": 500,
    "start_time": "2022-08-31T15:26:16.433Z"
   },
   {
    "duration": 17,
    "start_time": "2022-08-31T19:51:49.765Z"
   },
   {
    "duration": 12,
    "start_time": "2022-08-31T19:52:11.159Z"
   },
   {
    "duration": 107,
    "start_time": "2022-08-31T19:52:54.770Z"
   },
   {
    "duration": 208,
    "start_time": "2022-08-31T19:53:04.687Z"
   },
   {
    "duration": 201,
    "start_time": "2022-08-31T19:53:36.942Z"
   },
   {
    "duration": 281,
    "start_time": "2022-08-31T19:53:43.009Z"
   },
   {
    "duration": 198,
    "start_time": "2022-08-31T19:57:37.161Z"
   },
   {
    "duration": 85,
    "start_time": "2022-08-31T20:01:15.127Z"
   },
   {
    "duration": 196,
    "start_time": "2022-08-31T20:01:20.969Z"
   },
   {
    "duration": 209,
    "start_time": "2022-08-31T20:01:25.181Z"
   },
   {
    "duration": 159,
    "start_time": "2022-08-31T20:01:38.985Z"
   },
   {
    "duration": 147,
    "start_time": "2022-08-31T20:02:30.775Z"
   },
   {
    "duration": 135,
    "start_time": "2022-08-31T20:02:38.133Z"
   },
   {
    "duration": 269,
    "start_time": "2022-08-31T20:02:45.295Z"
   },
   {
    "duration": 13,
    "start_time": "2022-08-31T20:03:36.431Z"
   },
   {
    "duration": 277,
    "start_time": "2022-08-31T20:03:38.891Z"
   },
   {
    "duration": 393,
    "start_time": "2022-08-31T20:04:05.892Z"
   },
   {
    "duration": 144,
    "start_time": "2022-08-31T20:05:37.992Z"
   },
   {
    "duration": 127,
    "start_time": "2022-08-31T20:05:41.731Z"
   },
   {
    "duration": 273,
    "start_time": "2022-08-31T20:05:51.160Z"
   },
   {
    "duration": 286,
    "start_time": "2022-08-31T20:06:00.583Z"
   },
   {
    "duration": 283,
    "start_time": "2022-08-31T20:06:13.664Z"
   },
   {
    "duration": 330,
    "start_time": "2022-08-31T20:06:26.243Z"
   },
   {
    "duration": 168,
    "start_time": "2022-08-31T20:06:34.311Z"
   },
   {
    "duration": 137,
    "start_time": "2022-08-31T20:06:51.496Z"
   },
   {
    "duration": 140,
    "start_time": "2022-08-31T20:06:54.871Z"
   },
   {
    "duration": 11,
    "start_time": "2022-08-31T20:07:15.135Z"
   },
   {
    "duration": 118,
    "start_time": "2022-08-31T20:07:16.104Z"
   },
   {
    "duration": 114,
    "start_time": "2022-08-31T20:07:21.212Z"
   },
   {
    "duration": 114,
    "start_time": "2022-08-31T20:08:54.718Z"
   },
   {
    "duration": 252,
    "start_time": "2022-08-31T20:09:21.463Z"
   },
   {
    "duration": 120,
    "start_time": "2022-08-31T20:09:25.508Z"
   },
   {
    "duration": 124,
    "start_time": "2022-08-31T20:09:29.614Z"
   },
   {
    "duration": 114,
    "start_time": "2022-08-31T20:12:57.263Z"
   },
   {
    "duration": 272,
    "start_time": "2022-08-31T20:13:11.698Z"
   },
   {
    "duration": 8,
    "start_time": "2022-08-31T20:15:00.699Z"
   },
   {
    "duration": 7,
    "start_time": "2022-08-31T20:15:04.362Z"
   },
   {
    "duration": 9,
    "start_time": "2022-08-31T20:15:09.042Z"
   },
   {
    "duration": 282,
    "start_time": "2022-08-31T20:16:34.761Z"
   },
   {
    "duration": 10,
    "start_time": "2022-08-31T20:16:47.697Z"
   },
   {
    "duration": 282,
    "start_time": "2022-08-31T20:16:48.666Z"
   },
   {
    "duration": 10,
    "start_time": "2022-08-31T20:18:46.823Z"
   },
   {
    "duration": 114,
    "start_time": "2022-08-31T20:20:02.547Z"
   },
   {
    "duration": 125,
    "start_time": "2022-08-31T20:20:13.961Z"
   },
   {
    "duration": 12,
    "start_time": "2022-08-31T20:21:27.677Z"
   },
   {
    "duration": 10,
    "start_time": "2022-08-31T20:21:28.029Z"
   },
   {
    "duration": 5,
    "start_time": "2022-08-31T20:21:28.347Z"
   },
   {
    "duration": 11,
    "start_time": "2022-08-31T20:21:29.588Z"
   },
   {
    "duration": 13,
    "start_time": "2022-08-31T20:21:29.820Z"
   },
   {
    "duration": 5,
    "start_time": "2022-08-31T20:21:30.194Z"
   },
   {
    "duration": 119,
    "start_time": "2022-08-31T20:22:17.602Z"
   },
   {
    "duration": 123,
    "start_time": "2022-08-31T20:22:23.613Z"
   },
   {
    "duration": 9,
    "start_time": "2022-08-31T20:23:10.582Z"
   },
   {
    "duration": 11,
    "start_time": "2022-08-31T20:23:18.348Z"
   },
   {
    "duration": 113,
    "start_time": "2022-08-31T20:23:30.612Z"
   },
   {
    "duration": 110,
    "start_time": "2022-08-31T20:23:41.186Z"
   },
   {
    "duration": 55,
    "start_time": "2022-08-31T20:24:28.534Z"
   },
   {
    "duration": 127,
    "start_time": "2022-08-31T20:24:38.597Z"
   },
   {
    "duration": 123,
    "start_time": "2022-08-31T20:24:45.490Z"
   },
   {
    "duration": 16,
    "start_time": "2022-08-31T20:25:15.128Z"
   },
   {
    "duration": 132,
    "start_time": "2022-08-31T20:25:21.912Z"
   },
   {
    "duration": 13,
    "start_time": "2022-08-31T20:25:37.443Z"
   },
   {
    "duration": 397,
    "start_time": "2022-08-31T20:25:57.161Z"
   },
   {
    "duration": 324,
    "start_time": "2022-08-31T20:26:04.063Z"
   },
   {
    "duration": 260,
    "start_time": "2022-08-31T20:26:28.276Z"
   },
   {
    "duration": 278,
    "start_time": "2022-08-31T20:26:45.094Z"
   },
   {
    "duration": 31,
    "start_time": "2022-08-31T20:26:57.745Z"
   },
   {
    "duration": 14,
    "start_time": "2022-08-31T20:27:19.787Z"
   },
   {
    "duration": 12,
    "start_time": "2022-08-31T20:31:26.823Z"
   },
   {
    "duration": 4,
    "start_time": "2022-08-31T20:31:58.477Z"
   },
   {
    "duration": 13,
    "start_time": "2022-08-31T20:32:05.265Z"
   },
   {
    "duration": 9,
    "start_time": "2022-08-31T20:32:21.289Z"
   },
   {
    "duration": 15,
    "start_time": "2022-08-31T20:32:27.234Z"
   },
   {
    "duration": 9,
    "start_time": "2022-08-31T20:32:37.835Z"
   },
   {
    "duration": 11,
    "start_time": "2022-08-31T20:32:47.483Z"
   },
   {
    "duration": 8,
    "start_time": "2022-08-31T20:33:47.801Z"
   },
   {
    "duration": 10,
    "start_time": "2022-08-31T20:33:58.271Z"
   },
   {
    "duration": 20,
    "start_time": "2022-08-31T20:34:39.563Z"
   },
   {
    "duration": 13,
    "start_time": "2022-08-31T20:34:51.310Z"
   },
   {
    "duration": 582,
    "start_time": "2022-08-31T20:35:03.241Z"
   },
   {
    "duration": 295,
    "start_time": "2022-08-31T20:35:22.847Z"
   },
   {
    "duration": 14,
    "start_time": "2022-08-31T20:35:37.722Z"
   },
   {
    "duration": 13,
    "start_time": "2022-08-31T20:35:47.484Z"
   },
   {
    "duration": 18,
    "start_time": "2022-08-31T20:35:52.520Z"
   },
   {
    "duration": 314,
    "start_time": "2022-08-31T20:35:53.193Z"
   },
   {
    "duration": 165,
    "start_time": "2022-08-31T20:36:10.600Z"
   },
   {
    "duration": 442,
    "start_time": "2022-08-31T20:37:18.445Z"
   },
   {
    "duration": 73,
    "start_time": "2022-08-31T20:37:27.139Z"
   },
   {
    "duration": 359,
    "start_time": "2022-08-31T20:37:32.064Z"
   },
   {
    "duration": 302,
    "start_time": "2022-08-31T20:37:38.462Z"
   },
   {
    "duration": 547,
    "start_time": "2022-08-31T20:37:55.164Z"
   },
   {
    "duration": 14,
    "start_time": "2022-08-31T20:38:13.045Z"
   },
   {
    "duration": 15,
    "start_time": "2022-08-31T20:38:54.937Z"
   },
   {
    "duration": 15,
    "start_time": "2022-08-31T20:39:06.103Z"
   },
   {
    "duration": 22,
    "start_time": "2022-08-31T20:43:34.868Z"
   },
   {
    "duration": 20,
    "start_time": "2022-08-31T20:43:35.735Z"
   },
   {
    "duration": 9,
    "start_time": "2022-08-31T20:43:37.036Z"
   },
   {
    "duration": 9,
    "start_time": "2022-08-31T20:43:37.514Z"
   },
   {
    "duration": 10,
    "start_time": "2022-08-31T20:43:37.902Z"
   },
   {
    "duration": 12,
    "start_time": "2022-08-31T21:02:40.862Z"
   },
   {
    "duration": 88,
    "start_time": "2022-08-31T21:02:53.577Z"
   },
   {
    "duration": 110,
    "start_time": "2022-08-31T21:03:14.640Z"
   },
   {
    "duration": 64,
    "start_time": "2022-08-31T21:03:36.677Z"
   },
   {
    "duration": 107,
    "start_time": "2022-08-31T21:03:40.962Z"
   },
   {
    "duration": 163,
    "start_time": "2022-08-31T21:05:17.486Z"
   },
   {
    "duration": 176,
    "start_time": "2022-08-31T21:05:23.701Z"
   },
   {
    "duration": 105,
    "start_time": "2022-08-31T21:05:56.586Z"
   },
   {
    "duration": 157,
    "start_time": "2022-08-31T21:21:59.283Z"
   },
   {
    "duration": 135,
    "start_time": "2022-08-31T21:22:56.596Z"
   },
   {
    "duration": 155,
    "start_time": "2022-08-31T21:23:12.831Z"
   },
   {
    "duration": 20,
    "start_time": "2022-08-31T21:26:04.394Z"
   },
   {
    "duration": 179,
    "start_time": "2022-08-31T21:26:24.503Z"
   },
   {
    "duration": 21,
    "start_time": "2022-08-31T21:26:34.310Z"
   },
   {
    "duration": 62,
    "start_time": "2022-08-31T21:27:04.889Z"
   },
   {
    "duration": 1135,
    "start_time": "2022-09-01T19:01:34.428Z"
   },
   {
    "duration": 210,
    "start_time": "2022-09-01T19:01:35.566Z"
   },
   {
    "duration": 17,
    "start_time": "2022-09-01T19:01:35.777Z"
   },
   {
    "duration": 31,
    "start_time": "2022-09-01T19:01:35.799Z"
   },
   {
    "duration": 11,
    "start_time": "2022-09-01T19:01:35.832Z"
   },
   {
    "duration": 26,
    "start_time": "2022-09-01T19:01:35.845Z"
   },
   {
    "duration": 41,
    "start_time": "2022-09-01T19:01:35.873Z"
   },
   {
    "duration": 21,
    "start_time": "2022-09-01T19:01:35.916Z"
   },
   {
    "duration": 25,
    "start_time": "2022-09-01T19:01:35.939Z"
   },
   {
    "duration": 5,
    "start_time": "2022-09-01T19:01:35.968Z"
   },
   {
    "duration": 53,
    "start_time": "2022-09-01T19:01:35.975Z"
   },
   {
    "duration": 24,
    "start_time": "2022-09-01T19:01:36.030Z"
   },
   {
    "duration": 20,
    "start_time": "2022-09-01T19:01:36.056Z"
   },
   {
    "duration": 47,
    "start_time": "2022-09-01T19:01:36.078Z"
   },
   {
    "duration": 4,
    "start_time": "2022-09-01T19:01:36.127Z"
   },
   {
    "duration": 443,
    "start_time": "2022-09-01T19:01:36.133Z"
   },
   {
    "duration": 28,
    "start_time": "2022-09-01T19:01:36.581Z"
   },
   {
    "duration": 65,
    "start_time": "2022-09-01T19:01:36.610Z"
   },
   {
    "duration": 12,
    "start_time": "2022-09-01T19:01:36.677Z"
   },
   {
    "duration": 43,
    "start_time": "2022-09-01T19:01:36.692Z"
   },
   {
    "duration": 541,
    "start_time": "2022-09-01T19:01:36.737Z"
   },
   {
    "duration": 151,
    "start_time": "2022-09-01T19:01:37.279Z"
   },
   {
    "duration": 144,
    "start_time": "2022-09-01T19:01:37.431Z"
   },
   {
    "duration": 54,
    "start_time": "2022-09-01T19:01:37.577Z"
   },
   {
    "duration": 6,
    "start_time": "2022-09-01T19:01:37.633Z"
   },
   {
    "duration": 18,
    "start_time": "2022-09-01T19:01:37.641Z"
   },
   {
    "duration": 555,
    "start_time": "2022-09-01T19:01:37.661Z"
   },
   {
    "duration": 16,
    "start_time": "2022-09-01T19:01:38.219Z"
   },
   {
    "duration": 15,
    "start_time": "2022-09-01T19:01:38.237Z"
   },
   {
    "duration": 176,
    "start_time": "2022-09-01T19:01:38.254Z"
   },
   {
    "duration": 98,
    "start_time": "2022-09-01T19:01:38.431Z"
   },
   {
    "duration": 100,
    "start_time": "2022-09-01T19:01:38.531Z"
   },
   {
    "duration": 10,
    "start_time": "2022-09-01T19:01:38.633Z"
   },
   {
    "duration": 15,
    "start_time": "2022-09-01T19:01:38.644Z"
   },
   {
    "duration": 7,
    "start_time": "2022-09-01T19:01:38.661Z"
   },
   {
    "duration": 31,
    "start_time": "2022-09-01T19:01:38.670Z"
   },
   {
    "duration": 13,
    "start_time": "2022-09-01T19:01:38.703Z"
   },
   {
    "duration": 11,
    "start_time": "2022-09-01T19:01:38.718Z"
   },
   {
    "duration": 20,
    "start_time": "2022-09-01T19:21:52.250Z"
   },
   {
    "duration": 8,
    "start_time": "2022-09-01T19:22:19.263Z"
   },
   {
    "duration": 143,
    "start_time": "2022-09-01T19:22:28.963Z"
   },
   {
    "duration": 161,
    "start_time": "2022-09-01T19:24:44.027Z"
   }
  ],
  "kernelspec": {
   "display_name": "Python 3 (ipykernel)",
   "language": "python",
   "name": "python3"
  },
  "language_info": {
   "codemirror_mode": {
    "name": "ipython",
    "version": 3
   },
   "file_extension": ".py",
   "mimetype": "text/x-python",
   "name": "python",
   "nbconvert_exporter": "python",
   "pygments_lexer": "ipython3",
   "version": "3.9.5"
  },
  "toc": {
   "base_numbering": 1,
   "nav_menu": {},
   "number_sections": true,
   "sideBar": true,
   "skip_h1_title": true,
   "title_cell": "Table of Contents",
   "title_sidebar": "Contents",
   "toc_cell": false,
   "toc_position": {},
   "toc_section_display": true,
   "toc_window_display": false
  }
 },
 "nbformat": 4,
 "nbformat_minor": 2
}
