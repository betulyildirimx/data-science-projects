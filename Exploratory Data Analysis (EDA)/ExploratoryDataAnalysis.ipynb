{
 "cells": [
  {
   "cell_type": "markdown",
   "metadata": {},
   "source": [
    "# What sells a car?\n",
    "\n",
    "You're an analyst at Crankshaft List. Hundreds of free advertisements for vehicles are published on your site every day. You need to study data collected over the last few years and determine which factors influence the price of a vehicle."
   ]
  },
  {
   "cell_type": "markdown",
   "metadata": {},
   "source": [
    "## Initialization"
   ]
  },
  {
   "cell_type": "code",
   "execution_count": 1,
   "metadata": {},
   "outputs": [],
   "source": [
    "# Loading all the libraries\n",
    "import pandas as pd\n",
    "import matplotlib.pyplot as plt \n",
    "import numpy as np"
   ]
  },
  {
   "cell_type": "markdown",
   "metadata": {},
   "source": [
    "### Load data"
   ]
  },
  {
   "cell_type": "code",
   "execution_count": 2,
   "metadata": {},
   "outputs": [],
   "source": [
    "# Load the data file into a DataFrame\n",
    "data= pd.read_csv('/datasets/vehicles_us.csv')\n"
   ]
  },
  {
   "cell_type": "markdown",
   "metadata": {},
   "source": [
    "### Explore initial data"
   ]
  },
  {
   "cell_type": "markdown",
   "metadata": {},
   "source": [
    "The dataset contains the following fields:\n",
    "- `price`\n",
    "- `model_year`\n",
    "- `model`\n",
    "- `condition`\n",
    "- `cylinders`\n",
    "- `fuel` — gas, diesel, etc.\n",
    "- `odometer` — the vehicle's mileage when the ad was published\n",
    "- `transmission`\n",
    "- `paint_color`\n",
    "- `is_4wd` — whether the vehicle has 4-wheel drive (Boolean type)\n",
    "- `date_posted` — the date the ad was published\n",
    "- `days_listed` — from publication to removal\n"
   ]
  },
  {
   "cell_type": "code",
   "execution_count": 3,
   "metadata": {},
   "outputs": [
    {
     "name": "stdout",
     "output_type": "stream",
     "text": [
      "<class 'pandas.core.frame.DataFrame'>\n",
      "RangeIndex: 51525 entries, 0 to 51524\n",
      "Data columns (total 13 columns):\n",
      " #   Column        Non-Null Count  Dtype  \n",
      "---  ------        --------------  -----  \n",
      " 0   price         51525 non-null  int64  \n",
      " 1   model_year    47906 non-null  float64\n",
      " 2   model         51525 non-null  object \n",
      " 3   condition     51525 non-null  object \n",
      " 4   cylinders     46265 non-null  float64\n",
      " 5   fuel          51525 non-null  object \n",
      " 6   odometer      43633 non-null  float64\n",
      " 7   transmission  51525 non-null  object \n",
      " 8   type          51525 non-null  object \n",
      " 9   paint_color   42258 non-null  object \n",
      " 10  is_4wd        25572 non-null  float64\n",
      " 11  date_posted   51525 non-null  object \n",
      " 12  days_listed   51525 non-null  int64  \n",
      "dtypes: float64(4), int64(2), object(7)\n",
      "memory usage: 5.1+ MB\n"
     ]
    }
   ],
   "source": [
    "# print the general/summary information about the DataFrame\n",
    "data.info()\n"
   ]
  },
  {
   "cell_type": "code",
   "execution_count": 4,
   "metadata": {},
   "outputs": [
    {
     "data": {
      "text/html": [
       "<div>\n",
       "<style scoped>\n",
       "    .dataframe tbody tr th:only-of-type {\n",
       "        vertical-align: middle;\n",
       "    }\n",
       "\n",
       "    .dataframe tbody tr th {\n",
       "        vertical-align: top;\n",
       "    }\n",
       "\n",
       "    .dataframe thead th {\n",
       "        text-align: right;\n",
       "    }\n",
       "</style>\n",
       "<table border=\"1\" class=\"dataframe\">\n",
       "  <thead>\n",
       "    <tr style=\"text-align: right;\">\n",
       "      <th></th>\n",
       "      <th>price</th>\n",
       "      <th>model_year</th>\n",
       "      <th>model</th>\n",
       "      <th>condition</th>\n",
       "      <th>cylinders</th>\n",
       "      <th>fuel</th>\n",
       "      <th>odometer</th>\n",
       "      <th>transmission</th>\n",
       "      <th>type</th>\n",
       "      <th>paint_color</th>\n",
       "      <th>is_4wd</th>\n",
       "      <th>date_posted</th>\n",
       "      <th>days_listed</th>\n",
       "    </tr>\n",
       "  </thead>\n",
       "  <tbody>\n",
       "    <tr>\n",
       "      <th>0</th>\n",
       "      <td>9400</td>\n",
       "      <td>2011.0</td>\n",
       "      <td>bmw x5</td>\n",
       "      <td>good</td>\n",
       "      <td>6.0</td>\n",
       "      <td>gas</td>\n",
       "      <td>145000.0</td>\n",
       "      <td>automatic</td>\n",
       "      <td>SUV</td>\n",
       "      <td>NaN</td>\n",
       "      <td>1.0</td>\n",
       "      <td>2018-06-23</td>\n",
       "      <td>19</td>\n",
       "    </tr>\n",
       "    <tr>\n",
       "      <th>1</th>\n",
       "      <td>25500</td>\n",
       "      <td>NaN</td>\n",
       "      <td>ford f-150</td>\n",
       "      <td>good</td>\n",
       "      <td>6.0</td>\n",
       "      <td>gas</td>\n",
       "      <td>88705.0</td>\n",
       "      <td>automatic</td>\n",
       "      <td>pickup</td>\n",
       "      <td>white</td>\n",
       "      <td>1.0</td>\n",
       "      <td>2018-10-19</td>\n",
       "      <td>50</td>\n",
       "    </tr>\n",
       "    <tr>\n",
       "      <th>2</th>\n",
       "      <td>5500</td>\n",
       "      <td>2013.0</td>\n",
       "      <td>hyundai sonata</td>\n",
       "      <td>like new</td>\n",
       "      <td>4.0</td>\n",
       "      <td>gas</td>\n",
       "      <td>110000.0</td>\n",
       "      <td>automatic</td>\n",
       "      <td>sedan</td>\n",
       "      <td>red</td>\n",
       "      <td>NaN</td>\n",
       "      <td>2019-02-07</td>\n",
       "      <td>79</td>\n",
       "    </tr>\n",
       "    <tr>\n",
       "      <th>3</th>\n",
       "      <td>1500</td>\n",
       "      <td>2003.0</td>\n",
       "      <td>ford f-150</td>\n",
       "      <td>fair</td>\n",
       "      <td>8.0</td>\n",
       "      <td>gas</td>\n",
       "      <td>NaN</td>\n",
       "      <td>automatic</td>\n",
       "      <td>pickup</td>\n",
       "      <td>NaN</td>\n",
       "      <td>NaN</td>\n",
       "      <td>2019-03-22</td>\n",
       "      <td>9</td>\n",
       "    </tr>\n",
       "    <tr>\n",
       "      <th>4</th>\n",
       "      <td>14900</td>\n",
       "      <td>2017.0</td>\n",
       "      <td>chrysler 200</td>\n",
       "      <td>excellent</td>\n",
       "      <td>4.0</td>\n",
       "      <td>gas</td>\n",
       "      <td>80903.0</td>\n",
       "      <td>automatic</td>\n",
       "      <td>sedan</td>\n",
       "      <td>black</td>\n",
       "      <td>NaN</td>\n",
       "      <td>2019-04-02</td>\n",
       "      <td>28</td>\n",
       "    </tr>\n",
       "    <tr>\n",
       "      <th>5</th>\n",
       "      <td>14990</td>\n",
       "      <td>2014.0</td>\n",
       "      <td>chrysler 300</td>\n",
       "      <td>excellent</td>\n",
       "      <td>6.0</td>\n",
       "      <td>gas</td>\n",
       "      <td>57954.0</td>\n",
       "      <td>automatic</td>\n",
       "      <td>sedan</td>\n",
       "      <td>black</td>\n",
       "      <td>1.0</td>\n",
       "      <td>2018-06-20</td>\n",
       "      <td>15</td>\n",
       "    </tr>\n",
       "    <tr>\n",
       "      <th>6</th>\n",
       "      <td>12990</td>\n",
       "      <td>2015.0</td>\n",
       "      <td>toyota camry</td>\n",
       "      <td>excellent</td>\n",
       "      <td>4.0</td>\n",
       "      <td>gas</td>\n",
       "      <td>79212.0</td>\n",
       "      <td>automatic</td>\n",
       "      <td>sedan</td>\n",
       "      <td>white</td>\n",
       "      <td>NaN</td>\n",
       "      <td>2018-12-27</td>\n",
       "      <td>73</td>\n",
       "    </tr>\n",
       "    <tr>\n",
       "      <th>7</th>\n",
       "      <td>15990</td>\n",
       "      <td>2013.0</td>\n",
       "      <td>honda pilot</td>\n",
       "      <td>excellent</td>\n",
       "      <td>6.0</td>\n",
       "      <td>gas</td>\n",
       "      <td>109473.0</td>\n",
       "      <td>automatic</td>\n",
       "      <td>SUV</td>\n",
       "      <td>black</td>\n",
       "      <td>1.0</td>\n",
       "      <td>2019-01-07</td>\n",
       "      <td>68</td>\n",
       "    </tr>\n",
       "    <tr>\n",
       "      <th>8</th>\n",
       "      <td>11500</td>\n",
       "      <td>2012.0</td>\n",
       "      <td>kia sorento</td>\n",
       "      <td>excellent</td>\n",
       "      <td>4.0</td>\n",
       "      <td>gas</td>\n",
       "      <td>104174.0</td>\n",
       "      <td>automatic</td>\n",
       "      <td>SUV</td>\n",
       "      <td>NaN</td>\n",
       "      <td>1.0</td>\n",
       "      <td>2018-07-16</td>\n",
       "      <td>19</td>\n",
       "    </tr>\n",
       "    <tr>\n",
       "      <th>9</th>\n",
       "      <td>9200</td>\n",
       "      <td>2008.0</td>\n",
       "      <td>honda pilot</td>\n",
       "      <td>excellent</td>\n",
       "      <td>NaN</td>\n",
       "      <td>gas</td>\n",
       "      <td>147191.0</td>\n",
       "      <td>automatic</td>\n",
       "      <td>SUV</td>\n",
       "      <td>blue</td>\n",
       "      <td>1.0</td>\n",
       "      <td>2019-02-15</td>\n",
       "      <td>17</td>\n",
       "    </tr>\n",
       "    <tr>\n",
       "      <th>10</th>\n",
       "      <td>19500</td>\n",
       "      <td>2011.0</td>\n",
       "      <td>chevrolet silverado 1500</td>\n",
       "      <td>excellent</td>\n",
       "      <td>8.0</td>\n",
       "      <td>gas</td>\n",
       "      <td>128413.0</td>\n",
       "      <td>automatic</td>\n",
       "      <td>pickup</td>\n",
       "      <td>black</td>\n",
       "      <td>1.0</td>\n",
       "      <td>2018-09-17</td>\n",
       "      <td>38</td>\n",
       "    </tr>\n",
       "    <tr>\n",
       "      <th>11</th>\n",
       "      <td>8990</td>\n",
       "      <td>2012.0</td>\n",
       "      <td>honda accord</td>\n",
       "      <td>excellent</td>\n",
       "      <td>4.0</td>\n",
       "      <td>gas</td>\n",
       "      <td>111142.0</td>\n",
       "      <td>automatic</td>\n",
       "      <td>sedan</td>\n",
       "      <td>grey</td>\n",
       "      <td>NaN</td>\n",
       "      <td>2019-03-28</td>\n",
       "      <td>29</td>\n",
       "    </tr>\n",
       "    <tr>\n",
       "      <th>12</th>\n",
       "      <td>18990</td>\n",
       "      <td>2012.0</td>\n",
       "      <td>ram 1500</td>\n",
       "      <td>excellent</td>\n",
       "      <td>8.0</td>\n",
       "      <td>gas</td>\n",
       "      <td>140742.0</td>\n",
       "      <td>automatic</td>\n",
       "      <td>pickup</td>\n",
       "      <td>NaN</td>\n",
       "      <td>1.0</td>\n",
       "      <td>2019-04-02</td>\n",
       "      <td>37</td>\n",
       "    </tr>\n",
       "    <tr>\n",
       "      <th>13</th>\n",
       "      <td>16500</td>\n",
       "      <td>2018.0</td>\n",
       "      <td>hyundai sonata</td>\n",
       "      <td>excellent</td>\n",
       "      <td>4.0</td>\n",
       "      <td>gas</td>\n",
       "      <td>22104.0</td>\n",
       "      <td>automatic</td>\n",
       "      <td>sedan</td>\n",
       "      <td>silver</td>\n",
       "      <td>NaN</td>\n",
       "      <td>2019-01-14</td>\n",
       "      <td>29</td>\n",
       "    </tr>\n",
       "    <tr>\n",
       "      <th>14</th>\n",
       "      <td>12990</td>\n",
       "      <td>2009.0</td>\n",
       "      <td>gmc yukon</td>\n",
       "      <td>excellent</td>\n",
       "      <td>8.0</td>\n",
       "      <td>gas</td>\n",
       "      <td>132285.0</td>\n",
       "      <td>automatic</td>\n",
       "      <td>SUV</td>\n",
       "      <td>black</td>\n",
       "      <td>1.0</td>\n",
       "      <td>2019-01-31</td>\n",
       "      <td>24</td>\n",
       "    </tr>\n",
       "    <tr>\n",
       "      <th>15</th>\n",
       "      <td>17990</td>\n",
       "      <td>2013.0</td>\n",
       "      <td>ram 1500</td>\n",
       "      <td>excellent</td>\n",
       "      <td>8.0</td>\n",
       "      <td>gas</td>\n",
       "      <td>NaN</td>\n",
       "      <td>automatic</td>\n",
       "      <td>pickup</td>\n",
       "      <td>red</td>\n",
       "      <td>1.0</td>\n",
       "      <td>2018-05-15</td>\n",
       "      <td>111</td>\n",
       "    </tr>\n",
       "    <tr>\n",
       "      <th>16</th>\n",
       "      <td>14990</td>\n",
       "      <td>2010.0</td>\n",
       "      <td>ram 1500</td>\n",
       "      <td>excellent</td>\n",
       "      <td>8.0</td>\n",
       "      <td>gas</td>\n",
       "      <td>130725.0</td>\n",
       "      <td>automatic</td>\n",
       "      <td>pickup</td>\n",
       "      <td>red</td>\n",
       "      <td>1.0</td>\n",
       "      <td>2018-12-30</td>\n",
       "      <td>13</td>\n",
       "    </tr>\n",
       "    <tr>\n",
       "      <th>17</th>\n",
       "      <td>13990</td>\n",
       "      <td>2014.0</td>\n",
       "      <td>jeep cherokee</td>\n",
       "      <td>excellent</td>\n",
       "      <td>6.0</td>\n",
       "      <td>gas</td>\n",
       "      <td>100669.0</td>\n",
       "      <td>automatic</td>\n",
       "      <td>SUV</td>\n",
       "      <td>red</td>\n",
       "      <td>1.0</td>\n",
       "      <td>2018-08-16</td>\n",
       "      <td>25</td>\n",
       "    </tr>\n",
       "    <tr>\n",
       "      <th>18</th>\n",
       "      <td>12500</td>\n",
       "      <td>2013.0</td>\n",
       "      <td>chevrolet traverse</td>\n",
       "      <td>excellent</td>\n",
       "      <td>6.0</td>\n",
       "      <td>gas</td>\n",
       "      <td>128325.0</td>\n",
       "      <td>automatic</td>\n",
       "      <td>SUV</td>\n",
       "      <td>white</td>\n",
       "      <td>1.0</td>\n",
       "      <td>2019-04-09</td>\n",
       "      <td>13</td>\n",
       "    </tr>\n",
       "    <tr>\n",
       "      <th>19</th>\n",
       "      <td>13990</td>\n",
       "      <td>2018.0</td>\n",
       "      <td>hyundai elantra</td>\n",
       "      <td>excellent</td>\n",
       "      <td>4.0</td>\n",
       "      <td>gas</td>\n",
       "      <td>31932.0</td>\n",
       "      <td>automatic</td>\n",
       "      <td>sedan</td>\n",
       "      <td>red</td>\n",
       "      <td>NaN</td>\n",
       "      <td>2018-08-25</td>\n",
       "      <td>27</td>\n",
       "    </tr>\n",
       "  </tbody>\n",
       "</table>\n",
       "</div>"
      ],
      "text/plain": [
       "    price  model_year                     model  condition  cylinders fuel  \\\n",
       "0    9400      2011.0                    bmw x5       good        6.0  gas   \n",
       "1   25500         NaN                ford f-150       good        6.0  gas   \n",
       "2    5500      2013.0            hyundai sonata   like new        4.0  gas   \n",
       "3    1500      2003.0                ford f-150       fair        8.0  gas   \n",
       "4   14900      2017.0              chrysler 200  excellent        4.0  gas   \n",
       "5   14990      2014.0              chrysler 300  excellent        6.0  gas   \n",
       "6   12990      2015.0              toyota camry  excellent        4.0  gas   \n",
       "7   15990      2013.0               honda pilot  excellent        6.0  gas   \n",
       "8   11500      2012.0               kia sorento  excellent        4.0  gas   \n",
       "9    9200      2008.0               honda pilot  excellent        NaN  gas   \n",
       "10  19500      2011.0  chevrolet silverado 1500  excellent        8.0  gas   \n",
       "11   8990      2012.0              honda accord  excellent        4.0  gas   \n",
       "12  18990      2012.0                  ram 1500  excellent        8.0  gas   \n",
       "13  16500      2018.0            hyundai sonata  excellent        4.0  gas   \n",
       "14  12990      2009.0                 gmc yukon  excellent        8.0  gas   \n",
       "15  17990      2013.0                  ram 1500  excellent        8.0  gas   \n",
       "16  14990      2010.0                  ram 1500  excellent        8.0  gas   \n",
       "17  13990      2014.0             jeep cherokee  excellent        6.0  gas   \n",
       "18  12500      2013.0        chevrolet traverse  excellent        6.0  gas   \n",
       "19  13990      2018.0           hyundai elantra  excellent        4.0  gas   \n",
       "\n",
       "    odometer transmission    type paint_color  is_4wd date_posted  days_listed  \n",
       "0   145000.0    automatic     SUV         NaN     1.0  2018-06-23           19  \n",
       "1    88705.0    automatic  pickup       white     1.0  2018-10-19           50  \n",
       "2   110000.0    automatic   sedan         red     NaN  2019-02-07           79  \n",
       "3        NaN    automatic  pickup         NaN     NaN  2019-03-22            9  \n",
       "4    80903.0    automatic   sedan       black     NaN  2019-04-02           28  \n",
       "5    57954.0    automatic   sedan       black     1.0  2018-06-20           15  \n",
       "6    79212.0    automatic   sedan       white     NaN  2018-12-27           73  \n",
       "7   109473.0    automatic     SUV       black     1.0  2019-01-07           68  \n",
       "8   104174.0    automatic     SUV         NaN     1.0  2018-07-16           19  \n",
       "9   147191.0    automatic     SUV        blue     1.0  2019-02-15           17  \n",
       "10  128413.0    automatic  pickup       black     1.0  2018-09-17           38  \n",
       "11  111142.0    automatic   sedan        grey     NaN  2019-03-28           29  \n",
       "12  140742.0    automatic  pickup         NaN     1.0  2019-04-02           37  \n",
       "13   22104.0    automatic   sedan      silver     NaN  2019-01-14           29  \n",
       "14  132285.0    automatic     SUV       black     1.0  2019-01-31           24  \n",
       "15       NaN    automatic  pickup         red     1.0  2018-05-15          111  \n",
       "16  130725.0    automatic  pickup         red     1.0  2018-12-30           13  \n",
       "17  100669.0    automatic     SUV         red     1.0  2018-08-16           25  \n",
       "18  128325.0    automatic     SUV       white     1.0  2019-04-09           13  \n",
       "19   31932.0    automatic   sedan         red     NaN  2018-08-25           27  "
      ]
     },
     "execution_count": 4,
     "metadata": {},
     "output_type": "execute_result"
    }
   ],
   "source": [
    "# print a sample of data\n",
    "\n",
    "data.head(20)"
   ]
  },
  {
   "cell_type": "markdown",
   "metadata": {},
   "source": [
    "There are some missing values and inappropriate data types. "
   ]
  },
  {
   "cell_type": "markdown",
   "metadata": {},
   "source": [
    "date_posted column should be datetime64 type and model_year could be an int64 type instead of float64"
   ]
  },
  {
   "cell_type": "markdown",
   "metadata": {},
   "source": [
    "Just a few columns have missing values. Most of the missing values are in is_4wd column which(I believe) indicates the car is 2wd. Paint_color column is 2nd to have most missing values. "
   ]
  },
  {
   "cell_type": "markdown",
   "metadata": {},
   "source": [
    "### Conclusions and further steps\n"
   ]
  },
  {
   "cell_type": "markdown",
   "metadata": {},
   "source": [
    "date_posted column should be treated to change its type. I will try to fill in the missing values with appropriate data.  I don't think we can fill the missing values in paint_color column."
   ]
  },
  {
   "cell_type": "markdown",
   "metadata": {},
   "source": [
    "## Treat missing values (if any)"
   ]
  },
  {
   "cell_type": "code",
   "execution_count": 5,
   "metadata": {},
   "outputs": [
    {
     "data": {
      "text/plain": [
       "price            0.000000\n",
       "model_year       7.023775\n",
       "model            0.000000\n",
       "condition        0.000000\n",
       "cylinders       10.208637\n",
       "fuel             0.000000\n",
       "odometer        15.316836\n",
       "transmission     0.000000\n",
       "type             0.000000\n",
       "paint_color     17.985444\n",
       "is_4wd          50.369723\n",
       "date_posted      0.000000\n",
       "days_listed      0.000000\n",
       "dtype: float64"
      ]
     },
     "execution_count": 5,
     "metadata": {},
     "output_type": "execute_result"
    }
   ],
   "source": [
    "data.isna().sum()*100/len(data)"
   ]
  },
  {
   "cell_type": "code",
   "execution_count": 6,
   "metadata": {},
   "outputs": [
    {
     "data": {
      "text/plain": [
       "0"
      ]
     },
     "execution_count": 6,
     "metadata": {},
     "output_type": "execute_result"
    }
   ],
   "source": [
    "data.duplicated().sum()"
   ]
  },
  {
   "cell_type": "code",
   "execution_count": 7,
   "metadata": {},
   "outputs": [],
   "source": [
    "data['date_posted'] = pd.to_datetime(data['date_posted'], format='%Y-%m-%d')"
   ]
  },
  {
   "cell_type": "code",
   "execution_count": 8,
   "metadata": {},
   "outputs": [],
   "source": [
    "data['odometer'].fillna((data['date_posted'].dt.year - data['model_year']) * 15000, inplace=True)"
   ]
  },
  {
   "cell_type": "code",
   "execution_count": 9,
   "metadata": {},
   "outputs": [],
   "source": [
    "data['is_4wd'].fillna('0', inplace=True)"
   ]
  },
  {
   "cell_type": "code",
   "execution_count": 10,
   "metadata": {},
   "outputs": [],
   "source": [
    "data['paint_color'].fillna('unknown', inplace=True)"
   ]
  },
  {
   "cell_type": "markdown",
   "metadata": {},
   "source": [
    "The missing values in is_4wd column means the car is not 4wd. I don't think we would be able to fill in missing colors or model years as we don't have the information and dropping would cause missing an important chunk of information. \n",
    "I will replace the missing values in odometer column with average mileage per year, which is 15000 found by the descibe() method, multiplied by the age of the car when the ad is placed.\n",
    "\n"
   ]
  },
  {
   "cell_type": "markdown",
   "metadata": {},
   "source": [
    "## Fix data types"
   ]
  },
  {
   "cell_type": "code",
   "execution_count": 11,
   "metadata": {},
   "outputs": [],
   "source": [
    "data['date_posted'] = pd.to_datetime(data['date_posted'], format='%Y-%m-%d')"
   ]
  },
  {
   "cell_type": "code",
   "execution_count": 12,
   "metadata": {},
   "outputs": [],
   "source": [
    "data=data.astype({'is_4wd': 'int64'})"
   ]
  },
  {
   "cell_type": "code",
   "execution_count": 13,
   "metadata": {},
   "outputs": [
    {
     "name": "stdout",
     "output_type": "stream",
     "text": [
      "<class 'pandas.core.frame.DataFrame'>\n",
      "RangeIndex: 51525 entries, 0 to 51524\n",
      "Data columns (total 13 columns):\n",
      " #   Column        Non-Null Count  Dtype         \n",
      "---  ------        --------------  -----         \n",
      " 0   price         51525 non-null  int64         \n",
      " 1   model_year    47906 non-null  float64       \n",
      " 2   model         51525 non-null  object        \n",
      " 3   condition     51525 non-null  object        \n",
      " 4   cylinders     46265 non-null  float64       \n",
      " 5   fuel          51525 non-null  object        \n",
      " 6   odometer      50976 non-null  float64       \n",
      " 7   transmission  51525 non-null  object        \n",
      " 8   type          51525 non-null  object        \n",
      " 9   paint_color   51525 non-null  object        \n",
      " 10  is_4wd        51525 non-null  int64         \n",
      " 11  date_posted   51525 non-null  datetime64[ns]\n",
      " 12  days_listed   51525 non-null  int64         \n",
      "dtypes: datetime64[ns](1), float64(3), int64(3), object(6)\n",
      "memory usage: 5.1+ MB\n"
     ]
    }
   ],
   "source": [
    "data.info()"
   ]
  },
  {
   "cell_type": "markdown",
   "metadata": {},
   "source": [
    "## Enrich data"
   ]
  },
  {
   "cell_type": "code",
   "execution_count": 15,
   "metadata": {},
   "outputs": [],
   "source": [
    "# Add the vehicle's age when the ad was placed\n",
    "data['vehicle_age']= data['date_posted'].dt.year - data['model_year'] +1\n",
    "\n"
   ]
  },
  {
   "cell_type": "code",
   "execution_count": 16,
   "metadata": {},
   "outputs": [],
   "source": [
    "# Add the vehicle's average mileage per year\n",
    "data['ave_mileage']= data['odometer'] // data['vehicle_age']\n"
   ]
  },
  {
   "cell_type": "code",
   "execution_count": 17,
   "metadata": {},
   "outputs": [],
   "source": [
    "#replacing the inf values with NaN\n",
    "list=['ave_mileage', 'model_year', 'vehicle_age']\n",
    "for i in list:\n",
    "    data[i].replace([np.inf,-np.inf], np.nan, inplace=True)"
   ]
  },
  {
   "cell_type": "code",
   "execution_count": 18,
   "metadata": {},
   "outputs": [],
   "source": [
    "# It might help to replace the condition values with something that can be manipulated more easily\n",
    "def condition_types(condition):\n",
    "    if condition == 'new':\n",
    "        return 5\n",
    "    if condition == 'like new':\n",
    "        return 4\n",
    "    if condition == 'excellent':\n",
    "        return 3\n",
    "    if condition == 'good':\n",
    "        return 2\n",
    "    if condition == 'fair':\n",
    "        return 1\n",
    "    else:\n",
    "        return 0 \n"
   ]
  },
  {
   "cell_type": "code",
   "execution_count": 19,
   "metadata": {},
   "outputs": [],
   "source": [
    "data['condition'] = data['condition'].apply(condition_types)"
   ]
  },
  {
   "cell_type": "markdown",
   "metadata": {},
   "source": [
    "## Check clean data"
   ]
  },
  {
   "cell_type": "code",
   "execution_count": 20,
   "metadata": {},
   "outputs": [
    {
     "name": "stdout",
     "output_type": "stream",
     "text": [
      "<class 'pandas.core.frame.DataFrame'>\n",
      "RangeIndex: 51525 entries, 0 to 51524\n",
      "Data columns (total 15 columns):\n",
      " #   Column        Non-Null Count  Dtype         \n",
      "---  ------        --------------  -----         \n",
      " 0   price         51525 non-null  int64         \n",
      " 1   model_year    47906 non-null  float64       \n",
      " 2   model         51525 non-null  object        \n",
      " 3   condition     51525 non-null  int64         \n",
      " 4   cylinders     46265 non-null  float64       \n",
      " 5   fuel          51525 non-null  object        \n",
      " 6   odometer      50976 non-null  float64       \n",
      " 7   transmission  51525 non-null  object        \n",
      " 8   type          51525 non-null  object        \n",
      " 9   paint_color   51525 non-null  object        \n",
      " 10  is_4wd        51525 non-null  int64         \n",
      " 11  date_posted   51525 non-null  datetime64[ns]\n",
      " 12  days_listed   51525 non-null  int64         \n",
      " 13  vehicle_age   47906 non-null  float64       \n",
      " 14  ave_mileage   47906 non-null  float64       \n",
      "dtypes: datetime64[ns](1), float64(5), int64(4), object(5)\n",
      "memory usage: 5.9+ MB\n"
     ]
    }
   ],
   "source": [
    "# print the general/summary information about the DataFrame\n",
    "data.info()"
   ]
  },
  {
   "cell_type": "code",
   "execution_count": 21,
   "metadata": {},
   "outputs": [],
   "source": [
    "data['cylinders'].fillna(data.groupby('model')['cylinders'].transform('median'),inplace=True)"
   ]
  },
  {
   "cell_type": "code",
   "execution_count": 22,
   "metadata": {},
   "outputs": [
    {
     "data": {
      "text/html": [
       "<div>\n",
       "<style scoped>\n",
       "    .dataframe tbody tr th:only-of-type {\n",
       "        vertical-align: middle;\n",
       "    }\n",
       "\n",
       "    .dataframe tbody tr th {\n",
       "        vertical-align: top;\n",
       "    }\n",
       "\n",
       "    .dataframe thead th {\n",
       "        text-align: right;\n",
       "    }\n",
       "</style>\n",
       "<table border=\"1\" class=\"dataframe\">\n",
       "  <thead>\n",
       "    <tr style=\"text-align: right;\">\n",
       "      <th></th>\n",
       "      <th>price</th>\n",
       "      <th>model_year</th>\n",
       "      <th>model</th>\n",
       "      <th>condition</th>\n",
       "      <th>cylinders</th>\n",
       "      <th>fuel</th>\n",
       "      <th>odometer</th>\n",
       "      <th>transmission</th>\n",
       "      <th>type</th>\n",
       "      <th>paint_color</th>\n",
       "      <th>is_4wd</th>\n",
       "      <th>date_posted</th>\n",
       "      <th>days_listed</th>\n",
       "      <th>vehicle_age</th>\n",
       "      <th>ave_mileage</th>\n",
       "    </tr>\n",
       "  </thead>\n",
       "  <tbody>\n",
       "    <tr>\n",
       "      <th>0</th>\n",
       "      <td>9400</td>\n",
       "      <td>2011.0</td>\n",
       "      <td>bmw x5</td>\n",
       "      <td>2</td>\n",
       "      <td>6.0</td>\n",
       "      <td>gas</td>\n",
       "      <td>145000.0</td>\n",
       "      <td>automatic</td>\n",
       "      <td>SUV</td>\n",
       "      <td>unknown</td>\n",
       "      <td>1</td>\n",
       "      <td>2018-06-23</td>\n",
       "      <td>19</td>\n",
       "      <td>8.0</td>\n",
       "      <td>18125.0</td>\n",
       "    </tr>\n",
       "    <tr>\n",
       "      <th>1</th>\n",
       "      <td>25500</td>\n",
       "      <td>NaN</td>\n",
       "      <td>ford f-150</td>\n",
       "      <td>2</td>\n",
       "      <td>6.0</td>\n",
       "      <td>gas</td>\n",
       "      <td>88705.0</td>\n",
       "      <td>automatic</td>\n",
       "      <td>pickup</td>\n",
       "      <td>white</td>\n",
       "      <td>1</td>\n",
       "      <td>2018-10-19</td>\n",
       "      <td>50</td>\n",
       "      <td>NaN</td>\n",
       "      <td>NaN</td>\n",
       "    </tr>\n",
       "    <tr>\n",
       "      <th>2</th>\n",
       "      <td>5500</td>\n",
       "      <td>2013.0</td>\n",
       "      <td>hyundai sonata</td>\n",
       "      <td>4</td>\n",
       "      <td>4.0</td>\n",
       "      <td>gas</td>\n",
       "      <td>110000.0</td>\n",
       "      <td>automatic</td>\n",
       "      <td>sedan</td>\n",
       "      <td>red</td>\n",
       "      <td>0</td>\n",
       "      <td>2019-02-07</td>\n",
       "      <td>79</td>\n",
       "      <td>7.0</td>\n",
       "      <td>15714.0</td>\n",
       "    </tr>\n",
       "    <tr>\n",
       "      <th>3</th>\n",
       "      <td>1500</td>\n",
       "      <td>2003.0</td>\n",
       "      <td>ford f-150</td>\n",
       "      <td>1</td>\n",
       "      <td>8.0</td>\n",
       "      <td>gas</td>\n",
       "      <td>240000.0</td>\n",
       "      <td>automatic</td>\n",
       "      <td>pickup</td>\n",
       "      <td>unknown</td>\n",
       "      <td>0</td>\n",
       "      <td>2019-03-22</td>\n",
       "      <td>9</td>\n",
       "      <td>17.0</td>\n",
       "      <td>14117.0</td>\n",
       "    </tr>\n",
       "    <tr>\n",
       "      <th>4</th>\n",
       "      <td>14900</td>\n",
       "      <td>2017.0</td>\n",
       "      <td>chrysler 200</td>\n",
       "      <td>3</td>\n",
       "      <td>4.0</td>\n",
       "      <td>gas</td>\n",
       "      <td>80903.0</td>\n",
       "      <td>automatic</td>\n",
       "      <td>sedan</td>\n",
       "      <td>black</td>\n",
       "      <td>0</td>\n",
       "      <td>2019-04-02</td>\n",
       "      <td>28</td>\n",
       "      <td>3.0</td>\n",
       "      <td>26967.0</td>\n",
       "    </tr>\n",
       "    <tr>\n",
       "      <th>5</th>\n",
       "      <td>14990</td>\n",
       "      <td>2014.0</td>\n",
       "      <td>chrysler 300</td>\n",
       "      <td>3</td>\n",
       "      <td>6.0</td>\n",
       "      <td>gas</td>\n",
       "      <td>57954.0</td>\n",
       "      <td>automatic</td>\n",
       "      <td>sedan</td>\n",
       "      <td>black</td>\n",
       "      <td>1</td>\n",
       "      <td>2018-06-20</td>\n",
       "      <td>15</td>\n",
       "      <td>5.0</td>\n",
       "      <td>11590.0</td>\n",
       "    </tr>\n",
       "    <tr>\n",
       "      <th>6</th>\n",
       "      <td>12990</td>\n",
       "      <td>2015.0</td>\n",
       "      <td>toyota camry</td>\n",
       "      <td>3</td>\n",
       "      <td>4.0</td>\n",
       "      <td>gas</td>\n",
       "      <td>79212.0</td>\n",
       "      <td>automatic</td>\n",
       "      <td>sedan</td>\n",
       "      <td>white</td>\n",
       "      <td>0</td>\n",
       "      <td>2018-12-27</td>\n",
       "      <td>73</td>\n",
       "      <td>4.0</td>\n",
       "      <td>19803.0</td>\n",
       "    </tr>\n",
       "    <tr>\n",
       "      <th>7</th>\n",
       "      <td>15990</td>\n",
       "      <td>2013.0</td>\n",
       "      <td>honda pilot</td>\n",
       "      <td>3</td>\n",
       "      <td>6.0</td>\n",
       "      <td>gas</td>\n",
       "      <td>109473.0</td>\n",
       "      <td>automatic</td>\n",
       "      <td>SUV</td>\n",
       "      <td>black</td>\n",
       "      <td>1</td>\n",
       "      <td>2019-01-07</td>\n",
       "      <td>68</td>\n",
       "      <td>7.0</td>\n",
       "      <td>15639.0</td>\n",
       "    </tr>\n",
       "    <tr>\n",
       "      <th>8</th>\n",
       "      <td>11500</td>\n",
       "      <td>2012.0</td>\n",
       "      <td>kia sorento</td>\n",
       "      <td>3</td>\n",
       "      <td>4.0</td>\n",
       "      <td>gas</td>\n",
       "      <td>104174.0</td>\n",
       "      <td>automatic</td>\n",
       "      <td>SUV</td>\n",
       "      <td>unknown</td>\n",
       "      <td>1</td>\n",
       "      <td>2018-07-16</td>\n",
       "      <td>19</td>\n",
       "      <td>7.0</td>\n",
       "      <td>14882.0</td>\n",
       "    </tr>\n",
       "    <tr>\n",
       "      <th>9</th>\n",
       "      <td>9200</td>\n",
       "      <td>2008.0</td>\n",
       "      <td>honda pilot</td>\n",
       "      <td>3</td>\n",
       "      <td>6.0</td>\n",
       "      <td>gas</td>\n",
       "      <td>147191.0</td>\n",
       "      <td>automatic</td>\n",
       "      <td>SUV</td>\n",
       "      <td>blue</td>\n",
       "      <td>1</td>\n",
       "      <td>2019-02-15</td>\n",
       "      <td>17</td>\n",
       "      <td>12.0</td>\n",
       "      <td>12265.0</td>\n",
       "    </tr>\n",
       "    <tr>\n",
       "      <th>10</th>\n",
       "      <td>19500</td>\n",
       "      <td>2011.0</td>\n",
       "      <td>chevrolet silverado 1500</td>\n",
       "      <td>3</td>\n",
       "      <td>8.0</td>\n",
       "      <td>gas</td>\n",
       "      <td>128413.0</td>\n",
       "      <td>automatic</td>\n",
       "      <td>pickup</td>\n",
       "      <td>black</td>\n",
       "      <td>1</td>\n",
       "      <td>2018-09-17</td>\n",
       "      <td>38</td>\n",
       "      <td>8.0</td>\n",
       "      <td>16051.0</td>\n",
       "    </tr>\n",
       "    <tr>\n",
       "      <th>11</th>\n",
       "      <td>8990</td>\n",
       "      <td>2012.0</td>\n",
       "      <td>honda accord</td>\n",
       "      <td>3</td>\n",
       "      <td>4.0</td>\n",
       "      <td>gas</td>\n",
       "      <td>111142.0</td>\n",
       "      <td>automatic</td>\n",
       "      <td>sedan</td>\n",
       "      <td>grey</td>\n",
       "      <td>0</td>\n",
       "      <td>2019-03-28</td>\n",
       "      <td>29</td>\n",
       "      <td>8.0</td>\n",
       "      <td>13892.0</td>\n",
       "    </tr>\n",
       "    <tr>\n",
       "      <th>12</th>\n",
       "      <td>18990</td>\n",
       "      <td>2012.0</td>\n",
       "      <td>ram 1500</td>\n",
       "      <td>3</td>\n",
       "      <td>8.0</td>\n",
       "      <td>gas</td>\n",
       "      <td>140742.0</td>\n",
       "      <td>automatic</td>\n",
       "      <td>pickup</td>\n",
       "      <td>unknown</td>\n",
       "      <td>1</td>\n",
       "      <td>2019-04-02</td>\n",
       "      <td>37</td>\n",
       "      <td>8.0</td>\n",
       "      <td>17592.0</td>\n",
       "    </tr>\n",
       "    <tr>\n",
       "      <th>13</th>\n",
       "      <td>16500</td>\n",
       "      <td>2018.0</td>\n",
       "      <td>hyundai sonata</td>\n",
       "      <td>3</td>\n",
       "      <td>4.0</td>\n",
       "      <td>gas</td>\n",
       "      <td>22104.0</td>\n",
       "      <td>automatic</td>\n",
       "      <td>sedan</td>\n",
       "      <td>silver</td>\n",
       "      <td>0</td>\n",
       "      <td>2019-01-14</td>\n",
       "      <td>29</td>\n",
       "      <td>2.0</td>\n",
       "      <td>11052.0</td>\n",
       "    </tr>\n",
       "    <tr>\n",
       "      <th>14</th>\n",
       "      <td>12990</td>\n",
       "      <td>2009.0</td>\n",
       "      <td>gmc yukon</td>\n",
       "      <td>3</td>\n",
       "      <td>8.0</td>\n",
       "      <td>gas</td>\n",
       "      <td>132285.0</td>\n",
       "      <td>automatic</td>\n",
       "      <td>SUV</td>\n",
       "      <td>black</td>\n",
       "      <td>1</td>\n",
       "      <td>2019-01-31</td>\n",
       "      <td>24</td>\n",
       "      <td>11.0</td>\n",
       "      <td>12025.0</td>\n",
       "    </tr>\n",
       "    <tr>\n",
       "      <th>15</th>\n",
       "      <td>17990</td>\n",
       "      <td>2013.0</td>\n",
       "      <td>ram 1500</td>\n",
       "      <td>3</td>\n",
       "      <td>8.0</td>\n",
       "      <td>gas</td>\n",
       "      <td>75000.0</td>\n",
       "      <td>automatic</td>\n",
       "      <td>pickup</td>\n",
       "      <td>red</td>\n",
       "      <td>1</td>\n",
       "      <td>2018-05-15</td>\n",
       "      <td>111</td>\n",
       "      <td>6.0</td>\n",
       "      <td>12500.0</td>\n",
       "    </tr>\n",
       "    <tr>\n",
       "      <th>16</th>\n",
       "      <td>14990</td>\n",
       "      <td>2010.0</td>\n",
       "      <td>ram 1500</td>\n",
       "      <td>3</td>\n",
       "      <td>8.0</td>\n",
       "      <td>gas</td>\n",
       "      <td>130725.0</td>\n",
       "      <td>automatic</td>\n",
       "      <td>pickup</td>\n",
       "      <td>red</td>\n",
       "      <td>1</td>\n",
       "      <td>2018-12-30</td>\n",
       "      <td>13</td>\n",
       "      <td>9.0</td>\n",
       "      <td>14525.0</td>\n",
       "    </tr>\n",
       "    <tr>\n",
       "      <th>17</th>\n",
       "      <td>13990</td>\n",
       "      <td>2014.0</td>\n",
       "      <td>jeep cherokee</td>\n",
       "      <td>3</td>\n",
       "      <td>6.0</td>\n",
       "      <td>gas</td>\n",
       "      <td>100669.0</td>\n",
       "      <td>automatic</td>\n",
       "      <td>SUV</td>\n",
       "      <td>red</td>\n",
       "      <td>1</td>\n",
       "      <td>2018-08-16</td>\n",
       "      <td>25</td>\n",
       "      <td>5.0</td>\n",
       "      <td>20133.0</td>\n",
       "    </tr>\n",
       "    <tr>\n",
       "      <th>18</th>\n",
       "      <td>12500</td>\n",
       "      <td>2013.0</td>\n",
       "      <td>chevrolet traverse</td>\n",
       "      <td>3</td>\n",
       "      <td>6.0</td>\n",
       "      <td>gas</td>\n",
       "      <td>128325.0</td>\n",
       "      <td>automatic</td>\n",
       "      <td>SUV</td>\n",
       "      <td>white</td>\n",
       "      <td>1</td>\n",
       "      <td>2019-04-09</td>\n",
       "      <td>13</td>\n",
       "      <td>7.0</td>\n",
       "      <td>18332.0</td>\n",
       "    </tr>\n",
       "    <tr>\n",
       "      <th>19</th>\n",
       "      <td>13990</td>\n",
       "      <td>2018.0</td>\n",
       "      <td>hyundai elantra</td>\n",
       "      <td>3</td>\n",
       "      <td>4.0</td>\n",
       "      <td>gas</td>\n",
       "      <td>31932.0</td>\n",
       "      <td>automatic</td>\n",
       "      <td>sedan</td>\n",
       "      <td>red</td>\n",
       "      <td>0</td>\n",
       "      <td>2018-08-25</td>\n",
       "      <td>27</td>\n",
       "      <td>1.0</td>\n",
       "      <td>31932.0</td>\n",
       "    </tr>\n",
       "  </tbody>\n",
       "</table>\n",
       "</div>"
      ],
      "text/plain": [
       "    price  model_year                     model  condition  cylinders fuel  \\\n",
       "0    9400      2011.0                    bmw x5          2        6.0  gas   \n",
       "1   25500         NaN                ford f-150          2        6.0  gas   \n",
       "2    5500      2013.0            hyundai sonata          4        4.0  gas   \n",
       "3    1500      2003.0                ford f-150          1        8.0  gas   \n",
       "4   14900      2017.0              chrysler 200          3        4.0  gas   \n",
       "5   14990      2014.0              chrysler 300          3        6.0  gas   \n",
       "6   12990      2015.0              toyota camry          3        4.0  gas   \n",
       "7   15990      2013.0               honda pilot          3        6.0  gas   \n",
       "8   11500      2012.0               kia sorento          3        4.0  gas   \n",
       "9    9200      2008.0               honda pilot          3        6.0  gas   \n",
       "10  19500      2011.0  chevrolet silverado 1500          3        8.0  gas   \n",
       "11   8990      2012.0              honda accord          3        4.0  gas   \n",
       "12  18990      2012.0                  ram 1500          3        8.0  gas   \n",
       "13  16500      2018.0            hyundai sonata          3        4.0  gas   \n",
       "14  12990      2009.0                 gmc yukon          3        8.0  gas   \n",
       "15  17990      2013.0                  ram 1500          3        8.0  gas   \n",
       "16  14990      2010.0                  ram 1500          3        8.0  gas   \n",
       "17  13990      2014.0             jeep cherokee          3        6.0  gas   \n",
       "18  12500      2013.0        chevrolet traverse          3        6.0  gas   \n",
       "19  13990      2018.0           hyundai elantra          3        4.0  gas   \n",
       "\n",
       "    odometer transmission    type paint_color  is_4wd date_posted  \\\n",
       "0   145000.0    automatic     SUV     unknown       1  2018-06-23   \n",
       "1    88705.0    automatic  pickup       white       1  2018-10-19   \n",
       "2   110000.0    automatic   sedan         red       0  2019-02-07   \n",
       "3   240000.0    automatic  pickup     unknown       0  2019-03-22   \n",
       "4    80903.0    automatic   sedan       black       0  2019-04-02   \n",
       "5    57954.0    automatic   sedan       black       1  2018-06-20   \n",
       "6    79212.0    automatic   sedan       white       0  2018-12-27   \n",
       "7   109473.0    automatic     SUV       black       1  2019-01-07   \n",
       "8   104174.0    automatic     SUV     unknown       1  2018-07-16   \n",
       "9   147191.0    automatic     SUV        blue       1  2019-02-15   \n",
       "10  128413.0    automatic  pickup       black       1  2018-09-17   \n",
       "11  111142.0    automatic   sedan        grey       0  2019-03-28   \n",
       "12  140742.0    automatic  pickup     unknown       1  2019-04-02   \n",
       "13   22104.0    automatic   sedan      silver       0  2019-01-14   \n",
       "14  132285.0    automatic     SUV       black       1  2019-01-31   \n",
       "15   75000.0    automatic  pickup         red       1  2018-05-15   \n",
       "16  130725.0    automatic  pickup         red       1  2018-12-30   \n",
       "17  100669.0    automatic     SUV         red       1  2018-08-16   \n",
       "18  128325.0    automatic     SUV       white       1  2019-04-09   \n",
       "19   31932.0    automatic   sedan         red       0  2018-08-25   \n",
       "\n",
       "    days_listed  vehicle_age  ave_mileage  \n",
       "0            19          8.0      18125.0  \n",
       "1            50          NaN          NaN  \n",
       "2            79          7.0      15714.0  \n",
       "3             9         17.0      14117.0  \n",
       "4            28          3.0      26967.0  \n",
       "5            15          5.0      11590.0  \n",
       "6            73          4.0      19803.0  \n",
       "7            68          7.0      15639.0  \n",
       "8            19          7.0      14882.0  \n",
       "9            17         12.0      12265.0  \n",
       "10           38          8.0      16051.0  \n",
       "11           29          8.0      13892.0  \n",
       "12           37          8.0      17592.0  \n",
       "13           29          2.0      11052.0  \n",
       "14           24         11.0      12025.0  \n",
       "15          111          6.0      12500.0  \n",
       "16           13          9.0      14525.0  \n",
       "17           25          5.0      20133.0  \n",
       "18           13          7.0      18332.0  \n",
       "19           27          1.0      31932.0  "
      ]
     },
     "execution_count": 22,
     "metadata": {},
     "output_type": "execute_result"
    }
   ],
   "source": [
    "# print a sample of data\n",
    "data.head(20)"
   ]
  },
  {
   "cell_type": "markdown",
   "metadata": {},
   "source": [
    "## Study core parameters\n",
    "The parameters are\n",
    "- Price\n",
    "- The vehicle's age when the ad was placed\n",
    "- Mileage\n",
    "- Number of cylinders\n",
    "- Condition"
   ]
  },
  {
   "cell_type": "code",
   "execution_count": 23,
   "metadata": {},
   "outputs": [
    {
     "data": {
      "image/png": "[encoded data removed]",
      "text/plain": [
       "<Figure size 432x288 with 1 Axes>"
      ]
     },
     "metadata": {
      "needs_background": "light"
     },
     "output_type": "display_data"
    },
    {
     "data": {
      "image/png": "[encoded data removed]",
      "text/plain": [
       "<Figure size 432x288 with 1 Axes>"
      ]
     },
     "metadata": {
      "needs_background": "light"
     },
     "output_type": "display_data"
    },
    {
     "data": {
      "image/png": "[encoded data removed]",
      "text/plain": [
       "<Figure size 432x288 with 1 Axes>"
      ]
     },
     "metadata": {
      "needs_background": "light"
     },
     "output_type": "display_data"
    },
    {
     "data": {
      "image/png": "[encoded data removed]",
      "text/plain": [
       "<Figure size 432x288 with 1 Axes>"
      ]
     },
     "metadata": {
      "needs_background": "light"
     },
     "output_type": "display_data"
    },
    {
     "data": {
      "image/png": "[encoded data removed]",
      "text/plain": [
       "<Figure size 432x288 with 1 Axes>"
      ]
     },
     "metadata": {
      "needs_background": "light"
     },
     "output_type": "display_data"
    }
   ],
   "source": [
    "columns =['price','vehicle_age','ave_mileage','cylinders','condition']\n",
    "for i in columns:\n",
    "    data.plot(y=i, kind='hist', bins=50, title=i)\n",
    "plt.show()"
   ]
  },
  {
   "cell_type": "markdown",
   "metadata": {},
   "source": [
    "## Study and treat outliers\n",
    "Based on the histograms, price, ave_mileage, and vehicle_age columns seem to have outliers."
   ]
  },
  {
   "cell_type": "code",
   "execution_count": 24,
   "metadata": {},
   "outputs": [
    {
     "data": {
      "text/plain": [
       "price           5000.00\n",
       "model_year      2006.00\n",
       "condition          2.00\n",
       "cylinders          4.00\n",
       "odometer       68911.00\n",
       "is_4wd             0.00\n",
       "days_listed       19.00\n",
       "vehicle_age        5.00\n",
       "ave_mileage     9930.75\n",
       "Name: 0.25, dtype: float64"
      ]
     },
     "execution_count": 24,
     "metadata": {},
     "output_type": "execute_result"
    }
   ],
   "source": [
    "# Determine the lower limits for outliers\n",
    "data.quantile(0.25)\n"
   ]
  },
  {
   "cell_type": "code",
   "execution_count": 25,
   "metadata": {},
   "outputs": [
    {
     "data": {
      "text/plain": [
       "price           16839.0\n",
       "model_year       2014.0\n",
       "condition           3.0\n",
       "cylinders           8.0\n",
       "odometer       158000.0\n",
       "is_4wd              1.0\n",
       "days_listed        53.0\n",
       "vehicle_age        13.0\n",
       "ave_mileage     16764.0\n",
       "Name: 0.75, dtype: float64"
      ]
     },
     "execution_count": 25,
     "metadata": {},
     "output_type": "execute_result"
    }
   ],
   "source": [
    "# Determine the upper limits for outliers\n",
    "data.quantile(0.75)\n"
   ]
  },
  {
   "cell_type": "code",
   "execution_count": 26,
   "metadata": {},
   "outputs": [],
   "source": [
    "# Store data without outliers in a separate DataFrame\n",
    "data_outliers = data.query('5000 <= price <= 16839.0  and 4.0 <= vehicle_age <= 12.0 and 11398.25 <= ave_mileage <= 19721.25')\n"
   ]
  },
  {
   "cell_type": "markdown",
   "metadata": {},
   "source": [
    "## Study core parameters without outliers"
   ]
  },
  {
   "cell_type": "markdown",
   "metadata": {},
   "source": [
    "Removing outliers shows the distribution of data more clearly and accurately while creating a strong correlation. "
   ]
  },
  {
   "cell_type": "code",
   "execution_count": 27,
   "metadata": {},
   "outputs": [
    {
     "data": {
      "image/png": "[encoded data removed]",
      "text/plain": [
       "<Figure size 432x288 with 1 Axes>"
      ]
     },
     "metadata": {
      "needs_background": "light"
     },
     "output_type": "display_data"
    },
    {
     "data": {
      "image/png": "[encoded data removed]",
      "text/plain": [
       "<Figure size 432x288 with 1 Axes>"
      ]
     },
     "metadata": {
      "needs_background": "light"
     },
     "output_type": "display_data"
    },
    {
     "data": {
      "image/png": "[encoded data removed]",
      "text/plain": [
       "<Figure size 432x288 with 1 Axes>"
      ]
     },
     "metadata": {
      "needs_background": "light"
     },
     "output_type": "display_data"
    }
   ],
   "source": [
    "columns =['price','vehicle_age','ave_mileage']\n",
    "for i in columns:\n",
    "    data_outliers.plot(y=i, kind='hist', bins=30, title=i)\n",
    "plt.show()"
   ]
  },
  {
   "cell_type": "markdown",
   "metadata": {},
   "source": [
    "## Ads lifetime\n",
    "\n",
    "The typical lifetime of an ad is usually around 30-36 days, anything below 10-15 days should be  considered too quickly as it wouldn't catch enough customers eye. More than 55 days is too long as customers will be bored of repetetiveness and will need a change of creative. "
   ]
  },
  {
   "cell_type": "code",
   "execution_count": 28,
   "metadata": {},
   "outputs": [
    {
     "data": {
      "text/plain": [
       "39.55475982532751"
      ]
     },
     "execution_count": 28,
     "metadata": {},
     "output_type": "execute_result"
    }
   ],
   "source": [
    "data['days_listed'].mean()"
   ]
  },
  {
   "cell_type": "code",
   "execution_count": 29,
   "metadata": {},
   "outputs": [
    {
     "data": {
      "text/plain": [
       "33.0"
      ]
     },
     "execution_count": 29,
     "metadata": {},
     "output_type": "execute_result"
    }
   ],
   "source": [
    "data['days_listed'].median()"
   ]
  },
  {
   "cell_type": "code",
   "execution_count": 30,
   "metadata": {},
   "outputs": [
    {
     "data": {
      "text/plain": [
       "array([[<AxesSubplot:title={'center':'days_listed'}>]], dtype=object)"
      ]
     },
     "execution_count": 30,
     "metadata": {},
     "output_type": "execute_result"
    },
    {
     "data": {
      "image/png": "[encoded data removed]",
      "text/plain": [
       "<Figure size 432x288 with 1 Axes>"
      ]
     },
     "metadata": {
      "needs_background": "light"
     },
     "output_type": "display_data"
    }
   ],
   "source": [
    "data.hist('days_listed', bins=20, range=(0,300))"
   ]
  },
  {
   "cell_type": "markdown",
   "metadata": {},
   "source": [
    "## Average price per each type of vehicle"
   ]
  },
  {
   "cell_type": "code",
   "execution_count": 31,
   "metadata": {},
   "outputs": [
    {
     "data": {
      "text/html": [
       "<div>\n",
       "<style scoped>\n",
       "    .dataframe tbody tr th:only-of-type {\n",
       "        vertical-align: middle;\n",
       "    }\n",
       "\n",
       "    .dataframe tbody tr th {\n",
       "        vertical-align: top;\n",
       "    }\n",
       "\n",
       "    .dataframe thead th {\n",
       "        text-align: right;\n",
       "    }\n",
       "</style>\n",
       "<table border=\"1\" class=\"dataframe\">\n",
       "  <thead>\n",
       "    <tr style=\"text-align: right;\">\n",
       "      <th></th>\n",
       "      <th>price</th>\n",
       "    </tr>\n",
       "    <tr>\n",
       "      <th>type</th>\n",
       "      <th></th>\n",
       "    </tr>\n",
       "  </thead>\n",
       "  <tbody>\n",
       "    <tr>\n",
       "      <th>truck</th>\n",
       "      <td>11972.755583</td>\n",
       "    </tr>\n",
       "    <tr>\n",
       "      <th>offroad</th>\n",
       "      <td>11970.000000</td>\n",
       "    </tr>\n",
       "    <tr>\n",
       "      <th>pickup</th>\n",
       "      <td>11460.125461</td>\n",
       "    </tr>\n",
       "    <tr>\n",
       "      <th>convertible</th>\n",
       "      <td>11210.787234</td>\n",
       "    </tr>\n",
       "    <tr>\n",
       "      <th>coupe</th>\n",
       "      <td>9984.122172</td>\n",
       "    </tr>\n",
       "    <tr>\n",
       "      <th>SUV</th>\n",
       "      <td>9923.361625</td>\n",
       "    </tr>\n",
       "    <tr>\n",
       "      <th>other</th>\n",
       "      <td>9145.396552</td>\n",
       "    </tr>\n",
       "    <tr>\n",
       "      <th>wagon</th>\n",
       "      <td>9073.951777</td>\n",
       "    </tr>\n",
       "    <tr>\n",
       "      <th>van</th>\n",
       "      <td>8964.713287</td>\n",
       "    </tr>\n",
       "    <tr>\n",
       "      <th>mini-van</th>\n",
       "      <td>8717.292096</td>\n",
       "    </tr>\n",
       "    <tr>\n",
       "      <th>sedan</th>\n",
       "      <td>8084.409477</td>\n",
       "    </tr>\n",
       "    <tr>\n",
       "      <th>hatchback</th>\n",
       "      <td>7608.200000</td>\n",
       "    </tr>\n",
       "  </tbody>\n",
       "</table>\n",
       "</div>"
      ],
      "text/plain": [
       "                    price\n",
       "type                     \n",
       "truck        11972.755583\n",
       "offroad      11970.000000\n",
       "pickup       11460.125461\n",
       "convertible  11210.787234\n",
       "coupe         9984.122172\n",
       "SUV           9923.361625\n",
       "other         9145.396552\n",
       "wagon         9073.951777\n",
       "van           8964.713287\n",
       "mini-van      8717.292096\n",
       "sedan         8084.409477\n",
       "hatchback     7608.200000"
      ]
     },
     "execution_count": 31,
     "metadata": {},
     "output_type": "execute_result"
    }
   ],
   "source": [
    "#Average price for each type of vehicle\n",
    "data_outliers.pivot_table(index='type', values='price').sort_values(by='price', ascending=False)"
   ]
  },
  {
   "cell_type": "code",
   "execution_count": 32,
   "metadata": {},
   "outputs": [
    {
     "data": {
      "text/plain": [
       "type\n",
       "SUV            3028\n",
       "convertible      47\n",
       "coupe           221\n",
       "hatchback       250\n",
       "mini-van        291\n",
       "offroad          15\n",
       "other            58\n",
       "pickup          813\n",
       "sedan          2828\n",
       "truck          1612\n",
       "van             143\n",
       "wagon           394\n",
       "Name: days_listed, dtype: int64"
      ]
     },
     "execution_count": 32,
     "metadata": {},
     "output_type": "execute_result"
    }
   ],
   "source": [
    "#Number of ads for each type of vehicle\n",
    "data_outliers.groupby('type')['days_listed'].count()"
   ]
  },
  {
   "cell_type": "code",
   "execution_count": 33,
   "metadata": {},
   "outputs": [],
   "source": [
    "ads_and_type=data_outliers.pivot_table(index='type',values='days_listed', aggfunc='count').sort_values(by='days_listed', ascending=False)"
   ]
  },
  {
   "cell_type": "code",
   "execution_count": 34,
   "metadata": {},
   "outputs": [
    {
     "data": {
      "image/png": "[encoded data removed]",
      "text/plain": [
       "<Figure size 432x288 with 1 Axes>"
      ]
     },
     "metadata": {
      "needs_background": "light"
     },
     "output_type": "display_data"
    }
   ],
   "source": [
    "ads_and_type.plot(title='Number of Ads vs Vehicle Type', style='o-')\n",
    "plt.show()"
   ]
  },
  {
   "cell_type": "markdown",
   "metadata": {},
   "source": [
    "SUV and sedan are the types that has the greatest number of ads placed for. "
   ]
  },
  {
   "cell_type": "markdown",
   "metadata": {},
   "source": [
    "## Price factors"
   ]
  },
  {
   "cell_type": "code",
   "execution_count": 35,
   "metadata": {},
   "outputs": [],
   "source": [
    "data_filtered = data_outliers.query('type == \"SUV\" or type == \"sedan\"')\n",
    "data_new = data_filtered[['type','ave_mileage', 'vehicle_age', 'condition','price']]\n",
    "                         "
   ]
  },
  {
   "cell_type": "code",
   "execution_count": 36,
   "metadata": {},
   "outputs": [
    {
     "data": {
      "image/png": "[encoded data removed]",
      "text/plain": [
       "<Figure size 648x648 with 16 Axes>"
      ]
     },
     "metadata": {
      "needs_background": "light"
     },
     "output_type": "display_data"
    }
   ],
   "source": [
    "pd.plotting.scatter_matrix(data_new, figsize=(9, 9), alpha=0.2) \n",
    "plt.show()"
   ]
  },
  {
   "cell_type": "code",
   "execution_count": 37,
   "metadata": {},
   "outputs": [
    {
     "data": {
      "text/plain": [
       "paint_color\n",
       "orange    31\n",
       "purple    15\n",
       "yellow    18\n",
       "Name: days_listed, dtype: int64"
      ]
     },
     "execution_count": 37,
     "metadata": {},
     "output_type": "execute_result"
    }
   ],
   "source": [
    "#Removing categories with less than 50 ads as they wouldn't be valid for analysis\n",
    "data_ads = data_outliers.groupby('paint_color')['days_listed'].count()\n",
    "data_ads = data_ads[data_ads < 50]\n",
    "data_ads"
   ]
  },
  {
   "cell_type": "code",
   "execution_count": 38,
   "metadata": {},
   "outputs": [
    {
     "data": {
      "text/html": [
       "<div>\n",
       "<style scoped>\n",
       "    .dataframe tbody tr th:only-of-type {\n",
       "        vertical-align: middle;\n",
       "    }\n",
       "\n",
       "    .dataframe tbody tr th {\n",
       "        vertical-align: top;\n",
       "    }\n",
       "\n",
       "    .dataframe thead th {\n",
       "        text-align: right;\n",
       "    }\n",
       "</style>\n",
       "<table border=\"1\" class=\"dataframe\">\n",
       "  <thead>\n",
       "    <tr style=\"text-align: right;\">\n",
       "      <th></th>\n",
       "      <th>price</th>\n",
       "      <th>model_year</th>\n",
       "      <th>model</th>\n",
       "      <th>condition</th>\n",
       "      <th>cylinders</th>\n",
       "      <th>fuel</th>\n",
       "      <th>odometer</th>\n",
       "      <th>transmission</th>\n",
       "      <th>type</th>\n",
       "      <th>paint_color</th>\n",
       "      <th>is_4wd</th>\n",
       "      <th>date_posted</th>\n",
       "      <th>days_listed</th>\n",
       "      <th>vehicle_age</th>\n",
       "      <th>ave_mileage</th>\n",
       "    </tr>\n",
       "  </thead>\n",
       "  <tbody>\n",
       "    <tr>\n",
       "      <th>0</th>\n",
       "      <td>9400</td>\n",
       "      <td>2011.0</td>\n",
       "      <td>bmw x5</td>\n",
       "      <td>2</td>\n",
       "      <td>6.0</td>\n",
       "      <td>gas</td>\n",
       "      <td>145000.0</td>\n",
       "      <td>automatic</td>\n",
       "      <td>SUV</td>\n",
       "      <td>unknown</td>\n",
       "      <td>1</td>\n",
       "      <td>2018-06-23</td>\n",
       "      <td>19</td>\n",
       "      <td>8.0</td>\n",
       "      <td>18125.0</td>\n",
       "    </tr>\n",
       "    <tr>\n",
       "      <th>2</th>\n",
       "      <td>5500</td>\n",
       "      <td>2013.0</td>\n",
       "      <td>hyundai sonata</td>\n",
       "      <td>4</td>\n",
       "      <td>4.0</td>\n",
       "      <td>gas</td>\n",
       "      <td>110000.0</td>\n",
       "      <td>automatic</td>\n",
       "      <td>sedan</td>\n",
       "      <td>red</td>\n",
       "      <td>0</td>\n",
       "      <td>2019-02-07</td>\n",
       "      <td>79</td>\n",
       "      <td>7.0</td>\n",
       "      <td>15714.0</td>\n",
       "    </tr>\n",
       "    <tr>\n",
       "      <th>5</th>\n",
       "      <td>14990</td>\n",
       "      <td>2014.0</td>\n",
       "      <td>chrysler 300</td>\n",
       "      <td>3</td>\n",
       "      <td>6.0</td>\n",
       "      <td>gas</td>\n",
       "      <td>57954.0</td>\n",
       "      <td>automatic</td>\n",
       "      <td>sedan</td>\n",
       "      <td>black</td>\n",
       "      <td>1</td>\n",
       "      <td>2018-06-20</td>\n",
       "      <td>15</td>\n",
       "      <td>5.0</td>\n",
       "      <td>11590.0</td>\n",
       "    </tr>\n",
       "    <tr>\n",
       "      <th>7</th>\n",
       "      <td>15990</td>\n",
       "      <td>2013.0</td>\n",
       "      <td>honda pilot</td>\n",
       "      <td>3</td>\n",
       "      <td>6.0</td>\n",
       "      <td>gas</td>\n",
       "      <td>109473.0</td>\n",
       "      <td>automatic</td>\n",
       "      <td>SUV</td>\n",
       "      <td>black</td>\n",
       "      <td>1</td>\n",
       "      <td>2019-01-07</td>\n",
       "      <td>68</td>\n",
       "      <td>7.0</td>\n",
       "      <td>15639.0</td>\n",
       "    </tr>\n",
       "    <tr>\n",
       "      <th>8</th>\n",
       "      <td>11500</td>\n",
       "      <td>2012.0</td>\n",
       "      <td>kia sorento</td>\n",
       "      <td>3</td>\n",
       "      <td>4.0</td>\n",
       "      <td>gas</td>\n",
       "      <td>104174.0</td>\n",
       "      <td>automatic</td>\n",
       "      <td>SUV</td>\n",
       "      <td>unknown</td>\n",
       "      <td>1</td>\n",
       "      <td>2018-07-16</td>\n",
       "      <td>19</td>\n",
       "      <td>7.0</td>\n",
       "      <td>14882.0</td>\n",
       "    </tr>\n",
       "    <tr>\n",
       "      <th>...</th>\n",
       "      <td>...</td>\n",
       "      <td>...</td>\n",
       "      <td>...</td>\n",
       "      <td>...</td>\n",
       "      <td>...</td>\n",
       "      <td>...</td>\n",
       "      <td>...</td>\n",
       "      <td>...</td>\n",
       "      <td>...</td>\n",
       "      <td>...</td>\n",
       "      <td>...</td>\n",
       "      <td>...</td>\n",
       "      <td>...</td>\n",
       "      <td>...</td>\n",
       "      <td>...</td>\n",
       "    </tr>\n",
       "    <tr>\n",
       "      <th>51502</th>\n",
       "      <td>7995</td>\n",
       "      <td>2011.0</td>\n",
       "      <td>chevrolet equinox</td>\n",
       "      <td>4</td>\n",
       "      <td>4.0</td>\n",
       "      <td>gas</td>\n",
       "      <td>111088.0</td>\n",
       "      <td>automatic</td>\n",
       "      <td>SUV</td>\n",
       "      <td>unknown</td>\n",
       "      <td>0</td>\n",
       "      <td>2019-04-01</td>\n",
       "      <td>175</td>\n",
       "      <td>9.0</td>\n",
       "      <td>12343.0</td>\n",
       "    </tr>\n",
       "    <tr>\n",
       "      <th>51509</th>\n",
       "      <td>5980</td>\n",
       "      <td>2010.0</td>\n",
       "      <td>subaru impreza</td>\n",
       "      <td>3</td>\n",
       "      <td>4.0</td>\n",
       "      <td>gas</td>\n",
       "      <td>121778.0</td>\n",
       "      <td>manual</td>\n",
       "      <td>hatchback</td>\n",
       "      <td>white</td>\n",
       "      <td>1</td>\n",
       "      <td>2019-01-10</td>\n",
       "      <td>8</td>\n",
       "      <td>10.0</td>\n",
       "      <td>12177.0</td>\n",
       "    </tr>\n",
       "    <tr>\n",
       "      <th>51516</th>\n",
       "      <td>8999</td>\n",
       "      <td>2011.0</td>\n",
       "      <td>jeep grand cherokee</td>\n",
       "      <td>2</td>\n",
       "      <td>6.0</td>\n",
       "      <td>gas</td>\n",
       "      <td>105000.0</td>\n",
       "      <td>automatic</td>\n",
       "      <td>SUV</td>\n",
       "      <td>white</td>\n",
       "      <td>1</td>\n",
       "      <td>2018-11-01</td>\n",
       "      <td>51</td>\n",
       "      <td>8.0</td>\n",
       "      <td>13125.0</td>\n",
       "    </tr>\n",
       "    <tr>\n",
       "      <th>51520</th>\n",
       "      <td>9249</td>\n",
       "      <td>2013.0</td>\n",
       "      <td>nissan maxima</td>\n",
       "      <td>4</td>\n",
       "      <td>6.0</td>\n",
       "      <td>gas</td>\n",
       "      <td>88136.0</td>\n",
       "      <td>automatic</td>\n",
       "      <td>sedan</td>\n",
       "      <td>black</td>\n",
       "      <td>0</td>\n",
       "      <td>2018-10-03</td>\n",
       "      <td>37</td>\n",
       "      <td>6.0</td>\n",
       "      <td>14689.0</td>\n",
       "    </tr>\n",
       "    <tr>\n",
       "      <th>51524</th>\n",
       "      <td>6300</td>\n",
       "      <td>2014.0</td>\n",
       "      <td>nissan altima</td>\n",
       "      <td>2</td>\n",
       "      <td>4.0</td>\n",
       "      <td>gas</td>\n",
       "      <td>60000.0</td>\n",
       "      <td>automatic</td>\n",
       "      <td>sedan</td>\n",
       "      <td>unknown</td>\n",
       "      <td>0</td>\n",
       "      <td>2018-06-05</td>\n",
       "      <td>10</td>\n",
       "      <td>5.0</td>\n",
       "      <td>12000.0</td>\n",
       "    </tr>\n",
       "  </tbody>\n",
       "</table>\n",
       "<p>9636 rows × 15 columns</p>\n",
       "</div>"
      ],
      "text/plain": [
       "       price  model_year                model  condition  cylinders fuel  \\\n",
       "0       9400      2011.0               bmw x5          2        6.0  gas   \n",
       "2       5500      2013.0       hyundai sonata          4        4.0  gas   \n",
       "5      14990      2014.0         chrysler 300          3        6.0  gas   \n",
       "7      15990      2013.0          honda pilot          3        6.0  gas   \n",
       "8      11500      2012.0          kia sorento          3        4.0  gas   \n",
       "...      ...         ...                  ...        ...        ...  ...   \n",
       "51502   7995      2011.0    chevrolet equinox          4        4.0  gas   \n",
       "51509   5980      2010.0       subaru impreza          3        4.0  gas   \n",
       "51516   8999      2011.0  jeep grand cherokee          2        6.0  gas   \n",
       "51520   9249      2013.0        nissan maxima          4        6.0  gas   \n",
       "51524   6300      2014.0        nissan altima          2        4.0  gas   \n",
       "\n",
       "       odometer transmission       type paint_color  is_4wd date_posted  \\\n",
       "0      145000.0    automatic        SUV     unknown       1  2018-06-23   \n",
       "2      110000.0    automatic      sedan         red       0  2019-02-07   \n",
       "5       57954.0    automatic      sedan       black       1  2018-06-20   \n",
       "7      109473.0    automatic        SUV       black       1  2019-01-07   \n",
       "8      104174.0    automatic        SUV     unknown       1  2018-07-16   \n",
       "...         ...          ...        ...         ...     ...         ...   \n",
       "51502  111088.0    automatic        SUV     unknown       0  2019-04-01   \n",
       "51509  121778.0       manual  hatchback       white       1  2019-01-10   \n",
       "51516  105000.0    automatic        SUV       white       1  2018-11-01   \n",
       "51520   88136.0    automatic      sedan       black       0  2018-10-03   \n",
       "51524   60000.0    automatic      sedan     unknown       0  2018-06-05   \n",
       "\n",
       "       days_listed  vehicle_age  ave_mileage  \n",
       "0               19          8.0      18125.0  \n",
       "2               79          7.0      15714.0  \n",
       "5               15          5.0      11590.0  \n",
       "7               68          7.0      15639.0  \n",
       "8               19          7.0      14882.0  \n",
       "...            ...          ...          ...  \n",
       "51502          175          9.0      12343.0  \n",
       "51509            8         10.0      12177.0  \n",
       "51516           51          8.0      13125.0  \n",
       "51520           37          6.0      14689.0  \n",
       "51524           10          5.0      12000.0  \n",
       "\n",
       "[9636 rows x 15 columns]"
      ]
     },
     "execution_count": 38,
     "metadata": {},
     "output_type": "execute_result"
    }
   ],
   "source": [
    "data_temp=data_outliers.query('paint_color != \"yellow\" and paint_color != \"orange\" and paint_color != \"purple\"')\n",
    "data_temp"
   ]
  },
  {
   "cell_type": "code",
   "execution_count": 39,
   "metadata": {},
   "outputs": [],
   "source": [
    "data_filtered_2 = data_outliers[['price', 'transmission', 'paint_color']]"
   ]
  },
  {
   "cell_type": "code",
   "execution_count": 40,
   "metadata": {},
   "outputs": [
    {
     "data": {
      "text/html": [
       "<div>\n",
       "<style scoped>\n",
       "    .dataframe tbody tr th:only-of-type {\n",
       "        vertical-align: middle;\n",
       "    }\n",
       "\n",
       "    .dataframe tbody tr th {\n",
       "        vertical-align: top;\n",
       "    }\n",
       "\n",
       "    .dataframe thead th {\n",
       "        text-align: right;\n",
       "    }\n",
       "</style>\n",
       "<table border=\"1\" class=\"dataframe\">\n",
       "  <thead>\n",
       "    <tr style=\"text-align: right;\">\n",
       "      <th></th>\n",
       "      <th>price</th>\n",
       "      <th>transmission</th>\n",
       "      <th>paint_color</th>\n",
       "    </tr>\n",
       "  </thead>\n",
       "  <tbody>\n",
       "    <tr>\n",
       "      <th>0</th>\n",
       "      <td>9400</td>\n",
       "      <td>automatic</td>\n",
       "      <td>unknown</td>\n",
       "    </tr>\n",
       "    <tr>\n",
       "      <th>2</th>\n",
       "      <td>5500</td>\n",
       "      <td>automatic</td>\n",
       "      <td>red</td>\n",
       "    </tr>\n",
       "    <tr>\n",
       "      <th>5</th>\n",
       "      <td>14990</td>\n",
       "      <td>automatic</td>\n",
       "      <td>black</td>\n",
       "    </tr>\n",
       "    <tr>\n",
       "      <th>7</th>\n",
       "      <td>15990</td>\n",
       "      <td>automatic</td>\n",
       "      <td>black</td>\n",
       "    </tr>\n",
       "    <tr>\n",
       "      <th>8</th>\n",
       "      <td>11500</td>\n",
       "      <td>automatic</td>\n",
       "      <td>unknown</td>\n",
       "    </tr>\n",
       "    <tr>\n",
       "      <th>...</th>\n",
       "      <td>...</td>\n",
       "      <td>...</td>\n",
       "      <td>...</td>\n",
       "    </tr>\n",
       "    <tr>\n",
       "      <th>51502</th>\n",
       "      <td>7995</td>\n",
       "      <td>automatic</td>\n",
       "      <td>unknown</td>\n",
       "    </tr>\n",
       "    <tr>\n",
       "      <th>51509</th>\n",
       "      <td>5980</td>\n",
       "      <td>manual</td>\n",
       "      <td>white</td>\n",
       "    </tr>\n",
       "    <tr>\n",
       "      <th>51516</th>\n",
       "      <td>8999</td>\n",
       "      <td>automatic</td>\n",
       "      <td>white</td>\n",
       "    </tr>\n",
       "    <tr>\n",
       "      <th>51520</th>\n",
       "      <td>9249</td>\n",
       "      <td>automatic</td>\n",
       "      <td>black</td>\n",
       "    </tr>\n",
       "    <tr>\n",
       "      <th>51524</th>\n",
       "      <td>6300</td>\n",
       "      <td>automatic</td>\n",
       "      <td>unknown</td>\n",
       "    </tr>\n",
       "  </tbody>\n",
       "</table>\n",
       "<p>9700 rows × 3 columns</p>\n",
       "</div>"
      ],
      "text/plain": [
       "       price transmission paint_color\n",
       "0       9400    automatic     unknown\n",
       "2       5500    automatic         red\n",
       "5      14990    automatic       black\n",
       "7      15990    automatic       black\n",
       "8      11500    automatic     unknown\n",
       "...      ...          ...         ...\n",
       "51502   7995    automatic     unknown\n",
       "51509   5980       manual       white\n",
       "51516   8999    automatic       white\n",
       "51520   9249    automatic       black\n",
       "51524   6300    automatic     unknown\n",
       "\n",
       "[9700 rows x 3 columns]"
      ]
     },
     "execution_count": 40,
     "metadata": {},
     "output_type": "execute_result"
    }
   ],
   "source": [
    "data_filtered_2"
   ]
  },
  {
   "cell_type": "code",
   "execution_count": 41,
   "metadata": {},
   "outputs": [
    {
     "data": {
      "text/plain": [
       "<AxesSubplot:title={'center':'price'}, xlabel='transmission'>"
      ]
     },
     "execution_count": 41,
     "metadata": {},
     "output_type": "execute_result"
    },
    {
     "data": {
      "image/png": "[encoded data removed]",
      "text/plain": [
       "<Figure size 432x288 with 1 Axes>"
      ]
     },
     "metadata": {
      "needs_background": "light"
     },
     "output_type": "display_data"
    }
   ],
   "source": [
    "data_filtered_2.boxplot(by ='transmission', column =['price'], grid = False)"
   ]
  },
  {
   "cell_type": "code",
   "execution_count": 42,
   "metadata": {},
   "outputs": [
    {
     "data": {
      "text/plain": [
       "<AxesSubplot:title={'center':'price'}, xlabel='paint_color'>"
      ]
     },
     "execution_count": 42,
     "metadata": {},
     "output_type": "execute_result"
    },
    {
     "data": {
      "image/png": "[encoded data removed]",
      "text/plain": [
       "<Figure size 432x288 with 1 Axes>"
      ]
     },
     "metadata": {
      "needs_background": "light"
     },
     "output_type": "display_data"
    }
   ],
   "source": [
    "data_temp.boxplot(by ='paint_color', column =['price'], grid = False)"
   ]
  },
  {
   "cell_type": "markdown",
   "metadata": {},
   "source": [
    "## General conclusion\n",
    "\n",
    "To clean the data, duplicates were checked but found none. Missing values in odometer column was replaced with the median which is 15000. Data types were fixed from object to datetime. Ave_mileage and vehicle age columns were created to be able work easily with the data. Histograms were plotted for core parameters and detected outliers was removed to have clean distribution of the data. The number of ads and the average price for each type of vehicle were analyzed. Two types with the greatest number of ads was found to be SUV and sedan followed by trucks. As the mileage and age of the car increases, price also increases. The cars in excellent condition seems to be higher in price but it could be due to data having larger number of excellent condition cars compared to cars in like new or new condition. Automatic transmission cars tend to go a little higher in price in average than the manual transmission cars. The color of the car doesn't seem †o be effective in determining the price except for white and black cars which get more demand."
   ]
  }
 ],
 "metadata": {
  "ExecuteTimeLog": [
   {
    "duration": 828,
    "start_time": "2021-11-16T09:21:11.304Z"
   },
   {
    "duration": 893,
    "start_time": "2021-11-16T09:21:17.728Z"
   },
   {
    "duration": 1150,
    "start_time": "2021-11-16T09:21:29.568Z"
   },
   {
    "duration": 3,
    "start_time": "2021-11-16T09:24:14.495Z"
   },
   {
    "duration": 120,
    "start_time": "2021-11-16T09:24:46.630Z"
   },
   {
    "duration": 3,
    "start_time": "2021-11-16T09:28:27.882Z"
   },
   {
    "duration": 4,
    "start_time": "2021-11-16T09:29:54.281Z"
   },
   {
    "duration": 3,
    "start_time": "2021-11-16T09:30:45.936Z"
   },
   {
    "duration": 4,
    "start_time": "2021-11-16T09:31:06.300Z"
   },
   {
    "duration": 113,
    "start_time": "2021-11-16T09:31:37.208Z"
   },
   {
    "duration": 143,
    "start_time": "2021-11-16T09:31:48.656Z"
   },
   {
    "duration": 98,
    "start_time": "2021-11-16T09:31:55.678Z"
   },
   {
    "duration": 3,
    "start_time": "2021-11-16T09:32:08.535Z"
   },
   {
    "duration": 111,
    "start_time": "2021-11-16T09:32:10.120Z"
   },
   {
    "duration": 3,
    "start_time": "2021-11-16T09:32:15.732Z"
   },
   {
    "duration": 4,
    "start_time": "2021-11-16T09:32:29.423Z"
   },
   {
    "duration": 3,
    "start_time": "2021-11-16T10:03:03.074Z"
   },
   {
    "duration": 3,
    "start_time": "2021-11-16T10:10:01.288Z"
   },
   {
    "duration": 3,
    "start_time": "2021-11-16T10:10:46.923Z"
   },
   {
    "duration": 121,
    "start_time": "2021-11-16T10:37:46.494Z"
   },
   {
    "duration": 125,
    "start_time": "2021-11-16T10:38:20.632Z"
   },
   {
    "duration": 112,
    "start_time": "2021-11-16T10:46:53.001Z"
   },
   {
    "duration": 110,
    "start_time": "2021-11-16T10:48:25.775Z"
   },
   {
    "duration": 3,
    "start_time": "2021-11-16T10:50:18.720Z"
   },
   {
    "duration": 4,
    "start_time": "2021-11-16T10:50:37.649Z"
   },
   {
    "duration": 2,
    "start_time": "2021-11-16T10:50:51.884Z"
   },
   {
    "duration": 3,
    "start_time": "2021-11-16T10:51:56.237Z"
   },
   {
    "duration": 101,
    "start_time": "2021-11-16T10:53:13.791Z"
   },
   {
    "duration": 3,
    "start_time": "2021-11-16T10:55:59.186Z"
   },
   {
    "duration": 3,
    "start_time": "2021-11-16T10:56:10.751Z"
   },
   {
    "duration": 3,
    "start_time": "2021-11-16T10:56:49.038Z"
   },
   {
    "duration": 3,
    "start_time": "2021-11-16T10:56:49.174Z"
   },
   {
    "duration": 4,
    "start_time": "2021-11-16T10:56:49.414Z"
   },
   {
    "duration": 3,
    "start_time": "2021-11-16T10:56:49.680Z"
   },
   {
    "duration": 3,
    "start_time": "2021-11-16T10:56:50.370Z"
   },
   {
    "duration": 114,
    "start_time": "2021-11-16T10:59:34.518Z"
   },
   {
    "duration": 3,
    "start_time": "2021-11-16T11:01:41.201Z"
   },
   {
    "duration": 116,
    "start_time": "2021-11-16T11:01:48.754Z"
   },
   {
    "duration": 3,
    "start_time": "2021-11-16T11:02:16.685Z"
   },
   {
    "duration": 3,
    "start_time": "2021-11-16T11:02:19.479Z"
   },
   {
    "duration": 3,
    "start_time": "2021-11-16T11:02:47.067Z"
   },
   {
    "duration": 3,
    "start_time": "2021-11-16T11:02:49.353Z"
   },
   {
    "duration": 3,
    "start_time": "2021-11-16T11:03:07.835Z"
   },
   {
    "duration": 3,
    "start_time": "2021-11-16T11:03:07.953Z"
   },
   {
    "duration": 112,
    "start_time": "2021-11-16T11:07:52.072Z"
   },
   {
    "duration": 187,
    "start_time": "2021-11-16T11:09:23.468Z"
   },
   {
    "duration": 4,
    "start_time": "2021-11-16T11:10:01.455Z"
   },
   {
    "duration": 3,
    "start_time": "2021-11-16T11:10:05.069Z"
   },
   {
    "duration": 4,
    "start_time": "2021-11-16T11:10:13.376Z"
   },
   {
    "duration": 3,
    "start_time": "2021-11-16T11:10:14.434Z"
   },
   {
    "duration": 3,
    "start_time": "2021-11-16T11:10:22.853Z"
   },
   {
    "duration": 4,
    "start_time": "2021-11-16T11:27:29.279Z"
   },
   {
    "duration": 4,
    "start_time": "2021-11-16T11:29:08.919Z"
   },
   {
    "duration": 118,
    "start_time": "2021-11-16T11:29:46.703Z"
   },
   {
    "duration": 437,
    "start_time": "2021-11-16T11:36:02.181Z"
   },
   {
    "duration": 157,
    "start_time": "2021-11-16T11:36:14.388Z"
   },
   {
    "duration": 207,
    "start_time": "2021-11-16T11:47:15.898Z"
   },
   {
    "duration": 3,
    "start_time": "2021-11-16T11:53:52.092Z"
   },
   {
    "duration": 3,
    "start_time": "2021-11-16T11:53:52.236Z"
   },
   {
    "duration": 3,
    "start_time": "2021-11-16T11:59:12.005Z"
   },
   {
    "duration": 112,
    "start_time": "2021-11-16T12:00:33.446Z"
   },
   {
    "duration": 3,
    "start_time": "2021-11-16T12:02:14.453Z"
   },
   {
    "duration": 3,
    "start_time": "2021-11-16T12:02:39.512Z"
   },
   {
    "duration": 106,
    "start_time": "2021-11-16T12:03:03.460Z"
   },
   {
    "duration": 54,
    "start_time": "2022-06-17T21:19:14.328Z"
   },
   {
    "duration": 817,
    "start_time": "2022-06-17T21:19:19.108Z"
   },
   {
    "duration": 178,
    "start_time": "2022-06-17T21:19:20.846Z"
   },
   {
    "duration": 26,
    "start_time": "2022-06-17T21:19:24.888Z"
   },
   {
    "duration": 18,
    "start_time": "2022-06-17T21:20:00.967Z"
   },
   {
    "duration": 17,
    "start_time": "2022-06-17T21:20:05.098Z"
   },
   {
    "duration": 62,
    "start_time": "2022-06-18T02:50:23.915Z"
   },
   {
    "duration": 794,
    "start_time": "2022-06-18T02:50:28.112Z"
   },
   {
    "duration": 168,
    "start_time": "2022-06-18T02:50:29.004Z"
   },
   {
    "duration": 39,
    "start_time": "2022-06-18T02:50:30.955Z"
   },
   {
    "duration": 32,
    "start_time": "2022-06-18T02:50:32.318Z"
   },
   {
    "duration": 6,
    "start_time": "2022-06-18T02:55:49.276Z"
   },
   {
    "duration": 40,
    "start_time": "2022-06-18T02:56:19.586Z"
   },
   {
    "duration": 40,
    "start_time": "2022-06-18T02:56:24.087Z"
   },
   {
    "duration": 49,
    "start_time": "2022-06-18T02:56:27.486Z"
   },
   {
    "duration": 71,
    "start_time": "2022-06-18T03:01:15.918Z"
   },
   {
    "duration": 18,
    "start_time": "2022-06-18T03:01:33.430Z"
   },
   {
    "duration": 3,
    "start_time": "2022-06-18T03:01:37.489Z"
   },
   {
    "duration": 101,
    "start_time": "2022-06-18T03:01:38.279Z"
   },
   {
    "duration": 24,
    "start_time": "2022-06-18T03:01:39.030Z"
   },
   {
    "duration": 19,
    "start_time": "2022-06-18T03:01:39.289Z"
   },
   {
    "duration": 807,
    "start_time": "2022-06-28T17:53:31.405Z"
   },
   {
    "duration": 145,
    "start_time": "2022-06-28T17:53:32.494Z"
   },
   {
    "duration": 25,
    "start_time": "2022-06-28T17:53:36.609Z"
   },
   {
    "duration": 22,
    "start_time": "2022-06-28T17:53:37.027Z"
   },
   {
    "duration": 85,
    "start_time": "2022-06-28T17:53:43.149Z"
   },
   {
    "duration": 370,
    "start_time": "2022-06-28T18:01:52.763Z"
   },
   {
    "duration": 12,
    "start_time": "2022-06-28T18:02:01.930Z"
   },
   {
    "duration": 21,
    "start_time": "2022-06-28T18:02:17.511Z"
   },
   {
    "duration": 24,
    "start_time": "2022-06-28T18:39:53.974Z"
   },
   {
    "duration": 22,
    "start_time": "2022-06-28T18:40:27.043Z"
   },
   {
    "duration": 20,
    "start_time": "2022-06-28T18:41:11.061Z"
   },
   {
    "duration": 17,
    "start_time": "2022-06-28T18:41:36.803Z"
   },
   {
    "duration": 23,
    "start_time": "2022-06-28T18:42:37.318Z"
   },
   {
    "duration": 16,
    "start_time": "2022-06-28T18:47:15.850Z"
   },
   {
    "duration": 17,
    "start_time": "2022-06-28T18:47:56.876Z"
   },
   {
    "duration": 23,
    "start_time": "2022-06-28T18:48:14.076Z"
   },
   {
    "duration": 27,
    "start_time": "2022-06-28T18:48:31.782Z"
   },
   {
    "duration": 26,
    "start_time": "2022-06-28T18:48:45.913Z"
   },
   {
    "duration": 25,
    "start_time": "2022-06-28T18:48:53.055Z"
   },
   {
    "duration": 26,
    "start_time": "2022-06-28T18:49:02.254Z"
   },
   {
    "duration": 9,
    "start_time": "2022-06-28T18:49:25.030Z"
   },
   {
    "duration": 14,
    "start_time": "2022-06-28T18:50:14.356Z"
   },
   {
    "duration": 42,
    "start_time": "2022-06-28T22:54:31.842Z"
   },
   {
    "duration": 734,
    "start_time": "2022-06-28T22:54:38.103Z"
   },
   {
    "duration": 135,
    "start_time": "2022-06-28T22:54:38.841Z"
   },
   {
    "duration": 21,
    "start_time": "2022-06-28T22:54:39.265Z"
   },
   {
    "duration": 23,
    "start_time": "2022-06-28T22:54:39.513Z"
   },
   {
    "duration": 46,
    "start_time": "2022-06-28T22:54:41.577Z"
   },
   {
    "duration": 12,
    "start_time": "2022-06-28T22:54:42.351Z"
   },
   {
    "duration": 26,
    "start_time": "2022-06-28T22:54:42.520Z"
   },
   {
    "duration": 3,
    "start_time": "2022-06-28T22:54:47.367Z"
   },
   {
    "duration": 8,
    "start_time": "2022-06-28T22:54:47.550Z"
   },
   {
    "duration": 7,
    "start_time": "2022-06-28T22:54:47.786Z"
   },
   {
    "duration": 8,
    "start_time": "2022-06-28T22:54:47.968Z"
   },
   {
    "duration": 3,
    "start_time": "2022-06-28T22:54:48.891Z"
   },
   {
    "duration": 12,
    "start_time": "2022-06-28T22:55:05.221Z"
   },
   {
    "duration": 26,
    "start_time": "2022-06-28T22:55:19.977Z"
   },
   {
    "duration": 23,
    "start_time": "2022-06-28T22:55:24.387Z"
   },
   {
    "duration": 24,
    "start_time": "2022-06-28T22:56:54.951Z"
   },
   {
    "duration": 34,
    "start_time": "2022-06-28T22:57:01.899Z"
   },
   {
    "duration": 31,
    "start_time": "2022-06-28T22:57:36.915Z"
   },
   {
    "duration": 45,
    "start_time": "2022-06-28T22:57:50.926Z"
   },
   {
    "duration": 33,
    "start_time": "2022-06-28T22:58:01.066Z"
   },
   {
    "duration": 33,
    "start_time": "2022-06-28T22:58:26.096Z"
   },
   {
    "duration": 45,
    "start_time": "2022-06-28T22:59:06.710Z"
   },
   {
    "duration": 31,
    "start_time": "2022-06-28T22:59:10.289Z"
   },
   {
    "duration": 30,
    "start_time": "2022-06-28T22:59:20.564Z"
   },
   {
    "duration": 30,
    "start_time": "2022-06-28T22:59:34.139Z"
   },
   {
    "duration": 31,
    "start_time": "2022-06-28T22:59:48.666Z"
   },
   {
    "duration": 38,
    "start_time": "2022-06-28T23:00:02.550Z"
   },
   {
    "duration": 35,
    "start_time": "2022-06-28T23:00:17.336Z"
   },
   {
    "duration": 36,
    "start_time": "2022-06-28T23:01:03.430Z"
   },
   {
    "duration": 36,
    "start_time": "2022-06-28T23:01:25.910Z"
   },
   {
    "duration": 13,
    "start_time": "2022-06-28T23:01:45.432Z"
   },
   {
    "duration": 20,
    "start_time": "2022-06-28T23:01:45.642Z"
   },
   {
    "duration": 3,
    "start_time": "2022-06-28T23:01:46.138Z"
   },
   {
    "duration": 8,
    "start_time": "2022-06-28T23:01:46.485Z"
   },
   {
    "duration": 7,
    "start_time": "2022-06-28T23:01:46.734Z"
   },
   {
    "duration": 36,
    "start_time": "2022-06-28T23:01:46.963Z"
   },
   {
    "duration": 760,
    "start_time": "2022-07-02T17:46:23.830Z"
   },
   {
    "duration": 419,
    "start_time": "2022-07-02T17:46:25.136Z"
   },
   {
    "duration": 23,
    "start_time": "2022-07-02T17:46:26.282Z"
   },
   {
    "duration": 25,
    "start_time": "2022-07-02T17:46:26.643Z"
   },
   {
    "duration": 81,
    "start_time": "2022-07-02T17:46:32.470Z"
   },
   {
    "duration": 11,
    "start_time": "2022-07-02T17:46:33.960Z"
   },
   {
    "duration": 20,
    "start_time": "2022-07-02T17:46:34.447Z"
   },
   {
    "duration": 2,
    "start_time": "2022-07-02T17:46:36.082Z"
   },
   {
    "duration": 8,
    "start_time": "2022-07-02T17:46:36.359Z"
   },
   {
    "duration": 7,
    "start_time": "2022-07-02T17:46:36.742Z"
   },
   {
    "duration": 81,
    "start_time": "2022-07-02T17:46:39.781Z"
   },
   {
    "duration": 49,
    "start_time": "2022-07-02T17:46:49.817Z"
   },
   {
    "duration": 19,
    "start_time": "2022-07-02T17:47:15.245Z"
   },
   {
    "duration": 24,
    "start_time": "2022-07-02T17:47:21.638Z"
   },
   {
    "duration": 35,
    "start_time": "2022-07-02T17:47:30.917Z"
   },
   {
    "duration": 19,
    "start_time": "2022-07-02T17:47:37.666Z"
   },
   {
    "duration": 21,
    "start_time": "2022-07-02T17:47:38.988Z"
   },
   {
    "duration": 18,
    "start_time": "2022-07-02T17:47:39.315Z"
   },
   {
    "duration": 20,
    "start_time": "2022-07-02T17:49:05.607Z"
   },
   {
    "duration": 37,
    "start_time": "2022-07-02T17:49:08.168Z"
   },
   {
    "duration": 18,
    "start_time": "2022-07-02T17:49:12.905Z"
   },
   {
    "duration": 19,
    "start_time": "2022-07-02T17:49:16.456Z"
   },
   {
    "duration": 21,
    "start_time": "2022-07-02T17:49:19.078Z"
   },
   {
    "duration": 111,
    "start_time": "2022-07-02T17:49:29.669Z"
   },
   {
    "duration": 22,
    "start_time": "2022-07-02T17:49:34.588Z"
   },
   {
    "duration": 19,
    "start_time": "2022-07-02T17:49:37.301Z"
   },
   {
    "duration": 15,
    "start_time": "2022-07-02T17:49:40.190Z"
   },
   {
    "duration": 10,
    "start_time": "2022-07-02T17:50:05.624Z"
   },
   {
    "duration": 21,
    "start_time": "2022-07-02T17:50:25.808Z"
   },
   {
    "duration": 18,
    "start_time": "2022-07-02T17:50:29.089Z"
   },
   {
    "duration": 18,
    "start_time": "2022-07-02T17:50:30.179Z"
   },
   {
    "duration": 3,
    "start_time": "2022-07-02T17:52:22.514Z"
   },
   {
    "duration": 3,
    "start_time": "2022-07-02T17:52:29.100Z"
   },
   {
    "duration": 18,
    "start_time": "2022-07-02T17:52:30.152Z"
   },
   {
    "duration": 17,
    "start_time": "2022-07-02T17:52:31.319Z"
   },
   {
    "duration": 21,
    "start_time": "2022-07-02T17:52:52.089Z"
   },
   {
    "duration": 21,
    "start_time": "2022-07-02T17:52:53.724Z"
   },
   {
    "duration": 19,
    "start_time": "2022-07-02T17:52:55.677Z"
   },
   {
    "duration": 21,
    "start_time": "2022-07-02T17:53:52.795Z"
   },
   {
    "duration": 20,
    "start_time": "2022-07-02T17:53:54.273Z"
   },
   {
    "duration": 19,
    "start_time": "2022-07-02T17:53:55.242Z"
   },
   {
    "duration": 13,
    "start_time": "2022-07-02T17:57:36.406Z"
   },
   {
    "duration": 11,
    "start_time": "2022-07-02T17:58:22.546Z"
   },
   {
    "duration": 10,
    "start_time": "2022-07-02T17:58:30.980Z"
   },
   {
    "duration": 12,
    "start_time": "2022-07-02T17:58:54.263Z"
   },
   {
    "duration": 12,
    "start_time": "2022-07-02T17:59:04.321Z"
   },
   {
    "duration": 11,
    "start_time": "2022-07-02T17:59:11.674Z"
   },
   {
    "duration": 12,
    "start_time": "2022-07-02T17:59:57.653Z"
   },
   {
    "duration": 21,
    "start_time": "2022-07-02T17:59:58.653Z"
   },
   {
    "duration": 23,
    "start_time": "2022-07-02T18:00:03.724Z"
   },
   {
    "duration": 48,
    "start_time": "2022-07-02T18:00:21.457Z"
   },
   {
    "duration": 23,
    "start_time": "2022-07-02T18:00:36.784Z"
   },
   {
    "duration": 40,
    "start_time": "2022-07-02T18:00:46.208Z"
   },
   {
    "duration": 8,
    "start_time": "2022-07-02T18:01:15.326Z"
   },
   {
    "duration": 12,
    "start_time": "2022-07-02T18:02:41.550Z"
   },
   {
    "duration": 2,
    "start_time": "2022-07-02T18:03:17.617Z"
   },
   {
    "duration": 100,
    "start_time": "2022-07-02T18:03:18.409Z"
   },
   {
    "duration": 22,
    "start_time": "2022-07-02T18:03:19.081Z"
   },
   {
    "duration": 19,
    "start_time": "2022-07-02T18:03:19.374Z"
   },
   {
    "duration": 17,
    "start_time": "2022-07-02T18:03:22.464Z"
   },
   {
    "duration": 12,
    "start_time": "2022-07-02T18:03:23.488Z"
   },
   {
    "duration": 20,
    "start_time": "2022-07-02T18:03:23.882Z"
   },
   {
    "duration": 2,
    "start_time": "2022-07-02T18:03:24.886Z"
   },
   {
    "duration": 9,
    "start_time": "2022-07-02T18:03:25.215Z"
   },
   {
    "duration": 38,
    "start_time": "2022-07-02T18:03:25.693Z"
   },
   {
    "duration": 10,
    "start_time": "2022-07-02T18:03:53.690Z"
   },
   {
    "duration": 8,
    "start_time": "2022-07-02T18:03:56.296Z"
   },
   {
    "duration": 38,
    "start_time": "2022-07-02T18:04:03.739Z"
   },
   {
    "duration": 7,
    "start_time": "2022-07-02T18:04:07.519Z"
   },
   {
    "duration": 3,
    "start_time": "2022-07-02T18:09:39.852Z"
   },
   {
    "duration": 91,
    "start_time": "2022-07-02T18:09:40.819Z"
   },
   {
    "duration": 21,
    "start_time": "2022-07-02T18:09:41.538Z"
   },
   {
    "duration": 18,
    "start_time": "2022-07-02T18:09:41.781Z"
   },
   {
    "duration": 15,
    "start_time": "2022-07-02T18:09:44.314Z"
   },
   {
    "duration": 11,
    "start_time": "2022-07-02T18:09:45.367Z"
   },
   {
    "duration": 21,
    "start_time": "2022-07-02T18:09:45.638Z"
   },
   {
    "duration": 2,
    "start_time": "2022-07-02T18:09:47.158Z"
   },
   {
    "duration": 9,
    "start_time": "2022-07-02T18:09:47.584Z"
   },
   {
    "duration": 7,
    "start_time": "2022-07-02T18:09:59.332Z"
   },
   {
    "duration": 8,
    "start_time": "2022-07-02T18:10:08.186Z"
   },
   {
    "duration": 33,
    "start_time": "2022-07-02T18:10:09.306Z"
   },
   {
    "duration": 9,
    "start_time": "2022-07-02T18:10:13.905Z"
   },
   {
    "duration": 10,
    "start_time": "2022-07-02T18:10:45.345Z"
   },
   {
    "duration": 79,
    "start_time": "2022-07-02T18:11:32.798Z"
   },
   {
    "duration": 64,
    "start_time": "2022-07-02T18:11:37.630Z"
   },
   {
    "duration": 6,
    "start_time": "2022-07-02T18:11:40.408Z"
   },
   {
    "duration": 7,
    "start_time": "2022-07-02T18:11:51.786Z"
   },
   {
    "duration": 7,
    "start_time": "2022-07-02T18:12:25.113Z"
   },
   {
    "duration": 7,
    "start_time": "2022-07-02T18:12:27.216Z"
   },
   {
    "duration": 6,
    "start_time": "2022-07-02T18:15:01.890Z"
   },
   {
    "duration": 3,
    "start_time": "2022-07-02T18:15:05.902Z"
   },
   {
    "duration": 21,
    "start_time": "2022-07-02T18:15:12.457Z"
   },
   {
    "duration": 19,
    "start_time": "2022-07-02T18:16:09.685Z"
   },
   {
    "duration": 19,
    "start_time": "2022-07-02T18:16:23.436Z"
   },
   {
    "duration": 18,
    "start_time": "2022-07-02T18:16:24.384Z"
   },
   {
    "duration": 8,
    "start_time": "2022-07-02T18:26:21.690Z"
   },
   {
    "duration": 8,
    "start_time": "2022-07-02T18:26:31.272Z"
   },
   {
    "duration": 7,
    "start_time": "2022-07-02T18:26:31.997Z"
   },
   {
    "duration": 7,
    "start_time": "2022-07-02T18:26:32.439Z"
   },
   {
    "duration": 3,
    "start_time": "2022-07-02T18:26:33.183Z"
   },
   {
    "duration": 20,
    "start_time": "2022-07-02T18:26:33.708Z"
   },
   {
    "duration": 18,
    "start_time": "2022-07-02T18:26:34.725Z"
   },
   {
    "duration": 19,
    "start_time": "2022-07-02T18:26:35.170Z"
   },
   {
    "duration": 879,
    "start_time": "2022-07-02T18:26:54.233Z"
   },
   {
    "duration": 937,
    "start_time": "2022-07-02T18:30:07.407Z"
   },
   {
    "duration": 77,
    "start_time": "2022-07-02T18:30:54.471Z"
   },
   {
    "duration": 1311,
    "start_time": "2022-07-02T18:30:59.795Z"
   },
   {
    "duration": 8,
    "start_time": "2022-07-02T18:35:02.693Z"
   },
   {
    "duration": 8,
    "start_time": "2022-07-02T18:35:12.595Z"
   },
   {
    "duration": 8,
    "start_time": "2022-07-02T18:35:21.079Z"
   },
   {
    "duration": 809,
    "start_time": "2022-07-02T18:37:20.820Z"
   },
   {
    "duration": 2,
    "start_time": "2022-07-02T18:37:21.631Z"
   },
   {
    "duration": 387,
    "start_time": "2022-07-02T18:38:38.013Z"
   },
   {
    "duration": 13,
    "start_time": "2022-07-02T18:38:47.097Z"
   },
   {
    "duration": 77,
    "start_time": "2022-07-02T18:42:37.975Z"
   },
   {
    "duration": 383,
    "start_time": "2022-07-02T18:42:42.939Z"
   },
   {
    "duration": 1314,
    "start_time": "2022-07-02T18:42:52.356Z"
   },
   {
    "duration": 361,
    "start_time": "2022-07-02T18:42:59.548Z"
   },
   {
    "duration": 500,
    "start_time": "2022-07-02T18:43:06.048Z"
   },
   {
    "duration": 8,
    "start_time": "2022-07-02T18:52:08.696Z"
   },
   {
    "duration": 7,
    "start_time": "2022-07-02T18:52:13.936Z"
   },
   {
    "duration": 1414,
    "start_time": "2022-07-02T18:52:25.928Z"
   },
   {
    "duration": 11,
    "start_time": "2022-07-02T18:52:31.748Z"
   },
   {
    "duration": 11,
    "start_time": "2022-07-02T18:52:34.776Z"
   },
   {
    "duration": 10,
    "start_time": "2022-07-02T18:52:39.636Z"
   },
   {
    "duration": 7,
    "start_time": "2022-07-02T18:53:21.579Z"
   },
   {
    "duration": 387,
    "start_time": "2022-07-02T18:59:13.380Z"
   },
   {
    "duration": 818,
    "start_time": "2022-07-02T18:59:54.507Z"
   },
   {
    "duration": 414,
    "start_time": "2022-07-02T19:00:09.761Z"
   },
   {
    "duration": 8,
    "start_time": "2022-07-02T19:01:13.119Z"
   },
   {
    "duration": 224,
    "start_time": "2022-07-02T19:01:23.844Z"
   },
   {
    "duration": 218,
    "start_time": "2022-07-02T19:01:44.893Z"
   },
   {
    "duration": 102,
    "start_time": "2022-07-02T19:02:01.927Z"
   },
   {
    "duration": 210,
    "start_time": "2022-07-02T19:02:14.163Z"
   },
   {
    "duration": 21,
    "start_time": "2022-07-02T19:05:41.892Z"
   },
   {
    "duration": 133,
    "start_time": "2022-07-02T19:08:54.611Z"
   },
   {
    "duration": 133,
    "start_time": "2022-07-02T19:12:05.726Z"
   },
   {
    "duration": 118,
    "start_time": "2022-07-02T19:12:15.688Z"
   },
   {
    "duration": 924,
    "start_time": "2022-07-02T19:12:30.041Z"
   },
   {
    "duration": 3321,
    "start_time": "2022-07-02T19:12:51.553Z"
   },
   {
    "duration": 1271,
    "start_time": "2022-07-02T19:28:55.193Z"
   },
   {
    "duration": 814,
    "start_time": "2022-07-02T19:29:04.172Z"
   },
   {
    "duration": 8,
    "start_time": "2022-07-02T19:29:22.289Z"
   },
   {
    "duration": 938,
    "start_time": "2022-07-02T19:29:30.664Z"
   },
   {
    "duration": 13,
    "start_time": "2022-07-02T19:29:46.092Z"
   },
   {
    "duration": 14,
    "start_time": "2022-07-02T19:29:52.034Z"
   },
   {
    "duration": 998,
    "start_time": "2022-07-02T19:30:07.048Z"
   },
   {
    "duration": 916,
    "start_time": "2022-07-02T19:30:31.928Z"
   },
   {
    "duration": 91,
    "start_time": "2022-07-02T19:30:50.799Z"
   },
   {
    "duration": 837,
    "start_time": "2022-07-02T19:30:53.753Z"
   },
   {
    "duration": 823,
    "start_time": "2022-07-02T19:31:37.975Z"
   },
   {
    "duration": 944,
    "start_time": "2022-07-02T19:32:01.083Z"
   },
   {
    "duration": 978,
    "start_time": "2022-07-02T19:32:17.365Z"
   },
   {
    "duration": 931,
    "start_time": "2022-07-02T19:32:33.606Z"
   },
   {
    "duration": 12,
    "start_time": "2022-07-02T19:43:57.067Z"
   },
   {
    "duration": 407,
    "start_time": "2022-07-02T19:44:07.149Z"
   },
   {
    "duration": 180,
    "start_time": "2022-07-02T19:44:42.611Z"
   },
   {
    "duration": 243,
    "start_time": "2022-07-02T19:44:54.319Z"
   },
   {
    "duration": 182,
    "start_time": "2022-07-02T19:45:58.866Z"
   },
   {
    "duration": 173,
    "start_time": "2022-07-02T19:47:12.904Z"
   },
   {
    "duration": 180,
    "start_time": "2022-07-02T19:47:25.093Z"
   },
   {
    "duration": 159,
    "start_time": "2022-07-02T19:47:30.919Z"
   },
   {
    "duration": 135,
    "start_time": "2022-07-02T19:47:39.252Z"
   },
   {
    "duration": 147,
    "start_time": "2022-07-02T19:48:55.199Z"
   },
   {
    "duration": 21,
    "start_time": "2022-07-02T19:49:16.127Z"
   },
   {
    "duration": 3,
    "start_time": "2022-07-02T19:49:21.304Z"
   },
   {
    "duration": 19,
    "start_time": "2022-07-02T19:49:21.979Z"
   },
   {
    "duration": 19,
    "start_time": "2022-07-02T19:49:23.568Z"
   },
   {
    "duration": 18,
    "start_time": "2022-07-02T19:49:24.292Z"
   },
   {
    "duration": 3,
    "start_time": "2022-07-02T19:49:38.630Z"
   },
   {
    "duration": 20,
    "start_time": "2022-07-02T19:49:39.094Z"
   },
   {
    "duration": 17,
    "start_time": "2022-07-02T19:49:39.918Z"
   },
   {
    "duration": 17,
    "start_time": "2022-07-02T19:49:40.591Z"
   },
   {
    "duration": 111,
    "start_time": "2022-07-02T19:49:59.076Z"
   },
   {
    "duration": 176,
    "start_time": "2022-07-02T19:50:46.681Z"
   },
   {
    "duration": 144,
    "start_time": "2022-07-02T19:51:02.087Z"
   },
   {
    "duration": 182,
    "start_time": "2022-07-02T19:51:08.976Z"
   },
   {
    "duration": 221,
    "start_time": "2022-07-02T19:51:47.798Z"
   },
   {
    "duration": 13,
    "start_time": "2022-07-02T19:52:38.563Z"
   },
   {
    "duration": 12,
    "start_time": "2022-07-02T19:52:53.717Z"
   },
   {
    "duration": 115,
    "start_time": "2022-07-02T19:53:34.820Z"
   },
   {
    "duration": 1693,
    "start_time": "2022-07-02T19:53:41.444Z"
   },
   {
    "duration": 541,
    "start_time": "2022-07-02T19:53:59.229Z"
   },
   {
    "duration": 640,
    "start_time": "2022-07-02T19:54:10.467Z"
   },
   {
    "duration": 521,
    "start_time": "2022-07-02T19:54:26.972Z"
   },
   {
    "duration": 714,
    "start_time": "2022-07-02T19:54:33.307Z"
   },
   {
    "duration": 110,
    "start_time": "2022-07-02T19:54:41.630Z"
   },
   {
    "duration": 831,
    "start_time": "2022-07-02T19:54:49.992Z"
   },
   {
    "duration": 658,
    "start_time": "2022-07-02T19:55:04.284Z"
   },
   {
    "duration": 783,
    "start_time": "2022-07-02T19:55:33.726Z"
   },
   {
    "duration": 3,
    "start_time": "2022-07-02T19:56:22.050Z"
   },
   {
    "duration": 92,
    "start_time": "2022-07-02T19:56:22.724Z"
   },
   {
    "duration": 21,
    "start_time": "2022-07-02T19:56:23.448Z"
   },
   {
    "duration": 22,
    "start_time": "2022-07-02T19:56:23.644Z"
   },
   {
    "duration": 19,
    "start_time": "2022-07-02T19:56:26.079Z"
   },
   {
    "duration": 11,
    "start_time": "2022-07-02T19:56:26.728Z"
   },
   {
    "duration": 21,
    "start_time": "2022-07-02T19:56:26.971Z"
   },
   {
    "duration": 2,
    "start_time": "2022-07-02T19:56:28.117Z"
   },
   {
    "duration": 9,
    "start_time": "2022-07-02T19:56:28.371Z"
   },
   {
    "duration": 7,
    "start_time": "2022-07-02T19:56:28.844Z"
   },
   {
    "duration": 6,
    "start_time": "2022-07-02T19:56:29.744Z"
   },
   {
    "duration": 3,
    "start_time": "2022-07-02T19:56:30.933Z"
   },
   {
    "duration": 18,
    "start_time": "2022-07-02T19:56:31.971Z"
   },
   {
    "duration": 19,
    "start_time": "2022-07-02T19:56:33.821Z"
   },
   {
    "duration": 18,
    "start_time": "2022-07-02T19:56:34.770Z"
   },
   {
    "duration": 864,
    "start_time": "2022-07-02T19:56:40.492Z"
   },
   {
    "duration": 3,
    "start_time": "2022-07-02T20:11:58.190Z"
   },
   {
    "duration": 3,
    "start_time": "2022-07-02T20:12:04.002Z"
   },
   {
    "duration": 20,
    "start_time": "2022-07-02T20:12:04.397Z"
   },
   {
    "duration": 25,
    "start_time": "2022-07-02T20:12:05.211Z"
   },
   {
    "duration": 23,
    "start_time": "2022-07-02T20:12:06.152Z"
   },
   {
    "duration": 7,
    "start_time": "2022-07-02T20:12:32.784Z"
   },
   {
    "duration": 19,
    "start_time": "2022-07-02T20:14:25.383Z"
   },
   {
    "duration": 2061,
    "start_time": "2022-07-02T20:14:38.407Z"
   },
   {
    "duration": 972,
    "start_time": "2022-07-02T20:14:44.006Z"
   },
   {
    "duration": 3,
    "start_time": "2022-07-02T20:22:24.619Z"
   },
   {
    "duration": 102,
    "start_time": "2022-07-02T20:22:25.068Z"
   },
   {
    "duration": 21,
    "start_time": "2022-07-02T20:22:25.783Z"
   },
   {
    "duration": 21,
    "start_time": "2022-07-02T20:22:26.051Z"
   },
   {
    "duration": 17,
    "start_time": "2022-07-02T20:22:29.438Z"
   },
   {
    "duration": 11,
    "start_time": "2022-07-02T20:22:30.188Z"
   },
   {
    "duration": 18,
    "start_time": "2022-07-02T20:22:30.622Z"
   },
   {
    "duration": 2,
    "start_time": "2022-07-02T20:22:31.795Z"
   },
   {
    "duration": 8,
    "start_time": "2022-07-02T20:22:32.039Z"
   },
   {
    "duration": 7,
    "start_time": "2022-07-02T20:22:32.317Z"
   },
   {
    "duration": 4,
    "start_time": "2022-07-02T20:22:32.584Z"
   },
   {
    "duration": 3,
    "start_time": "2022-07-02T20:22:33.078Z"
   },
   {
    "duration": 18,
    "start_time": "2022-07-02T20:22:33.498Z"
   },
   {
    "duration": 20,
    "start_time": "2022-07-02T20:22:34.784Z"
   },
   {
    "duration": 18,
    "start_time": "2022-07-02T20:22:35.691Z"
   },
   {
    "duration": 1112,
    "start_time": "2022-07-02T20:22:38.949Z"
   },
   {
    "duration": 68,
    "start_time": "2022-07-03T19:15:56.383Z"
   },
   {
    "duration": 727,
    "start_time": "2022-07-03T19:16:00.565Z"
   },
   {
    "duration": 142,
    "start_time": "2022-07-03T19:16:01.294Z"
   },
   {
    "duration": 27,
    "start_time": "2022-07-03T19:16:01.689Z"
   },
   {
    "duration": 39,
    "start_time": "2022-07-03T19:16:01.938Z"
   },
   {
    "duration": 34,
    "start_time": "2022-07-03T19:16:05.857Z"
   },
   {
    "duration": 33,
    "start_time": "2022-07-03T19:22:19.794Z"
   },
   {
    "duration": 21,
    "start_time": "2022-07-03T19:22:20.936Z"
   },
   {
    "duration": 39,
    "start_time": "2022-07-03T19:22:21.133Z"
   },
   {
    "duration": 3,
    "start_time": "2022-07-03T19:22:21.992Z"
   },
   {
    "duration": 10,
    "start_time": "2022-07-03T19:22:22.234Z"
   },
   {
    "duration": 8,
    "start_time": "2022-07-03T19:22:22.459Z"
   },
   {
    "duration": 5,
    "start_time": "2022-07-03T19:22:22.710Z"
   },
   {
    "duration": 5,
    "start_time": "2022-07-03T19:22:22.966Z"
   },
   {
    "duration": 41,
    "start_time": "2022-07-03T19:22:23.422Z"
   },
   {
    "duration": 33,
    "start_time": "2022-07-03T19:22:24.398Z"
   },
   {
    "duration": 26,
    "start_time": "2022-07-03T19:22:24.694Z"
   },
   {
    "duration": 35,
    "start_time": "2022-07-03T19:22:36.388Z"
   },
   {
    "duration": 6,
    "start_time": "2022-07-03T19:23:35.406Z"
   },
   {
    "duration": 6,
    "start_time": "2022-07-03T19:23:45.609Z"
   },
   {
    "duration": 18,
    "start_time": "2022-07-03T19:24:39.750Z"
   },
   {
    "duration": 16,
    "start_time": "2022-07-03T19:24:44.343Z"
   },
   {
    "duration": 16,
    "start_time": "2022-07-03T19:24:47.651Z"
   },
   {
    "duration": 22,
    "start_time": "2022-07-03T19:24:50.576Z"
   },
   {
    "duration": 20,
    "start_time": "2022-07-03T19:24:53.747Z"
   },
   {
    "duration": 22,
    "start_time": "2022-07-03T19:25:08.643Z"
   },
   {
    "duration": 25,
    "start_time": "2022-07-03T19:25:10.910Z"
   },
   {
    "duration": 22,
    "start_time": "2022-07-03T19:25:13.706Z"
   },
   {
    "duration": 21,
    "start_time": "2022-07-03T19:25:16.081Z"
   },
   {
    "duration": 16,
    "start_time": "2022-07-03T19:25:19.189Z"
   },
   {
    "duration": 63,
    "start_time": "2022-07-03T19:25:38.581Z"
   },
   {
    "duration": 21,
    "start_time": "2022-07-03T19:25:48.766Z"
   },
   {
    "duration": 45,
    "start_time": "2022-07-03T19:26:00.191Z"
   },
   {
    "duration": 11,
    "start_time": "2022-07-03T19:32:33.305Z"
   },
   {
    "duration": 6,
    "start_time": "2022-07-03T19:33:01.801Z"
   },
   {
    "duration": 8,
    "start_time": "2022-07-03T19:33:15.289Z"
   },
   {
    "duration": 6,
    "start_time": "2022-07-03T19:33:27.364Z"
   },
   {
    "duration": 6,
    "start_time": "2022-07-03T19:33:30.756Z"
   },
   {
    "duration": 23,
    "start_time": "2022-07-03T19:33:50.314Z"
   },
   {
    "duration": 4,
    "start_time": "2022-07-03T19:34:18.798Z"
   },
   {
    "duration": 26,
    "start_time": "2022-07-03T19:34:21.681Z"
   },
   {
    "duration": 5,
    "start_time": "2022-07-03T19:34:43.643Z"
   },
   {
    "duration": 6,
    "start_time": "2022-07-03T19:35:37.491Z"
   },
   {
    "duration": 16,
    "start_time": "2022-07-03T19:35:48.896Z"
   },
   {
    "duration": 5,
    "start_time": "2022-07-03T19:36:14.333Z"
   },
   {
    "duration": 21,
    "start_time": "2022-07-03T19:36:14.340Z"
   },
   {
    "duration": 17,
    "start_time": "2022-07-03T19:36:14.811Z"
   },
   {
    "duration": 5,
    "start_time": "2022-07-03T19:36:38.107Z"
   },
   {
    "duration": 16,
    "start_time": "2022-07-03T19:36:39.105Z"
   },
   {
    "duration": 5,
    "start_time": "2022-07-03T19:37:12.764Z"
   },
   {
    "duration": 5,
    "start_time": "2022-07-03T19:37:13.491Z"
   },
   {
    "duration": 17,
    "start_time": "2022-07-03T19:37:14.188Z"
   },
   {
    "duration": 39,
    "start_time": "2022-07-03T19:37:38.004Z"
   },
   {
    "duration": 17,
    "start_time": "2022-07-03T19:39:29.906Z"
   },
   {
    "duration": 22,
    "start_time": "2022-07-03T19:39:30.130Z"
   },
   {
    "duration": 3,
    "start_time": "2022-07-03T19:39:30.931Z"
   },
   {
    "duration": 9,
    "start_time": "2022-07-03T19:39:31.184Z"
   },
   {
    "duration": 7,
    "start_time": "2022-07-03T19:39:31.688Z"
   },
   {
    "duration": 4,
    "start_time": "2022-07-03T19:39:32.073Z"
   },
   {
    "duration": 3,
    "start_time": "2022-07-03T19:39:32.684Z"
   },
   {
    "duration": 23,
    "start_time": "2022-07-03T19:39:33.052Z"
   },
   {
    "duration": 22,
    "start_time": "2022-07-03T19:39:33.947Z"
   },
   {
    "duration": 23,
    "start_time": "2022-07-03T19:39:34.944Z"
   },
   {
    "duration": 5,
    "start_time": "2022-07-03T19:39:58.148Z"
   },
   {
    "duration": 5,
    "start_time": "2022-07-03T19:39:59.193Z"
   },
   {
    "duration": 41,
    "start_time": "2022-07-03T19:39:59.691Z"
   },
   {
    "duration": 9,
    "start_time": "2022-07-03T19:42:30.081Z"
   },
   {
    "duration": 5,
    "start_time": "2022-07-03T19:42:30.784Z"
   },
   {
    "duration": 36,
    "start_time": "2022-07-03T19:42:31.295Z"
   },
   {
    "duration": 10,
    "start_time": "2022-07-03T19:42:37.983Z"
   },
   {
    "duration": 9,
    "start_time": "2022-07-03T19:42:45.829Z"
   },
   {
    "duration": 5,
    "start_time": "2022-07-03T19:42:46.573Z"
   },
   {
    "duration": 36,
    "start_time": "2022-07-03T19:42:46.947Z"
   },
   {
    "duration": 2,
    "start_time": "2022-07-03T19:42:56.829Z"
   },
   {
    "duration": 90,
    "start_time": "2022-07-03T19:42:57.833Z"
   },
   {
    "duration": 25,
    "start_time": "2022-07-03T19:42:59.143Z"
   },
   {
    "duration": 21,
    "start_time": "2022-07-03T19:42:59.603Z"
   },
   {
    "duration": 33,
    "start_time": "2022-07-03T19:43:04.032Z"
   },
   {
    "duration": 18,
    "start_time": "2022-07-03T19:43:05.026Z"
   },
   {
    "duration": 728,
    "start_time": "2022-07-03T19:43:14.169Z"
   },
   {
    "duration": 0,
    "start_time": "2022-07-03T19:43:14.899Z"
   },
   {
    "duration": 17,
    "start_time": "2022-07-03T19:43:15.316Z"
   },
   {
    "duration": 10,
    "start_time": "2022-07-03T19:43:21.326Z"
   },
   {
    "duration": 733,
    "start_time": "2022-07-03T19:43:21.929Z"
   },
   {
    "duration": 32,
    "start_time": "2022-07-03T19:43:22.668Z"
   },
   {
    "duration": 13,
    "start_time": "2022-07-03T19:43:38.599Z"
   },
   {
    "duration": 25,
    "start_time": "2022-07-03T19:43:38.932Z"
   },
   {
    "duration": 3,
    "start_time": "2022-07-03T19:43:40.672Z"
   },
   {
    "duration": 10,
    "start_time": "2022-07-03T19:43:41.305Z"
   },
   {
    "duration": 10,
    "start_time": "2022-07-03T19:43:41.901Z"
   },
   {
    "duration": 5,
    "start_time": "2022-07-03T19:43:42.314Z"
   },
   {
    "duration": 4,
    "start_time": "2022-07-03T19:43:43.477Z"
   },
   {
    "duration": 4,
    "start_time": "2022-07-03T19:43:49.486Z"
   },
   {
    "duration": 47,
    "start_time": "2022-07-03T19:43:51.363Z"
   },
   {
    "duration": 12,
    "start_time": "2022-07-03T19:44:09.134Z"
   },
   {
    "duration": 4,
    "start_time": "2022-07-03T19:44:09.864Z"
   },
   {
    "duration": 36,
    "start_time": "2022-07-03T19:44:10.493Z"
   },
   {
    "duration": 11,
    "start_time": "2022-07-03T19:46:16.774Z"
   },
   {
    "duration": 11,
    "start_time": "2022-07-03T19:46:17.212Z"
   },
   {
    "duration": 5,
    "start_time": "2022-07-03T19:46:17.595Z"
   },
   {
    "duration": 43,
    "start_time": "2022-07-03T19:46:18.168Z"
   },
   {
    "duration": 12,
    "start_time": "2022-07-03T19:46:31.581Z"
   },
   {
    "duration": 25,
    "start_time": "2022-07-03T19:46:31.765Z"
   },
   {
    "duration": 13,
    "start_time": "2022-07-03T19:47:23.645Z"
   },
   {
    "duration": 9,
    "start_time": "2022-07-03T19:47:54.761Z"
   },
   {
    "duration": 50,
    "start_time": "2022-07-03T19:48:30.369Z"
   },
   {
    "duration": 20,
    "start_time": "2022-07-03T19:48:34.342Z"
   },
   {
    "duration": 47,
    "start_time": "2022-07-03T19:48:41.438Z"
   },
   {
    "duration": 16,
    "start_time": "2022-07-03T19:48:44.400Z"
   },
   {
    "duration": 16,
    "start_time": "2022-07-03T19:48:52.547Z"
   },
   {
    "duration": 12,
    "start_time": "2022-07-03T19:48:58.587Z"
   },
   {
    "duration": 16,
    "start_time": "2022-07-03T19:49:05.837Z"
   },
   {
    "duration": 16,
    "start_time": "2022-07-03T19:49:25.463Z"
   },
   {
    "duration": 8,
    "start_time": "2022-07-03T19:50:45.271Z"
   },
   {
    "duration": 7,
    "start_time": "2022-07-03T19:50:56.346Z"
   },
   {
    "duration": 20,
    "start_time": "2022-07-03T19:50:57.494Z"
   },
   {
    "duration": 7,
    "start_time": "2022-07-03T19:51:03.753Z"
   },
   {
    "duration": 13,
    "start_time": "2022-07-03T19:51:05.995Z"
   },
   {
    "duration": 809,
    "start_time": "2022-07-03T19:51:15.861Z"
   },
   {
    "duration": 6,
    "start_time": "2022-07-03T19:51:25.988Z"
   },
   {
    "duration": 15,
    "start_time": "2022-07-03T19:51:31.582Z"
   },
   {
    "duration": 9,
    "start_time": "2022-07-03T19:52:02.799Z"
   },
   {
    "duration": 14,
    "start_time": "2022-07-03T19:52:08.494Z"
   },
   {
    "duration": 5,
    "start_time": "2022-07-03T19:52:09.386Z"
   },
   {
    "duration": 38,
    "start_time": "2022-07-03T19:52:10.188Z"
   },
   {
    "duration": 11,
    "start_time": "2022-07-03T19:53:07.200Z"
   },
   {
    "duration": 18,
    "start_time": "2022-07-03T19:53:30.437Z"
   },
   {
    "duration": 13,
    "start_time": "2022-07-03T19:53:58.445Z"
   },
   {
    "duration": 13,
    "start_time": "2022-07-03T19:54:30.711Z"
   },
   {
    "duration": 12,
    "start_time": "2022-07-03T19:54:42.855Z"
   },
   {
    "duration": 17,
    "start_time": "2022-07-03T19:55:10.137Z"
   },
   {
    "duration": 26,
    "start_time": "2022-07-03T19:55:14.746Z"
   },
   {
    "duration": 39,
    "start_time": "2022-07-03T19:56:14.141Z"
   },
   {
    "duration": 27,
    "start_time": "2022-07-03T19:56:19.856Z"
   },
   {
    "duration": 27,
    "start_time": "2022-07-03T19:56:29.851Z"
   },
   {
    "duration": 27,
    "start_time": "2022-07-03T19:56:34.485Z"
   },
   {
    "duration": 26,
    "start_time": "2022-07-03T19:56:40.702Z"
   },
   {
    "duration": 49,
    "start_time": "2022-07-03T19:56:45.475Z"
   },
   {
    "duration": 11,
    "start_time": "2022-07-03T19:58:05.595Z"
   },
   {
    "duration": 8,
    "start_time": "2022-07-03T19:58:11.866Z"
   },
   {
    "duration": 4,
    "start_time": "2022-07-03T19:58:11.876Z"
   },
   {
    "duration": 39,
    "start_time": "2022-07-03T19:58:12.350Z"
   },
   {
    "duration": 8,
    "start_time": "2022-07-03T19:58:31.755Z"
   },
   {
    "duration": 11,
    "start_time": "2022-07-03T19:58:32.137Z"
   },
   {
    "duration": 4,
    "start_time": "2022-07-03T19:58:32.445Z"
   },
   {
    "duration": 26,
    "start_time": "2022-07-03T19:58:32.885Z"
   },
   {
    "duration": 12,
    "start_time": "2022-07-03T20:12:30.088Z"
   },
   {
    "duration": 10,
    "start_time": "2022-07-03T20:12:35.754Z"
   },
   {
    "duration": 39,
    "start_time": "2022-07-03T20:13:18.572Z"
   },
   {
    "duration": 10,
    "start_time": "2022-07-03T20:14:12.715Z"
   },
   {
    "duration": 5,
    "start_time": "2022-07-03T20:14:13.160Z"
   },
   {
    "duration": 43,
    "start_time": "2022-07-03T20:14:13.528Z"
   },
   {
    "duration": 2,
    "start_time": "2022-07-03T20:14:17.900Z"
   },
   {
    "duration": 91,
    "start_time": "2022-07-03T20:14:18.669Z"
   },
   {
    "duration": 25,
    "start_time": "2022-07-03T20:14:19.647Z"
   },
   {
    "duration": 22,
    "start_time": "2022-07-03T20:14:19.947Z"
   },
   {
    "duration": 19,
    "start_time": "2022-07-03T20:14:23.468Z"
   },
   {
    "duration": 10,
    "start_time": "2022-07-03T20:14:25.675Z"
   },
   {
    "duration": 760,
    "start_time": "2022-07-03T20:14:26.070Z"
   },
   {
    "duration": 39,
    "start_time": "2022-07-03T20:14:27.217Z"
   },
   {
    "duration": 764,
    "start_time": "2022-07-03T20:15:12.499Z"
   },
   {
    "duration": 12,
    "start_time": "2022-07-03T20:15:57.935Z"
   },
   {
    "duration": 11,
    "start_time": "2022-07-03T20:15:59.260Z"
   },
   {
    "duration": 4,
    "start_time": "2022-07-03T20:16:00.465Z"
   },
   {
    "duration": 40,
    "start_time": "2022-07-03T20:16:01.767Z"
   },
   {
    "duration": 66,
    "start_time": "2022-07-03T20:16:14.951Z"
   },
   {
    "duration": 768,
    "start_time": "2022-07-03T20:16:16.387Z"
   },
   {
    "duration": 9,
    "start_time": "2022-07-03T20:16:50.087Z"
   },
   {
    "duration": 11,
    "start_time": "2022-07-03T20:17:07.579Z"
   },
   {
    "duration": 7,
    "start_time": "2022-07-03T20:17:08.013Z"
   },
   {
    "duration": 15,
    "start_time": "2022-07-03T20:17:14.267Z"
   },
   {
    "duration": 9,
    "start_time": "2022-07-03T20:17:22.617Z"
   },
   {
    "duration": 9,
    "start_time": "2022-07-03T20:17:24.617Z"
   },
   {
    "duration": 12,
    "start_time": "2022-07-03T20:17:54.374Z"
   },
   {
    "duration": 6,
    "start_time": "2022-07-03T20:18:42.121Z"
   },
   {
    "duration": 15,
    "start_time": "2022-07-03T20:19:07.047Z"
   },
   {
    "duration": 13,
    "start_time": "2022-07-03T20:19:34.152Z"
   },
   {
    "duration": 3,
    "start_time": "2022-07-03T20:20:39.184Z"
   },
   {
    "duration": 23,
    "start_time": "2022-07-03T20:20:39.577Z"
   },
   {
    "duration": 22,
    "start_time": "2022-07-03T20:20:40.664Z"
   },
   {
    "duration": 25,
    "start_time": "2022-07-03T20:20:42.083Z"
   },
   {
    "duration": 1229,
    "start_time": "2022-07-03T20:20:45.096Z"
   },
   {
    "duration": 1339,
    "start_time": "2022-07-03T20:22:49.151Z"
   },
   {
    "duration": 16,
    "start_time": "2022-07-03T20:23:33.513Z"
   },
   {
    "duration": 16,
    "start_time": "2022-07-03T20:23:38.547Z"
   },
   {
    "duration": 3,
    "start_time": "2022-07-03T20:23:50.492Z"
   },
   {
    "duration": 10,
    "start_time": "2022-07-03T20:23:51.776Z"
   },
   {
    "duration": 7,
    "start_time": "2022-07-03T20:23:52.012Z"
   },
   {
    "duration": 7,
    "start_time": "2022-07-03T20:23:52.203Z"
   },
   {
    "duration": 4,
    "start_time": "2022-07-03T20:23:52.393Z"
   },
   {
    "duration": 34,
    "start_time": "2022-07-03T20:23:52.580Z"
   },
   {
    "duration": 25,
    "start_time": "2022-07-03T20:23:53.186Z"
   },
   {
    "duration": 27,
    "start_time": "2022-07-03T20:23:53.417Z"
   },
   {
    "duration": 1343,
    "start_time": "2022-07-03T20:23:54.563Z"
   },
   {
    "duration": 55,
    "start_time": "2022-07-03T20:31:19.694Z"
   },
   {
    "duration": 4,
    "start_time": "2022-07-03T20:32:28.076Z"
   },
   {
    "duration": 39,
    "start_time": "2022-07-03T20:32:28.501Z"
   },
   {
    "duration": 22,
    "start_time": "2022-07-03T20:32:30.121Z"
   },
   {
    "duration": 24,
    "start_time": "2022-07-03T20:32:31.050Z"
   },
   {
    "duration": 9,
    "start_time": "2022-07-03T20:32:40.105Z"
   },
   {
    "duration": 8,
    "start_time": "2022-07-03T20:32:40.440Z"
   },
   {
    "duration": 6,
    "start_time": "2022-07-03T20:32:42.969Z"
   },
   {
    "duration": 3,
    "start_time": "2022-07-03T20:32:46.386Z"
   },
   {
    "duration": 87,
    "start_time": "2022-07-03T20:32:46.851Z"
   },
   {
    "duration": 25,
    "start_time": "2022-07-03T20:32:47.520Z"
   },
   {
    "duration": 19,
    "start_time": "2022-07-03T20:32:47.763Z"
   },
   {
    "duration": 20,
    "start_time": "2022-07-03T20:32:50.213Z"
   },
   {
    "duration": 13,
    "start_time": "2022-07-03T20:32:50.684Z"
   },
   {
    "duration": 8,
    "start_time": "2022-07-03T20:32:50.909Z"
   },
   {
    "duration": 13,
    "start_time": "2022-07-03T20:32:51.578Z"
   },
   {
    "duration": 3,
    "start_time": "2022-07-03T20:32:52.242Z"
   },
   {
    "duration": 9,
    "start_time": "2022-07-03T20:32:52.471Z"
   },
   {
    "duration": 8,
    "start_time": "2022-07-03T20:32:52.696Z"
   },
   {
    "duration": 6,
    "start_time": "2022-07-03T20:32:52.917Z"
   },
   {
    "duration": 4,
    "start_time": "2022-07-03T20:32:53.154Z"
   },
   {
    "duration": 24,
    "start_time": "2022-07-03T20:32:53.413Z"
   },
   {
    "duration": 24,
    "start_time": "2022-07-03T20:32:54.292Z"
   },
   {
    "duration": 24,
    "start_time": "2022-07-03T20:32:54.675Z"
   },
   {
    "duration": 1242,
    "start_time": "2022-07-03T20:32:55.750Z"
   },
   {
    "duration": 54,
    "start_time": "2022-07-03T20:33:00.865Z"
   },
   {
    "duration": 10,
    "start_time": "2022-07-03T20:34:56.158Z"
   },
   {
    "duration": 11,
    "start_time": "2022-07-03T20:35:34.786Z"
   },
   {
    "duration": 6,
    "start_time": "2022-07-03T20:35:35.419Z"
   },
   {
    "duration": 3,
    "start_time": "2022-07-03T20:35:35.863Z"
   },
   {
    "duration": 31,
    "start_time": "2022-07-03T20:35:36.182Z"
   },
   {
    "duration": 32,
    "start_time": "2022-07-03T20:35:37.908Z"
   },
   {
    "duration": 24,
    "start_time": "2022-07-03T20:35:38.451Z"
   },
   {
    "duration": 9,
    "start_time": "2022-07-03T20:35:57.519Z"
   },
   {
    "duration": 15,
    "start_time": "2022-07-03T20:35:58.593Z"
   },
   {
    "duration": 6,
    "start_time": "2022-07-03T20:35:59.459Z"
   },
   {
    "duration": 9,
    "start_time": "2022-07-03T20:35:59.752Z"
   },
   {
    "duration": 8,
    "start_time": "2022-07-03T20:36:00.075Z"
   },
   {
    "duration": 7,
    "start_time": "2022-07-03T20:36:00.454Z"
   },
   {
    "duration": 6,
    "start_time": "2022-07-03T20:36:00.707Z"
   },
   {
    "duration": 35,
    "start_time": "2022-07-03T20:36:01.050Z"
   },
   {
    "duration": 35,
    "start_time": "2022-07-03T20:36:02.956Z"
   },
   {
    "duration": 35,
    "start_time": "2022-07-03T20:36:04.546Z"
   },
   {
    "duration": 10,
    "start_time": "2022-07-03T20:36:38.938Z"
   },
   {
    "duration": 18,
    "start_time": "2022-07-03T20:36:40.558Z"
   },
   {
    "duration": 3,
    "start_time": "2022-07-03T20:36:41.701Z"
   },
   {
    "duration": 9,
    "start_time": "2022-07-03T20:36:42.014Z"
   },
   {
    "duration": 8,
    "start_time": "2022-07-03T20:36:42.401Z"
   },
   {
    "duration": 5,
    "start_time": "2022-07-03T20:36:42.958Z"
   },
   {
    "duration": 4,
    "start_time": "2022-07-03T20:36:43.424Z"
   },
   {
    "duration": 25,
    "start_time": "2022-07-03T20:36:43.846Z"
   },
   {
    "duration": 22,
    "start_time": "2022-07-03T20:36:45.054Z"
   },
   {
    "duration": 24,
    "start_time": "2022-07-03T20:36:45.482Z"
   },
   {
    "duration": 5,
    "start_time": "2022-07-03T20:37:41.601Z"
   },
   {
    "duration": 12,
    "start_time": "2022-07-03T20:37:42.602Z"
   },
   {
    "duration": 3,
    "start_time": "2022-07-03T20:37:45.395Z"
   },
   {
    "duration": 11,
    "start_time": "2022-07-03T20:37:45.642Z"
   },
   {
    "duration": 10,
    "start_time": "2022-07-03T20:37:45.899Z"
   },
   {
    "duration": 8,
    "start_time": "2022-07-03T20:37:46.143Z"
   },
   {
    "duration": 4,
    "start_time": "2022-07-03T20:37:46.391Z"
   },
   {
    "duration": 22,
    "start_time": "2022-07-03T20:37:46.686Z"
   },
   {
    "duration": 21,
    "start_time": "2022-07-03T20:37:47.542Z"
   },
   {
    "duration": 23,
    "start_time": "2022-07-03T20:37:47.813Z"
   },
   {
    "duration": 3,
    "start_time": "2022-07-03T20:38:00.818Z"
   },
   {
    "duration": 108,
    "start_time": "2022-07-03T20:38:01.385Z"
   },
   {
    "duration": 25,
    "start_time": "2022-07-03T20:38:02.211Z"
   },
   {
    "duration": 20,
    "start_time": "2022-07-03T20:38:02.466Z"
   },
   {
    "duration": 22,
    "start_time": "2022-07-03T20:38:05.363Z"
   },
   {
    "duration": 22,
    "start_time": "2022-07-03T20:38:05.909Z"
   },
   {
    "duration": 12,
    "start_time": "2022-07-03T20:38:06.219Z"
   },
   {
    "duration": 5,
    "start_time": "2022-07-03T20:38:06.499Z"
   },
   {
    "duration": 17,
    "start_time": "2022-07-03T20:38:12.007Z"
   },
   {
    "duration": 10,
    "start_time": "2022-07-03T20:38:13.654Z"
   },
   {
    "duration": 5,
    "start_time": "2022-07-03T20:38:14.447Z"
   },
   {
    "duration": 16,
    "start_time": "2022-07-03T20:38:15.748Z"
   },
   {
    "duration": 3,
    "start_time": "2022-07-03T20:38:18.585Z"
   },
   {
    "duration": 9,
    "start_time": "2022-07-03T20:38:18.893Z"
   },
   {
    "duration": 8,
    "start_time": "2022-07-03T20:38:19.616Z"
   },
   {
    "duration": 6,
    "start_time": "2022-07-03T20:38:20.086Z"
   },
   {
    "duration": 4,
    "start_time": "2022-07-03T20:38:20.718Z"
   },
   {
    "duration": 20,
    "start_time": "2022-07-03T20:38:21.097Z"
   },
   {
    "duration": 23,
    "start_time": "2022-07-03T20:38:22.149Z"
   },
   {
    "duration": 35,
    "start_time": "2022-07-03T20:38:22.562Z"
   },
   {
    "duration": 1179,
    "start_time": "2022-07-03T20:38:30.704Z"
   },
   {
    "duration": 10,
    "start_time": "2022-07-03T20:39:51.491Z"
   },
   {
    "duration": 18,
    "start_time": "2022-07-03T20:40:10.146Z"
   },
   {
    "duration": 22,
    "start_time": "2022-07-03T20:40:15.011Z"
   },
   {
    "duration": 17,
    "start_time": "2022-07-03T20:40:27.386Z"
   },
   {
    "duration": 20,
    "start_time": "2022-07-03T20:40:40.671Z"
   },
   {
    "duration": 10,
    "start_time": "2022-07-03T20:40:51.807Z"
   },
   {
    "duration": 12,
    "start_time": "2022-07-03T20:42:31.358Z"
   },
   {
    "duration": 2,
    "start_time": "2022-07-03T20:42:32.349Z"
   },
   {
    "duration": 9,
    "start_time": "2022-07-03T20:42:32.564Z"
   },
   {
    "duration": 8,
    "start_time": "2022-07-03T20:42:32.796Z"
   },
   {
    "duration": 6,
    "start_time": "2022-07-03T20:42:33.000Z"
   },
   {
    "duration": 4,
    "start_time": "2022-07-03T20:42:33.211Z"
   },
   {
    "duration": 31,
    "start_time": "2022-07-03T20:42:33.454Z"
   },
   {
    "duration": 25,
    "start_time": "2022-07-03T20:42:34.292Z"
   },
   {
    "duration": 43,
    "start_time": "2022-07-03T20:42:36.795Z"
   },
   {
    "duration": 2,
    "start_time": "2022-07-03T20:42:41.861Z"
   },
   {
    "duration": 100,
    "start_time": "2022-07-03T20:42:41.865Z"
   },
   {
    "duration": 23,
    "start_time": "2022-07-03T20:42:42.094Z"
   },
   {
    "duration": 21,
    "start_time": "2022-07-03T20:42:42.189Z"
   },
   {
    "duration": 19,
    "start_time": "2022-07-03T20:42:43.090Z"
   },
   {
    "duration": 12,
    "start_time": "2022-07-03T20:42:50.847Z"
   },
   {
    "duration": 2,
    "start_time": "2022-07-03T20:42:52.561Z"
   },
   {
    "duration": 11,
    "start_time": "2022-07-03T20:42:52.991Z"
   },
   {
    "duration": 9,
    "start_time": "2022-07-03T20:42:53.416Z"
   },
   {
    "duration": 6,
    "start_time": "2022-07-03T20:42:54.087Z"
   },
   {
    "duration": 4,
    "start_time": "2022-07-03T20:42:54.557Z"
   },
   {
    "duration": 33,
    "start_time": "2022-07-03T20:42:55.117Z"
   },
   {
    "duration": 33,
    "start_time": "2022-07-03T20:43:01.247Z"
   },
   {
    "duration": 33,
    "start_time": "2022-07-03T20:43:02.217Z"
   },
   {
    "duration": 1271,
    "start_time": "2022-07-03T20:43:05.897Z"
   },
   {
    "duration": 13,
    "start_time": "2022-07-03T20:43:13.453Z"
   },
   {
    "duration": 5,
    "start_time": "2022-07-03T20:48:45.264Z"
   },
   {
    "duration": 3,
    "start_time": "2022-07-03T20:48:50.054Z"
   },
   {
    "duration": 115,
    "start_time": "2022-07-03T20:48:50.406Z"
   },
   {
    "duration": 40,
    "start_time": "2022-07-03T20:48:50.960Z"
   },
   {
    "duration": 33,
    "start_time": "2022-07-03T20:48:51.164Z"
   },
   {
    "duration": 30,
    "start_time": "2022-07-03T20:48:53.268Z"
   },
   {
    "duration": 12,
    "start_time": "2022-07-03T20:48:53.668Z"
   },
   {
    "duration": 11,
    "start_time": "2022-07-03T20:48:53.861Z"
   },
   {
    "duration": 6,
    "start_time": "2022-07-03T20:48:54.053Z"
   },
   {
    "duration": 161,
    "start_time": "2022-07-03T20:48:55.019Z"
   },
   {
    "duration": 4,
    "start_time": "2022-07-03T20:48:55.666Z"
   },
   {
    "duration": 9,
    "start_time": "2022-07-03T20:48:55.893Z"
   },
   {
    "duration": 9,
    "start_time": "2022-07-03T20:48:56.146Z"
   },
   {
    "duration": 12,
    "start_time": "2022-07-03T20:48:56.340Z"
   },
   {
    "duration": 4,
    "start_time": "2022-07-03T20:48:56.582Z"
   },
   {
    "duration": 28,
    "start_time": "2022-07-03T20:48:56.780Z"
   },
   {
    "duration": 34,
    "start_time": "2022-07-03T20:48:57.965Z"
   },
   {
    "duration": 38,
    "start_time": "2022-07-03T20:48:58.206Z"
   },
   {
    "duration": 1285,
    "start_time": "2022-07-03T20:49:02.786Z"
   },
   {
    "duration": 17,
    "start_time": "2022-07-03T20:49:21.962Z"
   },
   {
    "duration": 4,
    "start_time": "2022-07-03T20:50:52.549Z"
   },
   {
    "duration": 140,
    "start_time": "2022-07-03T20:50:52.952Z"
   },
   {
    "duration": 55,
    "start_time": "2022-07-03T20:50:53.891Z"
   },
   {
    "duration": 24,
    "start_time": "2022-07-03T20:50:54.083Z"
   },
   {
    "duration": 19,
    "start_time": "2022-07-03T20:50:56.156Z"
   },
   {
    "duration": 12,
    "start_time": "2022-07-03T20:50:56.948Z"
   },
   {
    "duration": 3,
    "start_time": "2022-07-03T20:50:57.519Z"
   },
   {
    "duration": 15,
    "start_time": "2022-07-03T20:50:57.737Z"
   },
   {
    "duration": 8,
    "start_time": "2022-07-03T20:50:57.952Z"
   },
   {
    "duration": 9,
    "start_time": "2022-07-03T20:50:58.106Z"
   },
   {
    "duration": 5,
    "start_time": "2022-07-03T20:50:58.316Z"
   },
   {
    "duration": 29,
    "start_time": "2022-07-03T20:50:58.498Z"
   },
   {
    "duration": 57,
    "start_time": "2022-07-03T20:50:59.123Z"
   },
   {
    "duration": 34,
    "start_time": "2022-07-03T20:50:59.344Z"
   },
   {
    "duration": 1213,
    "start_time": "2022-07-03T20:51:00.578Z"
   },
   {
    "duration": 12,
    "start_time": "2022-07-03T20:51:01.793Z"
   },
   {
    "duration": 84,
    "start_time": "2022-07-03T20:53:06.586Z"
   },
   {
    "duration": 30,
    "start_time": "2022-07-03T20:53:15.692Z"
   },
   {
    "duration": 20,
    "start_time": "2022-07-03T20:53:17.557Z"
   },
   {
    "duration": 10,
    "start_time": "2022-07-03T20:53:32.452Z"
   },
   {
    "duration": 9,
    "start_time": "2022-07-03T20:55:13.181Z"
   },
   {
    "duration": 13,
    "start_time": "2022-07-03T20:55:50.160Z"
   },
   {
    "duration": 14,
    "start_time": "2022-07-03T20:55:55.002Z"
   },
   {
    "duration": 106,
    "start_time": "2022-07-03T20:56:03.353Z"
   },
   {
    "duration": 64,
    "start_time": "2022-07-03T20:56:24.981Z"
   },
   {
    "duration": 22,
    "start_time": "2022-07-03T20:56:35.171Z"
   },
   {
    "duration": 35,
    "start_time": "2022-07-03T20:56:41.186Z"
   },
   {
    "duration": 20,
    "start_time": "2022-07-03T20:56:42.087Z"
   },
   {
    "duration": 21,
    "start_time": "2022-07-03T20:56:57.456Z"
   },
   {
    "duration": 27,
    "start_time": "2022-07-03T20:57:58.488Z"
   },
   {
    "duration": 56,
    "start_time": "2022-07-03T21:13:46.949Z"
   },
   {
    "duration": 14,
    "start_time": "2022-07-03T21:13:56.746Z"
   },
   {
    "duration": 7,
    "start_time": "2022-07-03T21:16:38.157Z"
   },
   {
    "duration": 3,
    "start_time": "2022-07-03T21:16:38.844Z"
   },
   {
    "duration": 4,
    "start_time": "2022-07-03T21:16:42.044Z"
   },
   {
    "duration": 98,
    "start_time": "2022-07-03T21:16:42.050Z"
   },
   {
    "duration": 25,
    "start_time": "2022-07-03T21:16:42.582Z"
   },
   {
    "duration": 19,
    "start_time": "2022-07-03T21:16:42.761Z"
   },
   {
    "duration": 19,
    "start_time": "2022-07-03T21:16:44.890Z"
   },
   {
    "duration": 12,
    "start_time": "2022-07-03T21:16:45.681Z"
   },
   {
    "duration": 9,
    "start_time": "2022-07-03T21:16:46.342Z"
   },
   {
    "duration": 15,
    "start_time": "2022-07-03T21:16:46.543Z"
   },
   {
    "duration": 10,
    "start_time": "2022-07-03T21:16:46.751Z"
   },
   {
    "duration": 5,
    "start_time": "2022-07-03T21:16:46.947Z"
   },
   {
    "duration": 4,
    "start_time": "2022-07-03T21:16:47.144Z"
   },
   {
    "duration": 23,
    "start_time": "2022-07-03T21:16:47.365Z"
   },
   {
    "duration": 22,
    "start_time": "2022-07-03T21:16:48.743Z"
   },
   {
    "duration": 28,
    "start_time": "2022-07-03T21:16:50.015Z"
   },
   {
    "duration": 13,
    "start_time": "2022-07-03T21:17:24.743Z"
   },
   {
    "duration": 5,
    "start_time": "2022-07-03T21:19:52.551Z"
   },
   {
    "duration": 5,
    "start_time": "2022-07-03T21:19:54.646Z"
   },
   {
    "duration": 3,
    "start_time": "2022-07-03T21:20:00.443Z"
   },
   {
    "duration": 22,
    "start_time": "2022-07-03T21:20:00.757Z"
   },
   {
    "duration": 27,
    "start_time": "2022-07-03T21:20:01.809Z"
   },
   {
    "duration": 32,
    "start_time": "2022-07-03T21:20:02.410Z"
   },
   {
    "duration": 4,
    "start_time": "2022-07-03T21:20:06.307Z"
   },
   {
    "duration": 97,
    "start_time": "2022-07-03T21:20:07.152Z"
   },
   {
    "duration": 24,
    "start_time": "2022-07-03T21:20:08.094Z"
   },
   {
    "duration": 20,
    "start_time": "2022-07-03T21:20:08.392Z"
   },
   {
    "duration": 20,
    "start_time": "2022-07-03T21:20:11.860Z"
   },
   {
    "duration": 12,
    "start_time": "2022-07-03T21:20:12.101Z"
   },
   {
    "duration": 5,
    "start_time": "2022-07-03T21:20:12.741Z"
   },
   {
    "duration": 9,
    "start_time": "2022-07-03T21:20:12.907Z"
   },
   {
    "duration": 8,
    "start_time": "2022-07-03T21:20:13.097Z"
   },
   {
    "duration": 7,
    "start_time": "2022-07-03T21:20:13.281Z"
   },
   {
    "duration": 5,
    "start_time": "2022-07-03T21:20:13.475Z"
   },
   {
    "duration": 7,
    "start_time": "2022-07-03T21:20:13.681Z"
   },
   {
    "duration": 5,
    "start_time": "2022-07-03T21:20:15.638Z"
   },
   {
    "duration": 37,
    "start_time": "2022-07-03T21:20:15.880Z"
   },
   {
    "duration": 34,
    "start_time": "2022-07-03T21:20:16.466Z"
   },
   {
    "duration": 22,
    "start_time": "2022-07-03T21:20:16.702Z"
   },
   {
    "duration": 1221,
    "start_time": "2022-07-03T21:20:17.357Z"
   },
   {
    "duration": 16,
    "start_time": "2022-07-03T21:20:18.581Z"
   },
   {
    "duration": 6,
    "start_time": "2022-07-03T21:23:46.813Z"
   },
   {
    "duration": 2,
    "start_time": "2022-07-03T21:23:49.560Z"
   },
   {
    "duration": 92,
    "start_time": "2022-07-03T21:23:50.043Z"
   },
   {
    "duration": 26,
    "start_time": "2022-07-03T21:23:50.640Z"
   },
   {
    "duration": 19,
    "start_time": "2022-07-03T21:23:50.807Z"
   },
   {
    "duration": 18,
    "start_time": "2022-07-03T21:23:52.907Z"
   },
   {
    "duration": 14,
    "start_time": "2022-07-03T21:23:53.678Z"
   },
   {
    "duration": 2,
    "start_time": "2022-07-03T21:23:54.278Z"
   },
   {
    "duration": 9,
    "start_time": "2022-07-03T21:23:54.487Z"
   },
   {
    "duration": 9,
    "start_time": "2022-07-03T21:23:54.687Z"
   },
   {
    "duration": 6,
    "start_time": "2022-07-03T21:23:54.943Z"
   },
   {
    "duration": 12,
    "start_time": "2022-07-03T21:23:55.103Z"
   },
   {
    "duration": 3,
    "start_time": "2022-07-03T21:23:55.341Z"
   },
   {
    "duration": 22,
    "start_time": "2022-07-03T21:23:55.541Z"
   },
   {
    "duration": 33,
    "start_time": "2022-07-03T21:23:56.101Z"
   },
   {
    "duration": 33,
    "start_time": "2022-07-03T21:23:56.300Z"
   },
   {
    "duration": 1085,
    "start_time": "2022-07-03T21:23:56.860Z"
   },
   {
    "duration": 24,
    "start_time": "2022-07-03T21:23:58.502Z"
   },
   {
    "duration": 21,
    "start_time": "2022-07-03T21:24:00.190Z"
   },
   {
    "duration": 45,
    "start_time": "2022-07-03T21:24:35.727Z"
   },
   {
    "duration": 11,
    "start_time": "2022-07-03T21:24:52.078Z"
   },
   {
    "duration": 732,
    "start_time": "2022-07-03T21:25:22.943Z"
   },
   {
    "duration": 547,
    "start_time": "2022-07-03T21:25:36.663Z"
   },
   {
    "duration": 625,
    "start_time": "2022-07-03T21:36:06.553Z"
   },
   {
    "duration": 5,
    "start_time": "2022-07-03T21:38:48.244Z"
   },
   {
    "duration": 6,
    "start_time": "2022-07-03T21:39:08.719Z"
   },
   {
    "duration": 152,
    "start_time": "2022-07-03T21:39:40.144Z"
   },
   {
    "duration": 143,
    "start_time": "2022-07-03T21:40:03.545Z"
   },
   {
    "duration": 52,
    "start_time": "2022-07-03T21:41:21.364Z"
   },
   {
    "duration": 9,
    "start_time": "2022-07-03T21:41:31.411Z"
   },
   {
    "duration": 162,
    "start_time": "2022-07-03T21:41:48.528Z"
   },
   {
    "duration": 42,
    "start_time": "2022-07-03T22:11:55.406Z"
   },
   {
    "duration": 73,
    "start_time": "2022-07-03T22:12:05.606Z"
   },
   {
    "duration": 10,
    "start_time": "2022-07-03T22:12:09.399Z"
   },
   {
    "duration": 7,
    "start_time": "2022-07-03T22:13:46.697Z"
   },
   {
    "duration": 7,
    "start_time": "2022-07-03T22:13:49.149Z"
   },
   {
    "duration": 11,
    "start_time": "2022-07-03T22:13:58.746Z"
   },
   {
    "duration": 5,
    "start_time": "2022-07-03T22:14:12.492Z"
   },
   {
    "duration": 11,
    "start_time": "2022-07-03T22:14:29.900Z"
   },
   {
    "duration": 21,
    "start_time": "2022-07-03T22:15:56.626Z"
   },
   {
    "duration": 8,
    "start_time": "2022-07-03T22:16:17.291Z"
   },
   {
    "duration": 7,
    "start_time": "2022-07-03T22:16:17.862Z"
   },
   {
    "duration": 9,
    "start_time": "2022-07-03T22:33:13.989Z"
   },
   {
    "duration": 12,
    "start_time": "2022-07-03T22:33:14.343Z"
   },
   {
    "duration": 6,
    "start_time": "2022-07-03T22:33:21.262Z"
   },
   {
    "duration": 9,
    "start_time": "2022-07-03T22:33:25.325Z"
   },
   {
    "duration": 12,
    "start_time": "2022-07-03T22:35:41.687Z"
   },
   {
    "duration": 6,
    "start_time": "2022-07-03T22:35:47.069Z"
   },
   {
    "duration": 9,
    "start_time": "2022-07-03T22:35:47.607Z"
   },
   {
    "duration": 971,
    "start_time": "2022-07-05T14:32:44.566Z"
   },
   {
    "duration": 181,
    "start_time": "2022-07-05T14:32:45.540Z"
   },
   {
    "duration": 24,
    "start_time": "2022-07-05T14:32:45.723Z"
   },
   {
    "duration": 39,
    "start_time": "2022-07-05T14:32:45.749Z"
   },
   {
    "duration": 22,
    "start_time": "2022-07-05T14:32:45.791Z"
   },
   {
    "duration": 16,
    "start_time": "2022-07-05T14:32:45.815Z"
   },
   {
    "duration": 8,
    "start_time": "2022-07-05T14:32:45.832Z"
   },
   {
    "duration": 45,
    "start_time": "2022-07-05T14:32:45.842Z"
   },
   {
    "duration": 17,
    "start_time": "2022-07-05T14:32:45.889Z"
   },
   {
    "duration": 22,
    "start_time": "2022-07-05T14:32:45.908Z"
   },
   {
    "duration": 100,
    "start_time": "2022-07-05T14:32:45.932Z"
   },
   {
    "duration": 0,
    "start_time": "2022-07-05T14:32:46.034Z"
   },
   {
    "duration": 0,
    "start_time": "2022-07-05T14:32:46.036Z"
   },
   {
    "duration": 0,
    "start_time": "2022-07-05T14:32:46.037Z"
   },
   {
    "duration": 0,
    "start_time": "2022-07-05T14:32:46.038Z"
   },
   {
    "duration": 0,
    "start_time": "2022-07-05T14:32:46.039Z"
   },
   {
    "duration": 0,
    "start_time": "2022-07-05T14:32:46.040Z"
   },
   {
    "duration": 0,
    "start_time": "2022-07-05T14:32:46.041Z"
   },
   {
    "duration": 0,
    "start_time": "2022-07-05T14:32:46.042Z"
   },
   {
    "duration": 0,
    "start_time": "2022-07-05T14:32:46.043Z"
   },
   {
    "duration": 0,
    "start_time": "2022-07-05T14:32:46.044Z"
   },
   {
    "duration": 0,
    "start_time": "2022-07-05T14:32:46.045Z"
   },
   {
    "duration": 0,
    "start_time": "2022-07-05T14:32:46.046Z"
   },
   {
    "duration": 9,
    "start_time": "2022-07-05T14:33:02.901Z"
   },
   {
    "duration": 14,
    "start_time": "2022-07-05T14:33:12.160Z"
   },
   {
    "duration": 578,
    "start_time": "2022-07-05T14:33:13.895Z"
   },
   {
    "duration": 5,
    "start_time": "2022-07-05T14:33:14.520Z"
   },
   {
    "duration": 6,
    "start_time": "2022-07-05T14:33:14.813Z"
   },
   {
    "duration": 157,
    "start_time": "2022-07-05T14:33:15.146Z"
   },
   {
    "duration": 6,
    "start_time": "2022-07-05T14:33:17.080Z"
   },
   {
    "duration": 5,
    "start_time": "2022-07-05T14:33:18.433Z"
   },
   {
    "duration": 16,
    "start_time": "2022-07-05T14:33:25.355Z"
   },
   {
    "duration": 13,
    "start_time": "2022-07-05T14:36:54.660Z"
   },
   {
    "duration": 13,
    "start_time": "2022-07-05T14:37:17.543Z"
   },
   {
    "duration": 864,
    "start_time": "2022-07-06T01:21:07.266Z"
   },
   {
    "duration": 721,
    "start_time": "2022-07-06T01:21:08.132Z"
   },
   {
    "duration": 32,
    "start_time": "2022-07-06T01:21:08.855Z"
   },
   {
    "duration": 28,
    "start_time": "2022-07-06T01:21:08.889Z"
   },
   {
    "duration": 19,
    "start_time": "2022-07-06T01:21:09.103Z"
   },
   {
    "duration": 12,
    "start_time": "2022-07-06T01:21:09.540Z"
   },
   {
    "duration": 2,
    "start_time": "2022-07-06T01:21:09.708Z"
   },
   {
    "duration": 12,
    "start_time": "2022-07-06T01:21:09.827Z"
   },
   {
    "duration": 8,
    "start_time": "2022-07-06T01:21:09.919Z"
   },
   {
    "duration": 6,
    "start_time": "2022-07-06T01:21:10.017Z"
   },
   {
    "duration": 80,
    "start_time": "2022-07-06T01:21:10.123Z"
   },
   {
    "duration": 4,
    "start_time": "2022-07-06T01:21:10.243Z"
   },
   {
    "duration": 24,
    "start_time": "2022-07-06T01:21:10.328Z"
   },
   {
    "duration": 21,
    "start_time": "2022-07-06T01:21:10.525Z"
   },
   {
    "duration": 25,
    "start_time": "2022-07-06T01:21:10.626Z"
   },
   {
    "duration": 1247,
    "start_time": "2022-07-06T01:21:10.786Z"
   },
   {
    "duration": 21,
    "start_time": "2022-07-06T01:21:12.035Z"
   },
   {
    "duration": 18,
    "start_time": "2022-07-06T01:21:12.058Z"
   },
   {
    "duration": 35,
    "start_time": "2022-07-06T01:21:12.078Z"
   },
   {
    "duration": 584,
    "start_time": "2022-07-06T01:21:12.114Z"
   },
   {
    "duration": 5,
    "start_time": "2022-07-06T01:21:12.699Z"
   },
   {
    "duration": 10,
    "start_time": "2022-07-06T01:21:12.706Z"
   },
   {
    "duration": 185,
    "start_time": "2022-07-06T01:21:12.717Z"
   },
   {
    "duration": 5,
    "start_time": "2022-07-06T01:21:12.903Z"
   },
   {
    "duration": 6,
    "start_time": "2022-07-06T01:21:12.910Z"
   },
   {
    "duration": 6,
    "start_time": "2022-07-06T01:21:12.917Z"
   },
   {
    "duration": 1225,
    "start_time": "2022-07-06T01:25:45.223Z"
   },
   {
    "duration": 1128,
    "start_time": "2022-07-06T01:26:00.306Z"
   },
   {
    "duration": 4,
    "start_time": "2022-07-06T01:26:09.822Z"
   },
   {
    "duration": 723,
    "start_time": "2022-07-06T01:26:13.687Z"
   },
   {
    "duration": 1202,
    "start_time": "2022-07-06T01:26:54.690Z"
   },
   {
    "duration": 1143,
    "start_time": "2022-07-06T01:26:57.984Z"
   },
   {
    "duration": 15,
    "start_time": "2022-07-06T01:27:04.311Z"
   },
   {
    "duration": 189,
    "start_time": "2022-07-06T01:27:24.831Z"
   },
   {
    "duration": 11,
    "start_time": "2022-07-06T01:30:35.658Z"
   },
   {
    "duration": 16,
    "start_time": "2022-07-06T01:30:43.266Z"
   },
   {
    "duration": 12,
    "start_time": "2022-07-06T01:30:55.282Z"
   },
   {
    "duration": 7,
    "start_time": "2022-07-06T01:31:04.811Z"
   },
   {
    "duration": 8,
    "start_time": "2022-07-06T01:31:17.717Z"
   },
   {
    "duration": 131,
    "start_time": "2022-07-06T01:32:06.782Z"
   },
   {
    "duration": 14,
    "start_time": "2022-07-06T01:32:32.711Z"
   },
   {
    "duration": 9,
    "start_time": "2022-07-06T01:33:20.365Z"
   },
   {
    "duration": 15,
    "start_time": "2022-07-06T01:33:26.949Z"
   },
   {
    "duration": 14,
    "start_time": "2022-07-06T01:33:30.030Z"
   },
   {
    "duration": 8,
    "start_time": "2022-07-06T01:33:55.137Z"
   },
   {
    "duration": 15,
    "start_time": "2022-07-06T01:34:25.325Z"
   },
   {
    "duration": 14,
    "start_time": "2022-07-06T01:34:47.598Z"
   },
   {
    "duration": 141,
    "start_time": "2022-07-06T01:34:49.624Z"
   },
   {
    "duration": 148,
    "start_time": "2022-07-06T01:35:58.977Z"
   },
   {
    "duration": 13,
    "start_time": "2022-07-06T01:37:23.964Z"
   },
   {
    "duration": 238,
    "start_time": "2022-07-06T01:38:20.706Z"
   },
   {
    "duration": 146,
    "start_time": "2022-07-06T01:40:37.708Z"
   },
   {
    "duration": 168,
    "start_time": "2022-07-06T01:41:59.498Z"
   },
   {
    "duration": 143,
    "start_time": "2022-07-06T01:42:07.857Z"
   },
   {
    "duration": 149,
    "start_time": "2022-07-06T01:42:55.275Z"
   },
   {
    "duration": 155,
    "start_time": "2022-07-06T01:43:09.482Z"
   },
   {
    "duration": 145,
    "start_time": "2022-07-06T01:43:22.105Z"
   },
   {
    "duration": 174,
    "start_time": "2022-07-06T01:43:34.485Z"
   },
   {
    "duration": 158,
    "start_time": "2022-07-06T01:44:35.479Z"
   },
   {
    "duration": 14,
    "start_time": "2022-07-06T01:45:50.423Z"
   },
   {
    "duration": 3,
    "start_time": "2022-07-06T01:46:08.784Z"
   },
   {
    "duration": 150,
    "start_time": "2022-07-06T01:46:16.107Z"
   },
   {
    "duration": 69,
    "start_time": "2022-07-06T01:46:57.542Z"
   },
   {
    "duration": 4,
    "start_time": "2022-07-06T01:47:02.617Z"
   },
   {
    "duration": 157,
    "start_time": "2022-07-06T01:47:05.028Z"
   },
   {
    "duration": 3,
    "start_time": "2022-07-06T01:47:59.257Z"
   },
   {
    "duration": 234,
    "start_time": "2022-07-06T01:48:00.313Z"
   },
   {
    "duration": 146,
    "start_time": "2022-07-06T01:48:19.457Z"
   },
   {
    "duration": 150,
    "start_time": "2022-07-06T01:49:35.773Z"
   },
   {
    "duration": 149,
    "start_time": "2022-07-06T01:49:41.649Z"
   },
   {
    "duration": 2,
    "start_time": "2022-07-06T01:50:16.981Z"
   },
   {
    "duration": 74,
    "start_time": "2022-07-06T01:50:39.073Z"
   },
   {
    "duration": 1269,
    "start_time": "2022-07-06T01:50:55.395Z"
   },
   {
    "duration": 147,
    "start_time": "2022-07-06T01:51:04.320Z"
   },
   {
    "duration": 138,
    "start_time": "2022-07-06T01:51:10.210Z"
   },
   {
    "duration": 14,
    "start_time": "2022-07-06T01:51:26.186Z"
   },
   {
    "duration": 3,
    "start_time": "2022-07-06T01:51:28.770Z"
   },
   {
    "duration": 156,
    "start_time": "2022-07-06T01:51:29.639Z"
   },
   {
    "duration": 143,
    "start_time": "2022-07-06T01:51:39.621Z"
   },
   {
    "duration": 102,
    "start_time": "2022-07-06T01:52:07.124Z"
   },
   {
    "duration": 67,
    "start_time": "2022-07-06T01:52:17.283Z"
   },
   {
    "duration": 154,
    "start_time": "2022-07-06T01:52:20.398Z"
   },
   {
    "duration": 15,
    "start_time": "2022-07-06T01:53:43.411Z"
   },
   {
    "duration": 18,
    "start_time": "2022-07-06T01:54:12.894Z"
   },
   {
    "duration": 12,
    "start_time": "2022-07-06T03:02:47.082Z"
   },
   {
    "duration": 5,
    "start_time": "2022-07-06T03:02:55.650Z"
   },
   {
    "duration": 864,
    "start_time": "2022-07-06T03:03:29.214Z"
   },
   {
    "duration": 596,
    "start_time": "2022-07-06T03:03:53.069Z"
   },
   {
    "duration": 768,
    "start_time": "2022-07-06T03:04:00.443Z"
   },
   {
    "duration": 4,
    "start_time": "2022-07-06T03:11:35.309Z"
   },
   {
    "duration": 1392,
    "start_time": "2022-07-06T03:11:36.050Z"
   },
   {
    "duration": 5153,
    "start_time": "2022-07-06T03:25:13.489Z"
   },
   {
    "duration": 1292,
    "start_time": "2022-07-06T03:25:46.652Z"
   },
   {
    "duration": 18,
    "start_time": "2022-07-06T03:28:13.823Z"
   },
   {
    "duration": 3,
    "start_time": "2022-07-06T03:28:34.764Z"
   },
   {
    "duration": 97,
    "start_time": "2022-07-06T03:28:35.261Z"
   },
   {
    "duration": 23,
    "start_time": "2022-07-06T03:28:36.349Z"
   },
   {
    "duration": 22,
    "start_time": "2022-07-06T03:28:36.374Z"
   },
   {
    "duration": 19,
    "start_time": "2022-07-06T03:28:40.217Z"
   },
   {
    "duration": 15,
    "start_time": "2022-07-06T03:28:40.576Z"
   },
   {
    "duration": 17,
    "start_time": "2022-07-06T03:28:41.371Z"
   },
   {
    "duration": 14,
    "start_time": "2022-07-06T03:28:53.248Z"
   },
   {
    "duration": 17,
    "start_time": "2022-07-06T03:28:53.791Z"
   },
   {
    "duration": 16,
    "start_time": "2022-07-06T03:29:08.178Z"
   },
   {
    "duration": 16,
    "start_time": "2022-07-06T03:29:32.684Z"
   },
   {
    "duration": 17,
    "start_time": "2022-07-06T03:30:25.513Z"
   },
   {
    "duration": 17,
    "start_time": "2022-07-06T03:30:32.636Z"
   },
   {
    "duration": 15,
    "start_time": "2022-07-06T03:30:42.308Z"
   },
   {
    "duration": 1157,
    "start_time": "2022-07-06T03:31:48.780Z"
   },
   {
    "duration": 1190,
    "start_time": "2022-07-06T03:32:14.037Z"
   },
   {
    "duration": 9,
    "start_time": "2022-07-06T03:32:32.030Z"
   },
   {
    "duration": 9,
    "start_time": "2022-07-06T03:32:36.278Z"
   },
   {
    "duration": 9,
    "start_time": "2022-07-06T03:32:36.639Z"
   },
   {
    "duration": 4,
    "start_time": "2022-07-06T03:32:39.790Z"
   },
   {
    "duration": 13,
    "start_time": "2022-07-06T03:32:45.126Z"
   },
   {
    "duration": 3,
    "start_time": "2022-07-06T03:32:45.940Z"
   },
   {
    "duration": 10,
    "start_time": "2022-07-06T03:32:46.187Z"
   },
   {
    "duration": 7,
    "start_time": "2022-07-06T03:32:46.471Z"
   },
   {
    "duration": 7,
    "start_time": "2022-07-06T03:32:46.704Z"
   },
   {
    "duration": 13,
    "start_time": "2022-07-06T03:32:49.993Z"
   },
   {
    "duration": 7,
    "start_time": "2022-07-06T03:33:16.691Z"
   },
   {
    "duration": 6,
    "start_time": "2022-07-06T03:33:22.061Z"
   },
   {
    "duration": 3,
    "start_time": "2022-07-06T03:33:31.202Z"
   },
   {
    "duration": 4,
    "start_time": "2022-07-06T03:33:32.741Z"
   },
   {
    "duration": 12,
    "start_time": "2022-07-06T03:34:08.892Z"
   },
   {
    "duration": 5,
    "start_time": "2022-07-06T03:34:19.158Z"
   },
   {
    "duration": 12,
    "start_time": "2022-07-06T03:34:20.026Z"
   },
   {
    "duration": 7,
    "start_time": "2022-07-06T03:34:28.900Z"
   },
   {
    "duration": 4,
    "start_time": "2022-07-06T03:36:09.665Z"
   },
   {
    "duration": 5,
    "start_time": "2022-07-06T03:36:10.851Z"
   },
   {
    "duration": 11,
    "start_time": "2022-07-06T03:38:35.090Z"
   },
   {
    "duration": 5,
    "start_time": "2022-07-06T03:38:39.129Z"
   },
   {
    "duration": 16,
    "start_time": "2022-07-06T03:40:16.782Z"
   },
   {
    "duration": 10,
    "start_time": "2022-07-06T03:40:17.074Z"
   },
   {
    "duration": 5,
    "start_time": "2022-07-06T03:40:17.312Z"
   },
   {
    "duration": 182,
    "start_time": "2022-07-06T03:40:23.364Z"
   },
   {
    "duration": 2,
    "start_time": "2022-07-06T03:40:24.493Z"
   },
   {
    "duration": 10,
    "start_time": "2022-07-06T03:40:24.819Z"
   },
   {
    "duration": 8,
    "start_time": "2022-07-06T03:40:25.203Z"
   },
   {
    "duration": 6,
    "start_time": "2022-07-06T03:40:25.560Z"
   },
   {
    "duration": 13,
    "start_time": "2022-07-06T03:40:28.543Z"
   },
   {
    "duration": 4,
    "start_time": "2022-07-06T03:41:10.142Z"
   },
   {
    "duration": 23,
    "start_time": "2022-07-06T03:41:12.017Z"
   },
   {
    "duration": 23,
    "start_time": "2022-07-06T03:41:13.902Z"
   },
   {
    "duration": 27,
    "start_time": "2022-07-06T03:41:14.576Z"
   },
   {
    "duration": 3,
    "start_time": "2022-07-06T03:42:22.863Z"
   },
   {
    "duration": 102,
    "start_time": "2022-07-06T03:42:23.503Z"
   },
   {
    "duration": 24,
    "start_time": "2022-07-06T03:42:23.691Z"
   },
   {
    "duration": 22,
    "start_time": "2022-07-06T03:42:23.840Z"
   },
   {
    "duration": 19,
    "start_time": "2022-07-06T03:42:25.896Z"
   },
   {
    "duration": 13,
    "start_time": "2022-07-06T03:42:25.986Z"
   },
   {
    "duration": 11,
    "start_time": "2022-07-06T03:42:26.064Z"
   },
   {
    "duration": 5,
    "start_time": "2022-07-06T03:42:26.197Z"
   },
   {
    "duration": 12,
    "start_time": "2022-07-06T03:42:26.418Z"
   },
   {
    "duration": 2,
    "start_time": "2022-07-06T03:42:27.474Z"
   },
   {
    "duration": 9,
    "start_time": "2022-07-06T03:42:27.793Z"
   },
   {
    "duration": 8,
    "start_time": "2022-07-06T03:42:28.053Z"
   },
   {
    "duration": 6,
    "start_time": "2022-07-06T03:42:28.295Z"
   },
   {
    "duration": 3,
    "start_time": "2022-07-06T03:42:28.521Z"
   },
   {
    "duration": 23,
    "start_time": "2022-07-06T03:42:28.800Z"
   },
   {
    "duration": 5,
    "start_time": "2022-07-06T03:42:47.283Z"
   },
   {
    "duration": 5,
    "start_time": "2022-07-06T03:42:52.622Z"
   },
   {
    "duration": 7,
    "start_time": "2022-07-06T03:43:27.138Z"
   },
   {
    "duration": 3,
    "start_time": "2022-07-06T03:43:49.470Z"
   },
   {
    "duration": 107,
    "start_time": "2022-07-06T03:43:49.987Z"
   },
   {
    "duration": 23,
    "start_time": "2022-07-06T03:43:50.800Z"
   },
   {
    "duration": 22,
    "start_time": "2022-07-06T03:43:51.083Z"
   },
   {
    "duration": 18,
    "start_time": "2022-07-06T03:43:58.633Z"
   },
   {
    "duration": 12,
    "start_time": "2022-07-06T03:43:59.271Z"
   },
   {
    "duration": 11,
    "start_time": "2022-07-06T03:43:59.790Z"
   },
   {
    "duration": 6,
    "start_time": "2022-07-06T03:44:00.973Z"
   },
   {
    "duration": 17,
    "start_time": "2022-07-06T03:44:17.455Z"
   },
   {
    "duration": 13,
    "start_time": "2022-07-06T03:44:50.112Z"
   },
   {
    "duration": 6,
    "start_time": "2022-07-06T03:44:50.641Z"
   },
   {
    "duration": 16,
    "start_time": "2022-07-06T03:44:51.235Z"
   },
   {
    "duration": 2,
    "start_time": "2022-07-06T03:44:55.177Z"
   },
   {
    "duration": 107,
    "start_time": "2022-07-06T03:44:55.630Z"
   },
   {
    "duration": 24,
    "start_time": "2022-07-06T03:44:56.263Z"
   },
   {
    "duration": 22,
    "start_time": "2022-07-06T03:44:56.495Z"
   },
   {
    "duration": 20,
    "start_time": "2022-07-06T03:45:02.489Z"
   },
   {
    "duration": 12,
    "start_time": "2022-07-06T03:45:03.224Z"
   },
   {
    "duration": 10,
    "start_time": "2022-07-06T03:45:03.639Z"
   },
   {
    "duration": 5,
    "start_time": "2022-07-06T03:45:04.480Z"
   },
   {
    "duration": 18,
    "start_time": "2022-07-06T03:45:05.885Z"
   },
   {
    "duration": 13,
    "start_time": "2022-07-06T03:45:15.123Z"
   },
   {
    "duration": 2,
    "start_time": "2022-07-06T03:45:15.733Z"
   },
   {
    "duration": 11,
    "start_time": "2022-07-06T03:45:16.044Z"
   },
   {
    "duration": 8,
    "start_time": "2022-07-06T03:45:16.326Z"
   },
   {
    "duration": 5,
    "start_time": "2022-07-06T03:45:16.605Z"
   },
   {
    "duration": 8,
    "start_time": "2022-07-06T03:45:16.914Z"
   },
   {
    "duration": 8,
    "start_time": "2022-07-06T03:45:24.126Z"
   },
   {
    "duration": 12,
    "start_time": "2022-07-06T03:45:40.028Z"
   },
   {
    "duration": 6,
    "start_time": "2022-07-06T03:46:10.194Z"
   },
   {
    "duration": 3,
    "start_time": "2022-07-06T03:46:10.520Z"
   },
   {
    "duration": 21,
    "start_time": "2022-07-06T03:46:11.768Z"
   },
   {
    "duration": 21,
    "start_time": "2022-07-06T03:46:17.629Z"
   },
   {
    "duration": 28,
    "start_time": "2022-07-06T03:46:18.946Z"
   },
   {
    "duration": 1162,
    "start_time": "2022-07-06T03:46:21.336Z"
   },
   {
    "duration": 19,
    "start_time": "2022-07-06T03:46:38.582Z"
   },
   {
    "duration": 20,
    "start_time": "2022-07-06T03:46:39.582Z"
   },
   {
    "duration": 15,
    "start_time": "2022-07-06T03:47:05.510Z"
   },
   {
    "duration": 11,
    "start_time": "2022-07-06T03:47:08.194Z"
   },
   {
    "duration": 575,
    "start_time": "2022-07-06T03:47:09.867Z"
   },
   {
    "duration": 3,
    "start_time": "2022-07-06T03:47:29.345Z"
   },
   {
    "duration": 104,
    "start_time": "2022-07-06T03:47:29.872Z"
   },
   {
    "duration": 23,
    "start_time": "2022-07-06T03:47:30.529Z"
   },
   {
    "duration": 22,
    "start_time": "2022-07-06T03:47:30.736Z"
   },
   {
    "duration": 19,
    "start_time": "2022-07-06T03:47:33.027Z"
   },
   {
    "duration": 13,
    "start_time": "2022-07-06T03:47:33.270Z"
   },
   {
    "duration": 10,
    "start_time": "2022-07-06T03:47:33.517Z"
   },
   {
    "duration": 5,
    "start_time": "2022-07-06T03:47:33.747Z"
   },
   {
    "duration": 14,
    "start_time": "2022-07-06T03:47:34.459Z"
   },
   {
    "duration": 3,
    "start_time": "2022-07-06T03:47:34.889Z"
   },
   {
    "duration": 10,
    "start_time": "2022-07-06T03:47:35.101Z"
   },
   {
    "duration": 7,
    "start_time": "2022-07-06T03:47:35.259Z"
   },
   {
    "duration": 7,
    "start_time": "2022-07-06T03:47:35.539Z"
   },
   {
    "duration": 3,
    "start_time": "2022-07-06T03:47:35.745Z"
   },
   {
    "duration": 23,
    "start_time": "2022-07-06T03:47:35.968Z"
   },
   {
    "duration": 21,
    "start_time": "2022-07-06T03:47:36.415Z"
   },
   {
    "duration": 35,
    "start_time": "2022-07-06T03:47:36.641Z"
   },
   {
    "duration": 1160,
    "start_time": "2022-07-06T03:47:37.060Z"
   },
   {
    "duration": 19,
    "start_time": "2022-07-06T03:47:38.222Z"
   },
   {
    "duration": 19,
    "start_time": "2022-07-06T03:47:38.242Z"
   },
   {
    "duration": 14,
    "start_time": "2022-07-06T03:47:38.427Z"
   },
   {
    "duration": 15,
    "start_time": "2022-07-06T03:47:45.090Z"
   },
   {
    "duration": 17,
    "start_time": "2022-07-06T03:47:46.697Z"
   },
   {
    "duration": 11,
    "start_time": "2022-07-06T03:47:48.140Z"
   },
   {
    "duration": 795,
    "start_time": "2022-07-06T03:47:49.438Z"
   },
   {
    "duration": 4,
    "start_time": "2022-07-06T03:48:01.019Z"
   },
   {
    "duration": 118,
    "start_time": "2022-07-06T03:48:01.026Z"
   },
   {
    "duration": 27,
    "start_time": "2022-07-06T03:48:01.146Z"
   },
   {
    "duration": 32,
    "start_time": "2022-07-06T03:48:01.175Z"
   },
   {
    "duration": 32,
    "start_time": "2022-07-06T03:48:01.209Z"
   },
   {
    "duration": 14,
    "start_time": "2022-07-06T03:48:01.244Z"
   },
   {
    "duration": 11,
    "start_time": "2022-07-06T03:48:01.259Z"
   },
   {
    "duration": 29,
    "start_time": "2022-07-06T03:48:01.271Z"
   },
   {
    "duration": 14,
    "start_time": "2022-07-06T03:48:01.303Z"
   },
   {
    "duration": 8,
    "start_time": "2022-07-06T03:48:01.319Z"
   },
   {
    "duration": 15,
    "start_time": "2022-07-06T03:48:01.329Z"
   },
   {
    "duration": 8,
    "start_time": "2022-07-06T03:48:01.345Z"
   },
   {
    "duration": 11,
    "start_time": "2022-07-06T03:48:01.354Z"
   },
   {
    "duration": 6,
    "start_time": "2022-07-06T03:48:01.367Z"
   },
   {
    "duration": 41,
    "start_time": "2022-07-06T03:48:01.375Z"
   },
   {
    "duration": 21,
    "start_time": "2022-07-06T03:48:01.418Z"
   },
   {
    "duration": 27,
    "start_time": "2022-07-06T03:48:01.441Z"
   },
   {
    "duration": 1193,
    "start_time": "2022-07-06T03:48:01.470Z"
   },
   {
    "duration": 18,
    "start_time": "2022-07-06T03:48:02.665Z"
   },
   {
    "duration": 27,
    "start_time": "2022-07-06T03:48:02.685Z"
   },
   {
    "duration": 15,
    "start_time": "2022-07-06T03:48:02.713Z"
   },
   {
    "duration": 590,
    "start_time": "2022-07-06T03:48:02.730Z"
   },
   {
    "duration": 17,
    "start_time": "2022-07-06T03:48:50.260Z"
   },
   {
    "duration": 15,
    "start_time": "2022-07-06T03:48:50.348Z"
   },
   {
    "duration": 11,
    "start_time": "2022-07-06T03:48:50.419Z"
   },
   {
    "duration": 6,
    "start_time": "2022-07-06T03:48:50.522Z"
   },
   {
    "duration": 13,
    "start_time": "2022-07-06T03:48:50.754Z"
   },
   {
    "duration": 3,
    "start_time": "2022-07-06T03:48:50.927Z"
   },
   {
    "duration": 10,
    "start_time": "2022-07-06T03:48:51.054Z"
   },
   {
    "duration": 7,
    "start_time": "2022-07-06T03:48:51.137Z"
   },
   {
    "duration": 6,
    "start_time": "2022-07-06T03:48:51.518Z"
   },
   {
    "duration": 8,
    "start_time": "2022-07-06T03:48:51.526Z"
   },
   {
    "duration": 36,
    "start_time": "2022-07-06T03:48:51.535Z"
   },
   {
    "duration": 23,
    "start_time": "2022-07-06T03:48:51.593Z"
   },
   {
    "duration": 26,
    "start_time": "2022-07-06T03:48:51.679Z"
   },
   {
    "duration": 1373,
    "start_time": "2022-07-06T03:48:52.307Z"
   },
   {
    "duration": 25,
    "start_time": "2022-07-06T03:48:53.683Z"
   },
   {
    "duration": 15,
    "start_time": "2022-07-06T03:48:53.710Z"
   },
   {
    "duration": 10,
    "start_time": "2022-07-06T03:48:53.727Z"
   },
   {
    "duration": 2,
    "start_time": "2022-07-06T03:49:01.987Z"
   },
   {
    "duration": 3,
    "start_time": "2022-07-06T03:49:42.347Z"
   },
   {
    "duration": 98,
    "start_time": "2022-07-06T03:49:42.958Z"
   },
   {
    "duration": 24,
    "start_time": "2022-07-06T03:49:44.501Z"
   },
   {
    "duration": 22,
    "start_time": "2022-07-06T03:49:44.853Z"
   },
   {
    "duration": 20,
    "start_time": "2022-07-06T03:49:47.242Z"
   },
   {
    "duration": 15,
    "start_time": "2022-07-06T03:49:47.718Z"
   },
   {
    "duration": 10,
    "start_time": "2022-07-06T03:49:48.028Z"
   },
   {
    "duration": 5,
    "start_time": "2022-07-06T03:49:48.435Z"
   },
   {
    "duration": 12,
    "start_time": "2022-07-06T03:49:49.713Z"
   },
   {
    "duration": 13,
    "start_time": "2022-07-06T03:49:56.915Z"
   },
   {
    "duration": 3,
    "start_time": "2022-07-06T03:49:57.628Z"
   },
   {
    "duration": 9,
    "start_time": "2022-07-06T03:49:57.981Z"
   },
   {
    "duration": 9,
    "start_time": "2022-07-06T03:49:58.352Z"
   },
   {
    "duration": 5,
    "start_time": "2022-07-06T03:49:58.698Z"
   },
   {
    "duration": 4,
    "start_time": "2022-07-06T03:49:59.084Z"
   },
   {
    "duration": 22,
    "start_time": "2022-07-06T03:49:59.486Z"
   },
   {
    "duration": 21,
    "start_time": "2022-07-06T03:50:00.303Z"
   },
   {
    "duration": 28,
    "start_time": "2022-07-06T03:50:01.255Z"
   },
   {
    "duration": 1212,
    "start_time": "2022-07-06T03:50:03.107Z"
   },
   {
    "duration": 1416,
    "start_time": "2022-07-06T03:50:11.167Z"
   },
   {
    "duration": 20,
    "start_time": "2022-07-06T03:50:13.929Z"
   },
   {
    "duration": 19,
    "start_time": "2022-07-06T03:50:15.487Z"
   },
   {
    "duration": 15,
    "start_time": "2022-07-06T03:50:17.415Z"
   },
   {
    "duration": 561,
    "start_time": "2022-07-06T03:50:22.174Z"
   },
   {
    "duration": 4,
    "start_time": "2022-07-06T03:50:28.113Z"
   },
   {
    "duration": 8,
    "start_time": "2022-07-06T03:50:28.869Z"
   },
   {
    "duration": 176,
    "start_time": "2022-07-06T03:50:29.581Z"
   },
   {
    "duration": 17,
    "start_time": "2022-07-06T03:50:37.080Z"
   },
   {
    "duration": 8,
    "start_time": "2022-07-06T03:50:37.930Z"
   },
   {
    "duration": 15,
    "start_time": "2022-07-06T03:50:39.686Z"
   },
   {
    "duration": 142,
    "start_time": "2022-07-06T03:50:41.278Z"
   },
   {
    "duration": 6,
    "start_time": "2022-07-06T03:50:46.355Z"
   },
   {
    "duration": 1241,
    "start_time": "2022-07-06T03:50:47.525Z"
   },
   {
    "duration": 173,
    "start_time": "2022-07-06T03:53:48.767Z"
   },
   {
    "duration": 170,
    "start_time": "2022-07-06T03:54:05.262Z"
   },
   {
    "duration": 166,
    "start_time": "2022-07-06T03:54:19.441Z"
   },
   {
    "duration": 168,
    "start_time": "2022-07-06T03:54:24.650Z"
   },
   {
    "duration": 1483,
    "start_time": "2022-07-06T03:54:41.956Z"
   },
   {
    "duration": 1354,
    "start_time": "2022-07-06T03:54:56.673Z"
   },
   {
    "duration": 11,
    "start_time": "2022-07-06T04:01:11.090Z"
   },
   {
    "duration": 5,
    "start_time": "2022-07-06T04:01:35.224Z"
   },
   {
    "duration": 99,
    "start_time": "2022-07-06T04:02:02.099Z"
   },
   {
    "duration": 7,
    "start_time": "2022-07-06T04:04:40.900Z"
   },
   {
    "duration": 6,
    "start_time": "2022-07-06T04:04:57.513Z"
   },
   {
    "duration": 72,
    "start_time": "2022-07-06T04:09:04.591Z"
   },
   {
    "duration": 27,
    "start_time": "2022-07-06T04:09:09.571Z"
   },
   {
    "duration": 23,
    "start_time": "2022-07-06T04:09:24.891Z"
   },
   {
    "duration": 38,
    "start_time": "2022-07-06T04:12:36.079Z"
   },
   {
    "duration": 79,
    "start_time": "2022-07-06T04:15:01.371Z"
   },
   {
    "duration": 41,
    "start_time": "2022-07-06T04:15:57.557Z"
   },
   {
    "duration": 126,
    "start_time": "2022-07-06T04:16:04.794Z"
   },
   {
    "duration": 49,
    "start_time": "2022-07-06T04:16:18.301Z"
   },
   {
    "duration": 190,
    "start_time": "2022-07-06T04:16:29.779Z"
   },
   {
    "duration": 5,
    "start_time": "2022-07-06T04:17:28.445Z"
   },
   {
    "duration": 96,
    "start_time": "2022-07-06T04:17:30.982Z"
   },
   {
    "duration": 96,
    "start_time": "2022-07-06T04:19:45.875Z"
   },
   {
    "duration": 1164,
    "start_time": "2022-07-06T04:19:56.514Z"
   },
   {
    "duration": 1321,
    "start_time": "2022-07-06T04:21:05.475Z"
   },
   {
    "duration": 1181,
    "start_time": "2022-07-06T04:21:13.675Z"
   },
   {
    "duration": 101,
    "start_time": "2022-07-06T04:21:27.197Z"
   },
   {
    "duration": 101,
    "start_time": "2022-07-06T04:21:36.889Z"
   },
   {
    "duration": 373,
    "start_time": "2022-07-06T04:23:02.663Z"
   },
   {
    "duration": 6,
    "start_time": "2022-07-06T04:25:45.550Z"
   },
   {
    "duration": 149,
    "start_time": "2022-07-06T04:25:58.441Z"
   },
   {
    "duration": 127,
    "start_time": "2022-07-06T04:27:37.076Z"
   },
   {
    "duration": 135,
    "start_time": "2022-07-06T04:28:33.531Z"
   },
   {
    "duration": 5,
    "start_time": "2022-07-06T04:28:50.214Z"
   },
   {
    "duration": 124,
    "start_time": "2022-07-06T04:28:50.959Z"
   },
   {
    "duration": 10,
    "start_time": "2022-07-06T04:30:42.119Z"
   },
   {
    "duration": 117,
    "start_time": "2022-07-06T04:30:56.477Z"
   },
   {
    "duration": 149,
    "start_time": "2022-07-06T04:31:03.867Z"
   },
   {
    "duration": 9,
    "start_time": "2022-07-06T04:41:09.612Z"
   },
   {
    "duration": 49,
    "start_time": "2022-07-06T04:41:32.717Z"
   },
   {
    "duration": 748,
    "start_time": "2022-07-07T02:40:03.949Z"
   },
   {
    "duration": 161,
    "start_time": "2022-07-07T02:40:04.699Z"
   },
   {
    "duration": 23,
    "start_time": "2022-07-07T02:40:04.861Z"
   },
   {
    "duration": 30,
    "start_time": "2022-07-07T02:40:04.886Z"
   },
   {
    "duration": 18,
    "start_time": "2022-07-07T02:40:05.468Z"
   },
   {
    "duration": 36,
    "start_time": "2022-07-07T02:40:05.552Z"
   },
   {
    "duration": 11,
    "start_time": "2022-07-07T02:40:05.631Z"
   },
   {
    "duration": 11,
    "start_time": "2022-07-07T02:40:05.712Z"
   },
   {
    "duration": 12,
    "start_time": "2022-07-07T02:40:05.950Z"
   },
   {
    "duration": 2,
    "start_time": "2022-07-07T02:40:06.138Z"
   },
   {
    "duration": 10,
    "start_time": "2022-07-07T02:40:06.215Z"
   },
   {
    "duration": 9,
    "start_time": "2022-07-07T02:40:06.302Z"
   },
   {
    "duration": 6,
    "start_time": "2022-07-07T02:40:06.418Z"
   },
   {
    "duration": 3,
    "start_time": "2022-07-07T02:40:06.540Z"
   },
   {
    "duration": 23,
    "start_time": "2022-07-07T02:40:06.618Z"
   },
   {
    "duration": 19,
    "start_time": "2022-07-07T02:40:06.739Z"
   },
   {
    "duration": 23,
    "start_time": "2022-07-07T02:40:06.844Z"
   },
   {
    "duration": 1263,
    "start_time": "2022-07-07T02:40:07.014Z"
   },
   {
    "duration": 27,
    "start_time": "2022-07-07T02:40:08.279Z"
   },
   {
    "duration": 18,
    "start_time": "2022-07-07T02:40:08.308Z"
   },
   {
    "duration": 14,
    "start_time": "2022-07-07T02:40:08.328Z"
   },
   {
    "duration": 599,
    "start_time": "2022-07-07T02:40:08.344Z"
   },
   {
    "duration": 4,
    "start_time": "2022-07-07T02:40:08.945Z"
   },
   {
    "duration": 11,
    "start_time": "2022-07-07T02:40:08.951Z"
   },
   {
    "duration": 189,
    "start_time": "2022-07-07T02:40:08.964Z"
   },
   {
    "duration": 14,
    "start_time": "2022-07-07T02:40:09.155Z"
   },
   {
    "duration": 6,
    "start_time": "2022-07-07T02:40:09.171Z"
   },
   {
    "duration": 33,
    "start_time": "2022-07-07T02:40:09.178Z"
   },
   {
    "duration": 69,
    "start_time": "2022-07-07T02:40:09.213Z"
   },
   {
    "duration": 0,
    "start_time": "2022-07-07T02:40:09.284Z"
   },
   {
    "duration": 0,
    "start_time": "2022-07-07T02:40:09.286Z"
   },
   {
    "duration": 1,
    "start_time": "2022-07-07T02:40:09.300Z"
   },
   {
    "duration": 1,
    "start_time": "2022-07-07T02:40:09.302Z"
   },
   {
    "duration": 0,
    "start_time": "2022-07-07T02:40:09.304Z"
   },
   {
    "duration": 12,
    "start_time": "2022-07-07T02:40:45.322Z"
   },
   {
    "duration": 172,
    "start_time": "2022-07-07T02:40:46.079Z"
   },
   {
    "duration": 800,
    "start_time": "2022-07-16T20:17:40.542Z"
   },
   {
    "duration": 378,
    "start_time": "2022-07-16T20:17:41.344Z"
   },
   {
    "duration": 25,
    "start_time": "2022-07-16T20:17:41.724Z"
   },
   {
    "duration": 24,
    "start_time": "2022-07-16T20:17:41.751Z"
   },
   {
    "duration": 28,
    "start_time": "2022-07-16T20:17:41.777Z"
   },
   {
    "duration": 39,
    "start_time": "2022-07-16T20:17:41.808Z"
   },
   {
    "duration": 11,
    "start_time": "2022-07-16T20:17:41.849Z"
   },
   {
    "duration": 10,
    "start_time": "2022-07-16T20:17:41.862Z"
   },
   {
    "duration": 36,
    "start_time": "2022-07-16T20:17:41.874Z"
   },
   {
    "duration": 6,
    "start_time": "2022-07-16T20:17:41.913Z"
   },
   {
    "duration": 13,
    "start_time": "2022-07-16T20:17:41.921Z"
   },
   {
    "duration": 6,
    "start_time": "2022-07-16T20:17:41.936Z"
   },
   {
    "duration": 5,
    "start_time": "2022-07-16T20:17:41.944Z"
   },
   {
    "duration": 7,
    "start_time": "2022-07-16T20:17:41.950Z"
   },
   {
    "duration": 45,
    "start_time": "2022-07-16T20:17:41.959Z"
   },
   {
    "duration": 20,
    "start_time": "2022-07-16T20:17:42.006Z"
   },
   {
    "duration": 22,
    "start_time": "2022-07-16T20:17:42.028Z"
   },
   {
    "duration": 1246,
    "start_time": "2022-07-16T20:17:42.052Z"
   },
   {
    "duration": 22,
    "start_time": "2022-07-16T20:17:43.300Z"
   },
   {
    "duration": 17,
    "start_time": "2022-07-16T20:17:43.323Z"
   },
   {
    "duration": 15,
    "start_time": "2022-07-16T20:17:43.341Z"
   },
   {
    "duration": 587,
    "start_time": "2022-07-16T20:17:43.358Z"
   },
   {
    "duration": 5,
    "start_time": "2022-07-16T20:17:43.946Z"
   },
   {
    "duration": 9,
    "start_time": "2022-07-16T20:17:43.952Z"
   },
   {
    "duration": 179,
    "start_time": "2022-07-16T20:17:43.963Z"
   },
   {
    "duration": 16,
    "start_time": "2022-07-16T20:17:44.144Z"
   },
   {
    "duration": 7,
    "start_time": "2022-07-16T20:17:44.161Z"
   },
   {
    "duration": 35,
    "start_time": "2022-07-16T20:17:44.172Z"
   },
   {
    "duration": 152,
    "start_time": "2022-07-16T20:17:44.209Z"
   },
   {
    "duration": 4,
    "start_time": "2022-07-16T20:17:44.364Z"
   },
   {
    "duration": 1355,
    "start_time": "2022-07-16T20:17:44.370Z"
   },
   {
    "duration": 174,
    "start_time": "2022-07-16T20:17:45.727Z"
   },
   {
    "duration": 5,
    "start_time": "2022-07-16T20:17:45.904Z"
   },
   {
    "duration": 155,
    "start_time": "2022-07-16T20:17:45.911Z"
   },
   {
    "duration": 75,
    "start_time": "2022-07-16T20:22:50.686Z"
   },
   {
    "duration": 12,
    "start_time": "2022-07-16T20:23:05.908Z"
   },
   {
    "duration": 12,
    "start_time": "2022-07-16T20:23:12.144Z"
   },
   {
    "duration": 11,
    "start_time": "2022-07-16T20:23:29.957Z"
   },
   {
    "duration": 9,
    "start_time": "2022-07-16T20:27:17.090Z"
   },
   {
    "duration": 12,
    "start_time": "2022-07-16T20:27:33.473Z"
   },
   {
    "duration": 4,
    "start_time": "2022-07-16T20:27:38.271Z"
   },
   {
    "duration": 5,
    "start_time": "2022-07-16T20:27:42.742Z"
   },
   {
    "duration": 764,
    "start_time": "2022-07-17T03:07:08.147Z"
   },
   {
    "duration": 181,
    "start_time": "2022-07-17T03:07:09.449Z"
   },
   {
    "duration": 25,
    "start_time": "2022-07-17T03:07:09.980Z"
   },
   {
    "duration": 24,
    "start_time": "2022-07-17T03:07:10.150Z"
   },
   {
    "duration": 25,
    "start_time": "2022-07-17T03:07:11.435Z"
   },
   {
    "duration": 52,
    "start_time": "2022-07-17T03:07:11.618Z"
   },
   {
    "duration": 13,
    "start_time": "2022-07-17T03:07:11.805Z"
   },
   {
    "duration": 10,
    "start_time": "2022-07-17T03:07:12.375Z"
   },
   {
    "duration": 19,
    "start_time": "2022-07-17T03:07:13.366Z"
   },
   {
    "duration": 3,
    "start_time": "2022-07-17T03:07:13.727Z"
   },
   {
    "duration": 12,
    "start_time": "2022-07-17T03:07:13.893Z"
   },
   {
    "duration": 10,
    "start_time": "2022-07-17T03:07:14.062Z"
   },
   {
    "duration": 6,
    "start_time": "2022-07-17T03:07:14.231Z"
   },
   {
    "duration": 4,
    "start_time": "2022-07-17T03:07:14.731Z"
   },
   {
    "duration": 23,
    "start_time": "2022-07-17T03:07:14.814Z"
   },
   {
    "duration": 21,
    "start_time": "2022-07-17T03:07:15.422Z"
   },
   {
    "duration": 29,
    "start_time": "2022-07-17T03:07:15.445Z"
   },
   {
    "duration": 1170,
    "start_time": "2022-07-17T03:07:15.476Z"
   },
   {
    "duration": 25,
    "start_time": "2022-07-17T03:07:16.648Z"
   },
   {
    "duration": 15,
    "start_time": "2022-07-17T03:07:16.675Z"
   },
   {
    "duration": 13,
    "start_time": "2022-07-17T03:07:16.710Z"
   },
   {
    "duration": 575,
    "start_time": "2022-07-17T03:07:16.725Z"
   },
   {
    "duration": 9,
    "start_time": "2022-07-17T03:07:17.302Z"
   },
   {
    "duration": 31,
    "start_time": "2022-07-17T03:07:17.314Z"
   },
   {
    "duration": 173,
    "start_time": "2022-07-17T03:07:17.348Z"
   },
   {
    "duration": 16,
    "start_time": "2022-07-17T03:07:17.671Z"
   },
   {
    "duration": 8,
    "start_time": "2022-07-17T03:07:17.853Z"
   },
   {
    "duration": 8,
    "start_time": "2022-07-17T03:07:18.045Z"
   },
   {
    "duration": 127,
    "start_time": "2022-07-17T03:07:18.230Z"
   },
   {
    "duration": 144,
    "start_time": "2022-07-17T03:07:22.560Z"
   },
   {
    "duration": 8,
    "start_time": "2022-07-17T03:09:15.506Z"
   },
   {
    "duration": 15,
    "start_time": "2022-07-17T03:09:53.898Z"
   },
   {
    "duration": 40,
    "start_time": "2022-07-17T03:11:04.548Z"
   },
   {
    "duration": 13,
    "start_time": "2022-07-17T03:17:36.924Z"
   },
   {
    "duration": 6,
    "start_time": "2022-07-17T03:17:42.467Z"
   },
   {
    "duration": 101,
    "start_time": "2022-07-17T03:17:48.511Z"
   },
   {
    "duration": 42,
    "start_time": "2022-07-17T03:17:52.285Z"
   },
   {
    "duration": 12,
    "start_time": "2022-07-17T03:18:20.714Z"
   },
   {
    "duration": 6,
    "start_time": "2022-07-17T03:18:55.142Z"
   },
   {
    "duration": 131,
    "start_time": "2022-07-17T03:19:32.971Z"
   },
   {
    "duration": 116,
    "start_time": "2022-07-17T03:20:03.689Z"
   },
   {
    "duration": 137,
    "start_time": "2022-07-17T03:20:11.850Z"
   },
   {
    "duration": 51,
    "start_time": "2022-07-17T15:03:43.047Z"
   },
   {
    "duration": 774,
    "start_time": "2022-07-18T11:31:10.724Z"
   },
   {
    "duration": 429,
    "start_time": "2022-07-18T11:31:11.501Z"
   },
   {
    "duration": 24,
    "start_time": "2022-07-18T11:31:11.932Z"
   },
   {
    "duration": 78,
    "start_time": "2022-07-18T11:31:11.957Z"
   },
   {
    "duration": 47,
    "start_time": "2022-07-18T11:31:12.038Z"
   },
   {
    "duration": 68,
    "start_time": "2022-07-18T11:31:12.087Z"
   },
   {
    "duration": 20,
    "start_time": "2022-07-18T11:31:12.157Z"
   },
   {
    "duration": 16,
    "start_time": "2022-07-18T11:31:12.179Z"
   },
   {
    "duration": 46,
    "start_time": "2022-07-18T11:31:12.197Z"
   },
   {
    "duration": 13,
    "start_time": "2022-07-18T11:31:12.244Z"
   },
   {
    "duration": 32,
    "start_time": "2022-07-18T11:31:12.258Z"
   },
   {
    "duration": 8,
    "start_time": "2022-07-18T11:31:12.292Z"
   },
   {
    "duration": 28,
    "start_time": "2022-07-18T11:31:12.302Z"
   },
   {
    "duration": 15,
    "start_time": "2022-07-18T11:31:12.332Z"
   },
   {
    "duration": 38,
    "start_time": "2022-07-18T11:31:12.349Z"
   },
   {
    "duration": 28,
    "start_time": "2022-07-18T11:31:12.388Z"
   },
   {
    "duration": 29,
    "start_time": "2022-07-18T11:31:12.417Z"
   },
   {
    "duration": 1137,
    "start_time": "2022-07-18T11:31:12.448Z"
   },
   {
    "duration": 27,
    "start_time": "2022-07-18T11:31:13.587Z"
   },
   {
    "duration": 15,
    "start_time": "2022-07-18T11:31:13.621Z"
   },
   {
    "duration": 13,
    "start_time": "2022-07-18T11:31:13.637Z"
   },
   {
    "duration": 523,
    "start_time": "2022-07-18T11:31:13.651Z"
   },
   {
    "duration": 4,
    "start_time": "2022-07-18T11:31:14.176Z"
   },
   {
    "duration": 31,
    "start_time": "2022-07-18T11:31:14.182Z"
   },
   {
    "duration": 147,
    "start_time": "2022-07-18T11:31:14.214Z"
   },
   {
    "duration": 13,
    "start_time": "2022-07-18T11:31:14.363Z"
   },
   {
    "duration": 5,
    "start_time": "2022-07-18T11:31:14.378Z"
   },
   {
    "duration": 31,
    "start_time": "2022-07-18T11:31:14.384Z"
   },
   {
    "duration": 133,
    "start_time": "2022-07-18T11:31:14.417Z"
   },
   {
    "duration": 78,
    "start_time": "2022-07-18T11:31:14.551Z"
   },
   {
    "duration": 0,
    "start_time": "2022-07-18T11:31:14.630Z"
   },
   {
    "duration": 0,
    "start_time": "2022-07-18T11:31:14.631Z"
   },
   {
    "duration": 0,
    "start_time": "2022-07-18T11:31:14.632Z"
   },
   {
    "duration": 0,
    "start_time": "2022-07-18T11:31:14.633Z"
   },
   {
    "duration": 7,
    "start_time": "2022-07-18T11:37:53.568Z"
   },
   {
    "duration": 254,
    "start_time": "2022-07-18T11:37:54.189Z"
   },
   {
    "duration": 5,
    "start_time": "2022-07-18T11:37:54.656Z"
   },
   {
    "duration": 159,
    "start_time": "2022-07-18T11:37:55.152Z"
   },
   {
    "duration": 46,
    "start_time": "2022-07-23T01:01:11.373Z"
   },
   {
    "duration": 809,
    "start_time": "2022-07-23T01:01:22.171Z"
   },
   {
    "duration": 163,
    "start_time": "2022-07-23T01:01:22.982Z"
   },
   {
    "duration": 40,
    "start_time": "2022-07-23T01:01:23.459Z"
   },
   {
    "duration": 36,
    "start_time": "2022-07-23T01:01:23.747Z"
   },
   {
    "duration": 31,
    "start_time": "2022-07-23T01:01:25.660Z"
   },
   {
    "duration": 37,
    "start_time": "2022-07-23T01:01:26.271Z"
   },
   {
    "duration": 18,
    "start_time": "2022-07-23T01:01:26.641Z"
   },
   {
    "duration": 10,
    "start_time": "2022-07-23T01:01:28.779Z"
   },
   {
    "duration": 15,
    "start_time": "2022-07-23T01:01:28.862Z"
   },
   {
    "duration": 11,
    "start_time": "2022-07-23T01:02:50.524Z"
   },
   {
    "duration": 6,
    "start_time": "2022-07-23T01:03:32.175Z"
   },
   {
    "duration": 8,
    "start_time": "2022-07-23T01:06:43.901Z"
   },
   {
    "duration": 25,
    "start_time": "2022-07-23T01:06:58.181Z"
   },
   {
    "duration": 37,
    "start_time": "2022-07-23T01:09:00.543Z"
   },
   {
    "duration": 23,
    "start_time": "2022-07-23T01:09:21.391Z"
   },
   {
    "duration": 21,
    "start_time": "2022-07-23T01:09:28.638Z"
   },
   {
    "duration": 21,
    "start_time": "2022-07-23T01:09:33.236Z"
   },
   {
    "duration": 23,
    "start_time": "2022-07-23T01:09:34.426Z"
   },
   {
    "duration": 6,
    "start_time": "2022-07-23T01:09:41.011Z"
   },
   {
    "duration": 5,
    "start_time": "2022-07-23T01:09:41.415Z"
   },
   {
    "duration": 13,
    "start_time": "2022-07-23T01:09:43.049Z"
   },
   {
    "duration": 25,
    "start_time": "2022-07-23T01:09:44.247Z"
   },
   {
    "duration": 24,
    "start_time": "2022-07-23T01:09:45.296Z"
   },
   {
    "duration": 3,
    "start_time": "2022-07-23T01:09:52.900Z"
   },
   {
    "duration": 105,
    "start_time": "2022-07-23T01:09:53.410Z"
   },
   {
    "duration": 24,
    "start_time": "2022-07-23T01:09:54.200Z"
   },
   {
    "duration": 18,
    "start_time": "2022-07-23T01:09:54.408Z"
   },
   {
    "duration": 18,
    "start_time": "2022-07-23T01:09:56.075Z"
   },
   {
    "duration": 35,
    "start_time": "2022-07-23T01:09:56.601Z"
   },
   {
    "duration": 12,
    "start_time": "2022-07-23T01:09:56.898Z"
   },
   {
    "duration": 9,
    "start_time": "2022-07-23T01:09:57.230Z"
   },
   {
    "duration": 9,
    "start_time": "2022-07-23T01:09:57.527Z"
   },
   {
    "duration": 7,
    "start_time": "2022-07-23T01:09:58.059Z"
   },
   {
    "duration": 12,
    "start_time": "2022-07-23T01:09:58.836Z"
   },
   {
    "duration": 17,
    "start_time": "2022-07-23T01:09:59.544Z"
   },
   {
    "duration": 24,
    "start_time": "2022-07-23T01:09:59.907Z"
   },
   {
    "duration": 25,
    "start_time": "2022-07-23T01:10:08.770Z"
   },
   {
    "duration": 8,
    "start_time": "2022-07-23T01:10:48.087Z"
   },
   {
    "duration": 25,
    "start_time": "2022-07-23T01:10:51.992Z"
   },
   {
    "duration": 19,
    "start_time": "2022-07-23T01:12:11.345Z"
   },
   {
    "duration": 8,
    "start_time": "2022-07-23T01:12:16.244Z"
   },
   {
    "duration": 8,
    "start_time": "2022-07-23T01:12:24.795Z"
   },
   {
    "duration": 8,
    "start_time": "2022-07-23T01:12:42.406Z"
   },
   {
    "duration": 8,
    "start_time": "2022-07-23T01:12:49.645Z"
   },
   {
    "duration": 3,
    "start_time": "2022-07-23T01:13:01.997Z"
   },
   {
    "duration": 98,
    "start_time": "2022-07-23T01:13:02.800Z"
   },
   {
    "duration": 22,
    "start_time": "2022-07-23T01:13:03.316Z"
   },
   {
    "duration": 19,
    "start_time": "2022-07-23T01:13:03.531Z"
   },
   {
    "duration": 18,
    "start_time": "2022-07-23T01:13:06.827Z"
   },
   {
    "duration": 36,
    "start_time": "2022-07-23T01:13:07.419Z"
   },
   {
    "duration": 12,
    "start_time": "2022-07-23T01:13:08.757Z"
   },
   {
    "duration": 10,
    "start_time": "2022-07-23T01:13:09.352Z"
   },
   {
    "duration": 8,
    "start_time": "2022-07-23T01:13:10.000Z"
   },
   {
    "duration": 6,
    "start_time": "2022-07-23T01:13:10.694Z"
   },
   {
    "duration": 13,
    "start_time": "2022-07-23T01:13:18.150Z"
   },
   {
    "duration": 19,
    "start_time": "2022-07-23T01:13:22.542Z"
   },
   {
    "duration": 21,
    "start_time": "2022-07-23T01:13:24.845Z"
   },
   {
    "duration": 10,
    "start_time": "2022-07-23T01:13:47.128Z"
   },
   {
    "duration": 8,
    "start_time": "2022-07-23T01:13:49.074Z"
   },
   {
    "duration": 5,
    "start_time": "2022-07-23T01:13:50.147Z"
   },
   {
    "duration": 3,
    "start_time": "2022-07-23T01:13:58.677Z"
   },
   {
    "duration": 24,
    "start_time": "2022-07-23T01:14:02.091Z"
   },
   {
    "duration": 20,
    "start_time": "2022-07-23T01:14:05.086Z"
   },
   {
    "duration": 10,
    "start_time": "2022-07-23T01:15:35.153Z"
   },
   {
    "duration": 19,
    "start_time": "2022-07-23T01:15:43.789Z"
   },
   {
    "duration": 119,
    "start_time": "2022-07-23T01:19:25.644Z"
   },
   {
    "duration": 87,
    "start_time": "2022-07-23T01:19:35.037Z"
   },
   {
    "duration": 30,
    "start_time": "2022-07-23T01:20:28.364Z"
   },
   {
    "duration": 58,
    "start_time": "2022-07-23T01:21:02.234Z"
   },
   {
    "duration": 33,
    "start_time": "2022-07-23T01:21:05.613Z"
   },
   {
    "duration": 16,
    "start_time": "2022-07-23T01:21:20.266Z"
   },
   {
    "duration": 17,
    "start_time": "2022-07-23T01:21:37.646Z"
   },
   {
    "duration": 5,
    "start_time": "2022-07-23T01:22:28.462Z"
   },
   {
    "duration": 18,
    "start_time": "2022-07-23T01:23:14.981Z"
   },
   {
    "duration": 26,
    "start_time": "2022-07-23T01:24:17.318Z"
   },
   {
    "duration": 12,
    "start_time": "2022-07-23T01:26:04.283Z"
   },
   {
    "duration": 13,
    "start_time": "2022-07-23T01:26:24.439Z"
   },
   {
    "duration": 18,
    "start_time": "2022-07-23T01:26:39.594Z"
   },
   {
    "duration": 31,
    "start_time": "2022-07-23T01:26:45.439Z"
   },
   {
    "duration": 15,
    "start_time": "2022-07-23T01:26:56.171Z"
   },
   {
    "duration": 7,
    "start_time": "2022-07-23T01:26:59.535Z"
   },
   {
    "duration": 20,
    "start_time": "2022-07-23T01:27:10.715Z"
   },
   {
    "duration": 3,
    "start_time": "2022-07-23T01:27:18.237Z"
   },
   {
    "duration": 111,
    "start_time": "2022-07-23T01:27:18.624Z"
   },
   {
    "duration": 36,
    "start_time": "2022-07-23T01:27:19.232Z"
   },
   {
    "duration": 28,
    "start_time": "2022-07-23T01:27:19.439Z"
   },
   {
    "duration": 27,
    "start_time": "2022-07-23T01:27:20.929Z"
   },
   {
    "duration": 54,
    "start_time": "2022-07-23T01:27:21.345Z"
   },
   {
    "duration": 17,
    "start_time": "2022-07-23T01:27:21.560Z"
   },
   {
    "duration": 12,
    "start_time": "2022-07-23T01:27:21.790Z"
   },
   {
    "duration": 11,
    "start_time": "2022-07-23T01:27:21.998Z"
   },
   {
    "duration": 8,
    "start_time": "2022-07-23T01:27:22.183Z"
   },
   {
    "duration": 84,
    "start_time": "2022-07-23T01:27:23.023Z"
   },
   {
    "duration": 15,
    "start_time": "2022-07-23T01:27:23.870Z"
   },
   {
    "duration": 26,
    "start_time": "2022-07-23T01:27:24.135Z"
   },
   {
    "duration": 2,
    "start_time": "2022-07-23T01:27:25.176Z"
   },
   {
    "duration": 11,
    "start_time": "2022-07-23T01:27:25.503Z"
   },
   {
    "duration": 9,
    "start_time": "2022-07-23T01:27:26.044Z"
   },
   {
    "duration": 7,
    "start_time": "2022-07-23T01:27:26.313Z"
   },
   {
    "duration": 5,
    "start_time": "2022-07-23T01:27:26.607Z"
   },
   {
    "duration": 34,
    "start_time": "2022-07-23T01:27:26.866Z"
   },
   {
    "duration": 23,
    "start_time": "2022-07-23T01:27:27.623Z"
   },
   {
    "duration": 25,
    "start_time": "2022-07-23T01:27:28.905Z"
   },
   {
    "duration": 34,
    "start_time": "2022-07-23T01:27:29.768Z"
   },
   {
    "duration": 14,
    "start_time": "2022-07-23T01:31:47.147Z"
   },
   {
    "duration": 33,
    "start_time": "2022-07-23T01:31:48.273Z"
   },
   {
    "duration": 36,
    "start_time": "2022-07-23T01:32:13.403Z"
   },
   {
    "duration": 1245,
    "start_time": "2022-07-23T01:32:57.405Z"
   },
   {
    "duration": 104,
    "start_time": "2022-07-23T01:33:07.989Z"
   },
   {
    "duration": 102,
    "start_time": "2022-07-23T01:33:08.393Z"
   },
   {
    "duration": 16,
    "start_time": "2022-07-23T01:33:08.700Z"
   },
   {
    "duration": 3,
    "start_time": "2022-07-23T01:33:39.048Z"
   },
   {
    "duration": 140,
    "start_time": "2022-07-23T01:33:40.127Z"
   },
   {
    "duration": 37,
    "start_time": "2022-07-23T01:33:42.260Z"
   },
   {
    "duration": 30,
    "start_time": "2022-07-23T01:33:43.640Z"
   },
   {
    "duration": 32,
    "start_time": "2022-07-23T01:33:48.451Z"
   },
   {
    "duration": 58,
    "start_time": "2022-07-23T01:33:50.156Z"
   },
   {
    "duration": 19,
    "start_time": "2022-07-23T01:33:50.877Z"
   },
   {
    "duration": 12,
    "start_time": "2022-07-23T01:33:51.564Z"
   },
   {
    "duration": 31,
    "start_time": "2022-07-23T01:34:16.544Z"
   },
   {
    "duration": 57,
    "start_time": "2022-07-23T01:40:28.854Z"
   },
   {
    "duration": 18,
    "start_time": "2022-07-23T01:40:29.635Z"
   },
   {
    "duration": 10,
    "start_time": "2022-07-23T01:40:30.262Z"
   },
   {
    "duration": 13,
    "start_time": "2022-07-23T01:40:30.884Z"
   },
   {
    "duration": 11,
    "start_time": "2022-07-23T01:40:31.535Z"
   },
   {
    "duration": 19,
    "start_time": "2022-07-23T01:40:39.171Z"
   },
   {
    "duration": 19,
    "start_time": "2022-07-23T01:40:48.908Z"
   },
   {
    "duration": 22,
    "start_time": "2022-07-23T01:40:49.904Z"
   },
   {
    "duration": 3,
    "start_time": "2022-07-23T01:40:52.384Z"
   },
   {
    "duration": 10,
    "start_time": "2022-07-23T01:40:53.076Z"
   },
   {
    "duration": 8,
    "start_time": "2022-07-23T01:40:54.986Z"
   },
   {
    "duration": 6,
    "start_time": "2022-07-23T01:40:56.606Z"
   },
   {
    "duration": 4,
    "start_time": "2022-07-23T01:40:57.087Z"
   },
   {
    "duration": 19,
    "start_time": "2022-07-23T01:40:58.218Z"
   },
   {
    "duration": 21,
    "start_time": "2022-07-23T01:41:01.176Z"
   },
   {
    "duration": 10,
    "start_time": "2022-07-23T01:41:03.458Z"
   },
   {
    "duration": 22,
    "start_time": "2022-07-23T01:41:04.556Z"
   },
   {
    "duration": 1136,
    "start_time": "2022-07-23T01:41:10.594Z"
   },
   {
    "duration": 61,
    "start_time": "2022-07-23T01:41:17.926Z"
   },
   {
    "duration": 15,
    "start_time": "2022-07-23T01:42:42.703Z"
   },
   {
    "duration": 31,
    "start_time": "2022-07-23T01:42:48.539Z"
   },
   {
    "duration": 3,
    "start_time": "2022-07-23T01:42:48.572Z"
   },
   {
    "duration": 10,
    "start_time": "2022-07-23T01:42:48.794Z"
   },
   {
    "duration": 8,
    "start_time": "2022-07-23T01:42:50.203Z"
   },
   {
    "duration": 6,
    "start_time": "2022-07-23T01:42:51.053Z"
   },
   {
    "duration": 4,
    "start_time": "2022-07-23T01:42:51.417Z"
   },
   {
    "duration": 36,
    "start_time": "2022-07-23T01:42:52.457Z"
   },
   {
    "duration": 21,
    "start_time": "2022-07-23T01:42:52.495Z"
   },
   {
    "duration": 10,
    "start_time": "2022-07-23T01:42:52.986Z"
   },
   {
    "duration": 22,
    "start_time": "2022-07-23T01:42:53.284Z"
   },
   {
    "duration": 1016,
    "start_time": "2022-07-23T01:42:54.009Z"
   },
   {
    "duration": 16,
    "start_time": "2022-07-23T01:42:56.368Z"
   },
   {
    "duration": 12,
    "start_time": "2022-07-23T01:46:08.602Z"
   },
   {
    "duration": 10,
    "start_time": "2022-07-23T01:46:12.661Z"
   },
   {
    "duration": 518,
    "start_time": "2022-07-23T01:46:17.508Z"
   },
   {
    "duration": 5,
    "start_time": "2022-07-23T01:46:38.176Z"
   },
   {
    "duration": 8,
    "start_time": "2022-07-23T01:46:39.136Z"
   },
   {
    "duration": 275,
    "start_time": "2022-07-23T01:46:41.309Z"
   },
   {
    "duration": 15,
    "start_time": "2022-07-23T01:46:59.414Z"
   },
   {
    "duration": 7,
    "start_time": "2022-07-23T01:47:03.415Z"
   },
   {
    "duration": 14,
    "start_time": "2022-07-23T01:47:04.037Z"
   },
   {
    "duration": 137,
    "start_time": "2022-07-23T01:47:04.991Z"
   },
   {
    "duration": 7,
    "start_time": "2022-07-23T01:52:44.621Z"
   },
   {
    "duration": 11,
    "start_time": "2022-07-23T01:52:50.610Z"
   },
   {
    "duration": 12,
    "start_time": "2022-07-23T01:54:54.946Z"
   },
   {
    "duration": 6,
    "start_time": "2022-07-23T01:55:43.545Z"
   },
   {
    "duration": 10,
    "start_time": "2022-07-23T01:56:03.619Z"
   },
   {
    "duration": 39,
    "start_time": "2022-07-23T01:57:21.010Z"
   },
   {
    "duration": 7,
    "start_time": "2022-07-23T01:57:48.979Z"
   },
   {
    "duration": 8,
    "start_time": "2022-07-23T01:57:55.327Z"
   },
   {
    "duration": 10,
    "start_time": "2022-07-23T01:58:20.874Z"
   },
   {
    "duration": 116,
    "start_time": "2022-07-23T01:58:46.370Z"
   },
   {
    "duration": 44,
    "start_time": "2022-07-23T01:58:48.645Z"
   },
   {
    "duration": 23,
    "start_time": "2022-07-23T01:59:16.145Z"
   },
   {
    "duration": 7,
    "start_time": "2022-07-23T01:59:31.689Z"
   },
   {
    "duration": 3600,
    "start_time": "2022-07-23T01:59:35.390Z"
   },
   {
    "duration": 12,
    "start_time": "2022-07-23T01:59:56.676Z"
   },
   {
    "duration": 36,
    "start_time": "2022-07-23T02:00:06.150Z"
   },
   {
    "duration": 7,
    "start_time": "2022-07-23T02:00:13.383Z"
   },
   {
    "duration": 4820,
    "start_time": "2022-07-23T02:00:18.446Z"
   },
   {
    "duration": 4917,
    "start_time": "2022-07-23T02:00:37.879Z"
   },
   {
    "duration": 29,
    "start_time": "2022-07-23T02:01:33.581Z"
   },
   {
    "duration": 16,
    "start_time": "2022-07-23T02:05:21.000Z"
   },
   {
    "duration": 15,
    "start_time": "2022-07-23T02:05:43.263Z"
   },
   {
    "duration": 40,
    "start_time": "2022-07-23T02:06:43.919Z"
   },
   {
    "duration": 11,
    "start_time": "2022-07-23T02:06:48.992Z"
   },
   {
    "duration": 19,
    "start_time": "2022-07-23T02:07:03.485Z"
   },
   {
    "duration": 19,
    "start_time": "2022-07-23T02:07:31.467Z"
   },
   {
    "duration": 12,
    "start_time": "2022-07-23T02:07:52.288Z"
   },
   {
    "duration": 9,
    "start_time": "2022-07-23T02:08:03.324Z"
   },
   {
    "duration": 767,
    "start_time": "2022-07-23T02:08:06.571Z"
   },
   {
    "duration": 9,
    "start_time": "2022-07-23T02:08:39.178Z"
   },
   {
    "duration": 1021,
    "start_time": "2022-07-23T02:08:40.394Z"
   },
   {
    "duration": 14,
    "start_time": "2022-07-23T02:09:33.548Z"
   },
   {
    "duration": 16,
    "start_time": "2022-07-23T02:09:39.962Z"
   },
   {
    "duration": 3,
    "start_time": "2022-07-23T02:10:03.202Z"
   },
   {
    "duration": 110,
    "start_time": "2022-07-23T02:10:03.772Z"
   },
   {
    "duration": 27,
    "start_time": "2022-07-23T02:10:04.825Z"
   },
   {
    "duration": 32,
    "start_time": "2022-07-23T02:10:05.298Z"
   },
   {
    "duration": 32,
    "start_time": "2022-07-23T02:10:08.554Z"
   },
   {
    "duration": 38,
    "start_time": "2022-07-23T02:10:09.969Z"
   },
   {
    "duration": 12,
    "start_time": "2022-07-23T02:10:10.490Z"
   },
   {
    "duration": 10,
    "start_time": "2022-07-23T02:10:11.171Z"
   },
   {
    "duration": 9,
    "start_time": "2022-07-23T02:10:11.795Z"
   },
   {
    "duration": 6,
    "start_time": "2022-07-23T02:10:12.386Z"
   },
   {
    "duration": 15,
    "start_time": "2022-07-23T02:10:16.244Z"
   },
   {
    "duration": 25,
    "start_time": "2022-07-23T02:10:18.149Z"
   },
   {
    "duration": 41,
    "start_time": "2022-07-23T02:10:19.087Z"
   },
   {
    "duration": 4,
    "start_time": "2022-07-23T02:10:29.357Z"
   },
   {
    "duration": 10,
    "start_time": "2022-07-23T02:10:29.751Z"
   },
   {
    "duration": 9,
    "start_time": "2022-07-23T02:10:31.176Z"
   },
   {
    "duration": 6,
    "start_time": "2022-07-23T02:10:31.914Z"
   },
   {
    "duration": 4,
    "start_time": "2022-07-23T02:10:32.820Z"
   },
   {
    "duration": 35,
    "start_time": "2022-07-23T02:10:33.745Z"
   },
   {
    "duration": 33,
    "start_time": "2022-07-23T02:10:35.912Z"
   },
   {
    "duration": 13,
    "start_time": "2022-07-23T02:10:37.469Z"
   },
   {
    "duration": 30,
    "start_time": "2022-07-23T02:10:38.441Z"
   },
   {
    "duration": 1354,
    "start_time": "2022-07-23T02:10:41.259Z"
   },
   {
    "duration": 17,
    "start_time": "2022-07-23T02:10:44.245Z"
   },
   {
    "duration": 16,
    "start_time": "2022-07-23T02:10:44.935Z"
   },
   {
    "duration": 13,
    "start_time": "2022-07-23T02:10:45.603Z"
   },
   {
    "duration": 600,
    "start_time": "2022-07-23T02:10:48.687Z"
   },
   {
    "duration": 5,
    "start_time": "2022-07-23T02:10:51.273Z"
   },
   {
    "duration": 7,
    "start_time": "2022-07-23T02:10:51.972Z"
   },
   {
    "duration": 170,
    "start_time": "2022-07-23T02:10:52.687Z"
   },
   {
    "duration": 16,
    "start_time": "2022-07-23T02:10:54.987Z"
   },
   {
    "duration": 8,
    "start_time": "2022-07-23T02:10:55.879Z"
   },
   {
    "duration": 10,
    "start_time": "2022-07-23T02:10:57.191Z"
   },
   {
    "duration": 140,
    "start_time": "2022-07-23T02:11:01.522Z"
   },
   {
    "duration": 13,
    "start_time": "2022-07-23T02:11:06.166Z"
   },
   {
    "duration": 10,
    "start_time": "2022-07-23T02:11:17.210Z"
   },
   {
    "duration": 1071,
    "start_time": "2022-07-23T02:11:18.944Z"
   },
   {
    "duration": 15,
    "start_time": "2022-07-23T02:18:38.273Z"
   },
   {
    "duration": 36,
    "start_time": "2022-07-23T02:18:42.878Z"
   },
   {
    "duration": 32,
    "start_time": "2022-07-23T02:19:28.477Z"
   },
   {
    "duration": 8,
    "start_time": "2022-07-23T02:23:24.077Z"
   },
   {
    "duration": 11,
    "start_time": "2022-07-23T02:23:29.253Z"
   },
   {
    "duration": 15,
    "start_time": "2022-07-23T02:23:53.517Z"
   },
   {
    "duration": 7,
    "start_time": "2022-07-23T02:24:12.772Z"
   },
   {
    "duration": 6,
    "start_time": "2022-07-23T02:24:20.000Z"
   },
   {
    "duration": 13,
    "start_time": "2022-07-23T02:24:31.644Z"
   },
   {
    "duration": 6,
    "start_time": "2022-07-23T02:25:12.765Z"
   },
   {
    "duration": 1021,
    "start_time": "2022-07-23T02:26:20.659Z"
   },
   {
    "duration": 13,
    "start_time": "2022-07-23T02:27:01.546Z"
   },
   {
    "duration": 13,
    "start_time": "2022-07-23T02:27:12.246Z"
   },
   {
    "duration": 7,
    "start_time": "2022-07-23T02:27:26.845Z"
   },
   {
    "duration": 5,
    "start_time": "2022-07-23T02:27:50.304Z"
   },
   {
    "duration": 9,
    "start_time": "2022-07-23T02:27:54.400Z"
   },
   {
    "duration": 8,
    "start_time": "2022-07-23T02:31:13.258Z"
   },
   {
    "duration": 10,
    "start_time": "2022-07-23T02:31:41.120Z"
   },
   {
    "duration": 586,
    "start_time": "2022-07-23T02:34:43.315Z"
   },
   {
    "duration": 19,
    "start_time": "2022-07-23T02:35:14.081Z"
   },
   {
    "duration": 27,
    "start_time": "2022-07-23T02:35:32.075Z"
   },
   {
    "duration": 12,
    "start_time": "2022-07-23T02:35:52.173Z"
   },
   {
    "duration": 8,
    "start_time": "2022-07-23T02:36:07.672Z"
   },
   {
    "duration": 9,
    "start_time": "2022-07-23T02:36:17.672Z"
   },
   {
    "duration": 99,
    "start_time": "2022-07-23T02:36:26.310Z"
   },
   {
    "duration": 9,
    "start_time": "2022-07-23T02:36:35.769Z"
   },
   {
    "duration": 9,
    "start_time": "2022-07-23T02:36:42.414Z"
   },
   {
    "duration": 563,
    "start_time": "2022-07-23T02:37:02.365Z"
   },
   {
    "duration": 98,
    "start_time": "2022-07-23T02:37:08.036Z"
   },
   {
    "duration": 532,
    "start_time": "2022-07-23T02:37:11.316Z"
   },
   {
    "duration": 5,
    "start_time": "2022-07-23T02:39:34.066Z"
   },
   {
    "duration": 8,
    "start_time": "2022-07-23T02:40:54.336Z"
   },
   {
    "duration": 9,
    "start_time": "2022-07-23T02:43:05.078Z"
   },
   {
    "duration": 6,
    "start_time": "2022-07-23T02:46:50.467Z"
   },
   {
    "duration": 6,
    "start_time": "2022-07-23T02:46:59.938Z"
   },
   {
    "duration": 4,
    "start_time": "2022-07-23T02:47:29.199Z"
   },
   {
    "duration": 100,
    "start_time": "2022-07-23T02:47:31.106Z"
   },
   {
    "duration": 10,
    "start_time": "2022-07-23T02:53:41.809Z"
   },
   {
    "duration": 318,
    "start_time": "2022-07-23T03:00:33.541Z"
   },
   {
    "duration": 110,
    "start_time": "2022-07-23T03:05:16.400Z"
   },
   {
    "duration": 57,
    "start_time": "2022-07-23T20:04:14.595Z"
   },
   {
    "duration": 790,
    "start_time": "2022-07-23T20:04:22.898Z"
   },
   {
    "duration": 693,
    "start_time": "2022-07-23T20:04:23.691Z"
   },
   {
    "duration": 40,
    "start_time": "2022-07-23T20:04:24.470Z"
   },
   {
    "duration": 26,
    "start_time": "2022-07-23T20:04:24.757Z"
   },
   {
    "duration": 20,
    "start_time": "2022-07-23T20:04:27.709Z"
   },
   {
    "duration": 34,
    "start_time": "2022-07-23T20:04:28.374Z"
   },
   {
    "duration": 12,
    "start_time": "2022-07-23T20:04:28.811Z"
   },
   {
    "duration": 9,
    "start_time": "2022-07-23T20:04:29.407Z"
   },
   {
    "duration": 8,
    "start_time": "2022-07-23T20:04:29.711Z"
   },
   {
    "duration": 4,
    "start_time": "2022-07-23T20:04:29.979Z"
   },
   {
    "duration": 11,
    "start_time": "2022-07-23T20:04:32.082Z"
   },
   {
    "duration": 17,
    "start_time": "2022-07-23T20:04:32.775Z"
   },
   {
    "duration": 18,
    "start_time": "2022-07-23T20:04:33.360Z"
   },
   {
    "duration": 2,
    "start_time": "2022-07-23T20:04:34.771Z"
   },
   {
    "duration": 9,
    "start_time": "2022-07-23T20:04:35.099Z"
   },
   {
    "duration": 7,
    "start_time": "2022-07-23T20:04:36.060Z"
   },
   {
    "duration": 4,
    "start_time": "2022-07-23T20:04:36.893Z"
   },
   {
    "duration": 3,
    "start_time": "2022-07-23T20:04:37.473Z"
   },
   {
    "duration": 18,
    "start_time": "2022-07-23T20:04:39.659Z"
   },
   {
    "duration": 19,
    "start_time": "2022-07-23T20:04:43.865Z"
   },
   {
    "duration": 10,
    "start_time": "2022-07-23T20:04:46.803Z"
   },
   {
    "duration": 21,
    "start_time": "2022-07-23T20:04:47.974Z"
   },
   {
    "duration": 1035,
    "start_time": "2022-07-23T20:04:49.972Z"
   },
   {
    "duration": 17,
    "start_time": "2022-07-23T20:04:55.173Z"
   },
   {
    "duration": 18,
    "start_time": "2022-07-23T20:04:56.063Z"
   },
   {
    "duration": 13,
    "start_time": "2022-07-23T20:04:56.714Z"
   },
   {
    "duration": 514,
    "start_time": "2022-07-23T20:04:58.402Z"
   },
   {
    "duration": 4,
    "start_time": "2022-07-23T20:04:59.161Z"
   },
   {
    "duration": 6,
    "start_time": "2022-07-23T20:04:59.376Z"
   },
   {
    "duration": 139,
    "start_time": "2022-07-23T20:04:59.576Z"
   },
   {
    "duration": 14,
    "start_time": "2022-07-23T20:05:02.677Z"
   },
   {
    "duration": 6,
    "start_time": "2022-07-23T20:05:03.086Z"
   },
   {
    "duration": 8,
    "start_time": "2022-07-23T20:05:03.776Z"
   },
   {
    "duration": 132,
    "start_time": "2022-07-23T20:05:04.159Z"
   },
   {
    "duration": 7,
    "start_time": "2022-07-23T20:05:06.563Z"
   },
   {
    "duration": 998,
    "start_time": "2022-07-23T20:05:09.265Z"
   },
   {
    "duration": 5,
    "start_time": "2022-07-23T20:05:10.264Z"
   },
   {
    "duration": 3,
    "start_time": "2022-07-23T20:05:10.310Z"
   },
   {
    "duration": 10,
    "start_time": "2022-07-23T20:05:10.818Z"
   },
   {
    "duration": 119,
    "start_time": "2022-07-23T20:05:14.190Z"
   },
   {
    "duration": 226,
    "start_time": "2022-07-23T20:05:54.860Z"
   },
   {
    "duration": 828,
    "start_time": "2022-07-24T01:27:03.770Z"
   },
   {
    "duration": 175,
    "start_time": "2022-07-24T01:27:04.600Z"
   },
   {
    "duration": 24,
    "start_time": "2022-07-24T01:27:13.762Z"
   },
   {
    "duration": 32,
    "start_time": "2022-07-24T01:27:15.415Z"
   },
   {
    "duration": 21,
    "start_time": "2022-07-24T01:27:16.032Z"
   },
   {
    "duration": 53,
    "start_time": "2022-07-24T01:27:16.398Z"
   },
   {
    "duration": 12,
    "start_time": "2022-07-24T01:27:16.653Z"
   },
   {
    "duration": 10,
    "start_time": "2022-07-24T01:27:16.838Z"
   },
   {
    "duration": 10,
    "start_time": "2022-07-24T01:27:17.097Z"
   },
   {
    "duration": 5,
    "start_time": "2022-07-24T01:27:17.253Z"
   },
   {
    "duration": 15,
    "start_time": "2022-07-24T01:27:18.135Z"
   },
   {
    "duration": 17,
    "start_time": "2022-07-24T01:27:18.574Z"
   },
   {
    "duration": 25,
    "start_time": "2022-07-24T01:27:25.270Z"
   },
   {
    "duration": 13,
    "start_time": "2022-07-24T01:27:25.297Z"
   },
   {
    "duration": 35,
    "start_time": "2022-07-24T01:27:25.312Z"
   },
   {
    "duration": 23,
    "start_time": "2022-07-24T01:27:25.348Z"
   },
   {
    "duration": 19,
    "start_time": "2022-07-24T01:27:25.373Z"
   },
   {
    "duration": 24,
    "start_time": "2022-07-24T01:27:25.393Z"
   },
   {
    "duration": 33,
    "start_time": "2022-07-24T01:27:25.419Z"
   },
   {
    "duration": 35,
    "start_time": "2022-07-24T01:27:25.454Z"
   },
   {
    "duration": 8,
    "start_time": "2022-07-24T01:27:25.491Z"
   },
   {
    "duration": 35,
    "start_time": "2022-07-24T01:27:25.501Z"
   },
   {
    "duration": 1244,
    "start_time": "2022-07-24T01:27:25.537Z"
   },
   {
    "duration": 28,
    "start_time": "2022-07-24T01:27:26.783Z"
   },
   {
    "duration": 27,
    "start_time": "2022-07-24T01:27:26.814Z"
   },
   {
    "duration": 12,
    "start_time": "2022-07-24T01:27:26.842Z"
   },
   {
    "duration": 544,
    "start_time": "2022-07-24T01:27:27.659Z"
   },
   {
    "duration": 11,
    "start_time": "2022-07-24T01:27:28.209Z"
   },
   {
    "duration": 21,
    "start_time": "2022-07-24T01:27:28.222Z"
   },
   {
    "duration": 204,
    "start_time": "2022-07-24T01:27:28.246Z"
   },
   {
    "duration": 13,
    "start_time": "2022-07-24T01:27:28.452Z"
   },
   {
    "duration": 8,
    "start_time": "2022-07-24T01:27:28.467Z"
   },
   {
    "duration": 9,
    "start_time": "2022-07-24T01:27:28.477Z"
   },
   {
    "duration": 162,
    "start_time": "2022-07-24T01:27:28.487Z"
   },
   {
    "duration": 8,
    "start_time": "2022-07-24T01:27:39.501Z"
   },
   {
    "duration": 1283,
    "start_time": "2022-07-24T01:27:41.213Z"
   },
   {
    "duration": 9,
    "start_time": "2022-07-24T01:27:44.509Z"
   },
   {
    "duration": 76,
    "start_time": "2022-07-24T01:27:49.092Z"
   },
   {
    "duration": 3,
    "start_time": "2022-07-24T01:30:31.240Z"
   },
   {
    "duration": 11,
    "start_time": "2022-07-24T01:30:51.020Z"
   },
   {
    "duration": 227,
    "start_time": "2022-07-24T01:39:13.383Z"
   },
   {
    "duration": 5,
    "start_time": "2022-07-24T01:39:42.235Z"
   },
   {
    "duration": 7,
    "start_time": "2022-07-24T01:39:49.731Z"
   },
   {
    "duration": 12,
    "start_time": "2022-07-24T01:40:45.463Z"
   },
   {
    "duration": 7,
    "start_time": "2022-07-24T01:42:41.297Z"
   },
   {
    "duration": 842,
    "start_time": "2022-07-24T01:43:03.107Z"
   },
   {
    "duration": 12,
    "start_time": "2022-07-24T01:45:50.316Z"
   },
   {
    "duration": 45,
    "start_time": "2022-07-24T01:46:40.398Z"
   },
   {
    "duration": 35,
    "start_time": "2022-07-24T01:46:46.766Z"
   },
   {
    "duration": 20,
    "start_time": "2022-07-24T01:47:54.978Z"
   },
   {
    "duration": 32,
    "start_time": "2022-07-24T01:49:06.392Z"
   },
   {
    "duration": 27,
    "start_time": "2022-07-24T01:49:35.030Z"
   },
   {
    "duration": 28,
    "start_time": "2022-07-24T01:49:59.074Z"
   },
   {
    "duration": 41,
    "start_time": "2022-07-24T01:50:36.879Z"
   },
   {
    "duration": 32,
    "start_time": "2022-07-24T01:50:45.368Z"
   },
   {
    "duration": 8,
    "start_time": "2022-07-24T01:51:24.874Z"
   },
   {
    "duration": 23,
    "start_time": "2022-07-24T01:51:36.126Z"
   },
   {
    "duration": 3,
    "start_time": "2022-07-24T01:51:59.190Z"
   },
   {
    "duration": 108,
    "start_time": "2022-07-24T01:51:59.196Z"
   },
   {
    "duration": 31,
    "start_time": "2022-07-24T01:51:59.306Z"
   },
   {
    "duration": 29,
    "start_time": "2022-07-24T01:51:59.339Z"
   },
   {
    "duration": 33,
    "start_time": "2022-07-24T01:51:59.370Z"
   },
   {
    "duration": 47,
    "start_time": "2022-07-24T01:51:59.405Z"
   },
   {
    "duration": 11,
    "start_time": "2022-07-24T01:51:59.453Z"
   },
   {
    "duration": 31,
    "start_time": "2022-07-24T01:51:59.465Z"
   },
   {
    "duration": 13,
    "start_time": "2022-07-24T01:51:59.498Z"
   },
   {
    "duration": 21,
    "start_time": "2022-07-24T01:51:59.513Z"
   },
   {
    "duration": 19,
    "start_time": "2022-07-24T01:51:59.808Z"
   },
   {
    "duration": 26,
    "start_time": "2022-07-24T01:51:59.829Z"
   },
   {
    "duration": 20,
    "start_time": "2022-07-24T01:51:59.857Z"
   },
   {
    "duration": 4,
    "start_time": "2022-07-24T01:51:59.879Z"
   },
   {
    "duration": 30,
    "start_time": "2022-07-24T01:51:59.884Z"
   },
   {
    "duration": 13,
    "start_time": "2022-07-24T01:51:59.916Z"
   },
   {
    "duration": 6,
    "start_time": "2022-07-24T01:51:59.931Z"
   },
   {
    "duration": 11,
    "start_time": "2022-07-24T01:51:59.938Z"
   },
   {
    "duration": 22,
    "start_time": "2022-07-24T01:51:59.991Z"
   },
   {
    "duration": 43,
    "start_time": "2022-07-24T01:52:00.016Z"
   },
   {
    "duration": 16,
    "start_time": "2022-07-24T01:52:00.061Z"
   },
   {
    "duration": 37,
    "start_time": "2022-07-24T01:52:00.093Z"
   },
   {
    "duration": 1344,
    "start_time": "2022-07-24T01:52:00.133Z"
   },
   {
    "duration": 20,
    "start_time": "2022-07-24T01:52:01.480Z"
   },
   {
    "duration": 69,
    "start_time": "2022-07-24T01:52:01.511Z"
   },
   {
    "duration": 21,
    "start_time": "2022-07-24T01:52:01.582Z"
   },
   {
    "duration": 627,
    "start_time": "2022-07-24T01:52:01.605Z"
   },
   {
    "duration": 4,
    "start_time": "2022-07-24T01:52:02.234Z"
   },
   {
    "duration": 26,
    "start_time": "2022-07-24T01:52:02.239Z"
   },
   {
    "duration": 179,
    "start_time": "2022-07-24T01:52:02.267Z"
   },
   {
    "duration": 13,
    "start_time": "2022-07-24T01:52:02.448Z"
   },
   {
    "duration": 22,
    "start_time": "2022-07-24T01:52:02.464Z"
   },
   {
    "duration": 38,
    "start_time": "2022-07-24T01:52:02.487Z"
   },
   {
    "duration": 160,
    "start_time": "2022-07-24T01:52:02.526Z"
   },
   {
    "duration": 8,
    "start_time": "2022-07-24T01:52:02.688Z"
   },
   {
    "duration": 1202,
    "start_time": "2022-07-24T01:52:02.698Z"
   },
   {
    "duration": 7,
    "start_time": "2022-07-24T01:52:25.386Z"
   },
   {
    "duration": 7,
    "start_time": "2022-07-24T01:53:29.706Z"
   },
   {
    "duration": 27,
    "start_time": "2022-07-24T01:53:40.680Z"
   },
   {
    "duration": 4,
    "start_time": "2022-07-24T01:54:11.178Z"
   },
   {
    "duration": 11,
    "start_time": "2022-07-24T01:54:18.487Z"
   },
   {
    "duration": 125,
    "start_time": "2022-07-24T01:54:22.152Z"
   },
   {
    "duration": 204,
    "start_time": "2022-07-24T01:54:30.477Z"
   },
   {
    "duration": 1235,
    "start_time": "2022-07-24T09:10:17.402Z"
   },
   {
    "duration": 193,
    "start_time": "2022-07-24T09:10:18.640Z"
   },
   {
    "duration": 31,
    "start_time": "2022-07-24T09:10:18.835Z"
   },
   {
    "duration": 35,
    "start_time": "2022-07-24T09:10:18.869Z"
   },
   {
    "duration": 41,
    "start_time": "2022-07-24T09:10:18.906Z"
   },
   {
    "duration": 98,
    "start_time": "2022-07-24T09:10:18.950Z"
   },
   {
    "duration": 28,
    "start_time": "2022-07-24T09:10:19.052Z"
   },
   {
    "duration": 12,
    "start_time": "2022-07-24T09:10:19.082Z"
   },
   {
    "duration": 33,
    "start_time": "2022-07-24T09:10:19.096Z"
   },
   {
    "duration": 7,
    "start_time": "2022-07-24T09:10:19.133Z"
   },
   {
    "duration": 19,
    "start_time": "2022-07-24T09:10:19.141Z"
   },
   {
    "duration": 22,
    "start_time": "2022-07-24T09:10:19.162Z"
   },
   {
    "duration": 51,
    "start_time": "2022-07-24T09:10:19.186Z"
   },
   {
    "duration": 3,
    "start_time": "2022-07-24T09:10:19.239Z"
   },
   {
    "duration": 22,
    "start_time": "2022-07-24T09:10:19.244Z"
   },
   {
    "duration": 10,
    "start_time": "2022-07-24T09:10:19.268Z"
   },
   {
    "duration": 7,
    "start_time": "2022-07-24T09:10:19.280Z"
   },
   {
    "duration": 34,
    "start_time": "2022-07-24T09:10:19.290Z"
   },
   {
    "duration": 24,
    "start_time": "2022-07-24T09:10:19.326Z"
   },
   {
    "duration": 30,
    "start_time": "2022-07-24T09:10:19.352Z"
   },
   {
    "duration": 11,
    "start_time": "2022-07-24T09:10:19.385Z"
   },
   {
    "duration": 46,
    "start_time": "2022-07-24T09:10:19.398Z"
   },
   {
    "duration": 1354,
    "start_time": "2022-07-24T09:10:19.446Z"
   },
   {
    "duration": 26,
    "start_time": "2022-07-24T09:10:20.802Z"
   },
   {
    "duration": 23,
    "start_time": "2022-07-24T09:10:20.830Z"
   },
   {
    "duration": 15,
    "start_time": "2022-07-24T09:10:20.855Z"
   },
   {
    "duration": 620,
    "start_time": "2022-07-24T09:10:20.872Z"
   },
   {
    "duration": 5,
    "start_time": "2022-07-24T09:10:21.495Z"
   },
   {
    "duration": 22,
    "start_time": "2022-07-24T09:10:21.502Z"
   },
   {
    "duration": 190,
    "start_time": "2022-07-24T09:10:21.526Z"
   },
   {
    "duration": 17,
    "start_time": "2022-07-24T09:10:21.722Z"
   },
   {
    "duration": 6,
    "start_time": "2022-07-24T09:10:21.741Z"
   },
   {
    "duration": 12,
    "start_time": "2022-07-24T09:10:21.748Z"
   },
   {
    "duration": 164,
    "start_time": "2022-07-24T09:10:21.762Z"
   },
   {
    "duration": 9,
    "start_time": "2022-07-24T09:10:21.928Z"
   },
   {
    "duration": 1291,
    "start_time": "2022-07-24T09:10:21.939Z"
   },
   {
    "duration": 10,
    "start_time": "2022-07-24T09:10:23.232Z"
   },
   {
    "duration": 35,
    "start_time": "2022-07-24T09:10:23.245Z"
   },
   {
    "duration": 5,
    "start_time": "2022-07-24T09:10:23.282Z"
   },
   {
    "duration": 38,
    "start_time": "2022-07-24T09:10:23.290Z"
   },
   {
    "duration": 165,
    "start_time": "2022-07-24T09:10:23.331Z"
   },
   {
    "duration": 236,
    "start_time": "2022-07-24T09:10:23.498Z"
   },
   {
    "duration": 22,
    "start_time": "2022-07-24T09:20:37.233Z"
   }
  ],
  "kernelspec": {
   "display_name": "Python 3 (ipykernel)",
   "language": "python",
   "name": "python3"
  },
  "language_info": {
   "codemirror_mode": {
    "name": "ipython",
    "version": 3
   },
   "file_extension": ".py",
   "mimetype": "text/x-python",
   "name": "python",
   "nbconvert_exporter": "python",
   "pygments_lexer": "ipython3",
   "version": "3.9.5"
  },
  "toc": {
   "base_numbering": 1,
   "nav_menu": {},
   "number_sections": true,
   "sideBar": true,
   "skip_h1_title": false,
   "title_cell": "Table of Contents",
   "title_sidebar": "Contents",
   "toc_cell": false,
   "toc_position": {},
   "toc_section_display": true,
   "toc_window_display": false
  }
 },
 "nbformat": 4,
 "nbformat_minor": 2
}
