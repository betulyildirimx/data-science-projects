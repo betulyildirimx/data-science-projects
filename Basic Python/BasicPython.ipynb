{
 "cells": [
  {
   "cell_type": "markdown",
   "metadata": {
    "id": "E0vqbgi9ay0H"
   },
   "source": [
    "# Yandex.Music"
   ]
  },
  {
   "cell_type": "markdown",
   "metadata": {
    "id": "fhq_eyov_Zcs"
   },
   "source": [
    "# Contents <a id='back'></a>\n",
    "\n",
    "* [Introduction](#intro)\n",
    "* [Stage 1. Data overview](#data_review)\n",
    "    * [Conclusions](#data_review_conclusions)\n",
    "* [Stage 2. Data preprocessing](#data_preprocessing)\n",
    "    * [2.1 Header style](#header_style)\n",
    "    * [2.2 Missing values](#missing_values)\n",
    "    * [2.3 Duplicates](#duplicates)\n",
    "    * [2.4 Conclusions](#data_preprocessing_conclusions)\n",
    "* [Stage 3. Testing the hypotheses](#hypotheses)\n",
    "    * [3.1 Hypothesis 1: user activity in the two cities](#activity)\n",
    "    * [3.2 Hypothesis 2: music preferences on Monday and Friday](#week)\n",
    "    * [3.3 Hypothesis 3: genre preferences in Springfield and Shelbyville](#genre)\n",
    "* [Findings](#end)"
   ]
  },
  {
   "cell_type": "markdown",
   "metadata": {
    "id": "VUC88oWjTJw2"
   },
   "source": [
    "## Introduction <a id='intro'></a>\n",
    "Whenever we're doing research, we need to formulate hypotheses that we can then test. Sometimes we accept these hypotheses; other times, we reject them. To make the right decisions, a business must be able to understand whether or not it's making the right assumptions.\n",
    "\n",
    "In this project, you'll compare the music preferences of the cities of Springfield and Shelbyville. You'll study real Yandex.Music data to test the hypotheses below and compare user behavior for these two cities.\n",
    "\n",
    "### Goal: \n",
    "Test three hypotheses:\n",
    "1. User activity differs depending on the day of the week and from city to city. \n",
    "2. On Monday mornings, Springfield and Shelbyville residents listen to different genres. This is also true for Friday evenings. \n",
    "3. Springfield and Shelbyville listeners have different preferences. In Springfield, they prefer pop, while Shelbyville has more rap fans.\n",
    "\n",
    "### Stages \n",
    "Data on user behavior is stored in the file `/datasets/music_project_en.csv`. There is no information about the quality of the data, so you will need to explore it before testing the hypotheses. \n",
    "\n",
    "First, you'll evaluate the quality of the data and see whether its issues are significant. Then, during data preprocessing, you will try to account for the most critical problems.\n",
    " \n",
    "Your project will consist of three stages:\n",
    " 1. Data overview\n",
    " 2. Data preprocessing\n",
    " 3. Testing the hypotheses\n",
    " \n",
    "[Back to Contents](#back)"
   ]
  },
  {
   "cell_type": "markdown",
   "metadata": {
    "id": "Ml1hmfXC_Zcs"
   },
   "source": [
    "## Stage 1. Data overview <a id='data_review'></a>\n",
    "\n",
    "Open the data on Yandex.Music and explore it."
   ]
  },
  {
   "cell_type": "code",
   "execution_count": 2,
   "metadata": {
    "id": "AXN7PHPN_Zcs"
   },
   "outputs": [],
   "source": [
    "# importing pandas\n",
    "import pandas as pd"
   ]
  },
  {
   "cell_type": "markdown",
   "metadata": {
    "id": "SG23P8tt_Zcs"
   },
   "source": [
    "Read the file `music_project_en.csv` from the `/datasets/` folder and save it in the `df` variable:"
   ]
  },
  {
   "cell_type": "code",
   "execution_count": 3,
   "metadata": {
    "id": "fFVu7vqh_Zct"
   },
   "outputs": [],
   "source": [
    "# reading the file and storing it to df\n",
    "df = pd.read_csv('/datasets/music_project_en.csv')"
   ]
  },
  {
   "cell_type": "markdown",
   "metadata": {
    "id": "rDoOMd3uTqnZ"
   },
   "source": [
    "Print the first 10 table rows:"
   ]
  },
  {
   "cell_type": "code",
   "execution_count": 4,
   "metadata": {
    "id": "oWTVX3gW_Zct"
   },
   "outputs": [
    {
     "data": {
      "text/html": [
       "<div>\n",
       "<style scoped>\n",
       "    .dataframe tbody tr th:only-of-type {\n",
       "        vertical-align: middle;\n",
       "    }\n",
       "\n",
       "    .dataframe tbody tr th {\n",
       "        vertical-align: top;\n",
       "    }\n",
       "\n",
       "    .dataframe thead th {\n",
       "        text-align: right;\n",
       "    }\n",
       "</style>\n",
       "<table border=\"1\" class=\"dataframe\">\n",
       "  <thead>\n",
       "    <tr style=\"text-align: right;\">\n",
       "      <th></th>\n",
       "      <th>userID</th>\n",
       "      <th>Track</th>\n",
       "      <th>artist</th>\n",
       "      <th>genre</th>\n",
       "      <th>City</th>\n",
       "      <th>time</th>\n",
       "      <th>Day</th>\n",
       "    </tr>\n",
       "  </thead>\n",
       "  <tbody>\n",
       "    <tr>\n",
       "      <th>0</th>\n",
       "      <td>FFB692EC</td>\n",
       "      <td>Kamigata To Boots</td>\n",
       "      <td>The Mass Missile</td>\n",
       "      <td>rock</td>\n",
       "      <td>Shelbyville</td>\n",
       "      <td>20:28:33</td>\n",
       "      <td>Wednesday</td>\n",
       "    </tr>\n",
       "    <tr>\n",
       "      <th>1</th>\n",
       "      <td>55204538</td>\n",
       "      <td>Delayed Because of Accident</td>\n",
       "      <td>Andreas Rönnberg</td>\n",
       "      <td>rock</td>\n",
       "      <td>Springfield</td>\n",
       "      <td>14:07:09</td>\n",
       "      <td>Friday</td>\n",
       "    </tr>\n",
       "    <tr>\n",
       "      <th>2</th>\n",
       "      <td>20EC38</td>\n",
       "      <td>Funiculì funiculà</td>\n",
       "      <td>Mario Lanza</td>\n",
       "      <td>pop</td>\n",
       "      <td>Shelbyville</td>\n",
       "      <td>20:58:07</td>\n",
       "      <td>Wednesday</td>\n",
       "    </tr>\n",
       "    <tr>\n",
       "      <th>3</th>\n",
       "      <td>A3DD03C9</td>\n",
       "      <td>Dragons in the Sunset</td>\n",
       "      <td>Fire + Ice</td>\n",
       "      <td>folk</td>\n",
       "      <td>Shelbyville</td>\n",
       "      <td>08:37:09</td>\n",
       "      <td>Monday</td>\n",
       "    </tr>\n",
       "    <tr>\n",
       "      <th>4</th>\n",
       "      <td>E2DC1FAE</td>\n",
       "      <td>Soul People</td>\n",
       "      <td>Space Echo</td>\n",
       "      <td>dance</td>\n",
       "      <td>Springfield</td>\n",
       "      <td>08:34:34</td>\n",
       "      <td>Monday</td>\n",
       "    </tr>\n",
       "  </tbody>\n",
       "</table>\n",
       "</div>"
      ],
      "text/plain": [
       "     userID                        Track            artist  genre  \\\n",
       "0  FFB692EC            Kamigata To Boots  The Mass Missile   rock   \n",
       "1  55204538  Delayed Because of Accident  Andreas Rönnberg   rock   \n",
       "2    20EC38            Funiculì funiculà       Mario Lanza    pop   \n",
       "3  A3DD03C9        Dragons in the Sunset        Fire + Ice   folk   \n",
       "4  E2DC1FAE                  Soul People        Space Echo  dance   \n",
       "\n",
       "        City        time        Day  \n",
       "0  Shelbyville  20:28:33  Wednesday  \n",
       "1  Springfield  14:07:09     Friday  \n",
       "2  Shelbyville  20:58:07  Wednesday  \n",
       "3  Shelbyville  08:37:09     Monday  \n",
       "4  Springfield  08:34:34     Monday  "
      ]
     },
     "execution_count": 4,
     "metadata": {},
     "output_type": "execute_result"
    }
   ],
   "source": [
    "df.head()"
   ]
  },
  {
   "cell_type": "markdown",
   "metadata": {
    "id": "EO73Kwic_Zct"
   },
   "source": [
    "Obtaining the general information about the table with one command:"
   ]
  },
  {
   "cell_type": "code",
   "execution_count": 5,
   "metadata": {
    "id": "DSf2kIb-_Zct"
   },
   "outputs": [
    {
     "name": "stdout",
     "output_type": "stream",
     "text": [
      "<class 'pandas.core.frame.DataFrame'>\n",
      "RangeIndex: 65079 entries, 0 to 65078\n",
      "Data columns (total 7 columns):\n",
      " #   Column    Non-Null Count  Dtype \n",
      "---  ------    --------------  ----- \n",
      " 0     userID  65079 non-null  object\n",
      " 1   Track     63736 non-null  object\n",
      " 2   artist    57512 non-null  object\n",
      " 3   genre     63881 non-null  object\n",
      " 4     City    65079 non-null  object\n",
      " 5   time      65079 non-null  object\n",
      " 6   Day       65079 non-null  object\n",
      "dtypes: object(7)\n",
      "memory usage: 3.5+ MB\n"
     ]
    }
   ],
   "source": [
    "df.info()"
   ]
  },
  {
   "cell_type": "markdown",
   "metadata": {
    "id": "TaQ2Iwbr_Zct"
   },
   "source": [
    "The table contains seven columns. They all store the same data type: `object`.\n",
    "\n",
    "According to the documentation:\n",
    "- `'userID'` — user identifier\n",
    "- `'Track'` — track title\n",
    "- `'artist'` — artist's name\n",
    "- `'genre'`\n",
    "- `'City'` — user's city\n",
    "- `'time'` — the exact time the track was played\n",
    "- `'Day'` — day of the week\n",
    "\n",
    "We can see three issues with style in the column names:\n",
    "1. Some names are uppercase, some are lowercase.\n",
    "2. There are spaces in some names.\n",
    "3. `Names with two words are missing snake case`.\n",
    "\n",
    "The number of column values is different. This means the data contains missing values.\n"
   ]
  },
  {
   "cell_type": "markdown",
   "metadata": {
    "id": "MCB6-dXG_Zct"
   },
   "source": [
    "### Conclusions <a id='data_review_conclusions'></a> \n",
    "\n",
    "Each row in the table stores data on a track that was played. Some columns describe the track itself: its title, artist and genre. The rest convey information about the user: the city they come from, the time they played the track. \n",
    "\n",
    "It's clear that the data is sufficient to test the hypotheses. However, there are missing values.\n",
    "\n",
    "To move forward, we need to preprocess the data."
   ]
  },
  {
   "cell_type": "markdown",
   "metadata": {
    "id": "3eL__vcwViOi"
   },
   "source": [
    "[Back to Contents](#back)"
   ]
  },
  {
   "cell_type": "markdown",
   "metadata": {
    "id": "SjYF6Ub9_Zct"
   },
   "source": [
    "## Stage 2. Data preprocessing <a id='data_preprocessing'></a>\n",
    "Correct the formatting in the column headers and deal with the missing values. Then, check whether there are duplicates in the data."
   ]
  },
  {
   "cell_type": "markdown",
   "metadata": {
    "id": "dIaKXr29_Zct"
   },
   "source": [
    "### Header style <a id='header_style'></a>\n",
    "Print the column header:"
   ]
  },
  {
   "cell_type": "code",
   "execution_count": 223,
   "metadata": {
    "id": "oKOTdF_Q_Zct"
   },
   "outputs": [
    {
     "data": {
      "text/plain": [
       "Index(['  userID', 'Track', 'artist', 'genre', '  City  ', 'time', 'Day'], dtype='object')"
      ]
     },
     "execution_count": 223,
     "metadata": {},
     "output_type": "execute_result"
    }
   ],
   "source": [
    "df.columns"
   ]
  },
  {
   "cell_type": "markdown",
   "metadata": {
    "id": "zj5534cv_Zct"
   },
   "source": [
    "Change column names according to the rules of good style:\n",
    "* If the name has several words, use snake_case\n",
    "* All characters must be lowercase\n",
    "* Delete spaces"
   ]
  },
  {
   "cell_type": "code",
   "execution_count": 224,
   "metadata": {
    "id": "ISlFqs5y_Zct"
   },
   "outputs": [],
   "source": [
    "df = df.rename(\n",
    "    columns={\n",
    "        '  userID': 'user_id',\n",
    "        'Track': 'track',\n",
    "        '  City  ': 'city',\n",
    "        'Day': 'day',\n",
    "    }\n",
    ")"
   ]
  },
  {
   "cell_type": "markdown",
   "metadata": {
    "id": "1dqbh00J_Zct"
   },
   "source": [
    "Check the result. Print the names of the columns once more:"
   ]
  },
  {
   "cell_type": "code",
   "execution_count": 225,
   "metadata": {
    "id": "d4NOAmTW_Zct"
   },
   "outputs": [
    {
     "data": {
      "text/plain": [
       "Index(['user_id', 'track', 'artist', 'genre', 'city', 'time', 'day'], dtype='object')"
      ]
     },
     "execution_count": 225,
     "metadata": {},
     "output_type": "execute_result"
    }
   ],
   "source": [
    "df.columns"
   ]
  },
  {
   "cell_type": "markdown",
   "metadata": {
    "id": "xYJk6ksJVpOl"
   },
   "source": [
    "[Back to Contents](#back)"
   ]
  },
  {
   "cell_type": "markdown",
   "metadata": {
    "id": "5ISfbcfY_Zct"
   },
   "source": [
    "### Missing values <a id='missing_values'></a>\n",
    "First, find the number of missing values in the table. To do so, use two `pandas` methods:"
   ]
  },
  {
   "cell_type": "code",
   "execution_count": 226,
   "metadata": {
    "id": "RskX29qr_Zct"
   },
   "outputs": [
    {
     "data": {
      "text/plain": [
       "user_id       0\n",
       "track      1343\n",
       "artist     7567\n",
       "genre      1198\n",
       "city          0\n",
       "time          0\n",
       "day           0\n",
       "dtype: int64"
      ]
     },
     "execution_count": 226,
     "metadata": {},
     "output_type": "execute_result"
    }
   ],
   "source": [
    "df.isna().sum()"
   ]
  },
  {
   "cell_type": "markdown",
   "metadata": {
    "id": "qubhgnlO_Zct"
   },
   "source": [
    "Not all missing values affect the research. For instance, the missing values in `track` and `artist` are not critical. You can simply replace them with clear markers.\n",
    "\n",
    "But missing values in `'genre'` can affect the comparison of music preferences in Springfield and Shelbyville. In real life, it would be useful to learn the reasons why the data is missing and try to make up for them. But we do not have that opportunity in this project. So you will have to:\n",
    "* Fill in these missing values with markers\n",
    "* Evaluate how much the missing values may affect your computations"
   ]
  },
  {
   "cell_type": "markdown",
   "metadata": {
    "id": "fSv2laPA_Zct"
   },
   "source": [
    "Replace the missing values in `'track'`, `'artist'`, and `'genre'` with the string `'unknown'`. To do this, create the `columns_to_replace` list, loop over it with `for`, and replace the missing values in each of the columns:"
   ]
  },
  {
   "cell_type": "code",
   "execution_count": 227,
   "metadata": {
    "id": "KplB5qWs_Zct"
   },
   "outputs": [],
   "source": [
    "columns_to_replace = ['track', 'artist', 'genre']\n",
    "for i in columns_to_replace:\n",
    "    df[i] = df[i].fillna('unknown')\n"
   ]
  },
  {
   "cell_type": "code",
   "execution_count": 228,
   "metadata": {
    "id": "Tq4nYRX4_Zct"
   },
   "outputs": [
    {
     "data": {
      "text/plain": [
       "user_id    0\n",
       "track      0\n",
       "artist     0\n",
       "genre      0\n",
       "city       0\n",
       "time       0\n",
       "day        0\n",
       "dtype: int64"
      ]
     },
     "execution_count": 228,
     "metadata": {},
     "output_type": "execute_result"
    }
   ],
   "source": [
    "df.isna().sum()"
   ]
  },
  {
   "cell_type": "markdown",
   "metadata": {
    "id": "74ZIBmq9VrsK"
   },
   "source": [
    "[Back to Contents](#back)"
   ]
  },
  {
   "cell_type": "markdown",
   "metadata": {
    "id": "BWKRtBJ3_Zct"
   },
   "source": [
    "### Duplicates <a id='duplicates'></a>\n",
    "Find the number of obvious duplicates in the table using one command:"
   ]
  },
  {
   "cell_type": "code",
   "execution_count": 229,
   "metadata": {
    "id": "36eES_S0_Zct"
   },
   "outputs": [
    {
     "data": {
      "text/plain": [
       "3826"
      ]
     },
     "execution_count": 229,
     "metadata": {},
     "output_type": "execute_result"
    }
   ],
   "source": [
    "df.duplicated().sum()"
   ]
  },
  {
   "cell_type": "markdown",
   "metadata": {
    "id": "Ot25h6XR_Zct"
   },
   "source": [
    "Call the `pandas` method for getting rid of obvious duplicates:"
   ]
  },
  {
   "cell_type": "code",
   "execution_count": 230,
   "metadata": {
    "id": "exFHq6tt_Zct"
   },
   "outputs": [],
   "source": [
    "df = df.drop_duplicates().reset_index(drop=True)"
   ]
  },
  {
   "cell_type": "markdown",
   "metadata": {
    "id": "Im2YwBEG_Zct"
   },
   "source": [
    "Count obvious duplicates once more to make sure you have removed all of them:"
   ]
  },
  {
   "cell_type": "code",
   "execution_count": 231,
   "metadata": {
    "id": "-8PuNWQ0_Zct"
   },
   "outputs": [
    {
     "data": {
      "text/plain": [
       "0"
      ]
     },
     "execution_count": 231,
     "metadata": {},
     "output_type": "execute_result"
    }
   ],
   "source": [
    "df.duplicated().sum()"
   ]
  },
  {
   "cell_type": "markdown",
   "metadata": {
    "id": "QlFBsxAr_Zct"
   },
   "source": [
    "Now get rid of implicit duplicates in the `genre` column. For example, the name of a genre can be written in different ways. Such errors will also affect the result."
   ]
  },
  {
   "cell_type": "markdown",
   "metadata": {
    "id": "eSjWwsOh_Zct"
   },
   "source": [
    "Print a list of unique genre names, sorted in alphabetical order. To do so:\n",
    "* Retrieve the intended DataFrame column \n",
    "* Apply a sorting method to it\n",
    "* For the sorted column, call the method that will return all unique column values"
   ]
  },
  {
   "cell_type": "code",
   "execution_count": null,
   "metadata": {
    "id": "JIUcqzZN_Zct"
   },
   "outputs": [],
   "source": [
    "df = df.sort_values(by='genre', ascending= True)\n",
    "df['genre'].unique()\n"
   ]
  },
  {
   "cell_type": "markdown",
   "metadata": {
    "id": "qej-Qmuo_Zct"
   },
   "source": [
    "Look through the list to find implicit duplicates of the genre `hiphop`. These could be names written incorrectly or alternative names of the same genre.\n",
    "\n",
    "You will see the following implicit duplicates:\n",
    "* `hip`\n",
    "* `hop`\n",
    "* `hip-hop`\n",
    "\n",
    "To get rid of them, declare the function `replace_wrong_genres()` with two parameters: \n",
    "* `wrong_genres=` — the list of duplicates\n",
    "* `correct_genre=` — the string with the correct value\n",
    "\n",
    "The function should correct the names in the `'genre'` column from the `df` table, i.e. replace each value from the `wrong_genres` list with the value in `correct_genre`."
   ]
  },
  {
   "cell_type": "code",
   "execution_count": 233,
   "metadata": {
    "id": "ErNDkmns_Zct"
   },
   "outputs": [],
   "source": [
    "def replace_wrong_values(wrong_values, correct_value): \n",
    "    for wrong_value in wrong_values:\n",
    "        df['genre'] = df['genre'].replace(wrong_value, correct_value) \n"
   ]
  },
  {
   "cell_type": "markdown",
   "metadata": {
    "id": "aDoBJxbA_Zct"
   },
   "source": [
    "Call `replace_wrong_genres()` and pass it arguments so that it clears implicit duplcates (`hip`, `hop`, and `hip-hop`) and replaces them with `hiphop`:"
   ]
  },
  {
   "cell_type": "code",
   "execution_count": 234,
   "metadata": {
    "id": "YN5i2hpmSo09"
   },
   "outputs": [],
   "source": [
    "duplicates = ['hip', 'hop', 'hip-hop']\n",
    "name = 'hiphop'\n",
    "replace_wrong_values(duplicates, name) "
   ]
  },
  {
   "cell_type": "markdown",
   "metadata": {
    "id": "zQKF16_RG15m"
   },
   "source": [
    "Make sure the duplicate names were removed. Print the list of unique values from the `'genre'` column:"
   ]
  },
  {
   "cell_type": "code",
   "execution_count": 235,
   "metadata": {
    "id": "wvixALnFG15m"
   },
   "outputs": [
    {
     "data": {
      "text/plain": [
       "array(['acid', 'acoustic', 'action', 'adult', 'africa', 'afrikaans',\n",
       "       'alternative', 'ambient', 'americana', 'animated', 'anime',\n",
       "       'arabesk', 'arabic', 'arena', 'argentinetango', 'art', 'audiobook',\n",
       "       'avantgarde', 'axé', 'baile', 'balkan', 'beats', 'bigroom',\n",
       "       'black', 'bluegrass', 'blues', 'bollywood', 'bossa', 'brazilian',\n",
       "       'breakbeat', 'breaks', 'broadway', 'cantautori', 'cantopop',\n",
       "       'canzone', 'caribbean', 'caucasian', 'celtic', 'chamber',\n",
       "       'children', 'chill', 'chinese', 'choral', 'christian', 'christmas',\n",
       "       'classical', 'classicmetal', 'club', 'colombian', 'comedy',\n",
       "       'conjazz', 'contemporary', 'country', 'cuban', 'dance',\n",
       "       'dancehall', 'dancepop', 'dark', 'death', 'deep', 'deutschrock',\n",
       "       'deutschspr', 'dirty', 'disco', 'dnb', 'documentary', 'downbeat',\n",
       "       'downtempo', 'drum', 'dub', 'dubstep', 'eastern', 'easy',\n",
       "       'electronic', 'electropop', 'emo', 'entehno', 'epicmetal',\n",
       "       'estrada', 'ethnic', 'eurofolk', 'european', 'experimental',\n",
       "       'extrememetal', 'fado', 'film', 'fitness', 'flamenco', 'folk',\n",
       "       'folklore', 'folkmetal', 'folkrock', 'folktronica', 'forró',\n",
       "       'frankreich', 'französisch', 'french', 'funk', 'future', 'gangsta',\n",
       "       'garage', 'german', 'ghazal', 'gitarre', 'glitch', 'gospel',\n",
       "       'gothic', 'grime', 'grunge', 'gypsy', 'handsup', \"hard'n'heavy\",\n",
       "       'hardcore', 'hardstyle', 'hardtechno', 'hiphop', 'historisch',\n",
       "       'holiday', 'horror', 'house', 'idm', 'independent', 'indian',\n",
       "       'indie', 'indipop', 'industrial', 'inspirational', 'instrumental',\n",
       "       'international', 'irish', 'jam', 'japanese', 'jazz', 'jewish',\n",
       "       'jpop', 'jungle', 'k-pop', 'karadeniz', 'karaoke', 'kayokyoku',\n",
       "       'korean', 'laiko', 'latin', 'latino', 'leftfield', 'local',\n",
       "       'lounge', 'loungeelectronic', 'lovers', 'malaysian', 'mandopop',\n",
       "       'marschmusik', 'meditative', 'mediterranean', 'melodic', 'metal',\n",
       "       'metalcore', 'mexican', 'middle', 'minimal', 'miscellaneous',\n",
       "       'modern', 'mood', 'mpb', 'muslim', 'native', 'neoklassik', 'neue',\n",
       "       'new', 'newage', 'newwave', 'nu', 'nujazz', 'numetal', 'oceania',\n",
       "       'old', 'opera', 'orchestral', 'other', 'piano', 'pop',\n",
       "       'popelectronic', 'popeurodance', 'post', 'posthardcore',\n",
       "       'postrock', 'power', 'progmetal', 'progressive', 'psychedelic',\n",
       "       'punjabi', 'punk', 'quebecois', 'ragga', 'ram', 'rancheras', 'rap',\n",
       "       'rave', 'reggae', 'reggaeton', 'regional', 'relax', 'religious',\n",
       "       'retro', 'rhythm', 'rnb', 'rnr', 'rock', 'rockabilly', 'romance',\n",
       "       'roots', 'ruspop', 'rusrap', 'rusrock', 'salsa', 'samba',\n",
       "       'schlager', 'self', 'sertanejo', 'shoegazing', 'showtunes',\n",
       "       'singer', 'ska', 'slow', 'smooth', 'soul', 'soulful', 'sound',\n",
       "       'soundtrack', 'southern', 'specialty', 'speech', 'spiritual',\n",
       "       'sport', 'stonerrock', 'surf', 'swing', 'synthpop',\n",
       "       'sängerportrait', 'tango', 'tanzorchester', 'taraftar', 'tech',\n",
       "       'techno', 'thrash', 'top', 'traditional', 'tradjazz', 'trance',\n",
       "       'tribal', 'trip', 'triphop', 'tropical', 'türk', 'türkçe',\n",
       "       'unknown', 'urban', 'uzbek', 'variété', 'vi', 'videogame', 'vocal',\n",
       "       'western', 'world', 'worldbeat', 'ïîï'], dtype=object)"
      ]
     },
     "execution_count": 235,
     "metadata": {},
     "output_type": "execute_result"
    }
   ],
   "source": [
    "df['genre'].unique()"
   ]
  },
  {
   "cell_type": "markdown",
   "metadata": {
    "id": "ALgNbvF3VtPA"
   },
   "source": [
    "[Back to Contents](#back)"
   ]
  },
  {
   "cell_type": "markdown",
   "metadata": {
    "id": "jz6a9-7HQUDd"
   },
   "source": [
    "### Conclusions <a id='data_preprocessing_conclusions'></a>\n",
    "We detected three issues with the data:\n",
    "\n",
    "- Incorrect header styles\n",
    "- Missing values\n",
    "- Obvious and implicit duplicates\n",
    "\n",
    "The headers have been cleaned up to make processing the table simpler.\n",
    "\n",
    "All missing values have been replaced with `'unknown'`. But we still have to see whether the missing values in `'genre'` will affect our calculations.\n",
    "\n",
    "The absence of duplicates will make the results more precise and easier to understand.\n",
    "\n",
    "Now we can move on to testing hypotheses. "
   ]
  },
  {
   "cell_type": "markdown",
   "metadata": {
    "id": "eK1es74rVujj"
   },
   "source": [
    "[Back to Contents](#back)"
   ]
  },
  {
   "cell_type": "markdown",
   "metadata": {
    "id": "WttZHXH0SqKk"
   },
   "source": [
    "## Stage 3. Testing hypotheses <a id='hypotheses'></a>"
   ]
  },
  {
   "cell_type": "markdown",
   "metadata": {
    "id": "Im936VVi_Zcu"
   },
   "source": [
    "### Hypothesis 1: comparing user behavior in two cities <a id='activity'></a>"
   ]
  },
  {
   "cell_type": "markdown",
   "metadata": {
    "id": "nwt_MuaL_Zcu"
   },
   "source": [
    "According to the first hypothesis, users from Springfield and Shelbyville listen to music differently. Test this using the data on three days of the week: Monday, Wednesday, and Friday.\n",
    "\n",
    "* Divide the users into groups by city.\n",
    "* Compare how many tracks each group played on Monday, Wednesday, and Friday.\n"
   ]
  },
  {
   "cell_type": "markdown",
   "metadata": {
    "id": "8Dw_YMmT_Zcu"
   },
   "source": [
    "For the sake of practice, perform each computation separately. \n",
    "\n",
    "Evaluate user activity in each city. Group the data by city and find the number of songs played in each group.\n",
    "\n"
   ]
  },
  {
   "cell_type": "code",
   "execution_count": 236,
   "metadata": {
    "id": "0_Qs96oh_Zcu"
   },
   "outputs": [
    {
     "data": {
      "text/plain": [
       "city\n",
       "Shelbyville    18512\n",
       "Springfield    42741\n",
       "Name: track, dtype: int64"
      ]
     },
     "execution_count": 236,
     "metadata": {},
     "output_type": "execute_result"
    }
   ],
   "source": [
    "df.groupby('city')['track'].count()"
   ]
  },
  {
   "cell_type": "markdown",
   "metadata": {
    "id": "dzli3w8o_Zcu"
   },
   "source": [
    "Springfield has more tracks played than Shelbyville. But that does not imply that citizens of Springfield listen to music more often. This city is simply bigger, and there are more users.\n",
    "\n",
    "Now group the data by day of the week and find the number of tracks played on Monday, Wednesday, and Friday.\n"
   ]
  },
  {
   "cell_type": "code",
   "execution_count": 237,
   "metadata": {
    "id": "uZMKjiJz_Zcu"
   },
   "outputs": [
    {
     "data": {
      "text/plain": [
       "day\n",
       "Friday       21840\n",
       "Monday       21354\n",
       "Wednesday    18059\n",
       "Name: track, dtype: int64"
      ]
     },
     "execution_count": 237,
     "metadata": {},
     "output_type": "execute_result"
    }
   ],
   "source": [
    "df.groupby('day')[\"track\"].count()"
   ]
  },
  {
   "cell_type": "markdown",
   "metadata": {
    "id": "cC2tNrlL_Zcu"
   },
   "source": [
    "Wednesday is the quietest day overall. But if we consider the two cities separately, we might come to a different conclusion."
   ]
  },
  {
   "cell_type": "markdown",
   "metadata": {
    "id": "POzs8bGa_Zcu"
   },
   "source": [
    "You have seen how grouping by city or day works. Now write a function that will group by both.\n",
    "\n",
    "Create the `number_tracks()` function to calculate the number of songs played for a given day and city. It will require two parameters:\n",
    "* day of the week\n",
    "* name of the city\n",
    "\n",
    "In the function, use a variable to store the rows from the original table, where:\n",
    "  * `'day'` column value is equal to the `day` parameter\n",
    "  * `'city'` column value is equal to the `city` parameter\n",
    "\n",
    "Apply consecutive filtering with logical indexing.\n",
    "\n",
    "Then calculate the `'user_id'` column values in the resulting table. Store the result to a new variable. Return this variable from the function."
   ]
  },
  {
   "cell_type": "code",
   "execution_count": 238,
   "metadata": {},
   "outputs": [
    {
     "name": "stdout",
     "output_type": "stream",
     "text": [
      "user_id\n",
      "track\n",
      "artist\n",
      "genre\n",
      "city\n",
      "time\n",
      "day\n"
     ]
    }
   ],
   "source": [
    "for i in df:\n",
    "    print(i)"
   ]
  },
  {
   "cell_type": "code",
   "execution_count": 239,
   "metadata": {
    "id": "Nz3GdQB1_Zcu"
   },
   "outputs": [],
   "source": [
    "def number_tracks(day,city):\n",
    "    track_list = df.loc[(df['day'] == day)]\n",
    "    track_list = track_list.loc[(track_list['city'] == city)]\n",
    "    track_list_count = track_list['user_id'].count()\n",
    "    return track_list_count\n",
    "    \n",
    "# Let the track_list_count variable store the number of 'user_id' column values in track_list\n",
    "# (found with the count() method).\n",
    "# Let the function return a number: the value of track_list_count.\n",
    "\n",
    "# The function counts tracked played for a certain city and day.\n",
    "# It first retrieves the rows with the intended day from the table,\n",
    "# then filters out the rows with the intended city from the result,\n",
    "# then finds the number of 'user_id' values in the filtered table,\n",
    "# then returns that number.\n",
    "# To see what it returns, wrap the function call in print()."
   ]
  },
  {
   "cell_type": "markdown",
   "metadata": {
    "id": "ytf7xFrFJQ2r"
   },
   "source": [
    "Call `number_tracks()` six times, changing the parameter values, so that you retrieve the data on both cities for each of the three days."
   ]
  },
  {
   "cell_type": "code",
   "execution_count": 240,
   "metadata": {
    "id": "rJcRATNQ_Zcu"
   },
   "outputs": [
    {
     "name": "stdout",
     "output_type": "stream",
     "text": [
      "15740\n"
     ]
    }
   ],
   "source": [
    "print(number_tracks(\"Monday\",\"Springfield\"))# the number of songs played in Springfield on Monday"
   ]
  },
  {
   "cell_type": "code",
   "execution_count": 241,
   "metadata": {
    "id": "hq_ncZ5T_Zcu"
   },
   "outputs": [
    {
     "name": "stdout",
     "output_type": "stream",
     "text": [
      "5614\n"
     ]
    }
   ],
   "source": [
    "print(number_tracks(\"Monday\",\"Shelbyville\"))# the number of songs played in Shelbyville on Monday"
   ]
  },
  {
   "cell_type": "code",
   "execution_count": 242,
   "metadata": {
    "id": "_NTy2VPU_Zcu"
   },
   "outputs": [
    {
     "name": "stdout",
     "output_type": "stream",
     "text": [
      "11056\n"
     ]
    }
   ],
   "source": [
    "print(number_tracks(\"Wednesday\",\"Springfield\"))# the number of songs played in Springfield on Wednesday"
   ]
  },
  {
   "cell_type": "code",
   "execution_count": 243,
   "metadata": {
    "id": "j2y3TAwo_Zcu"
   },
   "outputs": [
    {
     "name": "stdout",
     "output_type": "stream",
     "text": [
      "7003\n"
     ]
    }
   ],
   "source": [
    "print(number_tracks(\"Wednesday\",\"Shelbyville\"))# the number of songs played in Shelbyville on Wednesday"
   ]
  },
  {
   "cell_type": "code",
   "execution_count": 244,
   "metadata": {
    "id": "vYDw5u_K_Zcu"
   },
   "outputs": [
    {
     "name": "stdout",
     "output_type": "stream",
     "text": [
      "15945\n"
     ]
    }
   ],
   "source": [
    "print(number_tracks(\"Friday\",\"Springfield\"))# the number of songs played in Springfield on Friday"
   ]
  },
  {
   "cell_type": "code",
   "execution_count": 245,
   "metadata": {
    "id": "8_yzFtW3_Zcu"
   },
   "outputs": [
    {
     "name": "stdout",
     "output_type": "stream",
     "text": [
      "5895\n"
     ]
    }
   ],
   "source": [
    "print(number_tracks(\"Friday\",\"Shelbyville\"))# the number of songs played in Shelbyville on Friday"
   ]
  },
  {
   "cell_type": "markdown",
   "metadata": {
    "id": "7QXffbO-_Zcu"
   },
   "source": [
    "Use `pd.DataFrame` to create a table, where\n",
    "* Column names are: `['city', 'monday', 'wednesday', 'friday']`\n",
    "* The data is the results you got from `number_tracks()`"
   ]
  },
  {
   "cell_type": "code",
   "execution_count": 246,
   "metadata": {
    "id": "APAcLpOr_Zcu"
   },
   "outputs": [
    {
     "name": "stdout",
     "output_type": "stream",
     "text": [
      "          city  monday  wednesday  friday\n",
      "0  Springfield   15740      11056   15945\n",
      "1  Shelbyville    5614       7003    5895\n"
     ]
    }
   ],
   "source": [
    "data = [\n",
    "    ['Springfield', number_tracks(\"Monday\",\"Springfield\"), number_tracks(\"Wednesday\",\"Springfield\"), number_tracks(\"Friday\",\"Springfield\")],\n",
    "    ['Shelbyville', number_tracks(\"Monday\",\"Shelbyville\"), number_tracks(\"Wednesday\",\"Shelbyville\"), number_tracks(\"Friday\",\"Shelbyville\")]\n",
    "]\n",
    "columns = ['city', 'monday', 'wednesday', 'friday']\n",
    "table = pd.DataFrame(data=data, columns=columns)\n",
    "print(table)"
   ]
  },
  {
   "cell_type": "markdown",
   "metadata": {
    "id": "-EgPIHYu_Zcu"
   },
   "source": [
    "**Conclusions**\n",
    "\n",
    "The data reveals differences in user behavior:\n",
    "\n",
    "- In Springfield, the number of songs played peaks on Mondays and Fridays, while on Wednesday there is a decrease in activity.\n",
    "- In Shelbyville, on the contrary, users listen to music more on Wednesday. User activity on Monday and Friday is smaller.\n",
    "\n",
    "So the first hypothesis seems to be correct."
   ]
  },
  {
   "cell_type": "markdown",
   "metadata": {
    "id": "p7nFQajCVw5B"
   },
   "source": [
    "[Back to Contents](#back)"
   ]
  },
  {
   "cell_type": "markdown",
   "metadata": {
    "id": "atZAxtq4_Zcu"
   },
   "source": [
    "### Hypothesis 2: music at the beginning and end of the week <a id='week'></a>"
   ]
  },
  {
   "cell_type": "markdown",
   "metadata": {
    "id": "eXrQqXFH_Zcu"
   },
   "source": [
    "According to the second hypothesis, on Monday morning and Friday night, citizens of Springfield listen to genres that differ from ones users from Shelbyville enjoy."
   ]
  },
  {
   "cell_type": "markdown",
   "metadata": {
    "id": "S8UcW6Hw_Zcu"
   },
   "source": [
    "Get tables (make sure that the name of your combined table matches the DataFrame given in the two code blocks below):\n",
    "* For Springfield — `spr_general`\n",
    "* For Shelbyville — `shel_general`"
   ]
  },
  {
   "cell_type": "code",
   "execution_count": 288,
   "metadata": {
    "id": "qeaFfM_P_Zcu",
    "pycharm": {
     "is_executing": true
    }
   },
   "outputs": [],
   "source": [
    "spr_general = df.loc[df['city'] == 'Springfield']"
   ]
  },
  {
   "cell_type": "code",
   "execution_count": 289,
   "metadata": {
    "id": "ORaVRKto_Zcu"
   },
   "outputs": [],
   "source": [
    "shel_general = df.loc[df['city'] == 'Shelbyville']"
   ]
  },
  {
   "cell_type": "markdown",
   "metadata": {
    "id": "MEJV-CX2_Zcu"
   },
   "source": [
    "Write the `genre_weekday()` function with four parameters:\n",
    "* A table for data (`df`)\n",
    "* The day of the week (`day`)\n",
    "* The first timestamp, in 'hh:mm' format (`time1`)\n",
    "* The last timestamp, in 'hh:mm' format (`time2`)\n",
    "\n",
    "The function should return info on the 15 most popular genres on a given day within the period between the two timestamps."
   ]
  },
  {
   "cell_type": "code",
   "execution_count": 290,
   "metadata": {
    "id": "laJT9BYl_Zcu"
   },
   "outputs": [],
   "source": [
    "def genre_weekday(df,day,time1,time2):\n",
    "    genre_df = df.loc[(df['day'] == day)]\n",
    "    genre_df = genre_df.loc[(genre_df['time'] > time1)]\n",
    "    genre_df = genre_df.loc[(genre_df['time'] < time2)]\n",
    "    genre_df_count = genre_df.groupby('genre')['track'].count()\n",
    "    genre_df_sorted = genre_df_count.sort_values(ascending= False)\n",
    "    return genre_df_sorted[:15] \n",
    "\n",
    "\n",
    "\n",
    "# 1) Let the genre_df variable store the rows that meet several conditions:\n",
    "#    - the value in the 'day' column is equal to the value of the day= argument\n",
    "#    - the value in the 'time' column is greater than the value of the time1= argument\n",
    "#    - the value in the 'time' column is smaller than the value of the time2= argument\n",
    "#    Use consecutive filtering with logical indexing.\n",
    "\n",
    "# 2) Group genre_df by the 'genre' column, take one of its columns, \n",
    "#    and use the count() method to find the number of entries for each of \n",
    "#    the represented genres; store the resulting Series to the\n",
    "#    genre_df_count variable\n",
    "\n",
    "# 3) Sort genre_df_count in descending order of frequency and store the result\n",
    "#    to the genre_df_sorted variable\n",
    "\n",
    "# 4) Return a Series object with the first 15 genre_df_sorted value - the 15 most\n",
    "#    popular genres (on a given day, within a certain timeframe)\n",
    "\n",
    "# Write your function here\n",
    "\n",
    "    # consecutive filtering\n",
    "    # Create the variable genre_df which will store only those df rows where the day is equal to day=\n",
    "    #genre_df = # write your code here\n",
    "\n",
    "    # filter again so that genre_df will store only those rows where the time is smaller than time2=\n",
    "    #genre_df = # write your code here\n",
    "\n",
    "    # filter once more so that genre_df will store only rows where the time is greater than time1=\n",
    "    #genre_df = # write your code here\n",
    "\n",
    "    # group the filtered DataFrame by the column with the names of genres, take the genre column, and find the number of rows for each genre with the count() method\n",
    "    #genre_df_count = # write your code here\n",
    "\n",
    "    # sort the result in descending order (so that the most popular genres come first in the Series object)\n",
    "    #genre_df_sorted = # write your code here\n",
    "\n",
    "    # we will return the Series object storing the 15 most popular genres on a given day in a given timeframe\n",
    "    #return genre_df_sorted[:15]"
   ]
  },
  {
   "cell_type": "markdown",
   "metadata": {
    "id": "la2s2_PF_Zcu"
   },
   "source": [
    "Compare the results of the `genre_weekday()` function for Springfield and Shelbyville on Monday morning (from 7AM to 11AM) and on Friday evening (from 17:00 to 23:00):"
   ]
  },
  {
   "cell_type": "code",
   "execution_count": 291,
   "metadata": {
    "id": "yz7itPUQ_Zcu"
   },
   "outputs": [
    {
     "data": {
      "text/plain": [
       "genre\n",
       "pop            781\n",
       "dance          549\n",
       "electronic     480\n",
       "rock           474\n",
       "hiphop         286\n",
       "ruspop         186\n",
       "world          181\n",
       "rusrap         175\n",
       "alternative    164\n",
       "unknown        161\n",
       "classical      157\n",
       "metal          120\n",
       "jazz           100\n",
       "folk            97\n",
       "soundtrack      95\n",
       "Name: track, dtype: int64"
      ]
     },
     "execution_count": 291,
     "metadata": {},
     "output_type": "execute_result"
    }
   ],
   "source": [
    "genre_weekday(spr_general, 'Monday', '00:00', '11:59')\n",
    "\n"
   ]
  },
  {
   "cell_type": "code",
   "execution_count": 292,
   "metadata": {
    "id": "kwUcHPdy_Zcu"
   },
   "outputs": [
    {
     "data": {
      "text/plain": [
       "genre\n",
       "pop            218\n",
       "dance          182\n",
       "rock           162\n",
       "electronic     147\n",
       "hiphop          80\n",
       "ruspop          64\n",
       "alternative     58\n",
       "rusrap          55\n",
       "jazz            44\n",
       "classical       40\n",
       "world           36\n",
       "rap             32\n",
       "soundtrack      31\n",
       "rnb             27\n",
       "metal           27\n",
       "Name: track, dtype: int64"
      ]
     },
     "execution_count": 292,
     "metadata": {},
     "output_type": "execute_result"
    }
   ],
   "source": [
    "genre_weekday(shel_general, 'Monday', '00:00', '11:59')\n",
    "# calling the function for Monday morning in Shelbyville (use shel_general instead of the df table)\n"
   ]
  },
  {
   "cell_type": "code",
   "execution_count": 293,
   "metadata": {
    "id": "EzXVRE1o_Zcu"
   },
   "outputs": [
    {
     "data": {
      "text/plain": [
       "genre\n",
       "pop            365\n",
       "rock           287\n",
       "dance          259\n",
       "electronic     227\n",
       "hiphop         145\n",
       "world          112\n",
       "ruspop          90\n",
       "alternative     82\n",
       "rusrap          79\n",
       "classical       75\n",
       "unknown         68\n",
       "soundtrack      50\n",
       "jazz            48\n",
       "rnb             47\n",
       "folk            44\n",
       "Name: track, dtype: int64"
      ]
     },
     "execution_count": 293,
     "metadata": {},
     "output_type": "execute_result"
    }
   ],
   "source": [
    "genre_weekday(spr_general, 'Friday', '18:00', '21:00')\n",
    "# calling the function for Friday evening in Springfield\n"
   ]
  },
  {
   "cell_type": "code",
   "execution_count": 294,
   "metadata": {
    "id": "JZaEKu5v_Zcu"
   },
   "outputs": [
    {
     "data": {
      "text/plain": [
       "genre\n",
       "rock           126\n",
       "pop            120\n",
       "dance          111\n",
       "electronic      94\n",
       "hiphop          50\n",
       "jazz            39\n",
       "unknown         33\n",
       "classical       32\n",
       "alternative     32\n",
       "world           29\n",
       "ruspop          24\n",
       "latin           22\n",
       "rusrap          21\n",
       "folk            21\n",
       "metal           20\n",
       "Name: track, dtype: int64"
      ]
     },
     "execution_count": 294,
     "metadata": {},
     "output_type": "execute_result"
    }
   ],
   "source": [
    "genre_weekday(shel_general, 'Friday', '18:00', '21:00')\n",
    "# calling the function for Friday evening in Shelbyville\n"
   ]
  },
  {
   "cell_type": "markdown",
   "metadata": {
    "id": "wrCe4MNX_Zcu"
   },
   "source": [
    "**Conclusion**\n",
    "\n",
    "Having compared the top 15 genres on Monday morning, we can draw the following conclusions:\n",
    "\n",
    "1. Users from Springfield and Shelbyville listen to similar music. The top five genres are the same, only rock and electronic have switched places.\n",
    "\n",
    "2. In Springfield, the number of missing values turned out to be so big that the value `'unknown'` came in 10th. This means that missing values make up a considerable portion of the data, which may be a basis for questioning the reliability of our conclusions.\n",
    "\n",
    "For Friday evening, the situation is similar. Individual genres vary somewhat, but on the whole, the top 15 is similar for the two cities.\n",
    "\n",
    "Thus, the second hypothesis has been partially proven true:\n",
    "* Users listen to similar music at the beginning and end of the week.\n",
    "* There is no major difference between Springfield and Shelbyville. In both cities, pop is the most popular genre.\n",
    "\n",
    "However, the number of missing values makes this result questionable. In Springfield, there are so many that they affect our top 15. Were we not missing these values, things might look different."
   ]
  },
  {
   "cell_type": "markdown",
   "metadata": {
    "id": "jLmXgdanVyhP"
   },
   "source": [
    "[Back to Contents](#back)"
   ]
  },
  {
   "cell_type": "markdown",
   "metadata": {
    "id": "JolODAqr_Zcu"
   },
   "source": [
    "### Hypothesis 3: genre preferences in Springfield and Shelbyville <a id='genre'></a>\n",
    "\n",
    "Hypothesis: Shelbyville loves rap music. Springfield's citizens are more into pop."
   ]
  },
  {
   "cell_type": "markdown",
   "metadata": {
    "id": "DlegSvaT_Zcu"
   },
   "source": [
    "Group the `spr_general` table by genre and find the number of songs played for each genre with the `count()` method. Then sort the result in descending order and store it to `spr_genres`."
   ]
  },
  {
   "cell_type": "code",
   "execution_count": 295,
   "metadata": {
    "id": "r19lIPke_Zcu"
   },
   "outputs": [],
   "source": [
    "spr_general = spr_general.groupby('genre').count()\n",
    "spr_genres = spr_general.sort_values(by='genre', ascending= False)\n",
    "\n",
    "# on one line: group the spr_general table by the 'genre' column, \n",
    "# count the 'genre' values with count() in the grouping, \n",
    "# sort the resulting Series in descending order, and store it to spr_genres"
   ]
  },
  {
   "cell_type": "markdown",
   "metadata": {
    "id": "6kMuomxTiIr8"
   },
   "source": [
    "Print the first 10 rows from `spr_genres`:"
   ]
  },
  {
   "cell_type": "code",
   "execution_count": 296,
   "metadata": {
    "id": "WhCSooF8_Zcv"
   },
   "outputs": [
    {
     "data": {
      "text/html": [
       "<div>\n",
       "<style scoped>\n",
       "    .dataframe tbody tr th:only-of-type {\n",
       "        vertical-align: middle;\n",
       "    }\n",
       "\n",
       "    .dataframe tbody tr th {\n",
       "        vertical-align: top;\n",
       "    }\n",
       "\n",
       "    .dataframe thead th {\n",
       "        text-align: right;\n",
       "    }\n",
       "</style>\n",
       "<table border=\"1\" class=\"dataframe\">\n",
       "  <thead>\n",
       "    <tr style=\"text-align: right;\">\n",
       "      <th></th>\n",
       "      <th>user_id</th>\n",
       "      <th>track</th>\n",
       "      <th>artist</th>\n",
       "      <th>city</th>\n",
       "      <th>time</th>\n",
       "      <th>day</th>\n",
       "    </tr>\n",
       "    <tr>\n",
       "      <th>genre</th>\n",
       "      <th></th>\n",
       "      <th></th>\n",
       "      <th></th>\n",
       "      <th></th>\n",
       "      <th></th>\n",
       "      <th></th>\n",
       "    </tr>\n",
       "  </thead>\n",
       "  <tbody>\n",
       "    <tr>\n",
       "      <th>ïîï</th>\n",
       "      <td>1</td>\n",
       "      <td>1</td>\n",
       "      <td>1</td>\n",
       "      <td>1</td>\n",
       "      <td>1</td>\n",
       "      <td>1</td>\n",
       "    </tr>\n",
       "    <tr>\n",
       "      <th>worldbeat</th>\n",
       "      <td>1</td>\n",
       "      <td>1</td>\n",
       "      <td>1</td>\n",
       "      <td>1</td>\n",
       "      <td>1</td>\n",
       "      <td>1</td>\n",
       "    </tr>\n",
       "    <tr>\n",
       "      <th>world</th>\n",
       "      <td>1432</td>\n",
       "      <td>1432</td>\n",
       "      <td>1432</td>\n",
       "      <td>1432</td>\n",
       "      <td>1432</td>\n",
       "      <td>1432</td>\n",
       "    </tr>\n",
       "    <tr>\n",
       "      <th>western</th>\n",
       "      <td>64</td>\n",
       "      <td>64</td>\n",
       "      <td>64</td>\n",
       "      <td>64</td>\n",
       "      <td>64</td>\n",
       "      <td>64</td>\n",
       "    </tr>\n",
       "    <tr>\n",
       "      <th>vocal</th>\n",
       "      <td>68</td>\n",
       "      <td>68</td>\n",
       "      <td>68</td>\n",
       "      <td>68</td>\n",
       "      <td>68</td>\n",
       "      <td>68</td>\n",
       "    </tr>\n",
       "    <tr>\n",
       "      <th>videogame</th>\n",
       "      <td>66</td>\n",
       "      <td>66</td>\n",
       "      <td>66</td>\n",
       "      <td>66</td>\n",
       "      <td>66</td>\n",
       "      <td>66</td>\n",
       "    </tr>\n",
       "    <tr>\n",
       "      <th>vi</th>\n",
       "      <td>2</td>\n",
       "      <td>2</td>\n",
       "      <td>2</td>\n",
       "      <td>2</td>\n",
       "      <td>2</td>\n",
       "      <td>2</td>\n",
       "    </tr>\n",
       "    <tr>\n",
       "      <th>variété</th>\n",
       "      <td>24</td>\n",
       "      <td>24</td>\n",
       "      <td>24</td>\n",
       "      <td>24</td>\n",
       "      <td>24</td>\n",
       "      <td>24</td>\n",
       "    </tr>\n",
       "    <tr>\n",
       "      <th>uzbek</th>\n",
       "      <td>16</td>\n",
       "      <td>16</td>\n",
       "      <td>16</td>\n",
       "      <td>16</td>\n",
       "      <td>16</td>\n",
       "      <td>16</td>\n",
       "    </tr>\n",
       "    <tr>\n",
       "      <th>urban</th>\n",
       "      <td>158</td>\n",
       "      <td>158</td>\n",
       "      <td>158</td>\n",
       "      <td>158</td>\n",
       "      <td>158</td>\n",
       "      <td>158</td>\n",
       "    </tr>\n",
       "  </tbody>\n",
       "</table>\n",
       "</div>"
      ],
      "text/plain": [
       "           user_id  track  artist  city  time   day\n",
       "genre                                              \n",
       "ïîï              1      1       1     1     1     1\n",
       "worldbeat        1      1       1     1     1     1\n",
       "world         1432   1432    1432  1432  1432  1432\n",
       "western         64     64      64    64    64    64\n",
       "vocal           68     68      68    68    68    68\n",
       "videogame       66     66      66    66    66    66\n",
       "vi               2      2       2     2     2     2\n",
       "variété         24     24      24    24    24    24\n",
       "uzbek           16     16      16    16    16    16\n",
       "urban          158    158     158   158   158   158"
      ]
     },
     "execution_count": 296,
     "metadata": {},
     "output_type": "execute_result"
    }
   ],
   "source": [
    "spr_genres.head(10) # printing the first 10 rows of spr_genres"
   ]
  },
  {
   "cell_type": "markdown",
   "metadata": {
    "id": "cnPG2vnN_Zcv"
   },
   "source": [
    "Now do the same with the data on Shelbyville.\n",
    "\n",
    "Group the `shel_general` table by genre and find the number of songs played for each genre. Then sort the result in descending order and store it to the `shel_genres` table:\n"
   ]
  },
  {
   "cell_type": "code",
   "execution_count": 297,
   "metadata": {
    "id": "gluLIpE7_Zcv"
   },
   "outputs": [],
   "source": [
    "shshel_general.groupby('genre').count()\n",
    "shel_genres = shel_general.sort_values(by='genre',ascending= False)\n",
    "# on one line: group the shel_general table by the 'genre' column, \n",
    "# count the 'genre' values in the grouping with count(), \n",
    "# sort the resulting Series in descending order and store it to shel_genres"
   ]
  },
  {
   "cell_type": "markdown",
   "metadata": {
    "id": "5Doha_ODgyQ8"
   },
   "source": [
    "Print the first 10 rows of `shel_genres`:"
   ]
  },
  {
   "cell_type": "code",
   "execution_count": 298,
   "metadata": {
    "id": "uaGJHjVU_Zcv"
   },
   "outputs": [
    {
     "data": {
      "text/html": [
       "<div>\n",
       "<style scoped>\n",
       "    .dataframe tbody tr th:only-of-type {\n",
       "        vertical-align: middle;\n",
       "    }\n",
       "\n",
       "    .dataframe tbody tr th {\n",
       "        vertical-align: top;\n",
       "    }\n",
       "\n",
       "    .dataframe thead th {\n",
       "        text-align: right;\n",
       "    }\n",
       "</style>\n",
       "<table border=\"1\" class=\"dataframe\">\n",
       "  <thead>\n",
       "    <tr style=\"text-align: right;\">\n",
       "      <th></th>\n",
       "      <th>user_id</th>\n",
       "      <th>track</th>\n",
       "      <th>artist</th>\n",
       "      <th>genre</th>\n",
       "      <th>city</th>\n",
       "      <th>time</th>\n",
       "      <th>day</th>\n",
       "    </tr>\n",
       "  </thead>\n",
       "  <tbody>\n",
       "    <tr>\n",
       "      <th>39063</th>\n",
       "      <td>AA1730E8</td>\n",
       "      <td>Anu</td>\n",
       "      <td>Kailash Kokopelli</td>\n",
       "      <td>worldbeat</td>\n",
       "      <td>Shelbyville</td>\n",
       "      <td>20:16:34</td>\n",
       "      <td>Wednesday</td>\n",
       "    </tr>\n",
       "    <tr>\n",
       "      <th>29064</th>\n",
       "      <td>632BFBA5</td>\n",
       "      <td>unknown</td>\n",
       "      <td>unknown</td>\n",
       "      <td>world</td>\n",
       "      <td>Shelbyville</td>\n",
       "      <td>14:10:41</td>\n",
       "      <td>Wednesday</td>\n",
       "    </tr>\n",
       "    <tr>\n",
       "      <th>36939</th>\n",
       "      <td>E1192973</td>\n",
       "      <td>Black Skinhead</td>\n",
       "      <td>Pop beatz</td>\n",
       "      <td>world</td>\n",
       "      <td>Shelbyville</td>\n",
       "      <td>21:48:16</td>\n",
       "      <td>Monday</td>\n",
       "    </tr>\n",
       "    <tr>\n",
       "      <th>50620</th>\n",
       "      <td>4D0EF935</td>\n",
       "      <td>Fraser's Jig</td>\n",
       "      <td>Arany Zoltán</td>\n",
       "      <td>world</td>\n",
       "      <td>Shelbyville</td>\n",
       "      <td>08:37:52</td>\n",
       "      <td>Wednesday</td>\n",
       "    </tr>\n",
       "    <tr>\n",
       "      <th>52027</th>\n",
       "      <td>C885AB0</td>\n",
       "      <td>Habibi Ya Eyni</td>\n",
       "      <td>Fifi Abdo</td>\n",
       "      <td>world</td>\n",
       "      <td>Shelbyville</td>\n",
       "      <td>14:47:56</td>\n",
       "      <td>Wednesday</td>\n",
       "    </tr>\n",
       "    <tr>\n",
       "      <th>45915</th>\n",
       "      <td>B5B6FE0A</td>\n",
       "      <td>Sade</td>\n",
       "      <td>Badmos</td>\n",
       "      <td>world</td>\n",
       "      <td>Shelbyville</td>\n",
       "      <td>09:03:38</td>\n",
       "      <td>Monday</td>\n",
       "    </tr>\n",
       "    <tr>\n",
       "      <th>1319</th>\n",
       "      <td>669F0469</td>\n",
       "      <td>Bella Ciao</td>\n",
       "      <td>Diego Moreno</td>\n",
       "      <td>world</td>\n",
       "      <td>Shelbyville</td>\n",
       "      <td>14:07:55</td>\n",
       "      <td>Wednesday</td>\n",
       "    </tr>\n",
       "    <tr>\n",
       "      <th>1316</th>\n",
       "      <td>BC2EFA01</td>\n",
       "      <td>Ya Reytni Ana Wala Inti</td>\n",
       "      <td>Assi Al Hillani</td>\n",
       "      <td>world</td>\n",
       "      <td>Shelbyville</td>\n",
       "      <td>21:42:10</td>\n",
       "      <td>Monday</td>\n",
       "    </tr>\n",
       "    <tr>\n",
       "      <th>38111</th>\n",
       "      <td>A9B23A06</td>\n",
       "      <td>Sanson Ki Mala</td>\n",
       "      <td>Adel Farooq</td>\n",
       "      <td>world</td>\n",
       "      <td>Shelbyville</td>\n",
       "      <td>20:08:11</td>\n",
       "      <td>Monday</td>\n",
       "    </tr>\n",
       "    <tr>\n",
       "      <th>32797</th>\n",
       "      <td>D722E48C</td>\n",
       "      <td>La Dama d'Aragó</td>\n",
       "      <td>Barcelona Gipsy Klezmer Orchestra</td>\n",
       "      <td>world</td>\n",
       "      <td>Shelbyville</td>\n",
       "      <td>13:01:54</td>\n",
       "      <td>Wednesday</td>\n",
       "    </tr>\n",
       "  </tbody>\n",
       "</table>\n",
       "</div>"
      ],
      "text/plain": [
       "        user_id                    track                             artist  \\\n",
       "39063  AA1730E8                      Anu                  Kailash Kokopelli   \n",
       "29064  632BFBA5                  unknown                            unknown   \n",
       "36939  E1192973           Black Skinhead                          Pop beatz   \n",
       "50620  4D0EF935             Fraser's Jig                       Arany Zoltán   \n",
       "52027   C885AB0           Habibi Ya Eyni                          Fifi Abdo   \n",
       "45915  B5B6FE0A                     Sade                             Badmos   \n",
       "1319   669F0469               Bella Ciao                       Diego Moreno   \n",
       "1316   BC2EFA01  Ya Reytni Ana Wala Inti                    Assi Al Hillani   \n",
       "38111  A9B23A06           Sanson Ki Mala                        Adel Farooq   \n",
       "32797  D722E48C          La Dama d'Aragó  Barcelona Gipsy Klezmer Orchestra   \n",
       "\n",
       "           genre         city      time        day  \n",
       "39063  worldbeat  Shelbyville  20:16:34  Wednesday  \n",
       "29064      world  Shelbyville  14:10:41  Wednesday  \n",
       "36939      world  Shelbyville  21:48:16     Monday  \n",
       "50620      world  Shelbyville  08:37:52  Wednesday  \n",
       "52027      world  Shelbyville  14:47:56  Wednesday  \n",
       "45915      world  Shelbyville  09:03:38     Monday  \n",
       "1319       world  Shelbyville  14:07:55  Wednesday  \n",
       "1316       world  Shelbyville  21:42:10     Monday  \n",
       "38111      world  Shelbyville  20:08:11     Monday  \n",
       "32797      world  Shelbyville  13:01:54  Wednesday  "
      ]
     },
     "execution_count": 298,
     "metadata": {},
     "output_type": "execute_result"
    }
   ],
   "source": [
    "shel_genres.head(10)\n",
    "# printing the first 10 rows from shel_genres"
   ]
  },
  {
   "cell_type": "markdown",
   "metadata": {
    "id": "RY51YJYu_Zcv"
   },
   "source": [
    "**Conclusion**"
   ]
  },
  {
   "cell_type": "markdown",
   "metadata": {
    "id": "nVhnJEm__Zcv"
   },
   "source": [
    "The hypothesis has been partially proven true:\n",
    "* Pop music is the most popular genre in Springfield, as expected.\n",
    "* However, pop music turned out to be equally popular in Springfield and Shelbyville, and rap wasn't in the top 5 for either city.\n"
   ]
  },
  {
   "cell_type": "markdown",
   "metadata": {
    "id": "Byr0RfpPVz14"
   },
   "source": [
    "[Back to Contents](#back)"
   ]
  },
  {
   "cell_type": "markdown",
   "metadata": {
    "id": "ykKQ0N65_Zcv"
   },
   "source": [
    "# Findings <a id='end'></a>"
   ]
  },
  {
   "cell_type": "markdown",
   "metadata": {
    "id": "tjUwbHb3_Zcv"
   },
   "source": [
    "We have tested the following three hypotheses:\n",
    "\n",
    "1. User activity differs depending on the day of the week and from city to city. \n",
    "2. On Monday mornings, Springfield and Shelbyville residents listen to different genres. This is also true for Friday evenings. \n",
    "3. Springfield and Shelbyville listeners have different preferences. In both Springfield and Shelbyville, they prefer pop.\n",
    "\n",
    "After analyzing the data, we concluded:\n",
    "\n",
    "1. User activity in Springfield and Shelbyville depends on the day of the week, though the cities vary in different ways. \n",
    "\n",
    "The first hypothesis is fully accepted.\n",
    "\n",
    "2. Musical preferences do not vary significantly over the course of the week in both Springfield and Shelbyville. We can see small differences in order on Mondays, but:\n",
    "* In Springfield and Shelbyville, people listen to pop music most.\n",
    "\n",
    "So we can't accept this hypothesis. We must also keep in mind that the result could have been different if not for the missing values.\n",
    "\n",
    "3. It turns out that the musical preferences of users from Springfield and Shelbyville are quite similar.\n",
    "\n",
    "The third hypothesis is rejected. If there is any difference in preferences, it cannot be seen from this data.\n",
    "\n",
    "### Note \n",
    "In real projects, research involves statistical hypothesis testing, which is more precise and more quantitative. Also note that you cannot always draw conclusions about an entire city based on the data from just one source.\n",
    "\n",
    "You will study hypothesis testing in the sprint on statistical data analysis."
   ]
  },
  {
   "cell_type": "markdown",
   "metadata": {
    "id": "Ju4AHDSgV1FE"
   },
   "source": [
    "[Back to Contents](#back)"
   ]
  }
 ],
 "metadata": {
  "ExecuteTimeLog": [
   {
    "duration": 367,
    "start_time": "2022-05-09T20:49:09.529Z"
   },
   {
    "duration": 69,
    "start_time": "2022-05-09T20:50:15.386Z"
   },
   {
    "duration": 7,
    "start_time": "2022-05-09T20:50:46.687Z"
   },
   {
    "duration": 199,
    "start_time": "2022-05-09T20:50:59.499Z"
   },
   {
    "duration": 6,
    "start_time": "2022-05-09T20:51:05.222Z"
   },
   {
    "duration": 3,
    "start_time": "2022-05-09T20:53:07.287Z"
   },
   {
    "duration": 34,
    "start_time": "2022-05-09T20:54:08.153Z"
   },
   {
    "duration": 33,
    "start_time": "2022-05-09T20:54:20.624Z"
   },
   {
    "duration": 156,
    "start_time": "2022-05-09T20:54:25.540Z"
   },
   {
    "duration": 161,
    "start_time": "2022-05-09T20:54:33.491Z"
   },
   {
    "duration": 10,
    "start_time": "2022-05-09T20:56:33.900Z"
   },
   {
    "duration": 15,
    "start_time": "2022-05-09T20:56:47.328Z"
   },
   {
    "duration": 10,
    "start_time": "2022-05-09T20:57:24.939Z"
   },
   {
    "duration": 8,
    "start_time": "2022-05-09T20:57:30.140Z"
   },
   {
    "duration": 10,
    "start_time": "2022-05-09T20:58:12.222Z"
   },
   {
    "duration": 7,
    "start_time": "2022-05-09T20:58:37.322Z"
   },
   {
    "duration": 5,
    "start_time": "2022-05-09T20:58:54.682Z"
   },
   {
    "duration": 4,
    "start_time": "2022-05-09T21:04:06.921Z"
   },
   {
    "duration": 10,
    "start_time": "2022-05-09T21:06:33.991Z"
   },
   {
    "duration": 4,
    "start_time": "2022-05-09T21:06:42.346Z"
   },
   {
    "duration": 44,
    "start_time": "2022-05-09T21:08:47.773Z"
   },
   {
    "duration": 25,
    "start_time": "2022-05-09T21:10:22.570Z"
   },
   {
    "duration": 55,
    "start_time": "2022-05-17T20:04:43.876Z"
   },
   {
    "duration": 837,
    "start_time": "2022-05-17T20:05:16.907Z"
   },
   {
    "duration": 515,
    "start_time": "2022-05-17T20:05:17.745Z"
   },
   {
    "duration": 0,
    "start_time": "2022-05-17T20:05:18.262Z"
   },
   {
    "duration": 0,
    "start_time": "2022-05-17T20:05:18.263Z"
   },
   {
    "duration": 0,
    "start_time": "2022-05-17T20:05:18.264Z"
   },
   {
    "duration": 0,
    "start_time": "2022-05-17T20:05:18.265Z"
   },
   {
    "duration": 0,
    "start_time": "2022-05-17T20:05:18.266Z"
   },
   {
    "duration": 0,
    "start_time": "2022-05-17T20:05:18.267Z"
   },
   {
    "duration": 0,
    "start_time": "2022-05-17T20:05:18.268Z"
   },
   {
    "duration": 0,
    "start_time": "2022-05-17T20:05:18.269Z"
   },
   {
    "duration": 0,
    "start_time": "2022-05-17T20:05:18.269Z"
   },
   {
    "duration": 0,
    "start_time": "2022-05-17T20:05:18.270Z"
   },
   {
    "duration": 0,
    "start_time": "2022-05-17T20:05:18.271Z"
   },
   {
    "duration": 0,
    "start_time": "2022-05-17T20:05:18.272Z"
   },
   {
    "duration": 0,
    "start_time": "2022-05-17T20:05:18.273Z"
   },
   {
    "duration": 0,
    "start_time": "2022-05-17T20:05:18.274Z"
   },
   {
    "duration": 0,
    "start_time": "2022-05-17T20:05:18.275Z"
   },
   {
    "duration": 0,
    "start_time": "2022-05-17T20:05:18.276Z"
   },
   {
    "duration": 0,
    "start_time": "2022-05-17T20:05:18.277Z"
   },
   {
    "duration": 0,
    "start_time": "2022-05-17T20:05:18.279Z"
   },
   {
    "duration": 0,
    "start_time": "2022-05-17T20:05:18.280Z"
   },
   {
    "duration": 0,
    "start_time": "2022-05-17T20:05:18.281Z"
   },
   {
    "duration": 0,
    "start_time": "2022-05-17T20:05:18.282Z"
   },
   {
    "duration": 0,
    "start_time": "2022-05-17T20:05:18.282Z"
   },
   {
    "duration": 0,
    "start_time": "2022-05-17T20:05:18.284Z"
   },
   {
    "duration": 0,
    "start_time": "2022-05-17T20:05:18.285Z"
   },
   {
    "duration": 0,
    "start_time": "2022-05-17T20:05:18.286Z"
   },
   {
    "duration": 0,
    "start_time": "2022-05-17T20:05:18.287Z"
   },
   {
    "duration": 0,
    "start_time": "2022-05-17T20:05:18.288Z"
   },
   {
    "duration": 0,
    "start_time": "2022-05-17T20:05:18.289Z"
   },
   {
    "duration": 0,
    "start_time": "2022-05-17T20:05:18.289Z"
   },
   {
    "duration": 0,
    "start_time": "2022-05-17T20:05:18.290Z"
   },
   {
    "duration": 0,
    "start_time": "2022-05-17T20:05:18.327Z"
   },
   {
    "duration": 0,
    "start_time": "2022-05-17T20:05:18.328Z"
   },
   {
    "duration": 0,
    "start_time": "2022-05-17T20:05:18.329Z"
   },
   {
    "duration": 0,
    "start_time": "2022-05-17T20:05:18.329Z"
   },
   {
    "duration": 0,
    "start_time": "2022-05-17T20:05:18.330Z"
   },
   {
    "duration": 0,
    "start_time": "2022-05-17T20:05:18.331Z"
   },
   {
    "duration": 8,
    "start_time": "2022-05-17T20:05:35.555Z"
   },
   {
    "duration": 3,
    "start_time": "2022-05-17T20:05:50.892Z"
   },
   {
    "duration": 3,
    "start_time": "2022-05-17T20:06:00.590Z"
   },
   {
    "duration": 173,
    "start_time": "2022-05-17T20:06:02.212Z"
   },
   {
    "duration": 6,
    "start_time": "2022-05-17T20:06:02.871Z"
   },
   {
    "duration": 178,
    "start_time": "2022-05-17T20:06:06.406Z"
   },
   {
    "duration": 7,
    "start_time": "2022-05-17T20:06:15.126Z"
   },
   {
    "duration": 155,
    "start_time": "2022-05-17T20:06:38.297Z"
   },
   {
    "duration": 16,
    "start_time": "2022-05-17T20:06:40.644Z"
   },
   {
    "duration": 5,
    "start_time": "2022-05-17T20:06:42.028Z"
   },
   {
    "duration": 5,
    "start_time": "2022-05-17T20:06:44.718Z"
   },
   {
    "duration": 7,
    "start_time": "2022-05-17T20:06:46.156Z"
   },
   {
    "duration": 3,
    "start_time": "2022-05-17T20:06:47.422Z"
   },
   {
    "duration": 23,
    "start_time": "2022-05-17T20:06:49.160Z"
   },
   {
    "duration": 3,
    "start_time": "2022-05-17T20:06:51.718Z"
   },
   {
    "duration": 5,
    "start_time": "2022-05-17T20:07:00.148Z"
   },
   {
    "duration": 10,
    "start_time": "2022-05-17T20:10:18.858Z"
   },
   {
    "duration": 8,
    "start_time": "2022-05-17T20:10:51.159Z"
   },
   {
    "duration": 7,
    "start_time": "2022-05-17T20:10:59.238Z"
   },
   {
    "duration": 13,
    "start_time": "2022-05-17T20:11:30.188Z"
   },
   {
    "duration": 12,
    "start_time": "2022-05-17T20:11:41.117Z"
   },
   {
    "duration": 12,
    "start_time": "2022-05-17T20:11:46.401Z"
   },
   {
    "duration": 7,
    "start_time": "2022-05-17T20:12:24.949Z"
   },
   {
    "duration": 8,
    "start_time": "2022-05-17T20:18:42.087Z"
   },
   {
    "duration": 7,
    "start_time": "2022-05-17T20:20:48.617Z"
   },
   {
    "duration": 7,
    "start_time": "2022-05-17T20:21:30.934Z"
   },
   {
    "duration": 7,
    "start_time": "2022-05-17T20:21:36.623Z"
   },
   {
    "duration": 50,
    "start_time": "2022-05-17T20:22:08.619Z"
   },
   {
    "duration": 49,
    "start_time": "2022-05-17T20:22:11.446Z"
   },
   {
    "duration": 69,
    "start_time": "2022-05-17T20:23:15.067Z"
   },
   {
    "duration": 50,
    "start_time": "2022-05-17T20:23:16.090Z"
   },
   {
    "duration": 59,
    "start_time": "2022-05-17T20:23:22.100Z"
   },
   {
    "duration": 14,
    "start_time": "2022-05-17T20:24:18.510Z"
   },
   {
    "duration": 19,
    "start_time": "2022-05-17T20:24:29.993Z"
   },
   {
    "duration": 36,
    "start_time": "2022-05-17T20:25:17.575Z"
   },
   {
    "duration": 26,
    "start_time": "2022-05-17T20:26:02.447Z"
   },
   {
    "duration": 36,
    "start_time": "2022-05-17T20:26:17.350Z"
   },
   {
    "duration": 23,
    "start_time": "2022-05-17T20:26:39.798Z"
   },
   {
    "duration": 59,
    "start_time": "2022-05-17T20:28:00.837Z"
   },
   {
    "duration": 64,
    "start_time": "2022-05-17T20:28:58.906Z"
   },
   {
    "duration": 51,
    "start_time": "2022-05-17T20:29:13.733Z"
   },
   {
    "duration": 10,
    "start_time": "2022-05-17T20:30:14.293Z"
   },
   {
    "duration": 6,
    "start_time": "2022-05-17T20:31:36.210Z"
   },
   {
    "duration": 6,
    "start_time": "2022-05-17T20:31:41.762Z"
   },
   {
    "duration": 8,
    "start_time": "2022-05-17T20:32:34.529Z"
   },
   {
    "duration": 8,
    "start_time": "2022-05-17T20:32:51.138Z"
   },
   {
    "duration": 52,
    "start_time": "2022-05-17T20:34:42.969Z"
   },
   {
    "duration": 50,
    "start_time": "2022-05-17T20:35:46.593Z"
   },
   {
    "duration": 45,
    "start_time": "2022-05-17T20:35:54.293Z"
   },
   {
    "duration": 41,
    "start_time": "2022-05-17T20:36:05.870Z"
   },
   {
    "duration": 9,
    "start_time": "2022-05-17T20:41:18.348Z"
   },
   {
    "duration": 25,
    "start_time": "2022-05-17T20:42:01.954Z"
   },
   {
    "duration": 10,
    "start_time": "2022-05-17T20:42:09.099Z"
   },
   {
    "duration": 45,
    "start_time": "2022-05-17T20:42:28.174Z"
   },
   {
    "duration": 10,
    "start_time": "2022-05-17T20:43:17.804Z"
   },
   {
    "duration": 3,
    "start_time": "2022-05-17T20:43:52.298Z"
   },
   {
    "duration": 9,
    "start_time": "2022-05-17T20:43:54.308Z"
   },
   {
    "duration": 7,
    "start_time": "2022-05-17T20:44:36.963Z"
   },
   {
    "duration": 39,
    "start_time": "2022-05-17T20:58:56.208Z"
   },
   {
    "duration": 38,
    "start_time": "2022-05-17T20:59:58.054Z"
   },
   {
    "duration": 14,
    "start_time": "2022-05-17T21:00:03.886Z"
   },
   {
    "duration": 10,
    "start_time": "2022-05-17T21:01:52.333Z"
   },
   {
    "duration": 11,
    "start_time": "2022-05-17T21:02:05.955Z"
   },
   {
    "duration": 9,
    "start_time": "2022-05-17T21:02:33.446Z"
   },
   {
    "duration": 8,
    "start_time": "2022-05-17T21:02:51.787Z"
   },
   {
    "duration": 10,
    "start_time": "2022-05-17T21:03:01.109Z"
   },
   {
    "duration": 6,
    "start_time": "2022-05-17T21:03:12.108Z"
   },
   {
    "duration": 4,
    "start_time": "2022-05-17T21:04:15.245Z"
   },
   {
    "duration": 8,
    "start_time": "2022-05-17T21:04:23.661Z"
   },
   {
    "duration": 3,
    "start_time": "2022-05-17T21:04:28.759Z"
   },
   {
    "duration": 3,
    "start_time": "2022-05-17T21:04:31.157Z"
   },
   {
    "duration": 3,
    "start_time": "2022-05-17T21:04:39.602Z"
   },
   {
    "duration": 9,
    "start_time": "2022-05-17T21:05:02.288Z"
   },
   {
    "duration": 8,
    "start_time": "2022-05-17T21:05:13.067Z"
   },
   {
    "duration": 8,
    "start_time": "2022-05-17T21:05:35.066Z"
   },
   {
    "duration": 12,
    "start_time": "2022-05-17T21:05:48.784Z"
   },
   {
    "duration": 4,
    "start_time": "2022-05-17T21:06:04.853Z"
   },
   {
    "duration": 9,
    "start_time": "2022-05-17T21:06:10.572Z"
   },
   {
    "duration": 9,
    "start_time": "2022-05-17T21:06:23.311Z"
   },
   {
    "duration": 8,
    "start_time": "2022-05-17T21:06:33.336Z"
   },
   {
    "duration": 8,
    "start_time": "2022-05-17T21:07:40.480Z"
   },
   {
    "duration": 41,
    "start_time": "2022-05-17T21:07:52.663Z"
   },
   {
    "duration": 21,
    "start_time": "2022-05-17T21:08:15.588Z"
   },
   {
    "duration": 47,
    "start_time": "2022-05-17T21:23:06.260Z"
   },
   {
    "duration": 4,
    "start_time": "2022-05-17T21:24:39.744Z"
   },
   {
    "duration": 11,
    "start_time": "2022-05-17T21:24:47.569Z"
   },
   {
    "duration": 24,
    "start_time": "2022-05-17T21:25:03.023Z"
   },
   {
    "duration": 594,
    "start_time": "2022-05-17T21:25:36.725Z"
   },
   {
    "duration": 12,
    "start_time": "2022-05-17T21:25:41.807Z"
   },
   {
    "duration": 5,
    "start_time": "2022-05-17T21:27:24.262Z"
   },
   {
    "duration": 4,
    "start_time": "2022-05-17T21:27:34.752Z"
   },
   {
    "duration": 78,
    "start_time": "2022-05-17T21:30:13.293Z"
   },
   {
    "duration": 7916,
    "start_time": "2022-05-17T21:30:37.921Z"
   },
   {
    "duration": 85,
    "start_time": "2022-05-17T21:32:49.498Z"
   },
   {
    "duration": 455,
    "start_time": "2022-05-17T21:32:58.810Z"
   },
   {
    "duration": 181,
    "start_time": "2022-05-17T21:32:59.266Z"
   },
   {
    "duration": 22,
    "start_time": "2022-05-17T21:32:59.449Z"
   },
   {
    "duration": 5,
    "start_time": "2022-05-17T21:32:59.739Z"
   },
   {
    "duration": 6,
    "start_time": "2022-05-17T21:33:00.808Z"
   },
   {
    "duration": 11,
    "start_time": "2022-05-17T21:33:01.043Z"
   },
   {
    "duration": 4,
    "start_time": "2022-05-17T21:33:01.383Z"
   },
   {
    "duration": 28,
    "start_time": "2022-05-17T21:33:01.911Z"
   },
   {
    "duration": 19,
    "start_time": "2022-05-17T21:33:02.439Z"
   },
   {
    "duration": 23,
    "start_time": "2022-05-17T21:33:04.123Z"
   },
   {
    "duration": 62,
    "start_time": "2022-05-17T21:33:04.787Z"
   },
   {
    "duration": 70,
    "start_time": "2022-05-17T21:33:05.140Z"
   },
   {
    "duration": 59,
    "start_time": "2022-05-17T21:33:05.494Z"
   },
   {
    "duration": 60,
    "start_time": "2022-05-17T21:33:06.004Z"
   },
   {
    "duration": 3,
    "start_time": "2022-05-17T21:33:06.540Z"
   },
   {
    "duration": 15,
    "start_time": "2022-05-17T21:33:07.237Z"
   },
   {
    "duration": 9,
    "start_time": "2022-05-17T21:33:07.879Z"
   },
   {
    "duration": 15,
    "start_time": "2022-05-17T21:33:09.313Z"
   },
   {
    "duration": 14,
    "start_time": "2022-05-17T21:33:09.685Z"
   },
   {
    "duration": 7859,
    "start_time": "2022-05-17T21:33:14.423Z"
   },
   {
    "duration": 14471,
    "start_time": "2022-05-17T21:33:28.004Z"
   },
   {
    "duration": 8,
    "start_time": "2022-05-17T21:34:42.037Z"
   },
   {
    "duration": 27,
    "start_time": "2022-05-17T21:34:55.232Z"
   },
   {
    "duration": 4,
    "start_time": "2022-05-17T21:34:58.259Z"
   },
   {
    "duration": 4,
    "start_time": "2022-05-17T21:44:12.839Z"
   },
   {
    "duration": 5,
    "start_time": "2022-05-17T21:44:50.545Z"
   },
   {
    "duration": 6607,
    "start_time": "2022-05-17T21:45:08.704Z"
   },
   {
    "duration": 5540,
    "start_time": "2022-05-17T21:45:47.860Z"
   },
   {
    "duration": 52,
    "start_time": "2022-05-17T21:46:51.368Z"
   },
   {
    "duration": 33,
    "start_time": "2022-05-17T21:47:07.127Z"
   },
   {
    "duration": 6633,
    "start_time": "2022-05-17T21:47:15.214Z"
   },
   {
    "duration": 6643,
    "start_time": "2022-05-17T21:47:58.237Z"
   },
   {
    "duration": 6782,
    "start_time": "2022-05-17T21:48:18.025Z"
   },
   {
    "duration": 6535,
    "start_time": "2022-05-17T21:50:23.312Z"
   },
   {
    "duration": 6379,
    "start_time": "2022-05-17T21:54:08.478Z"
   },
   {
    "duration": 6499,
    "start_time": "2022-05-17T21:54:43.338Z"
   },
   {
    "duration": 5,
    "start_time": "2022-05-17T21:56:11.323Z"
   },
   {
    "duration": 16,
    "start_time": "2022-05-17T21:56:25.195Z"
   },
   {
    "duration": 16,
    "start_time": "2022-05-17T21:57:40.808Z"
   },
   {
    "duration": 52,
    "start_time": "2022-05-17T21:57:58.628Z"
   },
   {
    "duration": 48,
    "start_time": "2022-05-17T21:58:14.836Z"
   },
   {
    "duration": 28,
    "start_time": "2022-05-17T21:58:26.270Z"
   },
   {
    "duration": 48,
    "start_time": "2022-05-17T21:58:47.298Z"
   },
   {
    "duration": 46,
    "start_time": "2022-05-17T21:59:36.789Z"
   },
   {
    "duration": 57,
    "start_time": "2022-05-17T21:59:47.195Z"
   },
   {
    "duration": 26,
    "start_time": "2022-05-17T22:00:05.561Z"
   },
   {
    "duration": 48,
    "start_time": "2022-05-17T22:00:56.870Z"
   },
   {
    "duration": 11,
    "start_time": "2022-05-17T22:01:04.234Z"
   },
   {
    "duration": 4,
    "start_time": "2022-05-17T22:01:10.780Z"
   },
   {
    "duration": 41,
    "start_time": "2022-05-17T22:01:17.430Z"
   },
   {
    "duration": 42,
    "start_time": "2022-05-17T22:01:28.531Z"
   },
   {
    "duration": 22,
    "start_time": "2022-05-17T22:01:36.640Z"
   },
   {
    "duration": 5,
    "start_time": "2022-05-17T22:01:39.650Z"
   },
   {
    "duration": 52,
    "start_time": "2022-05-17T22:01:44.621Z"
   },
   {
    "duration": 38,
    "start_time": "2022-05-17T22:02:22.997Z"
   },
   {
    "duration": 1570,
    "start_time": "2022-05-17T22:02:27.570Z"
   },
   {
    "duration": 37,
    "start_time": "2022-05-17T22:02:34.552Z"
   },
   {
    "duration": 37,
    "start_time": "2022-05-17T22:02:43.788Z"
   },
   {
    "duration": 35,
    "start_time": "2022-05-17T22:02:54.445Z"
   },
   {
    "duration": 37,
    "start_time": "2022-05-17T22:02:57.568Z"
   },
   {
    "duration": 37,
    "start_time": "2022-05-17T22:03:07.319Z"
   },
   {
    "duration": 38,
    "start_time": "2022-05-17T22:03:16.833Z"
   },
   {
    "duration": 9,
    "start_time": "2022-05-17T22:03:52.561Z"
   },
   {
    "duration": 13,
    "start_time": "2022-05-17T22:04:01.996Z"
   },
   {
    "duration": 22,
    "start_time": "2022-05-17T22:04:05.598Z"
   },
   {
    "duration": 6831,
    "start_time": "2022-05-17T22:05:12.125Z"
   },
   {
    "duration": 11351,
    "start_time": "2022-05-17T22:07:20.310Z"
   },
   {
    "duration": 6829,
    "start_time": "2022-05-17T22:07:47.765Z"
   },
   {
    "duration": 6598,
    "start_time": "2022-05-17T22:08:08.313Z"
   },
   {
    "duration": 6847,
    "start_time": "2022-05-17T22:08:58.092Z"
   },
   {
    "duration": 6893,
    "start_time": "2022-05-17T22:09:11.247Z"
   },
   {
    "duration": 3,
    "start_time": "2022-05-17T22:10:42.064Z"
   },
   {
    "duration": 2,
    "start_time": "2022-05-17T22:10:43.023Z"
   },
   {
    "duration": 6696,
    "start_time": "2022-05-17T22:11:08.122Z"
   },
   {
    "duration": 5990,
    "start_time": "2022-05-17T22:11:25.140Z"
   },
   {
    "duration": 6057,
    "start_time": "2022-05-17T22:11:31.132Z"
   },
   {
    "duration": 5830,
    "start_time": "2022-05-17T22:11:37.345Z"
   },
   {
    "duration": 6726,
    "start_time": "2022-05-17T22:11:47.165Z"
   },
   {
    "duration": 41,
    "start_time": "2022-05-17T22:11:56.306Z"
   },
   {
    "duration": 5819,
    "start_time": "2022-05-17T22:11:58.991Z"
   },
   {
    "duration": 36329,
    "start_time": "2022-05-17T22:23:47.464Z"
   },
   {
    "duration": 458,
    "start_time": "2022-05-17T22:25:13.112Z"
   },
   {
    "duration": 178,
    "start_time": "2022-05-17T22:25:13.673Z"
   },
   {
    "duration": 17,
    "start_time": "2022-05-17T22:25:13.989Z"
   },
   {
    "duration": 5,
    "start_time": "2022-05-17T22:25:14.286Z"
   },
   {
    "duration": 5,
    "start_time": "2022-05-17T22:25:15.245Z"
   },
   {
    "duration": 11,
    "start_time": "2022-05-17T22:25:15.589Z"
   },
   {
    "duration": 4,
    "start_time": "2022-05-17T22:25:15.954Z"
   },
   {
    "duration": 23,
    "start_time": "2022-05-17T22:25:16.465Z"
   },
   {
    "duration": 18,
    "start_time": "2022-05-17T22:25:17.000Z"
   },
   {
    "duration": 23,
    "start_time": "2022-05-17T22:25:17.375Z"
   },
   {
    "duration": 84,
    "start_time": "2022-05-17T22:25:17.909Z"
   },
   {
    "duration": 84,
    "start_time": "2022-05-17T22:25:18.261Z"
   },
   {
    "duration": 71,
    "start_time": "2022-05-17T22:25:18.627Z"
   },
   {
    "duration": 60,
    "start_time": "2022-05-17T22:25:19.182Z"
   },
   {
    "duration": 3,
    "start_time": "2022-05-17T22:25:19.540Z"
   },
   {
    "duration": 10,
    "start_time": "2022-05-17T22:25:20.144Z"
   },
   {
    "duration": 7,
    "start_time": "2022-05-17T22:25:20.584Z"
   },
   {
    "duration": 15,
    "start_time": "2022-05-17T22:25:25.438Z"
   },
   {
    "duration": 12,
    "start_time": "2022-05-17T22:25:25.805Z"
   },
   {
    "duration": 4,
    "start_time": "2022-05-17T22:25:26.375Z"
   },
   {
    "duration": 6,
    "start_time": "2022-05-17T22:25:26.544Z"
   },
   {
    "duration": 70,
    "start_time": "2022-05-17T22:25:26.928Z"
   },
   {
    "duration": 7,
    "start_time": "2022-05-17T22:25:27.101Z"
   },
   {
    "duration": 8,
    "start_time": "2022-05-17T22:25:27.297Z"
   },
   {
    "duration": 21,
    "start_time": "2022-05-17T22:25:27.521Z"
   },
   {
    "duration": 10,
    "start_time": "2022-05-17T22:25:33.210Z"
   },
   {
    "duration": 4,
    "start_time": "2022-05-17T22:25:44.800Z"
   },
   {
    "duration": 6364,
    "start_time": "2022-05-17T22:25:49.422Z"
   },
   {
    "duration": 5744,
    "start_time": "2022-05-17T22:25:55.787Z"
   },
   {
    "duration": 5877,
    "start_time": "2022-05-17T22:26:01.535Z"
   },
   {
    "duration": 5650,
    "start_time": "2022-05-17T22:26:07.413Z"
   },
   {
    "duration": 6548,
    "start_time": "2022-05-17T22:26:13.065Z"
   },
   {
    "duration": 5675,
    "start_time": "2022-05-17T22:26:19.615Z"
   },
   {
    "duration": 36871,
    "start_time": "2022-05-17T22:27:00.453Z"
   },
   {
    "duration": 55,
    "start_time": "2022-05-19T19:05:58.053Z"
   },
   {
    "duration": 464,
    "start_time": "2022-05-19T19:06:13.981Z"
   },
   {
    "duration": 502,
    "start_time": "2022-05-19T19:06:14.446Z"
   },
   {
    "duration": 16,
    "start_time": "2022-05-19T19:06:14.949Z"
   },
   {
    "duration": 4,
    "start_time": "2022-05-19T19:06:14.967Z"
   },
   {
    "duration": 5,
    "start_time": "2022-05-19T19:06:15.957Z"
   },
   {
    "duration": 11,
    "start_time": "2022-05-19T19:06:17.471Z"
   },
   {
    "duration": 4,
    "start_time": "2022-05-19T19:06:17.885Z"
   },
   {
    "duration": 23,
    "start_time": "2022-05-19T19:06:18.415Z"
   },
   {
    "duration": 18,
    "start_time": "2022-05-19T19:06:19.013Z"
   },
   {
    "duration": 23,
    "start_time": "2022-05-19T19:06:19.376Z"
   },
   {
    "duration": 63,
    "start_time": "2022-05-19T19:06:19.981Z"
   },
   {
    "duration": 67,
    "start_time": "2022-05-19T19:06:20.411Z"
   },
   {
    "duration": 55,
    "start_time": "2022-05-19T19:06:20.776Z"
   },
   {
    "duration": 49,
    "start_time": "2022-05-19T19:06:21.414Z"
   },
   {
    "duration": 4,
    "start_time": "2022-05-19T19:06:21.813Z"
   },
   {
    "duration": 9,
    "start_time": "2022-05-19T19:06:22.215Z"
   },
   {
    "duration": 7,
    "start_time": "2022-05-19T19:06:22.595Z"
   },
   {
    "duration": 15,
    "start_time": "2022-05-19T19:06:24.313Z"
   },
   {
    "duration": 13,
    "start_time": "2022-05-19T19:06:24.729Z"
   },
   {
    "duration": 5,
    "start_time": "2022-05-19T19:06:25.357Z"
   },
   {
    "duration": 4,
    "start_time": "2022-05-19T19:06:25.543Z"
   },
   {
    "duration": 6563,
    "start_time": "2022-05-19T19:06:25.963Z"
   },
   {
    "duration": 5773,
    "start_time": "2022-05-19T19:06:32.529Z"
   },
   {
    "duration": 5773,
    "start_time": "2022-05-19T19:06:38.304Z"
   },
   {
    "duration": 5633,
    "start_time": "2022-05-19T19:06:44.078Z"
   },
   {
    "duration": 6561,
    "start_time": "2022-05-19T19:06:49.713Z"
   },
   {
    "duration": 5844,
    "start_time": "2022-05-19T19:06:56.276Z"
   },
   {
    "duration": 30,
    "start_time": "2022-05-19T19:07:38.506Z"
   },
   {
    "duration": 0,
    "start_time": "2022-05-19T19:07:38.537Z"
   },
   {
    "duration": 0,
    "start_time": "2022-05-19T19:07:38.538Z"
   },
   {
    "duration": 0,
    "start_time": "2022-05-19T19:07:38.539Z"
   },
   {
    "duration": 1,
    "start_time": "2022-05-19T19:07:38.540Z"
   },
   {
    "duration": 36737,
    "start_time": "2022-05-19T19:07:49.069Z"
   },
   {
    "duration": 9,
    "start_time": "2022-05-19T19:08:30.383Z"
   },
   {
    "duration": 41,
    "start_time": "2022-05-19T19:08:39.193Z"
   },
   {
    "duration": 653,
    "start_time": "2022-05-19T19:09:04.967Z"
   },
   {
    "duration": 589,
    "start_time": "2022-05-19T19:09:25.309Z"
   },
   {
    "duration": 39,
    "start_time": "2022-05-19T19:10:07.906Z"
   },
   {
    "duration": 40,
    "start_time": "2022-05-19T19:10:19.187Z"
   },
   {
    "duration": 44,
    "start_time": "2022-05-19T19:10:27.202Z"
   },
   {
    "duration": 36,
    "start_time": "2022-05-19T19:10:39.025Z"
   },
   {
    "duration": 37,
    "start_time": "2022-05-19T19:11:02.647Z"
   },
   {
    "duration": 35,
    "start_time": "2022-05-19T19:11:28.292Z"
   },
   {
    "duration": 39,
    "start_time": "2022-05-19T19:11:36.888Z"
   },
   {
    "duration": 8,
    "start_time": "2022-05-19T19:13:38.520Z"
   },
   {
    "duration": 3,
    "start_time": "2022-05-19T19:13:46.853Z"
   },
   {
    "duration": 4,
    "start_time": "2022-05-19T19:13:51.326Z"
   },
   {
    "duration": 42,
    "start_time": "2022-05-19T19:13:56.892Z"
   },
   {
    "duration": 10,
    "start_time": "2022-05-19T19:14:08.385Z"
   },
   {
    "duration": 8,
    "start_time": "2022-05-19T19:14:16.125Z"
   },
   {
    "duration": 458,
    "start_time": "2022-05-19T19:14:24.046Z"
   },
   {
    "duration": 40,
    "start_time": "2022-05-19T19:15:28.547Z"
   },
   {
    "duration": 44,
    "start_time": "2022-05-19T19:15:47.294Z"
   },
   {
    "duration": 41,
    "start_time": "2022-05-19T19:15:59.878Z"
   },
   {
    "duration": 42,
    "start_time": "2022-05-19T19:16:06.066Z"
   },
   {
    "duration": 41,
    "start_time": "2022-05-19T19:16:12.484Z"
   },
   {
    "duration": 45,
    "start_time": "2022-05-19T19:16:19.178Z"
   },
   {
    "duration": 13,
    "start_time": "2022-05-19T19:16:43.793Z"
   },
   {
    "duration": 5,
    "start_time": "2022-05-19T19:18:21.367Z"
   },
   {
    "duration": 11,
    "start_time": "2022-05-19T19:19:04.805Z"
   },
   {
    "duration": 4,
    "start_time": "2022-05-19T19:19:09.452Z"
   },
   {
    "duration": 413,
    "start_time": "2022-05-19T19:19:38.158Z"
   },
   {
    "duration": 447,
    "start_time": "2022-05-19T19:19:54.199Z"
   },
   {
    "duration": 8,
    "start_time": "2022-05-19T19:20:27.562Z"
   },
   {
    "duration": 9,
    "start_time": "2022-05-19T19:20:33.088Z"
   },
   {
    "duration": 8,
    "start_time": "2022-05-19T19:20:50.006Z"
   },
   {
    "duration": 40,
    "start_time": "2022-05-19T19:21:22.330Z"
   },
   {
    "duration": 475,
    "start_time": "2022-05-19T19:21:40.159Z"
   },
   {
    "duration": 30,
    "start_time": "2022-05-19T19:23:55.789Z"
   },
   {
    "duration": 13,
    "start_time": "2022-05-19T19:24:18.004Z"
   },
   {
    "duration": 11,
    "start_time": "2022-05-19T19:24:30.846Z"
   },
   {
    "duration": 22,
    "start_time": "2022-05-19T19:24:57.792Z"
   },
   {
    "duration": 11,
    "start_time": "2022-05-19T19:24:58.968Z"
   },
   {
    "duration": 14,
    "start_time": "2022-05-19T19:25:05.878Z"
   },
   {
    "duration": 11,
    "start_time": "2022-05-19T19:25:06.346Z"
   },
   {
    "duration": 43,
    "start_time": "2022-05-19T19:47:42.860Z"
   },
   {
    "duration": 3,
    "start_time": "2022-05-19T19:47:44.146Z"
   },
   {
    "duration": 12,
    "start_time": "2022-05-19T19:47:44.492Z"
   },
   {
    "duration": 11,
    "start_time": "2022-05-19T19:47:44.870Z"
   },
   {
    "duration": 43,
    "start_time": "2022-05-19T19:48:18.085Z"
   },
   {
    "duration": 42,
    "start_time": "2022-05-19T19:51:56.712Z"
   },
   {
    "duration": 4,
    "start_time": "2022-05-19T19:52:17.813Z"
   },
   {
    "duration": 12,
    "start_time": "2022-05-19T19:56:48.550Z"
   },
   {
    "duration": 14,
    "start_time": "2022-05-19T19:57:12.519Z"
   },
   {
    "duration": 165,
    "start_time": "2022-05-19T19:58:22.200Z"
   },
   {
    "duration": 23,
    "start_time": "2022-05-19T19:59:08.630Z"
   },
   {
    "duration": 17,
    "start_time": "2022-05-19T19:59:29.010Z"
   },
   {
    "duration": 83,
    "start_time": "2022-05-19T20:01:15.398Z"
   },
   {
    "duration": 18,
    "start_time": "2022-05-19T20:01:29.709Z"
   },
   {
    "duration": 59,
    "start_time": "2022-05-19T20:01:42.948Z"
   },
   {
    "duration": 50,
    "start_time": "2022-05-19T20:01:54.297Z"
   },
   {
    "duration": 39,
    "start_time": "2022-05-19T20:02:27.869Z"
   },
   {
    "duration": 20,
    "start_time": "2022-05-19T20:03:06.361Z"
   },
   {
    "duration": 19,
    "start_time": "2022-05-19T20:03:17.062Z"
   },
   {
    "duration": 449,
    "start_time": "2022-05-19T20:03:44.124Z"
   },
   {
    "duration": 18,
    "start_time": "2022-05-19T20:04:04.283Z"
   },
   {
    "duration": 4,
    "start_time": "2022-05-19T20:05:33.469Z"
   },
   {
    "duration": 10,
    "start_time": "2022-05-19T20:05:44.967Z"
   },
   {
    "duration": 25,
    "start_time": "2022-05-19T20:05:54.393Z"
   },
   {
    "duration": 22,
    "start_time": "2022-05-19T20:07:15.760Z"
   },
   {
    "duration": 19,
    "start_time": "2022-05-19T20:07:25.778Z"
   },
   {
    "duration": 19,
    "start_time": "2022-05-19T20:08:26.149Z"
   },
   {
    "duration": 45,
    "start_time": "2022-05-19T20:08:50.490Z"
   },
   {
    "duration": 6,
    "start_time": "2022-05-19T20:08:56.561Z"
   },
   {
    "duration": 20,
    "start_time": "2022-05-19T20:09:10.177Z"
   },
   {
    "duration": 17,
    "start_time": "2022-05-19T20:10:09.680Z"
   },
   {
    "duration": 12,
    "start_time": "2022-05-19T20:10:31.720Z"
   },
   {
    "duration": 151,
    "start_time": "2022-05-19T20:10:54.273Z"
   },
   {
    "duration": 25,
    "start_time": "2022-05-19T20:11:15.687Z"
   },
   {
    "duration": 18,
    "start_time": "2022-05-19T20:11:33.901Z"
   },
   {
    "duration": 153,
    "start_time": "2022-05-19T20:11:57.860Z"
   },
   {
    "duration": 169,
    "start_time": "2022-05-19T20:12:10.076Z"
   },
   {
    "duration": 19,
    "start_time": "2022-05-19T20:15:29.646Z"
   },
   {
    "duration": 477,
    "start_time": "2022-05-19T20:16:27.392Z"
   },
   {
    "duration": 19,
    "start_time": "2022-05-19T20:16:48.977Z"
   },
   {
    "duration": 20,
    "start_time": "2022-05-19T20:17:00.905Z"
   },
   {
    "duration": 460,
    "start_time": "2022-05-19T20:17:18.755Z"
   },
   {
    "duration": 30,
    "start_time": "2022-05-19T20:18:50.113Z"
   },
   {
    "duration": 31,
    "start_time": "2022-05-19T20:19:02.836Z"
   },
   {
    "duration": 30,
    "start_time": "2022-05-19T20:19:12.392Z"
   },
   {
    "duration": 402,
    "start_time": "2022-05-19T20:19:44.144Z"
   },
   {
    "duration": 3079,
    "start_time": "2022-05-19T20:20:06.456Z"
   },
   {
    "duration": 36,
    "start_time": "2022-05-19T20:21:29.216Z"
   },
   {
    "duration": 162,
    "start_time": "2022-05-19T20:21:41.952Z"
   },
   {
    "duration": 604,
    "start_time": "2022-05-19T20:21:52.689Z"
   },
   {
    "duration": 668,
    "start_time": "2022-05-19T20:22:00.166Z"
   },
   {
    "duration": 434,
    "start_time": "2022-05-19T20:22:18.518Z"
   },
   {
    "duration": 26,
    "start_time": "2022-05-19T20:22:27.213Z"
   },
   {
    "duration": 21,
    "start_time": "2022-05-19T20:22:45.857Z"
   },
   {
    "duration": 29,
    "start_time": "2022-05-19T20:23:15.457Z"
   },
   {
    "duration": 28,
    "start_time": "2022-05-19T20:23:29.862Z"
   },
   {
    "duration": 44,
    "start_time": "2022-05-19T20:23:46.718Z"
   },
   {
    "duration": 445,
    "start_time": "2022-05-19T20:23:52.557Z"
   },
   {
    "duration": 446,
    "start_time": "2022-05-19T20:24:16.849Z"
   },
   {
    "duration": 455,
    "start_time": "2022-05-19T20:24:50.704Z"
   },
   {
    "duration": 31,
    "start_time": "2022-05-19T20:26:50.117Z"
   },
   {
    "duration": 594,
    "start_time": "2022-05-19T20:27:22.881Z"
   },
   {
    "duration": 18,
    "start_time": "2022-05-19T20:29:35.983Z"
   },
   {
    "duration": 30,
    "start_time": "2022-05-19T20:30:11.056Z"
   },
   {
    "duration": 26,
    "start_time": "2022-05-19T20:30:30.785Z"
   },
   {
    "duration": 26,
    "start_time": "2022-05-19T20:30:45.152Z"
   },
   {
    "duration": 27,
    "start_time": "2022-05-19T20:35:56.468Z"
   },
   {
    "duration": 26,
    "start_time": "2022-05-19T20:36:07.908Z"
   },
   {
    "duration": 29,
    "start_time": "2022-05-19T20:36:28.317Z"
   },
   {
    "duration": 29,
    "start_time": "2022-05-19T20:36:38.307Z"
   },
   {
    "duration": 5,
    "start_time": "2022-05-19T20:37:30.344Z"
   },
   {
    "duration": 18,
    "start_time": "2022-05-19T20:38:59.718Z"
   },
   {
    "duration": 19,
    "start_time": "2022-05-19T20:40:12.630Z"
   },
   {
    "duration": 13,
    "start_time": "2022-05-19T20:40:35.322Z"
   },
   {
    "duration": 16,
    "start_time": "2022-05-19T20:41:55.733Z"
   },
   {
    "duration": 8,
    "start_time": "2022-05-19T20:42:13.200Z"
   },
   {
    "duration": 12,
    "start_time": "2022-05-19T20:42:18.309Z"
   },
   {
    "duration": 11,
    "start_time": "2022-05-19T20:44:17.151Z"
   },
   {
    "duration": 46,
    "start_time": "2022-05-19T20:48:45.421Z"
   },
   {
    "duration": 39,
    "start_time": "2022-05-19T20:48:48.064Z"
   },
   {
    "duration": 11,
    "start_time": "2022-05-19T20:50:33.809Z"
   },
   {
    "duration": 55,
    "start_time": "2022-05-19T20:50:36.193Z"
   },
   {
    "duration": 15,
    "start_time": "2022-05-19T20:50:48.588Z"
   },
   {
    "duration": 64,
    "start_time": "2022-05-19T20:50:55.068Z"
   },
   {
    "duration": 24,
    "start_time": "2022-05-19T20:51:29.373Z"
   },
   {
    "duration": 34,
    "start_time": "2022-05-19T20:51:39.017Z"
   },
   {
    "duration": 11,
    "start_time": "2022-05-19T20:51:50.151Z"
   },
   {
    "duration": 4,
    "start_time": "2022-05-19T20:58:22.194Z"
   },
   {
    "duration": 4,
    "start_time": "2022-05-19T21:00:32.518Z"
   },
   {
    "duration": 19,
    "start_time": "2022-05-19T21:04:26.542Z"
   },
   {
    "duration": 3,
    "start_time": "2022-05-19T21:04:34.720Z"
   },
   {
    "duration": 18,
    "start_time": "2022-05-19T21:04:35.687Z"
   },
   {
    "duration": 17,
    "start_time": "2022-05-19T21:04:35.888Z"
   },
   {
    "duration": 13,
    "start_time": "2022-05-19T21:04:36.117Z"
   },
   {
    "duration": 14,
    "start_time": "2022-05-19T21:04:36.353Z"
   },
   {
    "duration": 16,
    "start_time": "2022-05-19T21:04:36.528Z"
   },
   {
    "duration": 16,
    "start_time": "2022-05-19T21:04:36.729Z"
   },
   {
    "duration": 71,
    "start_time": "2022-05-19T21:04:37.108Z"
   },
   {
    "duration": 13,
    "start_time": "2022-05-19T21:04:38.238Z"
   },
   {
    "duration": 11,
    "start_time": "2022-05-19T21:04:38.477Z"
   },
   {
    "duration": 4,
    "start_time": "2022-05-19T21:04:38.984Z"
   },
   {
    "duration": 22,
    "start_time": "2022-05-19T21:04:39.398Z"
   },
   {
    "duration": 15,
    "start_time": "2022-05-19T21:04:39.607Z"
   },
   {
    "duration": 16,
    "start_time": "2022-05-19T21:04:39.839Z"
   },
   {
    "duration": 10,
    "start_time": "2022-05-19T21:04:40.059Z"
   },
   {
    "duration": 50,
    "start_time": "2022-05-19T21:04:43.826Z"
   },
   {
    "duration": 11,
    "start_time": "2022-05-19T21:04:46.698Z"
   },
   {
    "duration": 32,
    "start_time": "2022-05-19T21:04:47.477Z"
   },
   {
    "duration": 10,
    "start_time": "2022-05-19T21:04:48.868Z"
   },
   {
    "duration": 21,
    "start_time": "2022-05-19T21:05:40.646Z"
   },
   {
    "duration": 35,
    "start_time": "2022-05-19T21:05:47.642Z"
   },
   {
    "duration": 26,
    "start_time": "2022-05-19T21:06:12.237Z"
   },
   {
    "duration": 52,
    "start_time": "2022-05-19T21:06:17.117Z"
   },
   {
    "duration": 11,
    "start_time": "2022-05-19T21:06:18.188Z"
   },
   {
    "duration": 22,
    "start_time": "2022-05-19T21:06:33.355Z"
   },
   {
    "duration": 35,
    "start_time": "2022-05-19T21:06:41.567Z"
   },
   {
    "duration": 23,
    "start_time": "2022-05-19T21:06:45.525Z"
   },
   {
    "duration": 20,
    "start_time": "2022-05-19T21:07:11.279Z"
   },
   {
    "duration": 26,
    "start_time": "2022-05-19T21:07:57.937Z"
   },
   {
    "duration": 49,
    "start_time": "2022-05-19T21:08:59.020Z"
   },
   {
    "duration": 11,
    "start_time": "2022-05-19T21:09:04.496Z"
   },
   {
    "duration": 11,
    "start_time": "2022-05-19T21:09:11.978Z"
   },
   {
    "duration": 47,
    "start_time": "2022-05-19T21:09:47.637Z"
   },
   {
    "duration": 10,
    "start_time": "2022-05-19T21:09:50.810Z"
   },
   {
    "duration": 29,
    "start_time": "2022-05-19T21:09:57.312Z"
   },
   {
    "duration": 10,
    "start_time": "2022-05-19T21:09:59.241Z"
   },
   {
    "duration": 52,
    "start_time": "2022-05-19T21:10:12.387Z"
   },
   {
    "duration": 11,
    "start_time": "2022-05-19T21:10:14.717Z"
   },
   {
    "duration": 53,
    "start_time": "2022-05-19T21:10:54.350Z"
   },
   {
    "duration": 10,
    "start_time": "2022-05-19T21:10:57.627Z"
   },
   {
    "duration": 57,
    "start_time": "2022-05-19T21:11:04.243Z"
   },
   {
    "duration": 11,
    "start_time": "2022-05-19T21:11:05.026Z"
   },
   {
    "duration": 12,
    "start_time": "2022-05-19T21:11:40.692Z"
   },
   {
    "duration": 12,
    "start_time": "2022-05-19T21:13:04.491Z"
   },
   {
    "duration": 31,
    "start_time": "2022-05-19T21:15:07.029Z"
   },
   {
    "duration": 8,
    "start_time": "2022-05-19T21:15:09.042Z"
   },
   {
    "duration": 33,
    "start_time": "2022-05-19T21:15:45.990Z"
   },
   {
    "duration": 5,
    "start_time": "2022-05-19T21:15:53.460Z"
   },
   {
    "duration": 9,
    "start_time": "2022-05-19T21:15:54.366Z"
   },
   {
    "duration": 5,
    "start_time": "2022-05-19T21:16:12.299Z"
   },
   {
    "duration": 8,
    "start_time": "2022-05-19T21:16:13.860Z"
   },
   {
    "duration": 4,
    "start_time": "2022-05-19T21:16:24.461Z"
   },
   {
    "duration": 8,
    "start_time": "2022-05-19T21:16:25.570Z"
   },
   {
    "duration": 6,
    "start_time": "2022-05-19T21:16:41.798Z"
   },
   {
    "duration": 7,
    "start_time": "2022-05-19T21:16:44.140Z"
   },
   {
    "duration": 2,
    "start_time": "2022-05-19T21:16:52.379Z"
   },
   {
    "duration": 163,
    "start_time": "2022-05-19T21:16:52.788Z"
   },
   {
    "duration": 12,
    "start_time": "2022-05-19T21:16:53.126Z"
   },
   {
    "duration": 5,
    "start_time": "2022-05-19T21:16:53.807Z"
   },
   {
    "duration": 4,
    "start_time": "2022-05-19T21:16:54.947Z"
   },
   {
    "duration": 8,
    "start_time": "2022-05-19T21:16:55.318Z"
   },
   {
    "duration": 4,
    "start_time": "2022-05-19T21:16:55.701Z"
   },
   {
    "duration": 23,
    "start_time": "2022-05-19T21:16:56.277Z"
   },
   {
    "duration": 18,
    "start_time": "2022-05-19T21:16:56.827Z"
   },
   {
    "duration": 24,
    "start_time": "2022-05-19T21:16:57.166Z"
   },
   {
    "duration": 64,
    "start_time": "2022-05-19T21:16:57.799Z"
   },
   {
    "duration": 69,
    "start_time": "2022-05-19T21:16:58.238Z"
   },
   {
    "duration": 60,
    "start_time": "2022-05-19T21:16:58.606Z"
   },
   {
    "duration": 48,
    "start_time": "2022-05-19T21:16:59.177Z"
   },
   {
    "duration": 3,
    "start_time": "2022-05-19T21:16:59.576Z"
   },
   {
    "duration": 11,
    "start_time": "2022-05-19T21:16:59.917Z"
   },
   {
    "duration": 8,
    "start_time": "2022-05-19T21:17:00.318Z"
   },
   {
    "duration": 14,
    "start_time": "2022-05-19T21:17:02.147Z"
   },
   {
    "duration": 13,
    "start_time": "2022-05-19T21:17:02.549Z"
   },
   {
    "duration": 4,
    "start_time": "2022-05-19T21:17:03.208Z"
   },
   {
    "duration": 3,
    "start_time": "2022-05-19T21:17:03.416Z"
   },
   {
    "duration": 17,
    "start_time": "2022-05-19T21:17:03.936Z"
   },
   {
    "duration": 15,
    "start_time": "2022-05-19T21:17:04.381Z"
   },
   {
    "duration": 15,
    "start_time": "2022-05-19T21:17:04.758Z"
   },
   {
    "duration": 17,
    "start_time": "2022-05-19T21:17:05.048Z"
   },
   {
    "duration": 16,
    "start_time": "2022-05-19T21:17:05.279Z"
   },
   {
    "duration": 15,
    "start_time": "2022-05-19T21:17:05.569Z"
   },
   {
    "duration": 70,
    "start_time": "2022-05-19T21:17:06.316Z"
   },
   {
    "duration": 13,
    "start_time": "2022-05-19T21:17:08.028Z"
   },
   {
    "duration": 13,
    "start_time": "2022-05-19T21:17:08.358Z"
   },
   {
    "duration": 5,
    "start_time": "2022-05-19T21:17:09.148Z"
   },
   {
    "duration": 20,
    "start_time": "2022-05-19T21:17:11.937Z"
   },
   {
    "duration": 13,
    "start_time": "2022-05-19T21:17:12.340Z"
   },
   {
    "duration": 18,
    "start_time": "2022-05-19T21:17:12.926Z"
   },
   {
    "duration": 11,
    "start_time": "2022-05-19T21:17:13.571Z"
   },
   {
    "duration": 54,
    "start_time": "2022-05-19T21:17:21.444Z"
   },
   {
    "duration": 10,
    "start_time": "2022-05-19T21:17:23.326Z"
   },
   {
    "duration": 30,
    "start_time": "2022-05-19T21:17:29.491Z"
   },
   {
    "duration": 8,
    "start_time": "2022-05-19T21:17:30.397Z"
   },
   {
    "duration": 4,
    "start_time": "2022-05-19T21:17:42.221Z"
   },
   {
    "duration": 9,
    "start_time": "2022-05-19T21:17:43.517Z"
   },
   {
    "duration": 5,
    "start_time": "2022-05-19T21:17:50.594Z"
   },
   {
    "duration": 10,
    "start_time": "2022-05-19T21:17:51.295Z"
   },
   {
    "duration": 5,
    "start_time": "2022-05-19T21:18:04.130Z"
   },
   {
    "duration": 9,
    "start_time": "2022-05-19T21:18:05.257Z"
   },
   {
    "duration": 4,
    "start_time": "2022-05-19T21:18:10.660Z"
   },
   {
    "duration": 8,
    "start_time": "2022-05-19T21:18:11.345Z"
   },
   {
    "duration": 5,
    "start_time": "2022-05-19T21:18:22.077Z"
   },
   {
    "duration": 9,
    "start_time": "2022-05-19T21:18:22.757Z"
   },
   {
    "duration": 14,
    "start_time": "2022-05-19T21:18:34.879Z"
   },
   {
    "duration": 11,
    "start_time": "2022-05-19T21:18:35.199Z"
   },
   {
    "duration": 5,
    "start_time": "2022-05-19T21:18:35.539Z"
   },
   {
    "duration": 19,
    "start_time": "2022-05-19T21:18:36.195Z"
   },
   {
    "duration": 13,
    "start_time": "2022-05-19T21:18:36.509Z"
   },
   {
    "duration": 16,
    "start_time": "2022-05-19T21:18:37.807Z"
   },
   {
    "duration": 12,
    "start_time": "2022-05-19T21:18:38.246Z"
   },
   {
    "duration": 30,
    "start_time": "2022-05-19T21:18:42.374Z"
   },
   {
    "duration": 9,
    "start_time": "2022-05-19T21:18:43.216Z"
   },
   {
    "duration": 11,
    "start_time": "2022-05-19T21:21:13.923Z"
   },
   {
    "duration": 5,
    "start_time": "2022-05-19T21:21:21.261Z"
   },
   {
    "duration": 5,
    "start_time": "2022-05-19T21:21:22.331Z"
   },
   {
    "duration": 5,
    "start_time": "2022-05-19T21:21:31.345Z"
   },
   {
    "duration": 6,
    "start_time": "2022-05-19T21:21:32.304Z"
   },
   {
    "duration": 14,
    "start_time": "2022-05-19T21:21:54.309Z"
   },
   {
    "duration": 42,
    "start_time": "2022-05-19T21:22:03.384Z"
   },
   {
    "duration": 42,
    "start_time": "2022-05-19T21:23:44.061Z"
   },
   {
    "duration": 4,
    "start_time": "2022-05-19T21:23:45.937Z"
   },
   {
    "duration": 5,
    "start_time": "2022-05-19T21:23:54.089Z"
   },
   {
    "duration": 7,
    "start_time": "2022-05-19T21:23:55.210Z"
   },
   {
    "duration": 12,
    "start_time": "2022-05-19T21:24:15.046Z"
   },
   {
    "duration": 10,
    "start_time": "2022-05-19T21:24:15.529Z"
   },
   {
    "duration": 5,
    "start_time": "2022-05-19T21:24:15.923Z"
   },
   {
    "duration": 22,
    "start_time": "2022-05-19T21:24:16.463Z"
   },
   {
    "duration": 14,
    "start_time": "2022-05-19T21:24:16.488Z"
   },
   {
    "duration": 18,
    "start_time": "2022-05-19T21:24:16.661Z"
   },
   {
    "duration": 13,
    "start_time": "2022-05-19T21:24:16.869Z"
   },
   {
    "duration": 31,
    "start_time": "2022-05-19T21:24:17.988Z"
   },
   {
    "duration": 11,
    "start_time": "2022-05-19T21:24:18.374Z"
   },
   {
    "duration": 24,
    "start_time": "2022-05-19T21:24:19.518Z"
   },
   {
    "duration": 11,
    "start_time": "2022-05-19T21:24:20.099Z"
   },
   {
    "duration": 45,
    "start_time": "2022-05-20T04:51:20.330Z"
   }
  ],
  "colab": {
   "collapsed_sections": [
    "E0vqbgi9ay0H",
    "VUC88oWjTJw2",
    "atZAxtq4_Zcu"
   ],
   "name": "EmptyFinalProject.ipynb\"",
   "provenance": []
  },
  "kernelspec": {
   "display_name": "Python 3 (ipykernel)",
   "language": "python",
   "name": "python3"
  },
  "language_info": {
   "codemirror_mode": {
    "name": "ipython",
    "version": 3
   },
   "file_extension": ".py",
   "mimetype": "text/x-python",
   "name": "python",
   "nbconvert_exporter": "python",
   "pygments_lexer": "ipython3",
   "version": "3.9.5"
  },
  "toc": {
   "base_numbering": 1,
   "nav_menu": {},
   "number_sections": true,
   "sideBar": true,
   "skip_h1_title": true,
   "title_cell": "Table of Contents",
   "title_sidebar": "Contents",
   "toc_cell": false,
   "toc_position": {},
   "toc_section_display": true,
   "toc_window_display": false
  }
 },
 "nbformat": 4,
 "nbformat_minor": 4
}
